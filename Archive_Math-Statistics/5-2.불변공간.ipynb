{
 "cells": [
  {
   "cell_type": "markdown",
   "source": "# 5-2. 불변공간\n\n## 3. $T$-불변공간 $T-invariant\\,\\,subspace$란 무엇인가?\n\n- 조건\n    - 벡터공간 $V$에 선형연산자 $T$가 있다고 하자.\n    - 부분공간 $W \\subseteq V$가  $T(W) \\subseteq W$ 의 성질을 가진다고 하자\n- 정의\n    - $W$를 $V$의 $T-$불변공간이라 부른다\n- $T$-순한 부분공간\n    - 조건\n        - 벡터공간 $V$와 그 선형연산자 $T$, $non-zero$ 벡터 $v \\in V$가 있다고 하자\n        - 다음과 같이 형성된 부분공간 $W$가 있다고 하자\n            - $W=span(\\{x,T(x),T^2(x),...\\})$\n    - 정의\n        - $W$를 $x$에 의해 생성된 $T$-순환 부분공간이라고 부른다\n- 정의역을 $W$로 제한$restriction$한 함수\n    - 조건\n        - 벡터공간 $V$와 선형연산자 $T$, $T$-불변공간 $W$가 있다고 하자\n    - 정의\n        - $T_W$를 기존 선형연산자 $T$에서 정의역과 공역 모두 $W$로 제한하는 것으로 정의하자\n- 이에 따라오는 성질들\n    - $T$- 부분공간과 특성다항식\n        - 조건\n            - 유한차원 벡터공간 $V$와 선형연산자 $T$, $T$-불변공간 $W$가 있다고 하자\n        - 결과\n            - $T_W$의 특성다항식은 $T$의 특성다항식을 나눈다\n    - $T$-순환 부분공간의 특성\n        - 조건\n            - 유한차원 벡터공간 $V$와 선형연산자 $T$가 있다고 하자\n            - $non-zero$ 벡터 $v \\in V$에 의해 생성된 $T$-순환 부분공간 $W$가 있다고 하자\n            - $dim(W)=k$라 하자\n        - 결과\n            - $\\{v,T(v),T^2(v),...,T^{k-1}(v)\\}$는 $W$의 기저이다\n            - $\\sum_{j=0}^{k-1}a_jT^j(v)+T^k(v)=0$  이면 $T_W$의 특성다항식은 $T_W$의 특성다항식은 $f(t)=(-1)^k(a_0+a_1t+...+a_{k-1}t^{k-1}+t^k)$이다\n        - 증명\n            - 1)\n                - $\\beta=\\{v,T(v),T^2(v),...,T^{j-1}(v)\\}$가 일차독립을 만족시키는 되도록 가장 큰 수 $j$를 택한다고 하자 $V$는 유한차원이므로 이러한 $j$는 반드시 존재한다\n                - $T^j(v)$는 $\\beta$와 일차종속이므로 $T^j(v) \\in span(\\beta)$이다\n                - 임의의 원소 $w \\in span(\\beta)$를 택한다고 하자.\n                - $w=\\sum_{i=0}^{j-1}a_iT^i(v)$로 표현할 수 있다.\n                - $T(w)=\\sum_{i=0}^{j-1}a_iT^{i+1}(v) \\in span(\\beta)$이다\n                - 즉 $span(\\beta)$ 는 $T$- 불변공간이며 $v \\in span(\\beta)$이다\n                - $v$를 포함하는 가장 작은 $T$-불변 부분공간은 $v$에 의해 생성된 $T$-순환 부분공간이므로 $W\\subseteq span(\\beta)$  이다\n                - 그런데 $\\beta \\subseteq W$이므로 $span(\\beta)\\subseteq W$이므로\n                - $W=span(\\beta)$이다\n            - 2)\n                - $0\\le j \\le k-2$ 의 경우\n                    - $[T(T^j(v))]_\\beta=[T^{j+1}(v)]_\\beta=e^{j+2}$ 이고\n                    - $[T]_\\beta[T^j(v)]_\\beta=[T]_\\beta e^{j+1}=$ $e^{j+2}$\n                    - $col_{j+1}([T]_\\beta)=e^{j+2}$\n                - $j=k-1$ 인경우\n                    - $[T(T^{k-1}(v))]_\\beta=[T^k(v)]_\\beta=-\\sum_{i=0}^{k-1}[a_iT^i(v)]_\\beta=-\\sum_{i=0}^{k-1}a_ie^{i+1}$\n                - 종합하면 $[T_W]_\\beta=\\begin{pmatrix}  0& 0&\\cdots&0&-a_0\\\\1&0&\\cdots&0&-a_1\\\\\\cdots&\\cdots&&\\cdots&\\cdots\\\\0&0&\\cdots&1&-a_{k-1}\\end{pmatrix}$이다\n                - 연습문제 19에 따르면( 이 과정은 생략하였음)\n                - $f(t)=(-1)^k (a_0+a_1t+...+a_{k-1}t^{k-1}+t^k)$\n                \n\n## 4. 케일리-해밀턴 정리 $Cayley-Hamilton\\,\\,theorem$\n\n- 조건\n    - 유한차원 벡터공간 $V$와 $V$에 정의된 선형연산자 $T$, $T$의 특성다항식 $f(t)$가 있다고 하자\n- 정리\n    - $f(T)=T_0$(영변환) 즉 $T$는 특성다항식을 만족한다\n- 증명\n    - 모든 $v \\in V$에 대하여 $f(T)=0$임을 보여야 한다\n        - $v=0$ 이면 $f(0)=0$ 이다\n        - $v\\ne 0$ 인 경우를 살펴보자\n            - $W$를 $v$에 의해 생성된 $T$- 부분 순환공간이라고 하고 $dimW=k$라 하자\n            - $T^k(v) \\in W$ 이므로 위의 정리(1)에 따라 $\\sum_{i=0}^{k-1}a_iT^i (v)+T^k(v)=0$을 만족하는 $a_j \\in F$가 존재한다\n            - 위의 정리(2)에 따라 이 $T_W$의 특성다항식은 $g(t)=(-1)^k(\\sum_{i=0}^{k-1}a_it^i+t^k)=0$ 이다. 변수 $t$의 자리에 선형변환 $T$를 대입하면\n            - $g(T)(v)=(-1)^k(\\sum_{i=0}^{k-1}a_iT^i+T^k)(v)=0$ 가 된다\n            - $T_W$의 특성다항식은 $T$의 특성다항식을 나누어 $f(t)=g(t)h(t)$꼴로 만드는 특성이 있으므로( $f(t),g(t),h(t)$는 각각 $T,T_W$의 특성방정식, 나머지 $t$의 함수)\n            - $f(T)(v)=g(T)h(T)(v)=h(T)(g(T)(v))=h(T)(0)=0$\n            - 모든 $v \\in V$에 대해 $f(T)(v)=0$이므로 $f(T)=T_0$이다\n    - 따름정리\n        - $\\textbf{A} \\in \\textbf{M}_{n\\times n}(F)$의 특성다항식 $f(t)$에 대하여 $f(\\textbf{A})=\\textbf{O}$이다",
   "metadata": {
    "cell_id": "db56b5aebf8b44b8b2c6c1971d5c220f",
    "tags": [],
    "deepnote_cell_type": "markdown",
    "deepnote_cell_height": 4086.296875
   }
  },
  {
   "cell_type": "markdown",
   "source": "",
   "metadata": {
    "cell_id": "f1b0b1b2626b4cb492b10159f0354fbd",
    "tags": [],
    "owner_user_id": "6620e961-4734-4451-b6f0-024902f1a0c6",
    "deepnote_cell_type": "markdown"
   }
  },
  {
   "cell_type": "markdown",
   "source": "<a style='text-decoration:none;line-height:16px;display:flex;color:#5B5B62;padding:10px;justify-content:end;' href='https://deepnote.com?utm_source=created-in-deepnote-cell&projectId=0ce078a3-061d-4a54-995d-868be1666429' target=\"_blank\">\n<img alt='Created in deepnote.com' style='display:inline;max-height:16px;margin:0px;margin-right:7.5px;' src='data:image/svg+xml;base64,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' > </img>\nCreated in <span style='font-weight:600;margin-left:4px;'>Deepnote</span></a>",
   "metadata": {
    "tags": [],
    "created_in_deepnote_cell": true,
    "deepnote_cell_type": "markdown"
   }
  }
 ],
 "nbformat": 4,
 "nbformat_minor": 2,
 "metadata": {
  "orig_nbformat": 2,
  "deepnote": {},
  "deepnote_notebook_id": "410ce681-869a-4413-b5de-5409309010e2",
  "deepnote_execution_queue": []
 }
}