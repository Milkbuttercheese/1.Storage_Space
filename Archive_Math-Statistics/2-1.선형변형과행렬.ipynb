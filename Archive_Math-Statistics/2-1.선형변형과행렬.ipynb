{
 "cells": [
  {
   "cell_type": "markdown",
   "source": "# 2-1. 선형변환과 행렬\n\n## 1. 선형변환$linear\\,\\,transform$ 이란?\n\n- 조건\n\t- $F$-벡터공간 $V,W$가 있다 하자. 모든 $x,y, \\in V$, $c \\in F$에 대하여 다음을 만족시키는  함수 $T:V\\rightarrow W$를 선형변환이라고 한다\n- 정의\n\t- $T(x+y)=T(x)+T(y)$\n\t- $T(cx)=cT(x)$\n- 이에 따라오는 성질들\n- $T(0)=0$\n- $T$가 선형이기 위한 필요충분조건은 $T(cx+y)=cT(x)+T(y)$이다\n $T(\\sum_{i=1}^{n}a_i x_i)=\\sum_{i=1}^{n}a_iT(x_i)$\n\n### 1-1. 용어들\n\n- 변환\n    - 항등변환 $identitiy\\,\\,transformation$: $I_V:V\\rightarrow V$는 모든 $x \\in V$에 대해 $I_V(x)=x$\n    - 영변환 $zero\\,\\,transformation$ : $T_0:V\\rightarrow W$는 모든 $x \\in W$에 대해 $T_0(x)=0$\n- 공간\n    - 벡터공간 $V,W$와 선형변환 $T:V\\rightarrow W$에 대하여\n    - 영공간 $null\\,\\,space/kernal$ | $N(T)=\\{x \\in V: T(x)=0 \\}$\n    - 상공간   $range/image$          | $R(T)=\\{T(x):x\\in V\\}$\n\n## 2. 차원정리 $dimension\\,\\,theorem$\n\n- 조건\n    - 벡터공간 $V,W$ 선형변환 $T:V\\rightarrow W$가 있다고 하자.\n    - $V$는 유한차원이라 하자\n- 결과\n    - $dim(V)=rank(T)+nullity(T)$\n- 증명\n    \n    [차원 정리 증명](2-1%20%E1%84%89%E1%85%A5%E1%86%AB%E1%84%92%E1%85%A7%E1%86%BC%E1%84%87%E1%85%A7%E1%86%AB%E1%84%92%E1%85%AA%E1%86%AB%E1%84%80%E1%85%AA%20%E1%84%92%E1%85%A2%E1%86%BC%E1%84%85%E1%85%A7%E1%86%AF%201d6d950e720241ca8a01dab34f2b4571/%E1%84%8E%E1%85%A1%E1%84%8B%E1%85%AF%E1%86%AB%20%E1%84%8C%E1%85%A5%E1%86%BC%E1%84%85%E1%85%B5%20%E1%84%8C%E1%85%B3%E1%86%BC%E1%84%86%E1%85%A7%E1%86%BC%204e5569915f674b29a9458c1a26519c09.md)\n    \n\n### 2-1. 전단사 $bijection$\n\n- 정의\n    - 전사$surjection/onto$ | 공역$codomain$(함수에서 대응되는 쪽의 집합)과 치역$range$(함숫값의 집합)이 같다\n    - 단사 $injection/one-to-one$ | 정의역의 서로다른 원소를 공역의 서로 다른 원소에 대응시킨다\n    - 전단사 $bijection$| 전사이면서 단사인 함수\n- 벡터공간 $V,W$, 선형변환 $T:V\\rightarrow W$의 경우 다음이 성립한다\n    - $T$가 단사함수이다는 $N(T)=\\{0\\}$과 필요충분조건이다\n- 벡터공간 $V,W$이 차원이 같을 때 $T:V\\rightarrow W$의 다음 세 명제는 동치이다\n    - $T$는 단사이다\n    - $T$는 전사이다\n    - $dim(V)=rank(T)$\n    \n\n## 3.선형변환을 행렬$\\cdot$튜플곱 표현하기\n\n- 좌표벡터 $coordinate\\,\\,vector$\n    - 조건\n        - 유한차원 벡터공간 $V$의 순서기저(순서를 고려하는 기저) $\\beta=\\{v_1,v_2,...,v_n\\}$이라 한다\n        - $x \\in V$에 대해 $a_1,a_2,...,a_n \\in F$는 $x=\\sum_{i=1}^{n}a_iv_i$를 만족시키는 유일한 스칼라라 하자\n    - 정의\n        - $\\beta$에 대한 $x$의 좌표벡터는 다음과 같이 정의된다\n    \n    $\\,\\,\\,\\,\\,\\,\\,\\,\\,\\,\\,\\,\\,\\,[x]_{\\beta}= \\begin{pmatrix} a_1\\\\a_2\\\\...\\\\\\\\a_n\\end{pmatrix}$\n    \n- 행렬표현 $matrix\\,\\,representation$\n    - 조건\n        - 유한차원 벡터공간 $V$가 있고 그 순서기저가 $\\beta=\\{v_1,v_2,...,v_n\\}$이라 하자\n        - 유한차원 벡터공간 $W$가 있고 그 순서기저가 $\\gamma=\\{w_1,w_2,...,w_m\\}$이라 하자\n        - 선형변환 $T:V\\rightarrow W$가 있다고 하자\n    - 중간결과\n        - $T(v_j)=\\sum_{i=1}^{m}a_{ij}w_i$를 만족시키는 스칼라 $a_{ij},\\,\\,\\,j=1,2,...,n$ 는 존재한다\n    - 조건2\n        - $m \\times n$행렬 ${A}$과 $n\\times1$ 튜플 $b$ 의 곱을 다음과 같이 정의하자\n            - $[{A}b]_{i}=\\sum_{k=1}^{n}A_{ik}b_{k}$\n        - $[T]_{\\beta}^{\\gamma}$를 순서기저 $\\beta$와 $\\gamma$에 대한 선형변환 $T$의 행렬변환이라 하고 다음과 같이 정의하자\n            - $([T]_{\\beta}^{\\gamma})_{ij}=a_{ij}$\n    - 최종결과\n        - $[T(v_j)]_{\\gamma}=[T]_{\\beta}^{\\gamma}[v_j]_{\\beta}$ 로 표현할 수 있다\n            - $pf. \\,\\,[T]_{\\beta}^{\\gamma}[v_j]_{\\beta}=[T]_{\\beta}^{\\gamma}e_j= col_j([T]_{\\beta}^{\\gamma})=([T]_{\\beta}^{\\gamma})_{ij}e_i=([T]_{\\beta}^{\\gamma})_{ij}[w_i]_{\\gamma}=[a_{ij}w_i]_{\\gamma}=[T(v_j)]_{\\gamma}$\n            \n\n### 3-1 함수의 합/ 스칼라곱 정의\n\n- 조건\n    - $F$-벡터공간 $V,W$가 있다 하자. 그리고 임의의 함수 $T,U: V\\rightarrow W$, 스칼라 $a\\in F$가 있다 하자 .함수의 합과 스칼라곱은 다음과 같이 정의한다\n- 정의\n    - 합 | 모든  $x\\in V$에 대해 $(T+U)(x)=T(x)+U(x)$\n    - 스칼라 곱 | 모든 $x \\in V$에 대해 ($aT)(x)=aT(x)$\n- 이에 따라오는 성질\n    - $(aT+U)$는 선형이다\n    - $[T+U]_{\\beta}^{\\gamma}=[T]_{\\beta}^{\\gamma}+[U]_{\\beta}^{\\gamma}$\n    - $[aT]_{\\beta}^{\\gamma}=a[T]_{\\beta}^{\\gamma}$\n        - $pf. \\,\\, T(v_j)= ([T]_{\\beta}^{\\gamma})_{ij}w_i ,\\,\\,(aU)(v_j)=a([U]_{\\beta}^{\\gamma})_{ij}w_i$\n        - $(T+aU)(v_j)=(([T]_{\\beta}^{\\gamma})_{ij}+a([U]_{\\beta}^{\\gamma})_{ij})w_i$\n        - $[T+aU]_{\\beta}^{\\gamma}[v_j]_{\\beta}=(([T]_{\\beta}^{\\gamma})_{ij}+a([U]_{\\beta}^{\\gamma})_{ij})[w_i]_{\\gamma}$\n        - $col_j([T+aU]_{\\beta}^{\\gamma})=$ $col_j([T]_{\\beta}^{\\gamma})+a\\cdot col_j([U]_{\\beta}^{\\gamma})$\n        - $[T+aU]_{\\beta}^{\\gamma}=[T]_{\\beta}^{\\gamma}+a[U]_{\\beta}^{\\gamma}$",
   "metadata": {
    "cell_id": "afe7e7b630464f16be1ab82d47eee7f9",
    "tags": [],
    "deepnote_cell_type": "markdown",
    "deepnote_cell_height": 4857.609375
   }
  },
  {
   "cell_type": "markdown",
   "source": "",
   "metadata": {
    "cell_id": "9daed982d9ea4e99af61293260fd97f6",
    "tags": [],
    "owner_user_id": "6620e961-4734-4451-b6f0-024902f1a0c6",
    "deepnote_cell_type": "markdown",
    "deepnote_cell_height": 46
   }
  },
  {
   "cell_type": "markdown",
   "source": "<a style='text-decoration:none;line-height:16px;display:flex;color:#5B5B62;padding:10px;justify-content:end;' href='https://deepnote.com?utm_source=created-in-deepnote-cell&projectId=0ce078a3-061d-4a54-995d-868be1666429' target=\"_blank\">\n<img alt='Created in deepnote.com' style='display:inline;max-height:16px;margin:0px;margin-right:7.5px;' src='data:image/svg+xml;base64,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' > </img>\nCreated in <span style='font-weight:600;margin-left:4px;'>Deepnote</span></a>",
   "metadata": {
    "tags": [],
    "created_in_deepnote_cell": true,
    "deepnote_cell_type": "markdown"
   }
  }
 ],
 "nbformat": 4,
 "nbformat_minor": 2,
 "metadata": {
  "orig_nbformat": 2,
  "deepnote": {},
  "deepnote_notebook_id": "f03f5880-edd9-4659-92e5-21774823b02f",
  "deepnote_execution_queue": []
 }
}