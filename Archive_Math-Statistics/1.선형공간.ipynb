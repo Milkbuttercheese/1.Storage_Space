{
 "cells": [
  {
   "cell_type": "markdown",
   "source": "# 1. 벡터 공간\n\n## 1. 벡터 공간 $vector\\,\\,space$란?\n- 체 $F$에서 다음 8가지 조건을 만족시키는 두 연산(합,스칼라곱)을 가지는 집합 $V$\n - 합 $sum\\,\\,|x,y\\in V\\,\\,$에 대하여 유일한 원소  $x+y \\in V$ 를 대응시키는 연산 \n - 스칼라곱 $scalar\\,\\,multiplication\\,\\,|$ $a \\in F,\\,x\\in V$ 에 대해 유일한 원소 $\\,\\,ax \\in V$를 대응시키는 연산\n -  조건\n\t1. 덧셈의 교환법칙      | 모든 $x,y \\in V$에 대해 $x+y=y+x$ 이다\n\t2. 덧셈의 결합법칙      | 모든 $x,y,z \\in V$에 대해 $(x+y)+z=x+(y+z)$\n\t3. 덧셈의 항등원 존재 | 모든 $x \\in V$에 대해 $x+0=x$인 $0 \\in V$가 존재\n\t4. 덧셈의 역원 존재     | 모든 $x\\in V$에 대해 $x+y=0$인 $y \\in V$가 존재 \n\t5. 스칼라곱 항등원   | 모든 $x \\in V$에 대해 $1x=x$이다\n\t6. 조건 6                   | 모든 $a,b\\in F$와 모든 $x \\in V$에 대해 $(ab)x=a(bx)$이다\n\t7. 조건 7                   | 모든 $a\\in F$와 모든 $x,y \\in V$에 대해 $a(x+y)=ax+ay$이다\n\t8. 조건 8                   | 모든 $a,b \\in F$와 모든$x \\in V$에 대해 $(a+b)x=ax+bx$이다\n    \n\t\n\n### 1-1. 용어\n\n- 체 $F$: 덧셈/뺄셈/나눗셈/곱셈의 사칙연산을 집합안에서 소화할 수 있는 집합\n    - 예: 유리수체/ 실수체/ 복소수체\n- 벡터: 벡터공간 $V$의 원소\n- 튜플: 체의 원소를 순서대로 1차원으로 나열한 묶음\n    - 표기: $(x_1,x_2,...,x_n),\\,\\,where\\,\\,x_1,x_2,...,x_n\\in F$\n    - $n-tuple$이라 칭한다\n- 행렬: 체의 원소를 순서대로 2차원으로 나열한 묶음\n    - 표기: $\\begin{pmatrix} a_{11} &a_{12}&...&&&a_{1n} \\\\a_{21} &a_{22} & ... &&&a_{2n}\\\\ ... \\\\ \\\\ a_{m1} & a_{m2} & ... &&& a_{mn} \\end{pmatrix}$\n    - $m\\,\\times n$행렬이라 칭한다\n\n## 2. 부분공간 $subspace$란?\n\n- 벡터공간 $V$의 부분집합 $W$가 다음의 조건을 만족시킬 때 부분공간이라 부른다\n    - 조건\n        1. $0 \\in W$\n        2.  덧셈에 닫힘 | 모든 $x,y \\in W$에 대해 $x+y  \\in W$\n        3. 스칼라곱에 닫힘 | 모든 $c \\in F$, 모든 $x \\in W$에 대해 $cx \\in W$\n        \n        ( 덧셈의 역벡터도 $W$의 원소이여야 하는 것이 조건이지만, 이는 조건 3에 의해 충족된다)\n        \n\n## 3. 기저$basis$의 두 조건\n\n- 벡터공간 $V$의 부분집합 $\\beta$이 있다고 하자 다음의 조건을 충족시킬 때 $\\beta$를 $V$의 기저라 한다\n    - $span(\\beta)=V$\n    - $\\beta$가 일차독립이다\n    \n\n### 3-1 생성공간 $span$\n\n- 벡터공간 $V$의 공집합 아닌 부분집합 $S$가 있을 때 $S$의 생성공간은 $S$의 벡터를 사용하여 만든 모든 일차결합의 집합이라 정의한다\n\t- $span(S)$라 표기한다\n\t- $span(\\oslash)= \\{0\\}$라 정의한다( 편의를 위해)\n\t- $span(S)=V$ 이면 $S$는 $V$를 생성$generate$한다고 한다\n    \n\n### 3-2 일차독립 $linearly\\,\\,independent$\n\n- 벡터공간 $V$의 부분집합 $S$에 대해 $\\sum_{j=1}^{n}a_jx_j=0$ 을 만족시키는서로 다른 벡터 $x_j \\in S$와 $a_j \\in F$가 있을 때 이중 하나라도 $0$이 아닌 값이 스칼라 $a_1,a_2,...,a_n$중에 있다면 일차 종속이라 하고 아니면 일차 독립이라 한다\n\t- $a_1,a_2,...,a_n=0$ 을 영벡터의 자명한 표현 $trivial\\,\\,representation\\,\\,of\\,\\,0$라 한다\n\t- 정리\n\t\t- $S_1\\subseteq S_2\\subseteq V$ 일때 $S_1$이 일차종속이면 $S_2$도 일차종속이다\n\t\t- $S_1\\subseteq S_2\\subseteq V$일때 $S_2$가 일차독립이면 $S_1$도 일차독립이다\n        \n\n### 3-3. 대체정리 $replacement\\,\\,theorem$\n\n- 조건\n\t- $m$개의 벡터로 이루어진 집합 $G$가 있다고 하자\n\t- $span(G)=V$\n\t- $n$개의 벡터로 이루어진 일차독립집합 $L \\subseteq V$\n- 결과\n\t- $n \\le m$\n\t- 다음과 같은 $H \\subseteq G$ 가 존재한다\n\t\t- $m-n$개의 벡터로 이루어져 있다\n\t\t- $span(L\\cup H)=V$\n- 따름정리\n\t- $V$가 $n$차원 벡터공간이라 하자\n\t\t- $G\\subseteq V,span(G)=V$ 인 $G$는 반드시 $n$개 이상의 벡터를 가지고 있다\n\t\t- 일차독립이고 $n$개의 벡터로 이루어진 $G \\subseteq V$는 $V$의 기저이다\n\t\t- 일차독립의 부분집합을 확장시켜 기저를 만들 수 있다\n\t\t\t- 부분공간 $W \\subseteq V$가 있을 때 $dim(W)=dim(V)$면 $V=W$다",
   "metadata": {
    "cell_id": "453d024bf8a4467593b19b309895cbe4",
    "tags": [],
    "deepnote_cell_type": "markdown",
    "deepnote_cell_height": 3844.703125
   }
  },
  {
   "cell_type": "markdown",
   "source": "",
   "metadata": {
    "cell_id": "f950d0b6e9d44ed984388b16d3eda8df",
    "tags": [],
    "owner_user_id": "6620e961-4734-4451-b6f0-024902f1a0c6",
    "deepnote_cell_type": "markdown",
    "deepnote_cell_height": 46
   }
  },
  {
   "cell_type": "markdown",
   "source": "<a style='text-decoration:none;line-height:16px;display:flex;color:#5B5B62;padding:10px;justify-content:end;' href='https://deepnote.com?utm_source=created-in-deepnote-cell&projectId=0ce078a3-061d-4a54-995d-868be1666429' target=\"_blank\">\n<img alt='Created in deepnote.com' style='display:inline;max-height:16px;margin:0px;margin-right:7.5px;' src='data:image/svg+xml;base64,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' > </img>\nCreated in <span style='font-weight:600;margin-left:4px;'>Deepnote</span></a>",
   "metadata": {
    "tags": [],
    "created_in_deepnote_cell": true,
    "deepnote_cell_type": "markdown"
   }
  }
 ],
 "nbformat": 4,
 "nbformat_minor": 2,
 "metadata": {
  "orig_nbformat": 2,
  "deepnote": {},
  "deepnote_notebook_id": "29460150-48b0-4bf9-b239-e0fb5a683e39",
  "deepnote_execution_queue": []
 }
}