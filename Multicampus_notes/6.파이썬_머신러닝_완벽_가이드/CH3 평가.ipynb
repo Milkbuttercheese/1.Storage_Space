{
 "cells": [
  {
   "cell_type": "code",
   "metadata": {
    "collapsed": false,
    "pycharm": {
     "name": "#%%\n"
    },
    "cell_id": "f1580ab7-a87e-4b62-9952-942d108fe355",
    "deepnote_to_be_reexecuted": false,
    "source_hash": "4badafd6",
    "execution_start": 1658408898936,
    "execution_millis": 1742,
    "deepnote_cell_type": "code",
    "deepnote_cell_height": 441
   },
   "source": "#데이터 핸들링 라이브러리\nimport numpy as np\nimport pandas as pd\n\n#통계 라이브러리\nfrom scipy import stats\n\n#머신러닝 라이브러리\nfrom sklearn.base import BaseEstimator\n#정확도 측정 함수\nfrom sklearn.metrics import accuracy_score\nfrom sklearn.model_selection import train_test_split\nfrom sklearn.linear_model import LogisticRegression\n\n#정확도 측정 함수를 모듈로 만듬\nfrom evaluate_clf import get_clf_eval,get_clf_eval2,get_eval_by_threshold\nfrom evaluate_clf import roc_curve_plot,precision_recall_curve_plot\n\n#시각화 라이브러리\nimport matplotlib.pyplot as plt\nimport seaborn as sns",
   "execution_count": 1,
   "outputs": []
  },
  {
   "cell_type": "code",
   "metadata": {
    "collapsed": false,
    "pycharm": {
     "name": "#%%\n"
    },
    "cell_id": "00001-8c05ce21-5504-4115-9b58-a956666044a0",
    "deepnote_to_be_reexecuted": false,
    "source_hash": "1b605b75",
    "execution_start": 1658408900693,
    "execution_millis": 0,
    "deepnote_cell_type": "code",
    "deepnote_cell_height": 333
   },
   "source": "#BaseEstimator: Base class for all estimators in scikit-learn.\nclass MyDummyClassifier(BaseEstimator):\n    #fit 메소드는 아무것도 학습시키지 않는다\n    def fit(self,x,y=None):\n        pass\n    # predict() 메소드는 단순히 Sex 피처가 1이면 0, 그렇지 않으면 1로 예측한다\n    def predict(self,X):\n        pred= np.zeros((X.shape[0],1))\n        for i in range(X.shape[0]):\n            if X['Sex'].iloc[i] == 1:\n                pred[i] = 0\n            else:\n                pred[i] = 1\n        return pred\n",
   "execution_count": 2,
   "outputs": []
  },
  {
   "cell_type": "code",
   "metadata": {
    "collapsed": false,
    "pycharm": {
     "name": "#%%\n"
    },
    "cell_id": "00002-91319f97-4a35-4cea-8508-7eff8bfa99f4",
    "deepnote_to_be_reexecuted": false,
    "source_hash": "9f78063c",
    "execution_start": 1658408900710,
    "execution_millis": 0,
    "deepnote_cell_type": "code",
    "deepnote_cell_height": 81
   },
   "source": "from titanic_preprocessing import preprocessing_feature",
   "execution_count": 3,
   "outputs": []
  },
  {
   "cell_type": "code",
   "metadata": {
    "collapsed": false,
    "pycharm": {
     "name": "#%%\n"
    },
    "cell_id": "00003-5bca31e3-f521-45d4-acca-d7dea5c37957",
    "deepnote_to_be_reexecuted": false,
    "source_hash": "a4e68a5b",
    "execution_start": 1658408900763,
    "execution_millis": 16,
    "deepnote_cell_type": "code",
    "deepnote_cell_height": 659
   },
   "source": "#BaseEstimator: Base class for all estimators in scikit-learn.\nclass MyDummyClassifier(BaseEstimator):\n    #fit 메소드는 아무것도 학습시키지 않는다\n    def fit(self,x,y=None):\n        pass\n    # predict() 메소드는 단순히 Sex 피처가 1이면 0, 그렇지 않으면 1로 예측한다\n    def predict(self,X):\n        pred= np.zeros((X.shape[0],1))\n        for i in range(X.shape[0]):\n            if X['Sex'].iloc[i] == 1:\n                pred[i] = 0\n            else:\n                pred[i] = 1\n        return pred\n\n#챕터 2에서 만들어둔 모듈을 가져옴\nfrom titanic_preprocessing import preprocessing_feature\n#원본 데이터를 재로딩, 데이터 가공, 학습 데이터/테스트 데이터를 분할한다\ntitanic_df =pd.read_csv('./train.csv')\ny_titanic_df= titanic_df['Survived']\nX_titanic_df = titanic_df.drop('Survived',axis=1)\nX_titanic_df= preprocessing_feature(X_titanic_df)\n\nX_train, X_test, y_train, y_test= train_test_split(X_titanic_df,y_titanic_df,test_size=0.2,random_state=0)\n\n#위의 Dummy_Classifier 모델을 이용하여 학습/예측 평가해보자\nmyclf= MyDummyClassifier()\nmyclf.fit(X_train,y_train)\n\nmypredictions= myclf.predict(X_test)\nprint(f'Dummy Classifier의 정확도는 {accuracy_score(y_test,mypredictions):.3f}')",
   "execution_count": 4,
   "outputs": [
    {
     "name": "stdout",
     "text": "Dummy Classifier의 정확도는 0.788\n",
     "output_type": "stream"
    }
   ]
  },
  {
   "cell_type": "code",
   "metadata": {
    "collapsed": false,
    "pycharm": {
     "name": "#%%\n"
    },
    "cell_id": "00004-113b92b1-0948-4df7-91b7-fb5a87cf75f5",
    "deepnote_to_be_reexecuted": false,
    "source_hash": "397f58dc",
    "execution_start": 1658408900764,
    "execution_millis": 15,
    "deepnote_cell_type": "code",
    "deepnote_cell_height": 209
   },
   "source": "#위의 Dummy_Classifier 모델을 이용하여 학습/예측 평가해보자\nmyclf= MyDummyClassifier()\nmyclf.fit(X_train,y_train)\n\nmypredictions= myclf.predict(X_test)\nprint(f'Dummy Classifier의 정확도는 {accuracy_score(y_test,mypredictions):.3f}')",
   "execution_count": 5,
   "outputs": [
    {
     "name": "stdout",
     "text": "Dummy Classifier의 정확도는 0.788\n",
     "output_type": "stream"
    }
   ]
  },
  {
   "cell_type": "code",
   "metadata": {
    "collapsed": false,
    "pycharm": {
     "name": "#%%\n"
    },
    "cell_id": "00005-521ec055-3e50-450b-9891-a9944f4bc4e6",
    "deepnote_to_be_reexecuted": false,
    "source_hash": "d97a9eb1",
    "execution_start": 1658408900803,
    "execution_millis": 94,
    "deepnote_cell_type": "code",
    "deepnote_cell_height": 846
   },
   "source": "from sklearn.datasets import load_digits\nfrom sklearn.model_selection import train_test_split\nfrom sklearn.base import BaseEstimator\nfrom sklearn.metrics import accuracy_score\nimport numpy as np\nimport pandas as pd\n\nclass MyFakeClassifier(BaseEstimator):\n    #아무것도 학습시키지 않는다\n    def fit(self,X,y):\n        pass\n    #입력값으로 들어오는 X 데이터 셋의 크기만큼 모두 0으로 만들어서 반환\n    #그냥 모든 것을 0으로 예측한다는 의미\n    def predict(self,X):\n        return np.zeros((len(X),1),dtype=bool)\n\n#사이킷런의 내장 데이터 셋인 load_digits()을 이용해 MNIST 데이터 로딩\ndigits = load_digits()\n\n#digits 번호가 7번이면 True이고, 이를 astype(int)는 부울값 T or F를 1 or 0으로 변환시켜준다\ny=(digits.target==7).astype(int)\nX_train, X_test, y_train, y_test= train_test_split(digits.data, y, random_state=11)\n\n# 불균형한 레이블 데이터 분포도 확인\nprint(f'레이블 테스트 세트 크기:{y_test.shape}')\nprint('테스트 셋 레이블 0과 1의 분포도')\nprint(pd.Series(y_test).value_counts())\n\n#Dummy Classifier로 학습/예측/정확도 평가\nfakeclf= MyFakeClassifier()\nfakeclf.fit(X_train,y_train)\nfakepred= fakeclf.predict(X_test)\nprint(f'모든 예측을 0으로 하여도 정확도는 {accuracy_score(y_test,fakepred):.3f}')\n",
   "execution_count": 6,
   "outputs": [
    {
     "name": "stdout",
     "text": "레이블 테스트 세트 크기:(450,)\n테스트 셋 레이블 0과 1의 분포도\n0    405\n1     45\ndtype: int64\n모든 예측을 0으로 하여도 정확도는 0.900\n",
     "output_type": "stream"
    }
   ]
  },
  {
   "cell_type": "markdown",
   "source": "## 오차 행렬",
   "metadata": {
    "collapsed": false,
    "pycharm": {
     "name": "#%% md\n"
    },
    "cell_id": "00006-99ae6f49-f78a-4bc5-a5c8-ac1ca2fe0f95",
    "deepnote_cell_type": "markdown",
    "deepnote_cell_height": 70
   }
  },
  {
   "cell_type": "code",
   "metadata": {
    "collapsed": false,
    "pycharm": {
     "name": "#%%\n"
    },
    "cell_id": "00007-3fe35ed3-15f7-4131-b7cb-fd913aff47df",
    "deepnote_to_be_reexecuted": false,
    "source_hash": "b464be04",
    "execution_start": 1658408900898,
    "execution_millis": 6,
    "deepnote_cell_type": "code",
    "deepnote_cell_height": 204.1875,
    "deepnote_output_heights": [
     53.1875
    ]
   },
   "source": "from sklearn.metrics import confusion_matrix\n\nconfusion_mtr = confusion_matrix(y_test,fakepred)\nconfusion_mtr",
   "execution_count": 7,
   "outputs": [
    {
     "output_type": "execute_result",
     "execution_count": 7,
     "data": {
      "text/plain": "array([[405,   0],\n       [ 45,   0]])"
     },
     "metadata": {}
    }
   ]
  },
  {
   "cell_type": "code",
   "metadata": {
    "collapsed": false,
    "pycharm": {
     "name": "#%%\n"
    },
    "cell_id": "00009-92b42831-288e-4829-b2c8-23b89d3ce38d",
    "deepnote_to_be_reexecuted": false,
    "source_hash": "1306da95",
    "execution_start": 1658408900906,
    "execution_millis": 24,
    "deepnote_cell_type": "code",
    "deepnote_cell_height": 378.375
   },
   "source": "#원본 데이터를 재로딩, 데이터 가공, 학습 데이터/테스트 데이터를 분할하기\ntitanic_df= pd.read_csv('./train.csv')\ny_titanic_df=titanic_df['Survived']\nX_titanic_df=titanic_df.drop('Survived',axis=1)\nX_titanic_df= preprocessing_feature(X_titanic_df)\n\nX_train,X_test, y_train,y_test= train_test_split(X_titanic_df,y_titanic_df,test_size=0.2,random_state=11)\nlr_clf=LogisticRegression(solver='liblinear')\nlr_clf.fit(X_train,y_train)\npred= lr_clf.predict(X_test)\nget_clf_eval(y_test,pred)",
   "execution_count": 8,
   "outputs": [
    {
     "name": "stdout",
     "text": "오차 행렬\n[[108  10]\n [ 16  45]]\n정확도 0.855 정밀도 0.818 재현율 0.738 \n",
     "output_type": "stream"
    }
   ]
  },
  {
   "cell_type": "markdown",
   "source": "## 정밀도/ 재현율의 tradeoff",
   "metadata": {
    "collapsed": false,
    "pycharm": {
     "name": "#%% md\n"
    },
    "cell_id": "00010-a8b77c07-c6e7-4f3d-ba07-e10e1855451b",
    "deepnote_cell_type": "markdown",
    "deepnote_cell_height": 70
   }
  },
  {
   "cell_type": "code",
   "metadata": {
    "collapsed": false,
    "pycharm": {
     "name": "#%%\n"
    },
    "cell_id": "00011-8e97d667-be5a-4348-b460-ed3bb30fdc5b",
    "deepnote_to_be_reexecuted": false,
    "source_hash": "8faa0150",
    "execution_start": 1658408900939,
    "execution_millis": 8,
    "deepnote_cell_type": "code",
    "deepnote_cell_height": 475.34375
   },
   "source": "pred_proba= lr_clf.predict_proba(X_test)\npred= lr_clf.predict(X_test)\nprint(f'print_proba 결과 shape:{pred_proba.shape}')\nprint(f'pred_proba array에서 앞 3개만 샘플로 추출 \\n: {pred_proba[:3]}')\n\n\n#예측 확률 arr와 예측 결과값 arr를 병합concatenate하여 예측 확률과 결과값을 한눈에 확인한다\npred_proba_result= np.concatenate([pred_proba,pred.reshape(-1,1)],axis=1)\nprint(f'두 개의 class 중에서 더 큰 확률을 클래스 값으로 예측한다.\\n{pred_proba_result[:3]}')",
   "execution_count": 9,
   "outputs": [
    {
     "name": "stdout",
     "text": "print_proba 결과 shape:(179, 2)\npred_proba array에서 앞 3개만 샘플로 추출 \n: [[0.45476527 0.54523473]\n [0.86547383 0.13452617]\n [0.8654983  0.1345017 ]]\n두 개의 class 중에서 더 큰 확률을 클래스 값으로 예측한다.\n[[0.45476527 0.54523473 1.        ]\n [0.86547383 0.13452617 0.        ]\n [0.8654983  0.1345017  0.        ]]\n",
     "output_type": "stream"
    }
   ]
  },
  {
   "cell_type": "code",
   "metadata": {
    "collapsed": false,
    "pycharm": {
     "name": "#%%\n"
    },
    "cell_id": "00012-3299b1a1-646b-4979-a86a-5d21d5c1f21a",
    "deepnote_to_be_reexecuted": false,
    "source_hash": "d627c3de",
    "execution_start": 1658408900969,
    "execution_millis": 5,
    "deepnote_cell_type": "code",
    "deepnote_cell_height": 262
   },
   "source": "from sklearn.preprocessing import Binarizer\n\nX=[[1,-1,2],[2,0,0],[0,1.1,1.2]]\n#X의 개별 원소들이 threshold값보다 같거나 작으면 0, 크면 1을 반환시킨다\nbinarizer= Binarizer(threshold=1.1)\nprint(binarizer.fit_transform(X))",
   "execution_count": 10,
   "outputs": [
    {
     "name": "stdout",
     "text": "[[0. 0. 1.]\n [1. 0. 0.]\n [0. 0. 1.]]\n",
     "output_type": "stream"
    }
   ]
  },
  {
   "cell_type": "code",
   "metadata": {
    "collapsed": false,
    "pycharm": {
     "name": "#%%\n"
    },
    "cell_id": "00013-a859385f-6dd4-4b2e-9b78-f568a2ece649",
    "deepnote_to_be_reexecuted": false,
    "source_hash": "91440d65",
    "execution_start": 1658408900970,
    "execution_millis": 4,
    "deepnote_cell_type": "code",
    "deepnote_cell_height": 360.375
   },
   "source": "\n\n#Binzarizer의 threshold 설정값. 분류 결정 임계값임\ncustom_threshold= 0.5\n#predit_proba()의 반환값의 두번째 컬럼, 즉 positive 클래스 컬럼중 하나만 추출하여 Binarizer를 적용시킨다\npred_proba_1 = pred_proba[:,1].reshape(-1,1)\n\nbinarizer= Binarizer(threshold=custom_threshold).fit(pred_proba_1)\ncustom_predict= binarizer.transform(pred_proba_1)\nget_clf_eval(y_test,custom_predict)",
   "execution_count": 11,
   "outputs": [
    {
     "name": "stdout",
     "text": "오차 행렬\n[[108  10]\n [ 16  45]]\n정확도 0.855 정밀도 0.818 재현율 0.738 \n",
     "output_type": "stream"
    }
   ]
  },
  {
   "cell_type": "code",
   "metadata": {
    "collapsed": false,
    "pycharm": {
     "name": "#%%\n"
    },
    "cell_id": "00014-d073a484-e47f-4a91-b565-6acfb499b370",
    "deepnote_to_be_reexecuted": false,
    "source_hash": "cba5f0f0",
    "execution_start": 1658408900971,
    "execution_millis": 11,
    "deepnote_cell_type": "code",
    "deepnote_cell_height": 306.375
   },
   "source": "#Binarizer의 threshold 설정값을 0.4로 설정. 즉 분류 결정 임계값을 0.5에서 0.4로 낮춘다\ncustom_threshold= 0.4\npred_proba_1= pred_proba[:,1].reshape(-1,1)\nbinarizer= Binarizer(threshold=custom_threshold).fit(pred_proba_1)\ncustom_predict= binarizer.transform(pred_proba_1)\n\nget_clf_eval(y_test,custom_predict)",
   "execution_count": 12,
   "outputs": [
    {
     "name": "stdout",
     "text": "오차 행렬\n[[98 20]\n [11 50]]\n정확도 0.827 정밀도 0.714 재현율 0.820 \n",
     "output_type": "stream"
    }
   ]
  },
  {
   "cell_type": "code",
   "metadata": {
    "cell_id": "b67aa5c41e30466791995da1274db93a",
    "tags": [],
    "deepnote_to_be_reexecuted": false,
    "source_hash": "33b8ee4a",
    "execution_start": 1658408900982,
    "execution_millis": 5,
    "deepnote_cell_type": "code",
    "deepnote_cell_height": 155
   },
   "source": "from sklearn.metrics import f1_score\nf1= f1_score(y_test,pred)\nprint(f'f1 스코어는 {f1:.3f}')",
   "execution_count": 13,
   "outputs": [
    {
     "name": "stdout",
     "text": "f1 스코어는 0.776\n",
     "output_type": "stream"
    }
   ]
  },
  {
   "cell_type": "code",
   "metadata": {
    "cell_id": "6cb495a4019e4e03993e70015ca78331",
    "tags": [],
    "deepnote_to_be_reexecuted": false,
    "source_hash": "7a6ef058",
    "execution_start": 1658408900991,
    "execution_millis": 26,
    "deepnote_cell_type": "code",
    "deepnote_cell_height": 755
   },
   "source": "\nthresholds= [0.4,0.45,0.50,0.55,0.60]\n#pred_proba= lr_clf.predict_proba(X_test)\nget_eval_by_threshold(y_test,pred_proba[:,1].reshape(-1,1),thresholds)",
   "execution_count": 14,
   "outputs": [
    {
     "name": "stdout",
     "text": "------------------------------------------------------\n임계값 0.4\n오차 행렬\n[[98 20]\n [11 50]]\n정확도 0.827 정밀도 0.714 재현율 0.820 \n------------------------------------------------------\n임계값 0.45\n오차 행렬\n[[106  12]\n [ 14  47]]\n정확도 0.855 정밀도 0.797 재현율 0.770 \n------------------------------------------------------\n임계값 0.5\n오차 행렬\n[[108  10]\n [ 16  45]]\n정확도 0.855 정밀도 0.818 재현율 0.738 \n------------------------------------------------------\n임계값 0.55\n오차 행렬\n[[111   7]\n [ 17  44]]\n정확도 0.866 정밀도 0.863 재현율 0.721 \n------------------------------------------------------\n임계값 0.6\n오차 행렬\n[[113   5]\n [ 18  43]]\n정확도 0.872 정밀도 0.896 재현율 0.705 \n",
     "output_type": "stream"
    }
   ]
  },
  {
   "cell_type": "markdown",
   "source": "## ROC 곡선과 AUC\n- Reciever Operation Characteristic Curve -수신자 판단 곡선 \n- ROC 곡선과 이에 기반한 AUC 스코어는 이진 분류의 예측 성능 측정에서 중요하게 사용되는 지표이다\n",
   "metadata": {
    "cell_id": "d15d6e054c9143f49845c8aad23ab579",
    "tags": [],
    "deepnote_cell_type": "markdown",
    "deepnote_cell_height": 154.1875
   }
  },
  {
   "cell_type": "code",
   "metadata": {
    "cell_id": "bcea94d2b9514b95a6394717b40344be",
    "tags": [],
    "deepnote_to_be_reexecuted": false,
    "source_hash": "2a37dd13",
    "execution_start": 1658408901074,
    "execution_millis": 2,
    "deepnote_cell_type": "code",
    "deepnote_cell_height": 455
   },
   "source": "from sklearn.metrics import roc_curve\n#레이블 값이 1일때의 예측확률을 추출하기\npred_proba_class1 = lr_clf.predict_proba(X_test)[:,1]\n\nfprs,tprs,thresholds =roc_curve(y_test,pred_proba_1)\n\n#반환된 임계값 배열에서 샘플로 데이터를 추출하되 임계값을 5 step으로 추출한다\n#thresholds[0]는 max(예측확률)+1로 임의 설정한다\nthr_index= np.arange(1,thresholds.shape[0],5)\nprint(f'샘플 추출을 위한 임계값 배열의 index {thr_index}')\nprint(f'샘플 index로 추출한 임계값,{np.round(thresholds[thr_index],2)}')\n\n#5 스텝 단위로 추출된 임계값에 따른 FPR, TPR 값\nprint(f'샘플 임계값 FPR {np.round(fprs[thr_index],3)}')\nprint(f'샘플 임계값 FPR {np.round(tprs[thr_index],3)}')",
   "execution_count": 15,
   "outputs": [
    {
     "name": "stdout",
     "text": "샘플 추출을 위한 임계값 배열의 index [ 1  6 11 16 21 26 31 36 41 46 51]\n샘플 index로 추출한 임계값,[0.94 0.7  0.62 0.57 0.44 0.36 0.32 0.15 0.13 0.13 0.12]\n샘플 임계값 FPR [0.    0.008 0.025 0.059 0.11  0.195 0.22  0.534 0.61  0.746 0.831]\n샘플 임계값 FPR [0.016 0.508 0.689 0.721 0.787 0.82  0.885 0.902 0.951 0.967 1.   ]\n",
     "output_type": "stream"
    }
   ]
  },
  {
   "cell_type": "code",
   "metadata": {
    "cell_id": "6911c50cc21a4aa193d6badd7fa613ec",
    "tags": [],
    "deepnote_to_be_reexecuted": false,
    "source_hash": "f9003cb9",
    "execution_start": 1658408901075,
    "execution_millis": 249,
    "deepnote_cell_type": "code",
    "deepnote_cell_height": 514,
    "deepnote_output_heights": [
     339
    ]
   },
   "source": "roc_curve_plot(y_test,pred_proba[:,1])",
   "execution_count": 16,
   "outputs": [
    {
     "data": {
      "text/plain": "<Figure size 432x288 with 1 Axes>",
      "image/png": "[encoded data removed]"
     },
     "metadata": {
      "needs_background": "light",
      "image/png": {
       "width": 386,
       "height": 266
      }
     },
     "output_type": "display_data"
    }
   ]
  },
  {
   "cell_type": "code",
   "metadata": {
    "cell_id": "e8d20343569143949bd308ca90df72a5",
    "tags": [],
    "deepnote_to_be_reexecuted": false,
    "source_hash": "ec1a61ad",
    "execution_start": 1658408901327,
    "execution_millis": 17,
    "deepnote_cell_type": "code",
    "deepnote_cell_height": 209
   },
   "source": "from sklearn.metrics import roc_auc_score\n\npred_proba = lr_clf.predict_proba(X_test)[:,1]\nroc_score = roc_auc_score(y_test,pred_proba)\nprint(f'ROC AUC의 값 {roc_score:.3f}')\n",
   "execution_count": 17,
   "outputs": [
    {
     "name": "stdout",
     "text": "ROC AUC의 값 0.898\n",
     "output_type": "stream"
    }
   ]
  },
  {
   "cell_type": "markdown",
   "source": "##  피마 인디언 당뇨병 예측하기",
   "metadata": {
    "cell_id": "e563b0a5b5304134872fe3ec37b2fdc1",
    "tags": [],
    "deepnote_cell_type": "markdown",
    "deepnote_cell_height": 70
   }
  },
  {
   "cell_type": "code",
   "metadata": {
    "cell_id": "c0f13d53537c40abace200fe33c6e81c",
    "tags": [],
    "deepnote_to_be_reexecuted": false,
    "source_hash": "1f9c676",
    "execution_start": 1658408901386,
    "execution_millis": 13,
    "deepnote_table_state": {
     "pageSize": 10,
     "pageIndex": 0,
     "filters": [],
     "sortBy": []
    },
    "deepnote_table_loading": false,
    "deepnote_cell_type": "code",
    "deepnote_cell_height": 921
   },
   "source": "# 데이터 핸들링 라이브러리\nimport numpy as np\nimport pandas as pd \n\n#데이터 시각화 라이브러리\nimport matplotlib.pyplot as plt \n%matplotlib inline\n\n#머신러닝 라이브러리\nfrom sklearn.model_selection import train_test_split\nfrom sklearn.metrics import accuracy_score, precision_score, recall_score, roc_auc_score\nfrom sklearn.metrics import f1_score, confusion_matrix, precision_recall_curve, roc_curve\nfrom sklearn.preprocessing import StandardScaler\nfrom sklearn.linear_model import LogisticRegression\n\ndiabetes_df= pd.read_csv('diabetes.csv')\ndiabetes_df.head(20)\n",
   "execution_count": 18,
   "outputs": [
    {
     "output_type": "execute_result",
     "execution_count": 18,
     "data": {
      "application/vnd.deepnote.dataframe.v3+json": {
       "column_count": 9,
       "row_count": 20,
       "columns": [
        {
         "name": "Pregnancies",
         "dtype": "int64",
         "stats": {
          "unique_count": 10,
          "nan_count": 0,
          "min": "0",
          "max": "10",
          "histogram": [
           {
            "bin_start": 0,
            "bin_end": 1,
            "count": 2
           },
           {
            "bin_start": 1,
            "bin_end": 2,
            "count": 5
           },
           {
            "bin_start": 2,
            "bin_end": 3,
            "count": 1
           },
           {
            "bin_start": 3,
            "bin_end": 4,
            "count": 1
           },
           {
            "bin_start": 4,
            "bin_end": 5,
            "count": 1
           },
           {
            "bin_start": 5,
            "bin_end": 6,
            "count": 2
           },
           {
            "bin_start": 6,
            "bin_end": 7,
            "count": 1
           },
           {
            "bin_start": 7,
            "bin_end": 8,
            "count": 2
           },
           {
            "bin_start": 8,
            "bin_end": 9,
            "count": 2
           },
           {
            "bin_start": 9,
            "bin_end": 10,
            "count": 3
           }
          ]
         }
        },
        {
         "name": "Glucose",
         "dtype": "int64",
         "stats": {
          "unique_count": 19,
          "nan_count": 0,
          "min": "78",
          "max": "197",
          "histogram": [
           {
            "bin_start": 78,
            "bin_end": 89.9,
            "count": 3
           },
           {
            "bin_start": 89.9,
            "bin_end": 101.8,
            "count": 1
           },
           {
            "bin_start": 101.8,
            "bin_end": 113.7,
            "count": 3
           },
           {
            "bin_start": 113.7,
            "bin_end": 125.6,
            "count": 5
           },
           {
            "bin_start": 125.6,
            "bin_end": 137.5,
            "count": 1
           },
           {
            "bin_start": 137.5,
            "bin_end": 149.4,
            "count": 2
           },
           {
            "bin_start": 149.4,
            "bin_end": 161.3,
            "count": 0
           },
           {
            "bin_start": 161.3,
            "bin_end": 173.2,
            "count": 2
           },
           {
            "bin_start": 173.2,
            "bin_end": 185.10000000000002,
            "count": 1
           },
           {
            "bin_start": 185.10000000000002,
            "bin_end": 197,
            "count": 2
           }
          ]
         }
        },
        {
         "name": "BloodPressure",
         "dtype": "int64",
         "stats": {
          "unique_count": 14,
          "nan_count": 0,
          "min": "0",
          "max": "96",
          "histogram": [
           {
            "bin_start": 0,
            "bin_end": 9.6,
            "count": 2
           },
           {
            "bin_start": 9.6,
            "bin_end": 19.2,
            "count": 0
           },
           {
            "bin_start": 19.2,
            "bin_end": 28.799999999999997,
            "count": 0
           },
           {
            "bin_start": 28.799999999999997,
            "bin_end": 38.4,
            "count": 1
           },
           {
            "bin_start": 38.4,
            "bin_end": 48,
            "count": 1
           },
           {
            "bin_start": 48,
            "bin_end": 57.599999999999994,
            "count": 1
           },
           {
            "bin_start": 57.599999999999994,
            "bin_end": 67.2,
            "count": 4
           },
           {
            "bin_start": 67.2,
            "bin_end": 76.8,
            "count": 7
           },
           {
            "bin_start": 76.8,
            "bin_end": 86.39999999999999,
            "count": 2
           },
           {
            "bin_start": 86.39999999999999,
            "bin_end": 96,
            "count": 2
           }
          ]
         }
        },
        {
         "name": "SkinThickness",
         "dtype": "int64",
         "stats": {
          "unique_count": 10,
          "nan_count": 0,
          "min": "0",
          "max": "47",
          "histogram": [
           {
            "bin_start": 0,
            "bin_end": 4.7,
            "count": 9
           },
           {
            "bin_start": 4.7,
            "bin_end": 9.4,
            "count": 0
           },
           {
            "bin_start": 9.4,
            "bin_end": 14.100000000000001,
            "count": 0
           },
           {
            "bin_start": 14.100000000000001,
            "bin_end": 18.8,
            "count": 0
           },
           {
            "bin_start": 18.8,
            "bin_end": 23.5,
            "count": 3
           },
           {
            "bin_start": 23.5,
            "bin_end": 28.200000000000003,
            "count": 0
           },
           {
            "bin_start": 28.200000000000003,
            "bin_end": 32.9,
            "count": 3
           },
           {
            "bin_start": 32.9,
            "bin_end": 37.6,
            "count": 2
           },
           {
            "bin_start": 37.6,
            "bin_end": 42.300000000000004,
            "count": 1
           },
           {
            "bin_start": 42.300000000000004,
            "bin_end": 47,
            "count": 2
           }
          ]
         }
        },
        {
         "name": "Insulin",
         "dtype": "int64",
         "stats": {
          "unique_count": 10,
          "nan_count": 0,
          "min": "0",
          "max": "846",
          "histogram": [
           {
            "bin_start": 0,
            "bin_end": 84.6,
            "count": 12
           },
           {
            "bin_start": 84.6,
            "bin_end": 169.2,
            "count": 4
           },
           {
            "bin_start": 169.2,
            "bin_end": 253.79999999999998,
            "count": 2
           },
           {
            "bin_start": 253.79999999999998,
            "bin_end": 338.4,
            "count": 0
           },
           {
            "bin_start": 338.4,
            "bin_end": 423,
            "count": 0
           },
           {
            "bin_start": 423,
            "bin_end": 507.59999999999997,
            "count": 0
           },
           {
            "bin_start": 507.59999999999997,
            "bin_end": 592.1999999999999,
            "count": 1
           },
           {
            "bin_start": 592.1999999999999,
            "bin_end": 676.8,
            "count": 0
           },
           {
            "bin_start": 676.8,
            "bin_end": 761.4,
            "count": 0
           },
           {
            "bin_start": 761.4,
            "bin_end": 846,
            "count": 1
           }
          ]
         }
        },
        {
         "name": "BMI",
         "dtype": "float64",
         "stats": {
          "unique_count": 20,
          "nan_count": 0,
          "min": "0.0",
          "max": "45.8",
          "histogram": [
           {
            "bin_start": 0,
            "bin_end": 4.58,
            "count": 1
           },
           {
            "bin_start": 4.58,
            "bin_end": 9.16,
            "count": 0
           },
           {
            "bin_start": 9.16,
            "bin_end": 13.74,
            "count": 0
           },
           {
            "bin_start": 13.74,
            "bin_end": 18.32,
            "count": 0
           },
           {
            "bin_start": 18.32,
            "bin_end": 22.9,
            "count": 0
           },
           {
            "bin_start": 22.9,
            "bin_end": 27.48,
            "count": 5
           },
           {
            "bin_start": 27.48,
            "bin_end": 32.06,
            "count": 6
           },
           {
            "bin_start": 32.06,
            "bin_end": 36.64,
            "count": 3
           },
           {
            "bin_start": 36.64,
            "bin_end": 41.22,
            "count": 2
           },
           {
            "bin_start": 41.22,
            "bin_end": 45.8,
            "count": 3
           }
          ]
         }
        },
        {
         "name": "DiabetesPedigreeFunction",
         "dtype": "float64",
         "stats": {
          "unique_count": 20,
          "nan_count": 0,
          "min": "0.134",
          "max": "2.288",
          "histogram": [
           {
            "bin_start": 0.134,
            "bin_end": 0.3494,
            "count": 9
           },
           {
            "bin_start": 0.3494,
            "bin_end": 0.5648,
            "count": 6
           },
           {
            "bin_start": 0.5648,
            "bin_end": 0.7801999999999999,
            "count": 3
           },
           {
            "bin_start": 0.7801999999999999,
            "bin_end": 0.9955999999999999,
            "count": 0
           },
           {
            "bin_start": 0.9955999999999999,
            "bin_end": 1.2109999999999999,
            "count": 0
           },
           {
            "bin_start": 1.2109999999999999,
            "bin_end": 1.4263999999999997,
            "count": 0
           },
           {
            "bin_start": 1.4263999999999997,
            "bin_end": 1.6418,
            "count": 1
           },
           {
            "bin_start": 1.6418,
            "bin_end": 1.8571999999999997,
            "count": 0
           },
           {
            "bin_start": 1.8571999999999997,
            "bin_end": 2.0726,
            "count": 0
           },
           {
            "bin_start": 2.0726,
            "bin_end": 2.288,
            "count": 1
           }
          ]
         }
        },
        {
         "name": "Age",
         "dtype": "int64",
         "stats": {
          "unique_count": 14,
          "nan_count": 0,
          "min": "21",
          "max": "59",
          "histogram": [
           {
            "bin_start": 21,
            "bin_end": 24.8,
            "count": 1
           },
           {
            "bin_start": 24.8,
            "bin_end": 28.6,
            "count": 1
           },
           {
            "bin_start": 28.6,
            "bin_end": 32.4,
            "count": 9
           },
           {
            "bin_start": 32.4,
            "bin_end": 36.2,
            "count": 3
           },
           {
            "bin_start": 36.2,
            "bin_end": 40,
            "count": 0
           },
           {
            "bin_start": 40,
            "bin_end": 43.8,
            "count": 0
           },
           {
            "bin_start": 43.8,
            "bin_end": 47.599999999999994,
            "count": 0
           },
           {
            "bin_start": 47.599999999999994,
            "bin_end": 51.4,
            "count": 2
           },
           {
            "bin_start": 51.4,
            "bin_end": 55.199999999999996,
            "count": 2
           },
           {
            "bin_start": 55.199999999999996,
            "bin_end": 59,
            "count": 2
           }
          ]
         }
        },
        {
         "name": "Outcome",
         "dtype": "int64",
         "stats": {
          "unique_count": 2,
          "nan_count": 0,
          "min": "0",
          "max": "1",
          "histogram": [
           {
            "bin_start": 0,
            "bin_end": 0.1,
            "count": 7
           },
           {
            "bin_start": 0.1,
            "bin_end": 0.2,
            "count": 0
           },
           {
            "bin_start": 0.2,
            "bin_end": 0.30000000000000004,
            "count": 0
           },
           {
            "bin_start": 0.30000000000000004,
            "bin_end": 0.4,
            "count": 0
           },
           {
            "bin_start": 0.4,
            "bin_end": 0.5,
            "count": 0
           },
           {
            "bin_start": 0.5,
            "bin_end": 0.6000000000000001,
            "count": 0
           },
           {
            "bin_start": 0.6000000000000001,
            "bin_end": 0.7000000000000001,
            "count": 0
           },
           {
            "bin_start": 0.7000000000000001,
            "bin_end": 0.8,
            "count": 0
           },
           {
            "bin_start": 0.8,
            "bin_end": 0.9,
            "count": 0
           },
           {
            "bin_start": 0.9,
            "bin_end": 1,
            "count": 13
           }
          ]
         }
        },
        {
         "name": "_deepnote_index_column",
         "dtype": "int64"
        }
       ],
       "rows": [
        {
         "Pregnancies": 6,
         "Glucose": 148,
         "BloodPressure": 72,
         "SkinThickness": 35,
         "Insulin": 0,
         "BMI": 33.6,
         "DiabetesPedigreeFunction": 0.627,
         "Age": 50,
         "Outcome": 1,
         "_deepnote_index_column": 0
        },
        {
         "Pregnancies": 1,
         "Glucose": 85,
         "BloodPressure": 66,
         "SkinThickness": 29,
         "Insulin": 0,
         "BMI": 26.6,
         "DiabetesPedigreeFunction": 0.351,
         "Age": 31,
         "Outcome": 0,
         "_deepnote_index_column": 1
        },
        {
         "Pregnancies": 8,
         "Glucose": 183,
         "BloodPressure": 64,
         "SkinThickness": 0,
         "Insulin": 0,
         "BMI": 23.3,
         "DiabetesPedigreeFunction": 0.672,
         "Age": 32,
         "Outcome": 1,
         "_deepnote_index_column": 2
        },
        {
         "Pregnancies": 1,
         "Glucose": 89,
         "BloodPressure": 66,
         "SkinThickness": 23,
         "Insulin": 94,
         "BMI": 28.1,
         "DiabetesPedigreeFunction": 0.167,
         "Age": 21,
         "Outcome": 0,
         "_deepnote_index_column": 3
        },
        {
         "Pregnancies": 0,
         "Glucose": 137,
         "BloodPressure": 40,
         "SkinThickness": 35,
         "Insulin": 168,
         "BMI": 43.1,
         "DiabetesPedigreeFunction": 2.288,
         "Age": 33,
         "Outcome": 1,
         "_deepnote_index_column": 4
        },
        {
         "Pregnancies": 5,
         "Glucose": 116,
         "BloodPressure": 74,
         "SkinThickness": 0,
         "Insulin": 0,
         "BMI": 25.6,
         "DiabetesPedigreeFunction": 0.201,
         "Age": 30,
         "Outcome": 0,
         "_deepnote_index_column": 5
        },
        {
         "Pregnancies": 3,
         "Glucose": 78,
         "BloodPressure": 50,
         "SkinThickness": 32,
         "Insulin": 88,
         "BMI": 31,
         "DiabetesPedigreeFunction": 0.248,
         "Age": 26,
         "Outcome": 1,
         "_deepnote_index_column": 6
        },
        {
         "Pregnancies": 10,
         "Glucose": 115,
         "BloodPressure": 0,
         "SkinThickness": 0,
         "Insulin": 0,
         "BMI": 35.3,
         "DiabetesPedigreeFunction": 0.134,
         "Age": 29,
         "Outcome": 0,
         "_deepnote_index_column": 7
        },
        {
         "Pregnancies": 2,
         "Glucose": 197,
         "BloodPressure": 70,
         "SkinThickness": 45,
         "Insulin": 543,
         "BMI": 30.5,
         "DiabetesPedigreeFunction": 0.158,
         "Age": 53,
         "Outcome": 1,
         "_deepnote_index_column": 8
        },
        {
         "Pregnancies": 8,
         "Glucose": 125,
         "BloodPressure": 96,
         "SkinThickness": 0,
         "Insulin": 0,
         "BMI": 0,
         "DiabetesPedigreeFunction": 0.232,
         "Age": 54,
         "Outcome": 1,
         "_deepnote_index_column": 9
        }
       ]
      },
      "text/plain": "    Pregnancies  Glucose  BloodPressure  SkinThickness  Insulin   BMI  \\\n0             6      148             72             35        0  33.6   \n1             1       85             66             29        0  26.6   \n2             8      183             64              0        0  23.3   \n3             1       89             66             23       94  28.1   \n4             0      137             40             35      168  43.1   \n5             5      116             74              0        0  25.6   \n6             3       78             50             32       88  31.0   \n7            10      115              0              0        0  35.3   \n8             2      197             70             45      543  30.5   \n9             8      125             96              0        0   0.0   \n10            4      110             92              0        0  37.6   \n11           10      168             74              0        0  38.0   \n12           10      139             80              0        0  27.1   \n13            1      189             60             23      846  30.1   \n14            5      166             72             19      175  25.8   \n15            7      100              0              0        0  30.0   \n16            0      118             84             47      230  45.8   \n17            7      107             74              0        0  29.6   \n18            1      103             30             38       83  43.3   \n19            1      115             70             30       96  34.6   \n\n    DiabetesPedigreeFunction  Age  Outcome  \n0                      0.627   50        1  \n1                      0.351   31        0  \n2                      0.672   32        1  \n3                      0.167   21        0  \n4                      2.288   33        1  \n5                      0.201   30        0  \n6                      0.248   26        1  \n7                      0.134   29        0  \n8                      0.158   53        1  \n9                      0.232   54        1  \n10                     0.191   30        0  \n11                     0.537   34        1  \n12                     1.441   57        0  \n13                     0.398   59        1  \n14                     0.587   51        1  \n15                     0.484   32        1  \n16                     0.551   31        1  \n17                     0.254   31        1  \n18                     0.183   33        0  \n19                     0.529   32        1  ",
      "text/html": "<div>\n<style scoped>\n    .dataframe tbody tr th:only-of-type {\n        vertical-align: middle;\n    }\n\n    .dataframe tbody tr th {\n        vertical-align: top;\n    }\n\n    .dataframe thead th {\n        text-align: right;\n    }\n</style>\n<table border=\"1\" class=\"dataframe\">\n  <thead>\n    <tr style=\"text-align: right;\">\n      <th></th>\n      <th>Pregnancies</th>\n      <th>Glucose</th>\n      <th>BloodPressure</th>\n      <th>SkinThickness</th>\n      <th>Insulin</th>\n      <th>BMI</th>\n      <th>DiabetesPedigreeFunction</th>\n      <th>Age</th>\n      <th>Outcome</th>\n    </tr>\n  </thead>\n  <tbody>\n    <tr>\n      <th>0</th>\n      <td>6</td>\n      <td>148</td>\n      <td>72</td>\n      <td>35</td>\n      <td>0</td>\n      <td>33.6</td>\n      <td>0.627</td>\n      <td>50</td>\n      <td>1</td>\n    </tr>\n    <tr>\n      <th>1</th>\n      <td>1</td>\n      <td>85</td>\n      <td>66</td>\n      <td>29</td>\n      <td>0</td>\n      <td>26.6</td>\n      <td>0.351</td>\n      <td>31</td>\n      <td>0</td>\n    </tr>\n    <tr>\n      <th>2</th>\n      <td>8</td>\n      <td>183</td>\n      <td>64</td>\n      <td>0</td>\n      <td>0</td>\n      <td>23.3</td>\n      <td>0.672</td>\n      <td>32</td>\n      <td>1</td>\n    </tr>\n    <tr>\n      <th>3</th>\n      <td>1</td>\n      <td>89</td>\n      <td>66</td>\n      <td>23</td>\n      <td>94</td>\n      <td>28.1</td>\n      <td>0.167</td>\n      <td>21</td>\n      <td>0</td>\n    </tr>\n    <tr>\n      <th>4</th>\n      <td>0</td>\n      <td>137</td>\n      <td>40</td>\n      <td>35</td>\n      <td>168</td>\n      <td>43.1</td>\n      <td>2.288</td>\n      <td>33</td>\n      <td>1</td>\n    </tr>\n    <tr>\n      <th>5</th>\n      <td>5</td>\n      <td>116</td>\n      <td>74</td>\n      <td>0</td>\n      <td>0</td>\n      <td>25.6</td>\n      <td>0.201</td>\n      <td>30</td>\n      <td>0</td>\n    </tr>\n    <tr>\n      <th>6</th>\n      <td>3</td>\n      <td>78</td>\n      <td>50</td>\n      <td>32</td>\n      <td>88</td>\n      <td>31.0</td>\n      <td>0.248</td>\n      <td>26</td>\n      <td>1</td>\n    </tr>\n    <tr>\n      <th>7</th>\n      <td>10</td>\n      <td>115</td>\n      <td>0</td>\n      <td>0</td>\n      <td>0</td>\n      <td>35.3</td>\n      <td>0.134</td>\n      <td>29</td>\n      <td>0</td>\n    </tr>\n    <tr>\n      <th>8</th>\n      <td>2</td>\n      <td>197</td>\n      <td>70</td>\n      <td>45</td>\n      <td>543</td>\n      <td>30.5</td>\n      <td>0.158</td>\n      <td>53</td>\n      <td>1</td>\n    </tr>\n    <tr>\n      <th>9</th>\n      <td>8</td>\n      <td>125</td>\n      <td>96</td>\n      <td>0</td>\n      <td>0</td>\n      <td>0.0</td>\n      <td>0.232</td>\n      <td>54</td>\n      <td>1</td>\n    </tr>\n    <tr>\n      <th>10</th>\n      <td>4</td>\n      <td>110</td>\n      <td>92</td>\n      <td>0</td>\n      <td>0</td>\n      <td>37.6</td>\n      <td>0.191</td>\n      <td>30</td>\n      <td>0</td>\n    </tr>\n    <tr>\n      <th>11</th>\n      <td>10</td>\n      <td>168</td>\n      <td>74</td>\n      <td>0</td>\n      <td>0</td>\n      <td>38.0</td>\n      <td>0.537</td>\n      <td>34</td>\n      <td>1</td>\n    </tr>\n    <tr>\n      <th>12</th>\n      <td>10</td>\n      <td>139</td>\n      <td>80</td>\n      <td>0</td>\n      <td>0</td>\n      <td>27.1</td>\n      <td>1.441</td>\n      <td>57</td>\n      <td>0</td>\n    </tr>\n    <tr>\n      <th>13</th>\n      <td>1</td>\n      <td>189</td>\n      <td>60</td>\n      <td>23</td>\n      <td>846</td>\n      <td>30.1</td>\n      <td>0.398</td>\n      <td>59</td>\n      <td>1</td>\n    </tr>\n    <tr>\n      <th>14</th>\n      <td>5</td>\n      <td>166</td>\n      <td>72</td>\n      <td>19</td>\n      <td>175</td>\n      <td>25.8</td>\n      <td>0.587</td>\n      <td>51</td>\n      <td>1</td>\n    </tr>\n    <tr>\n      <th>15</th>\n      <td>7</td>\n      <td>100</td>\n      <td>0</td>\n      <td>0</td>\n      <td>0</td>\n      <td>30.0</td>\n      <td>0.484</td>\n      <td>32</td>\n      <td>1</td>\n    </tr>\n    <tr>\n      <th>16</th>\n      <td>0</td>\n      <td>118</td>\n      <td>84</td>\n      <td>47</td>\n      <td>230</td>\n      <td>45.8</td>\n      <td>0.551</td>\n      <td>31</td>\n      <td>1</td>\n    </tr>\n    <tr>\n      <th>17</th>\n      <td>7</td>\n      <td>107</td>\n      <td>74</td>\n      <td>0</td>\n      <td>0</td>\n      <td>29.6</td>\n      <td>0.254</td>\n      <td>31</td>\n      <td>1</td>\n    </tr>\n    <tr>\n      <th>18</th>\n      <td>1</td>\n      <td>103</td>\n      <td>30</td>\n      <td>38</td>\n      <td>83</td>\n      <td>43.3</td>\n      <td>0.183</td>\n      <td>33</td>\n      <td>0</td>\n    </tr>\n    <tr>\n      <th>19</th>\n      <td>1</td>\n      <td>115</td>\n      <td>70</td>\n      <td>30</td>\n      <td>96</td>\n      <td>34.6</td>\n      <td>0.529</td>\n      <td>32</td>\n      <td>1</td>\n    </tr>\n  </tbody>\n</table>\n</div>"
     },
     "metadata": {}
    }
   ]
  },
  {
   "cell_type": "code",
   "metadata": {
    "cell_id": "8a2772812c2e46698f60e2a913e82a6d",
    "tags": [],
    "deepnote_to_be_reexecuted": false,
    "source_hash": "73af69e2",
    "execution_start": 1658408901404,
    "execution_millis": 5,
    "deepnote_cell_type": "code",
    "deepnote_cell_height": 536
   },
   "source": "#데이터프레임의 데이터속성 확인하기\ndiabetes_df.info()",
   "execution_count": 19,
   "outputs": [
    {
     "name": "stdout",
     "text": "<class 'pandas.core.frame.DataFrame'>\nRangeIndex: 768 entries, 0 to 767\nData columns (total 9 columns):\n #   Column                    Non-Null Count  Dtype  \n---  ------                    --------------  -----  \n 0   Pregnancies               768 non-null    int64  \n 1   Glucose                   768 non-null    int64  \n 2   BloodPressure             768 non-null    int64  \n 3   SkinThickness             768 non-null    int64  \n 4   Insulin                   768 non-null    int64  \n 5   BMI                       768 non-null    float64\n 6   DiabetesPedigreeFunction  768 non-null    float64\n 7   Age                       768 non-null    int64  \n 8   Outcome                   768 non-null    int64  \ndtypes: float64(2), int64(7)\nmemory usage: 54.1 KB\n",
     "output_type": "stream"
    }
   ]
  },
  {
   "cell_type": "code",
   "metadata": {
    "cell_id": "8bfa2bcacf9c4e43941fa7c873b595d5",
    "tags": [],
    "deepnote_to_be_reexecuted": false,
    "source_hash": "298f3d74",
    "execution_start": 1658408901455,
    "execution_millis": 7,
    "deepnote_cell_type": "code",
    "deepnote_cell_height": 373,
    "deepnote_output_heights": [
     257.9375
    ]
   },
   "source": "#데이터프레임의 결측값 확인하기 => 결측값이 존재하지 않는다\ndiabetes_df.isnull().sum()",
   "execution_count": 20,
   "outputs": [
    {
     "output_type": "execute_result",
     "execution_count": 20,
     "data": {
      "text/plain": "Pregnancies                 0\nGlucose                     0\nBloodPressure               0\nSkinThickness               0\nInsulin                     0\nBMI                         0\nDiabetesPedigreeFunction    0\nAge                         0\nOutcome                     0\ndtype: int64"
     },
     "metadata": {}
    }
   ]
  },
  {
   "cell_type": "markdown",
   "source": "## 데이터 전처리하기\n- 결측값 확인 및 처리\n- 문자열 카테고리 -> 정수형 카테고리로 인코딩\n- 정규화 \n- 훈련 및 테스트 데이터로 분리하기",
   "metadata": {
    "cell_id": "aa6e964225cb4f889c8366ec7ab7663e",
    "tags": [],
    "deepnote_cell_type": "markdown",
    "deepnote_cell_height": 211.375
   }
  },
  {
   "cell_type": "code",
   "metadata": {
    "cell_id": "cb14f7b56bef45ccb2161b24012ef03b",
    "tags": [],
    "deepnote_to_be_reexecuted": false,
    "source_hash": "5e5f466a",
    "execution_start": 1658408901456,
    "execution_millis": 6,
    "deepnote_cell_type": "code",
    "deepnote_cell_height": 450.375
   },
   "source": "# 피처 데이터 셋 X, 레이블 데이터 셋 y로 분리하기\n# 맨 끝이 outcome 컬럼으로 레이블 값. 컬럼위치 -1을 이용하여 추출한다\nX= diabetes_df.iloc[:,:-1]\ny= diabetes_df.iloc[:,-1]\n\n#학습 및 테스트 데이터로 분리시키기\nX_train, X_test, y_train, y_test = train_test_split(X,y,test_size=0.2,random_state=156,stratify=y)\n\n#로지스틱 회귀로 학습, 예측 및 평가를 수행하기\nlr_clf= LogisticRegression(solver='liblinear')\nlr_clf.fit(X_train,y_train)\npred = lr_clf.predict(X_test)\npred_proba = lr_clf.predict_proba(X_test)[:,1]\n\nget_clf_eval2(y_test,pred,pred_proba)",
   "execution_count": 21,
   "outputs": [
    {
     "name": "stdout",
     "text": "오차 행렬\n[[87 13]\n [22 32]]\n 정확도는 0.773 정밀도는 0.711     재현율은 0.593 F1는 0.646, AUC는 0.808 이다\n",
     "output_type": "stream"
    }
   ]
  },
  {
   "cell_type": "code",
   "metadata": {
    "cell_id": "d0a744779f994eb280773a83941fb919",
    "tags": [],
    "deepnote_to_be_reexecuted": false,
    "source_hash": "e289ebf7",
    "execution_start": 1658408901458,
    "execution_millis": 811,
    "deepnote_cell_type": "code",
    "deepnote_cell_height": 488,
    "deepnote_output_heights": [
     373
    ]
   },
   "source": "precision_recall_curve_plot(y_test,lr_clf.predict_proba(X_test)[:,1])\n",
   "execution_count": 22,
   "outputs": [
    {
     "data": {
      "text/plain": "<Figure size 576x432 with 1 Axes>",
      "image/png": "[encoded data removed]"
     },
     "metadata": {
      "needs_background": "light",
      "image/png": {
       "width": 497,
       "height": 371
      }
     },
     "output_type": "display_data"
    }
   ]
  },
  {
   "cell_type": "code",
   "metadata": {
    "cell_id": "c1ba93df2d0c4d59b537ab59c93b8603",
    "tags": [],
    "deepnote_to_be_reexecuted": false,
    "source_hash": "35d01764",
    "execution_start": 1658408901763,
    "execution_millis": 516,
    "deepnote_cell_type": "code",
    "deepnote_cell_height": 560,
    "deepnote_output_heights": [
     373
    ]
   },
   "source": "pred_proba_c1= lr_clf.predict_proba(X_test)[:,1]\nprecision_recall_curve_plot(y_test,pred_proba_c1)\n\n#recall과 precision 모두 0.7이 안되는 낮은 수치를 가지고 있다. 이러한 문제점을 해결하기 위해\n#다시 데이터값을 점검해본다\n",
   "execution_count": 23,
   "outputs": [
    {
     "data": {
      "text/plain": "<Figure size 576x432 with 1 Axes>",
      "image/png": "[encoded data removed]"
     },
     "metadata": {
      "needs_background": "light",
      "image/png": {
       "width": 497,
       "height": 371
      }
     },
     "output_type": "display_data"
    }
   ]
  },
  {
   "cell_type": "markdown",
   "source": "- 현재 이 기술통계량을 보면 최소값 min이 0이 되는 피처들이 많다는 것을 알 수 있다\n- 현실세계에 비추어 보았을때 이러한 값을 가지는 것은 지극히 낮은 확률일 것이므로 데이터가 잘못 되었을 가능성이 존재한다",
   "metadata": {
    "cell_id": "ced0e0ce5e8243e48ec9955e73606085",
    "tags": [],
    "deepnote_cell_type": "markdown",
    "deepnote_cell_height": 126.78125
   }
  },
  {
   "cell_type": "code",
   "metadata": {
    "cell_id": "958f2c044c5548bf9168a5e7750a46fe",
    "tags": [],
    "deepnote_to_be_reexecuted": false,
    "source_hash": "e1de6118",
    "execution_start": 1658408902210,
    "execution_millis": 71,
    "deepnote_cell_type": "code",
    "deepnote_cell_height": 592
   },
   "source": "df_stats=diabetes_df.describe().T\ndf_stats",
   "execution_count": 24,
   "outputs": [
    {
     "output_type": "execute_result",
     "execution_count": 24,
     "data": {
      "application/vnd.deepnote.dataframe.v3+json": {
       "column_count": 8,
       "row_count": 9,
       "columns": [
        {
         "name": "count",
         "dtype": "float64",
         "stats": {
          "unique_count": 1,
          "nan_count": 0,
          "min": "768.0",
          "max": "768.0",
          "histogram": [
           {
            "bin_start": 767.5,
            "bin_end": 767.6,
            "count": 0
           },
           {
            "bin_start": 767.6,
            "bin_end": 767.7,
            "count": 0
           },
           {
            "bin_start": 767.7,
            "bin_end": 767.8,
            "count": 0
           },
           {
            "bin_start": 767.8,
            "bin_end": 767.9,
            "count": 0
           },
           {
            "bin_start": 767.9,
            "bin_end": 768,
            "count": 0
           },
           {
            "bin_start": 768,
            "bin_end": 768.1,
            "count": 9
           },
           {
            "bin_start": 768.1,
            "bin_end": 768.2,
            "count": 0
           },
           {
            "bin_start": 768.2,
            "bin_end": 768.3,
            "count": 0
           },
           {
            "bin_start": 768.3,
            "bin_end": 768.4,
            "count": 0
           },
           {
            "bin_start": 768.4,
            "bin_end": 768.5,
            "count": 0
           }
          ]
         }
        },
        {
         "name": "mean",
         "dtype": "float64",
         "stats": {
          "unique_count": 9,
          "nan_count": 0,
          "min": "0.3489583333333333",
          "max": "120.89453125",
          "histogram": [
           {
            "bin_start": 0.3489583333333333,
            "bin_end": 12.403515625,
            "count": 3
           },
           {
            "bin_start": 12.403515625,
            "bin_end": 24.458072916666666,
            "count": 1
           },
           {
            "bin_start": 24.458072916666666,
            "bin_end": 36.512630208333334,
            "count": 2
           },
           {
            "bin_start": 36.512630208333334,
            "bin_end": 48.5671875,
            "count": 0
           },
           {
            "bin_start": 48.5671875,
            "bin_end": 60.62174479166667,
            "count": 0
           },
           {
            "bin_start": 60.62174479166667,
            "bin_end": 72.67630208333333,
            "count": 1
           },
           {
            "bin_start": 72.67630208333333,
            "bin_end": 84.730859375,
            "count": 1
           },
           {
            "bin_start": 84.730859375,
            "bin_end": 96.78541666666666,
            "count": 0
           },
           {
            "bin_start": 96.78541666666666,
            "bin_end": 108.83997395833333,
            "count": 0
           },
           {
            "bin_start": 108.83997395833333,
            "bin_end": 120.89453125,
            "count": 1
           }
          ]
         }
        },
        {
         "name": "std",
         "dtype": "float64",
         "stats": {
          "unique_count": 9,
          "nan_count": 0,
          "min": "0.3313285950127749",
          "max": "115.24400235133817",
          "histogram": [
           {
            "bin_start": 0.3313285950127749,
            "bin_end": 11.822595970645313,
            "count": 5
           },
           {
            "bin_start": 11.822595970645313,
            "bin_end": 23.313863346277852,
            "count": 2
           },
           {
            "bin_start": 23.313863346277852,
            "bin_end": 34.805130721910395,
            "count": 1
           },
           {
            "bin_start": 34.805130721910395,
            "bin_end": 46.296398097542934,
            "count": 0
           },
           {
            "bin_start": 46.296398097542934,
            "bin_end": 57.78766547317547,
            "count": 0
           },
           {
            "bin_start": 57.78766547317547,
            "bin_end": 69.27893284880801,
            "count": 0
           },
           {
            "bin_start": 69.27893284880801,
            "bin_end": 80.77020022444056,
            "count": 0
           },
           {
            "bin_start": 80.77020022444056,
            "bin_end": 92.26146760007309,
            "count": 0
           },
           {
            "bin_start": 92.26146760007309,
            "bin_end": 103.75273497570562,
            "count": 0
           },
           {
            "bin_start": 103.75273497570562,
            "bin_end": 115.24400235133817,
            "count": 1
           }
          ]
         }
        },
        {
         "name": "min",
         "dtype": "float64",
         "stats": {
          "unique_count": 3,
          "nan_count": 0,
          "min": "0.0",
          "max": "21.0",
          "histogram": [
           {
            "bin_start": 0,
            "bin_end": 2.1,
            "count": 8
           },
           {
            "bin_start": 2.1,
            "bin_end": 4.2,
            "count": 0
           },
           {
            "bin_start": 4.2,
            "bin_end": 6.300000000000001,
            "count": 0
           },
           {
            "bin_start": 6.300000000000001,
            "bin_end": 8.4,
            "count": 0
           },
           {
            "bin_start": 8.4,
            "bin_end": 10.5,
            "count": 0
           },
           {
            "bin_start": 10.5,
            "bin_end": 12.600000000000001,
            "count": 0
           },
           {
            "bin_start": 12.600000000000001,
            "bin_end": 14.700000000000001,
            "count": 0
           },
           {
            "bin_start": 14.700000000000001,
            "bin_end": 16.8,
            "count": 0
           },
           {
            "bin_start": 16.8,
            "bin_end": 18.900000000000002,
            "count": 0
           },
           {
            "bin_start": 18.900000000000002,
            "bin_end": 21,
            "count": 1
           }
          ]
         }
        },
        {
         "name": "25%",
         "dtype": "float64",
         "stats": {
          "unique_count": 7,
          "nan_count": 0,
          "min": "0.0",
          "max": "99.0",
          "histogram": [
           {
            "bin_start": 0,
            "bin_end": 9.9,
            "count": 5
           },
           {
            "bin_start": 9.9,
            "bin_end": 19.8,
            "count": 0
           },
           {
            "bin_start": 19.8,
            "bin_end": 29.700000000000003,
            "count": 2
           },
           {
            "bin_start": 29.700000000000003,
            "bin_end": 39.6,
            "count": 0
           },
           {
            "bin_start": 39.6,
            "bin_end": 49.5,
            "count": 0
           },
           {
            "bin_start": 49.5,
            "bin_end": 59.400000000000006,
            "count": 0
           },
           {
            "bin_start": 59.400000000000006,
            "bin_end": 69.3,
            "count": 1
           },
           {
            "bin_start": 69.3,
            "bin_end": 79.2,
            "count": 0
           },
           {
            "bin_start": 79.2,
            "bin_end": 89.10000000000001,
            "count": 0
           },
           {
            "bin_start": 89.10000000000001,
            "bin_end": 99,
            "count": 1
           }
          ]
         }
        },
        {
         "name": "50%",
         "dtype": "float64",
         "stats": {
          "unique_count": 9,
          "nan_count": 0,
          "min": "0.0",
          "max": "117.0",
          "histogram": [
           {
            "bin_start": 0,
            "bin_end": 11.7,
            "count": 3
           },
           {
            "bin_start": 11.7,
            "bin_end": 23.4,
            "count": 1
           },
           {
            "bin_start": 23.4,
            "bin_end": 35.099999999999994,
            "count": 3
           },
           {
            "bin_start": 35.099999999999994,
            "bin_end": 46.8,
            "count": 0
           },
           {
            "bin_start": 46.8,
            "bin_end": 58.5,
            "count": 0
           },
           {
            "bin_start": 58.5,
            "bin_end": 70.19999999999999,
            "count": 0
           },
           {
            "bin_start": 70.19999999999999,
            "bin_end": 81.89999999999999,
            "count": 1
           },
           {
            "bin_start": 81.89999999999999,
            "bin_end": 93.6,
            "count": 0
           },
           {
            "bin_start": 93.6,
            "bin_end": 105.3,
            "count": 0
           },
           {
            "bin_start": 105.3,
            "bin_end": 117,
            "count": 1
           }
          ]
         }
        },
        {
         "name": "75%",
         "dtype": "float64",
         "stats": {
          "unique_count": 9,
          "nan_count": 0,
          "min": "0.62625",
          "max": "140.25",
          "histogram": [
           {
            "bin_start": 0.62625,
            "bin_end": 14.588625,
            "count": 3
           },
           {
            "bin_start": 14.588625,
            "bin_end": 28.551,
            "count": 0
           },
           {
            "bin_start": 28.551,
            "bin_end": 42.513374999999996,
            "count": 3
           },
           {
            "bin_start": 42.513374999999996,
            "bin_end": 56.47575,
            "count": 0
           },
           {
            "bin_start": 56.47575,
            "bin_end": 70.438125,
            "count": 0
           },
           {
            "bin_start": 70.438125,
            "bin_end": 84.4005,
            "count": 1
           },
           {
            "bin_start": 84.4005,
            "bin_end": 98.362875,
            "count": 0
           },
           {
            "bin_start": 98.362875,
            "bin_end": 112.32525,
            "count": 0
           },
           {
            "bin_start": 112.32525,
            "bin_end": 126.28762499999999,
            "count": 0
           },
           {
            "bin_start": 126.28762499999999,
            "bin_end": 140.25,
            "count": 2
           }
          ]
         }
        },
        {
         "name": "max",
         "dtype": "float64",
         "stats": {
          "unique_count": 9,
          "nan_count": 0,
          "min": "1.0",
          "max": "846.0",
          "histogram": [
           {
            "bin_start": 1,
            "bin_end": 85.5,
            "count": 5
           },
           {
            "bin_start": 85.5,
            "bin_end": 170,
            "count": 2
           },
           {
            "bin_start": 170,
            "bin_end": 254.5,
            "count": 1
           },
           {
            "bin_start": 254.5,
            "bin_end": 339,
            "count": 0
           },
           {
            "bin_start": 339,
            "bin_end": 423.5,
            "count": 0
           },
           {
            "bin_start": 423.5,
            "bin_end": 508,
            "count": 0
           },
           {
            "bin_start": 508,
            "bin_end": 592.5,
            "count": 0
           },
           {
            "bin_start": 592.5,
            "bin_end": 677,
            "count": 0
           },
           {
            "bin_start": 677,
            "bin_end": 761.5,
            "count": 0
           },
           {
            "bin_start": 761.5,
            "bin_end": 846,
            "count": 1
           }
          ]
         }
        },
        {
         "name": "_deepnote_index_column",
         "dtype": "object"
        }
       ],
       "rows": [
        {
         "count": 768,
         "mean": 3.8450520833333335,
         "std": 3.3695780626988694,
         "min": 0,
         "25%": 1,
         "50%": 3,
         "75%": 6,
         "max": 17,
         "_deepnote_index_column": "Pregnancies"
        },
        {
         "count": 768,
         "mean": 120.89453125,
         "std": 31.97261819513622,
         "min": 0,
         "25%": 99,
         "50%": 117,
         "75%": 140.25,
         "max": 199,
         "_deepnote_index_column": "Glucose"
        },
        {
         "count": 768,
         "mean": 69.10546875,
         "std": 19.355807170644777,
         "min": 0,
         "25%": 62,
         "50%": 72,
         "75%": 80,
         "max": 122,
         "_deepnote_index_column": "BloodPressure"
        },
        {
         "count": 768,
         "mean": 20.536458333333332,
         "std": 15.952217567727637,
         "min": 0,
         "25%": 0,
         "50%": 23,
         "75%": 32,
         "max": 99,
         "_deepnote_index_column": "SkinThickness"
        },
        {
         "count": 768,
         "mean": 79.79947916666667,
         "std": 115.24400235133817,
         "min": 0,
         "25%": 0,
         "50%": 30.5,
         "75%": 127.25,
         "max": 846,
         "_deepnote_index_column": "Insulin"
        },
        {
         "count": 768,
         "mean": 31.992578124999998,
         "std": 7.884160320375446,
         "min": 0,
         "25%": 27.3,
         "50%": 32,
         "75%": 36.6,
         "max": 67.1,
         "_deepnote_index_column": "BMI"
        },
        {
         "count": 768,
         "mean": 0.47187630208333325,
         "std": 0.3313285950127749,
         "min": 0.078,
         "25%": 0.24375,
         "50%": 0.3725,
         "75%": 0.62625,
         "max": 2.42,
         "_deepnote_index_column": "DiabetesPedigreeFunction"
        },
        {
         "count": 768,
         "mean": 33.240885416666664,
         "std": 11.760231540678685,
         "min": 21,
         "25%": 24,
         "50%": 29,
         "75%": 41,
         "max": 81,
         "_deepnote_index_column": "Age"
        },
        {
         "count": 768,
         "mean": 0.3489583333333333,
         "std": 0.47695137724279896,
         "min": 0,
         "25%": 0,
         "50%": 0,
         "75%": 1,
         "max": 1,
         "_deepnote_index_column": "Outcome"
        }
       ]
      },
      "text/plain": "                          count        mean         std     min       25%  \\\nPregnancies               768.0    3.845052    3.369578   0.000   1.00000   \nGlucose                   768.0  120.894531   31.972618   0.000  99.00000   \nBloodPressure             768.0   69.105469   19.355807   0.000  62.00000   \nSkinThickness             768.0   20.536458   15.952218   0.000   0.00000   \nInsulin                   768.0   79.799479  115.244002   0.000   0.00000   \nBMI                       768.0   31.992578    7.884160   0.000  27.30000   \nDiabetesPedigreeFunction  768.0    0.471876    0.331329   0.078   0.24375   \nAge                       768.0   33.240885   11.760232  21.000  24.00000   \nOutcome                   768.0    0.348958    0.476951   0.000   0.00000   \n\n                               50%        75%     max  \nPregnancies                 3.0000    6.00000   17.00  \nGlucose                   117.0000  140.25000  199.00  \nBloodPressure              72.0000   80.00000  122.00  \nSkinThickness              23.0000   32.00000   99.00  \nInsulin                    30.5000  127.25000  846.00  \nBMI                        32.0000   36.60000   67.10  \nDiabetesPedigreeFunction    0.3725    0.62625    2.42  \nAge                        29.0000   41.00000   81.00  \nOutcome                     0.0000    1.00000    1.00  ",
      "text/html": "<div>\n<style scoped>\n    .dataframe tbody tr th:only-of-type {\n        vertical-align: middle;\n    }\n\n    .dataframe tbody tr th {\n        vertical-align: top;\n    }\n\n    .dataframe thead th {\n        text-align: right;\n    }\n</style>\n<table border=\"1\" class=\"dataframe\">\n  <thead>\n    <tr style=\"text-align: right;\">\n      <th></th>\n      <th>count</th>\n      <th>mean</th>\n      <th>std</th>\n      <th>min</th>\n      <th>25%</th>\n      <th>50%</th>\n      <th>75%</th>\n      <th>max</th>\n    </tr>\n  </thead>\n  <tbody>\n    <tr>\n      <th>Pregnancies</th>\n      <td>768.0</td>\n      <td>3.845052</td>\n      <td>3.369578</td>\n      <td>0.000</td>\n      <td>1.00000</td>\n      <td>3.0000</td>\n      <td>6.00000</td>\n      <td>17.00</td>\n    </tr>\n    <tr>\n      <th>Glucose</th>\n      <td>768.0</td>\n      <td>120.894531</td>\n      <td>31.972618</td>\n      <td>0.000</td>\n      <td>99.00000</td>\n      <td>117.0000</td>\n      <td>140.25000</td>\n      <td>199.00</td>\n    </tr>\n    <tr>\n      <th>BloodPressure</th>\n      <td>768.0</td>\n      <td>69.105469</td>\n      <td>19.355807</td>\n      <td>0.000</td>\n      <td>62.00000</td>\n      <td>72.0000</td>\n      <td>80.00000</td>\n      <td>122.00</td>\n    </tr>\n    <tr>\n      <th>SkinThickness</th>\n      <td>768.0</td>\n      <td>20.536458</td>\n      <td>15.952218</td>\n      <td>0.000</td>\n      <td>0.00000</td>\n      <td>23.0000</td>\n      <td>32.00000</td>\n      <td>99.00</td>\n    </tr>\n    <tr>\n      <th>Insulin</th>\n      <td>768.0</td>\n      <td>79.799479</td>\n      <td>115.244002</td>\n      <td>0.000</td>\n      <td>0.00000</td>\n      <td>30.5000</td>\n      <td>127.25000</td>\n      <td>846.00</td>\n    </tr>\n    <tr>\n      <th>BMI</th>\n      <td>768.0</td>\n      <td>31.992578</td>\n      <td>7.884160</td>\n      <td>0.000</td>\n      <td>27.30000</td>\n      <td>32.0000</td>\n      <td>36.60000</td>\n      <td>67.10</td>\n    </tr>\n    <tr>\n      <th>DiabetesPedigreeFunction</th>\n      <td>768.0</td>\n      <td>0.471876</td>\n      <td>0.331329</td>\n      <td>0.078</td>\n      <td>0.24375</td>\n      <td>0.3725</td>\n      <td>0.62625</td>\n      <td>2.42</td>\n    </tr>\n    <tr>\n      <th>Age</th>\n      <td>768.0</td>\n      <td>33.240885</td>\n      <td>11.760232</td>\n      <td>21.000</td>\n      <td>24.00000</td>\n      <td>29.0000</td>\n      <td>41.00000</td>\n      <td>81.00</td>\n    </tr>\n    <tr>\n      <th>Outcome</th>\n      <td>768.0</td>\n      <td>0.348958</td>\n      <td>0.476951</td>\n      <td>0.000</td>\n      <td>0.00000</td>\n      <td>0.0000</td>\n      <td>1.00000</td>\n      <td>1.00</td>\n    </tr>\n  </tbody>\n</table>\n</div>"
     },
     "metadata": {}
    }
   ]
  },
  {
   "cell_type": "code",
   "metadata": {
    "cell_id": "e49cae6bdd2a4535bc8bee2f848cf7ac",
    "tags": [],
    "deepnote_to_be_reexecuted": false,
    "source_hash": "883d1aa8",
    "execution_start": 1658408902278,
    "execution_millis": 308,
    "deepnote_cell_type": "code",
    "deepnote_cell_height": 365,
    "deepnote_output_heights": [
     250
    ]
   },
   "source": "plt.hist(diabetes_df['Glucose'],bins=100)\nplt.show()",
   "execution_count": 25,
   "outputs": [
    {
     "data": {
      "text/plain": "<Figure size 432x288 with 1 Axes>",
      "image/png": "[encoded data removed]"
     },
     "metadata": {
      "needs_background": "light",
      "image/png": {
       "width": 368,
       "height": 248
      }
     },
     "output_type": "display_data"
    }
   ]
  },
  {
   "cell_type": "code",
   "metadata": {
    "cell_id": "e338f9cbe77c410091416b93e60f0b94",
    "tags": [],
    "deepnote_to_be_reexecuted": false,
    "source_hash": "2fac76fd",
    "execution_start": 1658408902589,
    "execution_millis": 44,
    "owner_user_id": "6620e961-4734-4451-b6f0-024902f1a0c6",
    "deepnote_cell_type": "code",
    "deepnote_cell_height": 477
   },
   "source": "#0값을 검사할 피처명 리스트\ncol_names= diabetes_df.columns\npd.DataFrame(col_names)\n\nzero_features=['Glucose','BloodPressure','SkinThickness','Insulin','BMI']\n\n#전체 데이터 건수\ntotal_count = diabetes_df['Glucose'].count()\n\n#피처별로 반복하면서 데이터값이 0 인 데이터건수를 추출하고 퍼센트를 계산한다\nfor feature in zero_features:\n    zero_count = diabetes_df[diabetes_df[feature]==0][feature].count()\n    print(f'{feature}의 0값의 데이터포인트 갯수는 {zero_count}, 퍼센트는 {100*zero_count/total_count:.2f}%입니다')\n\n",
   "execution_count": 26,
   "outputs": [
    {
     "name": "stdout",
     "text": "Glucose의 0값의 데이터포인트 갯수는 5, 퍼센트는 0.65%입니다\nBloodPressure의 0값의 데이터포인트 갯수는 35, 퍼센트는 4.56%입니다\nSkinThickness의 0값의 데이터포인트 갯수는 227, 퍼센트는 29.56%입니다\nInsulin의 0값의 데이터포인트 갯수는 374, 퍼센트는 48.70%입니다\nBMI의 0값의 데이터포인트 갯수는 11, 퍼센트는 1.43%입니다\n",
     "output_type": "stream"
    }
   ]
  },
  {
   "cell_type": "markdown",
   "source": "- SkinThickness의 0값 데이터포인트 퍼센트는 29.56%, Insulin는 48.70%로 상당히 높은 비율이 나왔다\n- 그러나 전체 데이터수가 많지 않기 때문에 이 데이터들을 일괄적을 삭제할 경우 학습에 차질이 발생할 수 있으므로\n- 위 피처들의 0값을 평균값으로 대체하도록 한다",
   "metadata": {
    "cell_id": "2b18e17db4fb487ba56ed9e7ad801789",
    "tags": [],
    "deepnote_cell_type": "markdown",
    "deepnote_cell_height": 155.375
   }
  },
  {
   "cell_type": "code",
   "metadata": {
    "cell_id": "428e296059fb4ce2b2048ab429d11b22",
    "tags": [],
    "deepnote_to_be_reexecuted": false,
    "source_hash": "7d001fe1",
    "execution_start": 1658408902632,
    "execution_millis": 44,
    "deepnote_cell_type": "code",
    "deepnote_cell_height": 468.375
   },
   "source": "X= diabetes_df.iloc[:,:-1]\ny= diabetes_df.iloc[:,-1]\n\n#Standardscaler 클래스를 활용하여 피처 데이터 셋에 일괄적으로 스케일링을 적용한다\nscaler= StandardScaler()\nX_scaled= scaler.fit_transform(X)\n\nX_train, X_test, y_train, y_test = train_test_split(X_scaled,y,test_size=0.2,random_state=156,stratify=y)\n\n#로지스틱 회귀로 학습, 예측 및 평가를 수행한다\nlr_clf= LogisticRegression()\nlr_clf.fit(X_train,y_train)\npred= lr_clf.predict(X_test)\npred_proba= lr_clf.predict_proba(X_test)[:,1]\n\nget_clf_eval2(y_test,pred,pred_proba)",
   "execution_count": 27,
   "outputs": [
    {
     "name": "stdout",
     "text": "오차 행렬\n[[90 10]\n [21 33]]\n 정확도는 0.799 정밀도는 0.767     재현율은 0.611 F1는 0.680, AUC는 0.806 이다\n",
     "output_type": "stream"
    }
   ]
  },
  {
   "cell_type": "code",
   "metadata": {
    "cell_id": "c883b026d43b4baf82de637547a4226f",
    "tags": [],
    "deepnote_to_be_reexecuted": false,
    "source_hash": "e0eedd02",
    "execution_start": 1658408902675,
    "execution_millis": 27,
    "deepnote_cell_type": "code",
    "deepnote_cell_height": 755
   },
   "source": "thresholds=[0.3, 0.33, 0.36, 0.39, 0.42, 0.45, 0.48, 0.50]\npred_proba= lr_clf.predict_proba(X_test)\nget_eval_by_threshold(y_test,pred_proba[:,1].reshape(-1,1),thresholds)\n",
   "execution_count": 28,
   "outputs": [
    {
     "name": "stdout",
     "text": "------------------------------------------------------\n임계값 0.3\n오차 행렬\n[[69 31]\n [13 41]]\n정확도 0.714 정밀도 0.569 재현율 0.759 \n------------------------------------------------------\n임계값 0.33\n오차 행렬\n[[74 26]\n [17 37]]\n정확도 0.721 정밀도 0.587 재현율 0.685 \n------------------------------------------------------\n임계값 0.36\n오차 행렬\n[[76 24]\n [18 36]]\n정확도 0.727 정밀도 0.600 재현율 0.667 \n------------------------------------------------------\n임계값 0.39\n오차 행렬\n[[79 21]\n [19 35]]\n정확도 0.740 정밀도 0.625 재현율 0.648 \n------------------------------------------------------\n임계값 0.42\n오차 행렬\n[[81 19]\n [20 34]]\n정확도 0.747 정밀도 0.642 재현율 0.630 \n------------------------------------------------------\n임계값 0.45\n오차 행렬\n[[85 15]\n [20 34]]\n정확도 0.773 정밀도 0.694 재현율 0.630 \n------------------------------------------------------\n임계값 0.48\n오차 행렬\n[[88 12]\n [21 33]]\n정확도 0.786 정밀도 0.733 재현율 0.611 \n------------------------------------------------------\n임계값 0.5\n오차 행렬\n[[90 10]\n [21 33]]\n정확도 0.799 정밀도 0.767 재현율 0.611 \n",
     "output_type": "stream"
    }
   ]
  },
  {
   "cell_type": "code",
   "metadata": {
    "cell_id": "ab50469e875e44a6886ec8bf582f26bc",
    "tags": [],
    "deepnote_to_be_reexecuted": false,
    "source_hash": "e7874390",
    "execution_start": 1658408902703,
    "execution_millis": 9,
    "deepnote_cell_type": "code",
    "deepnote_cell_height": 252.375
   },
   "source": "#임계값을 0.48로 설정한 Binarizer를 생성하자\nbinarizer = Binarizer(threshold=0.48)\npred_th_048= binarizer.fit_transform(pred_proba[:,1].reshape(-1,1))\nget_clf_eval2(y_test,pred_th_048,pred_proba[:,1])",
   "execution_count": 29,
   "outputs": [
    {
     "name": "stdout",
     "text": "오차 행렬\n[[88 12]\n [21 33]]\n 정확도는 0.786 정밀도는 0.733     재현율은 0.611 F1는 0.667, AUC는 0.806 이다\n",
     "output_type": "stream"
    }
   ]
  },
  {
   "cell_type": "code",
   "metadata": {
    "cell_id": "455cfb1a037c41f2bceac4cffa58b3ad",
    "tags": [],
    "deepnote_to_be_reexecuted": false,
    "source_hash": "b623e53d",
    "execution_start": 1658408902758,
    "execution_millis": 1,
    "deepnote_cell_type": "code",
    "deepnote_cell_height": 81
   },
   "source": "",
   "execution_count": 29,
   "outputs": []
  },
  {
   "cell_type": "markdown",
   "source": "<a style='text-decoration:none;line-height:16px;display:flex;color:#5B5B62;padding:10px;justify-content:end;' href='https://deepnote.com?utm_source=created-in-deepnote-cell&projectId=59f71f48-e620-40de-82b6-60c121211e54' target=\"_blank\">\n<img alt='Created in deepnote.com' style='display:inline;max-height:16px;margin:0px;margin-right:7.5px;' src='data:image/svg+xml;base64,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' > </img>\nCreated in <span style='font-weight:600;margin-left:4px;'>Deepnote</span></a>",
   "metadata": {
    "tags": [],
    "created_in_deepnote_cell": true,
    "deepnote_cell_type": "markdown"
   }
  }
 ],
 "nbformat": 4,
 "nbformat_minor": 0,
 "metadata": {
  "kernelspec": {
   "display_name": "Python 3",
   "language": "python",
   "name": "python3"
  },
  "language_info": {
   "codemirror_mode": {
    "name": "ipython",
    "version": 2
   },
   "file_extension": ".py",
   "mimetype": "text/x-python",
   "name": "python",
   "nbconvert_exporter": "python",
   "pygments_lexer": "ipython2",
   "version": "2.7.6"
  },
  "deepnote_notebook_id": "146372d7-5d77-4210-a488-73dcdb9efef3",
  "deepnote": {},
  "deepnote_execution_queue": []
 }
}