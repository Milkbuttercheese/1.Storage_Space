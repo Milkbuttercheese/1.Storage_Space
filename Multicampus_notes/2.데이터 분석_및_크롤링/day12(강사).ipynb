{
 "cells": [
  {
   "cell_type": "markdown",
   "id": "9b79dbd4",
   "metadata": {},
   "source": [
    "데이터프레임 연산"
   ]
  },
  {
   "cell_type": "markdown",
   "id": "e7d54256",
   "metadata": {},
   "source": [
    "데이터프레임, 데이터프레임\n",
    "- 같은 행 같은 열 위치에 있는 원소끼리 계산\n",
    "- 데이터프레임 객체1 + 연산자(+, -, *, /) + 데이터프레임 객체2"
   ]
  },
  {
   "cell_type": "code",
   "execution_count": 2,
   "id": "0f38dfc0",
   "metadata": {},
   "outputs": [],
   "source": [
    "import pandas as pd\n",
    "import seaborn as sns\n",
    "\n",
    "titanic = sns.load_dataset('titanic')\n",
    "\n",
    "# df 객체 생성\n",
    "# titanic 데이터셋에서 전체 행, 특정 열(age, fare) 가져오기\n",
    "df = titanic.loc[:, ['age', 'fare']]\n",
    "\n",
    "# 데이터프레임에 숫자 10 더하기(addition)\n",
    "addition = df + 10"
   ]
  },
  {
   "cell_type": "code",
   "execution_count": 3,
   "id": "75d1500d",
   "metadata": {},
   "outputs": [
    {
     "name": "stdout",
     "output_type": "stream",
     "text": [
      "      age  fare\n",
      "0    10.0  10.0\n",
      "1    10.0  10.0\n",
      "2    10.0  10.0\n",
      "3    10.0  10.0\n",
      "4    10.0  10.0\n",
      "..    ...   ...\n",
      "886  10.0  10.0\n",
      "887  10.0  10.0\n",
      "888   NaN  10.0\n",
      "889  10.0  10.0\n",
      "890  10.0  10.0\n",
      "\n",
      "[891 rows x 2 columns]\n"
     ]
    }
   ],
   "source": [
    "# addition 데이터프레임에서 df 데이터프레임 빼고 출력(subtraction)\n",
    "subtraction = addition - df\n",
    "print(subtraction)"
   ]
  },
  {
   "cell_type": "markdown",
   "id": "7f66d1ff",
   "metadata": {},
   "source": [
    "NaN 값 제거하기 방법1"
   ]
  },
  {
   "cell_type": "code",
   "execution_count": 6,
   "id": "8eecabe1",
   "metadata": {},
   "outputs": [
    {
     "name": "stdout",
     "output_type": "stream",
     "text": [
      "      age  fare\n",
      "0    10.0  10.0\n",
      "1    10.0  10.0\n",
      "2    10.0  10.0\n",
      "3    10.0  10.0\n",
      "4    10.0  10.0\n",
      "..    ...   ...\n",
      "886  10.0  10.0\n",
      "887  10.0  10.0\n",
      "888  10.0  10.0\n",
      "889  10.0  10.0\n",
      "890  10.0  10.0\n",
      "\n",
      "[891 rows x 2 columns]\n"
     ]
    }
   ],
   "source": [
    "subtraction.ffill(inplace=True)\n",
    "print(subtraction)"
   ]
  },
  {
   "cell_type": "markdown",
   "id": "f4cd3c08",
   "metadata": {},
   "source": [
    "NaN 값 제거하기 방법2"
   ]
  },
  {
   "cell_type": "code",
   "execution_count": 7,
   "id": "d13eb35a",
   "metadata": {},
   "outputs": [],
   "source": [
    "import pandas as pd\n",
    "import seaborn as sns\n",
    "\n",
    "titanic = sns.load_dataset('titanic')\n",
    "\n",
    "# df 객체 생성\n",
    "# titanic 데이터셋에서 전체 행, 특정 열(age, fare) 가져오기\n",
    "df = titanic.loc[:, ['age', 'fare']]\n",
    "\n",
    "# 데이터프레임 객체.fillna(0, inplace = True)\n",
    "df.fillna(0, inplace = True)\n",
    "\n",
    "# 데이터프레임에 숫자 10 더하기(addition)\n",
    "addition = df + 10"
   ]
  },
  {
   "cell_type": "markdown",
   "id": "636bbbbf",
   "metadata": {},
   "source": [
    "addition 출력"
   ]
  },
  {
   "cell_type": "code",
   "execution_count": 8,
   "id": "1f04bb94",
   "metadata": {},
   "outputs": [
    {
     "name": "stdout",
     "output_type": "stream",
     "text": [
      "      age     fare\n",
      "0    32.0  17.2500\n",
      "1    48.0  81.2833\n",
      "2    36.0  17.9250\n",
      "3    45.0  63.1000\n",
      "4    45.0  18.0500\n",
      "..    ...      ...\n",
      "886  37.0  23.0000\n",
      "887  29.0  40.0000\n",
      "888  10.0  33.4500\n",
      "889  36.0  40.0000\n",
      "890  42.0  17.7500\n",
      "\n",
      "[891 rows x 2 columns]\n"
     ]
    }
   ],
   "source": [
    "print(addition)"
   ]
  },
  {
   "cell_type": "markdown",
   "id": "2d2bea90",
   "metadata": {},
   "source": [
    "데이터프레임 구조\n",
    "- auto-mpg.csv\n",
    "- mpg(연비), cylinder(실린더 수), displacement(배기량), horsepower(출력), weigth(무게), acceleration(가속 능력), model_year(출시 연도), origin(제조국), model_name(모델 명)"
   ]
  },
  {
   "cell_type": "markdown",
   "id": "633f93f7",
   "metadata": {},
   "source": [
    "auto-mpg.csv 파일을 불러옴(헤더 적용 X)<br>\n",
    "열 이름 지정(mpg, cylinder, displacement, horsepower, weigth, acceleration, model year, origin, name)"
   ]
  },
  {
   "cell_type": "code",
   "execution_count": 20,
   "id": "34541512",
   "metadata": {},
   "outputs": [],
   "source": [
    "import pandas as pd\n",
    "\n",
    "df = pd.read_csv('./auto-mpg.csv', header = None)\n",
    "\n",
    "df.columns = ['mpg', 'cylinder', 'displacement', 'horsepower', 'weight', 'acceleration', 'model year', 'origin', 'name']"
   ]
  },
  {
   "cell_type": "code",
   "execution_count": 10,
   "id": "fe8c13d1",
   "metadata": {},
   "outputs": [
    {
     "name": "stdout",
     "output_type": "stream",
     "text": [
      "      mpg  cylinder  displacement horsepower  weigth  acceleration  \\\n",
      "0    18.0         8         307.0        130    3504          12.0   \n",
      "1    15.0         8         350.0        165    3693          11.5   \n",
      "2    18.0         8         318.0        150    3436          11.0   \n",
      "3    16.0         8         304.0        150    3433          12.0   \n",
      "4    17.0         8         302.0        140    3449          10.5   \n",
      "..    ...       ...           ...        ...     ...           ...   \n",
      "393  27.0         4         140.0         86    2790          15.6   \n",
      "394  44.0         4          97.0         52    2130          24.6   \n",
      "395  32.0         4         135.0         84    2295          11.6   \n",
      "396  28.0         4         120.0         79    2625          18.6   \n",
      "397  31.0         4         119.0         82    2720          19.4   \n",
      "\n",
      "     model year  origin                       name  \n",
      "0            70       1  chevrolet chevelle malibu  \n",
      "1            70       1          buick skylark 320  \n",
      "2            70       1         plymouth satellite  \n",
      "3            70       1              amc rebel sst  \n",
      "4            70       1                ford torino  \n",
      "..          ...     ...                        ...  \n",
      "393          82       1            ford mustang gl  \n",
      "394          82       2                  vw pickup  \n",
      "395          82       1              dodge rampage  \n",
      "396          82       1                ford ranger  \n",
      "397          82       1                 chevy s-10  \n",
      "\n",
      "[398 rows x 9 columns]\n"
     ]
    }
   ],
   "source": [
    "print(df)"
   ]
  },
  {
   "cell_type": "markdown",
   "id": "24fc3169",
   "metadata": {},
   "source": [
    "데이터 요약 정보 확인"
   ]
  },
  {
   "cell_type": "markdown",
   "id": "c8a54fa2",
   "metadata": {},
   "source": [
    "데이터프레임의 크기\n",
    "- shape 속성 확인\n",
    "- 데이터프레임 객체.shape"
   ]
  },
  {
   "cell_type": "markdown",
   "id": "21d218d2",
   "metadata": {},
   "source": [
    "df 데이터프레임의 크기를 출력"
   ]
  },
  {
   "cell_type": "code",
   "execution_count": 11,
   "id": "43e742bd",
   "metadata": {},
   "outputs": [
    {
     "name": "stdout",
     "output_type": "stream",
     "text": [
      "(398, 9)\n"
     ]
    }
   ],
   "source": [
    "print(df.shape)"
   ]
  },
  {
   "cell_type": "markdown",
   "id": "3e439188",
   "metadata": {},
   "source": [
    "데이터프레임의 기본 정보\n",
    "- info 함수 사용\n",
    "- 데이터프레임 객체.info()"
   ]
  },
  {
   "cell_type": "code",
   "execution_count": 12,
   "id": "5a49697a",
   "metadata": {},
   "outputs": [
    {
     "name": "stdout",
     "output_type": "stream",
     "text": [
      "<class 'pandas.core.frame.DataFrame'>\n",
      "RangeIndex: 398 entries, 0 to 397\n",
      "Data columns (total 9 columns):\n",
      " #   Column        Non-Null Count  Dtype  \n",
      "---  ------        --------------  -----  \n",
      " 0   mpg           398 non-null    float64\n",
      " 1   cylinder      398 non-null    int64  \n",
      " 2   displacement  398 non-null    float64\n",
      " 3   horsepower    398 non-null    object \n",
      " 4   weigth        398 non-null    int64  \n",
      " 5   acceleration  398 non-null    float64\n",
      " 6   model year    398 non-null    int64  \n",
      " 7   origin        398 non-null    int64  \n",
      " 8   name          398 non-null    object \n",
      "dtypes: float64(3), int64(4), object(2)\n",
      "memory usage: 28.1+ KB\n",
      "None\n"
     ]
    }
   ],
   "source": [
    "print(df.info())"
   ]
  },
  {
   "cell_type": "markdown",
   "id": "2f8f06ed",
   "metadata": {},
   "source": [
    "- 데이터 유형, 행 인덱스 구성, 열 이름 종류와 개수, 열의 자료형과 개수, 메모리 사용량"
   ]
  },
  {
   "cell_type": "markdown",
   "id": "a7577755",
   "metadata": {},
   "source": [
    "특정 정보 확인"
   ]
  },
  {
   "cell_type": "markdown",
   "id": "0420063e",
   "metadata": {},
   "source": [
    "각 열의 자료형 확인\n",
    "- dtypes 속성\n",
    "- 데이터프레임 객체.dtypes"
   ]
  },
  {
   "cell_type": "code",
   "execution_count": 13,
   "id": "1b3e39ee",
   "metadata": {},
   "outputs": [
    {
     "name": "stdout",
     "output_type": "stream",
     "text": [
      "mpg             float64\n",
      "cylinder          int64\n",
      "displacement    float64\n",
      "horsepower       object\n",
      "weigth            int64\n",
      "acceleration    float64\n",
      "model year        int64\n",
      "origin            int64\n",
      "name             object\n",
      "dtype: object\n"
     ]
    }
   ],
   "source": [
    "print(df.dtypes)"
   ]
  },
  {
   "cell_type": "markdown",
   "id": "884f0f0d",
   "metadata": {},
   "source": [
    "특정 열의 자료형 확인\n",
    "- 데이터프레임 객체.열 이름.dtypes"
   ]
  },
  {
   "cell_type": "code",
   "execution_count": 14,
   "id": "9f3425ab",
   "metadata": {},
   "outputs": [
    {
     "name": "stdout",
     "output_type": "stream",
     "text": [
      "float64\n"
     ]
    }
   ],
   "source": [
    "print(df.mpg.dtypes)"
   ]
  },
  {
   "cell_type": "markdown",
   "id": "b01c3b76",
   "metadata": {},
   "source": [
    "데이터프레임의 기술 통계 정보 요약\n",
    "- describe 함수 사용\n",
    " - 숫자 데이터를 사용하는 열에 대한 주요 기술 통계 정보(평균, 표준편차, 최대값, 중간값 등)을 요약하여 출력\n",
    "- 데이터프레임 객체.describe()\n",
    " - decribe 함수 안에 값을 include='all' 옵션을 넣으면 추가 정보 확인 가능"
   ]
  },
  {
   "cell_type": "code",
   "execution_count": 15,
   "id": "a9b86aae",
   "metadata": {},
   "outputs": [
    {
     "name": "stdout",
     "output_type": "stream",
     "text": [
      "              mpg    cylinder  displacement       weigth  acceleration  \\\n",
      "count  398.000000  398.000000    398.000000   398.000000    398.000000   \n",
      "mean    23.514573    5.454774    193.425879  2970.424623     15.568090   \n",
      "std      7.815984    1.701004    104.269838   846.841774      2.757689   \n",
      "min      9.000000    3.000000     68.000000  1613.000000      8.000000   \n",
      "25%     17.500000    4.000000    104.250000  2223.750000     13.825000   \n",
      "50%     23.000000    4.000000    148.500000  2803.500000     15.500000   \n",
      "75%     29.000000    8.000000    262.000000  3608.000000     17.175000   \n",
      "max     46.600000    8.000000    455.000000  5140.000000     24.800000   \n",
      "\n",
      "       model year      origin  \n",
      "count  398.000000  398.000000  \n",
      "mean    76.010050    1.572864  \n",
      "std      3.697627    0.802055  \n",
      "min     70.000000    1.000000  \n",
      "25%     73.000000    1.000000  \n",
      "50%     76.000000    1.000000  \n",
      "75%     79.000000    2.000000  \n",
      "max     82.000000    3.000000  \n"
     ]
    }
   ],
   "source": [
    "print(df.describe())"
   ]
  },
  {
   "cell_type": "code",
   "execution_count": 16,
   "id": "7b83be64",
   "metadata": {},
   "outputs": [
    {
     "name": "stdout",
     "output_type": "stream",
     "text": [
      "               mpg    cylinder  displacement horsepower       weigth  \\\n",
      "count   398.000000  398.000000    398.000000        398   398.000000   \n",
      "unique         NaN         NaN           NaN         94          NaN   \n",
      "top            NaN         NaN           NaN        150          NaN   \n",
      "freq           NaN         NaN           NaN         22          NaN   \n",
      "mean     23.514573    5.454774    193.425879        NaN  2970.424623   \n",
      "std       7.815984    1.701004    104.269838        NaN   846.841774   \n",
      "min       9.000000    3.000000     68.000000        NaN  1613.000000   \n",
      "25%      17.500000    4.000000    104.250000        NaN  2223.750000   \n",
      "50%      23.000000    4.000000    148.500000        NaN  2803.500000   \n",
      "75%      29.000000    8.000000    262.000000        NaN  3608.000000   \n",
      "max      46.600000    8.000000    455.000000        NaN  5140.000000   \n",
      "\n",
      "        acceleration  model year      origin        name  \n",
      "count     398.000000  398.000000  398.000000         398  \n",
      "unique           NaN         NaN         NaN         305  \n",
      "top              NaN         NaN         NaN  ford pinto  \n",
      "freq             NaN         NaN         NaN           6  \n",
      "mean       15.568090   76.010050    1.572864         NaN  \n",
      "std         2.757689    3.697627    0.802055         NaN  \n",
      "min         8.000000   70.000000    1.000000         NaN  \n",
      "25%        13.825000   73.000000    1.000000         NaN  \n",
      "50%        15.500000   76.000000    1.000000         NaN  \n",
      "75%        17.175000   79.000000    2.000000         NaN  \n",
      "max        24.800000   82.000000    3.000000         NaN  \n"
     ]
    }
   ],
   "source": [
    "print(df.describe(include='all')) # IQR = 11.5, IQR * 1.5 = 17.25, Q1 - 1.5 * IQR = -0.25\n",
    "                                  # Q3 + 1.5 * IQR = 29 + 17.25 = 46.25"
   ]
  },
  {
   "cell_type": "markdown",
   "id": "eddc4355",
   "metadata": {},
   "source": [
    "통계 함수 적용"
   ]
  },
  {
   "cell_type": "markdown",
   "id": "28294422",
   "metadata": {},
   "source": [
    "평균값\n",
    "- mean 함수 사용\n",
    "- 데이터프레임 객체.mean()\n",
    "- 데이터프레임 객체[열이름].mean()"
   ]
  },
  {
   "cell_type": "code",
   "execution_count": 17,
   "id": "aef6535f",
   "metadata": {},
   "outputs": [
    {
     "name": "stdout",
     "output_type": "stream",
     "text": [
      "mpg               23.514573\n",
      "cylinder           5.454774\n",
      "displacement     193.425879\n",
      "weigth          2970.424623\n",
      "acceleration      15.568090\n",
      "model year        76.010050\n",
      "origin             1.572864\n",
      "dtype: float64\n"
     ]
    },
    {
     "name": "stderr",
     "output_type": "stream",
     "text": [
      "C:\\Users\\student\\AppData\\Local\\Temp/ipykernel_15256/2807316344.py:1: FutureWarning: Dropping of nuisance columns in DataFrame reductions (with 'numeric_only=None') is deprecated; in a future version this will raise TypeError.  Select only valid columns before calling the reduction.\n",
      "  print(df.mean())\n"
     ]
    }
   ],
   "source": [
    "print(df.mean())"
   ]
  },
  {
   "cell_type": "code",
   "execution_count": 18,
   "id": "8bb3f15b",
   "metadata": {},
   "outputs": [
    {
     "name": "stdout",
     "output_type": "stream",
     "text": [
      "23.514572864321615\n"
     ]
    }
   ],
   "source": [
    "print(df['mpg'].mean())"
   ]
  },
  {
   "cell_type": "code",
   "execution_count": 22,
   "id": "98228f53",
   "metadata": {},
   "outputs": [
    {
     "name": "stdout",
     "output_type": "stream",
     "text": [
      "mpg         23.514573\n",
      "weight    2970.424623\n",
      "dtype: float64\n"
     ]
    }
   ],
   "source": [
    "print(df[['mpg', 'weight']].mean())"
   ]
  },
  {
   "cell_type": "markdown",
   "id": "0ebecaa7",
   "metadata": {},
   "source": [
    "중간값\n",
    "- 사분위 값 중 50%에 해당하는 값\n",
    "- median 함수 사용\n",
    "- 데이터프레임 객체.median()\n",
    "- 데이터프레임 객체[열 이름].median()"
   ]
  },
  {
   "cell_type": "markdown",
   "id": "159252c3",
   "metadata": {},
   "source": [
    "전체 중간값 출력"
   ]
  },
  {
   "cell_type": "code",
   "execution_count": 23,
   "id": "fb598a05",
   "metadata": {},
   "outputs": [
    {
     "name": "stdout",
     "output_type": "stream",
     "text": [
      "mpg               23.0\n",
      "cylinder           4.0\n",
      "displacement     148.5\n",
      "weight          2803.5\n",
      "acceleration      15.5\n",
      "model year        76.0\n",
      "origin             1.0\n",
      "dtype: float64\n"
     ]
    },
    {
     "name": "stderr",
     "output_type": "stream",
     "text": [
      "C:\\Users\\student\\AppData\\Local\\Temp/ipykernel_15256/4259369830.py:1: FutureWarning: Dropping of nuisance columns in DataFrame reductions (with 'numeric_only=None') is deprecated; in a future version this will raise TypeError.  Select only valid columns before calling the reduction.\n",
      "  print(df.median())\n"
     ]
    }
   ],
   "source": [
    "print(df.median())"
   ]
  },
  {
   "cell_type": "markdown",
   "id": "bc04dbcf",
   "metadata": {},
   "source": [
    "mpg 중간값 출력"
   ]
  },
  {
   "cell_type": "code",
   "execution_count": 24,
   "id": "6773272b",
   "metadata": {},
   "outputs": [
    {
     "name": "stdout",
     "output_type": "stream",
     "text": [
      "23.0\n"
     ]
    }
   ],
   "source": [
    "print(df['mpg'].median())"
   ]
  },
  {
   "cell_type": "markdown",
   "id": "63c0eb48",
   "metadata": {},
   "source": [
    "최대값\n",
    "- max 함수 사용\n",
    "- 데이터프레임 객체.max()\n",
    "- 데이터프레임 객체[열 이름].max()"
   ]
  },
  {
   "cell_type": "markdown",
   "id": "f432cfab",
   "metadata": {},
   "source": [
    "전체 최대값 출력"
   ]
  },
  {
   "cell_type": "code",
   "execution_count": 26,
   "id": "e1f40419",
   "metadata": {},
   "outputs": [
    {
     "name": "stdout",
     "output_type": "stream",
     "text": [
      "mpg                         46.6\n",
      "cylinder                       8\n",
      "displacement               455.0\n",
      "horsepower                     ?\n",
      "weight                      5140\n",
      "acceleration                24.8\n",
      "model year                    82\n",
      "origin                         3\n",
      "name            vw rabbit custom\n",
      "dtype: object\n"
     ]
    }
   ],
   "source": [
    "print(df.max())"
   ]
  },
  {
   "cell_type": "markdown",
   "id": "e09e04b0",
   "metadata": {},
   "source": [
    "mpg 최대값 출력"
   ]
  },
  {
   "cell_type": "code",
   "execution_count": 27,
   "id": "ce8d4749",
   "metadata": {},
   "outputs": [
    {
     "name": "stdout",
     "output_type": "stream",
     "text": [
      "46.6\n"
     ]
    }
   ],
   "source": [
    "print(df['mpg'].max())"
   ]
  },
  {
   "cell_type": "markdown",
   "id": "509e31dc",
   "metadata": {},
   "source": [
    "최소값\n",
    "- min 함수 사용\n",
    "- 데이터프레임 객체.min()\n",
    "- 데이터프레임 객체[열 이름].min()"
   ]
  },
  {
   "cell_type": "markdown",
   "id": "5ab0e5ab",
   "metadata": {},
   "source": [
    "전체 최소값 출력"
   ]
  },
  {
   "cell_type": "code",
   "execution_count": 29,
   "id": "7da4a42c",
   "metadata": {},
   "outputs": [
    {
     "name": "stdout",
     "output_type": "stream",
     "text": [
      "mpg                                 9.0\n",
      "cylinder                              3\n",
      "displacement                       68.0\n",
      "horsepower                          100\n",
      "weight                             1613\n",
      "acceleration                        8.0\n",
      "model year                           70\n",
      "origin                                1\n",
      "name            amc ambassador brougham\n",
      "dtype: object\n"
     ]
    }
   ],
   "source": [
    "print(df.min())"
   ]
  },
  {
   "cell_type": "markdown",
   "id": "a8dc1fcf",
   "metadata": {},
   "source": [
    "mpg 최소값 출력"
   ]
  },
  {
   "cell_type": "code",
   "execution_count": 30,
   "id": "f8e1ef0b",
   "metadata": {},
   "outputs": [
    {
     "name": "stdout",
     "output_type": "stream",
     "text": [
      "9.0\n"
     ]
    }
   ],
   "source": [
    "print(df['mpg'].min())"
   ]
  },
  {
   "cell_type": "markdown",
   "id": "9485e7cc",
   "metadata": {},
   "source": [
    "표준편차\n",
    "- std 함수 사용\n",
    "- 데이터프레임 객체.std()\n",
    "- 데이터프레임 객체[열 이름].std()"
   ]
  },
  {
   "cell_type": "markdown",
   "id": "945db804",
   "metadata": {},
   "source": [
    "전체 표준편차 출력"
   ]
  },
  {
   "cell_type": "code",
   "execution_count": 32,
   "id": "af9f78d6",
   "metadata": {},
   "outputs": [
    {
     "name": "stdout",
     "output_type": "stream",
     "text": [
      "mpg               7.815984\n",
      "cylinder          1.701004\n",
      "displacement    104.269838\n",
      "weight          846.841774\n",
      "acceleration      2.757689\n",
      "model year        3.697627\n",
      "origin            0.802055\n",
      "dtype: float64\n"
     ]
    },
    {
     "name": "stderr",
     "output_type": "stream",
     "text": [
      "C:\\Users\\student\\AppData\\Local\\Temp/ipykernel_15256/2597523637.py:1: FutureWarning: Dropping of nuisance columns in DataFrame reductions (with 'numeric_only=None') is deprecated; in a future version this will raise TypeError.  Select only valid columns before calling the reduction.\n",
      "  print(df.std())\n"
     ]
    }
   ],
   "source": [
    "print(df.std())"
   ]
  },
  {
   "cell_type": "markdown",
   "id": "9f7719b6",
   "metadata": {},
   "source": [
    "mpg 표준편차 출력"
   ]
  },
  {
   "cell_type": "code",
   "execution_count": 33,
   "id": "53ce9c07",
   "metadata": {},
   "outputs": [
    {
     "name": "stdout",
     "output_type": "stream",
     "text": [
      "7.815984312565782\n"
     ]
    }
   ],
   "source": [
    "print(df['mpg'].std())"
   ]
  },
  {
   "cell_type": "markdown",
   "id": "7e95ebd4",
   "metadata": {},
   "source": [
    "상관계수\n",
    "- corr 함수 사용\n",
    " - 두 열 간의 상관계수를 구하는 함수\n",
    "- 데이터프레임 객체.corr()\n",
    "- 데이터프레임 객체[[열이름, 열이름]].corr()"
   ]
  },
  {
   "cell_type": "markdown",
   "id": "2e31c6ab",
   "metadata": {},
   "source": [
    "전체 상관계수 출력"
   ]
  },
  {
   "cell_type": "code",
   "execution_count": 34,
   "id": "606a2dfe",
   "metadata": {},
   "outputs": [
    {
     "name": "stdout",
     "output_type": "stream",
     "text": [
      "                   mpg  cylinder  displacement    weight  acceleration  \\\n",
      "mpg           1.000000 -0.775396     -0.804203 -0.831741      0.420289   \n",
      "cylinder     -0.775396  1.000000      0.950721  0.896017     -0.505419   \n",
      "displacement -0.804203  0.950721      1.000000  0.932824     -0.543684   \n",
      "weight       -0.831741  0.896017      0.932824  1.000000     -0.417457   \n",
      "acceleration  0.420289 -0.505419     -0.543684 -0.417457      1.000000   \n",
      "model year    0.579267 -0.348746     -0.370164 -0.306564      0.288137   \n",
      "origin        0.563450 -0.562543     -0.609409 -0.581024      0.205873   \n",
      "\n",
      "              model year    origin  \n",
      "mpg             0.579267  0.563450  \n",
      "cylinder       -0.348746 -0.562543  \n",
      "displacement   -0.370164 -0.609409  \n",
      "weight         -0.306564 -0.581024  \n",
      "acceleration    0.288137  0.205873  \n",
      "model year      1.000000  0.180662  \n",
      "origin          0.180662  1.000000  \n"
     ]
    }
   ],
   "source": [
    "print(df.corr())"
   ]
  },
  {
   "cell_type": "markdown",
   "id": "6ef9f86b",
   "metadata": {},
   "source": [
    "mpg, weight 상관계수 출력"
   ]
  },
  {
   "cell_type": "code",
   "execution_count": 35,
   "id": "96d8c465",
   "metadata": {},
   "outputs": [
    {
     "name": "stdout",
     "output_type": "stream",
     "text": [
      "             mpg    weight\n",
      "mpg     1.000000 -0.831741\n",
      "weight -0.831741  1.000000\n"
     ]
    }
   ],
   "source": [
    "print(df[['mpg', 'weight']].corr())"
   ]
  },
  {
   "cell_type": "markdown",
   "id": "c03b62a3",
   "metadata": {},
   "source": [
    "판다스 내장 그래프 도구 활용\n",
    "- 한 눈에 보기 위해(쉽게 알아보기 위해, 직관적으로 보기 위해)\n",
    " - 유의미한 정보 획득 가능\n",
    "- plot() 함수 지원\n",
    " - line : 선 그래프\n",
    " - bar : 수직 막대 그래프\n",
    " - bash : 수평 막대 그래프\n",
    " - his : 히스토그램\n",
    " - box : 박스 플롯\n",
    " - kde : 커널 밀도 그래프\n",
    " - area : 면적 그래프\n",
    " - pie : 파이 그래프\n",
    " - scatter : 산점도\n",
    " - hexbin : 고밀도 산점도"
   ]
  },
  {
   "cell_type": "markdown",
   "id": "634f67c2",
   "metadata": {},
   "source": [
    "선 그래프\n",
    "- plot 함수 사용, 옵션 추가 X\n",
    "- 데이터프레임 객체.plot()"
   ]
  },
  {
   "cell_type": "markdown",
   "id": "b23007ca",
   "metadata": {},
   "source": [
    "pandas 모듈 가져오기<br>\n",
    "df 객체에 남북한발전전력량.xlsx 파일 가져오기<br>\n",
    "df_ns 객체에 발전량 합계만 추출(0번 행, 5번행, 2번 열부터)<br>\n",
    "각각 South, North로 행 인덱스 지정"
   ]
  },
  {
   "cell_type": "code",
   "execution_count": 36,
   "id": "30ecfcfd",
   "metadata": {},
   "outputs": [],
   "source": [
    "import pandas as pd\n",
    "\n",
    "df = pd.read_excel('./남북한발전전력량.xlsx')\n",
    "\n",
    "df_ns = df.iloc[[0, 5], 2:]\n",
    "\n",
    "df_ns.index = ['South', 'North']\n",
    "\n",
    "df_ns.columns = df_ns.columns.map(int)"
   ]
  },
  {
   "cell_type": "code",
   "execution_count": 37,
   "id": "ee757752",
   "metadata": {},
   "outputs": [
    {
     "name": "stdout",
     "output_type": "stream",
     "text": [
      "       1990  1991  1992  1993  1994  1995  1996  1997  1998  1999  ...  2007  \\\n",
      "South  1077  1186  1310  1444  1650  1847  2055  2244  2153  2393  ...  4031   \n",
      "North   277   263   247   221   231   230   213   193   170   186  ...   236   \n",
      "\n",
      "       2008  2009  2010  2011  2012  2013  2014  2015  2016  \n",
      "South  4224  4336  4747  4969  5096  5171  5220  5281  5404  \n",
      "North   255   235   237   211   215   221   216   190   239  \n",
      "\n",
      "[2 rows x 27 columns]\n"
     ]
    }
   ],
   "source": [
    "print(df_ns)"
   ]
  },
  {
   "cell_type": "code",
   "execution_count": 38,
   "id": "3f3efdba",
   "metadata": {},
   "outputs": [
    {
     "name": "stdout",
     "output_type": "stream",
     "text": [
      "AxesSubplot(0.125,0.125;0.775x0.755)\n"
     ]
    },
    {
     "data": {
      "image/png": "[encoded data removed]",
      "text/plain": [
       "<Figure size 432x288 with 1 Axes>"
      ]
     },
     "metadata": {
      "needs_background": "light"
     },
     "output_type": "display_data"
    }
   ],
   "source": [
    "print(df_ns.plot())"
   ]
  },
  {
   "cell_type": "markdown",
   "id": "2a6f46a8",
   "metadata": {},
   "source": [
    "tdf_ns 객체 생성 후 시각화\n",
    "- df_ns 뒤집어주기"
   ]
  },
  {
   "cell_type": "code",
   "execution_count": 41,
   "id": "acb6d862",
   "metadata": {},
   "outputs": [
    {
     "name": "stdout",
     "output_type": "stream",
     "text": [
      "     South North\n",
      "1990  1077   277\n",
      "1991  1186   263\n",
      "1992  1310   247\n",
      "1993  1444   221\n",
      "1994  1650   231\n",
      "AxesSubplot(0.125,0.125;0.775x0.755)\n"
     ]
    },
    {
     "data": {
      "image/png": "[encoded data removed]",
      "text/plain": [
       "<Figure size 432x288 with 1 Axes>"
      ]
     },
     "metadata": {
      "needs_background": "light"
     },
     "output_type": "display_data"
    }
   ],
   "source": [
    "tdf_ns = df_ns.T\n",
    "print(tdf_ns.head())\n",
    "print(tdf_ns.plot())"
   ]
  },
  {
   "cell_type": "markdown",
   "id": "b751cc40",
   "metadata": {},
   "source": [
    "막대 그래프\n",
    "- kind = \"bar\""
   ]
  },
  {
   "cell_type": "code",
   "execution_count": 42,
   "id": "3ef79aa2",
   "metadata": {},
   "outputs": [
    {
     "name": "stdout",
     "output_type": "stream",
     "text": [
      "AxesSubplot(0.125,0.125;0.775x0.755)\n"
     ]
    },
    {
     "data": {
      "image/png": "[encoded data removed]",
      "text/plain": [
       "<Figure size 432x288 with 1 Axes>"
      ]
     },
     "metadata": {
      "needs_background": "light"
     },
     "output_type": "display_data"
    }
   ],
   "source": [
    "print(tdf_ns.plot(kind = \"bar\"))"
   ]
  },
  {
   "cell_type": "markdown",
   "id": "bb221bdc",
   "metadata": {},
   "source": [
    "히스토그램\n",
    "- 빈도와 관련\n",
    "- kind = \"hist\""
   ]
  },
  {
   "cell_type": "code",
   "execution_count": 43,
   "id": "78552e6b",
   "metadata": {},
   "outputs": [
    {
     "name": "stdout",
     "output_type": "stream",
     "text": [
      "AxesSubplot(0.125,0.125;0.775x0.755)\n"
     ]
    },
    {
     "data": {
      "image/png": "[encoded data removed]",
      "text/plain": [
       "<Figure size 432x288 with 1 Axes>"
      ]
     },
     "metadata": {
      "needs_background": "light"
     },
     "output_type": "display_data"
    }
   ],
   "source": [
    "print(tdf_ns.plot(kind = \"hist\"))"
   ]
  },
  {
   "cell_type": "markdown",
   "id": "c2c35221",
   "metadata": {},
   "source": [
    "산점도\n",
    "- 자동차 연비 데이터 셋 사용\n",
    "- x 축과 y 지정\n",
    "- kind = \"scatter\"\n",
    "- plot(x = 열이름, y = 열이름, 옵션)\n",
    " - x 축 : 무게(weight)\n",
    " - y 축 : 연비(mpg)"
   ]
  },
  {
   "cell_type": "code",
   "execution_count": 50,
   "id": "85d3c687",
   "metadata": {},
   "outputs": [],
   "source": [
    "import pandas as pd\n",
    "\n",
    "df = pd.read_csv('./auto-mpg.csv', header = None)\n",
    "\n",
    "df.columns = ['mpg', 'cylinders', 'displacement', 'horsepower', 'weight', \n",
    "              'acceleration', 'model year', 'origin', 'name']"
   ]
  },
  {
   "cell_type": "code",
   "execution_count": 51,
   "id": "263f091a",
   "metadata": {},
   "outputs": [
    {
     "name": "stdout",
     "output_type": "stream",
     "text": [
      "AxesSubplot(0.125,0.125;0.775x0.755)\n"
     ]
    },
    {
     "data": {
      "image/png": "[encoded data removed]",
      "text/plain": [
       "<Figure size 432x288 with 1 Axes>"
      ]
     },
     "metadata": {
      "needs_background": "light"
     },
     "output_type": "display_data"
    }
   ],
   "source": [
    "print(df.plot(x = \"weight\", y = \"mpg\", kind = \"scatter\"))"
   ]
  },
  {
   "cell_type": "markdown",
   "id": "772eef35",
   "metadata": {},
   "source": [
    "박스 플롯\n",
    "- 특정 변수의 데이터 분포와 분산 정도를 확인\n",
    "- kind = \"box\"\n",
    "- 연비와 실린더 수를 이용\n",
    "- IQR(사분위수 범위)\n",
    " - Q3(75%) - Q1(25%)\n",
    "- 박스 플롯에서 벗어난 값\n",
    " - Minimum : Q1 - 1.5 * IQR\n",
    " - Maximum : Q3 + 1.5 * IQR"
   ]
  },
  {
   "cell_type": "code",
   "execution_count": 52,
   "id": "3336b9cd",
   "metadata": {},
   "outputs": [
    {
     "name": "stdout",
     "output_type": "stream",
     "text": [
      "AxesSubplot(0.125,0.125;0.775x0.755)\n"
     ]
    },
    {
     "data": {
      "image/png": "[encoded data removed]",
      "text/plain": [
       "<Figure size 432x288 with 1 Axes>"
      ]
     },
     "metadata": {
      "needs_background": "light"
     },
     "output_type": "display_data"
    }
   ],
   "source": [
    "print(df[['mpg', 'cylinders']].plot(kind = \"box\"))"
   ]
  },
  {
   "cell_type": "markdown",
   "id": "745e77e9",
   "metadata": {},
   "source": [
    "matplotlib\n",
    "- 기본 그래프 도구\n",
    "- 다양한 종류의 데이터 분석 가능\n",
    "- 그래프 요소를 세세하게 꾸미기 가능"
   ]
  },
  {
   "cell_type": "markdown",
   "id": "ad26e00d",
   "metadata": {},
   "source": [
    "선 그래프\n",
    "- 연속하는 데이터 값들을 직선 or 곡선으로 연결한 그래프\n",
    "- 데이터 값 사이의 관계를 표현"
   ]
  },
  {
   "cell_type": "markdown",
   "id": "c5862754",
   "metadata": {},
   "source": [
    "선 그래프"
   ]
  },
  {
   "cell_type": "markdown",
   "id": "ffd7346a",
   "metadata": {},
   "source": [
    "pandas 모듈 불러오기(pd)<br>\n",
    "matplotlib.pyplot 모듈 불러오기(plt)<br>\n",
    "df 객체 생성\n",
    "- 시도별 전출입 인구수.xlsx 파일 불러오기\n",
    "\n",
    "df 출력"
   ]
  },
  {
   "cell_type": "code",
   "execution_count": 54,
   "id": "0c03478d",
   "metadata": {},
   "outputs": [
    {
     "name": "stdout",
     "output_type": "stream",
     "text": [
      "     전출지별     전입지별      1970      1971      1972      1973      1974  \\\n",
      "0    전출지별     전입지별  이동자수 (명)  이동자수 (명)  이동자수 (명)  이동자수 (명)  이동자수 (명)   \n",
      "1      전국       전국   4046536   4210164   3687938   4860418   5297969   \n",
      "2     NaN    서울특별시   1742813   1671705   1349333   1831858   2050392   \n",
      "3     NaN    부산광역시    448577    389797    362202    482061    680984   \n",
      "4     NaN    대구광역시         -         -         -         -         -   \n",
      "..    ...      ...       ...       ...       ...       ...       ...   \n",
      "320   NaN     전라북도       139       202       141       210       219   \n",
      "321   NaN     전라남도       631       965       857       952      1133   \n",
      "322   NaN     경상북도       374       619       468       576       625   \n",
      "323   NaN     경상남도       474       479       440       571      1208   \n",
      "324   NaN  제주특별자치도      9290     12427     12210     16158     19580   \n",
      "\n",
      "         1975      1976      1977  ...      2008      2009      2010  \\\n",
      "0    이동자수 (명)  이동자수 (명)  이동자수 (명)  ...  이동자수 (명)  이동자수 (명)  이동자수 (명)   \n",
      "1     9011440   6773250   7397623  ...   8808256   8487275   8226594   \n",
      "2     3396662   2756510   2893403  ...   2025358   1873188   1733015   \n",
      "3      805979    724664    785117  ...    514502    519310    519334   \n",
      "4           -         -         -  ...    409938    398626    370817   \n",
      "..        ...       ...       ...  ...       ...       ...       ...   \n",
      "320       415       392       408  ...       668       579       672   \n",
      "321      2808      2608      2652  ...      1143      1123      1002   \n",
      "322      1123      1141      1004  ...       761       704       738   \n",
      "323      1517       863      1122  ...      1517      1474      1324   \n",
      "324     34221     23291     31028  ...     59564     55673     55507   \n",
      "\n",
      "         2011      2012      2013      2014      2015      2016      2017  \n",
      "0    이동자수 (명)  이동자수 (명)  이동자수 (명)  이동자수 (명)  이동자수 (명)  이동자수 (명)  이동자수 (명)  \n",
      "1     8127195   7506691   7411784   7629098   7755286   7378430   7154226  \n",
      "2     1721748   1555281   1520090   1573594   1589431   1515602   1472937  \n",
      "3      508043    461042    478451    485710    507031    459015    439073  \n",
      "4      370563    348642    351873    350213    351424    328228    321182  \n",
      "..        ...       ...       ...       ...       ...       ...       ...  \n",
      "320       561       551       516       609       683       733       768  \n",
      "321      1026       966      1001       928      1062      1127      1102  \n",
      "322       756       699       781       728       903       931       994  \n",
      "323      1367      1227      1278      1223      1500      1448      1501  \n",
      "324     59846     54280     60607     59673     59036     66444     63275  \n",
      "\n",
      "[325 rows x 50 columns]\n"
     ]
    }
   ],
   "source": [
    "import pandas as pd\n",
    "import matplotlib.pyplot as plt\n",
    "\n",
    "df = pd.read_excel(\"./시도별 전출입 인구수.xlsx\", header = 0)\n",
    "print(df)"
   ]
  },
  {
   "cell_type": "markdown",
   "id": "60fc5074",
   "metadata": {},
   "source": [
    "서울 -> 다른 지역 이동\n",
    "1. fillna 함수를 사용하여 NaN을 채워줌(옵션 : method='ffill')\n",
    "- ffill 은 인덱스 상의 위에 있는 값으로 NaN을 채움\n",
    "- bfill 은 인덱스 상의 아래에 있는 값으로 NaN을 채움\n",
    "\n",
    "df 객체에 저장\n",
    "- 데이터프레임 객체.fillna(옵션)"
   ]
  },
  {
   "cell_type": "code",
   "execution_count": 55,
   "id": "8fe44192",
   "metadata": {},
   "outputs": [
    {
     "name": "stdout",
     "output_type": "stream",
     "text": [
      "        전출지별     전입지별      1970      1971      1972      1973      1974  \\\n",
      "0       전출지별     전입지별  이동자수 (명)  이동자수 (명)  이동자수 (명)  이동자수 (명)  이동자수 (명)   \n",
      "1         전국       전국   4046536   4210164   3687938   4860418   5297969   \n",
      "2         전국    서울특별시   1742813   1671705   1349333   1831858   2050392   \n",
      "3         전국    부산광역시    448577    389797    362202    482061    680984   \n",
      "4         전국    대구광역시         -         -         -         -         -   \n",
      "..       ...      ...       ...       ...       ...       ...       ...   \n",
      "320  제주특별자치도     전라북도       139       202       141       210       219   \n",
      "321  제주특별자치도     전라남도       631       965       857       952      1133   \n",
      "322  제주특별자치도     경상북도       374       619       468       576       625   \n",
      "323  제주특별자치도     경상남도       474       479       440       571      1208   \n",
      "324  제주특별자치도  제주특별자치도      9290     12427     12210     16158     19580   \n",
      "\n",
      "         1975      1976      1977  ...      2008      2009      2010  \\\n",
      "0    이동자수 (명)  이동자수 (명)  이동자수 (명)  ...  이동자수 (명)  이동자수 (명)  이동자수 (명)   \n",
      "1     9011440   6773250   7397623  ...   8808256   8487275   8226594   \n",
      "2     3396662   2756510   2893403  ...   2025358   1873188   1733015   \n",
      "3      805979    724664    785117  ...    514502    519310    519334   \n",
      "4           -         -         -  ...    409938    398626    370817   \n",
      "..        ...       ...       ...  ...       ...       ...       ...   \n",
      "320       415       392       408  ...       668       579       672   \n",
      "321      2808      2608      2652  ...      1143      1123      1002   \n",
      "322      1123      1141      1004  ...       761       704       738   \n",
      "323      1517       863      1122  ...      1517      1474      1324   \n",
      "324     34221     23291     31028  ...     59564     55673     55507   \n",
      "\n",
      "         2011      2012      2013      2014      2015      2016      2017  \n",
      "0    이동자수 (명)  이동자수 (명)  이동자수 (명)  이동자수 (명)  이동자수 (명)  이동자수 (명)  이동자수 (명)  \n",
      "1     8127195   7506691   7411784   7629098   7755286   7378430   7154226  \n",
      "2     1721748   1555281   1520090   1573594   1589431   1515602   1472937  \n",
      "3      508043    461042    478451    485710    507031    459015    439073  \n",
      "4      370563    348642    351873    350213    351424    328228    321182  \n",
      "..        ...       ...       ...       ...       ...       ...       ...  \n",
      "320       561       551       516       609       683       733       768  \n",
      "321      1026       966      1001       928      1062      1127      1102  \n",
      "322       756       699       781       728       903       931       994  \n",
      "323      1367      1227      1278      1223      1500      1448      1501  \n",
      "324     59846     54280     60607     59673     59036     66444     63275  \n",
      "\n",
      "[325 rows x 50 columns]\n"
     ]
    }
   ],
   "source": [
    "import pandas as pd\n",
    "import matplotlib.pyplot as plt\n",
    "\n",
    "df = pd.read_excel(\"./시도별 전출입 인구수.xlsx\", header = 0)\n",
    "\n",
    "df = df.fillna(method='ffill')\n",
    "print(df)"
   ]
  },
  {
   "cell_type": "markdown",
   "id": "b47ed9b3",
   "metadata": {},
   "source": [
    "2. 서울에서 다른 지역으로 이동한 데이터만 추출(A열은 서울, B열은 서울 X)"
   ]
  },
  {
   "cell_type": "code",
   "execution_count": 57,
   "id": "1a2d24b2",
   "metadata": {},
   "outputs": [],
   "source": [
    "import pandas as pd\n",
    "import matplotlib.pyplot as plt\n",
    "\n",
    "df = pd.read_excel(\"./시도별 전출입 인구수.xlsx\", header = 0)\n",
    "\n",
    "df = df.fillna(method='ffill')\n",
    "\n",
    "# 서울에서 다른 지역으로 이동한 데이터 추출\n",
    "# mask 객체 생성\n",
    "# (전출지별 열을 선택해서 서울특별시와 같다는 조건식) & (전입지별 열을 선택해서\n",
    "# 서울특별시와 같지 않다는 조건식)\n",
    "mask = (df['전출지별'] == '서울특별시') & (df['전입지별'] != '서울특별시')\n",
    "\n",
    "# df_seoul 객체 생성\n",
    "# df 객체에서 참인 값 가져오기\n",
    "df_seoul = df[mask]"
   ]
  },
  {
   "cell_type": "code",
   "execution_count": 58,
   "id": "ccacf17c",
   "metadata": {},
   "outputs": [
    {
     "name": "stdout",
     "output_type": "stream",
     "text": [
      "     전출지별     전입지별     1970     1971     1972     1973     1974     1975  \\\n",
      "19  서울특별시       전국  1448985  1419016  1210559  1647268  1819660  2937093   \n",
      "21  서울특별시    부산광역시    11568    11130    11768    16307    22220    27515   \n",
      "22  서울특별시    대구광역시        -        -        -        -        -        -   \n",
      "23  서울특별시    인천광역시        -        -        -        -        -        -   \n",
      "24  서울특별시    광주광역시        -        -        -        -        -        -   \n",
      "25  서울특별시    대전광역시        -        -        -        -        -        -   \n",
      "26  서울특별시    울산광역시        -        -        -        -        -        -   \n",
      "27  서울특별시  세종특별자치시        -        -        -        -        -        -   \n",
      "28  서울특별시      경기도   130149   150313    93333   143234   149045   253705   \n",
      "29  서울특별시      강원도     9352    12885    13561    16481    15479    27837   \n",
      "30  서울특별시     충청북도     6700     9457    10853    12617    11786    21073   \n",
      "31  서울특별시     충청남도    15954    18943    23406    27139    25509    51205   \n",
      "32  서울특별시     전라북도    10814    13192    16583    18642    16647    34411   \n",
      "33  서울특별시     전라남도    10513    16755    20157    22160    21314    46610   \n",
      "34  서울특별시     경상북도    11868    16459    22073    27531    26902    46177   \n",
      "35  서울특별시     경상남도     8409    10001    11263    15193    16771    23150   \n",
      "36  서울특별시  제주특별자치도     1039     1325     1617     2456     2261     3440   \n",
      "\n",
      "       1976     1977  ...     2008     2009     2010     2011     2012  \\\n",
      "19  2495620  2678007  ...  2083352  1925452  1848038  1834806  1658928   \n",
      "21    23732    27213  ...    17353    17738    17418    18816    16135   \n",
      "22        -        -  ...     9720    10464    10277    10397    10135   \n",
      "23        -        -  ...    50493    45392    46082    51641    49640   \n",
      "24        -        -  ...    10846    11725    11095    10587    10154   \n",
      "25        -        -  ...    13515    13632    13819    13900    14080   \n",
      "26        -        -  ...     5057     4845     4742     5188     5691   \n",
      "27        -        -  ...        -        -        -        -     2998   \n",
      "28   202276   207722  ...   412408   398282   410735   373771   354135   \n",
      "29    25927    25415  ...    23668    23331    22736    23624    22332   \n",
      "30    18029    17478  ...    15294    15295    15461    15318    14555   \n",
      "31    41447    43993  ...    27458    24889    24522    24723    22269   \n",
      "32    29835    28444  ...    18390    18332    17569    17755    16120   \n",
      "33    46251    43430  ...    16601    17468    16429    15974    14765   \n",
      "34    40376    41155  ...    15425    16569    16042    15818    15191   \n",
      "35    22400    27393  ...    15438    15303    15689    16039    14474   \n",
      "36     3623     3551  ...     5473     5332     5714     6133     6954   \n",
      "\n",
      "       2013     2014     2015     2016     2017  \n",
      "19  1620640  1661425  1726687  1655859  1571423  \n",
      "21    16153    17320    17009    15062    14484  \n",
      "22    10631    10062    10191     9623     8891  \n",
      "23    47424    43212    44915    43745    40485  \n",
      "24     9129     9759     9216     8354     7932  \n",
      "25    13440    13403    13453    12619    11815  \n",
      "26     5542     6047     5950     5102     4260  \n",
      "27     2851     6481     7550     5943     5813  \n",
      "28   340801   332785   359337   370760   342433  \n",
      "29    20601    21173    22659    21590    21016  \n",
      "30    13783    14244    14379    14087    13302  \n",
      "31    21486    21473    22299    21741    21020  \n",
      "32    14909    14566    14835    13835    13179  \n",
      "33    14187    14591    14598    13065    12426  \n",
      "34    14420    14456    15113    14236    12464  \n",
      "35    14447    14799    15220    13717    12692  \n",
      "36     7828     9031    10434    10465    10404  \n",
      "\n",
      "[17 rows x 50 columns]\n"
     ]
    }
   ],
   "source": [
    "print(df_seoul)"
   ]
  },
  {
   "cell_type": "markdown",
   "id": "4663867e",
   "metadata": {},
   "source": [
    "3. 전출지별 열 제거\n",
    "- df_seoul 에 저장\n",
    "\n",
    "4. 전입지별 -> 전입지 열 이름 변경\n",
    "5. 행 인덱스 지정\n",
    "- 전입지"
   ]
  },
  {
   "cell_type": "code",
   "execution_count": 59,
   "id": "c299f602",
   "metadata": {},
   "outputs": [],
   "source": [
    "import pandas as pd\n",
    "import matplotlib.pyplot as plt\n",
    "\n",
    "df = pd.read_excel(\"./시도별 전출입 인구수.xlsx\", header = 0)\n",
    "\n",
    "df = df.fillna(method='ffill')\n",
    "\n",
    "mask = (df['전출지별'] == '서울특별시') & (df['전입지별'] != '서울특별시')\n",
    "\n",
    "df_seoul = df[mask]\n",
    "df_seoul = df_seoul.drop(['전출지별'], axis = 1)\n",
    "df_seoul.rename({'전입지별':'전입지'}, axis = 1, inplace=True)\n",
    "df_seoul.set_index('전입지', inplace=True)"
   ]
  },
  {
   "cell_type": "code",
   "execution_count": 60,
   "id": "ffa36f75",
   "metadata": {},
   "outputs": [
    {
     "name": "stdout",
     "output_type": "stream",
     "text": [
      "            1970     1971     1972     1973     1974     1975     1976  \\\n",
      "전입지                                                                      \n",
      "전국       1448985  1419016  1210559  1647268  1819660  2937093  2495620   \n",
      "부산광역시      11568    11130    11768    16307    22220    27515    23732   \n",
      "대구광역시          -        -        -        -        -        -        -   \n",
      "인천광역시          -        -        -        -        -        -        -   \n",
      "광주광역시          -        -        -        -        -        -        -   \n",
      "대전광역시          -        -        -        -        -        -        -   \n",
      "울산광역시          -        -        -        -        -        -        -   \n",
      "세종특별자치시        -        -        -        -        -        -        -   \n",
      "경기도       130149   150313    93333   143234   149045   253705   202276   \n",
      "강원도         9352    12885    13561    16481    15479    27837    25927   \n",
      "충청북도        6700     9457    10853    12617    11786    21073    18029   \n",
      "충청남도       15954    18943    23406    27139    25509    51205    41447   \n",
      "전라북도       10814    13192    16583    18642    16647    34411    29835   \n",
      "전라남도       10513    16755    20157    22160    21314    46610    46251   \n",
      "경상북도       11868    16459    22073    27531    26902    46177    40376   \n",
      "경상남도        8409    10001    11263    15193    16771    23150    22400   \n",
      "제주특별자치도     1039     1325     1617     2456     2261     3440     3623   \n",
      "\n",
      "            1977     1978     1979  ...     2008     2009     2010     2011  \\\n",
      "전입지                                 ...                                       \n",
      "전국       2678007  3028911  2441242  ...  2083352  1925452  1848038  1834806   \n",
      "부산광역시      27213    29856    28542  ...    17353    17738    17418    18816   \n",
      "대구광역시          -        -        -  ...     9720    10464    10277    10397   \n",
      "인천광역시          -        -        -  ...    50493    45392    46082    51641   \n",
      "광주광역시          -        -        -  ...    10846    11725    11095    10587   \n",
      "대전광역시          -        -        -  ...    13515    13632    13819    13900   \n",
      "울산광역시          -        -        -  ...     5057     4845     4742     5188   \n",
      "세종특별자치시        -        -        -  ...        -        -        -        -   \n",
      "경기도       207722   237684   278411  ...   412408   398282   410735   373771   \n",
      "강원도        25415    26700    27599  ...    23668    23331    22736    23624   \n",
      "충청북도       17478    18420    20047  ...    15294    15295    15461    15318   \n",
      "충청남도       43993    48091    45388  ...    27458    24889    24522    24723   \n",
      "전라북도       28444    29676    31570  ...    18390    18332    17569    17755   \n",
      "전라남도       43430    44624    47934  ...    16601    17468    16429    15974   \n",
      "경상북도       41155    42940    43565  ...    15425    16569    16042    15818   \n",
      "경상남도       27393    28697    30183  ...    15438    15303    15689    16039   \n",
      "제주특별자치도     3551     3937     4261  ...     5473     5332     5714     6133   \n",
      "\n",
      "            2012     2013     2014     2015     2016     2017  \n",
      "전입지                                                            \n",
      "전국       1658928  1620640  1661425  1726687  1655859  1571423  \n",
      "부산광역시      16135    16153    17320    17009    15062    14484  \n",
      "대구광역시      10135    10631    10062    10191     9623     8891  \n",
      "인천광역시      49640    47424    43212    44915    43745    40485  \n",
      "광주광역시      10154     9129     9759     9216     8354     7932  \n",
      "대전광역시      14080    13440    13403    13453    12619    11815  \n",
      "울산광역시       5691     5542     6047     5950     5102     4260  \n",
      "세종특별자치시     2998     2851     6481     7550     5943     5813  \n",
      "경기도       354135   340801   332785   359337   370760   342433  \n",
      "강원도        22332    20601    21173    22659    21590    21016  \n",
      "충청북도       14555    13783    14244    14379    14087    13302  \n",
      "충청남도       22269    21486    21473    22299    21741    21020  \n",
      "전라북도       16120    14909    14566    14835    13835    13179  \n",
      "전라남도       14765    14187    14591    14598    13065    12426  \n",
      "경상북도       15191    14420    14456    15113    14236    12464  \n",
      "경상남도       14474    14447    14799    15220    13717    12692  \n",
      "제주특별자치도     6954     7828     9031    10434    10465    10404  \n",
      "\n",
      "[17 rows x 48 columns]\n"
     ]
    }
   ],
   "source": [
    "print(df_seoul)"
   ]
  },
  {
   "cell_type": "markdown",
   "id": "357b97f8",
   "metadata": {},
   "source": [
    "dt_g 객체 생성\n",
    "- 경기도 행을 선택"
   ]
  },
  {
   "cell_type": "code",
   "execution_count": 64,
   "id": "b6d3a08b",
   "metadata": {},
   "outputs": [
    {
     "name": "stdout",
     "output_type": "stream",
     "text": [
      "1970    130149\n",
      "1971    150313\n",
      "1972     93333\n",
      "1973    143234\n",
      "1974    149045\n",
      "1975    253705\n",
      "1976    202276\n",
      "1977    207722\n",
      "1978    237684\n",
      "1979    278411\n",
      "1980    297539\n",
      "1981    252073\n",
      "1982    320174\n",
      "1983    400875\n",
      "1984    352238\n",
      "1985    390265\n",
      "1986    412535\n",
      "1987    405220\n",
      "1988    415174\n",
      "1989    412933\n",
      "1990    473889\n",
      "1991    384714\n",
      "1992    428344\n",
      "1993    502584\n",
      "1994    542204\n",
      "1995    599411\n",
      "1996    520566\n",
      "1997    495454\n",
      "1998    407050\n",
      "1999    471841\n",
      "2000    435573\n",
      "2001    499575\n",
      "2002    516765\n",
      "2003    457656\n",
      "2004    400206\n",
      "2005    414621\n",
      "2006    449632\n",
      "2007    431637\n",
      "2008    412408\n",
      "2009    398282\n",
      "2010    410735\n",
      "2011    373771\n",
      "2012    354135\n",
      "2013    340801\n",
      "2014    332785\n",
      "2015    359337\n",
      "2016    370760\n",
      "2017    342433\n",
      "Name: 경기도, dtype: object\n"
     ]
    }
   ],
   "source": [
    "import pandas as pd\n",
    "import matplotlib.pyplot as plt\n",
    "\n",
    "df = pd.read_excel(\"./시도별 전출입 인구수.xlsx\", header = 0)\n",
    "\n",
    "df = df.fillna(method='ffill')\n",
    "\n",
    "mask = (df['전출지별'] == '서울특별시') & (df['전입지별'] != '서울특별시')\n",
    "\n",
    "df_seoul = df[mask]\n",
    "df_seoul = df_seoul.drop(['전출지별'], axis = 1)\n",
    "df_seoul.rename({'전입지별':'전입지'}, axis = 1, inplace=True)\n",
    "df_seoul.set_index('전입지', inplace=True)\n",
    "\n",
    "dt_g = df_seoul.loc['경기도']\n",
    "print(dt_g)"
   ]
  },
  {
   "cell_type": "markdown",
   "id": "9fd9bbd4",
   "metadata": {},
   "source": [
    "시각화하기\n",
    "- plot 함수를 이용하여 dt_g를 시각화"
   ]
  },
  {
   "cell_type": "code",
   "execution_count": 63,
   "id": "d63acc8d",
   "metadata": {},
   "outputs": [
    {
     "name": "stdout",
     "output_type": "stream",
     "text": [
      "[<matplotlib.lines.Line2D object at 0x0000026967E72A00>]\n"
     ]
    },
    {
     "data": {
      "image/png": "[encoded data removed]",
      "text/plain": [
       "<Figure size 432x288 with 1 Axes>"
      ]
     },
     "metadata": {
      "needs_background": "light"
     },
     "output_type": "display_data"
    }
   ],
   "source": [
    "import pandas as pd\n",
    "import matplotlib.pyplot as plt\n",
    "\n",
    "df = pd.read_excel(\"./시도별 전출입 인구수.xlsx\", header = 0)\n",
    "\n",
    "df = df.fillna(method='ffill')\n",
    "\n",
    "mask = (df['전출지별'] == '서울특별시') & (df['전입지별'] != '서울특별시')\n",
    "\n",
    "df_seoul = df[mask]\n",
    "df_seoul = df_seoul.drop(['전출지별'], axis = 1)\n",
    "df_seoul.rename({'전입지별':'전입지'}, axis = 1, inplace=True)\n",
    "df_seoul.set_index('전입지', inplace=True)\n",
    "\n",
    "dt_g = df_seoul.loc['경기도']\n",
    "\n",
    "print(plt.plot(dt_g))\n",
    "# plt.plot(x축, y축)\n",
    "# plt.plot(dt_g.index, dt_g.values)\n",
    "# plt.show()"
   ]
  },
  {
   "cell_type": "markdown",
   "id": "f2cb5989",
   "metadata": {},
   "source": [
    "차트 제목\n",
    "- title 함수 사용\n",
    " - plt.title(제목으로 사용할 문자열)\n",
    "\n",
    "축 이름\n",
    "- x축\n",
    " - xlabel 함수 사용\n",
    " - plt.xlabel(x축 이름으로 사용할 문자열)\n",
    "- y축\n",
    " - ylabel 함수 사용\n",
    " - plt.ylabel(y축 이름으로 사용할 문자열)"
   ]
  },
  {
   "cell_type": "code",
   "execution_count": 65,
   "id": "2c473355",
   "metadata": {},
   "outputs": [
    {
     "name": "stderr",
     "output_type": "stream",
     "text": [
      "C:\\Users\\student\\anaconda3\\lib\\site-packages\\matplotlib\\backends\\backend_agg.py:240: RuntimeWarning: Glyph 49436 missing from current font.\n",
      "  font.set_text(s, 0.0, flags=flags)\n",
      "C:\\Users\\student\\anaconda3\\lib\\site-packages\\matplotlib\\backends\\backend_agg.py:240: RuntimeWarning: Glyph 50872 missing from current font.\n",
      "  font.set_text(s, 0.0, flags=flags)\n",
      "C:\\Users\\student\\anaconda3\\lib\\site-packages\\matplotlib\\backends\\backend_agg.py:240: RuntimeWarning: Glyph 44221 missing from current font.\n",
      "  font.set_text(s, 0.0, flags=flags)\n",
      "C:\\Users\\student\\anaconda3\\lib\\site-packages\\matplotlib\\backends\\backend_agg.py:240: RuntimeWarning: Glyph 44592 missing from current font.\n",
      "  font.set_text(s, 0.0, flags=flags)\n",
      "C:\\Users\\student\\anaconda3\\lib\\site-packages\\matplotlib\\backends\\backend_agg.py:240: RuntimeWarning: Glyph 51060 missing from current font.\n",
      "  font.set_text(s, 0.0, flags=flags)\n",
      "C:\\Users\\student\\anaconda3\\lib\\site-packages\\matplotlib\\backends\\backend_agg.py:240: RuntimeWarning: Glyph 46041 missing from current font.\n",
      "  font.set_text(s, 0.0, flags=flags)\n",
      "C:\\Users\\student\\anaconda3\\lib\\site-packages\\matplotlib\\backends\\backend_agg.py:240: RuntimeWarning: Glyph 51064 missing from current font.\n",
      "  font.set_text(s, 0.0, flags=flags)\n",
      "C:\\Users\\student\\anaconda3\\lib\\site-packages\\matplotlib\\backends\\backend_agg.py:240: RuntimeWarning: Glyph 44396 missing from current font.\n",
      "  font.set_text(s, 0.0, flags=flags)\n",
      "C:\\Users\\student\\anaconda3\\lib\\site-packages\\matplotlib\\backends\\backend_agg.py:240: RuntimeWarning: Glyph 44036 missing from current font.\n",
      "  font.set_text(s, 0.0, flags=flags)\n",
      "C:\\Users\\student\\anaconda3\\lib\\site-packages\\matplotlib\\backends\\backend_agg.py:240: RuntimeWarning: Glyph 49688 missing from current font.\n",
      "  font.set_text(s, 0.0, flags=flags)\n",
      "C:\\Users\\student\\anaconda3\\lib\\site-packages\\matplotlib\\backends\\backend_agg.py:203: RuntimeWarning: Glyph 44592 missing from current font.\n",
      "  font.set_text(s, 0, flags=flags)\n",
      "C:\\Users\\student\\anaconda3\\lib\\site-packages\\matplotlib\\backends\\backend_agg.py:203: RuntimeWarning: Glyph 44036 missing from current font.\n",
      "  font.set_text(s, 0, flags=flags)\n",
      "C:\\Users\\student\\anaconda3\\lib\\site-packages\\matplotlib\\backends\\backend_agg.py:203: RuntimeWarning: Glyph 51060 missing from current font.\n",
      "  font.set_text(s, 0, flags=flags)\n",
      "C:\\Users\\student\\anaconda3\\lib\\site-packages\\matplotlib\\backends\\backend_agg.py:203: RuntimeWarning: Glyph 46041 missing from current font.\n",
      "  font.set_text(s, 0, flags=flags)\n",
      "C:\\Users\\student\\anaconda3\\lib\\site-packages\\matplotlib\\backends\\backend_agg.py:203: RuntimeWarning: Glyph 51064 missing from current font.\n",
      "  font.set_text(s, 0, flags=flags)\n",
      "C:\\Users\\student\\anaconda3\\lib\\site-packages\\matplotlib\\backends\\backend_agg.py:203: RuntimeWarning: Glyph 44396 missing from current font.\n",
      "  font.set_text(s, 0, flags=flags)\n",
      "C:\\Users\\student\\anaconda3\\lib\\site-packages\\matplotlib\\backends\\backend_agg.py:203: RuntimeWarning: Glyph 49688 missing from current font.\n",
      "  font.set_text(s, 0, flags=flags)\n",
      "C:\\Users\\student\\anaconda3\\lib\\site-packages\\matplotlib\\backends\\backend_agg.py:203: RuntimeWarning: Glyph 49436 missing from current font.\n",
      "  font.set_text(s, 0, flags=flags)\n",
      "C:\\Users\\student\\anaconda3\\lib\\site-packages\\matplotlib\\backends\\backend_agg.py:203: RuntimeWarning: Glyph 50872 missing from current font.\n",
      "  font.set_text(s, 0, flags=flags)\n",
      "C:\\Users\\student\\anaconda3\\lib\\site-packages\\matplotlib\\backends\\backend_agg.py:203: RuntimeWarning: Glyph 44221 missing from current font.\n",
      "  font.set_text(s, 0, flags=flags)\n"
     ]
    },
    {
     "data": {
      "image/png": "[encoded data removed]",
      "text/plain": [
       "<Figure size 432x288 with 1 Axes>"
      ]
     },
     "metadata": {
      "needs_background": "light"
     },
     "output_type": "display_data"
    }
   ],
   "source": [
    "import pandas as pd\n",
    "import matplotlib.pyplot as plt\n",
    "\n",
    "df = pd.read_excel(\"./시도별 전출입 인구수.xlsx\", header = 0)\n",
    "\n",
    "df = df.fillna(method='ffill')\n",
    "\n",
    "mask = (df['전출지별'] == '서울특별시') & (df['전입지별'] != '서울특별시')\n",
    "\n",
    "df_seoul = df[mask]\n",
    "df_seoul = df_seoul.drop(['전출지별'], axis = 1)\n",
    "df_seoul.rename({'전입지별':'전입지'}, axis = 1, inplace=True)\n",
    "df_seoul.set_index('전입지', inplace=True)\n",
    "\n",
    "dt_g = df_seoul.loc['경기도']\n",
    "\n",
    "plt.plot(dt_g.index, dt_g.values)\n",
    "\n",
    "# 차트 제목 추가 '서울 -> 경기 인구 이동'\n",
    "plt.title('서울 -> 경기 이동 인구')\n",
    "\n",
    "# x축 이름 추가 '기간'\n",
    "plt.xlabel('기간')\n",
    "\n",
    "# y축 이름 추가 '이동 인구 수'\n",
    "plt.ylabel('이동 인구 수')\n",
    "\n",
    "# 차트 시각화\n",
    "plt.show()"
   ]
  },
  {
   "cell_type": "markdown",
   "id": "d0c90b93",
   "metadata": {},
   "source": [
    "---\n",
    "mac 한글 폰트 적용<br>\n",
    "from matplotlib import rc<br>\n",
    "rc('font', family = 'AppleGothic')\n",
    "---"
   ]
  },
  {
   "cell_type": "markdown",
   "id": "95ac0a8f",
   "metadata": {},
   "source": [
    "윈도우 한글 폰트 적용"
   ]
  },
  {
   "cell_type": "code",
   "execution_count": 66,
   "id": "28b577ed",
   "metadata": {},
   "outputs": [
    {
     "data": {
      "image/png": "[encoded data removed]",
      "text/plain": [
       "<Figure size 432x288 with 1 Axes>"
      ]
     },
     "metadata": {
      "needs_background": "light"
     },
     "output_type": "display_data"
    }
   ],
   "source": [
    "import pandas as pd\n",
    "import matplotlib.pyplot as plt\n",
    "from matplotlib import font_manager, rc\n",
    "\n",
    "font_path = './malgun.ttf'\n",
    "font_name = font_manager.FontProperties(fname=font_path).get_name()\n",
    "rc('font', family=font_name)\n",
    "\n",
    "df = pd.read_excel(\"./시도별 전출입 인구수.xlsx\", header = 0)\n",
    "\n",
    "df = df.fillna(method='ffill')\n",
    "\n",
    "mask = (df['전출지별'] == '서울특별시') & (df['전입지별'] != '서울특별시')\n",
    "\n",
    "df_seoul = df[mask]\n",
    "df_seoul = df_seoul.drop(['전출지별'], axis = 1)\n",
    "df_seoul.rename({'전입지별':'전입지'}, axis = 1, inplace=True)\n",
    "df_seoul.set_index('전입지', inplace=True)\n",
    "\n",
    "dt_g = df_seoul.loc['경기도']\n",
    "\n",
    "plt.plot(dt_g.index, dt_g.values)\n",
    "\n",
    "# 차트 제목 추가 '서울 -> 경기 인구 이동'\n",
    "plt.title('서울 -> 경기 이동 인구')\n",
    "\n",
    "# x축 이름 추가 '기간'\n",
    "plt.xlabel('기간')\n",
    "\n",
    "# y축 이름 추가 '이동 인구 수'\n",
    "plt.ylabel('이동 인구 수')\n",
    "\n",
    "# 차트 시각화\n",
    "plt.show()"
   ]
  },
  {
   "cell_type": "markdown",
   "id": "130e65d2",
   "metadata": {},
   "source": [
    "눈금 라벨 해결\n",
    "- 여유 공간이 없기 때문에 발생(겹쳐 보임)\n",
    "\n",
    "해결 방법 2가지\n",
    "- figure 함수를 사용하여 그림틀의 가로 사이즈를 더 크게 설정\n",
    "- xticks 함수를 사용하여 x 축 눈금 라벨을 반시계 방향으로 90도 회전"
   ]
  },
  {
   "cell_type": "code",
   "execution_count": 72,
   "id": "057f84ec",
   "metadata": {},
   "outputs": [
    {
     "data": {
      "image/png": "[encoded data removed]",
      "text/plain": [
       "<Figure size 1008x360 with 1 Axes>"
      ]
     },
     "metadata": {
      "needs_background": "light"
     },
     "output_type": "display_data"
    }
   ],
   "source": [
    "import pandas as pd\n",
    "import matplotlib.pyplot as plt\n",
    "from matplotlib import font_manager, rc\n",
    "\n",
    "font_path = './malgun.ttf'\n",
    "font_name = font_manager.FontProperties(fname=font_path).get_name()\n",
    "rc('font', family=font_name)\n",
    "\n",
    "df = pd.read_excel(\"./시도별 전출입 인구수.xlsx\", header = 0)\n",
    "\n",
    "df = df.fillna(method='ffill')\n",
    "\n",
    "mask = (df['전출지별'] == '서울특별시') & (df['전입지별'] != '서울특별시')\n",
    "\n",
    "df_seoul = df[mask]\n",
    "df_seoul = df_seoul.drop(['전출지별'], axis = 1)\n",
    "df_seoul.rename({'전입지별':'전입지'}, axis = 1, inplace=True)\n",
    "df_seoul.set_index('전입지', inplace=True)\n",
    "\n",
    "dt_g = df_seoul.loc['경기도']\n",
    "\n",
    "# 그림 사이즈를 지정(가로 14인치, 세로 5인치)\n",
    "# figure 함수 사용\n",
    "# figsize 옵션 사용\n",
    "# figsize=(가로 길이, 세로 길이)\n",
    "plt.figure(figsize=(14, 5))\n",
    "\n",
    "# 눈금 라벨 회전(반시계 방향 90도)\n",
    "# xticks 함수 사용\n",
    "# rotation 옵션 사용\n",
    "# rotation=각도\n",
    "# 각도가 양수이면 반시계 방향, 각도가 음수이면 시계 방향\n",
    "plt.xticks(rotation='vertical')\n",
    "# plt.xticks(rotation=90)\n",
    "\n",
    "plt.plot(dt_g.index, dt_g.values)\n",
    "\n",
    "plt.title('서울 -> 경기 이동 인구')\n",
    "\n",
    "plt.xlabel('기간')\n",
    "\n",
    "plt.ylabel('이동 인구 수')\n",
    "# y축 이름 회전, 여백 공간 설정\n",
    "# plt.ylabel('이동 인구 수', rotation = 0, labelpad = 40)\n",
    "\n",
    "plt.show()"
   ]
  },
  {
   "cell_type": "markdown",
   "id": "a2c6b769",
   "metadata": {},
   "source": [
    "matplotlib에서 기본적으로 제공해주는 스타일 서식\n",
    "- default, classic, bmh, dark_background, fast, grayscale, ggplot, etc..\n",
    "- 스타일 설정을 matplotlib 자체적인 설정을 해주는 것이기 때문에 한 번 설정하면 다음 차트에서도 그대로 적용\n",
    "- 범례 추가\n",
    " - 위치 지정 : Best, Upper right, Upper left, Lower left, Lower right, Right, Center left, Center rightm, Lower center, Upper center, center\n",
    "- 글씨 크기 변경\n",
    "- 각 값마다 점을 찍기"
   ]
  },
  {
   "cell_type": "code",
   "execution_count": 81,
   "id": "381e25c7",
   "metadata": {},
   "outputs": [
    {
     "data": {
      "image/png": "[encoded data removed]",
      "text/plain": [
       "<Figure size 1008x360 with 1 Axes>"
      ]
     },
     "metadata": {},
     "output_type": "display_data"
    }
   ],
   "source": [
    "import pandas as pd\n",
    "import matplotlib.pyplot as plt\n",
    "from matplotlib import font_manager, rc\n",
    "\n",
    "font_path = './malgun.ttf'\n",
    "font_name = font_manager.FontProperties(fname=font_path).get_name()\n",
    "rc('font', family=font_name)\n",
    "\n",
    "df = pd.read_excel(\"./시도별 전출입 인구수.xlsx\", header = 0)\n",
    "\n",
    "df = df.fillna(method='ffill')\n",
    "\n",
    "mask = (df['전출지별'] == '서울특별시') & (df['전입지별'] != '서울특별시')\n",
    "\n",
    "df_seoul = df[mask]\n",
    "df_seoul = df_seoul.drop(['전출지별'], axis = 1)\n",
    "df_seoul.rename({'전입지별':'전입지'}, axis = 1, inplace=True)\n",
    "df_seoul.set_index('전입지', inplace=True)\n",
    "\n",
    "dt_g = df_seoul.loc['경기도']\n",
    "\n",
    "# 스타일 서식 지정(ggplot)\n",
    "# style.use 함수 사용\n",
    "# 함수 입력값에 원하는 스타일 서식을 삽입해줌\n",
    "plt.style.use('ggplot')\n",
    "\n",
    "plt.figure(figsize=(14, 5))\n",
    "\n",
    "plt.xticks(rotation='vertical')\n",
    "\n",
    "# 각 지점마다 점 찍기\n",
    "# marker 옵션 사용(o)\n",
    "# markersize 옵션 사용(10)\n",
    "plt.plot(dt_g.index, dt_g.values, marker = 'o', markersize = 10)\n",
    "\n",
    "# 글자 크기 변경\n",
    "# size 옵션 사용(30)\n",
    "plt.title('서울 -> 경기 이동 인구', size = 30)\n",
    "\n",
    "# 글자 크기 변경\n",
    "# size 옵션 사용(20)\n",
    "plt.xlabel('기간', size = 20)\n",
    "\n",
    "# 글자 크기 변경\n",
    "# size 옵션 사용(20)\n",
    "plt.ylabel('이동 인구 수', size = 20)\n",
    "\n",
    "# 범례 추가\n",
    "# legend 함수 사용\n",
    "# labels 옵션 사용(범례 이름, '서울 -> 경기')\n",
    "# labels = []\n",
    "# loc 옵션 사용(위치, best)\n",
    "# fontsize 옵션 사용(글자 크기, 15)\n",
    "plt.legend(labels = ['서울 -> 경기'], loc = 'best', fontsize = 15)\n",
    "\n",
    "plt.show()"
   ]
  },
  {
   "cell_type": "markdown",
   "id": "f910ec68",
   "metadata": {},
   "source": [
    "지속적인 스타일 설정 예제"
   ]
  },
  {
   "cell_type": "code",
   "execution_count": 77,
   "id": "cedc6959",
   "metadata": {},
   "outputs": [
    {
     "data": {
      "image/png": "[encoded data removed]",
      "text/plain": [
       "<Figure size 432x288 with 1 Axes>"
      ]
     },
     "metadata": {},
     "output_type": "display_data"
    }
   ],
   "source": [
    "x = [1, 2, 3, 4, 5]\n",
    "y = [6, 7, 8, 9, 10]\n",
    "\n",
    "plt.plot(x, y)\n",
    "\n",
    "plt.show()"
   ]
  },
  {
   "cell_type": "markdown",
   "id": "8b8fa631",
   "metadata": {},
   "source": [
    "텍스트 처리\n",
    "- annotate 함수 사용\n",
    "- 텍스트 내용을 넣을 위치와 정렬 방법을 전달\n",
    " - arrowprops 옵션을 사용하면 텍스트 대신에 화살표를 표현\n",
    " - 화살표 스타일, 시작점과 끝점의 좌표를 입력\n",
    "- 범위 증가"
   ]
  },
  {
   "cell_type": "code",
   "execution_count": 80,
   "id": "c23b1a6a",
   "metadata": {},
   "outputs": [
    {
     "data": {
      "image/png": "[encoded data removed]",
      "text/plain": [
       "<Figure size 1008x360 with 1 Axes>"
      ]
     },
     "metadata": {},
     "output_type": "display_data"
    }
   ],
   "source": [
    "import pandas as pd\n",
    "import matplotlib.pyplot as plt\n",
    "from matplotlib import font_manager, rc\n",
    "\n",
    "font_path = './malgun.ttf'\n",
    "font_name = font_manager.FontProperties(fname=font_path).get_name()\n",
    "rc('font', family=font_name)\n",
    "\n",
    "df = pd.read_excel(\"./시도별 전출입 인구수.xlsx\", header = 0)\n",
    "\n",
    "df = df.fillna(method='ffill')\n",
    "\n",
    "mask = (df['전출지별'] == '서울특별시') & (df['전입지별'] != '서울특별시')\n",
    "\n",
    "df_seoul = df[mask]\n",
    "df_seoul = df_seoul.drop(['전출지별'], axis = 1)\n",
    "df_seoul.rename({'전입지별':'전입지'}, axis = 1, inplace=True)\n",
    "df_seoul.set_index('전입지', inplace=True)\n",
    "\n",
    "dt_g = df_seoul.loc['경기도']\n",
    "\n",
    "plt.style.use('ggplot')\n",
    "\n",
    "plt.figure(figsize=(14, 5))\n",
    "\n",
    "plt.xticks(rotation='vertical')\n",
    "\n",
    "plt.plot(dt_g.index, dt_g.values, marker = 'o', markersize = 10)\n",
    "\n",
    "plt.title('서울 -> 경기 이동 인구', size = 30)\n",
    "\n",
    "plt.xlabel('기간', size = 20)\n",
    "\n",
    "plt.ylabel('이동 인구 수', size = 20)\n",
    "\n",
    "plt.legend(labels = ['서울 -> 경기'], loc = 'best', fontsize = 15)\n",
    "\n",
    "# y축 범위 지정\n",
    "# ylim 함수 사용(최소값, 최대값) - 50000 ~ 800000\n",
    "plt.ylim(50000, 800000)\n",
    "\n",
    "# 화살표 만들기\n",
    "# annotate 함수 사용\n",
    "# 옵션 순서\n",
    "# - 텍스트 : ''\n",
    "# - 머리 부분 : xy = (20, 620000)\n",
    "# - 꼬리 부분 : xytext = (2, 290000)\n",
    "# - 좌표 체계 : xycoords = data\n",
    "# - 화살표 특성\n",
    "plt.annotate('',\n",
    "             xy = (20, 620000),\n",
    "             xytext = (2, 290000),\n",
    "             xycoords = 'data',\n",
    "             arrowprops = dict(arrowstyle = '->', color = 'skyblue', lw = 5))\n",
    "\n",
    "plt.show()"
   ]
  },
  {
   "cell_type": "code",
   "execution_count": null,
   "id": "51a35dd6",
   "metadata": {},
   "outputs": [],
   "source": []
  }
 ],
 "metadata": {
  "kernelspec": {
   "display_name": "Python 3",
   "language": "python",
   "name": "python3"
  },
  "language_info": {
   "codemirror_mode": {
    "name": "ipython",
    "version": 3
   },
   "file_extension": ".py",
   "mimetype": "text/x-python",
   "name": "python",
   "nbconvert_exporter": "python",
   "pygments_lexer": "ipython3",
   "version": "3.8.8"
  }
 },
 "nbformat": 4,
 "nbformat_minor": 5
}
