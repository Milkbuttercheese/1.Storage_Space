{
 "cells": [
  {
   "cell_type": "code",
   "execution_count": 12,
   "id": "e1b8a89e",
   "metadata": {
    "pycharm": {
     "name": "#%%\n"
    }
   },
   "outputs": [],
   "source": [
    "!jt -t  onedork"
   ]
  },
  {
   "cell_type": "code",
   "execution_count": 1,
   "id": "e1676d92",
   "metadata": {
    "pycharm": {
     "name": "#%%\n"
    }
   },
   "outputs": [],
   "source": [
    "import numpy as np\n",
    "import pandas as pd\n",
    "import scipy as sp\n",
    "import matplotlib as plt"
   ]
  },
  {
   "cell_type": "code",
   "execution_count": 2,
   "id": "57ecf135",
   "metadata": {
    "pycharm": {
     "name": "#%%\n"
    }
   },
   "outputs": [
    {
     "name": "stdout",
     "output_type": "stream",
     "text": [
      "a    1\n",
      "b    2\n",
      "c    3\n",
      "dtype: int64\n",
      "<class 'pandas.core.series.Series'>\n"
     ]
    }
   ],
   "source": [
    "#시리즈 생성\n",
    "#판다스 내장 함수인 Series() 사용\n",
    "dict_data={ 'a':1, 'b':2, 'c':3}\n",
    "series_1=pd.Series(dict_data)\n",
    "print(series_1)\n",
    "print(type(series_1))"
   ]
  },
  {
   "cell_type": "code",
   "execution_count": 3,
   "id": "949975d5",
   "metadata": {
    "pycharm": {
     "name": "#%%\n"
    }
   },
   "outputs": [
    {
     "name": "stdout",
     "output_type": "stream",
     "text": [
      "0    2022-05-23\n",
      "1          3.14\n",
      "2           우성균\n",
      "3           100\n",
      "4          True\n",
      "dtype: object\n",
      "<class 'pandas.core.series.Series'>\n",
      "RangeIndex(start=0, stop=5, step=1)\n",
      "['2022-05-23' 3.14 '우성균' 100 True]\n",
      "<class 'numpy.ndarray'>\n"
     ]
    }
   ],
   "source": [
    "list_1=['2022-05-23',3.14,'우성균',100,True]\n",
    "sr2=pd.Series(list_1)\n",
    "print(sr2)\n",
    "print(type(sr2))\n",
    "\n",
    "\n",
    "#인덱스 받기\n",
    "idx=sr2.index\n",
    "#데이터값 받기\n",
    "val=sr2.values\n",
    "\n",
    "print(idx)\n",
    "print(val)\n",
    "print(type(val))"
   ]
  },
  {
   "cell_type": "code",
   "execution_count": 4,
   "id": "7adc8662",
   "metadata": {
    "pycharm": {
     "name": "#%%\n"
    }
   },
   "outputs": [
    {
     "name": "stdout",
     "output_type": "stream",
     "text": [
      "이름             우성균\n",
      "오늘날짜    2022-05-23\n",
      "성별              남성\n",
      "학생여부          True\n",
      "dtype: object\n"
     ]
    }
   ],
   "source": [
    "#튜플 => 시리즈\n",
    "# 정수형 인덱스를 사용하는 대신 따로 인덱스 정의해보기\n",
    "tuple_data=('우성균','2022-05-23','남성',True)\n",
    "#index 변수에 리스트 형식으로\n",
    "idx=['이름','오늘날짜','성별','학생여부']\n",
    "sr=pd.Series(tuple_data,idx)\n",
    "print(sr)"
   ]
  },
  {
   "cell_type": "code",
   "execution_count": 5,
   "id": "7fb6f053",
   "metadata": {
    "pycharm": {
     "name": "#%%\n"
    }
   },
   "outputs": [
    {
     "name": "stdout",
     "output_type": "stream",
     "text": [
      "우성균\n",
      "2022-05-23\n"
     ]
    }
   ],
   "source": [
    "print(sr['이름'])\n",
    "print(sr[1])"
   ]
  },
  {
   "cell_type": "code",
   "execution_count": 6,
   "id": "3112b845",
   "metadata": {
    "pycharm": {
     "name": "#%%\n"
    }
   },
   "outputs": [
    {
     "name": "stdout",
     "output_type": "stream",
     "text": [
      "오늘날짜    2022-05-23\n",
      "성별              남성\n",
      "dtype: object\n",
      "오늘날짜    2022-05-23\n",
      "성별              남성\n",
      "dtype: object\n"
     ]
    }
   ],
   "source": [
    "print(sr[['오늘날짜','성별']])\n",
    "print(sr[[1,2]])\n"
   ]
  },
  {
   "cell_type": "code",
   "execution_count": 7,
   "id": "9558b15c",
   "metadata": {
    "pycharm": {
     "name": "#%%\n"
    }
   },
   "outputs": [
    {
     "name": "stdout",
     "output_type": "stream",
     "text": [
      "오늘날짜    2022-05-23\n",
      "성별              남성\n",
      "학생여부          True\n",
      "dtype: object\n",
      "오늘날짜    2022-05-23\n",
      "성별              남성\n",
      "dtype: object\n"
     ]
    }
   ],
   "source": [
    "#리스트 원소3 다중선택, 슬라이싱\n",
    "print(sr[1:4])\n",
    "print(sr['오늘날짜':'성별'])"
   ]
  },
  {
   "cell_type": "code",
   "execution_count": 8,
   "id": "29f2526a",
   "metadata": {
    "pycharm": {
     "name": "#%%\n"
    }
   },
   "outputs": [
    {
     "name": "stdout",
     "output_type": "stream",
     "text": [
      "{'c0': [1, 2, 3], 'c1': [4, 5, 6], 'c2': [7, 8, 9], 'c3': [10, 11, 12], 'c4': [13, 14, 15]}\n"
     ]
    }
   ],
   "source": [
    "#딕셔너리를 데이터프레임으로 변환하기\n",
    "key=['c0','c1','c2','c3','c4']\n",
    "val=[[1,2,3],[4,5,6],[7,8,9],[10,11,12],[13,14,15]]\n",
    "dict_data=dict(zip(key,val))\n",
    "print(dict_data)\n",
    "df=pd.DataFrame(dict_data)"
   ]
  },
  {
   "cell_type": "code",
   "execution_count": 9,
   "id": "b519ab51",
   "metadata": {
    "pycharm": {
     "name": "#%%\n"
    }
   },
   "outputs": [
    {
     "name": "stdout",
     "output_type": "stream",
     "text": [
      "     나이  성별     학교\n",
      "김똘똘  26  남성  서울시립대\n",
      "나예쁜  23  여성    서울대\n",
      "떡볶이  21  여성    건국대\n",
      "Index(['김똘똘', '나예쁜', '떡볶이'], dtype='object')\n",
      "Index(['나이', '성별', '학교'], dtype='object')\n"
     ]
    }
   ],
   "source": [
    "#데이터 프레임 리스트를 써서 만들기\n",
    "list_1=[26,'남성','서울시립대']\n",
    "list_2=[23,'여성','서울대']\n",
    "list_3=[21,'여성','건국대']\n",
    "col=['나이','성별','학교']\n",
    "idx= ['김똘똘','나예쁜','떡볶이']\n",
    "df=pd.DataFrame([list_1,list_2,list_3],index=idx,columns=col)\n",
    "print(df)\n",
    "print(df.index)\n",
    "print(df.columns)"
   ]
  },
  {
   "cell_type": "code",
   "execution_count": 10,
   "id": "caea1748",
   "metadata": {
    "pycharm": {
     "name": "#%%\n"
    }
   },
   "outputs": [
    {
     "name": "stdout",
     "output_type": "stream",
     "text": [
      "    춘추  남녀     소속\n",
      "성재  26  남성  서울시립대\n",
      "재은  23  여성    서울대\n",
      "효풍  21  여성    건국대\n",
      "    나이  성별     학교\n",
      "영호  26  남성  서울시립대\n",
      "유정  23  여성    서울대\n",
      "동건  21  여성    건국대\n"
     ]
    }
   ],
   "source": [
    "#열 확인법\n",
    "new_name=['성재','재은','효풍']\n",
    "new_col=['춘추','남녀','소속']\n",
    "df.index= new_name\n",
    "df.columns=new_col\n",
    "print(df)\n",
    "\n",
    "df.rename(index={'성재':'영호','재은':'유정','효풍':'동건'},inplace=True)\n",
    "df.rename(columns={'춘추':'나이','남녀':'성별','소속':'학교'},inplace=True)\n",
    "print(df)"
   ]
  },
  {
   "cell_type": "code",
   "execution_count": 11,
   "id": "e6038214",
   "metadata": {
    "pycharm": {
     "name": "#%%\n"
    }
   },
   "outputs": [
    {
     "name": "stdout",
     "output_type": "stream",
     "text": [
      "    나이  성별     학교\n",
      "영호  26  남성  서울시립대\n",
      "유정  23  여성    서울대\n",
      "동건  21  여성    건국대\n"
     ]
    }
   ],
   "source": [
    "#인덱스, 열이름 변경법\n",
    "df2=df.rename(index={'성재':'영호','재은':'유정','효풍':'동건'})\n",
    "df3=df2.rename(columns={'춘추':'나이','남녀':'성별','소속':'학교'})\n",
    "print(df3)\n",
    "\n"
   ]
  },
  {
   "cell_type": "code",
   "execution_count": 12,
   "id": "a2dcea01",
   "metadata": {
    "pycharm": {
     "name": "#%%\n"
    }
   },
   "outputs": [
    {
     "name": "stdout",
     "output_type": "stream",
     "text": [
      "    수학  영어  국어  음악\n",
      "우주  90  99  80  50\n",
      "서원  85  98  70  50\n",
      "성균  80  97  60  50\n"
     ]
    }
   ],
   "source": [
    "#행 제거 예제\n",
    "key={'국어','수학','영어','음악'}\n",
    "val=[[90,85,80],[99,98,97],[80,70,60],[50,50,50]]\n",
    "dict_data=dict(zip(key,val))\n",
    "idx=['우주','서원','성균']\n",
    "df=pd.DataFrame(dict_data,idx)\n",
    "print(df)\n",
    "df2=df\n",
    "df3=df"
   ]
  },
  {
   "cell_type": "code",
   "execution_count": 13,
   "id": "5b91105b",
   "metadata": {
    "pycharm": {
     "name": "#%%\n"
    }
   },
   "outputs": [
    {
     "data": {
      "text/html": [
       "<div>\n",
       "<style scoped>\n",
       "    .dataframe tbody tr th:only-of-type {\n",
       "        vertical-align: middle;\n",
       "    }\n",
       "\n",
       "    .dataframe tbody tr th {\n",
       "        vertical-align: top;\n",
       "    }\n",
       "\n",
       "    .dataframe thead th {\n",
       "        text-align: right;\n",
       "    }\n",
       "</style>\n",
       "<table border=\"1\" class=\"dataframe\">\n",
       "  <thead>\n",
       "    <tr style=\"text-align: right;\">\n",
       "      <th></th>\n",
       "      <th>수학</th>\n",
       "      <th>영어</th>\n",
       "      <th>국어</th>\n",
       "      <th>음악</th>\n",
       "    </tr>\n",
       "  </thead>\n",
       "  <tbody>\n",
       "    <tr>\n",
       "      <th>서원</th>\n",
       "      <td>85</td>\n",
       "      <td>98</td>\n",
       "      <td>70</td>\n",
       "      <td>50</td>\n",
       "    </tr>\n",
       "    <tr>\n",
       "      <th>성균</th>\n",
       "      <td>80</td>\n",
       "      <td>97</td>\n",
       "      <td>60</td>\n",
       "      <td>50</td>\n",
       "    </tr>\n",
       "  </tbody>\n",
       "</table>\n",
       "</div>"
      ],
      "text/plain": [
       "    수학  영어  국어  음악\n",
       "서원  85  98  70  50\n",
       "성균  80  97  60  50"
      ]
     },
     "execution_count": 13,
     "metadata": {},
     "output_type": "execute_result"
    }
   ],
   "source": [
    "# 행 제거하기\n",
    "df.drop(['우주'],axis=0)"
   ]
  },
  {
   "cell_type": "code",
   "execution_count": 14,
   "id": "be4c42b9",
   "metadata": {
    "pycharm": {
     "name": "#%%\n"
    }
   },
   "outputs": [
    {
     "name": "stdout",
     "output_type": "stream",
     "text": [
      "    수학  영어  국어  음악\n",
      "우주  90  99  80  50\n",
      "서원  85  98  70  50\n",
      "성균  80  97  60  50\n"
     ]
    }
   ],
   "source": [
    "print(df3)"
   ]
  },
  {
   "cell_type": "code",
   "execution_count": 15,
   "id": "9a6caa70",
   "metadata": {
    "pycharm": {
     "name": "#%%\n"
    }
   },
   "outputs": [],
   "source": [
    "idx=['소연','한나','유경']\n",
    "df4=pd.DataFrame(dict_data,idx)"
   ]
  },
  {
   "cell_type": "code",
   "execution_count": 16,
   "id": "aad8452f",
   "metadata": {
    "pycharm": {
     "name": "#%%\n"
    }
   },
   "outputs": [
    {
     "data": {
      "text/html": [
       "<div>\n",
       "<style scoped>\n",
       "    .dataframe tbody tr th:only-of-type {\n",
       "        vertical-align: middle;\n",
       "    }\n",
       "\n",
       "    .dataframe tbody tr th {\n",
       "        vertical-align: top;\n",
       "    }\n",
       "\n",
       "    .dataframe thead th {\n",
       "        text-align: right;\n",
       "    }\n",
       "</style>\n",
       "<table border=\"1\" class=\"dataframe\">\n",
       "  <thead>\n",
       "    <tr style=\"text-align: right;\">\n",
       "      <th></th>\n",
       "      <th>수학</th>\n",
       "      <th>영어</th>\n",
       "      <th>음악</th>\n",
       "    </tr>\n",
       "  </thead>\n",
       "  <tbody>\n",
       "    <tr>\n",
       "      <th>유경</th>\n",
       "      <td>80</td>\n",
       "      <td>97</td>\n",
       "      <td>50</td>\n",
       "    </tr>\n",
       "  </tbody>\n",
       "</table>\n",
       "</div>"
      ],
      "text/plain": [
       "    수학  영어  음악\n",
       "유경  80  97  50"
      ]
     },
     "execution_count": 16,
     "metadata": {},
     "output_type": "execute_result"
    }
   ],
   "source": [
    "df5=df4\n",
    "df5.drop(['소연','한나'],inplace=True)\n",
    "df5.drop(['국어'],axis=1)"
   ]
  },
  {
   "cell_type": "code",
   "execution_count": 17,
   "id": "f6741668",
   "metadata": {
    "pycharm": {
     "name": "#%%\n"
    }
   },
   "outputs": [],
   "source": [
    "idx=['소연','한나','유경']\n",
    "df4=pd.DataFrame(dict_data,idx)"
   ]
  },
  {
   "cell_type": "code",
   "execution_count": 18,
   "id": "1f7fe841",
   "metadata": {
    "pycharm": {
     "name": "#%%\n"
    }
   },
   "outputs": [
    {
     "data": {
      "text/html": [
       "<div>\n",
       "<style scoped>\n",
       "    .dataframe tbody tr th:only-of-type {\n",
       "        vertical-align: middle;\n",
       "    }\n",
       "\n",
       "    .dataframe tbody tr th {\n",
       "        vertical-align: top;\n",
       "    }\n",
       "\n",
       "    .dataframe thead th {\n",
       "        text-align: right;\n",
       "    }\n",
       "</style>\n",
       "<table border=\"1\" class=\"dataframe\">\n",
       "  <thead>\n",
       "    <tr style=\"text-align: right;\">\n",
       "      <th></th>\n",
       "      <th>수학</th>\n",
       "      <th>국어</th>\n",
       "    </tr>\n",
       "  </thead>\n",
       "  <tbody>\n",
       "    <tr>\n",
       "      <th>소연</th>\n",
       "      <td>90</td>\n",
       "      <td>80</td>\n",
       "    </tr>\n",
       "    <tr>\n",
       "      <th>한나</th>\n",
       "      <td>85</td>\n",
       "      <td>70</td>\n",
       "    </tr>\n",
       "    <tr>\n",
       "      <th>유경</th>\n",
       "      <td>80</td>\n",
       "      <td>60</td>\n",
       "    </tr>\n",
       "  </tbody>\n",
       "</table>\n",
       "</div>"
      ],
      "text/plain": [
       "    수학  국어\n",
       "소연  90  80\n",
       "한나  85  70\n",
       "유경  80  60"
      ]
     },
     "execution_count": 18,
     "metadata": {},
     "output_type": "execute_result"
    }
   ],
   "source": [
    "idx=['소연','한나','유경']\n",
    "df4=pd.DataFrame(dict_data,idx)\n",
    "df4.drop(['영어','음악'],axis=1)"
   ]
  },
  {
   "cell_type": "code",
   "execution_count": 19,
   "id": "2a1977bb",
   "metadata": {
    "pycharm": {
     "name": "#%%\n"
    }
   },
   "outputs": [
    {
     "name": "stdout",
     "output_type": "stream",
     "text": [
      "    수학  영어  국어  음악\n",
      "원혁  90  99  80  50\n",
      "석호  85  98  70  50\n",
      "수란  80  97  60  50\n"
     ]
    },
    {
     "data": {
      "text/html": [
       "<div>\n",
       "<style scoped>\n",
       "    .dataframe tbody tr th:only-of-type {\n",
       "        vertical-align: middle;\n",
       "    }\n",
       "\n",
       "    .dataframe tbody tr th {\n",
       "        vertical-align: top;\n",
       "    }\n",
       "\n",
       "    .dataframe thead th {\n",
       "        text-align: right;\n",
       "    }\n",
       "</style>\n",
       "<table border=\"1\" class=\"dataframe\">\n",
       "  <thead>\n",
       "    <tr style=\"text-align: right;\">\n",
       "      <th></th>\n",
       "      <th>d</th>\n",
       "      <th>e</th>\n",
       "      <th>f</th>\n",
       "    </tr>\n",
       "  </thead>\n",
       "  <tbody>\n",
       "    <tr>\n",
       "      <th>a</th>\n",
       "      <td>1</td>\n",
       "      <td>2</td>\n",
       "      <td>3</td>\n",
       "    </tr>\n",
       "    <tr>\n",
       "      <th>b</th>\n",
       "      <td>4</td>\n",
       "      <td>5</td>\n",
       "      <td>6</td>\n",
       "    </tr>\n",
       "    <tr>\n",
       "      <th>c</th>\n",
       "      <td>7</td>\n",
       "      <td>8</td>\n",
       "      <td>9</td>\n",
       "    </tr>\n",
       "  </tbody>\n",
       "</table>\n",
       "</div>"
      ],
      "text/plain": [
       "   d  e  f\n",
       "a  1  2  3\n",
       "b  4  5  6\n",
       "c  7  8  9"
      ]
     },
     "execution_count": 19,
     "metadata": {},
     "output_type": "execute_result"
    }
   ],
   "source": [
    "#행 제거 예제\n",
    "key={'국어','수학','영어','음악'}\n",
    "val=[[90,85,80],[99,98,97],[80,70,60],[50,50,50]]\n",
    "dict_data=dict(zip(key,val))\n",
    "idx=['원혁','석호','수란']\n",
    "\n",
    "df=pd.DataFrame(dict_data,idx)\n",
    "print(df)\n",
    "\n",
    "df_2=pd.DataFrame([[1,2,3],\n",
    "                  [4,5,6],\n",
    "                  [7,8,9]],['a','b','c'],['d','e','f'])\n",
    "df_2"
   ]
  },
  {
   "cell_type": "code",
   "execution_count": 20,
   "id": "977826eb",
   "metadata": {
    "pycharm": {
     "name": "#%%\n"
    }
   },
   "outputs": [
    {
     "name": "stdout",
     "output_type": "stream",
     "text": [
      "수학    90\n",
      "영어    99\n",
      "국어    80\n",
      "음악    50\n",
      "Name: 원혁, dtype: int64\n",
      "수학    90\n",
      "영어    99\n",
      "국어    80\n",
      "음악    50\n",
      "Name: 원혁, dtype: int64\n",
      "<class 'pandas.core.series.Series'>\n"
     ]
    }
   ],
   "source": [
    "label1= df.loc['원혁']\n",
    "position=df.iloc[0]\n",
    "print(label1)\n",
    "print(position)\n",
    "print(type(label1))\n"
   ]
  },
  {
   "cell_type": "code",
   "execution_count": 21,
   "id": "45764c1c",
   "metadata": {
    "pycharm": {
     "name": "#%%\n"
    }
   },
   "outputs": [
    {
     "name": "stdout",
     "output_type": "stream",
     "text": [
      "    수학  영어  국어  음악\n",
      "석호  85  98  70  50\n",
      "수란  80  97  60  50\n",
      "    수학  영어  국어  음악\n",
      "석호  85  98  70  50\n",
      "수란  80  97  60  50\n",
      "    수학  영어  국어  음악\n",
      "석호  85  98  70  50\n",
      "수란  80  97  60  50\n",
      "<class 'pandas.core.frame.DataFrame'>\n"
     ]
    }
   ],
   "source": [
    "label2=df.loc['석호':'수란']\n",
    "position2=df.iloc[1:3]\n",
    "print(label2)\n",
    "print(position2)\n",
    "label3=df.loc[['석호','수란']]\n",
    "print(label3)\n",
    "\n",
    "print(type(label2))"
   ]
  },
  {
   "cell_type": "code",
   "execution_count": 22,
   "id": "490325ef",
   "metadata": {
    "pycharm": {
     "name": "#%%\n"
    }
   },
   "outputs": [
    {
     "name": "stdout",
     "output_type": "stream",
     "text": [
      "    수학  영어  국어  음악\n",
      "원혁  90  99  80  50\n",
      "석호  85  98  70  50\n",
      "수란  80  97  60  50\n",
      "    수학  영어  국어  음악\n",
      "원혁  90  99  80  50\n",
      "석호  85  98  70  50\n",
      "수란  80  97  60  50\n"
     ]
    }
   ],
   "source": [
    "#인덱싱\n",
    "label3=df.loc['원혁':'수란']\n",
    "position3=df.iloc[0:3]\n",
    "print(label3)\n",
    "print(position3)"
   ]
  },
  {
   "cell_type": "code",
   "execution_count": 23,
   "id": "3ab0871d",
   "metadata": {
    "pycharm": {
     "name": "#%%\n"
    }
   },
   "outputs": [
    {
     "name": "stdout",
     "output_type": "stream",
     "text": [
      "원혁    90\n",
      "석호    85\n",
      "수란    80\n",
      "Name: 수학, dtype: int64\n"
     ]
    }
   ],
   "source": [
    "# 열선택\n",
    "df=pd.DataFrame(dict_data,idx)\n",
    "math=df['수학']\n",
    "print(math)"
   ]
  },
  {
   "cell_type": "code",
   "execution_count": 24,
   "id": "4e964e57",
   "metadata": {
    "pycharm": {
     "name": "#%%\n"
    }
   },
   "outputs": [
    {
     "data": {
      "text/plain": [
       "원혁    99\n",
       "석호    98\n",
       "수란    97\n",
       "Name: 영어, dtype: int64"
      ]
     },
     "execution_count": 24,
     "metadata": {},
     "output_type": "execute_result"
    }
   ],
   "source": [
    "#열 선택하는 법\n",
    "df.영어"
   ]
  },
  {
   "cell_type": "code",
   "execution_count": 25,
   "id": "149908ac",
   "metadata": {
    "pycharm": {
     "name": "#%%\n"
    }
   },
   "outputs": [
    {
     "data": {
      "text/html": [
       "<div>\n",
       "<style scoped>\n",
       "    .dataframe tbody tr th:only-of-type {\n",
       "        vertical-align: middle;\n",
       "    }\n",
       "\n",
       "    .dataframe tbody tr th {\n",
       "        vertical-align: top;\n",
       "    }\n",
       "\n",
       "    .dataframe thead th {\n",
       "        text-align: right;\n",
       "    }\n",
       "</style>\n",
       "<table border=\"1\" class=\"dataframe\">\n",
       "  <thead>\n",
       "    <tr style=\"text-align: right;\">\n",
       "      <th></th>\n",
       "      <th>국어</th>\n",
       "      <th>음악</th>\n",
       "    </tr>\n",
       "  </thead>\n",
       "  <tbody>\n",
       "    <tr>\n",
       "      <th>원혁</th>\n",
       "      <td>80</td>\n",
       "      <td>50</td>\n",
       "    </tr>\n",
       "    <tr>\n",
       "      <th>석호</th>\n",
       "      <td>70</td>\n",
       "      <td>50</td>\n",
       "    </tr>\n",
       "    <tr>\n",
       "      <th>수란</th>\n",
       "      <td>60</td>\n",
       "      <td>50</td>\n",
       "    </tr>\n",
       "  </tbody>\n",
       "</table>\n",
       "</div>"
      ],
      "text/plain": [
       "    국어  음악\n",
       "원혁  80  50\n",
       "석호  70  50\n",
       "수란  60  50"
      ]
     },
     "execution_count": 25,
     "metadata": {},
     "output_type": "execute_result"
    }
   ],
   "source": [
    "two_class=df[['국어','음악']]\n",
    "two_class"
   ]
  },
  {
   "cell_type": "code",
   "execution_count": 26,
   "id": "0e4c0548",
   "metadata": {
    "pycharm": {
     "name": "#%%\n"
    }
   },
   "outputs": [
    {
     "name": "stdout",
     "output_type": "stream",
     "text": [
      "   이름  국어  수학   영어   음악\n",
      "0  지선  80  80  100   70\n",
      "1  혁준  90  86   98   90\n",
      "2  지현  96  94   87  100\n"
     ]
    }
   ],
   "source": [
    "key=['이름','국어','수학','영어','음악']\n",
    "val=[['지선','혁준','지현'],[80,90,96],[80,86,94],[100,98,87],[70,90,100]]\n",
    "dict_data=dict(zip(key,val))\n",
    "df= pd.DataFrame(dict_data)\n",
    "print(df)"
   ]
  },
  {
   "cell_type": "code",
   "execution_count": 27,
   "id": "41007551",
   "metadata": {
    "pycharm": {
     "name": "#%%\n"
    }
   },
   "outputs": [],
   "source": [
    "df.set_index('이름',inplace=True)"
   ]
  },
  {
   "cell_type": "code",
   "execution_count": 28,
   "id": "4bdbf5a9",
   "metadata": {
    "pycharm": {
     "name": "#%%\n"
    }
   },
   "outputs": [
    {
     "name": "stdout",
     "output_type": "stream",
     "text": [
      "Index(['지선', '혁준', '지현'], dtype='object', name='이름')\n",
      "Index(['국어', '수학', '영어', '음악'], dtype='object')\n",
      "    국어  수학   영어   음악\n",
      "이름                  \n",
      "지선  80  80  100   70\n",
      "혁준  90  86   98   90\n",
      "지현  96  94   87  100\n"
     ]
    }
   ],
   "source": [
    "df\n",
    "print(df.index)\n",
    "print(df.columns)\n",
    "print(df)"
   ]
  },
  {
   "cell_type": "code",
   "execution_count": 29,
   "id": "1bc5af08",
   "metadata": {
    "pycharm": {
     "name": "#%%\n"
    }
   },
   "outputs": [
    {
     "name": "stdout",
     "output_type": "stream",
     "text": [
      "100\n",
      "100\n"
     ]
    }
   ],
   "source": [
    "print(df.loc['지선','영어'])\n",
    "print(df.iloc[0,2])"
   ]
  },
  {
   "cell_type": "code",
   "execution_count": 30,
   "id": "cdac9207",
   "metadata": {
    "pycharm": {
     "name": "#%%\n"
    }
   },
   "outputs": [
    {
     "name": "stdout",
     "output_type": "stream",
     "text": [
      "국어    90\n",
      "수학    86\n",
      "Name: 혁준, dtype: int64\n",
      "국어    90\n",
      "수학    86\n",
      "Name: 혁준, dtype: int64\n"
     ]
    }
   ],
   "source": [
    "print(df.loc['혁준',['국어','수학']])\n",
    "print(df.iloc[1,[0,1]])"
   ]
  },
  {
   "cell_type": "code",
   "execution_count": 31,
   "id": "16c652fb",
   "metadata": {
    "pycharm": {
     "name": "#%%\n"
    }
   },
   "outputs": [
    {
     "name": "stdout",
     "output_type": "stream",
     "text": [
      "국어    96\n",
      "수학    94\n",
      "Name: 지현, dtype: int64\n",
      "국어    96\n",
      "수학    94\n",
      "Name: 지현, dtype: int64\n"
     ]
    }
   ],
   "source": [
    "print(df.loc['지현','국어':'수학'])\n",
    "print(df.iloc[2,0:2])"
   ]
  },
  {
   "cell_type": "code",
   "execution_count": 32,
   "id": "6aa87f4e",
   "metadata": {
    "pycharm": {
     "name": "#%%\n"
    }
   },
   "outputs": [
    {
     "name": "stdout",
     "output_type": "stream",
     "text": [
      "    수학  음악\n",
      "이름        \n",
      "지선  80  70\n",
      "혁준  86  90\n",
      "    수학  음악\n",
      "이름        \n",
      "지선  80  70\n",
      "혁준  86  90\n"
     ]
    }
   ],
   "source": [
    "print(df.loc[['지선','혁준'],['수학','음악']])\n",
    "print(df.iloc[[0,1],[1,3]])"
   ]
  },
  {
   "cell_type": "code",
   "execution_count": 33,
   "id": "5c28d7d0",
   "metadata": {
    "pycharm": {
     "name": "#%%\n"
    }
   },
   "outputs": [
    {
     "name": "stdout",
     "output_type": "stream",
     "text": [
      "    수학   영어  음악\n",
      "이름             \n",
      "지선  80  100  70\n",
      "혁준  86   98  90\n",
      "    수학   영어  음악\n",
      "이름             \n",
      "지선  80  100  70\n",
      "혁준  86   98  90\n"
     ]
    }
   ],
   "source": [
    "print(df.loc['지선':'혁준','수학':'음악'])\n",
    "print(df.iloc[0:2,1:4])"
   ]
  },
  {
   "cell_type": "code",
   "execution_count": 34,
   "id": "93010355",
   "metadata": {
    "pycharm": {
     "name": "#%%\n"
    }
   },
   "outputs": [],
   "source": [
    "key=['이름','국어','수학','영어','음악']\n",
    "val=[['남준','영롱','준영'],[80,90,96],[80,86,94],[100,98,87],[70,90,100]]\n",
    "dict_data=dict(zip(key,val))\n",
    "df= pd.DataFrame(dict_data)\n",
    "df['체육']=[80,86,95]\n",
    "df\n",
    "df.insert(4,'과학',[90,100,85])"
   ]
  },
  {
   "cell_type": "code",
   "execution_count": 35,
   "id": "7ddb4e82",
   "metadata": {
    "pycharm": {
     "name": "#%%\n"
    }
   },
   "outputs": [
    {
     "data": {
      "text/html": [
       "<div>\n",
       "<style scoped>\n",
       "    .dataframe tbody tr th:only-of-type {\n",
       "        vertical-align: middle;\n",
       "    }\n",
       "\n",
       "    .dataframe tbody tr th {\n",
       "        vertical-align: top;\n",
       "    }\n",
       "\n",
       "    .dataframe thead th {\n",
       "        text-align: right;\n",
       "    }\n",
       "</style>\n",
       "<table border=\"1\" class=\"dataframe\">\n",
       "  <thead>\n",
       "    <tr style=\"text-align: right;\">\n",
       "      <th></th>\n",
       "      <th>이름</th>\n",
       "      <th>국어</th>\n",
       "      <th>수학</th>\n",
       "      <th>영어</th>\n",
       "      <th>과학</th>\n",
       "      <th>음악</th>\n",
       "      <th>체육</th>\n",
       "    </tr>\n",
       "  </thead>\n",
       "  <tbody>\n",
       "    <tr>\n",
       "      <th>0</th>\n",
       "      <td>남준</td>\n",
       "      <td>80</td>\n",
       "      <td>80</td>\n",
       "      <td>100</td>\n",
       "      <td>90</td>\n",
       "      <td>70</td>\n",
       "      <td>80</td>\n",
       "    </tr>\n",
       "    <tr>\n",
       "      <th>1</th>\n",
       "      <td>영롱</td>\n",
       "      <td>90</td>\n",
       "      <td>86</td>\n",
       "      <td>98</td>\n",
       "      <td>100</td>\n",
       "      <td>90</td>\n",
       "      <td>86</td>\n",
       "    </tr>\n",
       "    <tr>\n",
       "      <th>2</th>\n",
       "      <td>준영</td>\n",
       "      <td>96</td>\n",
       "      <td>94</td>\n",
       "      <td>87</td>\n",
       "      <td>85</td>\n",
       "      <td>100</td>\n",
       "      <td>95</td>\n",
       "    </tr>\n",
       "  </tbody>\n",
       "</table>\n",
       "</div>"
      ],
      "text/plain": [
       "   이름  국어  수학   영어   과학   음악  체육\n",
       "0  남준  80  80  100   90   70  80\n",
       "1  영롱  90  86   98  100   90  86\n",
       "2  준영  96  94   87   85  100  95"
      ]
     },
     "execution_count": 35,
     "metadata": {},
     "output_type": "execute_result"
    }
   ],
   "source": [
    "df"
   ]
  },
  {
   "cell_type": "code",
   "execution_count": 36,
   "id": "023b72b2",
   "metadata": {
    "pycharm": {
     "name": "#%%\n"
    }
   },
   "outputs": [
    {
     "data": {
      "text/html": [
       "<div>\n",
       "<style scoped>\n",
       "    .dataframe tbody tr th:only-of-type {\n",
       "        vertical-align: middle;\n",
       "    }\n",
       "\n",
       "    .dataframe tbody tr th {\n",
       "        vertical-align: top;\n",
       "    }\n",
       "\n",
       "    .dataframe thead th {\n",
       "        text-align: right;\n",
       "    }\n",
       "</style>\n",
       "<table border=\"1\" class=\"dataframe\">\n",
       "  <thead>\n",
       "    <tr style=\"text-align: right;\">\n",
       "      <th></th>\n",
       "      <th>이름</th>\n",
       "      <th>국어</th>\n",
       "      <th>수학</th>\n",
       "      <th>영어</th>\n",
       "      <th>음악</th>\n",
       "    </tr>\n",
       "  </thead>\n",
       "  <tbody>\n",
       "    <tr>\n",
       "      <th>0</th>\n",
       "      <td>남준</td>\n",
       "      <td>80</td>\n",
       "      <td>80</td>\n",
       "      <td>100</td>\n",
       "      <td>70</td>\n",
       "    </tr>\n",
       "    <tr>\n",
       "      <th>1</th>\n",
       "      <td>영롱</td>\n",
       "      <td>90</td>\n",
       "      <td>86</td>\n",
       "      <td>98</td>\n",
       "      <td>90</td>\n",
       "    </tr>\n",
       "    <tr>\n",
       "      <th>2</th>\n",
       "      <td>준영</td>\n",
       "      <td>96</td>\n",
       "      <td>94</td>\n",
       "      <td>87</td>\n",
       "      <td>100</td>\n",
       "    </tr>\n",
       "    <tr>\n",
       "      <th>3</th>\n",
       "      <td>0</td>\n",
       "      <td>0</td>\n",
       "      <td>0</td>\n",
       "      <td>0</td>\n",
       "      <td>0</td>\n",
       "    </tr>\n",
       "    <tr>\n",
       "      <th>4</th>\n",
       "      <td>철수</td>\n",
       "      <td>90</td>\n",
       "      <td>84</td>\n",
       "      <td>80</td>\n",
       "      <td>86</td>\n",
       "    </tr>\n",
       "    <tr>\n",
       "      <th>5</th>\n",
       "      <td>0</td>\n",
       "      <td>0</td>\n",
       "      <td>0</td>\n",
       "      <td>0</td>\n",
       "      <td>0</td>\n",
       "    </tr>\n",
       "  </tbody>\n",
       "</table>\n",
       "</div>"
      ],
      "text/plain": [
       "   이름  국어  수학   영어   음악\n",
       "0  남준  80  80  100   70\n",
       "1  영롱  90  86   98   90\n",
       "2  준영  96  94   87  100\n",
       "3   0   0   0    0    0\n",
       "4  철수  90  84   80   86\n",
       "5   0   0   0    0    0"
      ]
     },
     "execution_count": 36,
     "metadata": {},
     "output_type": "execute_result"
    }
   ],
   "source": [
    "key=['이름','국어','수학','영어','음악']\n",
    "val=[['남준','영롱','준영'],[80,90,96],[80,86,94],[100,98,87],[70,90,100]]\n",
    "dict_data=dict(zip(key,val))\n",
    "df= pd.DataFrame(dict_data)\n",
    "#행을 추가하려는 경우 객체.loc['새로운 행 이름']=리스트 로 입력\n",
    "#이 경우 df의 index가 정수 -> 이경우 loc[정수]로 입력하면 됨\n",
    "df.loc[3]= 0\n",
    "df.loc[4]=['철수',90,84,80,86]\n",
    "df.loc[5]=df.loc[3]\n",
    "df"
   ]
  },
  {
   "cell_type": "code",
   "execution_count": 37,
   "id": "04c80885",
   "metadata": {
    "pycharm": {
     "name": "#%%\n"
    }
   },
   "outputs": [
    {
     "data": {
      "text/html": [
       "<div>\n",
       "<style scoped>\n",
       "    .dataframe tbody tr th:only-of-type {\n",
       "        vertical-align: middle;\n",
       "    }\n",
       "\n",
       "    .dataframe tbody tr th {\n",
       "        vertical-align: top;\n",
       "    }\n",
       "\n",
       "    .dataframe thead th {\n",
       "        text-align: right;\n",
       "    }\n",
       "</style>\n",
       "<table border=\"1\" class=\"dataframe\">\n",
       "  <thead>\n",
       "    <tr style=\"text-align: right;\">\n",
       "      <th></th>\n",
       "      <th>이름</th>\n",
       "      <th>국어</th>\n",
       "      <th>수학</th>\n",
       "      <th>영어</th>\n",
       "      <th>음악</th>\n",
       "    </tr>\n",
       "  </thead>\n",
       "  <tbody>\n",
       "    <tr>\n",
       "      <th>0</th>\n",
       "      <td>남준</td>\n",
       "      <td>80</td>\n",
       "      <td>80</td>\n",
       "      <td>100</td>\n",
       "      <td>70</td>\n",
       "    </tr>\n",
       "    <tr>\n",
       "      <th>1</th>\n",
       "      <td>영롱</td>\n",
       "      <td>90</td>\n",
       "      <td>86</td>\n",
       "      <td>98</td>\n",
       "      <td>90</td>\n",
       "    </tr>\n",
       "    <tr>\n",
       "      <th>2</th>\n",
       "      <td>준영</td>\n",
       "      <td>96</td>\n",
       "      <td>94</td>\n",
       "      <td>87</td>\n",
       "      <td>100</td>\n",
       "    </tr>\n",
       "    <tr>\n",
       "      <th>4</th>\n",
       "      <td>성민</td>\n",
       "      <td>100</td>\n",
       "      <td>75</td>\n",
       "      <td>85</td>\n",
       "      <td>80</td>\n",
       "    </tr>\n",
       "  </tbody>\n",
       "</table>\n",
       "</div>"
      ],
      "text/plain": [
       "   이름   국어  수학   영어   음악\n",
       "0  남준   80  80  100   70\n",
       "1  영롱   90  86   98   90\n",
       "2  준영   96  94   87  100\n",
       "4  성민  100  75   85   80"
      ]
     },
     "execution_count": 37,
     "metadata": {},
     "output_type": "execute_result"
    }
   ],
   "source": [
    "key=['이름','국어','수학','영어','음악']\n",
    "val=[['남준','영롱','준영'],[80,90,96],[80,86,94],[100,98,87],[70,90,100]]\n",
    "dict_data=dict(zip(key,val))\n",
    "df= pd.DataFrame(dict_data)\n",
    "df.loc[4]=['성민',100,75,85,80]\n",
    "df"
   ]
  },
  {
   "cell_type": "code",
   "execution_count": 38,
   "id": "19529373",
   "metadata": {
    "pycharm": {
     "name": "#%%\n"
    }
   },
   "outputs": [],
   "source": [
    "exam_data2={'이름':'종현','국어':90,'수학':100,'음악':85}"
   ]
  },
  {
   "cell_type": "code",
   "execution_count": 39,
   "id": "f6ac1216",
   "metadata": {
    "pycharm": {
     "name": "#%%\n"
    }
   },
   "outputs": [
    {
     "name": "stdout",
     "output_type": "stream",
     "text": [
      "   이름  국어  수학   영어   음악\n",
      "0  남준  80  80  100   70\n",
      "1  영롱  90  86   98   90\n",
      "2  준영  96  94   87  100\n",
      "이름     성민\n",
      "국어    100\n",
      "수학     75\n",
      "영어     85\n",
      "음악     80\n",
      "Name: 4, dtype: object\n"
     ]
    }
   ],
   "source": [
    "label= df.iloc[:3]\n",
    "label2=df.iloc[3]\n",
    "print(label)\n",
    "print(label2)"
   ]
  },
  {
   "cell_type": "code",
   "execution_count": 40,
   "id": "4d89a2ed",
   "metadata": {
    "pycharm": {
     "name": "#%%\n"
    }
   },
   "outputs": [
    {
     "name": "stderr",
     "output_type": "stream",
     "text": [
      "/var/folders/gs/314c_88575s6rqgp501f0zwh0000gn/T/ipykernel_40979/3399537427.py:1: FutureWarning: The frame.append method is deprecated and will be removed from pandas in a future version. Use pandas.concat instead.\n",
      "  df=label.append(exam_data2,ignore_index=True ).append(label2,ignore_index=True)\n",
      "/var/folders/gs/314c_88575s6rqgp501f0zwh0000gn/T/ipykernel_40979/3399537427.py:1: FutureWarning: The frame.append method is deprecated and will be removed from pandas in a future version. Use pandas.concat instead.\n",
      "  df=label.append(exam_data2,ignore_index=True ).append(label2,ignore_index=True)\n"
     ]
    }
   ],
   "source": [
    "df=label.append(exam_data2,ignore_index=True ).append(label2,ignore_index=True)\n",
    "#ignore_index 인자를 사용: index를 행의 순서대로 다시 붙여준다."
   ]
  },
  {
   "cell_type": "code",
   "execution_count": 41,
   "id": "c4f42723",
   "metadata": {
    "pycharm": {
     "name": "#%%\n"
    }
   },
   "outputs": [
    {
     "data": {
      "text/plain": [
       "75"
      ]
     },
     "execution_count": 41,
     "metadata": {},
     "output_type": "execute_result"
    }
   ],
   "source": [
    "df.set_index('이름',inplace=True)\n",
    "df.loc['성민','수학']"
   ]
  },
  {
   "cell_type": "code",
   "execution_count": 42,
   "id": "d78f1da5",
   "metadata": {
    "pycharm": {
     "name": "#%%\n"
    }
   },
   "outputs": [],
   "source": [
    "df.loc['종현','수학']=85"
   ]
  },
  {
   "cell_type": "code",
   "execution_count": 43,
   "id": "9eac3c69",
   "metadata": {
    "pycharm": {
     "name": "#%%\n"
    }
   },
   "outputs": [],
   "source": [
    "df.iloc[0,0]=90"
   ]
  },
  {
   "cell_type": "code",
   "execution_count": 44,
   "id": "fbd1b708",
   "metadata": {
    "pycharm": {
     "name": "#%%\n"
    }
   },
   "outputs": [],
   "source": [
    "df.loc['남준',['수학','영어']]=100"
   ]
  },
  {
   "cell_type": "code",
   "execution_count": 45,
   "id": "c9ab7c4b",
   "metadata": {
    "pycharm": {
     "name": "#%%\n"
    }
   },
   "outputs": [],
   "source": [
    "df.loc['종현',['국어','수학']]=[95,90]"
   ]
  },
  {
   "cell_type": "code",
   "execution_count": 46,
   "id": "4b729a21",
   "metadata": {
    "pycharm": {
     "name": "#%%\n"
    }
   },
   "outputs": [
    {
     "data": {
      "text/html": [
       "<div>\n",
       "<style scoped>\n",
       "    .dataframe tbody tr th:only-of-type {\n",
       "        vertical-align: middle;\n",
       "    }\n",
       "\n",
       "    .dataframe tbody tr th {\n",
       "        vertical-align: top;\n",
       "    }\n",
       "\n",
       "    .dataframe thead th {\n",
       "        text-align: right;\n",
       "    }\n",
       "</style>\n",
       "<table border=\"1\" class=\"dataframe\">\n",
       "  <thead>\n",
       "    <tr style=\"text-align: right;\">\n",
       "      <th></th>\n",
       "      <th>국어</th>\n",
       "      <th>수학</th>\n",
       "      <th>영어</th>\n",
       "      <th>음악</th>\n",
       "    </tr>\n",
       "    <tr>\n",
       "      <th>이름</th>\n",
       "      <th></th>\n",
       "      <th></th>\n",
       "      <th></th>\n",
       "      <th></th>\n",
       "    </tr>\n",
       "  </thead>\n",
       "  <tbody>\n",
       "    <tr>\n",
       "      <th>남준</th>\n",
       "      <td>90</td>\n",
       "      <td>100</td>\n",
       "      <td>100.0</td>\n",
       "      <td>70</td>\n",
       "    </tr>\n",
       "    <tr>\n",
       "      <th>영롱</th>\n",
       "      <td>90</td>\n",
       "      <td>86</td>\n",
       "      <td>98.0</td>\n",
       "      <td>90</td>\n",
       "    </tr>\n",
       "    <tr>\n",
       "      <th>준영</th>\n",
       "      <td>96</td>\n",
       "      <td>94</td>\n",
       "      <td>87.0</td>\n",
       "      <td>100</td>\n",
       "    </tr>\n",
       "    <tr>\n",
       "      <th>종현</th>\n",
       "      <td>95</td>\n",
       "      <td>90</td>\n",
       "      <td>NaN</td>\n",
       "      <td>85</td>\n",
       "    </tr>\n",
       "    <tr>\n",
       "      <th>성민</th>\n",
       "      <td>100</td>\n",
       "      <td>75</td>\n",
       "      <td>85.0</td>\n",
       "      <td>80</td>\n",
       "    </tr>\n",
       "  </tbody>\n",
       "</table>\n",
       "</div>"
      ],
      "text/plain": [
       "     국어   수학     영어   음악\n",
       "이름                      \n",
       "남준   90  100  100.0   70\n",
       "영롱   90   86   98.0   90\n",
       "준영   96   94   87.0  100\n",
       "종현   95   90    NaN   85\n",
       "성민  100   75   85.0   80"
      ]
     },
     "execution_count": 46,
     "metadata": {},
     "output_type": "execute_result"
    }
   ],
   "source": [
    "df"
   ]
  },
  {
   "cell_type": "code",
   "execution_count": 47,
   "id": "9412a378",
   "metadata": {
    "pycharm": {
     "name": "#%%\n"
    }
   },
   "outputs": [
    {
     "data": {
      "text/html": [
       "<div>\n",
       "<style scoped>\n",
       "    .dataframe tbody tr th:only-of-type {\n",
       "        vertical-align: middle;\n",
       "    }\n",
       "\n",
       "    .dataframe tbody tr th {\n",
       "        vertical-align: top;\n",
       "    }\n",
       "\n",
       "    .dataframe thead th {\n",
       "        text-align: right;\n",
       "    }\n",
       "</style>\n",
       "<table border=\"1\" class=\"dataframe\">\n",
       "  <thead>\n",
       "    <tr style=\"text-align: right;\">\n",
       "      <th></th>\n",
       "      <th>국어</th>\n",
       "      <th>수학</th>\n",
       "      <th>영어</th>\n",
       "      <th>음악</th>\n",
       "    </tr>\n",
       "    <tr>\n",
       "      <th>이름</th>\n",
       "      <th></th>\n",
       "      <th></th>\n",
       "      <th></th>\n",
       "      <th></th>\n",
       "    </tr>\n",
       "  </thead>\n",
       "  <tbody>\n",
       "    <tr>\n",
       "      <th>유정</th>\n",
       "      <td>80</td>\n",
       "      <td>80</td>\n",
       "      <td>100</td>\n",
       "      <td>70</td>\n",
       "    </tr>\n",
       "    <tr>\n",
       "      <th>동건</th>\n",
       "      <td>90</td>\n",
       "      <td>86</td>\n",
       "      <td>98</td>\n",
       "      <td>90</td>\n",
       "    </tr>\n",
       "    <tr>\n",
       "      <th>영호</th>\n",
       "      <td>96</td>\n",
       "      <td>94</td>\n",
       "      <td>87</td>\n",
       "      <td>100</td>\n",
       "    </tr>\n",
       "  </tbody>\n",
       "</table>\n",
       "</div>"
      ],
      "text/plain": [
       "    국어  수학   영어   음악\n",
       "이름                  \n",
       "유정  80  80  100   70\n",
       "동건  90  86   98   90\n",
       "영호  96  94   87  100"
      ]
     },
     "execution_count": 47,
     "metadata": {},
     "output_type": "execute_result"
    }
   ],
   "source": [
    "key=['이름','국어','수학','영어','음악']\n",
    "val=[['유정','동건','영호'],[80,90,96],[80,86,94],[100,98,87],[70,90,100]]\n",
    "dict_data=dict(zip(key,val))\n",
    "df= pd.DataFrame(dict_data)\n",
    "df.set_index('이름',inplace=True)\n",
    "df"
   ]
  },
  {
   "cell_type": "code",
   "execution_count": 48,
   "id": "60bacd8b",
   "metadata": {
    "pycharm": {
     "name": "#%%\n"
    }
   },
   "outputs": [
    {
     "data": {
      "text/html": [
       "<div>\n",
       "<style scoped>\n",
       "    .dataframe tbody tr th:only-of-type {\n",
       "        vertical-align: middle;\n",
       "    }\n",
       "\n",
       "    .dataframe tbody tr th {\n",
       "        vertical-align: top;\n",
       "    }\n",
       "\n",
       "    .dataframe thead th {\n",
       "        text-align: right;\n",
       "    }\n",
       "</style>\n",
       "<table border=\"1\" class=\"dataframe\">\n",
       "  <thead>\n",
       "    <tr style=\"text-align: right;\">\n",
       "      <th>이름</th>\n",
       "      <th>유정</th>\n",
       "      <th>동건</th>\n",
       "      <th>영호</th>\n",
       "    </tr>\n",
       "  </thead>\n",
       "  <tbody>\n",
       "    <tr>\n",
       "      <th>국어</th>\n",
       "      <td>80</td>\n",
       "      <td>90</td>\n",
       "      <td>96</td>\n",
       "    </tr>\n",
       "    <tr>\n",
       "      <th>수학</th>\n",
       "      <td>80</td>\n",
       "      <td>86</td>\n",
       "      <td>94</td>\n",
       "    </tr>\n",
       "    <tr>\n",
       "      <th>영어</th>\n",
       "      <td>100</td>\n",
       "      <td>98</td>\n",
       "      <td>87</td>\n",
       "    </tr>\n",
       "    <tr>\n",
       "      <th>음악</th>\n",
       "      <td>70</td>\n",
       "      <td>90</td>\n",
       "      <td>100</td>\n",
       "    </tr>\n",
       "  </tbody>\n",
       "</table>\n",
       "</div>"
      ],
      "text/plain": [
       "이름   유정  동건   영호\n",
       "국어   80  90   96\n",
       "수학   80  86   94\n",
       "영어  100  98   87\n",
       "음악   70  90  100"
      ]
     },
     "execution_count": 48,
     "metadata": {},
     "output_type": "execute_result"
    }
   ],
   "source": [
    "df=df.transpose()\n",
    "df"
   ]
  },
  {
   "cell_type": "code",
   "execution_count": 49,
   "id": "25749a8f",
   "metadata": {
    "pycharm": {
     "name": "#%%\n"
    }
   },
   "outputs": [
    {
     "name": "stdout",
     "output_type": "stream",
     "text": [
      "Index(['국어', '수학', '영어', '음악'], dtype='object')\n"
     ]
    }
   ],
   "source": [
    "print(df.index)"
   ]
  },
  {
   "cell_type": "code",
   "execution_count": 50,
   "id": "aac12a29",
   "metadata": {
    "pycharm": {
     "name": "#%%\n"
    }
   },
   "outputs": [
    {
     "data": {
      "text/html": [
       "<div>\n",
       "<style scoped>\n",
       "    .dataframe tbody tr th:only-of-type {\n",
       "        vertical-align: middle;\n",
       "    }\n",
       "\n",
       "    .dataframe tbody tr th {\n",
       "        vertical-align: top;\n",
       "    }\n",
       "\n",
       "    .dataframe thead th {\n",
       "        text-align: right;\n",
       "    }\n",
       "</style>\n",
       "<table border=\"1\" class=\"dataframe\">\n",
       "  <thead>\n",
       "    <tr style=\"text-align: right;\">\n",
       "      <th></th>\n",
       "      <th>이름</th>\n",
       "      <th>국어</th>\n",
       "      <th>수학</th>\n",
       "      <th>영어</th>\n",
       "      <th>음악</th>\n",
       "    </tr>\n",
       "  </thead>\n",
       "  <tbody>\n",
       "    <tr>\n",
       "      <th>0</th>\n",
       "      <td>석호</td>\n",
       "      <td>80</td>\n",
       "      <td>80</td>\n",
       "      <td>100</td>\n",
       "      <td>70</td>\n",
       "    </tr>\n",
       "    <tr>\n",
       "      <th>1</th>\n",
       "      <td>성민</td>\n",
       "      <td>90</td>\n",
       "      <td>86</td>\n",
       "      <td>98</td>\n",
       "      <td>90</td>\n",
       "    </tr>\n",
       "    <tr>\n",
       "      <th>2</th>\n",
       "      <td>영롱</td>\n",
       "      <td>96</td>\n",
       "      <td>94</td>\n",
       "      <td>87</td>\n",
       "      <td>100</td>\n",
       "    </tr>\n",
       "  </tbody>\n",
       "</table>\n",
       "</div>"
      ],
      "text/plain": [
       "   이름  국어  수학   영어   음악\n",
       "0  석호  80  80  100   70\n",
       "1  성민  90  86   98   90\n",
       "2  영롱  96  94   87  100"
      ]
     },
     "execution_count": 50,
     "metadata": {},
     "output_type": "execute_result"
    }
   ],
   "source": [
    "key=['이름','국어','수학','영어','음악']\n",
    "val=[['석호','성민','영롱'],[80,90,96],[80,86,94],[100,98,87],[70,90,100]]\n",
    "dict_data=dict(zip(key,val))\n",
    "#df는 정수 index, df_2는 index가 이름\n",
    "df= pd.DataFrame(dict_data)\n",
    "df_2=df.set_index('이름')\n",
    "df"
   ]
  },
  {
   "cell_type": "code",
   "execution_count": 51,
   "id": "88eb200d",
   "metadata": {
    "pycharm": {
     "name": "#%%\n"
    }
   },
   "outputs": [
    {
     "name": "stdout",
     "output_type": "stream",
     "text": [
      "    음악  국어  수학   영어\n",
      "0   70  80  80  100\n",
      "1   90  90  86   98\n",
      "2  100  96  94   87\n"
     ]
    }
   ],
   "source": [
    "'''\n",
    "특정 열을 행 인덱스로 설정(열이름)\n",
    "\n",
    "'''\n",
    "df_3=df_2.set_index('음악')\n",
    "df_3\n",
    "\n",
    "df_4=df_3.reset_index('음악')\n",
    "print(df_4)"
   ]
  },
  {
   "cell_type": "code",
   "execution_count": 52,
   "id": "1b1aadf0",
   "metadata": {
    "pycharm": {
     "name": "#%%\n"
    }
   },
   "outputs": [],
   "source": [
    "#행 인덱스 지정은 두개 이상도 가능\n",
    "df_4=df_2\n",
    "df_4.set_index(['수학','영어'],inplace=True)"
   ]
  },
  {
   "cell_type": "code",
   "execution_count": 53,
   "id": "f2992f97",
   "metadata": {
    "pycharm": {
     "name": "#%%\n"
    }
   },
   "outputs": [
    {
     "data": {
      "text/html": [
       "<div>\n",
       "<style scoped>\n",
       "    .dataframe tbody tr th:only-of-type {\n",
       "        vertical-align: middle;\n",
       "    }\n",
       "\n",
       "    .dataframe tbody tr th {\n",
       "        vertical-align: top;\n",
       "    }\n",
       "\n",
       "    .dataframe thead th {\n",
       "        text-align: right;\n",
       "    }\n",
       "</style>\n",
       "<table border=\"1\" class=\"dataframe\">\n",
       "  <thead>\n",
       "    <tr style=\"text-align: right;\">\n",
       "      <th></th>\n",
       "      <th></th>\n",
       "      <th>국어</th>\n",
       "      <th>음악</th>\n",
       "    </tr>\n",
       "    <tr>\n",
       "      <th>수학</th>\n",
       "      <th>영어</th>\n",
       "      <th></th>\n",
       "      <th></th>\n",
       "    </tr>\n",
       "  </thead>\n",
       "  <tbody>\n",
       "    <tr>\n",
       "      <th>80</th>\n",
       "      <th>100</th>\n",
       "      <td>80</td>\n",
       "      <td>70</td>\n",
       "    </tr>\n",
       "    <tr>\n",
       "      <th>86</th>\n",
       "      <th>98</th>\n",
       "      <td>90</td>\n",
       "      <td>90</td>\n",
       "    </tr>\n",
       "    <tr>\n",
       "      <th>94</th>\n",
       "      <th>87</th>\n",
       "      <td>96</td>\n",
       "      <td>100</td>\n",
       "    </tr>\n",
       "  </tbody>\n",
       "</table>\n",
       "</div>"
      ],
      "text/plain": [
       "        국어   음악\n",
       "수학 영어          \n",
       "80 100  80   70\n",
       "86 98   90   90\n",
       "94 87   96  100"
      ]
     },
     "execution_count": 53,
     "metadata": {},
     "output_type": "execute_result"
    }
   ],
   "source": [
    "df_4"
   ]
  },
  {
   "cell_type": "code",
   "execution_count": null,
   "id": "aef3fb25",
   "metadata": {
    "pycharm": {
     "name": "#%%\n"
    }
   },
   "outputs": [],
   "source": []
  },
  {
   "cell_type": "code",
   "execution_count": null,
   "id": "ccb507ad-5a0b-4ebf-a6d8-0b4625bd1fa0",
   "metadata": {},
   "outputs": [],
   "source": []
  }
 ],
 "metadata": {
  "interpreter": {
   "hash": "3deb2ba0b29d31778bb5382b22b3e78db44b185db1d6c07579fc1330797a76a8"
  },
  "kernelspec": {
   "display_name": "Python 3 (ipykernel)",
   "language": "python",
   "name": "python3"
  },
  "language_info": {
   "codemirror_mode": {
    "name": "ipython",
    "version": 3
   },
   "file_extension": ".py",
   "mimetype": "text/x-python",
   "name": "python",
   "nbconvert_exporter": "python",
   "pygments_lexer": "ipython3",
   "version": "3.9.13"
  }
 },
 "nbformat": 4,
 "nbformat_minor": 5
}
