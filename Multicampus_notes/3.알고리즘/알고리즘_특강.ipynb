{
 "cells": [
  {
   "cell_type": "markdown",
   "source": "![Picture title](image-20220720-170845.png)",
   "metadata": {
    "cell_id": "32c7b328ee8149b89fb590d860813a05",
    "tags": [],
    "deepnote_cell_type": "markdown",
    "deepnote_cell_height": 1166
   }
  },
  {
   "cell_type": "code",
   "metadata": {
    "tags": [],
    "cell_id": "2db2d8b1-7a44-4071-987c-6e9c68eeae8a",
    "deepnote_to_be_reexecuted": false,
    "source_hash": "7b2b479e",
    "execution_start": 1658305891695,
    "execution_millis": 120,
    "deepnote_cell_type": "code",
    "deepnote_cell_height": 2589.8125,
    "deepnote_output_heights": [
     null,
     565.0625
    ]
   },
   "source": "ARRAY_LENGTH = 5  # 배열의 행과 열 크기(고정)\n\ndef replaceData(numData): # numData\t2차원 정수 배열\n    retData = [] # 조건에 따라서 전처리된 2차원 배열\n\n\n\n\n    ###########   여기부터 코딩 (1) ---------------->\n    row_len= len(numData)\n    col_len = len(numData[0])\n    for i in range(row_len):\n        for j in range(col_len):\n            if numData[i][j] <0 :\n                retData[i][j]= 0\n            else:\n                retData[i][j]=numData[i][j]\n\n\n    ###########   <-------------- 여기까지 코딩 (1)\n\n    return retData\n\n\n# 2x2 크기의 배열의 최대합을 구한다.\ndef getMaxSum(numData): # 요구 사항에 맞춰 처리된 2차원 정수 배열\n    maxSum = 0 # 최대합\n\n    ###########   여기부터 코딩 (2) ---------------->\n\n\n\n\n    ###########   <-------------- 여기까지 코딩 (2)\n\n    return maxSum\n\n## 전역 변수 선언 부분\nnumData =[] # 5x5 배열\nARRAY_LENGTH = 5 # 배열의 행과 열 크기(고정)\n\ndef main() :\n        global numData\n\n        loadData() # 2차원 배열 읽어오기\n\n        ## 원본 출력\n        print(' ----- 초기 배열 -----')\n        printData()\n\n        # 1. 데이터 치환 작업\n        numData = replaceData(numData)\n        print(' ----- 치환 후 배열 -----')\n        printData()\n\n        # 2. 최대 합 구하기.(2x2 크기)\n        maxSum = getMaxSum(numData)\n        print('최대 영역의 합: %d' % maxSum)\n\n       \n## 함수 선언 부분\ndef  loadData() : # 데이터 불러오기\n    global numData\n\n    ###########\n    # 제공 데이터 세트 1 \n    # 5x5 숫자 배열. \n    ###########\n    numData = \\\n    [\n        [ 5, 7, -5, 100, 73 ],\n        [ 35, 23, 4, 190, 33 ],\n        [ 49, 85, 662, 39, 81 ],\n        [ 124, -59, 86, 46, 52 ],\n        [ 27, 7, 8, 33, -56 ] \n    ]\n    \n    \n\ndef printData() :\n        for i in range(0, ARRAY_LENGTH) :\n                for k in range(0, ARRAY_LENGTH) :\n                        try :\n                                print(\"%5d\" % numData[i][k], end='')\n                        except :\n                                pass\n                print()\n        print('--------------------------------------')\n\n## 메인 함수 호출 ##\nif __name__ == \"__main__\" :\n    main()",
   "outputs": [
    {
     "name": "stdout",
     "text": " ----- 초기 배열 -----\n    5    7   -5  100   73\n   35   23    4  190   33\n   49   85  662   39   81\n  124  -59   86   46   52\n   27    7    8   33  -56\n--------------------------------------\n",
     "output_type": "stream"
    },
    {
     "output_type": "error",
     "ename": "IndexError",
     "evalue": "list index out of range",
     "traceback": [
      "\u001b[0;31m---------------------------------------------------------------------------\u001b[0m",
      "\u001b[0;31mIndexError\u001b[0m                                Traceback (most recent call last)",
      "\u001b[0;32m<ipython-input-1-466c86f4f363>\u001b[0m in \u001b[0;36m<cell line: 91>\u001b[0;34m()\u001b[0m\n\u001b[1;32m     90\u001b[0m \u001b[0;31m## 메인 함수 호출 ##\u001b[0m\u001b[0;34m\u001b[0m\u001b[0;34m\u001b[0m\u001b[0m\n\u001b[1;32m     91\u001b[0m \u001b[0;32mif\u001b[0m \u001b[0m__name__\u001b[0m \u001b[0;34m==\u001b[0m \u001b[0;34m\"__main__\"\u001b[0m \u001b[0;34m:\u001b[0m\u001b[0;34m\u001b[0m\u001b[0;34m\u001b[0m\u001b[0m\n\u001b[0;32m---> 92\u001b[0;31m     \u001b[0mmain\u001b[0m\u001b[0;34m(\u001b[0m\u001b[0;34m)\u001b[0m\u001b[0;34m\u001b[0m\u001b[0;34m\u001b[0m\u001b[0m\n\u001b[0m",
      "\u001b[0;32m<ipython-input-1-466c86f4f363>\u001b[0m in \u001b[0;36mmain\u001b[0;34m()\u001b[0m\n\u001b[1;32m     50\u001b[0m \u001b[0;34m\u001b[0m\u001b[0m\n\u001b[1;32m     51\u001b[0m         \u001b[0;31m# 1. 데이터 치환 작업\u001b[0m\u001b[0;34m\u001b[0m\u001b[0;34m\u001b[0m\u001b[0m\n\u001b[0;32m---> 52\u001b[0;31m         \u001b[0mnumData\u001b[0m \u001b[0;34m=\u001b[0m \u001b[0mreplaceData\u001b[0m\u001b[0;34m(\u001b[0m\u001b[0mnumData\u001b[0m\u001b[0;34m)\u001b[0m\u001b[0;34m\u001b[0m\u001b[0;34m\u001b[0m\u001b[0m\n\u001b[0m\u001b[1;32m     53\u001b[0m         \u001b[0mprint\u001b[0m\u001b[0;34m(\u001b[0m\u001b[0;34m' ----- 치환 후 배열 -----'\u001b[0m\u001b[0;34m)\u001b[0m\u001b[0;34m\u001b[0m\u001b[0;34m\u001b[0m\u001b[0m\n\u001b[1;32m     54\u001b[0m         \u001b[0mprintData\u001b[0m\u001b[0;34m(\u001b[0m\u001b[0;34m)\u001b[0m\u001b[0;34m\u001b[0m\u001b[0;34m\u001b[0m\u001b[0m\n",
      "\u001b[0;32m<ipython-input-1-466c86f4f363>\u001b[0m in \u001b[0;36mreplaceData\u001b[0;34m(numData)\u001b[0m\n\u001b[1;32m     15\u001b[0m                 \u001b[0mretData\u001b[0m\u001b[0;34m[\u001b[0m\u001b[0mi\u001b[0m\u001b[0;34m]\u001b[0m\u001b[0;34m[\u001b[0m\u001b[0mj\u001b[0m\u001b[0;34m]\u001b[0m\u001b[0;34m=\u001b[0m \u001b[0;36m0\u001b[0m\u001b[0;34m\u001b[0m\u001b[0;34m\u001b[0m\u001b[0m\n\u001b[1;32m     16\u001b[0m             \u001b[0;32melse\u001b[0m\u001b[0;34m:\u001b[0m\u001b[0;34m\u001b[0m\u001b[0;34m\u001b[0m\u001b[0m\n\u001b[0;32m---> 17\u001b[0;31m                 \u001b[0mretData\u001b[0m\u001b[0;34m[\u001b[0m\u001b[0mi\u001b[0m\u001b[0;34m]\u001b[0m\u001b[0;34m[\u001b[0m\u001b[0mj\u001b[0m\u001b[0;34m]\u001b[0m\u001b[0;34m=\u001b[0m\u001b[0mnumData\u001b[0m\u001b[0;34m[\u001b[0m\u001b[0mi\u001b[0m\u001b[0;34m]\u001b[0m\u001b[0;34m[\u001b[0m\u001b[0mj\u001b[0m\u001b[0;34m]\u001b[0m\u001b[0;34m\u001b[0m\u001b[0;34m\u001b[0m\u001b[0m\n\u001b[0m\u001b[1;32m     18\u001b[0m \u001b[0;34m\u001b[0m\u001b[0m\n\u001b[1;32m     19\u001b[0m \u001b[0;34m\u001b[0m\u001b[0m\n",
      "\u001b[0;31mIndexError\u001b[0m: list index out of range"
     ]
    }
   ],
   "execution_count": null
  },
  {
   "cell_type": "markdown",
   "source": "",
   "metadata": {
    "cell_id": "4eda6e6d39d8469bb81b55d25afb3868",
    "tags": [],
    "deepnote_cell_type": "markdown",
    "deepnote_cell_height": 46
   }
  },
  {
   "cell_type": "code",
   "source": "import numpy as np \narr=[[1,2,3,4,5],[6,7,8,9,10]]\n\nlen(arr[0])\nprint(arr)",
   "metadata": {
    "cell_id": "808c2b9d152b431f8c2bca98a6b8d805",
    "tags": [],
    "deepnote_to_be_reexecuted": false,
    "source_hash": "15de84ca",
    "execution_start": 1658305994620,
    "execution_millis": 6,
    "deepnote_cell_type": "code",
    "deepnote_cell_height": 190.59375,
    "deepnote_output_heights": [
     27.59375
    ]
   },
   "outputs": [
    {
     "name": "stdout",
     "text": "[[1, 2, 3, 4, 5], [6, 7, 8, 9, 10]]\n",
     "output_type": "stream"
    }
   ],
   "execution_count": null
  },
  {
   "cell_type": "code",
   "source": "len(arr[0])",
   "metadata": {
    "cell_id": "fa6585a8da194b1788159f2b4b2dd3e2",
    "tags": [],
    "deepnote_to_be_reexecuted": false,
    "source_hash": "8fdf24e2",
    "execution_start": 1658305995700,
    "execution_millis": 651,
    "deepnote_cell_type": "code",
    "deepnote_cell_height": 124.59375,
    "deepnote_output_heights": [
     27.59375
    ]
   },
   "outputs": [
    {
     "output_type": "execute_result",
     "execution_count": 4,
     "data": {
      "text/plain": "5"
     },
     "metadata": {}
    }
   ],
   "execution_count": null
  },
  {
   "cell_type": "code",
   "source": "def arr_len(arr):\n    print(len(arr))\n    print(len(arr[0]))\n\n\narr_len([[1,2,3,4,5],[6,7,8,9,0]])\n",
   "metadata": {
    "cell_id": "36ae02bc2a30427d82600fe63dbfd90a",
    "tags": [],
    "deepnote_to_be_reexecuted": false,
    "source_hash": "2e848b05",
    "execution_start": 1658305996895,
    "execution_millis": 13,
    "deepnote_cell_type": "code",
    "deepnote_cell_height": 253.1875
   },
   "outputs": [
    {
     "name": "stdout",
     "text": "2\n5\n",
     "output_type": "stream"
    }
   ],
   "execution_count": null
  },
  {
   "cell_type": "code",
   "source": "arr=[[1,2,3,4,5],[6,7,8,9,10]]\narr[1][1]",
   "metadata": {
    "cell_id": "f771666c67ac46668eacca927fb79953",
    "tags": [],
    "deepnote_to_be_reexecuted": false,
    "source_hash": "dc3c946e",
    "execution_start": 1658305996902,
    "execution_millis": 18,
    "deepnote_cell_type": "code",
    "deepnote_cell_height": 142.59375,
    "deepnote_output_heights": [
     27.59375
    ]
   },
   "outputs": [
    {
     "output_type": "execute_result",
     "execution_count": 6,
     "data": {
      "text/plain": "7"
     },
     "metadata": {}
    }
   ],
   "execution_count": null
  },
  {
   "cell_type": "code",
   "source": "arr=[]\nin_arr\nfor i in range(5):\n    in_arr=[]\n    for j in range(10):\n        in_arr\n        arr.append(i+j)",
   "metadata": {
    "cell_id": "46c6b7be1ce24b7289af6639868250ee",
    "tags": [],
    "deepnote_to_be_reexecuted": false,
    "source_hash": "64042f8d",
    "execution_start": 1658305997340,
    "execution_millis": 340,
    "owner_user_id": "6620e961-4734-4451-b6f0-024902f1a0c6",
    "deepnote_cell_type": "code",
    "deepnote_cell_height": 540.53125,
    "deepnote_output_heights": [
     257.9375
    ]
   },
   "outputs": [
    {
     "output_type": "error",
     "ename": "NameError",
     "evalue": "name 'in_arr' is not defined",
     "traceback": [
      "\u001b[0;31m---------------------------------------------------------------------------\u001b[0m",
      "\u001b[0;31mNameError\u001b[0m                                 Traceback (most recent call last)",
      "\u001b[0;32m<ipython-input-7-1a39d37eef02>\u001b[0m in \u001b[0;36m<cell line: 2>\u001b[0;34m()\u001b[0m\n\u001b[1;32m      1\u001b[0m \u001b[0marr\u001b[0m\u001b[0;34m=\u001b[0m\u001b[0;34m[\u001b[0m\u001b[0;34m]\u001b[0m\u001b[0;34m\u001b[0m\u001b[0;34m\u001b[0m\u001b[0m\n\u001b[0;32m----> 2\u001b[0;31m \u001b[0min_arr\u001b[0m\u001b[0;34m\u001b[0m\u001b[0;34m\u001b[0m\u001b[0m\n\u001b[0m\u001b[1;32m      3\u001b[0m \u001b[0;32mfor\u001b[0m \u001b[0mi\u001b[0m \u001b[0;32min\u001b[0m \u001b[0mrange\u001b[0m\u001b[0;34m(\u001b[0m\u001b[0;36m5\u001b[0m\u001b[0;34m)\u001b[0m\u001b[0;34m:\u001b[0m\u001b[0;34m\u001b[0m\u001b[0;34m\u001b[0m\u001b[0m\n\u001b[1;32m      4\u001b[0m     \u001b[0min_arr\u001b[0m\u001b[0;34m=\u001b[0m\u001b[0;34m[\u001b[0m\u001b[0;34m]\u001b[0m\u001b[0;34m\u001b[0m\u001b[0;34m\u001b[0m\u001b[0m\n\u001b[1;32m      5\u001b[0m     \u001b[0;32mfor\u001b[0m \u001b[0mj\u001b[0m \u001b[0;32min\u001b[0m \u001b[0mrange\u001b[0m\u001b[0;34m(\u001b[0m\u001b[0;36m10\u001b[0m\u001b[0;34m)\u001b[0m\u001b[0;34m:\u001b[0m\u001b[0;34m\u001b[0m\u001b[0;34m\u001b[0m\u001b[0m\n",
      "\u001b[0;31mNameError\u001b[0m: name 'in_arr' is not defined"
     ]
    }
   ],
   "execution_count": null
  },
  {
   "cell_type": "code",
   "source": "#정답\ndef replaceData(num):\n    retData= numData[:]\n    for i in range(len(numData)):\n        for j in range(len(numData[0])):\n            if (retData[i][k]<0):\n                retData[i][k] = 0\n            if (retData[i][k]>100):\n                retData[i][k]= retData[i][k] %100\n\n    return retData\n\ndef getMaxSum(numData):\n    MaxSum=0\n    for i in range(len(numData)):\n        for j in range(len(numData[0])):\n            sum= numData[i][k] = numData[i][k+1]+numData[i+1][k+1]\n            if sum > maxSum:\n                MaxSum=sum\n",
   "metadata": {
    "cell_id": "9ff407474b8f49cfafc59ac106a0ee08",
    "tags": [],
    "deepnote_to_be_reexecuted": false,
    "source_hash": "9f6a1b2a",
    "execution_start": 1658305997810,
    "execution_millis": 1,
    "deepnote_cell_type": "code",
    "deepnote_cell_height": 423,
    "deepnote_output_heights": [
     611
    ]
   },
   "outputs": [],
   "execution_count": null
  },
  {
   "cell_type": "code",
   "source": "print([1,2,3,4,5])",
   "metadata": {
    "cell_id": "908e37b4d9294fb1b3b3413478bb34a2",
    "tags": [],
    "deepnote_to_be_reexecuted": false,
    "source_hash": "c35a5623",
    "execution_start": 1658305998229,
    "execution_millis": 5,
    "deepnote_cell_type": "code",
    "deepnote_cell_height": 118.59375
   },
   "outputs": [
    {
     "name": "stdout",
     "text": "[1, 2, 3, 4, 5]\n",
     "output_type": "stream"
    }
   ],
   "execution_count": null
  },
  {
   "cell_type": "code",
   "source": "",
   "metadata": {
    "cell_id": "c5006aff7b554a5ebe18095f16fe0f42",
    "tags": [],
    "deepnote_cell_type": "code",
    "deepnote_cell_height": 66
   },
   "outputs": [],
   "execution_count": null
  },
  {
   "cell_type": "markdown",
   "source": "<a style='text-decoration:none;line-height:16px;display:flex;color:#5B5B62;padding:10px;justify-content:end;' href='https://deepnote.com?utm_source=created-in-deepnote-cell&projectId=59f71f48-e620-40de-82b6-60c121211e54' target=\"_blank\">\n<img alt='Created in deepnote.com' style='display:inline;max-height:16px;margin:0px;margin-right:7.5px;' src='data:image/svg+xml;base64,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' > </img>\nCreated in <span style='font-weight:600;margin-left:4px;'>Deepnote</span></a>",
   "metadata": {
    "tags": [],
    "created_in_deepnote_cell": true,
    "deepnote_cell_type": "markdown"
   }
  }
 ],
 "nbformat": 4,
 "nbformat_minor": 2,
 "metadata": {
  "orig_nbformat": 2,
  "deepnote": {},
  "deepnote_notebook_id": "7850565d-f61d-444a-9a99-8a031b44b81f",
  "deepnote_execution_queue": []
 }
}