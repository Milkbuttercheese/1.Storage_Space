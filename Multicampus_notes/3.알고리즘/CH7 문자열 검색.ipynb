{
 "cells": [
  {
   "cell_type": "code",
   "execution_count": 1,
   "outputs": [
    {
     "name": "stdout",
     "output_type": "stream",
     "text": [
      "11번째 문자가 일치합니다\n"
     ]
    }
   ],
   "source": [
    "#브루트 검색법으로 문자열 검색하기\n",
    "def BruceForce_Match(text, pattern):\n",
    "    pt=0 # pt= point of text: text의 커서\n",
    "    pp=0 # pp = point of pattern: pattern의 커서\n",
    "\n",
    "    while pt !=len(text) and pp!= len(pattern):\n",
    "        if text[pt] == pattern[pp]:\n",
    "            pt= pt+1\n",
    "            pp= pp+1\n",
    "        else:\n",
    "            pt= pt-pp+1\n",
    "            pp=0\n",
    "    if pp == len(pattern):\n",
    "        return pt- pp\n",
    "    else:\n",
    "        return -1\n",
    "\n",
    "\n",
    "text='우리나라는 삼면이 바다이다'\n",
    "pattern= '바다'\n",
    "idx= BruceForce_Match(text,pattern)\n",
    "\n",
    "if idx == -1:\n",
    "    print('text 내에 패턴이 존재하지 않습니다')\n",
    "else:\n",
    "    print(f'{(idx+1)}번째 문자가 일치합니다')\n",
    "\n",
    "\n",
    "\n"
   ],
   "metadata": {
    "collapsed": false,
    "pycharm": {
     "name": "#%%\n"
    }
   }
  },
  {
   "cell_type": "code",
   "execution_count": 18,
   "outputs": [
    {
     "name": "stdout",
     "output_type": "stream",
     "text": [
      "15번째 문자가 일치합니다\n"
     ]
    }
   ],
   "source": [
    "# KMP법으로 문자열 검색하기\n",
    "def KMP_match(text,pattern):\n",
    "    pt=1   # point of text\n",
    "    pp=0   # point of pattern\n",
    "    skip=[0]* (len(pattern)+1) # 건너뛰기 표\n",
    "\n",
    "    #건너뛰기표 만들기\n",
    "    skip[pt]=0\n",
    "    while pt != len(pattern):\n",
    "        if pattern[pt] == pattern[pp]:\n",
    "            pt= pt+1\n",
    "            pp=pp+1\n",
    "            skip[pt] = pp\n",
    "        elif pp==0:\n",
    "            pt=pt+1\n",
    "            skip[pt]=pp\n",
    "        else:\n",
    "            pp=skip[pp]\n",
    "\n",
    "    # 문자열 검색하기\n",
    "    pt= pp = 0\n",
    "    while pt != len(text) and pp != len(pattern):\n",
    "        if text[pt] == pattern[pp]:\n",
    "            pt= pt+1\n",
    "            pp= pp+1\n",
    "        elif pp==0:\n",
    "            pt=pt+1\n",
    "        else:\n",
    "            pp=skip[pp]\n",
    "\n",
    "    if pp==len(pattern):\n",
    "        return pt-pp\n",
    "    else:\n",
    "        return -1\n",
    "\n",
    "text='햇빛이 선명하게 나뭇잎을 핥고 있었다'\n",
    "pattern='핥고'\n",
    "idx= KMP_match(text,pattern)\n",
    "\n",
    "if idx== -1:\n",
    "    print('텍스트 안에 패턴이 존재하지 않습니다')\n",
    "else:\n",
    "    print(f'{(idx+1)}번째 문자가 일치합니다')\n",
    "\n"
   ],
   "metadata": {
    "collapsed": false,
    "pycharm": {
     "name": "#%%\n"
    }
   }
  },
  {
   "cell_type": "code",
   "execution_count": 8,
   "outputs": [
    {
     "name": "stdout",
     "output_type": "stream",
     "text": [
      "53번째 문자가 일치합니다\n"
     ]
    }
   ],
   "source": [
    "# Boyer-Moore법으로 문자열 검색\n",
    "def Boyer_Moor_match(text,pattern):\n",
    "    skip=[None]*256\n",
    "\n",
    "    #건너뛰기 표 만들기\n",
    "    for pt in range(256):\n",
    "        skip[pt]=len(pattern)\n",
    "    for pt in range(len(pattern)):\n",
    "        #하나의 문자를 인자로 받고 해당 문자에 해당하는 유니코드 정수를 반환합니다.\n",
    "        skip[ord(pattern[pt])] =len(pattern)-pt-1\n",
    "\n",
    "    # 검색하기\n",
    "    while pt < len(text):\n",
    "        pp= len(pattern)-1\n",
    "        while text[pt] == pattern[pp]:\n",
    "            if pp==0:\n",
    "                return pt\n",
    "            pt= pt-1\n",
    "            pp= pp-1\n",
    "        if skip[ord(text[pt])] > len(pattern)-pp:\n",
    "            pt=pt+skip[ord(text[pt])]\n",
    "        else:\n",
    "            pt= len(pattern)-pp\n",
    "\n",
    "    return -1\n",
    "\n",
    "\n",
    "text=\" I'm sitting here in a boring room. it just another rainy sunday afternoon. \"\n",
    "pattern='rainy'\n",
    "idx= Boyer_Moor_match(text,pattern)\n",
    "if idx == -1:\n",
    "    print('텍스트 내에 패턴이 존재하지 않습니다')\n",
    "else:\n",
    "    print(f'{(idx+1)}번째 문자가 일치합니다')\n",
    "\n",
    "\n"
   ],
   "metadata": {
    "collapsed": false,
    "pycharm": {
     "name": "#%%\n"
    }
   }
  },
  {
   "cell_type": "code",
   "execution_count": null,
   "outputs": [],
   "source": [],
   "metadata": {
    "collapsed": false,
    "pycharm": {
     "name": "#%%\n"
    }
   }
  }
 ],
 "metadata": {
  "kernelspec": {
   "display_name": "Python 3",
   "language": "python",
   "name": "python3"
  },
  "language_info": {
   "codemirror_mode": {
    "name": "ipython",
    "version": 2
   },
   "file_extension": ".py",
   "mimetype": "text/x-python",
   "name": "python",
   "nbconvert_exporter": "python",
   "pygments_lexer": "ipython2",
   "version": "2.7.6"
  }
 },
 "nbformat": 4,
 "nbformat_minor": 0
}