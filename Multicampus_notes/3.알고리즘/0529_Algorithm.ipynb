{
 "cells": [
  {
   "cell_type": "code",
   "metadata": {
    "cell_id": "5fdade3e-c046-49ad-8a09-e4f5501bb0b5",
    "deepnote_cell_type": "code",
    "deepnote_cell_height": 66
   },
   "source": "!jt -t chesterish",
   "outputs": [],
   "execution_count": null
  },
  {
   "cell_type": "markdown",
   "source": "### x= print('x를 입력하세요')",
   "metadata": {
    "cell_id": "00001-2fb5e912-4545-47f6-888e-1beba311f082",
    "deepnote_cell_type": "markdown",
    "deepnote_cell_height": 62
   }
  },
  {
   "cell_type": "code",
   "metadata": {
    "cell_id": "00002-456e6918-ecb3-4b06-abd2-fafc2061f5cf",
    "deepnote_cell_type": "code",
    "deepnote_cell_height": 451.1875
   },
   "source": "import sys\nimport heapq\n\ndef heapsort(arr):\n    h=[]\n    result=[]\n    #모든 원소를 차례대로 힙에 삽입\n    for val in arr:\n        heapq.heappush(h,val)\n    #힙에 삽입된 모든 원소들을 차례대로 꺼내어 담기\n    for i in range(len(arr)):\n        result.append(heapq.heappop(h))\n    return result\n\nres1=heapsort([8,4,1,2,7,9])\nres2=heapsort([1,9,10,-2,5,-6])\nprint(res1)\nprint(res2)",
   "outputs": [
    {
     "name": "stdout",
     "output_type": "stream",
     "text": "[1, 2, 4, 7, 8, 9]\n[-6, -2, 1, 5, 9, 10]\n"
    }
   ],
   "execution_count": null
  },
  {
   "cell_type": "code",
   "metadata": {
    "cell_id": "00003-8cf014a4-0437-43f2-b537-59abfdf6256f",
    "deepnote_cell_type": "code",
    "deepnote_cell_height": 740.1875
   },
   "source": "#트리 순회 구현\nclass Node:\n    def __init__(self,data,left_node,right_node):\n        self.data=data\n        self.left_node= left_node\n        self.right_node=right_node\n\n#전위 순회 Preorder Traversal\ndef pre_order(node):\n    print(node.data,end='')\n    if node.left_node !=None:\n        pre_order(tree[node.left_node])\n    if node.right_node !=None:\n        pre_order(tree[node.right_node])\n\ndata=['A','B','C']\nleft_node=['B','D','E']\nright_node=['C','F','G']\nn= len(data)+len(left_node)+len(right_node)-2\ntree={}\ntree# for i in range(n):\n#     if left_node =='None':\n#         left_node=None\n#     if right_node =='None':\n#         right_node == None\n#     tree[data]= Node(data,left_node,right_node)\n\n# pre_order(tree['A'])\n# print()\n",
   "outputs": [
    {
     "ename": "TypeError",
     "evalue": "'Node' object is not iterable",
     "output_type": "error",
     "traceback": [
      "\u001b[1;31m---------------------------------------------------------------------------\u001b[0m",
      "\u001b[1;31mTypeError\u001b[0m                                 Traceback (most recent call last)",
      "\u001b[1;32m<ipython-input-44-653381f33bcd>\u001b[0m in \u001b[0;36m<module>\u001b[1;34m\u001b[0m\n\u001b[0;32m     19\u001b[0m \u001b[0mn\u001b[0m\u001b[1;33m=\u001b[0m \u001b[0mlen\u001b[0m\u001b[1;33m(\u001b[0m\u001b[0mdata\u001b[0m\u001b[1;33m)\u001b[0m\u001b[1;33m+\u001b[0m\u001b[0mlen\u001b[0m\u001b[1;33m(\u001b[0m\u001b[0mleft_node\u001b[0m\u001b[1;33m)\u001b[0m\u001b[1;33m+\u001b[0m\u001b[0mlen\u001b[0m\u001b[1;33m(\u001b[0m\u001b[0mright_node\u001b[0m\u001b[1;33m)\u001b[0m\u001b[1;33m-\u001b[0m\u001b[1;36m2\u001b[0m\u001b[1;33m\u001b[0m\u001b[1;33m\u001b[0m\u001b[0m\n\u001b[0;32m     20\u001b[0m \u001b[0mtree\u001b[0m\u001b[1;33m=\u001b[0m\u001b[1;33m{\u001b[0m\u001b[1;33m}\u001b[0m\u001b[1;33m\u001b[0m\u001b[1;33m\u001b[0m\u001b[0m\n\u001b[1;32m---> 21\u001b[1;33m \u001b[0mprint\u001b[0m\u001b[1;33m(\u001b[0m\u001b[0mlist\u001b[0m\u001b[1;33m(\u001b[0m\u001b[0mNode\u001b[0m\u001b[1;33m(\u001b[0m\u001b[0mdata\u001b[0m\u001b[1;33m,\u001b[0m\u001b[0mleft_node\u001b[0m\u001b[1;33m,\u001b[0m\u001b[0mright_node\u001b[0m\u001b[1;33m)\u001b[0m\u001b[1;33m)\u001b[0m\u001b[1;33m)\u001b[0m\u001b[1;33m\u001b[0m\u001b[1;33m\u001b[0m\u001b[0m\n\u001b[0m\u001b[0;32m     22\u001b[0m \u001b[1;31m# for i in range(n):\u001b[0m\u001b[1;33m\u001b[0m\u001b[1;33m\u001b[0m\u001b[1;33m\u001b[0m\u001b[0m\n\u001b[0;32m     23\u001b[0m \u001b[1;31m#     if left_node =='None':\u001b[0m\u001b[1;33m\u001b[0m\u001b[1;33m\u001b[0m\u001b[1;33m\u001b[0m\u001b[0m\n",
      "\u001b[1;31mTypeError\u001b[0m: 'Node' object is not iterable"
     ]
    }
   ],
   "execution_count": null
  },
  {
   "cell_type": "code",
   "metadata": {
    "cell_id": "00004-7251ddc7-73a3-4c57-88f6-00430ccb9208",
    "deepnote_cell_type": "code",
    "deepnote_cell_height": 1089.78125
   },
   "source": "class Node:\n    def __init__(self, data):\n        self.data = data\n        self.left = None\n        self.right = None\n    \n    def __str__(self):\n        return str(self.data)\n\nclass Tree:\n    def __init__(self):\n        self.root = None\n\n    def preorderTraversal(self, node):\n        print(node, end='')\n        if not node.left  == None : self.preorderTraversal(node.left)\n        if not node.right == None : self.preorderTraversal(node.right)\n\n    def inorderTraversal(self, node):\n        if not node.left  == None : self.inorderTraversal(node.left)\n        print(node, end='')\n        if not node.right == None : self.inorderTraversal(node.right)\n    \n    def postorderTraversal(self, node):\n        if not node.left  == None : self.postorderTraversal(node.left)\n        if not node.right == None : self.postorderTraversal(node.right)\n        print(node, end='')\n\n    def makeRoot(self, node, left_node, right_node):\n        if self.root == None:\n            self.root = node\n        node.left = left_node\n        node.right = right_node\n        \n# __main__: 파일을 실행시키는 위치\nif __name__ == \"__main__\":\n    node = []\n    node.append(Node('I'))\n    node.append(Node('C'))\n    node.append(Node('E'))\n    node.append(Node('A'))\n    node.append(Node('M'))\n    node.append(Node('R'))\n    node.append(Node('N'))\n\n    m_tree = Tree()\n    for i in range(int(len(node)/2)):\n        m_tree.makeRoot(node[i],node[i*2+1],node[i*2+2])\n\n    print(       '전위 순회 : ', end='') ; m_tree.preorderTraversal(m_tree.root)\n    print('\\n' + '중위 순회 : ', end='') ; m_tree.inorderTraversal(m_tree.root)\n    print('\\n' + '후위 순회 : ', end='') ; m_tree.postorderTraversal(m_tree.root)",
   "outputs": [
    {
     "name": "stdout",
     "output_type": "stream",
     "text": "전위 순회 : ICAMERN\n중위 순회 : ACMIREN\n후위 순회 : AMCRNEI"
    }
   ],
   "execution_count": null
  },
  {
   "cell_type": "code",
   "metadata": {
    "cell_id": "00005-69ceac4e-0023-43d3-b765-fc56e602e978",
    "deepnote_cell_type": "code",
    "deepnote_cell_height": 1089.78125
   },
   "source": "class Node:\n    def __init__(self, data):\n        self.data = data\n        self.left = None\n        self.right = None\n    \n    def __str__(self):\n        return str(self.data)\n\nclass Tree:\n    def __init__(self):\n        self.root = None\n\n    def preorderTraversal(self, node):\n        print(node, end='')\n        if not node.left  == None : self.preorderTraversal(node.left)\n        if not node.right == None : self.preorderTraversal(node.right)\n\n    def inorderTraversal(self, node):\n        if not node.left  == None : self.inorderTraversal(node.left)\n        print(node, end='')\n        if not node.right == None : self.inorderTraversal(node.right)\n    \n    def postorderTraversal(self, node):\n        if not node.left  == None : self.postorderTraversal(node.left)\n        if not node.right == None : self.postorderTraversal(node.right)\n        print(node, end='')\n\n    def makeRoot(self, node, left_node, right_node):\n        if self.root == None:\n            self.root = node\n        node.left = left_node\n        node.right = right_node\n        \n# __main__: 파일을 실행시키는 위치\nif __name__ == \"__main__\":\n    node = []\n    node.append(Node('I'))\n    node.append(Node('C'))\n    node.append(Node('E'))\n    node.append(Node('A'))\n    node.append(Node('M'))\n    node.append(Node('R'))\n    node.append(Node('N'))\n\n    m_tree = Tree()\n    for i in range(int(len(node)/2)):\n        m_tree.makeRoot(node[i],node[i*2+1],node[i*2+2])\n\n    print(       '전위 순회 : ', end='') ; m_tree.preorderTraversal(m_tree.root)\n    print('\\n' + '중위 순회 : ', end='') ; m_tree.inorderTraversal(m_tree.root)\n    print('\\n' + '후위 순회 : ', end='') ; m_tree.postorderTraversal(m_tree.root)",
   "outputs": [
    {
     "name": "stdout",
     "output_type": "stream",
     "text": "전위 순회 : ICAMERN\n중위 순회 : ACMIREN\n후위 순회 : AMCRNEI"
    }
   ],
   "execution_count": null
  },
  {
   "cell_type": "code",
   "metadata": {
    "cell_id": "00006-95ce97f4-29ae-44ca-98f6-d1c1b625102d",
    "deepnote_cell_type": "code",
    "deepnote_cell_height": 84
   },
   "source": "#2진법 인덱스 구조를 활용해 ㅜ간합 문제를 효과적으로 해결하기\n#",
   "execution_count": null,
   "outputs": []
  },
  {
   "cell_type": "markdown",
   "source": "<a style='text-decoration:none;line-height:16px;display:flex;color:#5B5B62;padding:10px;justify-content:end;' href='https://deepnote.com?utm_source=created-in-deepnote-cell&projectId=59f71f48-e620-40de-82b6-60c121211e54' target=\"_blank\">\n<img alt='Created in deepnote.com' style='display:inline;max-height:16px;margin:0px;margin-right:7.5px;' src='data:image/svg+xml;base64,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' > </img>\nCreated in <span style='font-weight:600;margin-left:4px;'>Deepnote</span></a>",
   "metadata": {
    "tags": [],
    "created_in_deepnote_cell": true,
    "deepnote_cell_type": "markdown"
   }
  }
 ],
 "nbformat": 4,
 "nbformat_minor": 5,
 "metadata": {
  "kernelspec": {
   "display_name": "Python 3 (ipykernel)",
   "language": "python",
   "name": "python3"
  },
  "language_info": {
   "codemirror_mode": {
    "name": "ipython",
    "version": 3
   },
   "file_extension": ".py",
   "mimetype": "text/x-python",
   "name": "python",
   "nbconvert_exporter": "python",
   "pygments_lexer": "ipython3",
   "version": "3.10.4"
  },
  "deepnote_notebook_id": "5ab7f9af-9305-45b2-bbe9-1e08ef219ac1",
  "deepnote": {},
  "deepnote_execution_queue": []
 }
}