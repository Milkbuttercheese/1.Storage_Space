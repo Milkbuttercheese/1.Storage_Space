{
 "cells": [
  {
   "cell_type": "markdown",
   "id": "33103fe2",
   "metadata": {
    "pycharm": {
     "name": "#%% md\n"
    }
   },
   "source": [
    "세 정수의 최댓값 구하기"
   ]
  },
  {
   "cell_type": "code",
   "execution_count": 1,
   "id": "76b4749c",
   "metadata": {
    "pycharm": {
     "name": "#%%\n"
    }
   },
   "outputs": [
    {
     "name": "stdout",
     "output_type": "stream",
     "text": [
      "세 정수의 최댓값 구하기\n"
     ]
    },
    {
     "name": "stdin",
     "output_type": "stream",
     "text": [
      "정수 a값을 입력하시오 3\n",
      "정수 b값을 입력하시오 7\n",
      "정수 c값을 입력하시오 10\n"
     ]
    },
    {
     "name": "stdout",
     "output_type": "stream",
     "text": [
      "최댓값은 10입니다\n"
     ]
    }
   ],
   "source": [
    "print('세 정수의 최댓값 구하기')\n",
    "a= int(input('정수 a값을 입력하시오'))\n",
    "b= int(input('정수 b값을 입력하시오'))\n",
    "c= int(input('정수 c값을 입력하시오'))\n",
    "\n",
    "maximum=a\n",
    "if maximum <b:\n",
    "    maximum=b\n",
    "if maximum <c:\n",
    "    maximum=c\n",
    "print(f'최댓값은 {maximum}입니다')"
   ]
  },
  {
   "cell_type": "markdown",
   "id": "ffc8da92",
   "metadata": {
    "pycharm": {
     "name": "#%% md\n"
    }
   },
   "source": [
    "세 정수의 중앙값 구하기 예제"
   ]
  },
  {
   "cell_type": "code",
   "execution_count": 2,
   "id": "5ce1af31",
   "metadata": {
    "pycharm": {
     "name": "#%%\n"
    }
   },
   "outputs": [
    {
     "name": "stdout",
     "output_type": "stream",
     "text": [
      "세 정수의 중앙값 구하기\n"
     ]
    },
    {
     "name": "stdin",
     "output_type": "stream",
     "text": [
      "정수 a값을 입력하시오 3\n",
      "정수 b값을 입력하시오 10\n",
      "정수 c값을 입력하시오 25\n"
     ]
    },
    {
     "name": "stdout",
     "output_type": "stream",
     "text": [
      "중앙값은 10입니다\n"
     ]
    }
   ],
   "source": [
    "print('세 정수의 중앙값 구하기')\n",
    "a= int(input('정수 a값을 입력하시오'))\n",
    "b= int(input('정수 b값을 입력하시오'))\n",
    "c= int(input('정수 c값을 입력하시오'))\n",
    "\n",
    "median= a\n",
    "\n",
    "if median<b:\n",
    "    if median<c:\n",
    "        if b<c:\n",
    "            median=b\n",
    "        else:\n",
    "            median=c\n",
    "\n",
    "if median>b:\n",
    "    if median>c:\n",
    "        if b<c:\n",
    "            median=c\n",
    "        else:\n",
    "            median=b\n",
    "\n",
    "print(f'중앙값은 {median}입니다')"
   ]
  },
  {
   "cell_type": "code",
   "execution_count": 11,
   "id": "ba2efa5f",
   "metadata": {
    "pycharm": {
     "name": "#%%\n"
    }
   },
   "outputs": [
    {
     "name": "stdout",
     "output_type": "stream",
     "text": [
      "세 정수의 중앙값 구하기\n",
      "정수 a값을 입력하시오2\n",
      "정수 b값을 입력하시오-9\n",
      "정수 c값을 입력하시오10\n",
      "2,-9,10의 중앙값은 2입니다\n"
     ]
    }
   ],
   "source": [
    "def med3(a,b,c):\n",
    "    if (b<=a and a<=c) or (c<=a and a<=b):\n",
    "        return a\n",
    "    elif ( a<=b and b<=c) or (c<=b and b<=a):\n",
    "        return b\n",
    "    else:\n",
    "        return c\n",
    "\n",
    "print('세 정수의 중앙값 구하기')\n",
    "a= int(input('정수 a값을 입력하시오'))\n",
    "b= int(input('정수 b값을 입력하시오'))\n",
    "c= int(input('정수 c값을 입력하시오'))   \n",
    "print(f'{a},{b},{c}의 중앙값은 {med3(a,b,c)}입니다')"
   ]
  },
  {
   "cell_type": "markdown",
   "id": "73c5f8d3",
   "metadata": {
    "pycharm": {
     "name": "#%% md\n"
    }
   },
   "source": [
    "정수값의 부호 판단하기"
   ]
  },
  {
   "cell_type": "code",
   "execution_count": 15,
   "id": "a0e10492",
   "metadata": {
    "pycharm": {
     "name": "#%%\n"
    }
   },
   "outputs": [
    {
     "name": "stdout",
     "output_type": "stream",
     "text": [
      "정수를 입력하세요7\n",
      "7은 양수입니다\n"
     ]
    }
   ],
   "source": [
    "n= int(input('정수를 입력하세요'))\n",
    "if n>0:\n",
    "    print(f'{n}은 양수입니다')\n",
    "elif n<0:\n",
    "    print(f'{n}은 음수입니다')\n",
    "else:\n",
    "    print(f'{n}은 0입니다')"
   ]
  },
  {
   "cell_type": "code",
   "execution_count": 21,
   "id": "42cabdc8",
   "metadata": {
    "pycharm": {
     "name": "#%%\n"
    }
   },
   "outputs": [
    {
     "name": "stdout",
     "output_type": "stream",
     "text": [
      "1부터 n까지의 합을 더하는 명령어입니다\n",
      "n값을 입력하세요: 8\n",
      "1부터 8까지의 합은36입니다\n",
      "1부터 8까지의 합은36입니다\n"
     ]
    }
   ],
   "source": [
    "print('1부터 n까지의 합을 더하는 명령어입니다')\n",
    "n=int(input('n값을 입력하세요: '))\n",
    "\n",
    "sum=0\n",
    "i=1\n",
    "while i<=n:\n",
    "    sum= sum+i\n",
    "    i= i+1\n",
    "\n",
    "print(f'1부터 {n}까지의 합은{sum}입니다')\n",
    "\n",
    "sum_2=0\n",
    "for i in range(n+1):\n",
    "    sum_2= sum_2+i\n",
    "print(f'1부터 {n}까지의 합은{sum_2}입니다')"
   ]
  },
  {
   "cell_type": "markdown",
   "id": "397591ab",
   "metadata": {
    "pycharm": {
     "name": "#%% md\n"
    }
   },
   "source": [
    "연속하는 두 정수의 합 구하기"
   ]
  },
  {
   "cell_type": "code",
   "execution_count": 27,
   "id": "ea0aaf11",
   "metadata": {
    "pycharm": {
     "name": "#%%\n"
    }
   },
   "outputs": [
    {
     "name": "stdout",
     "output_type": "stream",
     "text": [
      "입력한 두 정수 사이의 합을 구하겠습니다\n",
      "첫번째 정수를 입력해주세요3\n",
      "첫번째 정수를 입력해주세요8\n",
      "3와 8사이의 합은 33입니다\n"
     ]
    }
   ],
   "source": [
    "print('입력한 두 정수 사이의 합을 구하겠습니다')\n",
    "a= int(input('첫번째 정수를 입력해주세요'))\n",
    "b= int(input('첫번째 정수를 입력해주세요'))\n",
    "\n",
    "#크기 비교 후 오름차순으로 정렬\n",
    "if a>b:\n",
    "    a, b= b,a\n",
    "sum=0\n",
    "for i in range(a,b+1):\n",
    "    sum=sum+i\n",
    "print(f'{a}와 {b}사이의 합은 {sum}입니다')    "
   ]
  },
  {
   "cell_type": "code",
   "execution_count": null,
   "id": "d9b87431-06d3-4b4a-8d65-02ca93cb8f5d",
   "metadata": {
    "pycharm": {
     "name": "#%%\n"
    }
   },
   "outputs": [],
   "source": [
    "print('입력한 두 정수 사이의 합을 구하겠습니다')\n",
    "a= int(input('첫번째 정수를 입력해주세요'))\n",
    "b= int(input('첫번째 정수를 입력해주세요'))\n",
    "\n",
    "#크기 비교 후 오름차순으로 정렬\n",
    "if a>b:\n",
    "    a, b= b,a\n",
    "sum=0\n",
    "for i in range(a,b+1):\n",
    "    if i<b:\n",
    "        print(f'{i}+',end='')\n",
    "    else:\n",
    "        print(f'{i}=',end='')\n",
    "    sum=sum+i\n",
    "print(sum) "
   ]
  },
  {
   "cell_type": "code",
   "execution_count": 9,
   "id": "21c2866b",
   "metadata": {
    "pycharm": {
     "name": "#%%\n"
    }
   },
   "outputs": [
    {
     "name": "stdout",
     "output_type": "stream",
     "text": [
      "입력한 두 정수 사이의 합을 구하겠습니다\n"
     ]
    },
    {
     "name": "stdin",
     "output_type": "stream",
     "text": [
      "첫번째 정수를 입력해주세요 3\n",
      "첫번째 정수를 입력해주세요 7\n"
     ]
    },
    {
     "name": "stdout",
     "output_type": "stream",
     "text": [
      "3+4+5+6+7=25\n"
     ]
    }
   ],
   "source": [
    "print('입력한 두 정수 사이의 합을 구하겠습니다')\n",
    "a= int(input('첫번째 정수를 입력해주세요'))\n",
    "b= int(input('첫번째 정수를 입력해주세요'))\n",
    "\n",
    "#크기 비교 후 오름차순으로 정렬\n",
    "if a>b:\n",
    "    a, b= b,a\n",
    "sum=0\n",
    "for i in range(a,b):\n",
    "    print(f'{i}+',end='')\n",
    "    sum=sum+i\n",
    "\n",
    "print(f'{b}=',end='')\n",
    "sum=sum+b\n",
    "print(sum) "
   ]
  },
  {
   "cell_type": "markdown",
   "id": "339ada09-90c5-4ed6-b684-ab316e8e7bba",
   "metadata": {
    "pycharm": {
     "name": "#%% md\n"
    }
   },
   "source": [
    "+,-를 번갈아 출력하기"
   ]
  },
  {
   "cell_type": "code",
   "execution_count": 6,
   "id": "fc5e626f-f42a-4985-8410-7fe7e59ab24f",
   "metadata": {
    "pycharm": {
     "name": "#%%\n"
    }
   },
   "outputs": [
    {
     "name": "stdin",
     "output_type": "stream",
     "text": [
      "+,-를 번갈아 몇개를 출력할까요? 20\n"
     ]
    },
    {
     "name": "stdout",
     "output_type": "stream",
     "text": [
      "+ - + - + - + - + - + - + - + - + - + - "
     ]
    }
   ],
   "source": [
    "n=int(input('+,-를 번갈아 몇개를 출력할까요?'))\n",
    "\n",
    "for i in range(n):\n",
    "    if i%2==0:\n",
    "        print('+ ',end='')\n",
    "    else:\n",
    "        print('- ',end='')"
   ]
  },
  {
   "cell_type": "code",
   "execution_count": 12,
   "id": "1d3ef5a5-cef5-4657-83dd-43ee27b65515",
   "metadata": {
    "pycharm": {
     "name": "#%%\n"
    }
   },
   "outputs": [
    {
     "name": "stdin",
     "output_type": "stream",
     "text": [
      "+,-를 번갈아 몇개를 출력할까요? 20\n"
     ]
    },
    {
     "name": "stdout",
     "output_type": "stream",
     "text": [
      "+ - + - + - + - + - + - + - + - + - + - "
     ]
    }
   ],
   "source": [
    "n=int(input('+,-를 번갈아 몇개를 출력할까요?'))\n",
    "\n",
    "for i in range(n//2):\n",
    "    print('+ - ',end='')\n",
    "\n",
    "#홀수개일 경우 n//2+1 개의 +, n//2개의 -가 출력되야 하므로\n",
    "if n%2 ==1:\n",
    "    print('+')"
   ]
  },
  {
   "cell_type": "markdown",
   "id": "00ee9fdc-e55d-4121-8820-3d9bbfd513bb",
   "metadata": {
    "pycharm": {
     "name": "#%% md\n"
    }
   },
   "source": [
    "- 별을 n개 만큼 출력시키되\n",
    "- 한 줄에 m개씩만 있게 하기"
   ]
  },
  {
   "cell_type": "code",
   "execution_count": 14,
   "id": "619b27ee-2ee2-4d78-a0f5-8f598132d67e",
   "metadata": {
    "pycharm": {
     "name": "#%%\n"
    }
   },
   "outputs": [
    {
     "name": "stdin",
     "output_type": "stream",
     "text": [
      "출력시키고 싶은 별(*)의 갯수를 입력하세요 20\n",
      "한 줄에 몇개의 별이 있으면 좋겠는지 입력하세요 6\n"
     ]
    },
    {
     "name": "stdout",
     "output_type": "stream",
     "text": [
      "******\n",
      "\n",
      "******\n",
      "\n",
      "******\n",
      "\n",
      "**"
     ]
    }
   ],
   "source": [
    "n= int(input('출력시키고 싶은 별(*)의 갯수를 입력하세요'))\n",
    "m= int(input('한 줄에 몇개의 별이 있으면 좋겠는지 입력하세요'))\n",
    "\n",
    "for i in range(1,n+1):\n",
    "    print('*',end='')\n",
    "    if i % m ==0:\n",
    "        print('\\n')"
   ]
  },
  {
   "cell_type": "code",
   "execution_count": 17,
   "id": "cb603937-d33c-4a0b-8aa0-6f0ebe72b02a",
   "metadata": {
    "pycharm": {
     "name": "#%%\n"
    }
   },
   "outputs": [
    {
     "name": "stdin",
     "output_type": "stream",
     "text": [
      "출력시키고 싶은 별(*)의 갯수를 입력하세요 30\n",
      "한 줄에 몇개의 별이 있으면 좋겠는지 입력하세요 7\n"
     ]
    },
    {
     "name": "stdout",
     "output_type": "stream",
     "text": [
      "*******\n",
      "\n",
      "*******\n",
      "\n",
      "*******\n",
      "\n",
      "*******\n",
      "\n",
      "**\n"
     ]
    }
   ],
   "source": [
    "n= int(input('출력시키고 싶은 별(*)의 갯수를 입력하세요'))\n",
    "m= int(input('한 줄에 몇개의 별이 있으면 좋겠는지 입력하세요'))\n",
    "\n",
    "#몫과 나머지 저장하기\n",
    "q= n//m\n",
    "r= n%m\n",
    "\n",
    "for _ in range(q):\n",
    "    print('*' *m + '\\n' )\n",
    "    \n",
    "print('*' *r)"
   ]
  },
  {
   "cell_type": "markdown",
   "id": "d557d7e8-8b9c-4b05-8569-4e848396b331",
   "metadata": {
    "pycharm": {
     "name": "#%% md\n"
    }
   },
   "source": [
    "-1부터 n까지 입력받는 프로그램 만들기\n",
    "-단 n이 양수인것만 받기"
   ]
  },
  {
   "cell_type": "code",
   "execution_count": 30,
   "id": "4adab1d4-b3fc-4b88-b5f1-84a24d192764",
   "metadata": {
    "pycharm": {
     "name": "#%%\n"
    }
   },
   "outputs": [
    {
     "name": "stdin",
     "output_type": "stream",
     "text": [
      "1부터 입력한 수까지 더하는 프로그램입니다. 양수만 입력해주세요 -10\n"
     ]
    },
    {
     "name": "stdout",
     "output_type": "stream",
     "text": [
      "양수 넣어달라니까 이 싸람아 -10이 양수여?\n"
     ]
    },
    {
     "name": "stdin",
     "output_type": "stream",
     "text": [
      "1부터 입력한 수까지 더하는 프로그램입니다. 양수만 입력해주세요 -5\n"
     ]
    },
    {
     "name": "stdout",
     "output_type": "stream",
     "text": [
      "양수 넣어달라니까 이 싸람아 -5이 양수여?\n"
     ]
    },
    {
     "name": "stdin",
     "output_type": "stream",
     "text": [
      "1부터 입력한 수까지 더하는 프로그램입니다. 양수만 입력해주세요 20\n"
     ]
    },
    {
     "name": "stdout",
     "output_type": "stream",
     "text": [
      "1+2+3+4+5+6+7+8+9+10+11+12+13+14+15+16+17+18+19+20=210\n"
     ]
    }
   ],
   "source": [
    "while True:\n",
    "    n=int(input('1부터 입력한 수까지 더하는 프로그램입니다. 양수만 입력해주세요'))\n",
    "    if n>0:\n",
    "        break\n",
    "    else:\n",
    "        print(f'양수 넣어달라니까 이 싸람아 {n}이 양수여?')\n",
    "\n",
    "sum=0\n",
    "for i in range(1,n):\n",
    "    print(f'{i}+',end='')\n",
    "    sum=sum+i\n",
    "\n",
    "sum=sum+n\n",
    "print(f'{n}=',end='')\n",
    "print(sum)"
   ]
  },
  {
   "cell_type": "code",
   "execution_count": 29,
   "id": "3a9778ad-038d-49ee-b9e7-595867763b56",
   "metadata": {
    "pycharm": {
     "name": "#%%\n"
    }
   },
   "outputs": [
    {
     "name": "stdout",
     "output_type": "stream",
     "text": [
      "120.0\n"
     ]
    }
   ],
   "source": [
    "print(16*15/2)"
   ]
  },
  {
   "cell_type": "markdown",
   "id": "7ae404d7-15e9-44c5-8a51-f63bfeedb562",
   "metadata": {
    "pycharm": {
     "name": "#%% md\n"
    }
   },
   "source": [
    "- 가로,세로길이,넓이가 정수일 때 넓이값을 받아 가로,세로길이 추측하기"
   ]
  },
  {
   "cell_type": "code",
   "execution_count": 39,
   "id": "3dfb3fc0-4a47-43fb-a1e6-f2fa11c46c37",
   "metadata": {
    "pycharm": {
     "name": "#%%\n"
    }
   },
   "outputs": [
    {
     "name": "stdout",
     "output_type": "stream",
     "text": [
      "가로,세로,넓이가 정수일 때 넓이값으로 가로,세로길이 추측하기\n"
     ]
    },
    {
     "name": "stdin",
     "output_type": "stream",
     "text": [
      "직사각형의 넓이를 입력해주세요 20\n"
     ]
    },
    {
     "name": "stdout",
     "output_type": "stream",
     "text": [
      "1 X 20 일 수 있습니다\n",
      "2 X 10 일 수 있습니다\n",
      "4 X 5 일 수 있습니다\n",
      "5 X 4 일 수 있습니다\n",
      "10 X 2 일 수 있습니다\n",
      "20 X 1 일 수 있습니다\n"
     ]
    }
   ],
   "source": [
    "print('가로,세로,넓이가 정수일 때 넓이값으로 가로,세로길이 추측하기')\n",
    "n=int(input('직사각형의 넓이를 입력해주세요'))\n",
    "for x in range(1,n+1):\n",
    "    if n%x==0:\n",
    "        print(f'{x} X {n//x} 일 수 있습니다')"
   ]
  },
  {
   "cell_type": "code",
   "execution_count": 42,
   "id": "54159572-c6dd-4047-aaf7-fbaa2ba2e58e",
   "metadata": {
    "pycharm": {
     "name": "#%%\n"
    }
   },
   "outputs": [
    {
     "name": "stdout",
     "output_type": "stream",
     "text": [
      "가로,세로,넓이가 정수일 때 넓이값으로 가로,세로길이 추측하기\n"
     ]
    },
    {
     "name": "stdin",
     "output_type": "stream",
     "text": [
      "직사각형의 넓이를 입력해주세요 20\n"
     ]
    },
    {
     "name": "stdout",
     "output_type": "stream",
     "text": [
      "1 X 20 일 수 있습니다\n",
      "2 X 10 일 수 있습니다\n",
      "4 X 5 일 수 있습니다\n"
     ]
    }
   ],
   "source": [
    "print('가로,세로,넓이가 정수일 때 넓이값으로 가로,세로길이 추측하기')\n",
    "n=int(input('직사각형의 넓이를 입력해주세요'))\n",
    "for x in range(1,n+1):\n",
    "    if x*x > n:\n",
    "        break\n",
    "    if n%x :\n",
    "        continue\n",
    "    print(f'{x} X {n//x} 일 수 있습니다')"
   ]
  },
  {
   "cell_type": "markdown",
   "id": "6f4e4cb2-4ffd-4776-92d4-dfe371b2e863",
   "metadata": {
    "pycharm": {
     "name": "#%% md\n"
    }
   },
   "source": [
    "10부터 99의 난수를 생성, 13이 나오면 중지시키기"
   ]
  },
  {
   "cell_type": "code",
   "execution_count": 43,
   "id": "991c2191-3b25-41e1-89ba-1a733f6ca2fc",
   "metadata": {
    "pycharm": {
     "name": "#%%\n"
    }
   },
   "outputs": [
    {
     "name": "stdout",
     "output_type": "stream",
     "text": [
      "이번에 나온 난수값은35, 탈출 불가입니다\n",
      "이번에 나온 난수값은40, 탈출 불가입니다\n",
      "이번에 나온 난수값은25, 탈출 불가입니다\n",
      "이번에 나온 난수값은93, 탈출 불가입니다\n",
      "이번에 나온 난수값은81, 탈출 불가입니다\n",
      "이번에 나온 난수값은41, 탈출 불가입니다\n",
      "이번에 나온 난수값은61, 탈출 불가입니다\n",
      "이번에 나온 난수값은80, 탈출 불가입니다\n",
      "이번에 나온 난수값은36, 탈출 불가입니다\n",
      "이번에 나온 난수값은69, 탈출 불가입니다\n",
      "이번에 나온 난수값은68, 탈출 불가입니다\n",
      "이번에 나온 난수값은98, 탈출 불가입니다\n",
      "이번에 나온 난수값은12, 탈출 불가입니다\n",
      "이번에 나온 난수값은44, 탈출 불가입니다\n",
      "이번에 나온 난수값은58, 탈출 불가입니다\n",
      "이번에 나온 난수값은56, 탈출 불가입니다\n",
      "이번에 나온 난수값은64, 탈출 불가입니다\n",
      "이번에 나온 난수값은43, 탈출 불가입니다\n",
      "이번에 나온 난수값은21, 탈출 불가입니다\n",
      "이번에 나온 난수값은85, 탈출 불가입니다\n",
      "이번에 나온 난수값은58, 탈출 불가입니다\n",
      "이번에 나온 난수값은32, 탈출 불가입니다\n",
      "이번에 나온 난수값은65, 탈출 불가입니다\n",
      "이번에 나온 난수값은16, 탈출 불가입니다\n",
      "이번에 나온 난수값은25, 탈출 불가입니다\n",
      "이번에 나온 난수값은86, 탈출 불가입니다\n",
      "이번에 나온 난수값은73, 탈출 불가입니다\n",
      "이번에 나온 난수값은23, 탈출 불가입니다\n",
      "이번에 나온 난수값은64, 탈출 불가입니다\n",
      "이번에 나온 난수값은21, 탈출 불가입니다\n",
      "이번에 나온 난수값은55, 탈출 불가입니다\n",
      "이번에 나온 난수값은80, 탈출 불가입니다\n",
      "이번에 나온 난수값은57, 탈출 불가입니다\n",
      "이번에 나온 난수값은77, 탈출 불가입니다\n",
      "이번에 나온 난수값은33, 탈출 불가입니다\n",
      "이번에 나온 난수값은59, 탈출 불가입니다\n",
      "이번에 나온 난수값은48, 탈출 불가입니다\n",
      "이번에 나온 난수값은19, 탈출 불가입니다\n",
      "이번에 나온 난수값은96, 탈출 불가입니다\n",
      "이번에 나온 난수값은35, 탈출 불가입니다\n",
      "이번에 나온 난수값은15, 탈출 불가입니다\n",
      "이번에 나온 난수값은39, 탈출 불가입니다\n",
      "이번에 나온 난수값은61, 탈출 불가입니다\n",
      "이번에 나온 난수값은35, 탈출 불가입니다\n",
      "이번에 나온 난수값은58, 탈출 불가입니다\n",
      "이번에 나온 난수값은31, 탈출 불가입니다\n",
      "이번에 나온 난수값은82, 탈출 불가입니다\n",
      "이번에 나온 난수값은54, 탈출 불가입니다\n",
      "이번에 나온 난수값은80, 탈출 불가입니다\n",
      "이번에 나온 난수값은11, 탈출 불가입니다\n",
      "이번에 나온 난수값은93, 탈출 불가입니다\n",
      "이번에 나온 난수값은49, 탈출 불가입니다\n",
      "이번에 나온 난수값은50, 탈출 불가입니다\n",
      "이번에 나온 난수값은42, 탈출 불가입니다\n",
      "이번에 나온 난수값은63, 탈출 불가입니다\n",
      "이번에 나온 난수값은22, 탈출 불가입니다\n",
      "이번에 나온 난수값은72, 탈출 불가입니다\n",
      "이번에 나온 난수값은90, 탈출 불가입니다\n",
      "이번에 나온 난수값은98, 탈출 불가입니다\n",
      "이번에 나온 난수값은78, 탈출 불가입니다\n",
      "이번에 나온 난수값은19, 탈출 불가입니다\n",
      "이번에 나온 난수값은83, 탈출 불가입니다\n",
      "이번에 나온 난수값은88, 탈출 불가입니다\n",
      "이번에 나온 난수값은57, 탈출 불가입니다\n",
      "이번에 나온 난수값은14, 탈출 불가입니다\n",
      "이번에 나온 난수값은20, 탈출 불가입니다\n",
      "이번에 나온 난수값은99, 탈출 불가입니다\n",
      "이번에 나온 난수값은61, 탈출 불가입니다\n",
      "이번에 나온 난수값은38, 탈출 불가입니다\n",
      "이번에 나온 난수값은98, 탈출 불가입니다\n",
      "이번에 나온 난수값은42, 탈출 불가입니다\n",
      "이번에 나온 난수값은23, 탈출 불가입니다\n",
      "이번에 나온 난수값은39, 탈출 불가입니다\n",
      "이번에 나온 난수값은83, 탈출 불가입니다\n",
      "이번에 나온 난수값은37, 탈출 불가입니다\n",
      "축하합니다. 당신은 13을 뽑아 탈출에 성공했습니다\n"
     ]
    }
   ],
   "source": [
    "import random\n",
    "\n",
    "while True:\n",
    "    rv=random.randint(10,99)\n",
    "    if rv == 13:\n",
    "        print(f'축하합니다. 당신은 13을 뽑아 탈출에 성공했습니다')\n",
    "        break\n",
    "    print(f'이번에 나온 난수값은{rv}, 탈출 불가입니다')"
   ]
  },
  {
   "cell_type": "code",
   "execution_count": 53,
   "id": "cdbf7f07-a11d-4ac1-800c-1417eca4e2d5",
   "metadata": {
    "pycharm": {
     "name": "#%%\n"
    }
   },
   "outputs": [
    {
     "name": "stdout",
     "output_type": "stream",
     "text": [
      "1 2 3 4 5 6 7 9 10 11 12 "
     ]
    }
   ],
   "source": [
    "for i in range(1,13):\n",
    "    if i ==8:\n",
    "        continue\n",
    "    print(str(i)+' ',end='')"
   ]
  },
  {
   "cell_type": "code",
   "execution_count": 55,
   "id": "486f43eb-5856-4631-88b9-b82fcc4f41c0",
   "metadata": {
    "pycharm": {
     "name": "#%%\n"
    }
   },
   "outputs": [
    {
     "name": "stdout",
     "output_type": "stream",
     "text": [
      "0 1 2 3 4 5 6 7 9 10 11 12 "
     ]
    }
   ],
   "source": [
    "for i in list(range(0,8)) + list(range(9,13)):\n",
    "    print(str(i)+' ',end='')"
   ]
  },
  {
   "cell_type": "code",
   "execution_count": 57,
   "id": "7abd1f99-4e87-42b4-a105-8a050790ab5d",
   "metadata": {
    "pycharm": {
     "name": "#%%\n"
    }
   },
   "outputs": [
    {
     "name": "stdout",
     "output_type": "stream",
     "text": [
      "[0, 1, 2, 3, 4, 5, 6, 7, 9, 10, 11, 12]\n"
     ]
    }
   ],
   "source": [
    "print(list(range(0,8))+list(range(9,13)))"
   ]
  },
  {
   "cell_type": "markdown",
   "id": "c607fecf-9627-411d-9183-28b481417870",
   "metadata": {
    "pycharm": {
     "name": "#%% md\n"
    }
   },
   "source": [
    "구구단 곱셈표 출력하기"
   ]
  },
  {
   "cell_type": "code",
   "execution_count": 64,
   "id": "01cc0207-0055-4124-a7af-54d2aab34d35",
   "metadata": {
    "pycharm": {
     "name": "#%%\n"
    }
   },
   "outputs": [
    {
     "name": "stdout",
     "output_type": "stream",
     "text": [
      "---------------------------\n",
      "2*1= 2   2*2= 4   2*3= 6   2*4= 8   2*5= 10   2*6= 12   2*7= 14   2*8= 16   2*9= 18   \n",
      "\n",
      "3*1= 3   3*2= 6   3*3= 9   3*4= 12   3*5= 15   3*6= 18   3*7= 21   3*8= 24   3*9= 27   \n",
      "\n",
      "4*1= 4   4*2= 8   4*3= 12   4*4= 16   4*5= 20   4*6= 24   4*7= 28   4*8= 32   4*9= 36   \n",
      "\n",
      "5*1= 5   5*2= 10   5*3= 15   5*4= 20   5*5= 25   5*6= 30   5*7= 35   5*8= 40   5*9= 45   \n",
      "\n",
      "6*1= 6   6*2= 12   6*3= 18   6*4= 24   6*5= 30   6*6= 36   6*7= 42   6*8= 48   6*9= 54   \n",
      "\n",
      "7*1= 7   7*2= 14   7*3= 21   7*4= 28   7*5= 35   7*6= 42   7*7= 49   7*8= 56   7*9= 63   \n",
      "\n",
      "8*1= 8   8*2= 16   8*3= 24   8*4= 32   8*5= 40   8*6= 48   8*7= 56   8*8= 64   8*9= 72   \n",
      "\n",
      "9*1= 9   9*2= 18   9*3= 27   9*4= 36   9*5= 45   9*6= 54   9*7= 63   9*8= 72   9*9= 81   \n",
      "\n"
     ]
    }
   ],
   "source": [
    "print('-'* 27)\n",
    "\n",
    "for i in range(2,10):\n",
    "    for j in range(1,10):\n",
    "        print(f'{i}*{j}= {i*j}   ',end='')\n",
    "    print('\\n')\n",
    "    "
   ]
  },
  {
   "cell_type": "markdown",
   "id": "c997a491-a27d-4729-b0be-aa86c4c9cffa",
   "metadata": {
    "pycharm": {
     "name": "#%% md\n"
    }
   },
   "source": [
    "직각 이등변 삼각형 만들기"
   ]
  },
  {
   "cell_type": "code",
   "execution_count": 70,
   "id": "2ed2cc94-8ce6-4ec1-bd91-15ff8cc5788c",
   "metadata": {
    "pycharm": {
     "name": "#%%\n"
    }
   },
   "outputs": [
    {
     "name": "stdin",
     "output_type": "stream",
     "text": [
      "밑면의 길이를 정하세요 10\n"
     ]
    },
    {
     "name": "stdout",
     "output_type": "stream",
     "text": [
      "*\n",
      "**\n",
      "***\n",
      "****\n",
      "*****\n",
      "******\n",
      "*******\n",
      "********\n",
      "*********\n",
      "**********\n"
     ]
    }
   ],
   "source": [
    "n= int(input('밑면의 길이를 정하세요'))\n",
    "for i in range(1,n+1):\n",
    "    print('*' *i)"
   ]
  },
  {
   "cell_type": "code",
   "execution_count": 72,
   "id": "38d4332a-9da5-4552-8b67-a59d8f985c8c",
   "metadata": {
    "pycharm": {
     "name": "#%%\n"
    }
   },
   "outputs": [
    {
     "name": "stdin",
     "output_type": "stream",
     "text": [
      "밑면의 길이를 정하세요 5\n"
     ]
    },
    {
     "name": "stdout",
     "output_type": "stream",
     "text": [
      "*\n",
      "\n",
      "**\n",
      "\n",
      "***\n",
      "\n",
      "****\n",
      "\n",
      "*****\n",
      "\n"
     ]
    }
   ],
   "source": [
    "#이중 루프를 이용하여 직각삼각형 만들기\n",
    "n= int(input('밑면의 길이를 정하세요'))\n",
    "for i in range(1,n+1):\n",
    "    for j in range(1,i+1):\n",
    "        print('*',end='')\n",
    "    print('\\n')"
   ]
  },
  {
   "cell_type": "code",
   "execution_count": 75,
   "id": "3140cdba-64ec-4451-9102-6b069a3b0cba",
   "metadata": {
    "pycharm": {
     "name": "#%%\n"
    }
   },
   "outputs": [
    {
     "name": "stdin",
     "output_type": "stream",
     "text": [
      "밑면의 길이를 정하세요 5\n"
     ]
    },
    {
     "name": "stdout",
     "output_type": "stream",
     "text": [
      "    *\n",
      "\n",
      "   **\n",
      "\n",
      "  ***\n",
      "\n",
      " ****\n",
      "\n",
      "*****\n",
      "\n"
     ]
    }
   ],
   "source": [
    "n=int(input('밑면의 길이를 정하세요'))\n",
    "for i in range(1,n+1):\n",
    "    for j in range(1,n-i+1):\n",
    "        print(' ',end='')\n",
    "    for j in range(1,i+1):\n",
    "        print('*', end='')\n",
    "    print('\\n')"
   ]
  },
  {
   "cell_type": "code",
   "execution_count": 78,
   "id": "7ac487b7-d260-431b-b02d-8ba761e5db47",
   "metadata": {
    "pycharm": {
     "name": "#%%\n"
    }
   },
   "outputs": [
    {
     "name": "stdout",
     "output_type": "stream",
     "text": [
      "i=1 id(1)=140719138547504\n",
      "i=2 id(2)=140719138547536\n",
      "i=3 id(3)=140719138547568\n",
      "i=4 id(4)=140719138547600\n",
      "i=5 id(5)=140719138547632\n",
      "i=6 id(6)=140719138547664\n",
      "i=7 id(7)=140719138547696\n",
      "i=8 id(8)=140719138547728\n",
      "i=9 id(9)=140719138547760\n",
      "i=10 id(10)=140719138547792\n",
      "i=11 id(11)=140719138547824\n",
      "i=12 id(12)=140719138547856\n",
      "i=13 id(13)=140719138547888\n",
      "i=14 id(14)=140719138547920\n",
      "i=15 id(15)=140719138547952\n",
      "i=16 id(16)=140719138547984\n",
      "i=17 id(17)=140719138548016\n",
      "i=18 id(18)=140719138548048\n",
      "i=19 id(19)=140719138548080\n",
      "i=20 id(20)=140719138548112\n",
      "i=21 id(21)=140719138548144\n",
      "i=22 id(22)=140719138548176\n",
      "i=23 id(23)=140719138548208\n",
      "i=24 id(24)=140719138548240\n",
      "i=25 id(25)=140719138548272\n",
      "i=26 id(26)=140719138548304\n",
      "i=27 id(27)=140719138548336\n",
      "i=28 id(28)=140719138548368\n",
      "i=29 id(29)=140719138548400\n",
      "i=30 id(30)=140719138548432\n",
      "i=31 id(31)=140719138548464\n",
      "i=32 id(32)=140719138548496\n",
      "i=33 id(33)=140719138548528\n",
      "i=34 id(34)=140719138548560\n",
      "i=35 id(35)=140719138548592\n",
      "i=36 id(36)=140719138548624\n",
      "i=37 id(37)=140719138548656\n",
      "i=38 id(38)=140719138548688\n",
      "i=39 id(39)=140719138548720\n",
      "i=40 id(40)=140719138548752\n",
      "i=41 id(41)=140719138548784\n",
      "i=42 id(42)=140719138548816\n",
      "i=43 id(43)=140719138548848\n",
      "i=44 id(44)=140719138548880\n",
      "i=45 id(45)=140719138548912\n",
      "i=46 id(46)=140719138548944\n",
      "i=47 id(47)=140719138548976\n",
      "i=48 id(48)=140719138549008\n",
      "i=49 id(49)=140719138549040\n",
      "i=50 id(50)=140719138549072\n",
      "i=51 id(51)=140719138549104\n",
      "i=52 id(52)=140719138549136\n",
      "i=53 id(53)=140719138549168\n",
      "i=54 id(54)=140719138549200\n",
      "i=55 id(55)=140719138549232\n",
      "i=56 id(56)=140719138549264\n",
      "i=57 id(57)=140719138549296\n",
      "i=58 id(58)=140719138549328\n",
      "i=59 id(59)=140719138549360\n",
      "i=60 id(60)=140719138549392\n",
      "i=61 id(61)=140719138549424\n",
      "i=62 id(62)=140719138549456\n",
      "i=63 id(63)=140719138549488\n",
      "i=64 id(64)=140719138549520\n",
      "i=65 id(65)=140719138549552\n",
      "i=66 id(66)=140719138549584\n",
      "i=67 id(67)=140719138549616\n",
      "i=68 id(68)=140719138549648\n",
      "i=69 id(69)=140719138549680\n",
      "i=70 id(70)=140719138549712\n",
      "i=71 id(71)=140719138549744\n",
      "i=72 id(72)=140719138549776\n",
      "i=73 id(73)=140719138549808\n",
      "i=74 id(74)=140719138549840\n",
      "i=75 id(75)=140719138549872\n",
      "i=76 id(76)=140719138549904\n",
      "i=77 id(77)=140719138549936\n",
      "i=78 id(78)=140719138549968\n",
      "i=79 id(79)=140719138550000\n",
      "i=80 id(80)=140719138550032\n",
      "i=81 id(81)=140719138550064\n",
      "i=82 id(82)=140719138550096\n",
      "i=83 id(83)=140719138550128\n",
      "i=84 id(84)=140719138550160\n",
      "i=85 id(85)=140719138550192\n",
      "i=86 id(86)=140719138550224\n",
      "i=87 id(87)=140719138550256\n",
      "i=88 id(88)=140719138550288\n",
      "i=89 id(89)=140719138550320\n",
      "i=90 id(90)=140719138550352\n",
      "i=91 id(91)=140719138550384\n",
      "i=92 id(92)=140719138550416\n",
      "i=93 id(93)=140719138550448\n",
      "i=94 id(94)=140719138550480\n",
      "i=95 id(95)=140719138550512\n",
      "i=96 id(96)=140719138550544\n",
      "i=97 id(97)=140719138550576\n",
      "i=98 id(98)=140719138550608\n",
      "i=99 id(99)=140719138550640\n",
      "i=100 id(100)=140719138550672\n"
     ]
    }
   ],
   "source": [
    "for i in range(1,101):\n",
    "    print(f'i={i} id({i})={id(i)}')"
   ]
  },
  {
   "cell_type": "code",
   "execution_count": 80,
   "id": "d7048673-d7eb-4c82-939c-0739f1fbfc62",
   "metadata": {
    "pycharm": {
     "name": "#%%\n"
    }
   },
   "outputs": [
    {
     "name": "stdout",
     "output_type": "stream",
     "text": [
      "140719138547568\n",
      "140719138547568\n",
      "140719138547568\n",
      "\n",
      "\n",
      "140719138547632\n",
      "140719138547696\n"
     ]
    }
   ],
   "source": [
    "x=3\n",
    "y=3\n",
    "print(id(3))\n",
    "print(id(x))\n",
    "print(id(y))\n",
    "print('\\n')\n",
    "\n",
    "z=5\n",
    "print(id(z))\n",
    "z=7\n",
    "print(id(7))"
   ]
  },
  {
   "cell_type": "code",
   "execution_count": null,
   "id": "09826836-178c-4749-84d0-61b5a5c958ff",
   "metadata": {
    "pycharm": {
     "name": "#%%\n"
    }
   },
   "outputs": [],
   "source": []
  }
 ],
 "metadata": {
  "kernelspec": {
   "display_name": "Python 3 (ipykernel)",
   "language": "python",
   "name": "python3"
  },
  "language_info": {
   "codemirror_mode": {
    "name": "ipython",
    "version": 3
   },
   "file_extension": ".py",
   "mimetype": "text/x-python",
   "name": "python",
   "nbconvert_exporter": "python",
   "pygments_lexer": "ipython3",
   "version": "3.9.12"
  }
 },
 "nbformat": 4,
 "nbformat_minor": 5
}
