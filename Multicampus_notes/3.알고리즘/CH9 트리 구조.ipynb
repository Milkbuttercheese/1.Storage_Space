{
 "cells": [
  {
   "cell_type": "code",
   "metadata": {
    "pycharm": {
     "name": "#%%\n"
    },
    "cell_id": "26701cb2-ef28-4bd4-a92c-56b3d25b4650",
    "deepnote_to_be_reexecuted": false,
    "source_hash": "a9bc4eb0",
    "execution_start": 1658333736255,
    "execution_millis": 40,
    "deepnote_cell_type": "code",
    "deepnote_cell_height": 2853
   },
   "source": "# 이진 트리 구현하기\n\n#노드 클래스 만들기\nclass Node:\n    def __init__(self,key,value,left=None,right=None):\n        self.key=key\n        self.value=value\n        self.left= left\n        self.right= right\n\nclass BinarySearchTree:\n    def __init__(self):\n        self.root = None\n\n#검색에는 이진검색트리의 정의를 이용한다\n#구하고자 하는 원소의 키key와 현재 노드key값과 비교한다.\n    def search(self,key):\n        choosen_node =self.root\n        while True:\n            if choosen_node is None:\n                return None\n            if key == choosen_node.key:\n                return choosen_node.value\n            elif key< choosen_node.key:\n                choosen_node= choosen_node.left\n            else:\n                choosen_node=choosen_node.right\n\n#노드 삽입 함수\n#삽입 후에도 이진 검색 트리의 조건을 충족시키기 위해\n#삽입할 위치를 찾아내야됨\n    #root에 Node가 없으면 최초의 Node를 생성한다\n    #그 후 root를 따라 탐색을 시작한다\n    def add_node(self,key,value):\n        def in_add_node(node,key,value):\n            if key== node.key:\n                return False\n            elif key< node.key:\n                if node.left is None:\n                    node.left =Node(key,value,None,None)\n                else:\n                    in_add_node(node.left,key,value)\n            else:\n                if node.right is None:\n                    node.right= Node(key,value,None,None)\n                else:\n                    in_add_node(node.right,key,value)\n            return True\n        if self.root is None:\n            self.root =Node(key,value,None,None)\n            return True\n        else:\n            return in_add_node(self.root,key,value)\n\n\n#노드를 삭제하는 함수\n#자식노드가 없었다면 부모노드의 포인터를 갱신해야하고\n#자식 노드가 1개 있었다면 삭제되는 노드의 자식을 삭제되는 노드의 부모와 잇고\n#자식 노드가 2개 있었다면 왼쪽 자식이 만드는 서브트리 중 가장 키값이 큰 노드를\n#가져와 대체시킨다\n\n#is_left_child는 choosen_node가 parent의 왼쪽 자식 노드인지 확인하는 기능이다\n    def remove_node(self,key):\n        choosen_node=self.root\n        parent=None\n        is_left_child= True\n\n        while True:\n            if choosen_node is None:\n                return False\n\n            #검색 성공하면 break로 while문을 빠져나감\n            if key== choosen_node.key:\n                break\n            else:\n                parent= choosen_node\n                if key<choosen_node.key:\n                    is_left_child =True\n                    choosen_node= choosen_node.left\n                else:\n                    is_left_child = False\n                    choosen_node= choosen_node.right\n\n        #자식 노드가 1개 혹은 0개일 때의 경우의 수임\n        #1개와 0개를 동시에 다루는 조건문을 쓰는 이유는\n        #없는 자식을 호출하면 None값이 return 되기 때문\n        if choosen_node.left is None:\n            if choosen_node is self.root:\n                self.root= choosen_node.right\n            elif is_left_child:\n                parent.left= choosen_node.right\n            else:\n                parent.right= choosen_node.right\n        elif choosen_node.right is None:\n            if choosen_node is self.root:\n                self.root = choosen_node.left\n            elif is_left_child:\n                parent.left= choosen_node.left\n            else:\n                parent.right= choosen_node.left\n\n        #자식 노드가 2개일 때의 경우의 수\n        #삭제하려 선택한 노드가 부모가 된다\n        #chooosen_node.left 에서 최대한 오른쪽으로 이동하여 값을 찾는다\n        #\n        else:\n            parent= choosen_node\n            left= choosen_node.left\n            is_left_child =True\n            while left.right is not None:\n                parent = left\n                left= left.right\n                is_left_child= False\n\n        #서브트리에서 가장 큰 key값을 갖는 노드를 삭제하려는 데이터 위치에 대입\n            choosen_node.key= left.key\n            choosen_node.value =left.value\n            # parent-choosen_node-left가 일직선 형태 혹은\n            # ㄱ자로 꺽여있거나 ToptoBottom 대각선 형태\n            if is_left_child:\n                parent.left= left.left\n            else:\n                parent.right = left.left\n            return True\n\n    #출력 프로그램\n    def dump(self):\n        def print_subtree(node):\n            if node is not None:\n                print_subtree(node.left)\n                print(f'{node.key}{node.value}')\n                print_subtree(node.right)\n        print_subtree(self.root)\n\n    #최소 키와 최대 키를 반환하는 함수 만들기\n    def min_key(self):\n        if self.root is None:\n            print('트리가 비어있습니다')\n            return None\n        choosen_node=self.root\n        while choosen_node.left is not None:\n            choosen_node= choosen_node.left\n\n        return choosen_node.key\n\n    def max_key(self):\n        if self.root is None:\n            return None\n        choosen_node= self.root\n        while choosen_node.right is not None:\n            choosen_node= choosen_node.right\n\n        return choosen_node.key\n\n",
   "outputs": [],
   "execution_count": null
  },
  {
   "cell_type": "code",
   "metadata": {
    "pycharm": {
     "name": "#%%\n"
    },
    "cell_id": "00001-f5021623-e820-4588-a8c7-9a3db544e09b",
    "deepnote_to_be_reexecuted": false,
    "source_hash": "bb278d42",
    "execution_start": 1658333736296,
    "owner_user_id": "6620e961-4734-4451-b6f0-024902f1a0c6",
    "execution_millis": 900477,
    "deepnote_cell_type": "code",
    "deepnote_cell_height": 986
   },
   "source": "from enum import Enum\n\nMenu= Enum('Menu',['삽입','삭제','검색','덤프','키의범위','종료'])\n\ndef select_Menu():\n    s= [f'({m.value}){m.name}' for m in Menu]\n    while True:\n        # print(*s,sep=' ',end='')\n        n= int(input(\" (1)삽입,(2)삭제,(3)검색,(4)덤프,(5)키의범위,(6)종료중 하나를 고르세요 \"))\n        if 1<= n<= len(Menu):\n            return Menu(n)\n\ntree = BinarySearchTree()\n\nwhile True:\n    menu=select_Menu()\n\n    if menu== Menu.삽입:\n        key= int(input('삽입할 키를 입력하세요.: '))\n        val= input('삽입할 값을 입력하세요.: ')\n        if not tree.add_node(key,val):\n            print('삽입에 실패하였습니다')\n\n    elif menu==Menu.삭제:\n        key= int(input('삭제할 키를 입력하세요.: '))\n        tree.remove_node(key)\n\n    elif menu==Menu.검색:\n        key= int(input('검색할 키를 입력하세요.'))\n        t= tree.search(key)\n        if t is not None:\n            print(f'이 키를 값는 값은 {t}입니다')\n        else:\n            print('찾으시는 데이터가 없습니다')\n\n    elif menu==Menu.덤프:\n        tree.dump()\n\n    elif menu== Menu.키의범위:\n        print(f'키의 최솟값은 {tree.min_key()}입니다')\n        print(f'키의 최댓값은 {tree.max_key()}입니다')\n\n    else:\n        break\n",
   "outputs": [
    {
     "output_type": "error",
     "ename": "KeyboardInterrupt",
     "evalue": "Interrupted by user",
     "traceback": [
      "\u001b[0;31m---------------------------------------------------------------------------\u001b[0m",
      "\u001b[0;31mKeyboardInterrupt\u001b[0m                         Traceback (most recent call last)",
      "\u001b[0;32m<ipython-input-2-1d169bf3c5ad>\u001b[0m in \u001b[0;36m<cell line: 16>\u001b[0;34m()\u001b[0m\n\u001b[1;32m     14\u001b[0m \u001b[0;34m\u001b[0m\u001b[0m\n\u001b[1;32m     15\u001b[0m \u001b[0;32mwhile\u001b[0m \u001b[0;32mTrue\u001b[0m\u001b[0;34m:\u001b[0m\u001b[0;34m\u001b[0m\u001b[0;34m\u001b[0m\u001b[0m\n\u001b[0;32m---> 16\u001b[0;31m     \u001b[0mmenu\u001b[0m\u001b[0;34m=\u001b[0m\u001b[0mselect_Menu\u001b[0m\u001b[0;34m(\u001b[0m\u001b[0;34m)\u001b[0m\u001b[0;34m\u001b[0m\u001b[0;34m\u001b[0m\u001b[0m\n\u001b[0m\u001b[1;32m     17\u001b[0m \u001b[0;34m\u001b[0m\u001b[0m\n\u001b[1;32m     18\u001b[0m     \u001b[0;32mif\u001b[0m \u001b[0mmenu\u001b[0m\u001b[0;34m==\u001b[0m \u001b[0mMenu\u001b[0m\u001b[0;34m.\u001b[0m\u001b[0m삽입\u001b[0m\u001b[0;34m:\u001b[0m\u001b[0;34m\u001b[0m\u001b[0;34m\u001b[0m\u001b[0m\n",
      "\u001b[0;32m<ipython-input-2-1d169bf3c5ad>\u001b[0m in \u001b[0;36mselect_Menu\u001b[0;34m()\u001b[0m\n\u001b[1;32m      7\u001b[0m     \u001b[0;32mwhile\u001b[0m \u001b[0;32mTrue\u001b[0m\u001b[0;34m:\u001b[0m\u001b[0;34m\u001b[0m\u001b[0;34m\u001b[0m\u001b[0m\n\u001b[1;32m      8\u001b[0m         \u001b[0;31m# print(*s,sep=' ',end='')\u001b[0m\u001b[0;34m\u001b[0m\u001b[0;34m\u001b[0m\u001b[0m\n\u001b[0;32m----> 9\u001b[0;31m         \u001b[0mn\u001b[0m\u001b[0;34m=\u001b[0m \u001b[0mint\u001b[0m\u001b[0;34m(\u001b[0m\u001b[0minput\u001b[0m\u001b[0;34m(\u001b[0m\u001b[0;34m\" (1)삽입,(2)삭제,(3)검색,(4)덤프,(5)키의범위,(6)종료중 하나를 고르세요 \"\u001b[0m\u001b[0;34m)\u001b[0m\u001b[0;34m)\u001b[0m\u001b[0;34m\u001b[0m\u001b[0;34m\u001b[0m\u001b[0m\n\u001b[0m\u001b[1;32m     10\u001b[0m         \u001b[0;32mif\u001b[0m \u001b[0;36m1\u001b[0m\u001b[0;34m<=\u001b[0m \u001b[0mn\u001b[0m\u001b[0;34m<=\u001b[0m \u001b[0mlen\u001b[0m\u001b[0;34m(\u001b[0m\u001b[0mMenu\u001b[0m\u001b[0;34m)\u001b[0m\u001b[0;34m:\u001b[0m\u001b[0;34m\u001b[0m\u001b[0;34m\u001b[0m\u001b[0m\n\u001b[1;32m     11\u001b[0m             \u001b[0;32mreturn\u001b[0m \u001b[0mMenu\u001b[0m\u001b[0;34m(\u001b[0m\u001b[0mn\u001b[0m\u001b[0;34m)\u001b[0m\u001b[0;34m\u001b[0m\u001b[0;34m\u001b[0m\u001b[0m\n",
      "\u001b[0;32m/shared-libs/python3.9/py-core/lib/python3.9/site-packages/ipykernel/kernelbase.py\u001b[0m in \u001b[0;36mraw_input\u001b[0;34m(self, prompt)\u001b[0m\n\u001b[1;32m    846\u001b[0m                 \u001b[0;34m\"raw_input was called, but this frontend does not support input requests.\"\u001b[0m\u001b[0;34m\u001b[0m\u001b[0;34m\u001b[0m\u001b[0m\n\u001b[1;32m    847\u001b[0m             )\n\u001b[0;32m--> 848\u001b[0;31m         return self._input_request(str(prompt),\n\u001b[0m\u001b[1;32m    849\u001b[0m             \u001b[0mself\u001b[0m\u001b[0;34m.\u001b[0m\u001b[0m_parent_ident\u001b[0m\u001b[0;34m,\u001b[0m\u001b[0;34m\u001b[0m\u001b[0;34m\u001b[0m\u001b[0m\n\u001b[1;32m    850\u001b[0m             \u001b[0mself\u001b[0m\u001b[0;34m.\u001b[0m\u001b[0m_parent_header\u001b[0m\u001b[0;34m,\u001b[0m\u001b[0;34m\u001b[0m\u001b[0;34m\u001b[0m\u001b[0m\n",
      "\u001b[0;32m/shared-libs/python3.9/py-core/lib/python3.9/site-packages/ipykernel/kernelbase.py\u001b[0m in \u001b[0;36m_input_request\u001b[0;34m(self, prompt, ident, parent, password)\u001b[0m\n\u001b[1;32m    890\u001b[0m             \u001b[0;32mexcept\u001b[0m \u001b[0mKeyboardInterrupt\u001b[0m\u001b[0;34m:\u001b[0m\u001b[0;34m\u001b[0m\u001b[0;34m\u001b[0m\u001b[0m\n\u001b[1;32m    891\u001b[0m                 \u001b[0;31m# re-raise KeyboardInterrupt, to truncate traceback\u001b[0m\u001b[0;34m\u001b[0m\u001b[0;34m\u001b[0m\u001b[0m\n\u001b[0;32m--> 892\u001b[0;31m                 \u001b[0;32mraise\u001b[0m \u001b[0mKeyboardInterrupt\u001b[0m\u001b[0;34m(\u001b[0m\u001b[0;34m\"Interrupted by user\"\u001b[0m\u001b[0;34m)\u001b[0m \u001b[0;32mfrom\u001b[0m \u001b[0;32mNone\u001b[0m\u001b[0;34m\u001b[0m\u001b[0;34m\u001b[0m\u001b[0m\n\u001b[0m\u001b[1;32m    893\u001b[0m             \u001b[0;32mexcept\u001b[0m \u001b[0mException\u001b[0m \u001b[0;32mas\u001b[0m \u001b[0me\u001b[0m\u001b[0;34m:\u001b[0m\u001b[0;34m\u001b[0m\u001b[0;34m\u001b[0m\u001b[0m\n\u001b[1;32m    894\u001b[0m                 \u001b[0mself\u001b[0m\u001b[0;34m.\u001b[0m\u001b[0mlog\u001b[0m\u001b[0;34m.\u001b[0m\u001b[0mwarning\u001b[0m\u001b[0;34m(\u001b[0m\u001b[0;34m\"Invalid Message:\"\u001b[0m\u001b[0;34m,\u001b[0m \u001b[0mexc_info\u001b[0m\u001b[0;34m=\u001b[0m\u001b[0;32mTrue\u001b[0m\u001b[0;34m)\u001b[0m\u001b[0;34m\u001b[0m\u001b[0;34m\u001b[0m\u001b[0m\n",
      "\u001b[0;31mKeyboardInterrupt\u001b[0m: Interrupted by user"
     ]
    }
   ],
   "execution_count": null
  },
  {
   "cell_type": "code",
   "metadata": {
    "jupyter": {
     "outputs_hidden": false
    },
    "pycharm": {
     "name": "#%%\n"
    },
    "cell_id": "00002-0f6209d2-b14c-417c-a585-dbc551da6016",
    "deepnote_to_be_reexecuted": true,
    "source_hash": "82e54aa4",
    "deepnote_cell_type": "code",
    "deepnote_cell_height": 207.1875
   },
   "source": "import tensorflow as tf\nprint(\"Num GPUs Available: \", len(tf.config.experimental.list_physical_devices('GPU')))",
   "outputs": [
    {
     "ename": "ModuleNotFoundError",
     "evalue": "No module named 'tensorflow'",
     "output_type": "error",
     "traceback": [
      "\u001b[0;31m---------------------------------------------------------------------------\u001b[0m",
      "\u001b[0;31mModuleNotFoundError\u001b[0m                       Traceback (most recent call last)",
      "Input \u001b[0;32mIn [1]\u001b[0m, in \u001b[0;36m<cell line: 1>\u001b[0;34m()\u001b[0m\n\u001b[0;32m----> 1\u001b[0m \u001b[38;5;28;01mimport\u001b[39;00m \u001b[38;5;21;01mtensorflow\u001b[39;00m \u001b[38;5;28;01mas\u001b[39;00m \u001b[38;5;21;01mtf\u001b[39;00m\n\u001b[1;32m      2\u001b[0m \u001b[38;5;28mprint\u001b[39m(\u001b[38;5;124m\"\u001b[39m\u001b[38;5;124mNum GPUs Available: \u001b[39m\u001b[38;5;124m\"\u001b[39m, \u001b[38;5;28mlen\u001b[39m(tf\u001b[38;5;241m.\u001b[39mconfig\u001b[38;5;241m.\u001b[39mexperimental\u001b[38;5;241m.\u001b[39mlist_physical_devices(\u001b[38;5;124m'\u001b[39m\u001b[38;5;124mGPU\u001b[39m\u001b[38;5;124m'\u001b[39m)))\n",
      "\u001b[0;31mModuleNotFoundError\u001b[0m: No module named 'tensorflow'"
     ]
    }
   ],
   "execution_count": null
  },
  {
   "cell_type": "code",
   "metadata": {
    "jupyter": {
     "outputs_hidden": false
    },
    "pycharm": {
     "name": "#%%\n"
    },
    "cell_id": "00003-0825222c-52ff-44b5-a0d9-c779c97b8c37",
    "deepnote_to_be_reexecuted": true,
    "source_hash": "a23e6820",
    "deepnote_cell_type": "code",
    "deepnote_cell_height": 136.390625
   },
   "source": "!pip install tensorflow",
   "outputs": [
    {
     "name": "stdout",
     "output_type": "stream",
     "text": "\u001b[31mERROR: Could not find a version that satisfies the requirement tensorflow (from versions: none)\u001b[0m\u001b[31m\r\n\u001b[0m\u001b[31mERROR: No matching distribution found for tensorflow\u001b[0m\u001b[31m\r\n\u001b[0m"
    }
   ],
   "execution_count": null
  },
  {
   "cell_type": "code",
   "metadata": {
    "cell_id": "00004-b9f5ab92-b6ef-4e75-81de-b75f8ae636d0",
    "deepnote_to_be_reexecuted": true,
    "source_hash": "cd42cf3c",
    "deepnote_cell_type": "code",
    "deepnote_cell_height": 454.21875
   },
   "source": "!pip install selenium",
   "outputs": [
    {
     "name": "stdout",
     "output_type": "stream",
     "text": "Requirement already satisfied: selenium in /Users/wooseongkyun/miniforge3/envs/tf25/lib/python3.8/site-packages (4.3.0)\nRequirement already satisfied: urllib3[secure,socks]~=1.26 in /Users/wooseongkyun/miniforge3/envs/tf25/lib/python3.8/site-packages (from selenium) (1.26.10)\nRequirement already satisfied: trio-websocket~=0.9 in /Users/wooseongkyun/miniforge3/envs/tf25/lib/python3.8/site-packages (from selenium) (0.9.2)\nRequirement already satisfied: trio~=0.17 in /Users/wooseongkyun/miniforge3/envs/tf25/lib/python3.8/site-packages (from selenium) (0.21.0)\nRequirement already satisfied: sniffio in /Users/wooseongkyun/miniforge3/envs/tf25/lib/python3.8/site-packages (from trio~=0.17->selenium) (1.2.0)\nRequirement already satisfied: sortedcontainers in /Users/wooseongkyun/miniforge3/envs/tf25/lib/python3.8/site-packages (from trio~=0.17->selenium) (2.4.0)\nRequirement already satisfied: idna in /Users/wooseongkyun/miniforge3/envs/tf25/lib/python3.8/site-packages (from trio~=0.17->selenium) (3.3)\nRequirement already satisfied: attrs>=19.2.0 in /Users/wooseongkyun/miniforge3/envs/tf25/lib/python3.8/site-packages (from trio~=0.17->selenium) (21.4.0)\nRequirement already satisfied: async-generator>=1.9 in /Users/wooseongkyun/miniforge3/envs/tf25/lib/python3.8/site-packages (from trio~=0.17->selenium) (1.10)\nRequirement already satisfied: outcome in /Users/wooseongkyun/miniforge3/envs/tf25/lib/python3.8/site-packages (from trio~=0.17->selenium) (1.2.0)\nRequirement already satisfied: wsproto>=0.14 in /Users/wooseongkyun/miniforge3/envs/tf25/lib/python3.8/site-packages (from trio-websocket~=0.9->selenium) (1.1.0)\nRequirement already satisfied: cryptography>=1.3.4 in /Users/wooseongkyun/miniforge3/envs/tf25/lib/python3.8/site-packages (from urllib3[secure,socks]~=1.26->selenium) (37.0.4)\nRequirement already satisfied: certifi in /Users/wooseongkyun/miniforge3/envs/tf25/lib/python3.8/site-packages (from urllib3[secure,socks]~=1.26->selenium) (2022.6.15)\nRequirement already satisfied: pyOpenSSL>=0.14 in /Users/wooseongkyun/miniforge3/envs/tf25/lib/python3.8/site-packages (from urllib3[secure,socks]~=1.26->selenium) (22.0.0)\nRequirement already satisfied: PySocks!=1.5.7,<2.0,>=1.5.6 in /Users/wooseongkyun/miniforge3/envs/tf25/lib/python3.8/site-packages (from urllib3[secure,socks]~=1.26->selenium) (1.7.1)\nRequirement already satisfied: cffi>=1.12 in /Users/wooseongkyun/miniforge3/envs/tf25/lib/python3.8/site-packages (from cryptography>=1.3.4->urllib3[secure,socks]~=1.26->selenium) (1.15.1)\nRequirement already satisfied: h11<1,>=0.9.0 in /Users/wooseongkyun/miniforge3/envs/tf25/lib/python3.8/site-packages (from wsproto>=0.14->trio-websocket~=0.9->selenium) (0.13.0)\nRequirement already satisfied: pycparser in /Users/wooseongkyun/miniforge3/envs/tf25/lib/python3.8/site-packages (from cffi>=1.12->cryptography>=1.3.4->urllib3[secure,socks]~=1.26->selenium) (2.21)\n"
    }
   ],
   "execution_count": null
  },
  {
   "cell_type": "code",
   "metadata": {
    "cell_id": "00005-1c6fcaf3-5fae-4aba-93e8-d760161f538f",
    "deepnote_to_be_reexecuted": true,
    "source_hash": "81c753ae",
    "deepnote_cell_type": "code",
    "deepnote_cell_height": 189.1875
   },
   "source": "import selenium",
   "outputs": [
    {
     "ename": "ModuleNotFoundError",
     "evalue": "No module named 'selenium'",
     "output_type": "error",
     "traceback": [
      "\u001b[0;31m---------------------------------------------------------------------------\u001b[0m",
      "\u001b[0;31mModuleNotFoundError\u001b[0m                       Traceback (most recent call last)",
      "Input \u001b[0;32mIn [5]\u001b[0m, in \u001b[0;36m<cell line: 1>\u001b[0;34m()\u001b[0m\n\u001b[0;32m----> 1\u001b[0m \u001b[38;5;28;01mimport\u001b[39;00m \u001b[38;5;21;01mselenium\u001b[39;00m\n",
      "\u001b[0;31mModuleNotFoundError\u001b[0m: No module named 'selenium'"
     ]
    }
   ],
   "execution_count": null
  },
  {
   "cell_type": "code",
   "metadata": {
    "cell_id": "00006-5cd8f730-3cba-46d7-bd85-254f14185334",
    "deepnote_to_be_reexecuted": true,
    "source_hash": "b623e53d",
    "deepnote_cell_type": "code",
    "deepnote_cell_height": 81
   },
   "source": "",
   "execution_count": null,
   "outputs": []
  },
  {
   "cell_type": "markdown",
   "source": "<a style='text-decoration:none;line-height:16px;display:flex;color:#5B5B62;padding:10px;justify-content:end;' href='https://deepnote.com?utm_source=created-in-deepnote-cell&projectId=59f71f48-e620-40de-82b6-60c121211e54' target=\"_blank\">\n<img alt='Created in deepnote.com' style='display:inline;max-height:16px;margin:0px;margin-right:7.5px;' src='data:image/svg+xml;base64,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' > </img>\nCreated in <span style='font-weight:600;margin-left:4px;'>Deepnote</span></a>",
   "metadata": {
    "tags": [],
    "created_in_deepnote_cell": true,
    "deepnote_cell_type": "markdown"
   }
  }
 ],
 "nbformat": 4,
 "nbformat_minor": 4,
 "metadata": {
  "kernelspec": {
   "display_name": "Python 3 (ipykernel)",
   "language": "python",
   "name": "python3"
  },
  "language_info": {
   "codemirror_mode": {
    "name": "ipython",
    "version": 3
   },
   "file_extension": ".py",
   "mimetype": "text/x-python",
   "name": "python",
   "nbconvert_exporter": "python",
   "pygments_lexer": "ipython3",
   "version": "3.10.5"
  },
  "deepnote_notebook_id": "930601d9-aeef-4ea7-a385-cbd495445d27",
  "deepnote": {},
  "deepnote_execution_queue": []
 }
}