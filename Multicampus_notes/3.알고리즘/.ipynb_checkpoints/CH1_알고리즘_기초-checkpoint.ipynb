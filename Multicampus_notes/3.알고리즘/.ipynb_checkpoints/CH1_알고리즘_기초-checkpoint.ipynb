{
 "cells": [
  {
   "cell_type": "markdown",
   "id": "33103fe2",
   "metadata": {},
   "source": [
    "세 정수의 최댓값 구하기"
   ]
  },
  {
   "cell_type": "code",
   "execution_count": 4,
   "id": "76b4749c",
   "metadata": {},
   "outputs": [
    {
     "name": "stdout",
     "output_type": "stream",
     "text": [
      "세 정수이 최댓값 구하기\n",
      "정수 a값을 입력하시오3\n",
      "정수 b값을 입력하시오9\n",
      "정수 c값을 입력하시오7\n",
      "최댓값은 9입니다\n"
     ]
    }
   ],
   "source": [
    "print('세 정수의 최댓값 구하기')\n",
    "a= int(input('정수 a값을 입력하시오'))\n",
    "b= int(input('정수 b값을 입력하시오'))\n",
    "c= int(input('정수 c값을 입력하시오'))\n",
    "\n",
    "maximum=a\n",
    "if maximum <b:\n",
    "    maximum=b\n",
    "if maximum <c:\n",
    "    maximum=c\n",
    "print(f'최댓값은 {maximum}입니다')"
   ]
  },
  {
   "cell_type": "markdown",
   "id": "ffc8da92",
   "metadata": {},
   "source": [
    "세 정수의 중앙값 구하기 예제"
   ]
  },
  {
   "cell_type": "code",
   "execution_count": 7,
   "id": "5ce1af31",
   "metadata": {},
   "outputs": [
    {
     "name": "stdout",
     "output_type": "stream",
     "text": [
      "세 정수의 중앙값 구하기\n",
      "정수 a값을 입력하시오-2\n",
      "정수 b값을 입력하시오-8\n",
      "정수 c값을 입력하시오5\n",
      "중앙값은 -2입니다\n"
     ]
    }
   ],
   "source": [
    "print('세 정수의 중앙값 구하기')\n",
    "a= int(input('정수 a값을 입력하시오'))\n",
    "b= int(input('정수 b값을 입력하시오'))\n",
    "c= int(input('정수 c값을 입력하시오'))\n",
    "\n",
    "median= a\n",
    "\n",
    "if median<b:\n",
    "    if median<c:\n",
    "        if b<c:\n",
    "            median=b\n",
    "        else:\n",
    "            median=c\n",
    "\n",
    "if median>b:\n",
    "    if median>c:\n",
    "        if b<c:\n",
    "            median=c\n",
    "        else:\n",
    "            median=b\n",
    "\n",
    "print(f'중앙값은 {median}입니다')"
   ]
  },
  {
   "cell_type": "code",
   "execution_count": 11,
   "id": "ba2efa5f",
   "metadata": {},
   "outputs": [
    {
     "name": "stdout",
     "output_type": "stream",
     "text": [
      "세 정수의 중앙값 구하기\n",
      "정수 a값을 입력하시오2\n",
      "정수 b값을 입력하시오-9\n",
      "정수 c값을 입력하시오10\n",
      "2,-9,10의 중앙값은 2입니다\n"
     ]
    }
   ],
   "source": [
    "def med3(a,b,c):\n",
    "    if (b<=a and a<=c) or (c<=a and a<=b):\n",
    "        return a\n",
    "    elif ( a<=b and b<=c) or (c<=b and b<=a):\n",
    "        return b\n",
    "    else:\n",
    "        return c\n",
    "\n",
    "print('세 정수의 중앙값 구하기')\n",
    "a= int(input('정수 a값을 입력하시오'))\n",
    "b= int(input('정수 b값을 입력하시오'))\n",
    "c= int(input('정수 c값을 입력하시오'))   \n",
    "print(f'{a},{b},{c}의 중앙값은 {med3(a,b,c)}입니다')"
   ]
  },
  {
   "cell_type": "markdown",
   "id": "73c5f8d3",
   "metadata": {},
   "source": [
    "정수값의 부호 판단하기"
   ]
  },
  {
   "cell_type": "code",
   "execution_count": 15,
   "id": "a0e10492",
   "metadata": {},
   "outputs": [
    {
     "name": "stdout",
     "output_type": "stream",
     "text": [
      "정수를 입력하세요7\n",
      "7은 양수입니다\n"
     ]
    }
   ],
   "source": [
    "n= int(input('정수를 입력하세요'))\n",
    "if n>0:\n",
    "    print(f'{n}은 양수입니다')\n",
    "elif n<0:\n",
    "    print(f'{n}은 음수입니다')\n",
    "else:\n",
    "    print(f'{n}은 0입니다')"
   ]
  },
  {
   "cell_type": "code",
   "execution_count": 21,
   "id": "42cabdc8",
   "metadata": {},
   "outputs": [
    {
     "name": "stdout",
     "output_type": "stream",
     "text": [
      "1부터 n까지의 합을 더하는 명령어입니다\n",
      "n값을 입력하세요: 8\n",
      "1부터 8까지의 합은36입니다\n",
      "1부터 8까지의 합은36입니다\n"
     ]
    }
   ],
   "source": [
    "print('1부터 n까지의 합을 더하는 명령어입니다')\n",
    "n=int(input('n값을 입력하세요: '))\n",
    "\n",
    "sum=0\n",
    "i=1\n",
    "while i<=n:\n",
    "    sum= sum+i\n",
    "    i= i+1\n",
    "\n",
    "print(f'1부터 {n}까지의 합은{sum}입니다')\n",
    "\n",
    "sum_2=0\n",
    "for i in range(n+1):\n",
    "    sum_2= sum_2+i\n",
    "print(f'1부터 {n}까지의 합은{sum_2}입니다')"
   ]
  },
  {
   "cell_type": "markdown",
   "id": "397591ab",
   "metadata": {},
   "source": [
    "연속하는 두 정수의 합 구하기"
   ]
  },
  {
   "cell_type": "code",
   "execution_count": 27,
   "id": "ea0aaf11",
   "metadata": {},
   "outputs": [
    {
     "name": "stdout",
     "output_type": "stream",
     "text": [
      "입력한 두 정수 사이의 합을 구하겠습니다\n",
      "첫번째 정수를 입력해주세요3\n",
      "첫번째 정수를 입력해주세요8\n",
      "3와 8사이의 합은 33입니다\n"
     ]
    }
   ],
   "source": [
    "print('입력한 두 정수 사이의 합을 구하겠습니다')\n",
    "a= int(input('첫번째 정수를 입력해주세요'))\n",
    "b= int(input('첫번째 정수를 입력해주세요'))\n",
    "\n",
    "#크기 비교 후 오름차순으로 정렬\n",
    "if a>b:\n",
    "    a, b= b,a\n",
    "sum=0\n",
    "for i in range(a,b+1):\n",
    "    sum=sum+i\n",
    "print(f'{a}와 {b}사이의 합은 {sum}입니다')    "
   ]
  },
  {
   "cell_type": "code",
   "execution_count": null,
   "id": "d9b87431-06d3-4b4a-8d65-02ca93cb8f5d",
   "metadata": {},
   "outputs": [],
   "source": [
    "print('입력한 두 정수 사이의 합을 구하겠습니다')\n",
    "a= int(input('첫번째 정수를 입력해주세요'))\n",
    "b= int(input('첫번째 정수를 입력해주세요'))\n",
    "\n",
    "#크기 비교 후 오름차순으로 정렬\n",
    "if a>b:\n",
    "    a, b= b,a\n",
    "sum=0\n",
    "for i in range(a,b+1):\n",
    "    if i<b:\n",
    "        print(f'{i}+',end='')\n",
    "    else:\n",
    "        print(f'{i}=',end='')\n",
    "    sum=sum+i\n",
    "print(sum) "
   ]
  },
  {
   "cell_type": "code",
   "execution_count": 7,
   "id": "21c2866b",
   "metadata": {},
   "outputs": [
    {
     "name": "stdout",
     "output_type": "stream",
     "text": [
      "입력한 두 정수 사이의 합을 구하겠습니다\n"
     ]
    },
    {
     "name": "stdin",
     "output_type": "stream",
     "text": [
      "첫번째 정수를 입력해주세요 3\n",
      "첫번째 정수를 입력해주세요 7\n"
     ]
    },
    {
     "name": "stdout",
     "output_type": "stream",
     "text": [
      "3+4+5+6+7=25\n"
     ]
    }
   ],
   "source": [
    "print('입력한 두 정수 사이의 합을 구하겠습니다')\n",
    "a= int(input('첫번째 정수를 입력해주세요'))\n",
    "b= int(input('첫번째 정수를 입력해주세요'))\n",
    "\n",
    "#크기 비교 후 오름차순으로 정렬\n",
    "if a>b:\n",
    "    a, b= b,a\n",
    "sum=0\n",
    "for i in range(a,b):\n",
    "    print(f'{i}+',end='')\n",
    "    sum=sum+i\n",
    "\n",
    "print(f'{b}=',end='')\n",
    "sum=sum+b\n",
    "print(sum) "
   ]
  },
  {
   "cell_type": "markdown",
   "id": "339ada09-90c5-4ed6-b684-ab316e8e7bba",
   "metadata": {},
   "source": [
    "+,-를 번갈아 출력하기"
   ]
  },
  {
   "cell_type": "code",
   "execution_count": 6,
   "id": "fc5e626f-f42a-4985-8410-7fe7e59ab24f",
   "metadata": {},
   "outputs": [
    {
     "name": "stdin",
     "output_type": "stream",
     "text": [
      "+,-를 번갈아 몇개를 출력할까요? 20\n"
     ]
    },
    {
     "name": "stdout",
     "output_type": "stream",
     "text": [
      "+ - + - + - + - + - + - + - + - + - + - "
     ]
    }
   ],
   "source": [
    "n=int(input('+,-를 번갈아 몇개를 출력할까요?'))\n",
    "\n",
    "for i in range(n):\n",
    "    if i%2==0:\n",
    "        print('+ ',end='')\n",
    "    else:\n",
    "        print('- ',end='')"
   ]
  },
  {
   "cell_type": "code",
   "execution_count": null,
   "id": "1d3ef5a5-cef5-4657-83dd-43ee27b65515",
   "metadata": {},
   "outputs": [],
   "source": [
    " "
   ]
  }
 ],
 "metadata": {
  "kernelspec": {
   "display_name": "Python 3",
   "language": "python",
   "name": "python3"
  },
  "language_info": {
   "codemirror_mode": {
    "name": "ipython",
    "version": 3
   },
   "file_extension": ".py",
   "mimetype": "text/x-python",
   "name": "python",
   "nbconvert_exporter": "python",
   "pygments_lexer": "ipython3",
   "version": "3.8.8"
  }
 },
 "nbformat": 4,
 "nbformat_minor": 5
}
