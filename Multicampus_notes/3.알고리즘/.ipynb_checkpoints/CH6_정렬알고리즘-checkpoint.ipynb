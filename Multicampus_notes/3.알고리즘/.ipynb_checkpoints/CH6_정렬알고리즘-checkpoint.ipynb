{
 "cells": [
  {
   "cell_type": "code",
   "execution_count": 78,
   "outputs": [
    {
     "name": "stdout",
     "output_type": "stream",
     "text": [
      "기존의 배열은 다음과 같습니다\n",
      "arr[0]=-6\n",
      "arr[1]=4\n",
      "arr[2]=1\n",
      "arr[3]=5\n",
      "arr[4]=4\n",
      "arr[5]=7\n",
      "arr[6]=5\n",
      "arr[7]=3\n",
      "arr[8]=2\n",
      "arr[9]=4\n",
      "오름차순으로 정렬하였습니다\n",
      "arr[0]=-6\n",
      "arr[1]=1\n",
      "arr[2]=2\n",
      "arr[3]=3\n",
      "arr[4]=4\n",
      "arr[5]=4\n",
      "arr[6]=4\n",
      "arr[7]=5\n",
      "arr[8]=5\n",
      "arr[9]=7\n"
     ]
    }
   ],
   "source": [
    "#버블 정렬 알고리즘 구현하기\n",
    "def bubble_sort(arr):\n",
    "    n= len(arr)\n",
    "    for i in range(n-1):\n",
    "        for j in range(n-1,i,-1):\n",
    "            if arr[j-1]> arr[j]:\n",
    "                arr[j-1],arr[j]=arr[j],arr[j-1]\n",
    "\n",
    "\n",
    "#배열 입력받기\n",
    "num= int(input('배열의 크기를 입력해주세요'))\n",
    "arr=[]\n",
    "for i in range(num):\n",
    "    arr.append(int(input(f'{i}번째 원소를 입력해주세요:')))\n",
    "\n",
    "print('기존의 배열은 다음과 같습니다')\n",
    "for i in range(num):\n",
    "    print(f'arr[{i}]={arr[i]}')\n",
    "\n",
    "bubble_sort(arr)\n",
    "print('오름차순으로 정렬하였습니다')\n",
    "for i in range(num):\n",
    "    print(f'arr[{i}]={arr[i]}')"
   ],
   "metadata": {
    "collapsed": false,
    "pycharm": {
     "name": "#%%\n"
    }
   }
  },
  {
   "cell_type": "markdown",
   "source": [],
   "metadata": {
    "collapsed": false,
    "pycharm": {
     "name": "#%% md\n"
    }
   }
  },
  {
   "cell_type": "code",
   "execution_count": 79,
   "outputs": [
    {
     "name": "stdout",
     "output_type": "stream",
     "text": [
      "⬜ ⬛ ⬛ ⬛ ⬛ ⬛ ⬛ ⬛ ⬛ ⬛ \n",
      "⬜ ⬜ ⬛ ⬛ ⬛ ⬛ ⬛ ⬛ ⬛ ⬛ \n",
      "⬜ ⬜ ⬜ ⬛ ⬛ ⬛ ⬛ ⬛ ⬛ ⬛ \n",
      "⬜ ⬜ ⬜ ⬜ ⬛ ⬛ ⬛ ⬛ ⬛ ⬛ \n",
      "⬜ ⬜ ⬜ ⬜ ⬜ ⬛ ⬛ ⬛ ⬛ ⬛ \n",
      "⬜ ⬜ ⬜ ⬜ ⬜ ⬜ ⬛ ⬛ ⬛ ⬛ \n",
      "⬜ ⬜ ⬜ ⬜ ⬜ ⬜ ⬜ ⬛ ⬛ ⬛ \n",
      "⬜ ⬜ ⬜ ⬜ ⬜ ⬜ ⬜ ⬜ ⬛ ⬛ \n",
      "⬜ ⬜ ⬜ ⬜ ⬜ ⬜ ⬜ ⬜ ⬜ ⬛ \n"
     ]
    }
   ],
   "source": [
    "#버블 정렬 알고리즘 구현하기\n",
    "arr= [None]*10\n",
    "def bubble_for_range(arr):\n",
    "    n= len(arr)\n",
    "    for i in range(n-1):\n",
    "        for j in range(0,i+1):\n",
    "            print('⬜', end=' ')\n",
    "        for j in range(n-1,i,-1):\n",
    "            print('⬛', end=' ')\n",
    "        print('')\n",
    "\n",
    "bubble_for_range(arr)"
   ],
   "metadata": {
    "collapsed": false,
    "pycharm": {
     "name": "#%%\n"
    }
   }
  },
  {
   "cell_type": "code",
   "execution_count": 80,
   "outputs": [
    {
     "ename": "ValueError",
     "evalue": "invalid literal for int() with base 10: ''",
     "output_type": "error",
     "traceback": [
      "\u001B[1;31m---------------------------------------------------------------------------\u001B[0m",
      "\u001B[1;31mValueError\u001B[0m                                Traceback (most recent call last)",
      "\u001B[1;32m<ipython-input-80-7a48d2891299>\u001B[0m in \u001B[0;36m<module>\u001B[1;34m\u001B[0m\n\u001B[0;32m     26\u001B[0m \u001B[1;33m\u001B[0m\u001B[0m\n\u001B[0;32m     27\u001B[0m \u001B[1;31m#배열 입력받기\u001B[0m\u001B[1;33m\u001B[0m\u001B[1;33m\u001B[0m\u001B[1;33m\u001B[0m\u001B[0m\n\u001B[1;32m---> 28\u001B[1;33m \u001B[0mnum\u001B[0m\u001B[1;33m=\u001B[0m \u001B[0mint\u001B[0m\u001B[1;33m(\u001B[0m\u001B[0minput\u001B[0m\u001B[1;33m(\u001B[0m\u001B[1;34m'배열의 크기를 입력해주세요'\u001B[0m\u001B[1;33m)\u001B[0m\u001B[1;33m)\u001B[0m\u001B[1;33m\u001B[0m\u001B[1;33m\u001B[0m\u001B[0m\n\u001B[0m\u001B[0;32m     29\u001B[0m \u001B[0marr\u001B[0m\u001B[1;33m=\u001B[0m\u001B[1;33m[\u001B[0m\u001B[1;33m]\u001B[0m\u001B[1;33m\u001B[0m\u001B[1;33m\u001B[0m\u001B[0m\n\u001B[0;32m     30\u001B[0m \u001B[1;32mfor\u001B[0m \u001B[0mi\u001B[0m \u001B[1;32min\u001B[0m \u001B[0mrange\u001B[0m\u001B[1;33m(\u001B[0m\u001B[0mnum\u001B[0m\u001B[1;33m)\u001B[0m\u001B[1;33m:\u001B[0m\u001B[1;33m\u001B[0m\u001B[1;33m\u001B[0m\u001B[0m\n",
      "\u001B[1;31mValueError\u001B[0m: invalid literal for int() with base 10: ''"
     ]
    }
   ],
   "source": [
    "def bubble_sort_verbose(arr):\n",
    "    compare_cnt= 0\n",
    "    switch_cnt=0\n",
    "    n=len(arr)\n",
    "\n",
    "    for i in range(n-1):\n",
    "        print(f'패스{i+1}')\n",
    "        for j in range(n-1,i,-1):\n",
    "            for m in range(0,n-1):\n",
    "\n",
    "                print(f'{arr[m]:2}',end=' ')\n",
    "\n",
    "            print(f'{arr[n-1]:2}')\n",
    "            compare_cnt= compare_cnt+1\n",
    "\n",
    "            if arr[j-1]>arr[j]:\n",
    "                switch_cnt=switch_cnt+1\n",
    "                arr[j-1], arr[j]= arr[j],arr[j-1]\n",
    "\n",
    "        for m in range(0,n-1):\n",
    "            print(f'{arr[m]:2}',end=' ')\n",
    "        print(f'{arr[n-1]:2}')\n",
    "\n",
    "    print(f'비교를 {compare_cnt}번 했습니다')\n",
    "    print(f'교환을 {switch_cnt}번 했습니다')\n",
    "\n",
    "#배열 입력받기\n",
    "num= int(input('배열의 크기를 입력해주세요'))\n",
    "arr=[]\n",
    "for i in range(num):\n",
    "    arr.append(int(input(f'{i}번째 원소를 입력해주세요:')))\n",
    "\n",
    "print('기존의 배열은 다음과 같습니다')\n",
    "for i in range(num):\n",
    "    print(f'arr[{i}]={arr[i]}')\n",
    "\n",
    "bubble_sort_verbose(arr)\n",
    "# print('오름차순으로 정렬하였습니다')\n",
    "# for i in range(num):\n",
    "#     print(f'arr[{i}]={arr[i]}')"
   ],
   "metadata": {
    "collapsed": false,
    "pycharm": {
     "name": "#%%\n"
    }
   }
  },
  {
   "cell_type": "code",
   "execution_count": null,
   "outputs": [],
   "source": [
    "def bubble_sort_upg1(arr):\n",
    "    n= len(arr)\n",
    "    for i in range(n-1):\n",
    "        exchange=0\n",
    "        for j in range(n-1,i,-1):\n",
    "            if arr[j-1]>arr[j]:\n",
    "                arr[j-1],arr[j]=arr[j],arr[j-1]\n",
    "                exchange= exchange+1\n",
    "\n",
    "        if exchange ==0:\n",
    "            break\n",
    "\n",
    "#배열 입력받기\n",
    "num= int(input('배열의 크기를 입력해주세요'))\n",
    "arr=[]\n",
    "for i in range(num):\n",
    "    arr.append(int(input(f'{i}번째 원소를 입력해주세요:')))\n",
    "\n",
    "print('기존의 배열은 다음과 같습니다')\n",
    "for i in range(num):\n",
    "    print(f'arr[{i}]={arr[i]}')\n",
    "\n",
    "bubble_sort_upg1(arr)\n",
    "print('오름차순으로 정렬하였습니다')\n",
    "for i in range(num):\n",
    "    print(f'arr[{i}]={arr[i]}')"
   ],
   "metadata": {
    "collapsed": false,
    "pycharm": {
     "name": "#%%\n"
    }
   }
  },
  {
   "cell_type": "code",
   "execution_count": null,
   "outputs": [],
   "source": [
    "def bubble_sort_upg2(arr):\n",
    "    n= len(arr)\n",
    "    k=0\n",
    "    while k< n-1:\n",
    "        last = n-1\n",
    "        for j in range(n-1,k,-1):\n",
    "            if arr[j-1]>arr[j]:\n",
    "                arr[j-1],arr[j]= arr[j], arr[j-1]\n",
    "                last=j\n",
    "        k= last\n",
    "\n",
    "#배열 입력받기\n",
    "num= int(input('배열의 크기를 입력해주세요'))\n",
    "arr=[]\n",
    "for i in range(num):\n",
    "    arr.append(int(input(f'{i}번째 원소를 입력해주세요:')))\n",
    "\n",
    "print('기존의 배열은 다음과 같습니다')\n",
    "for i in range(num):\n",
    "    print(f'arr[{i}]={arr[i]}')\n",
    "\n",
    "bubble_sort_upg2(arr)\n",
    "print('오름차순으로 정렬하였습니다')\n",
    "for i in range(num):\n",
    "    print(f'arr[{i}]={arr[i]}')"
   ],
   "metadata": {
    "collapsed": false,
    "pycharm": {
     "name": "#%%\n"
    }
   }
  },
  {
   "cell_type": "code",
   "execution_count": null,
   "outputs": [],
   "source": [
    "def shacker_sort(arr):\n",
    "    left=0\n",
    "    right= len(arr)-1\n",
    "    last=right\n",
    "    while left<right:\n",
    "\n",
    "        for j in range(right,left,-1):\n",
    "            if arr[j-1]>arr[j]:\n",
    "                arr[j-1],arr[j]=arr[j],arr[j-1]\n",
    "                last=j\n",
    "            left= last\n",
    "\n",
    "        for j in range(left,right):\n",
    "            if arr[j]>arr[j+1]:\n",
    "                arr[j],arr[j+1]=arr[j+1],arr[j]\n",
    "                last=j\n",
    "            right= last\n",
    "\n",
    "#배열 입력받기\n",
    "num= int(input('배열의 크기를 입력해주세요'))\n",
    "arr=[]\n",
    "for i in range(num):\n",
    "    arr.append(int(input(f'{i}번째 원소를 입력해주세요:')))\n",
    "\n",
    "print('기존의 배열은 다음과 같습니다')\n",
    "for i in range(num):\n",
    "    print(f'arr[{i}]={arr[i]}')\n",
    "\n",
    "shacker_sort(arr)\n",
    "print('오름차순으로 정렬하였습니다')\n",
    "for i in range(num):\n",
    "    print(f'arr[{i}]={arr[i]}')"
   ],
   "metadata": {
    "collapsed": false,
    "pycharm": {
     "name": "#%%\n"
    }
   }
  },
  {
   "cell_type": "code",
   "execution_count": null,
   "outputs": [],
   "source": [
    "def selection_sort(arr):\n",
    "    n= len(arr)\n",
    "    for i in range(n-1):\n",
    "        idx_smallest =i\n",
    "        for j in range(i+1,n):\n",
    "            if arr[j] < arr[idx_smallest]:\n",
    "                idx_smallest= j\n",
    "        arr[i],arr[idx_smallest]= arr[idx_smallest],arr[i]\n",
    "\n",
    "\n",
    "#배열 입력받기\n",
    "num= int(input('배열의 크기를 입력해주세요'))\n",
    "arr=[]\n",
    "for i in range(num):\n",
    "    arr.append(int(input(f'{i}번째 원소를 입력해주세요:')))\n",
    "\n",
    "print('기존의 배열은 다음과 같습니다')\n",
    "for i in range(num):\n",
    "    print(f'arr[{i}]={arr[i]}')\n",
    "\n",
    "selection_sort(arr)\n",
    "print('오름차순으로 정렬하였습니다')\n",
    "for i in range(num):\n",
    "    print(f'arr[{i}]={arr[i]}')"
   ],
   "metadata": {
    "collapsed": false,
    "pycharm": {
     "name": "#%%\n"
    }
   }
  },
  {
   "cell_type": "code",
   "execution_count": null,
   "outputs": [],
   "source": [
    "def insertion_sort(arr):\n",
    "    n=len(arr)\n",
    "    for i in range(1,n):\n",
    "        head= arr[i]\n",
    "        j=i\n",
    "        while j>0 and arr[j-1]> head:\n",
    "            arr[j]= arr[j-1]\n",
    "            j= j-1\n",
    "        arr[j] = head\n",
    "\n",
    "#배열 입력받기\n",
    "num= int(input('배열의 크기를 입력해주세요'))\n",
    "arr=[]\n",
    "for i in range(num):\n",
    "    arr.append(int(input(f'{i}번째 원소를 입력해주세요:')))\n",
    "\n",
    "print('기존의 배열은 다음과 같습니다')\n",
    "for i in range(num):\n",
    "    print(f'arr[{i}]={arr[i]}')\n",
    "\n",
    "insertion_sort(arr)\n",
    "print('오름차순으로 정렬하였습니다')\n",
    "for i in range(num):\n",
    "    print(f'arr[{i}]={arr[i]}')"
   ],
   "metadata": {
    "collapsed": false,
    "pycharm": {
     "name": "#%%\n"
    }
   }
  },
  {
   "cell_type": "code",
   "execution_count": null,
   "outputs": [],
   "source": [
    "def binary_insertion(arr):\n",
    "    n= len(arr)\n",
    "    for i in range(1,n):\n",
    "        head= arr[i]\n",
    "        pl=0\n",
    "        pr=i-1\n",
    "\n",
    "        while True:\n",
    "            pc= (pl+pr) //2\n",
    "            if arr[pc] == head:\n",
    "                break\n",
    "            elif arr[pc] < head:\n",
    "                pl= pc +1\n",
    "            else:\n",
    "                pr= pc -1\n",
    "            if pl> pr  :\n",
    "                break\n",
    "\n",
    "        # if pl <= pr  :\n",
    "        #     arr_head= pc+1\n",
    "        # else:\n",
    "        #     arr_head= pr +1\n",
    "        arr_head= pr+1\n",
    "\n",
    "        for j in range(i,arr_head,-1):\n",
    "            arr[j] =arr[j-1]\n",
    "        arr[arr_head] = head\n",
    "\n",
    "\n",
    "#배열 입력받기\n",
    "num= int(input('배열의 크기를 입력해주세요'))\n",
    "arr=[]\n",
    "for i in range(num):\n",
    "    arr.append(int(input(f'{i}번째 원소를 입력해주세요:')))\n",
    "\n",
    "print('기존의 배열은 다음과 같습니다')\n",
    "for i in range(num):\n",
    "    print(f'arr[{i}]={arr[i]}')\n",
    "\n",
    "binary_insertion(arr)\n",
    "print('오름차순으로 정렬하였습니다')\n",
    "for i in range(num):\n",
    "    print(f'arr[{i}]={arr[i]}')"
   ],
   "metadata": {
    "collapsed": false,
    "pycharm": {
     "name": "#%%\n"
    }
   }
  },
  {
   "cell_type": "code",
   "execution_count": null,
   "outputs": [],
   "source": [
    "def shell_sort(arr):\n",
    "    n= len(arr)\n",
    "    gap= n//2\n",
    "    while gap>0:\n",
    "        for i in range(gap,n):\n",
    "            j= i - gap\n",
    "            tmp= arr[i]\n",
    "            while j>=0 and arr[j] >tmp:\n",
    "                arr[j+gap] =arr[j]\n",
    "                j=j-gap\n",
    "            arr[j+gap]= tmp\n",
    "        gap= gap//2\n",
    "\n",
    "\n",
    "\n",
    "\n",
    "#배열 입력받기\n",
    "num= int(input('배열의 크기를 입력해주세요'))\n",
    "arr=[]\n",
    "for i in range(num):\n",
    "    arr.append(int(input(f'{i}번째 원소를 입력해주세요:')))\n",
    "\n",
    "print('기존의 배열은 다음과 같습니다')\n",
    "for i in range(num):\n",
    "    print(f'arr[{i}]={arr[i]}')\n",
    "\n",
    "shell_sort(arr)\n",
    "print('오름차순으로 정렬하였습니다')\n",
    "for i in range(num):\n",
    "    print(f'arr[{i}]={arr[i]}')"
   ],
   "metadata": {
    "collapsed": false,
    "pycharm": {
     "name": "#%%\n"
    }
   }
  },
  {
   "cell_type": "code",
   "execution_count": null,
   "outputs": [],
   "source": [
    "def shell_sort_upg(arr):\n",
    "    n=len(arr)\n",
    "    gap=1\n",
    "\n",
    "    while gap< n:\n",
    "        gap= 3*gap +1\n",
    "\n",
    "    while gap>0:\n",
    "        for i in range(gap,n):\n",
    "            j= i-gap\n",
    "            tmp=arr[i]\n",
    "            while j>=0 and arr[j]>tmp:\n",
    "                arr[j+gap]= arr[j]\n",
    "                j=j-gap\n",
    "            arr[j+gap]= tmp\n",
    "        h= h//3\n",
    "\n",
    "\n",
    "#배열 입력받기\n",
    "num= int(input('배열의 크기를 입력해주세요'))\n",
    "arr=[]\n",
    "for i in range(num):\n",
    "    arr.append(int(input(f'{i}번째 원소를 입력해주세요:')))\n",
    "\n",
    "print('기존의 배열은 다음과 같습니다')\n",
    "for i in range(num):\n",
    "    print(f'arr[{i}]={arr[i]}')\n",
    "\n",
    "shell_sort(arr)\n",
    "print('오름차순으로 정렬하였습니다')\n",
    "for i in range(num):\n",
    "    print(f'arr[{i}]={arr[i]}')"
   ],
   "metadata": {
    "collapsed": false,
    "pycharm": {
     "name": "#%%\n"
    }
   }
  },
  {
   "cell_type": "code",
   "execution_count": null,
   "outputs": [],
   "source": [
    "def partition(arr):\n",
    "    n= len(arr)\n",
    "    pl=0\n",
    "    pr=n-1\n",
    "    pivot= arr[n//2]\n",
    "    while pl<=pr:\n",
    "        while arr[pl]< pivot:\n",
    "            pl=pl+1\n",
    "        while arr[pr]> pivot:\n",
    "            pr=pr-1\n",
    "        if pl<=pr:\n",
    "            arr[pl],arr[pr]= arr[pr],arr[pl]\n",
    "            pl=pl+1\n",
    "            pr=pr-1\n",
    "\n",
    "    print(f'피벗은 {pivot}입니다')\n",
    "\n",
    "    print(f'피벗 이하인 그룹은 {arr[0:pl]}입니다')\n",
    "    print(f'피벗 이상인 그룹입니다.{arr[pr+1:n]}')\n",
    "    if pl>pr+1:\n",
    "        print(f'피벗과 일치하는 그룹입니다 {arr[pr+1:pl]}')\n",
    "    # pl=pr=pivot_idx 인 경우엔 다음 루프에서 pr는 한칸 왼쪽, pl는 한칸 오른쪽으로\n",
    "    # 이동해서 2칸의 거리가 생긴다\n",
    "    # 그외의 상태에선 pr과 pl이 서로 맞대어 있다가 다음 루프에서 위치가 서로 교환한다\n",
    "\n",
    "\n",
    "#배열 입력받기\n",
    "num= int(input('배열의 크기를 입력해주세요'))\n",
    "arr=[]\n",
    "for i in range(num):\n",
    "    arr.append(int(input(f'{i}번째 원소를 입력해주세요:')))\n",
    "\n",
    "print('기존의 배열은 다음과 같습니다')\n",
    "for i in range(num):\n",
    "    print(f'arr[{i}]={arr[i]}')\n",
    "\n",
    "partition(arr)\n",
    "# print('오름차순으로 정렬하였습니다')\n",
    "# for i in range(num):\n",
    "#     print(f'arr[{i}]={arr[i]}')\n"
   ],
   "metadata": {
    "collapsed": false,
    "pycharm": {
     "name": "#%%\n"
    }
   }
  },
  {
   "cell_type": "code",
   "execution_count": 3,
   "outputs": [
    {
     "name": "stdout",
     "output_type": "stream",
     "text": [
      "기존의 배열은 다음과 같습니다\n",
      "arr[0]=10\n",
      "arr[1]=-12\n",
      "arr[2]=7\n",
      "arr[3]=-5\n",
      "arr[4]=24\n",
      "arr[5]=66\n",
      "arr[6]=9\n",
      "오름차순으로 정렬하였습니다\n",
      "arr[0]=-12\n",
      "arr[1]=-5\n",
      "arr[2]=7\n",
      "arr[3]=9\n",
      "arr[4]=10\n",
      "arr[5]=24\n",
      "arr[6]=66\n"
     ]
    }
   ],
   "source": [
    "def qsort(arr,left_idx,right_idx):\n",
    "    pl= left_idx\n",
    "    pr= right_idx\n",
    "    pivot=arr[(left_idx+right_idx)//2]\n",
    "\n",
    "    while pl<= pr:\n",
    "        while arr[pl]<pivot:\n",
    "            pl= pl+1\n",
    "        while arr[pr]> pivot:\n",
    "            pr= pr-1\n",
    "        if pl<=pr:\n",
    "            arr[pl], arr[pr] = arr[pr],arr[pl]\n",
    "            pl=pl+1\n",
    "            pr= pr-1\n",
    "\n",
    "    if left_idx <pr:\n",
    "        qsort(arr,left_idx,pr)\n",
    "    if pl< right_idx:\n",
    "        qsort(arr,pl,right_idx)\n",
    "\n",
    "def quick_sort(arr):\n",
    "    qsort(arr,0,len(arr)-1)\n",
    "\n",
    "\n",
    "#배열 입력받기\n",
    "num= int(input('배열의 크기를 입력해주세요'))\n",
    "arr=[]\n",
    "for i in range(num):\n",
    "    arr.append(int(input(f'{i}번째 원소를 입력해주세요:')))\n",
    "\n",
    "print('기존의 배열은 다음과 같습니다')\n",
    "for i in range(num):\n",
    "    print(f'arr[{i}]={arr[i]}')\n",
    "\n",
    "quick_sort(arr)\n",
    "print('오름차순으로 정렬하였습니다')\n",
    "for i in range(num):\n",
    "    print(f'arr[{i}]={arr[i]}')"
   ],
   "metadata": {
    "collapsed": false,
    "pycharm": {
     "name": "#%%\n"
    }
   }
  },
  {
   "cell_type": "code",
   "execution_count": 17,
   "outputs": [
    {
     "name": "stdout",
     "output_type": "stream",
     "text": [
      "기존의 배열은 다음과 같습니다\n",
      "arr[0]=-12\n",
      "arr[1]=24\n",
      "arr[2]=36\n",
      "arr[3]=47\n",
      "arr[4]=-14\n",
      "arr[5]=36\n",
      "arr[6]=-24\n",
      "arr[7]=56\n",
      "arr[8]=47\n",
      "arr[9]=150\n",
      "arr[0]~ arr[9]: -12 24 36 47 -14 36 -24 56 47 150\n",
      "arr[0]~ arr[1]: -24 -14\n",
      "arr[2]~ arr[9]: 36 47 24 36 -12 56 47 150\n",
      "arr[2]~ arr[4]: -12 36 24\n",
      "arr[2]~ arr[3]: -12 24\n",
      "arr[5]~ arr[9]: 47 36 56 47 150\n",
      "arr[5]~ arr[7]: 47 36 47\n",
      "arr[6]~ arr[7]: 47 47\n",
      "arr[8]~ arr[9]: 56 150\n",
      "오름차순으로 정렬하였습니다\n",
      "arr[0]=-24\n",
      "arr[1]=-14\n",
      "arr[2]=-12\n",
      "arr[3]=24\n",
      "arr[4]=36\n",
      "arr[5]=36\n",
      "arr[6]=47\n",
      "arr[7]=47\n",
      "arr[8]=56\n",
      "arr[9]=150\n"
     ]
    }
   ],
   "source": [
    "def qsort2(arr,left_idx,right_idx):\n",
    "    pl= left_idx\n",
    "    pr= right_idx\n",
    "    pivot= arr[(left_idx + right_idx)//2]\n",
    "    #추가된 부분\n",
    "    print(f'arr[{left_idx}]~ arr[{right_idx}]:', *arr[left_idx:right_idx+1] )\n",
    "\n",
    "    while pl<= pr:\n",
    "        while arr[pl]<pivot:\n",
    "            pl= pl+1\n",
    "        while arr[pr]> pivot:\n",
    "            pr= pr-1\n",
    "        if pl<=pr:\n",
    "            arr[pl], arr[pr] = arr[pr],arr[pl]\n",
    "            pl=pl+1\n",
    "            pr= pr-1\n",
    "\n",
    "    if left_idx <pr:\n",
    "        qsort2(arr,left_idx,pr)\n",
    "    if pl< right_idx:\n",
    "        qsort2(arr,pl,right_idx)\n",
    "\n",
    "def quick_sort2(arr):\n",
    "    qsort2(arr,0,len(arr)-1)\n",
    "\n",
    "\n",
    "\n",
    "#배열 입력받기\n",
    "num= int(input('배열의 크기를 입력해주세요'))\n",
    "arr=[]\n",
    "for i in range(num):\n",
    "    arr.append(int(input(f'{i}번째 원소를 입력해주세요:')))\n",
    "\n",
    "print('기존의 배열은 다음과 같습니다')\n",
    "for i in range(num):\n",
    "    print(f'arr[{i}]={arr[i]}')\n",
    "\n",
    "quick_sort2(arr)\n",
    "print('오름차순으로 정렬하였습니다')\n",
    "for i in range(num):\n",
    "    print(f'arr[{i}]={arr[i]}')"
   ],
   "metadata": {
    "collapsed": false,
    "pycharm": {
     "name": "#%%\n"
    }
   }
  },
  {
   "cell_type": "code",
   "execution_count": 5,
   "outputs": [
    {
     "name": "stdout",
     "output_type": "stream",
     "text": [
      "기존의 배열은 다음과 같습니다\n",
      "arr[0]=10\n",
      "arr[1]=-7\n",
      "arr[2]=3\n",
      "arr[3]=4\n",
      "arr[4]=5\n",
      "팝한 데이터는(0, 4)입니다\n",
      "팝한 데이터는(2, 4)입니다\n",
      "팝한 데이터는(3, 4)입니다\n",
      "팝한 데이터는(0, 1)입니다\n",
      "오름차순으로 정렬하였습니다\n",
      "arr[0]=-7\n",
      "arr[1]=3\n",
      "arr[2]=4\n",
      "arr[3]=5\n",
      "arr[4]=10\n"
     ]
    }
   ],
   "source": [
    "from stack import Stack\n",
    "\n",
    "def qsort3(arr,left_idx,right_idx):\n",
    "    arr_range =Stack(right_idx-left_idx+1)\n",
    "    arr_range.push((left_idx,right_idx)) # 1*2튜플 형태로 넣어놈\n",
    "\n",
    "    while not arr_range.is_empty():\n",
    "        pl,pr= left_idx,right_idx= arr_range.pop()\n",
    "        pivot=arr[(left_idx+right_idx)//2]\n",
    "\n",
    "        while pl <= pr:\n",
    "            while arr[pl]<pivot:\n",
    "                pl=pl+1\n",
    "            while arr[pr]>pivot:\n",
    "                pr=pr-1\n",
    "            if pl<= pr:\n",
    "                arr[pl], arr[pr]= arr[pr],arr[pl]\n",
    "                pl=pl+1\n",
    "                pr=pr-1\n",
    "\n",
    "        if left_idx <pr:\n",
    "            arr_range.push((left_idx,pr))\n",
    "        if pl<right_idx:\n",
    "            arr_range.push((pl,right_idx))\n",
    "\n",
    "def quick_sort3(arr):\n",
    "    qsort3(arr,0,len(arr)-1)\n",
    "\n",
    "#배열 입력받기\n",
    "num= int(input('배열의 크기를 입력해주세요'))\n",
    "arr=[]\n",
    "for i in range(num):\n",
    "    arr.append(int(input(f'{i}번째 원소를 입력해주세요:')))\n",
    "\n",
    "print('기존의 배열은 다음과 같습니다')\n",
    "for i in range(num):\n",
    "    print(f'arr[{i}]={arr[i]}')\n",
    "\n",
    "quick_sort3(arr)\n",
    "print('오름차순으로 정렬하였습니다')\n",
    "for i in range(num):\n",
    "    print(f'arr[{i}]={arr[i]}')"
   ],
   "metadata": {
    "collapsed": false,
    "pycharm": {
     "name": "#%%\n"
    }
   }
  },
  {
   "cell_type": "code",
   "execution_count": 5,
   "outputs": [
    {
     "name": "stdout",
     "output_type": "stream",
     "text": [
      "[1, 2, 2, 3, 4, 4, 6, 8, 9, 11, 13, 16, 21]\n"
     ]
    }
   ],
   "source": [
    "def merge_sorted_list(arr1,arr2): # arr3:mutable array\n",
    "    arr3= [None]*(len(arr1)+len(arr2))\n",
    "    p1,p2,p3=0,0,0\n",
    "    num1,num2,num3= len(arr1),len(arr2),len(arr3)\n",
    "\n",
    "    while p1<num1 and p2<num2:\n",
    "        if arr1[p1] <= arr2[p2]:\n",
    "            arr3[p3]= arr1[p1]\n",
    "            p1=p1+1\n",
    "        else:\n",
    "            arr3[p3]=arr2[p2]\n",
    "            p2=p2+1\n",
    "        p3=p3+1\n",
    "\n",
    "    while p1<num1:\n",
    "        arr3[p3]= arr1[p1]\n",
    "        p1=p1+1\n",
    "        p3=p3+1\n",
    "\n",
    "    while p2<num2:\n",
    "        arr3[p3]= arr2[p2]\n",
    "        p2=p2+1\n",
    "        p3=p3+1\n",
    "\n",
    "    return arr3\n",
    "\n",
    "arr1=[2,4,6,8,11,13]\n",
    "arr2=[1,2,3,4,9,16,21]\n",
    "arr3=merge_sorted_list(arr1,arr2)\n",
    "print(arr3)"
   ],
   "metadata": {
    "collapsed": false,
    "pycharm": {
     "name": "#%%\n"
    }
   }
  },
  {
   "cell_type": "code",
   "execution_count": 11,
   "outputs": [
    {
     "name": "stdout",
     "output_type": "stream",
     "text": [
      "기존의 배열은 다음과 같습니다\n",
      "arr[0]=10\n",
      "arr[1]=-3\n",
      "arr[2]=12\n",
      "arr[3]=-7\n",
      "arr[4]=5\n",
      "오름차순으로 정렬하였습니다\n",
      "arr[0]=-7\n",
      "arr[1]=-3\n",
      "arr[2]=5\n",
      "arr[3]=10\n",
      "arr[4]=12\n"
     ]
    }
   ],
   "source": [
    "def merge_sort(arr):\n",
    "    #merge_sort의 parameter가 하나인데서 알 수 있듯\n",
    "    #left_idx=0, right_idx=n-1로 정해져있음\n",
    "    def in_merge_sort(arr,left_idx,right_idx):\n",
    "        if left_idx<right_idx:\n",
    "            center_idx= (left_idx+right_idx)//2\n",
    "\n",
    "            #배열의 앞부분과 뒷부분을 쪼개어 병합 병렬\n",
    "            in_merge_sort(arr,left_idx,center_idx)\n",
    "            in_merge_sort(arr,center_idx+1,right_idx)\n",
    "\n",
    "            #앞부분과 뒷부분 병합하기\n",
    "            #in_merge_sort(arr,0,n-1)이기에 p1,p2,p3,p4=0\n",
    "            p1=p2=0\n",
    "            p3=p4=left_idx\n",
    "\n",
    "            #배열의 앞부분(left_idx~center_idx를 복사하기)\n",
    "            # temp=arr[0:center_idx+1]\n",
    "            while p4 <= center_idx:\n",
    "                temp[p2]=arr[p4]\n",
    "                p2=p2+1\n",
    "                p4=p4+1\n",
    "\n",
    "            #배열의 뒷부분(temp[center_idx+1:right_idx+1])와\n",
    "            # temp로 복사한 배열 앞부분 (temp=arr[0:center_idx+1])\n",
    "            #병합한 결과를 배열 arr에 저장한다\n",
    "            while p4<= right_idx and p1<p2:\n",
    "                if temp[p1] <= arr[p4]:\n",
    "                    arr[p3]=temp[p1]\n",
    "                    p1=p1+1\n",
    "                else:\n",
    "                    arr[p3]=arr[p4]\n",
    "                    p4=p4+1\n",
    "                p3=p3+1\n",
    "\n",
    "            #temp에 남아있는 원소를 배열 arr에 복사한다\n",
    "            while p1<p2:\n",
    "                arr[p3] = temp[p1]\n",
    "                p3=p3+1\n",
    "                p1=p1+1\n",
    "\n",
    "    n= len(arr)\n",
    "    temp=[None]* n\n",
    "    in_merge_sort(arr,0,n-1)\n",
    "    del temp\n",
    "\n",
    "\n",
    "#배열 입력받기\n",
    "num= int(input('배열의 크기를 입력해주세요'))\n",
    "arr=[]\n",
    "for i in range(num):\n",
    "    arr.append(int(input(f'{i}번째 원소를 입력해주세요:')))\n",
    "\n",
    "print('기존의 배열은 다음과 같습니다')\n",
    "for i in range(num):\n",
    "    print(f'arr[{i}]={arr[i]}')\n",
    "\n",
    "merge_sort(arr)\n",
    "print('오름차순으로 정렬하였습니다')\n",
    "for i in range(num):\n",
    "    print(f'arr[{i}]={arr[i]}')"
   ],
   "metadata": {
    "collapsed": false,
    "pycharm": {
     "name": "#%%\n"
    }
   }
  },
  {
   "cell_type": "code",
   "execution_count": 3,
   "outputs": [
    {
     "name": "stdout",
     "output_type": "stream",
     "text": [
      "기존의 배열은 다음과 같습니다\n",
      "arr[0]=10\n",
      "arr[1]=-3\n",
      "arr[2]=6\n",
      "arr[3]=-12\n",
      "arr[4]=4\n",
      "arr[5]=8\n",
      "arr[6]=5\n",
      "오름차순으로 정렬하였습니다\n",
      "arr[0]=-12\n",
      "arr[1]=-3\n",
      "arr[2]=4\n",
      "arr[3]=5\n",
      "arr[4]=6\n",
      "arr[5]=8\n",
      "arr[6]=10\n"
     ]
    }
   ],
   "source": [
    "\n",
    "# 힙 정렬\n",
    "def heap_sort(arr):\n",
    "    # arr[left]~ arr[right]를 힙으로 만들기\n",
    "    # left가 node, right가 leaf에서 오른쪽 끝이 된다\n",
    "    def down_heap(arr,left,right):\n",
    "        arr_root = arr[left]\n",
    "        parent= left\n",
    "\n",
    "        #right_parent == (right-1)//2(right_parent:우경계 원소값의 부모)\n",
    "        #while문은 일반적 배열을 heap 구조로 바꾸는 역할을 한다\n",
    "        while parent <(right+1)//2:\n",
    "            child_left = parent*2 +1\n",
    "            child_right= child_left+1\n",
    "            if child_right <= right and arr[child_right]>arr[child_left]:\n",
    "               child=child_right\n",
    "            else:\n",
    "               child= child_left\n",
    "\n",
    "            if arr_root>=arr[child]:\n",
    "                break\n",
    "            arr[parent]=arr[child]\n",
    "            parent=child\n",
    "        arr[parent]= arr_root\n",
    "\n",
    "    n= len(arr)\n",
    "\n",
    "    #arr[i]~arr[n-1]을 힙으로 만들기\n",
    "    for i in range((n-1)//2,-1,-1):\n",
    "        down_heap(arr,i,n-1)\n",
    "\n",
    "    #최댓값이 arr[0]와 마지막 원소를 교환\n",
    "    #arr[0]와 arr[i-1]을 힙으로 만들기\n",
    "    for i in range(n-1,0,-1):\n",
    "        arr[0],arr[i]=arr[i],arr[0]\n",
    "        down_heap(arr,0,i-1)\n",
    "\n",
    "#배열 입력받기\n",
    "num= int(input('배열의 크기를 입력해주세요'))\n",
    "arr=[]\n",
    "for i in range(num):\n",
    "    arr.append(int(input(f'{i}번째 원소를 입력해주세요:')))\n",
    "\n",
    "print('기존의 배열은 다음과 같습니다')\n",
    "for i in range(num):\n",
    "    print(f'arr[{i}]={arr[i]}')\n",
    "\n",
    "heap_sort(arr)\n",
    "print('오름차순으로 정렬하였습니다')\n",
    "for i in range(num):\n",
    "    print(f'arr[{i}]={arr[i]}')"
   ],
   "metadata": {
    "collapsed": false,
    "pycharm": {
     "name": "#%%\n"
    }
   }
  },
  {
   "cell_type": "code",
   "execution_count": 4,
   "outputs": [
    {
     "name": "stdout",
     "output_type": "stream",
     "text": [
      "기존의 배열은 다음과 같습니다\n",
      "arr[0]=10\n",
      "arr[1]=-7\n",
      "arr[2]=12\n",
      "arr[3]=-4\n",
      "arr[4]=8\n",
      "오름차순으로 정렬하였습니다\n",
      "arr[0]=-7\n",
      "arr[1]=-4\n",
      "arr[2]=8\n",
      "arr[3]=10\n",
      "arr[4]=12\n"
     ]
    }
   ],
   "source": [
    "def heap_sort(unsorted):\n",
    "    n = len(unsorted)\n",
    "    #최대 힙 만들기\n",
    "    #최소힙은 부등호만 반대로 바꿔주면 됨\n",
    "    for i in range(1, n):\n",
    "        child = i\n",
    "        while child != 0:\n",
    "            parent = (child-1)//2\n",
    "            if unsorted[parent] < unsorted[child]:\n",
    "                unsorted[parent], unsorted[child] = unsorted[child], unsorted[parent]\n",
    "            child = parent #최대값이 루트까지 도달 할 수 있도록\n",
    "\n",
    "    #힙 만들기\n",
    "    for node in range(n-1, -1, -1):\n",
    "        #루트 노드와 마지막 노드를 교환\n",
    "        #값이 큰 순서대로 힙의 끝에 저장됨\n",
    "        unsorted[0], unsorted[node] = unsorted[node], unsorted[0]\n",
    "        parent = 0\n",
    "        child = 1\n",
    "\n",
    "        # 정렬이 미완료 된 노드들 사이에서\n",
    "        # 마지막 노드 자리리 보내준 루트 노드를 제외한 가장 큰 값을 찾고\n",
    "        # 루트 노드 자리로 온 마지막 노드의 자리 찾기\n",
    "        while child < node:\n",
    "            child = parent*2 + 1\n",
    "            #마지막 노드 자리로 보낸 루트 노드를 제외한 가장 큰 노드를 찾기 위해\n",
    "            if child < node-1 and unsorted[child] < unsorted[child+1]:\n",
    "                child += 1\n",
    "            #마지막 노드 자리로 보낸 루트 노드를 제외한 가장 큰 노드를 루트 자리로 보내기 위한 과정\n",
    "            if child < node and unsorted[parent] < unsorted[child]:\n",
    "                unsorted[parent], unsorted[child] = unsorted[child], unsorted[parent]\n",
    "\n",
    "            parent = child\n",
    "\n",
    "    return unsorted\n",
    "\n",
    "\n",
    "#배열 입력받기\n",
    "num= int(input('배열의 크기를 입력해주세요'))\n",
    "arr=[]\n",
    "for i in range(num):\n",
    "    arr.append(int(input(f'{i}번째 원소를 입력해주세요:')))\n",
    "\n",
    "print('기존의 배열은 다음과 같습니다')\n",
    "for i in range(num):\n",
    "    print(f'arr[{i}]={arr[i]}')\n",
    "\n",
    "heap_sort(arr)\n",
    "print('오름차순으로 정렬하였습니다')\n",
    "for i in range(num):\n",
    "    print(f'arr[{i}]={arr[i]}')"
   ],
   "metadata": {
    "collapsed": false,
    "pycharm": {
     "name": "#%%\n"
    }
   }
  },
  {
   "cell_type": "code",
   "execution_count": null,
   "outputs": [],
   "source": [],
   "metadata": {
    "collapsed": false,
    "pycharm": {
     "name": "#%%\n"
    }
   }
  }
 ],
 "metadata": {
  "kernelspec": {
   "display_name": "Python 3",
   "language": "python",
   "name": "python3"
  },
  "language_info": {
   "codemirror_mode": {
    "name": "ipython",
    "version": 2
   },
   "file_extension": ".py",
   "mimetype": "text/x-python",
   "name": "python",
   "nbconvert_exporter": "python",
   "pygments_lexer": "ipython2",
   "version": "2.7.6"
  }
 },
 "nbformat": 4,
 "nbformat_minor": 0
}