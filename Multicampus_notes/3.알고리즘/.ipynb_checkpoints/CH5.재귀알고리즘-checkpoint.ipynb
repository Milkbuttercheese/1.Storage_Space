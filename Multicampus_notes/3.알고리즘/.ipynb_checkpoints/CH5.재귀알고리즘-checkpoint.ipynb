{
 "cells": [
  {
   "cell_type": "code",
   "execution_count": 3,
   "id": "e2fd8bb4-a8ab-4635-8e1d-8d1988c9b3cd",
   "metadata": {},
   "outputs": [
    {
     "name": "stdin",
     "output_type": "stream",
     "text": [
      "정수 n을 입력해주세요 n!값을 구하겠습니다 5\n"
     ]
    },
    {
     "name": "stdout",
     "output_type": "stream",
     "text": [
      "5!값은 120입니다\n"
     ]
    }
   ],
   "source": [
    "#1. 팩토리얼\n",
    "def factorial(n):\n",
    "    if n> 0:\n",
    "        return n* factorial(n-1);\n",
    "    else:\n",
    "        return 1\n",
    "    \n",
    "n=int(input('정수 n을 입력해주세요 n!값을 구하겠습니다'))\n",
    "print(f'{n}!값은 {factorial(n)}입니다')\n",
    "        "
   ]
  },
  {
   "cell_type": "code",
   "execution_count": 14,
   "id": "a58987ef-3acd-47db-9561-0571d5edee1b",
   "metadata": {},
   "outputs": [
    {
     "name": "stdout",
     "output_type": "stream",
     "text": [
      "94\n",
      "4231.0\n"
     ]
    }
   ],
   "source": [
    "#2. 최대공약수 함수\n",
    "def GCD(x,y):\n",
    "    if x%y ==0:\n",
    "        return y\n",
    "    else:\n",
    "        return GCD(y,x%y)\n",
    "\n",
    "print(GCD(94,397714))\n",
    "print(397714/94)"
   ]
  },
  {
   "cell_type": "code",
   "execution_count": 16,
   "id": "14ae813b-2acb-4c4c-8076-076b37ac0fbc",
   "metadata": {},
   "outputs": [
    {
     "name": "stdout",
     "output_type": "stream",
     "text": [
      "1\n",
      "2\n",
      "3\n",
      "1\n",
      "4\n",
      "1\n",
      "2\n"
     ]
    }
   ],
   "source": [
    "def recur(n):\n",
    "    if n>0:\n",
    "        recur(n-1)\n",
    "        print(n)\n",
    "        recur(n-2)\n",
    "\n",
    "recur(4)"
   ]
  },
  {
   "cell_type": "code",
   "execution_count": null,
   "id": "a13a052b-5828-4d67-b922-7372158951ad",
   "metadata": {},
   "outputs": [],
   "source": [
    "#재귀 알고리즘의 비재귀적 표현"
   ]
  }
 ],
 "metadata": {
  "kernelspec": {
   "display_name": "Python 3",
   "language": "python",
   "name": "python3"
  },
  "language_info": {
   "codemirror_mode": {
    "name": "ipython",
    "version": 3
   },
   "file_extension": ".py",
   "mimetype": "text/x-python",
   "name": "python",
   "nbconvert_exporter": "python",
   "pygments_lexer": "ipython3",
   "version": "3.8.8"
  }
 },
 "nbformat": 4,
 "nbformat_minor": 5
}
