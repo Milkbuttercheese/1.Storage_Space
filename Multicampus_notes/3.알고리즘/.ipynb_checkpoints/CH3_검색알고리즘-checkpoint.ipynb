{
 "cells": [
  {
   "cell_type": "code",
   "execution_count": null,
   "id": "40cddbdb-5f5a-4dd1-b37e-a26beb287de9",
   "metadata": {},
   "outputs": [],
   "source": [
    "#선형 검색의 알고리즘 형태\n",
    "i=0\n",
    "lst= def_of_lst\n",
    "while True:\n",
    "    if lst[i]== key:\n",
    "        #검색 성공 시의 실행문\n",
    "    if i== len(lst):\n",
    "        #검색 실패시의 실행문"
   ]
  },
  {
   "cell_type": "code",
   "execution_count": 5,
   "id": "dd2bcaa6-5a8f-4074-bcec-5d80f1365689",
   "metadata": {},
   "outputs": [
    {
     "name": "stdin",
     "output_type": "stream",
     "text": [
      "리스트의 길이를 입력해주세요 5\n",
      "리스트의 0번째 원소를 입력해주세요  3\n",
      "리스트의 1번째 원소를 입력해주세요  -2.5\n",
      "리스트의 2번째 원소를 입력해주세요  7\n",
      "리스트의 3번째 원소를 입력해주세요  4\n",
      "리스트의 4번째 원소를 입력해주세요  7\n",
      "찾고자 하는 수를 입력해주세요 -2.5\n"
     ]
    },
    {
     "name": "stdout",
     "output_type": "stream",
     "text": [
      "찾고자 하는 수는 리스트의 1 번째 원소입니다\n"
     ]
    }
   ],
   "source": [
    "#선형 검색 알고리즘을 함수로 짜기\n",
    "def linear_search(lst,key):\n",
    "    n=len(lst)\n",
    "    \n",
    "    for i in range(0,n):\n",
    "        result= '찾고자 하는 수는 리스트에 없습니다'\n",
    "        if lst[i] == key:\n",
    "            result = '찾고자 하는 수는 리스트의 '+str(i)+' 번째 원소입니다'\n",
    "            break\n",
    "    return result\n",
    "\n",
    "n=int(input('리스트의 길이를 입력해주세요'))\n",
    "lst=[]\n",
    "for i in range(0,n):\n",
    "    lst.append(float(input(f'리스트의 {i}번째 원소를 입력해주세요 ')))\n",
    "key= float(input('찾고자 하는 수를 입력해주세요'))\n",
    "\n",
    "print(linear_search(lst,key))"
   ]
  },
  {
   "cell_type": "code",
   "execution_count": 6,
   "id": "4e7b707b-a7b4-4ac7-9bf0-8cca408ffd1b",
   "metadata": {},
   "outputs": [
    {
     "name": "stdout",
     "output_type": "stream",
     "text": [
      "찾고자 하는 수는 리스트의 2 번째 원소입니다\n"
     ]
    }
   ],
   "source": [
    "#선형 검색 알고리즘을 함수로 짜기\n",
    "def linear_search(lst,key):\n",
    "    n=len(lst)\n",
    "    \n",
    "    for i in range(0,n):\n",
    "        result= '찾고자 하는 수는 리스트에 없습니다'\n",
    "        if lst[i] == key:\n",
    "            result = '찾고자 하는 수는 리스트의 '+str(i)+' 번째 원소입니다'\n",
    "            break\n",
    "    return result\n",
    "lst=['DTS','AAC','FLAC']\n",
    "key='FLAC'\n",
    "print(linear_search(lst,key))"
   ]
  },
  {
   "cell_type": "code",
   "execution_count": 24,
   "id": "1eaa7e60-2569-449e-a468-a8002db29bdc",
   "metadata": {},
   "outputs": [
    {
     "name": "stdin",
     "output_type": "stream",
     "text": [
      "리스트의 길이를 입력해주세요 5\n",
      "리스트의 0번째 원소값을 입력해주세요 3\n",
      "리스트의 1번째 원소값을 입력해주세요 9\n",
      "리스트의 2번째 원소값을 입력해주세요 8\n",
      "리스트의 3번째 원소값을 입력해주세요 6\n",
      "리스트의 4번째 원소값을 입력해주세요 5\n",
      "찾고자 하는 원소값을 입력해주세요 7\n"
     ]
    },
    {
     "name": "stdout",
     "output_type": "stream",
     "text": [
      "정렬한 리스트는 [3.0, 5.0, 6.0, 8.0, 9.0] 입니다\n"
     ]
    },
    {
     "ename": "IndexError",
     "evalue": "list index out of range",
     "output_type": "error",
     "traceback": [
      "\u001b[1;31m---------------------------------------------------------------------------\u001b[0m",
      "\u001b[1;31mIndexError\u001b[0m                                Traceback (most recent call last)",
      "\u001b[1;32m<ipython-input-24-b77ae0c66eda>\u001b[0m in \u001b[0;36m<module>\u001b[1;34m\u001b[0m\n\u001b[0;32m     16\u001b[0m     \u001b[0mmed_idx\u001b[0m \u001b[1;33m=\u001b[0m\u001b[1;33m(\u001b[0m\u001b[0mlen\u001b[0m\u001b[1;33m(\u001b[0m\u001b[0mlst\u001b[0m\u001b[1;33m)\u001b[0m\u001b[1;33m-\u001b[0m\u001b[1;36m1\u001b[0m\u001b[1;33m)\u001b[0m\u001b[1;33m//\u001b[0m\u001b[1;36m2\u001b[0m\u001b[1;33m\u001b[0m\u001b[1;33m\u001b[0m\u001b[0m\n\u001b[0;32m     17\u001b[0m     \u001b[1;32mif\u001b[0m \u001b[0mlen\u001b[0m\u001b[1;33m(\u001b[0m\u001b[0mlst\u001b[0m\u001b[1;33m)\u001b[0m \u001b[1;33m!=\u001b[0m\u001b[1;36m1\u001b[0m \u001b[1;33m:\u001b[0m\u001b[1;33m\u001b[0m\u001b[1;33m\u001b[0m\u001b[0m\n\u001b[1;32m---> 18\u001b[1;33m         \u001b[1;32mif\u001b[0m \u001b[0mlst\u001b[0m\u001b[1;33m[\u001b[0m\u001b[0mmed_idx\u001b[0m\u001b[1;33m]\u001b[0m \u001b[1;33m==\u001b[0m \u001b[0mkey\u001b[0m\u001b[1;33m:\u001b[0m\u001b[1;33m\u001b[0m\u001b[1;33m\u001b[0m\u001b[0m\n\u001b[0m\u001b[0;32m     19\u001b[0m             \u001b[0mkey_idx\u001b[0m\u001b[1;33m=\u001b[0m \u001b[0mkey_idx\u001b[0m\u001b[1;33m+\u001b[0m \u001b[0mmed_idx\u001b[0m\u001b[1;33m\u001b[0m\u001b[1;33m\u001b[0m\u001b[0m\n\u001b[0;32m     20\u001b[0m             \u001b[0mprint\u001b[0m\u001b[1;33m(\u001b[0m\u001b[1;34m'찾고자 하는 값은 '\u001b[0m\u001b[1;33m+\u001b[0m\u001b[0mstr\u001b[0m\u001b[1;33m(\u001b[0m\u001b[0mkey_idx\u001b[0m\u001b[1;33m)\u001b[0m\u001b[1;33m+\u001b[0m\u001b[1;34m' 번째에 위치해 있습니다'\u001b[0m\u001b[1;33m)\u001b[0m\u001b[1;33m\u001b[0m\u001b[1;33m\u001b[0m\u001b[0m\n",
      "\u001b[1;31mIndexError\u001b[0m: list index out of range"
     ]
    }
   ],
   "source": [
    "#이진 검색 알고리즘 짜기 => 오리지날 실패~\n",
    "n=int(input('리스트의 길이를 입력해주세요'))\n",
    "lst=[]\n",
    "for i in range(n):\n",
    "    lst.append(float(input(f'리스트의 {i}번째 원소값을 입력해주세요')))\n",
    "key=float(input('찾고자 하는 원소값을 입력해주세요'))\n",
    "\n",
    "#오름차순으로 정렬하기\n",
    "#일단은 여기선 주어진 기본 파이썬 함수를 쓴다\n",
    "lst.sort()\n",
    "print('정렬한 리스트는 '+str(lst) +' 입니다')\n",
    "#이진 검색 알고리즘\n",
    "\n",
    "key_idx=0\n",
    "while True:\n",
    "    med_idx =(len(lst)-1)//2 \n",
    "    if len(lst) !=1 :    \n",
    "        if lst[med_idx] == key:\n",
    "            key_idx= key_idx+ med_idx\n",
    "            print('찾고자 하는 값은 '+str(key_idx)+' 번째에 위치해 있습니다')\n",
    "            break\n",
    "        elif lst[med_idx] > key:\n",
    "            lst= lst[:med_idx]\n",
    "        elif lst[med_idx] < key:\n",
    "            lst= lst[med_idx+1:]\n",
    "            key_idx= key_idx + (med_idx+1)\n",
    "    if len(lst) ==1:\n",
    "        if lst[med_idx] != key:\n",
    "            print('찾고자 하는 값이 리스트 안에 없습니다')\n",
    "            break\n",
    "    "
   ]
  },
  {
   "cell_type": "code",
   "execution_count": 68,
   "id": "c5627547-d173-42a7-b6d3-eee56f854d8c",
   "metadata": {},
   "outputs": [
    {
     "data": {
      "text/plain": [
       "5"
      ]
     },
     "execution_count": 68,
     "metadata": {},
     "output_type": "execute_result"
    }
   ],
   "source": [
    "class node:\n",
    "    def __init__(self,value,next=None):\n",
    "            self.value= value\n",
    "            self.next= next\n",
    "\n",
    "#node5>node4>node3>node2>node1로 연결되어 있는 형태\n",
    "node1=node(1)\n",
    "node2=node(2,node1)\n",
    "node3=node(3,node2)\n",
    "node4=node(4,node3)\n",
    "node5=node(5,node4)\n",
    "\n",
    "node5.next.value\n",
    "#4 출력\n",
    "\n",
    "#node1<node2<node3<node4<node5로 연결된 형태\n",
    "node1=node(1)\n",
    "node2=node(2)\n",
    "node3=node(3)\n",
    "node4=node(4)\n",
    "node5=node(5)\n",
    "\n",
    "node1.next=node2\n",
    "node2.next=node3\n",
    "node3.next=node4\n",
    "node4.next=node5\n",
    "\n",
    "node4.next.value\n",
    "#5출력"
   ]
  },
  {
   "cell_type": "code",
   "execution_count": 32,
   "id": "32f94ca4-3d76-4eb2-825d-2fdcc3c8749d",
   "metadata": {},
   "outputs": [
    {
     "name": "stdout",
     "output_type": "stream",
     "text": [
      "[1, 2, 5, 7, 9, 0] 속 7(을)를 찾으시는군요\n",
      "찾고자 하는 원소의 위치는 3 입니다\n"
     ]
    }
   ],
   "source": [
    "# 좌 경계값을 l, 우 경계값을 r로 표기, 중앙값을 c=(l+r)//2로 정의한다\n",
    "def binary_search(lst,key):\n",
    "    l= 0\n",
    "    r= len(lst)-1\n",
    "    \n",
    "    while True:\n",
    "        c=(l+r)//2\n",
    "        if lst[c] ==key:\n",
    "            return '찾고자 하는 원소의 위치는 '+str(c)+' 입니다'       #검색 성공\n",
    "        elif lst[c] <key:\n",
    "            l= c+1\n",
    "        else:\n",
    "            r= c-1\n",
    "        if l>r:\n",
    "            return '찾고자 하는 원소는 리스트 내에 없습니다'\n",
    "\n",
    "\n",
    "lst=[1,2,5,7,9,0]\n",
    "key=7\n",
    "print(str(lst)+' 속 '+str(key)+'(을)를 찾으시는군요')\n",
    "print(binary_search(lst,key))\n",
    "    "
   ]
  },
  {
   "cell_type": "code",
   "execution_count": 165,
   "id": "aa04c893-e329-434d-af8b-e0b0a51a5db8",
   "metadata": {},
   "outputs": [],
   "source": [
    "'''\n",
    "노드 클래스를 정의하기\n",
    "next: 뒤에 노드를 연결시키기 위해 쓰는 argument\n",
    "'''\n",
    "import hashlib\n",
    "class Node:\n",
    "    def __init__(self,key,value,next):\n",
    "        self.key=key\n",
    "        self.value=value\n",
    "        self.next=next\n",
    "\n",
    "'''\n",
    "해시 테이블을 정의하기\n",
    "hash_function:원솟값을 해시값에 대응시키는 함수 만드는 함수이다\n",
    "정수형 자료형인지 확인하고 맞으면 capacity에 나누어 나머지값을 구하고 아닌경우\n",
    "해시 라이브러리 함수를 이용한다\n",
    "'''\n",
    "class ChainedHash:\n",
    "    def __init__(self,capacity):             \n",
    "        self.capacity=capacity               \n",
    "        self.table=[None] * self.capacity \n",
    "        \n",
    "    def hash_function(self,key):  \n",
    "         if isinstance(key,int):  \n",
    "            return key % self.capacity\n",
    "         return (int(hashlib.sha256(str(key).encode()).hexdigest(),16)%self.capacity)    \n",
    "        \n",
    "\n",
    "# Chainedhash 인스턴스(해시테이블)과 key를 parameter로 받는 함수이다.\n",
    "# 특정key값이 가야할 해시테이블의 원소 위치를 찾은 뒤(key값이 정해지면 해시값은 정해진다.\n",
    "# 그러나 해시값이 같다고 해서 반드시 key값이 같은건 아니다)\n",
    "# 그 위치의 버킷을 구성하는 노드를 살핀다\n",
    "# 노드 원소값이 key값과 같은지 대조하고, 아니라면 다음 노드로 대조한다. 이렇게 계속 대조하다가\n",
    "# key값과 원소값이 일치하는 노드를 찾거나, 빈 노드를 마주하면 검색을 중단한다.\n",
    "\n",
    "\n",
    "    def search(self,key):\n",
    "        hash_val = self.hash_function(key)   \n",
    "        node =self.table[hash_val]           \n",
    "\n",
    "        while node != None:                   \n",
    "            if node.key == key:\n",
    "                return node.value             \n",
    "            node= node.next                       \n",
    "\n",
    "\n",
    "# 키가 key이고 값이 value인 원소 추가하는 함수이다.\n",
    "# 노드를 살필 때 추가하고자 하는 key값과 같은 노드 원솟값이 있다면 실행을 중지한다\n",
    "# 그 외의 경운 뒤쪽 노드를 살핀다. 빈 노드를 발견하게 되면 while문을 빠져나오게 되고,\n",
    "# 노드를 추가한다. (새로운 노드= Node(key,value,next=기존 맨앞 노드), 맨앞 노드=새로운 노드 로 정의한다)\n",
    "\n",
    "    def add_node(self,key,value):\n",
    "        hash_val= self.hash_function(key)\n",
    "        node=self.table[hash_val]\n",
    "\n",
    "        while node != None:\n",
    "            if node.key== key:                \n",
    "                return False\n",
    "            node= node.next\n",
    "\n",
    "        new_node =Node(key,value,self.table[hash_val])\n",
    "        self.table[hash_val]= new_node             \n",
    "        return True           \n",
    "\n",
    "# 원소를 제거하는 함수이다\n",
    "# case1.지우고자 하는 노드가 맨 앞에 있다면 \n",
    "#맨 앞 노드= 기존 두번째 자리 노드를 지정해서, 기존 맨 앞 노드를 지운다\n",
    "# case2.그 외의 경우엔 어떤 기준 노드 앞 다음 바로 기준 노드 뒤가 이어져서,지우고자 하는 노드를 생략시켜 지운다\n",
    "# 뒤쪽으로 이동하라: 특정 노드 앞= 기존 특정 노드, 특정 노드= 기존 특정 노드 뒤\n",
    "# 빈 노드를 마주쳤다면 탐색을 끝내라. 삭제 실패이다\n",
    "\n",
    "    def remove(self,key):\n",
    "        hash_val= self.hash_function(key)\n",
    "        node=self.table[hash_val]\n",
    "        node_front= None\n",
    "\n",
    "        while node != None:\n",
    "            if node.key == key:\n",
    "                if node_front == None:             \n",
    "                    self.table[hash_val]=node.next \n",
    "                else:\n",
    "                    node_front.next =node.next     \n",
    "                return True\n",
    "            node_front=node                        \n",
    "            node=node.next                         \n",
    "        return False                               \n",
    "\n",
    "    \n",
    "# 원소를 출력하는 함수이다\n",
    "# self.capicity는 해시테이블의 길이를 의미한다\n",
    "# self.table[i]를 통해 맨 앞의 노드를 호출하고,\n",
    "# 노드가 비어있지 않으면 노드의 key,value값을 호출한 후에\n",
    "# 다음 노드를 탐색하는 형식으로 진행한다\n",
    "\n",
    "    #원소를 출력하는 함수\n",
    "    def dump(self):\n",
    "        for i in range(self.capacity):\n",
    "            node=self.table[i]\n",
    "            print(i,end='')\n",
    "            while node != None:\n",
    "                print(f' ->{node.key}({node.value})',end='')\n",
    "                node=node.next\n",
    "            print()\n",
    "                    "
   ]
  },
  {
   "cell_type": "code",
   "execution_count": 167,
   "id": "48129b82-7027-4088-b15f-10358a7a7a42",
   "metadata": {},
   "outputs": [
    {
     "name": "stdout",
     "output_type": "stream",
     "text": [
      "(1)추가 (2)삭제 (3)검색 (4)덤프 (5)종료"
     ]
    },
    {
     "name": "stdin",
     "output_type": "stream",
     "text": [
      ":  1\n",
      "추가할 키를 입력하세요.:  3\n",
      "추가할 값을 입력하세요 붕어싸만코\n"
     ]
    },
    {
     "name": "stdout",
     "output_type": "stream",
     "text": [
      "(1)추가 (2)삭제 (3)검색 (4)덤프 (5)종료"
     ]
    },
    {
     "name": "stdin",
     "output_type": "stream",
     "text": [
      ":  2\n",
      "삭제할 키를 입력하세요.:  3\n"
     ]
    },
    {
     "name": "stdout",
     "output_type": "stream",
     "text": [
      "(1)추가 (2)삭제 (3)검색 (4)덤프 (5)종료"
     ]
    },
    {
     "name": "stdin",
     "output_type": "stream",
     "text": [
      ":  1\n",
      "추가할 키를 입력하세요.:  3\n",
      "추가할 값을 입력하세요 칙촉\n"
     ]
    },
    {
     "name": "stdout",
     "output_type": "stream",
     "text": [
      "(1)추가 (2)삭제 (3)검색 (4)덤프 (5)종료"
     ]
    },
    {
     "name": "stdin",
     "output_type": "stream",
     "text": [
      ":  1\n",
      "추가할 키를 입력하세요.:  16\n",
      "추가할 값을 입력하세요 비비빅\n"
     ]
    },
    {
     "name": "stdout",
     "output_type": "stream",
     "text": [
      "(1)추가 (2)삭제 (3)검색 (4)덤프 (5)종료"
     ]
    },
    {
     "name": "stdin",
     "output_type": "stream",
     "text": [
      ":  1\n",
      "추가할 키를 입력하세요.:  6\n",
      "추가할 값을 입력하세요 빙어\n"
     ]
    },
    {
     "name": "stdout",
     "output_type": "stream",
     "text": [
      "(1)추가 (2)삭제 (3)검색 (4)덤프 (5)종료"
     ]
    },
    {
     "name": "stdin",
     "output_type": "stream",
     "text": [
      ":  1\n",
      "추가할 키를 입력하세요.:  24\n",
      "추가할 값을 입력하세요 엄마는외계인\n"
     ]
    },
    {
     "name": "stdout",
     "output_type": "stream",
     "text": [
      "(1)추가 (2)삭제 (3)검색 (4)덤프 (5)종료"
     ]
    },
    {
     "name": "stdin",
     "output_type": "stream",
     "text": [
      ":  1\n",
      "추가할 키를 입력하세요.:  49\n",
      "추가할 값을 입력하세요 엘든링\n"
     ]
    },
    {
     "name": "stdout",
     "output_type": "stream",
     "text": [
      "(1)추가 (2)삭제 (3)검색 (4)덤프 (5)종료"
     ]
    },
    {
     "name": "stdin",
     "output_type": "stream",
     "text": [
      ":  4\n"
     ]
    },
    {
     "name": "stdout",
     "output_type": "stream",
     "text": [
      "0\n",
      "1\n",
      "2\n",
      "3 ->16(비비빅) ->3(칙촉)\n",
      "4\n",
      "5\n",
      "6 ->6(빙어)\n",
      "7\n",
      "8\n",
      "9\n",
      "10 ->49(엘든링)\n",
      "11 ->24(엄마는외계인)\n",
      "12\n",
      "(1)추가 (2)삭제 (3)검색 (4)덤프 (5)종료"
     ]
    },
    {
     "name": "stdin",
     "output_type": "stream",
     "text": [
      ":  5\n"
     ]
    }
   ],
   "source": [
    "from chained_hash import *\n",
    "from enum import Enum\n",
    "Menu= Enum('Menu',['추가','삭제','검색','덤프','종료'])\n",
    "\n",
    "def select_menu():\n",
    "    s=[f'({m.value}){m.name}' for m in Menu]\n",
    "    while True:\n",
    "        print(*s,sep=' ',end='')\n",
    "        n=int(input(': '))\n",
    "        if 1<= n <= len(Menu):\n",
    "            return Menu(n)\n",
    "        \n",
    "hash_table= ChainedHash(13)\n",
    "\n",
    "while True:\n",
    "    menu= select_menu()\n",
    "    \n",
    "    if menu== Menu.추가:\n",
    "        key= int(input('추가할 키를 입력하세요.: '))\n",
    "        val= input('추가할 값을 입력하세요')\n",
    "        if not hash_table.add_node(key,val):\n",
    "            print('추가에 실패했습니다!')\n",
    "            \n",
    "    elif menu == Menu.삭제:\n",
    "        key= int(input('삭제할 키를 입력하세요.: '))\n",
    "        if not hash_table.remove(key):\n",
    "            print('삭제에 실패했습니다!')\n",
    "    \n",
    "    elif menu== Menu.검색:\n",
    "        key= int(input('검색할 키를 입력하세요.: '))\n",
    "        val=hash_table.search(key)\n",
    "        if val is not None:\n",
    "            print(f'찾으시는 키 값은 {val}입니다')\n",
    "        else:\n",
    "            print('검색할 데이터가 없습니다')\n",
    "    \n",
    "    elif menu == Menu.덤프:\n",
    "        hash_table.dump()\n",
    "        \n",
    "    else:\n",
    "        break\n",
    "        "
   ]
  },
  {
   "cell_type": "code",
   "execution_count": 205,
   "id": "f6100e18-7d19-4960-8487-6f4f660d8493",
   "metadata": {},
   "outputs": [],
   "source": [
    "from enum import Enum\n",
    "import hashlib\n",
    "\n",
    "#버킷의 속성:0,1,2 만을 갖는 클래스\n",
    "class Status(Enum):\n",
    "    OCCUPIED=0\n",
    "    EMPTY=1\n",
    "    DELETED=2\n",
    "    \n",
    "#Bucket은 key,value,stat을 갖는 클래스이다\n",
    "#set 함수를 통해 key,value,stat을 클래스 정의 한후 재정의 가능하다\n",
    "#set_status는 그중에서도 속성만 따로 재정의하는 함수\n",
    "class Bucket:\n",
    "    \n",
    "    def __init__(self,key=None,value=None,stat= Status.EMPTY):\n",
    "        self.key=key\n",
    "        self.value=value\n",
    "        self.stat=stat\n",
    "        \n",
    "    def set(self,key,value,stat):\n",
    "        self.key=key\n",
    "        self.value=value\n",
    "        self.stat=stat\n",
    "    \n",
    "    def set_status(self,stat):\n",
    "        self.stat=stat\n",
    "        \n",
    "#해시테이블은 Bucket 객체를 원소로 하는 리스트로 구현한다\n",
    "class OpenHash:\n",
    "    def __init__(self,capacity):\n",
    "        self.capacity= capacity\n",
    "        self.table=[Bucket()]*self.capacity\n",
    "\n",
    "# key값이 정수인 경우엔 해시 테이블의 길이로 나누고\n",
    "# 정수가 아닌경우엔 해시 라이브러리를 이용하여 데이터를 처리해라\n",
    "    def hash_function(self,key):\n",
    "        if isinstance(key,int):\n",
    "            return key % self.capacity\n",
    "        return(int(hashlib.md5(str(key).encode()).hexdigest(),16)%self.capacity)\n",
    "\n",
    "#지정해주려는 key값에 대응되는 hash값에 이미 다른 원소가 있는 경우\n",
    "#다시 한번 위치를 지정해주기 위해 정의해둔 함수\n",
    "    def rehash_function(self,key):\n",
    "        return (self.hash_function(key)+1) %self.capacity\n",
    "\n",
    "#특정 key값에 대응되는 해시값을 찾고, 그 해시값 위치의 노드 상태에 따라\n",
    "#다른 행동을 하라고 조건을 두었다\n",
    "#버켓이 비어있을 경우(EMPTY) => 탐색 실패\n",
    "#버켓이 차있고, 노드 키값이 현재 찾는 키값과 일치하는 경우=> 탐색 성공!\n",
    "#앞의 두 경우가 아닌 경운(삭제되어 있거나, 차있음에도 일치하지 않는경우)\n",
    "#다른 위치에 재해시 되어있을 가능성이 존재함을 의미한다\n",
    "#그러므로 재해시하여 다른 버켓을 탐색한다\n",
    "    def search_node(self,key):\n",
    "        hash_val= self.hash_function(key)\n",
    "        bucket= self.table[hash_val]\n",
    "        \n",
    "        for i in range(self.capacity):\n",
    "            if bucket.stat==Status.EMPTY:\n",
    "                break\n",
    "            elif bucket.stat == Status.OCCUPIED and bucket.key==key:\n",
    "                return bucket\n",
    "            hash_val = self.rehash_function(hash_val)\n",
    "            bucket=self.table[hash_val]\n",
    "        return None\n",
    "\n",
    "#해시테이블 안에 담겨있는 리턴값 노드는 Bucket 객체로,key/value/stat 특성을 가져 각각을 꺼내 호출해야한다\n",
    "    def search_val(self,key):\n",
    "        bucket=self.search_node(key)\n",
    "        if bucket != None:\n",
    "            return bucket.value\n",
    "        else:\n",
    "            return None\n",
    "\n",
    "# 이미 특정 key값이 등록되어 있다면 실행 중지\n",
    "# 비어있거나, 삭제되어 있는 버켓이 있으면 버켓 안을 체우고\n",
    "# 아닐경우 재해시하라\n",
    "    def add_bucket(self,key,value):\n",
    "        if self.search_val(key) != None:\n",
    "            return False\n",
    "        \n",
    "        hash_val= self.hash_function(key)\n",
    "        bucket= self.table[hash_val]\n",
    "        \n",
    "        for i in range(self.capacity):\n",
    "            if bucket.stat == Status.EMPTY or bucket.stat == Status.DELETED:\n",
    "                self.table[hash_val] =Bucket(key,value,Status.OCCUPIED)\n",
    "                return True\n",
    "            hash_val=self.rehash_function(hash_val)\n",
    "            bucket= self.table[hash_val]\n",
    "        return False\n",
    "    \n",
    "            \n",
    "\n",
    "    #키가 key인 원소 삭제하기\n",
    "    def remove(self,key):\n",
    "        bucket= self.search_node(key)\n",
    "        if bucket == None:\n",
    "            return False\n",
    "        else:\n",
    "            bucket.set_status(Status.DELETED)\n",
    "            return True\n",
    "\n",
    "    #출력하는 프로그램\n",
    "    def dump(self):\n",
    "        for i in range(self.capacity):\n",
    "            print(f'{i:2} ',end='')\n",
    "            if self.table[i].stat == Status.OCCUPIED:\n",
    "                print(f'{self.table[i].key}({self.table[i].value})')\n",
    "            elif self.table[i].stat== Status.EMPTY:\n",
    "                print('--미등록--')\n",
    "            else:\n",
    "                print('삭제 완료')\n",
    "\n",
    "        \n",
    "        \n",
    "    "
   ]
  },
  {
   "cell_type": "code",
   "execution_count": 209,
   "id": "7916b7ea-ffe9-453c-9359-ae3920027471",
   "metadata": {},
   "outputs": [
    {
     "name": "stdout",
     "output_type": "stream",
     "text": [
      "(1)(추가) (2)(삭제) (3)(검색) (4)(덤프) (5)(종료)"
     ]
    },
    {
     "name": "stdin",
     "output_type": "stream",
     "text": [
      ":  1\n",
      "추가할 키를 입력하세요.:  3\n",
      "추가할 값을 입력하세요:  초콜릿\n"
     ]
    },
    {
     "name": "stdout",
     "output_type": "stream",
     "text": [
      "(1)(추가) (2)(삭제) (3)(검색) (4)(덤프) (5)(종료)"
     ]
    },
    {
     "name": "stdin",
     "output_type": "stream",
     "text": [
      ":  1\n",
      "추가할 키를 입력하세요.:  16\n",
      "추가할 값을 입력하세요:  딸기\n"
     ]
    },
    {
     "name": "stdout",
     "output_type": "stream",
     "text": [
      "(1)(추가) (2)(삭제) (3)(검색) (4)(덤프) (5)(종료)"
     ]
    },
    {
     "name": "stdin",
     "output_type": "stream",
     "text": [
      ":  4\n"
     ]
    },
    {
     "ename": "AttributeError",
     "evalue": "'OpenHash' object has no attribute 'dump'",
     "output_type": "error",
     "traceback": [
      "\u001b[1;31m---------------------------------------------------------------------------\u001b[0m",
      "\u001b[1;31mAttributeError\u001b[0m                            Traceback (most recent call last)",
      "\u001b[1;32m<ipython-input-209-fc4c497e8da7>\u001b[0m in \u001b[0;36m<module>\u001b[1;34m\u001b[0m\n\u001b[0;32m     37\u001b[0m \u001b[1;33m\u001b[0m\u001b[0m\n\u001b[0;32m     38\u001b[0m     \u001b[1;32melif\u001b[0m \u001b[0mmenu\u001b[0m \u001b[1;33m==\u001b[0m \u001b[0mMenu\u001b[0m\u001b[1;33m.\u001b[0m\u001b[0m덤프\u001b[0m\u001b[1;33m:\u001b[0m\u001b[1;33m\u001b[0m\u001b[1;33m\u001b[0m\u001b[0m\n\u001b[1;32m---> 39\u001b[1;33m         \u001b[0mhash\u001b[0m\u001b[1;33m.\u001b[0m\u001b[0mdump\u001b[0m\u001b[1;33m(\u001b[0m\u001b[1;33m)\u001b[0m\u001b[1;33m\u001b[0m\u001b[1;33m\u001b[0m\u001b[0m\n\u001b[0m\u001b[0;32m     40\u001b[0m \u001b[1;33m\u001b[0m\u001b[0m\n\u001b[0;32m     41\u001b[0m     \u001b[1;32melse\u001b[0m\u001b[1;33m:\u001b[0m\u001b[1;33m\u001b[0m\u001b[1;33m\u001b[0m\u001b[0m\n",
      "\u001b[1;31mAttributeError\u001b[0m: 'OpenHash' object has no attribute 'dump'"
     ]
    }
   ],
   "source": [
    "# from open_hash import *\n",
    "# from enum import Enum\n",
    "\n",
    "Menu= Enum('Menu',['추가','삭제','검색','덤프','종료'])\n",
    "\n",
    "#Enum 인스턴스(value)의 속성은 name,value가 있다\n",
    "def select_menu():\n",
    "    s=[f'({m.value})({m.name})' for m in Menu]\n",
    "    while True:\n",
    "        print(*s,sep=' ',end='')\n",
    "        n=int(input(': '))\n",
    "        if 1<=n <=len(Menu):\n",
    "            return Menu(n)\n",
    "\n",
    "hash=OpenHash(13)\n",
    "while True:\n",
    "    menu = select_menu()\n",
    "    \n",
    "    if menu == Menu.추가:\n",
    "        key = int(input('추가할 키를 입력하세요.: '))\n",
    "        val = input('추가할 값을 입력하세요: ')\n",
    "        if not hash.add_bucket(key,val):\n",
    "            print('추가를 실패했습니다')\n",
    "    \n",
    "    elif menu == Menu.삭제: \n",
    "        key = int(input('삭제할 키를 입력하세요.: '))\n",
    "        if not hash.remove(key):\n",
    "            print('삭제를 실패했습니다! ')\n",
    "    \n",
    "    elif menu == Menu.검색:\n",
    "        key = int(input('검색할 키를 입력하세요.: '))\n",
    "        hash_val= hash.search(key)\n",
    "        if hash_val:\n",
    "            print(f'검색한 키를 갖는 값은{hash_val}')\n",
    "        else:\n",
    "            print('검색할 데이터가 없습니다.')\n",
    "        \n",
    "    elif menu == Menu.덤프:\n",
    "        hash.dump()\n",
    "        \n",
    "    else:\n",
    "        break\n"
   ]
  },
  {
   "cell_type": "code",
   "execution_count": null,
   "id": "1df809f4-204b-4065-9b66-ac2024fde687",
   "metadata": {},
   "outputs": [],
   "source": []
  }
 ],
 "metadata": {
  "kernelspec": {
   "display_name": "Python 3",
   "language": "python",
   "name": "python3"
  },
  "language_info": {
   "codemirror_mode": {
    "name": "ipython",
    "version": 3
   },
   "file_extension": ".py",
   "mimetype": "text/x-python",
   "name": "python",
   "nbconvert_exporter": "python",
   "pygments_lexer": "ipython3",
   "version": "3.8.8"
  }
 },
 "nbformat": 4,
 "nbformat_minor": 5
}
