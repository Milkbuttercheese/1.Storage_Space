{
 "cells": [
  {
   "cell_type": "code",
   "execution_count": 5,
   "id": "abc210da-a93b-4825-ac8a-caec7a186d45",
   "metadata": {},
   "outputs": [
    {
     "name": "stdin",
     "output_type": "stream",
     "text": [
      "생성하고 싶은 변수 갯수를 입력하세요 5\n"
     ]
    },
    {
     "name": "stdout",
     "output_type": "stream",
     "text": [
      "0\n",
      "0\n",
      "0\n",
      "0\n",
      "0\n"
     ]
    }
   ],
   "source": [
    "# n개의 변수를 자동으로 생성하는 프로그램\n",
    "\n",
    "n=int(input('생성하고 싶은 변수 갯수를 입력하세요'))\n",
    "for i in range(1,n+1):\n",
    "    globals()[f'var{i}']= 0\n",
    "\n",
    "#eval은 input으로 string을 받으며, string을 변수나 식으로 해석하여 실행해주는 함수이다\n",
    "for i in range(1,n+1):\n",
    "    print(eval(f'var{i}'))"
   ]
  },
  {
   "cell_type": "markdown",
   "id": "689d33ad-8b76-46da-8833-9a67a7e6dd8d",
   "metadata": {},
   "source": [
    "몇명의 학생인지 입력받고,학생들의 시험 성적을 입력 받아 합계와 평균을 구하시오"
   ]
  },
  {
   "cell_type": "code",
   "execution_count": 11,
   "id": "f3b5344e-f1b1-4977-8e13-a6044ebca88d",
   "metadata": {},
   "outputs": [
    {
     "name": "stdin",
     "output_type": "stream",
     "text": [
      "학생의 인원을 입력하세요 3\n",
      "1번째 학생의 성적을 입력해주세요 90\n",
      "2번째 학생의 성적을 입력해주세요 85\n",
      "3번째 학생의 성적을 입력해주세요 95\n"
     ]
    },
    {
     "name": "stdout",
     "output_type": "stream",
     "text": [
      "합계는 270이고 평균은 90.0입니다.\n"
     ]
    }
   ],
   "source": [
    "n= int(input('학생의 인원을 입력하세요'))\n",
    "for i in range(1,n+1):\n",
    "    globals()[f'score{i}'] =0\n",
    "\n",
    "i=1\n",
    "sum=0\n",
    "\n",
    "while True:\n",
    "    \n",
    "    globals()[f'score{i}']= int(input(f'{i}번째 학생의 성적을 입력해주세요'))\n",
    "    sum=sum+globals()[f'score{i}']\n",
    "    i= i+1\n",
    "    \n",
    "    if i>n:\n",
    "        avg=sum/n\n",
    "        break\n",
    "    \n",
    "print(f'합계는 {sum}이고 평균은 {avg}입니다.')\n",
    "    \n",
    "    "
   ]
  },
  {
   "cell_type": "code",
   "execution_count": 18,
   "id": "5e99c772-44a0-4d58-8025-6b30716138d8",
   "metadata": {},
   "outputs": [
    {
     "name": "stdin",
     "output_type": "stream",
     "text": [
      "배열의 길이를 정해주세요 5\n",
      "배열의 원솟값을 지정해주세요 -2\n",
      "배열의 원솟값을 지정해주세요 3\n",
      "배열의 원솟값을 지정해주세요 4\n",
      "배열의 원솟값을 지정해주세요 -6.5\n",
      "배열의 원솟값을 지정해주세요 5\n"
     ]
    },
    {
     "name": "stdout",
     "output_type": "stream",
     "text": [
      "[-2.0, 3.0, 4.0, -6.5, 5.0] 의 최댓값은 5.0입니다\n"
     ]
    }
   ],
   "source": [
    "# 배열의 길이 받기, 배열의 원소값 받기\n",
    "n= int(input('배열의 길이를 정해주세요'))\n",
    "lst=[]\n",
    "for _ in range(0,n):\n",
    "    lst.append(float(input('배열의 원솟값을 지정해주세요')))\n",
    "    \n",
    "max_val= lst[0]\n",
    "for i in range(1,n):\n",
    "    if lst[i] > max_val : \n",
    "        max_val=lst[i]\n",
    "\n",
    "print(lst,end='')\n",
    "print(f' 의 최댓값은 {max_val}입니다')"
   ]
  },
  {
   "cell_type": "code",
   "execution_count": 36,
   "id": "428685b3-2d47-444f-b0ff-e2f3f6a4b9a9",
   "metadata": {},
   "outputs": [
    {
     "name": "stdin",
     "output_type": "stream",
     "text": [
      "배열의 원솟값을 입력해주세요. end를 입력하면 종료합니다. 5\n",
      "배열의 원솟값을 입력해주세요. end를 입력하면 종료합니다. 2\n",
      "배열의 원솟값을 입력해주세요. end를 입력하면 종료합니다. -7\n",
      "배열의 원솟값을 입력해주세요. end를 입력하면 종료합니다. 3.5\n",
      "배열의 원솟값을 입력해주세요. end를 입력하면 종료합니다. end\n"
     ]
    },
    {
     "name": "stdout",
     "output_type": "stream",
     "text": [
      "[5.0, 2.0, -7.0, 3.5] 의 최댓값은 5.0입니다\n"
     ]
    }
   ],
   "source": [
    "# 배열의 원소값을 계속 받되 end를 받으며 종료하기\n",
    "\n",
    "\n",
    "lst=[]\n",
    "while True:\n",
    "    response= input('배열의 원솟값을 입력해주세요. end를 입력하면 종료합니다.')\n",
    "    if response == 'end':\n",
    "        break\n",
    "    lst.append(float(response))\n",
    "\n",
    "n=len(lst)\n",
    "max_val= lst[0]\n",
    "for i in range(1,n):\n",
    "    if lst[i] > max_val : \n",
    "        max_val=lst[i]\n",
    "\n",
    "print(lst,end='')\n",
    "print(f' 의 최댓값은 {max_val}입니다')"
   ]
  },
  {
   "cell_type": "code",
   "execution_count": 38,
   "id": "34a4cd45-c2e0-4732-84c3-dc81632a17da",
   "metadata": {},
   "outputs": [
    {
     "data": {
      "text/plain": [
       "8.5"
      ]
     },
     "execution_count": 38,
     "metadata": {},
     "output_type": "execute_result"
    }
   ],
   "source": [
    "#배열의 최댓값을 구하는 모듈 만들기\n",
    "def max_of(lst):\n",
    "    max_val=lst[0]\n",
    "    for i in range(1,len(lst)):\n",
    "        if max_val < lst[i] :\n",
    "            max_val=lst[i]\n",
    "    return max_val\n",
    "\n",
    "max_of([5,3,-2,2.5,7,8.5])"
   ]
  },
  {
   "cell_type": "code",
   "execution_count": 41,
   "id": "b77cf466-09a5-470c-9e63-757ced00facd",
   "metadata": {},
   "outputs": [
    {
     "data": {
      "text/plain": [
       "-2"
      ]
     },
     "execution_count": 41,
     "metadata": {},
     "output_type": "execute_result"
    }
   ],
   "source": [
    "#배열의 최솟값을 구하는 모듈 만들기\n",
    "def min_of(lst):\n",
    "    min_val=lst[0]\n",
    "    for i in range(1,len(lst)):\n",
    "        if min_val > lst[i] :\n",
    "            min_val=lst[i]\n",
    "    return min_val\n",
    "\n",
    "min_of([5,3,-2,2.5,7,8.5])"
   ]
  },
  {
   "cell_type": "code",
   "execution_count": 44,
   "id": "da70b2da-edcd-4702-a521-48efa43baa51",
   "metadata": {},
   "outputs": [
    {
     "name": "stdout",
     "output_type": "stream",
     "text": [
      "난수의 최댓값을 구하는 프로그램입니다\n"
     ]
    },
    {
     "name": "stdin",
     "output_type": "stream",
     "text": [
      "난수의 갯수를 정하세요 5\n",
      "난수의 최댓값을 정하세요 99\n",
      "난수의 최솟값을 정하세요 2\n"
     ]
    },
    {
     "name": "stdout",
     "output_type": "stream",
     "text": [
      "[21, 24, 68, 59, 31] 중 최댓값은 68 입니다\n"
     ]
    }
   ],
   "source": [
    "import random\n",
    "from max_val import max_of\n",
    "\n",
    "print('난수의 최댓값을 구하는 프로그램입니다')\n",
    "n=int(input('난수의 갯수를 정하세요'))\n",
    "rM=int(input('난수의 최댓값을 정하세요'))\n",
    "rm=int(input('난수의 최솟값을 정하세요'))\n",
    "lst=[]\n",
    "for i in range(0,n):\n",
    "    lst.append(random.randint(rm,rM))\n",
    "\n",
    "print(lst, end='')\n",
    "print(f' 중 최댓값은 {max_of(lst)} 입니다')"
   ]
  },
  {
   "cell_type": "code",
   "execution_count": null,
   "id": "ef1ac3c1-0c0e-4a72-8138-d0c54a4dc646",
   "metadata": {},
   "outputs": [],
   "source": []
  }
 ],
 "metadata": {
  "kernelspec": {
   "display_name": "Python 3",
   "language": "python",
   "name": "python3"
  },
  "language_info": {
   "codemirror_mode": {
    "name": "ipython",
    "version": 3
   },
   "file_extension": ".py",
   "mimetype": "text/x-python",
   "name": "python",
   "nbconvert_exporter": "python",
   "pygments_lexer": "ipython3",
   "version": "3.8.8"
  }
 },
 "nbformat": 4,
 "nbformat_minor": 5
}
