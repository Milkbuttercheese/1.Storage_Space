{
 "cells": [
  {
   "cell_type": "code",
   "execution_count": 3,
   "metadata": {
    "collapsed": false,
    "jupyter": {
     "outputs_hidden": false
    },
    "pycharm": {
     "name": "#%%\n"
    }
   },
   "outputs": [
    {
     "ename": "SyntaxError",
     "evalue": "invalid syntax (<ipython-input-3-9841a3b67e51>, line 92)",
     "output_type": "error",
     "traceback": [
      "\u001b[1;36m  File \u001b[1;32m\"<ipython-input-3-9841a3b67e51>\"\u001b[1;36m, line \u001b[1;32m92\u001b[0m\n\u001b[1;33m    else\u001b[0m\n\u001b[1;37m        ^\u001b[0m\n\u001b[1;31mSyntaxError\u001b[0m\u001b[1;31m:\u001b[0m invalid syntax\n"
     ]
    }
   ],
   "source": [
    "# 이진 트리 구현하기\n",
    "\n",
    "#노드 클래스 만들기\n",
    "class Node:\n",
    "    def __init__(self,key,value,left=None,right=None):\n",
    "        self.key=key\n",
    "        self.value=value\n",
    "        self.left= left\n",
    "        self.right= right\n",
    "\n",
    "class BinarySearchTree:\n",
    "    def __init__(self):\n",
    "        self.root = None\n",
    "\n",
    "#검색에는 이진검색트리의 정의를 이용한다\n",
    "#구하고자 하는 원소의 키key와 현재 노드key값과 비교한다.\n",
    "    def search(self,key):\n",
    "        choosen_node =self.root\n",
    "        while True:\n",
    "            if choosen_node is None:\n",
    "                return None\n",
    "            if key == choosen_node.key:\n",
    "                return choosen_node.value\n",
    "            elif key< choosen_node.key:\n",
    "                choosen_node= choosen_node.left\n",
    "            else:\n",
    "                choosen_node=choosen_node.right\n",
    "\n",
    "#노드 삽입 함수\n",
    "#삽입 후에도 이진 검색 트리의 조건을 충족시키기 위해\n",
    "#삽입할 위치를 찾아내야됨\n",
    "    #root에 Node가 없으면 최초의 Node를 생성한다\n",
    "    #그 후 root를 따라 탐색을 시작한다\n",
    "    def add_node(self,key,value):\n",
    "        def in_add_node(node,key,value):\n",
    "            if key== node.key:\n",
    "                return False\n",
    "            elif key< node.key:\n",
    "                if node.left is None:\n",
    "                    node.left =Node(key,value,None,None)\n",
    "                else:\n",
    "                    in_add_node(node.left,key,value)\n",
    "            else:\n",
    "                if node.right is None:\n",
    "                    node.right= Node(key,value,None,None)\n",
    "                else:\n",
    "                    in_add_node(node.right,key,value)\n",
    "            return True\n",
    "        if self.root is None:\n",
    "            self.root =Node(key,value,None,None)\n",
    "            return True\n",
    "        else:\n",
    "            return in_add_node(self.root,key,value)\n",
    "\n",
    "\n",
    "#노드를 삭제하는 함수\n",
    "#자식노드가 없었다면 부모노드의 포인터를 갱신해야하고\n",
    "#자식 노드가 1개 있었다면 삭제되는 노드의 자식을 삭제되는 노드의 부모와 잇고\n",
    "#자식 노드가 2개 있었다면 왼쪽 자식이 만드는 서브트리 중 가장 키값이 큰 노드를\n",
    "#가져와 대체시킨다\n",
    "\n",
    "#is_left_child는 choosen_node가 parent의 왼쪽 자식 노드인지 확인하는 기능이다\n",
    "    def remove_node(self,key):\n",
    "        choosen_node=self.root\n",
    "        parent=None\n",
    "        is_left_child= True\n",
    "\n",
    "        while True:\n",
    "            if choosen_node is None:\n",
    "                return False\n",
    "\n",
    "            #검색 성공하면 break로 while문을 빠져나감\n",
    "            if key== choosen_node.key:\n",
    "                break\n",
    "            else:\n",
    "                parent= choosen_node\n",
    "                if key<choosen_node.key:\n",
    "                    is_left_child =True\n",
    "                    choosen_node= choosen_node.left\n",
    "                else:\n",
    "                    is_left_child = False\n",
    "                    choosen_node= choosen_node.right\n",
    "\n",
    "        #자식 노드가 1개 혹은 0개일 때의 경우의 수임\n",
    "        #1개와 0개를 동시에 다루는 조건문을 쓰는 이유는\n",
    "        #없는 자식을 호출하면 None값이 return 되기 때문\n",
    "        if choosen_node.left is None:\n",
    "            if choosen_node is self.root:\n",
    "                self.root= choosen_node.right\n",
    "            elif is_left_child:\n",
    "                parent.left= choosen_node.right\n",
    "            else\n",
    "                parent.right= choosen_node.right\n",
    "        elif choosen_node.right is None:\n",
    "            if choosen_node is self.root:\n",
    "                self.root = choosen_node.left\n",
    "            elif is_left_child:\n",
    "                parent.left= choosen_node.left\n",
    "            else:\n",
    "                parent.right= choosen_node.left\n",
    "\n",
    "        #자식 노드가 2개일 때의 경우의 수\n",
    "        #삭제하려 선택한 노드가 부모가 된다\n",
    "        #chooosen_node.left 에서 최대한 오른쪽으로 이동하여 값을 찾는다\n",
    "        #\n",
    "        else:\n",
    "            parent= choosen_node\n",
    "            left= choosen_node.left\n",
    "            is_left_child =True\n",
    "            while left.right is not None:\n",
    "                parent = left\n",
    "                left= left.right\n",
    "                is_left_child= False\n",
    "\n",
    "        #서브트리에서 가장 큰 key값을 갖는 노드를 삭제하려는 데이터 위치에 대입\n",
    "            choosen_node.key= left.key\n",
    "            choosen_node.value =left.value\n",
    "            # parent-choosen_node-left가 일직선 형태 혹은\n",
    "            # ㄱ자로 꺽여있거나 ToptoBottom 대각선 형태\n",
    "            if is_left_child:\n",
    "                parent.left= left.left\n",
    "            else:\n",
    "                parent.right = left.left\n",
    "            return True\n",
    "\n",
    "    #출력 프로그램\n",
    "    def dump(self):\n",
    "        def print_subtree(node):\n",
    "            if node is not None:\n",
    "                print_subtree(node.left)\n",
    "                print(f'{node.key}{node.value}')\n",
    "                print_subtree(node.right)\n",
    "        print_subtree(self.root)\n",
    "\n",
    "    #최소 키와 최대 키를 반환하는 함수 만들기\n",
    "    def min_key(self):\n",
    "        if self.root is None:\n",
    "            print('트리가 비어있습니다')\n",
    "            return None\n",
    "        choosen_node=self.root\n",
    "        while choosen_node.left is not None:\n",
    "            choosen_node= choosen_node.left\n",
    "\n",
    "        return choosen_node.key\n",
    "\n",
    "    def max_key(self):\n",
    "        if self.root is None:\n",
    "            return None\n",
    "        choosen_node= self.root\n",
    "        while choosen_node.right is not None:\n",
    "            choosen_node= choosen_node.right\n",
    "\n",
    "        return choosen_node.key\n",
    "\n"
   ]
  },
  {
   "cell_type": "code",
   "execution_count": 2,
   "metadata": {
    "collapsed": false,
    "jupyter": {
     "outputs_hidden": false
    },
    "pycharm": {
     "name": "#%%\n"
    }
   },
   "outputs": [
    {
     "name": "stdin",
     "output_type": "stream",
     "text": [
      " (1)삽입,(2)삭제,(3)검색,(4)덤프,(5)키의범위,(6)종료중 하나를 고르세요  1\n",
      "삽입할 키를 입력하세요.:  1\n",
      "삽입할 값을 입력하세요.:  아이스크림\n"
     ]
    },
    {
     "name": "stdout",
     "output_type": "stream",
     "text": [
      "삽입에 실패하였습니다\n"
     ]
    },
    {
     "name": "stdin",
     "output_type": "stream",
     "text": [
      " (1)삽입,(2)삭제,(3)검색,(4)덤프,(5)키의범위,(6)종료중 하나를 고르세요  1\n",
      "삽입할 키를 입력하세요.:  6\n",
      "삽입할 값을 입력하세요.:  초콜릿\n",
      " (1)삽입,(2)삭제,(3)검색,(4)덤프,(5)키의범위,(6)종료중 하나를 고르세요  1\n",
      "삽입할 키를 입력하세요.:  25\n",
      "삽입할 값을 입력하세요.:  바나나\n",
      " (1)삽입,(2)삭제,(3)검색,(4)덤프,(5)키의범위,(6)종료중 하나를 고르세요  1\n",
      "삽입할 키를 입력하세요.:  05\n",
      "삽입할 값을 입력하세요.:  빙수\n",
      " (1)삽입,(2)삭제,(3)검색,(4)덤프,(5)키의범위,(6)종료중 하나를 고르세요  1\n",
      "삽입할 키를 입력하세요.:  78\n",
      "삽입할 값을 입력하세요.:  붕어빵\n",
      " (1)삽입,(2)삭제,(3)검색,(4)덤프,(5)키의범위,(6)종료중 하나를 고르세요  4\n"
     ]
    },
    {
     "name": "stdout",
     "output_type": "stream",
     "text": [
      "1아이스크림\n",
      "5빙수\n",
      "6초콜릿\n",
      "25바나나\n",
      "78붕어빵\n"
     ]
    },
    {
     "name": "stdin",
     "output_type": "stream",
     "text": [
      " (1)삽입,(2)삭제,(3)검색,(4)덤프,(5)키의범위,(6)종료중 하나를 고르세요  5\n"
     ]
    },
    {
     "name": "stdout",
     "output_type": "stream",
     "text": [
      "키의 최솟값은 1입니다\n",
      "키의 최댓값은 78입니다\n"
     ]
    },
    {
     "name": "stdin",
     "output_type": "stream",
     "text": [
      " (1)삽입,(2)삭제,(3)검색,(4)덤프,(5)키의범위,(6)종료중 하나를 고르세요  3\n",
      "검색할 키를 입력하세요. 78\n"
     ]
    },
    {
     "name": "stdout",
     "output_type": "stream",
     "text": [
      "이 키를 값는 값은 붕어빵입니다\n"
     ]
    },
    {
     "name": "stdin",
     "output_type": "stream",
     "text": [
      " (1)삽입,(2)삭제,(3)검색,(4)덤프,(5)키의범위,(6)종료중 하나를 고르세요  2\n",
      "삭제할 키를 입력하세요.:  5\n",
      " (1)삽입,(2)삭제,(3)검색,(4)덤프,(5)키의범위,(6)종료중 하나를 고르세요  4\n"
     ]
    },
    {
     "name": "stdout",
     "output_type": "stream",
     "text": [
      "1아이스크림\n",
      "6초콜릿\n",
      "25바나나\n",
      "78붕어빵\n"
     ]
    },
    {
     "name": "stdin",
     "output_type": "stream",
     "text": [
      " (1)삽입,(2)삭제,(3)검색,(4)덤프,(5)키의범위,(6)종료중 하나를 고르세요  1\n",
      "삽입할 키를 입력하세요.:  38\n",
      "삽입할 값을 입력하세요.:  빙어\n",
      " (1)삽입,(2)삭제,(3)검색,(4)덤프,(5)키의범위,(6)종료중 하나를 고르세요  4\n"
     ]
    },
    {
     "name": "stdout",
     "output_type": "stream",
     "text": [
      "1아이스크림\n",
      "6초콜릿\n",
      "25바나나\n",
      "38빙어\n",
      "78붕어빵\n"
     ]
    },
    {
     "name": "stdin",
     "output_type": "stream",
     "text": [
      " (1)삽입,(2)삭제,(3)검색,(4)덤프,(5)키의범위,(6)종료중 하나를 고르세요  1\n",
      "삽입할 키를 입력하세요.:  89\n",
      "삽입할 값을 입력하세요.:  초콜릿\n",
      " (1)삽입,(2)삭제,(3)검색,(4)덤프,(5)키의범위,(6)종료중 하나를 고르세요  5\n"
     ]
    },
    {
     "name": "stdout",
     "output_type": "stream",
     "text": [
      "키의 최솟값은 1입니다\n",
      "키의 최댓값은 89입니다\n"
     ]
    },
    {
     "name": "stdin",
     "output_type": "stream",
     "text": [
      " (1)삽입,(2)삭제,(3)검색,(4)덤프,(5)키의범위,(6)종료중 하나를 고르세요  2\n",
      "삭제할 키를 입력하세요.:  89\n",
      " (1)삽입,(2)삭제,(3)검색,(4)덤프,(5)키의범위,(6)종료중 하나를 고르세요  4\n"
     ]
    },
    {
     "name": "stdout",
     "output_type": "stream",
     "text": [
      "1아이스크림\n",
      "6초콜릿\n",
      "25바나나\n",
      "38빙어\n",
      "78붕어빵\n",
      "89초콜릿\n"
     ]
    },
    {
     "name": "stdin",
     "output_type": "stream",
     "text": [
      " (1)삽입,(2)삭제,(3)검색,(4)덤프,(5)키의범위,(6)종료중 하나를 고르세요  2\n",
      "삭제할 키를 입력하세요.:  89\n",
      " (1)삽입,(2)삭제,(3)검색,(4)덤프,(5)키의범위,(6)종료중 하나를 고르세요  3\n",
      "검색할 키를 입력하세요. 89\n"
     ]
    },
    {
     "name": "stdout",
     "output_type": "stream",
     "text": [
      "이 키를 값는 값은 초콜릿입니다\n"
     ]
    },
    {
     "name": "stdin",
     "output_type": "stream",
     "text": [
      " (1)삽입,(2)삭제,(3)검색,(4)덤프,(5)키의범위,(6)종료중 하나를 고르세요  4\n"
     ]
    },
    {
     "name": "stdout",
     "output_type": "stream",
     "text": [
      "1아이스크림\n",
      "6초콜릿\n",
      "25바나나\n",
      "38빙어\n",
      "78붕어빵\n",
      "89초콜릿\n"
     ]
    },
    {
     "name": "stdin",
     "output_type": "stream",
     "text": [
      " (1)삽입,(2)삭제,(3)검색,(4)덤프,(5)키의범위,(6)종료중 하나를 고르세요  2\n",
      "삭제할 키를 입력하세요.:  89\n",
      " (1)삽입,(2)삭제,(3)검색,(4)덤프,(5)키의범위,(6)종료중 하나를 고르세요  4\n"
     ]
    },
    {
     "name": "stdout",
     "output_type": "stream",
     "text": [
      "1아이스크림\n",
      "6초콜릿\n",
      "25바나나\n",
      "38빙어\n",
      "78붕어빵\n",
      "89초콜릿\n"
     ]
    },
    {
     "name": "stdin",
     "output_type": "stream",
     "text": [
      " (1)삽입,(2)삭제,(3)검색,(4)덤프,(5)키의범위,(6)종료중 하나를 고르세요  2\n",
      "삭제할 키를 입력하세요.:  6\n",
      " (1)삽입,(2)삭제,(3)검색,(4)덤프,(5)키의범위,(6)종료중 하나를 고르세요  4\n"
     ]
    },
    {
     "name": "stdout",
     "output_type": "stream",
     "text": [
      "1아이스크림\n",
      "6초콜릿\n",
      "25바나나\n",
      "38빙어\n",
      "78붕어빵\n",
      "89초콜릿\n"
     ]
    },
    {
     "name": "stdin",
     "output_type": "stream",
     "text": [
      " (1)삽입,(2)삭제,(3)검색,(4)덤프,(5)키의범위,(6)종료중 하나를 고르세요  6\n"
     ]
    }
   ],
   "source": [
    "from enum import Enum\n",
    "\n",
    "Menu= Enum('Menu',['삽입','삭제','검색','덤프','키의범위','종료'])\n",
    "\n",
    "def select_Menu():\n",
    "    s= [f'({m.value}){m.name}' for m in Menu]\n",
    "    while True:\n",
    "        # print(*s,sep=' ',end='')\n",
    "        n= int(input(\" (1)삽입,(2)삭제,(3)검색,(4)덤프,(5)키의범위,(6)종료중 하나를 고르세요 \"))\n",
    "        if 1<= n<= len(Menu):\n",
    "            return Menu(n)\n",
    "\n",
    "tree = BinarySearchTree()\n",
    "\n",
    "while True:\n",
    "    menu=select_Menu()\n",
    "\n",
    "    if menu== Menu.삽입:\n",
    "        key= int(input('삽입할 키를 입력하세요.: '))\n",
    "        val= input('삽입할 값을 입력하세요.: ')\n",
    "        if not tree.add_node(key,val):\n",
    "            print('삽입에 실패하였습니다')\n",
    "\n",
    "    elif menu==Menu.삭제:\n",
    "        key= int(input('삭제할 키를 입력하세요.: '))\n",
    "        tree.remove_node(key)\n",
    "\n",
    "    elif menu==Menu.검색:\n",
    "        key= int(input('검색할 키를 입력하세요.'))\n",
    "        t= tree.search(key)\n",
    "        if t is not None:\n",
    "            print(f'이 키를 값는 값은 {t}입니다')\n",
    "        else:\n",
    "            print('찾으시는 데이터가 없습니다')\n",
    "\n",
    "    elif menu==Menu.덤프:\n",
    "        tree.dump()\n",
    "\n",
    "    elif menu== Menu.키의범위:\n",
    "        print(f'키의 최솟값은 {tree.min_key()}입니다')\n",
    "        print(f'키의 최댓값은 {tree.max_key()}입니다')\n",
    "\n",
    "    else:\n",
    "        break\n"
   ]
  },
  {
   "cell_type": "code",
   "execution_count": null,
   "metadata": {
    "collapsed": false,
    "jupyter": {
     "outputs_hidden": false
    },
    "pycharm": {
     "name": "#%%\n"
    }
   },
   "outputs": [],
   "source": []
  },
  {
   "cell_type": "code",
   "execution_count": null,
   "metadata": {
    "collapsed": false,
    "jupyter": {
     "outputs_hidden": false
    },
    "pycharm": {
     "name": "#%%\n"
    }
   },
   "outputs": [],
   "source": []
  }
 ],
 "metadata": {
  "kernelspec": {
   "display_name": "Python 3",
   "language": "python",
   "name": "python3"
  },
  "language_info": {
   "codemirror_mode": {
    "name": "ipython",
    "version": 3
   },
   "file_extension": ".py",
   "mimetype": "text/x-python",
   "name": "python",
   "nbconvert_exporter": "python",
   "pygments_lexer": "ipython3",
   "version": "3.8.8"
  }
 },
 "nbformat": 4,
 "nbformat_minor": 4
}
