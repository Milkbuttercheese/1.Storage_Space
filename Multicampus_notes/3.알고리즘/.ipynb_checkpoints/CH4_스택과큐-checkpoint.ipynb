{
 "cells": [
  {
   "cell_type": "code",
   "execution_count": 44,
   "id": "3655c7ab-3b1f-4148-8ea5-e30a948c78ef",
   "metadata": {},
   "outputs": [],
   "source": [
    "# class FixedStack:\n",
    "#     #스택 본체(리스트로 구현),스택의 크기, 스택에 체워진 원소수를 지정한다 \n",
    "#     def __init__(self,capacity,int=256):\n",
    "#         self.stk=[None]*capacity\n",
    "#         self.capacity=capacity\n",
    "#         self.ptr=0\n",
    "     \n",
    "#     #스택에 쌓여있는 데이터수를 반환해주는 함수   \n",
    "#     #__len__으로 표기하면\n",
    "#     #obj.__len__()뿐만 아니라 len(obj)으로, 인스턴스를 입력하는 방식으로도 호출할 수 있다\n",
    "#     def __len__(self):\n",
    "#         return self.ptr\n",
    "    \n",
    "#     #스택이 비어있는지 판단하는 함수\n",
    "#     def is_empty(self):\n",
    "#         if self.ptr > 0 : \n",
    "#             return False \n",
    "#         return True\n",
    "     \n",
    "#     #스택이 가득 차있는지 판단하는 함수\n",
    "#     def is_full(self):\n",
    "#         if self.ptr == self.capacity:\n",
    "#             return True\n",
    "#         return False\n",
    "    \n",
    "#     #푸시push: 스택 꼭대기에 값이 value인 데이터를 삽입하는 함수\n",
    "#     def push(self,value):\n",
    "#         if self.is_full():\n",
    "#             print('스택이 가득 차있습니다')\n",
    "#             return \n",
    "#         self.stk[self.ptr]=value\n",
    "#         self.ptr= self.ptr+1\n",
    "    \n",
    "#     #팝pop: 스택 꼭대기의 데이터를 꺼내는(스택에서 꼭대기 데이터를 삭제하고,출력하는) 함수\n",
    "#     def pop(self):\n",
    "#         if self.is_empty():\n",
    "#             print('스택이 비어 있습니다')\n",
    "#             return \n",
    "#         self.ptr= self.ptr-1\n",
    "#         print(f'팝한 데이터는{self.stk[self.ptr]}입니다')\n",
    "#         return self.stk[self.ptr] \n",
    "    \n",
    "#     #피크peek: 스택 꼭대기의 데이터를 들여다보는 함수\n",
    "#     def peek(self):\n",
    "#         if self.is_empty():\n",
    "#             print('스택이 비어있습니다')\n",
    "#             return \n",
    "#         print(f'피크한 데이터는{self.stk[self.ptr-1]}입니다')\n",
    "#         return \n",
    "    \n",
    "#     #클리어clear: 스택의 모든 데이터를 비우는 함수\n",
    "#     def clear(self):\n",
    "#         self.ptr=0\n",
    "        \n",
    "#     #파인드find:데이터를 검색하는 함수/ 꼭대기부터 바닥쪽으로 선형검색을 한다\n",
    "#     #for range에서 두번째parameter가 첫번째 parameter보다 작은경우 첫번째 parameter가 우경계가 되며\n",
    "#     #두번째 parameter는 좌경계값이 되고, 경계값을 포함하지 않는다\n",
    "#     #검색이 성공하면 그 위치의 인덱스를, 실패하면 -1을 반환한다\n",
    "#     def find(self,value):                  \n",
    "#         for i in range(self.ptr-1,-1,-1):\n",
    "#             if self.stk[i] == value:\n",
    "#                 return i\n",
    "#         return -1\n",
    "    \n",
    "#     #카운트count:스택에 특정값value를 갖는 원소의 갯수를 카운트한다\n",
    "#     def count(self,value):\n",
    "#         c=0\n",
    "#         for i in range(self.ptr):\n",
    "#             if self.stk[i] == value:\n",
    "#                 c=c+1\n",
    "#         return c\n",
    "    \n",
    "#     #__contains__:스택안에 특정값value를 갖는 데이터가 포함되어 있는지 확인한다\n",
    "#     #__contains__로 표기하면 obj.__contains__(x) 표기 뿐만 아니라 ,\n",
    "#     # x in obj로, 인스턴스의 멤버십 판단을 할 수 있다\n",
    "#     def __contains__(self,value):\n",
    "#         if self.count(value)>0:\n",
    "#             return True\n",
    "#         return False\n",
    "    \n",
    "#     #덤프dump:스택안의 데이터를 바닥부터 꼭대기순으로 출력하기(보여주기)\n",
    "#     def dump(self):\n",
    "#         if self.is_empty():\n",
    "#             print('스택이 비어있습니다')\n",
    "#         else:\n",
    "#             print(self.stk[:self.ptr])\n",
    "           \n",
    "    "
   ]
  },
  {
   "cell_type": "code",
   "execution_count": null,
   "id": "ae89f1ca-902a-4fda-baa9-6bbab61e3b88",
   "metadata": {},
   "outputs": [
    {
     "name": "stdout",
     "output_type": "stream",
     "text": [
      "현재 데이터 개수:0/64\n",
      "(1)푸시(2)팝(3)피크(4)검색(5)덤프(6)종료"
     ]
    },
    {
     "name": "stdin",
     "output_type": "stream",
     "text": [
      ":  1\n",
      "데이터를 입력하세요.:  3\n"
     ]
    },
    {
     "name": "stdout",
     "output_type": "stream",
     "text": [
      "현재 데이터 개수:1/64\n",
      "(1)푸시(2)팝(3)피크(4)검색(5)덤프(6)종료"
     ]
    },
    {
     "name": "stdin",
     "output_type": "stream",
     "text": [
      ":  1\n",
      "데이터를 입력하세요.:  7\n"
     ]
    },
    {
     "name": "stdout",
     "output_type": "stream",
     "text": [
      "현재 데이터 개수:2/64\n",
      "(1)푸시(2)팝(3)피크(4)검색(5)덤프(6)종료"
     ]
    },
    {
     "name": "stdin",
     "output_type": "stream",
     "text": [
      ":  1\n",
      "데이터를 입력하세요.:  10\n"
     ]
    },
    {
     "name": "stdout",
     "output_type": "stream",
     "text": [
      "현재 데이터 개수:3/64\n",
      "(1)푸시(2)팝(3)피크(4)검색(5)덤프(6)종료"
     ]
    },
    {
     "name": "stdin",
     "output_type": "stream",
     "text": [
      ":  1\n",
      "데이터를 입력하세요.:  7\n"
     ]
    },
    {
     "name": "stdout",
     "output_type": "stream",
     "text": [
      "현재 데이터 개수:4/64\n",
      "(1)푸시(2)팝(3)피크(4)검색(5)덤프(6)종료"
     ]
    },
    {
     "name": "stdin",
     "output_type": "stream",
     "text": [
      ":  1\n",
      "데이터를 입력하세요.:  4\n"
     ]
    },
    {
     "name": "stdout",
     "output_type": "stream",
     "text": [
      "현재 데이터 개수:5/64\n",
      "(1)푸시(2)팝(3)피크(4)검색(5)덤프(6)종료"
     ]
    },
    {
     "name": "stdin",
     "output_type": "stream",
     "text": [
      ":  5\n"
     ]
    },
    {
     "name": "stdout",
     "output_type": "stream",
     "text": [
      "[3, 7, 10, 7, 4]\n",
      "현재 데이터 개수:5/64\n",
      "(1)푸시(2)팝(3)피크(4)검색(5)덤프(6)종료"
     ]
    },
    {
     "name": "stdin",
     "output_type": "stream",
     "text": [
      ":  3\n"
     ]
    },
    {
     "name": "stdout",
     "output_type": "stream",
     "text": [
      "피크한 데이터는4입니다\n",
      "현재 데이터 개수:5/64\n",
      "(1)푸시(2)팝(3)피크(4)검색(5)덤프(6)종료"
     ]
    },
    {
     "name": "stdin",
     "output_type": "stream",
     "text": [
      ":  2\n"
     ]
    },
    {
     "name": "stdout",
     "output_type": "stream",
     "text": [
      "팝한 데이터는4입니다\n",
      "현재 데이터 개수:4/64\n",
      "(1)푸시(2)팝(3)피크(4)검색(5)덤프(6)종료"
     ]
    },
    {
     "name": "stdin",
     "output_type": "stream",
     "text": [
      ":  5\n"
     ]
    },
    {
     "name": "stdout",
     "output_type": "stream",
     "text": [
      "[3, 7, 10, 7]\n",
      "현재 데이터 개수:4/64\n",
      "(1)푸시(2)팝(3)피크(4)검색(5)덤프(6)종료"
     ]
    },
    {
     "name": "stdin",
     "output_type": "stream",
     "text": [
      ":  4\n",
      "검색할 값을 입력해주세요 10\n"
     ]
    },
    {
     "name": "stdout",
     "output_type": "stream",
     "text": [
      "1개가 저장되어 있고 맨 위의 위치는 2입니다\n",
      "현재 데이터 개수:4/64\n",
      "(1)푸시(2)팝(3)피크(4)검색(5)덤프(6)종료"
     ]
    }
   ],
   "source": [
    "from enum import Enum\n",
    "from fixed_stack import *\n",
    "\n",
    "Menu= Enum('Menu',['푸시','팝','피크','검색','덤프','종료'])\n",
    "def select_menu():\n",
    "    s=[f'({m.value}){m.name}' for m in Menu]\n",
    "    while True:\n",
    "        print(*s, sep='',end='')\n",
    "        n= int(input(': '))\n",
    "        if 1<= n <=len(Menu):\n",
    "            return Menu(n)\n",
    "\n",
    "#최대 64개를 푸시할 수 있는 스택\n",
    "stack= FixedStack(64)\n",
    "while True:\n",
    "    print(f'현재 데이터 개수:{len(stack)}/{stack.capacity}')\n",
    "    menu=select_menu()\n",
    "    \n",
    "    if menu == Menu.푸시:\n",
    "        x= int(input('데이터를 입력하세요.: '))\n",
    "        stack.push(x)\n",
    "    \n",
    "    elif menu == Menu.팝:\n",
    "        x= stack.pop()\n",
    "        \n",
    "    elif menu == Menu.피크:\n",
    "        stack.peek()\n",
    "\n",
    "    elif menu== Menu.검색:\n",
    "        x=int(input('검색할 값을 입력해주세요'))\n",
    "        if x in stack:\n",
    "            print(f'{stack.count(x)}개가 저장되어 있고 맨 위의 위치는 {stack.find(x)}입니다')\n",
    "        else:\n",
    "            print('해당 값은 저장되어 있지 않습니다')\n",
    "    \n",
    "    elif menu == Menu.덤프:\n",
    "        stack.dump()\n",
    "    \n",
    "    else:\n",
    "        break\n",
    "    "
   ]
  },
  {
   "cell_type": "code",
   "execution_count": 23,
   "id": "e0e3254d-bb6c-4a6b-9a41-42ee3e55a272",
   "metadata": {},
   "outputs": [
    {
     "data": {
      "text/plain": [
       "True"
      ]
     },
     "execution_count": 23,
     "metadata": {},
     "output_type": "execute_result"
    }
   ],
   "source": [
    "Menu= Enum('Menu',['추가','삭제','검색','덤프','종료'])\n",
    "Menu(2)== Menu.삭제"
   ]
  },
  {
   "cell_type": "code",
   "execution_count": null,
   "id": "51715b8f-f1b0-48d4-b50c-9cac3a4e10a5",
   "metadata": {},
   "outputs": [],
   "source": [
    "#fixedstack dtype을 deque를 이용해서 구현해보자\n",
    "# from collections import deque\n",
    "\n",
    "# class Stack:\n",
    "#     # maxlen 길이 만큼의 크기를 가진 빈 deque를 만듬\n",
    "#     def __init__(self,maxlen=256):\n",
    "#         self.capacity=maxlen\n",
    "#         self.__stk=deque([],maxlen)\n",
    "        \n",
    "#     def __len__(self):\n",
    "#         return len(self.__stk)\n",
    "    \n",
    "#     def is_empty(self):\n",
    "#         if self.__stk <= 0:\n",
    "#             return True\n",
    "#         return False\n",
    "    \n",
    "#     def is_full(self):\n",
    "#         if len(self.__stk) == self.__stk.maxlen:\n",
    "#             return True\n",
    "#         return False\n",
    "    \n",
    "#     def push(self,value):\n",
    "#         self.__stk.append(value)\n",
    "    \n",
    "#     def pop(self):\n",
    "#         return self.__stk.pop()\n",
    "    \n",
    "#     def peek(self):\n",
    "#         print(f'peek 값은 {self.__stk[-1]} 입니다')\n",
    "#         return \n",
    "    \n",
    "#     def clear(self):\n",
    "#         return self.__stk.clear()\n",
    "    \n",
    "#     def find(self,value):\n",
    "#         try:\n",
    "#             return self.__stk.index(value)\n",
    "#         except ValueError:\n",
    "#             return -1\n",
    "        \n",
    "#     def count(self,value):\n",
    "#         return self.__stk.count(value)\n",
    "    \n",
    "#     def __contains__(self,value):\n",
    "#         return self.count(value)\n",
    "    \n",
    "#     def dump(self):\n",
    "#         print(list(self.__stk))\n",
    "    "
   ]
  },
  {
   "cell_type": "code",
   "execution_count": null,
   "id": "a6d30c27-3606-4f25-94b5-2d2a77f5245d",
   "metadata": {},
   "outputs": [
    {
     "name": "stdout",
     "output_type": "stream",
     "text": [
      "현재 데이터 개수:0/64\n",
      "(1)푸시(2)팝(3)피크(4)검색(5)덤프(6)종료"
     ]
    },
    {
     "name": "stdin",
     "output_type": "stream",
     "text": [
      ":  1\n",
      "데이터를 입력하세요.:  7\n"
     ]
    },
    {
     "name": "stdout",
     "output_type": "stream",
     "text": [
      "현재 데이터 개수:1/64\n",
      "(1)푸시(2)팝(3)피크(4)검색(5)덤프(6)종료"
     ]
    },
    {
     "name": "stdin",
     "output_type": "stream",
     "text": [
      ":  1\n",
      "데이터를 입력하세요.:  4\n"
     ]
    },
    {
     "name": "stdout",
     "output_type": "stream",
     "text": [
      "현재 데이터 개수:2/64\n",
      "(1)푸시(2)팝(3)피크(4)검색(5)덤프(6)종료"
     ]
    },
    {
     "name": "stdin",
     "output_type": "stream",
     "text": [
      ":  3\n"
     ]
    },
    {
     "name": "stdout",
     "output_type": "stream",
     "text": [
      "peek 값은 4 입니다\n",
      "현재 데이터 개수:2/64\n",
      "(1)푸시(2)팝(3)피크(4)검색(5)덤프(6)종료"
     ]
    },
    {
     "name": "stdin",
     "output_type": "stream",
     "text": [
      ":  5\n"
     ]
    },
    {
     "name": "stdout",
     "output_type": "stream",
     "text": [
      "[7, 4]\n",
      "현재 데이터 개수:2/64\n",
      "(1)푸시(2)팝(3)피크(4)검색(5)덤프(6)종료"
     ]
    },
    {
     "name": "stdin",
     "output_type": "stream",
     "text": [
      ":  1\n",
      "데이터를 입력하세요.:  6\n"
     ]
    },
    {
     "name": "stdout",
     "output_type": "stream",
     "text": [
      "현재 데이터 개수:3/64\n",
      "(1)푸시(2)팝(3)피크(4)검색(5)덤프(6)종료"
     ]
    },
    {
     "name": "stdin",
     "output_type": "stream",
     "text": [
      ":  1\n",
      "데이터를 입력하세요.:  9\n"
     ]
    },
    {
     "name": "stdout",
     "output_type": "stream",
     "text": [
      "현재 데이터 개수:4/64\n",
      "(1)푸시(2)팝(3)피크(4)검색(5)덤프(6)종료"
     ]
    },
    {
     "name": "stdin",
     "output_type": "stream",
     "text": [
      ":  5\n"
     ]
    },
    {
     "name": "stdout",
     "output_type": "stream",
     "text": [
      "[7, 4, 6, 9]\n",
      "현재 데이터 개수:4/64\n",
      "(1)푸시(2)팝(3)피크(4)검색(5)덤프(6)종료"
     ]
    },
    {
     "name": "stdin",
     "output_type": "stream",
     "text": [
      ":  3\n"
     ]
    },
    {
     "name": "stdout",
     "output_type": "stream",
     "text": [
      "peek 값은 9 입니다\n",
      "현재 데이터 개수:4/64\n",
      "(1)푸시(2)팝(3)피크(4)검색(5)덤프(6)종료"
     ]
    }
   ],
   "source": [
    "from enum import Enum\n",
    "from stack_test import *\n",
    "\n",
    "Menu= Enum('Menu',['푸시','팝','피크','검색','덤프','종료'])\n",
    "def select_menu():\n",
    "    s=[f'({m.value}){m.name}' for m in Menu]\n",
    "    while True:\n",
    "        print(*s, sep='',end='')\n",
    "        n= int(input(': '))\n",
    "        if 1<= n <=len(Menu):\n",
    "            return Menu(n)\n",
    "\n",
    "stack= Stack(64)\n",
    "while True:\n",
    "    print(f'현재 데이터 개수:{len(stack)}/{stack.capacity}')\n",
    "    menu=select_menu()\n",
    "    \n",
    "    if menu == Menu.푸시:\n",
    "        x= int(input('데이터를 입력하세요.: '))\n",
    "        stack.push(x)\n",
    "    \n",
    "    elif menu == Menu.팝:\n",
    "        x= stack.pop()\n",
    "        \n",
    "    elif menu == Menu.피크:\n",
    "        stack.peek()\n",
    "\n",
    "    elif menu== Menu.검색:\n",
    "        x=int(input('검색할 값을 입력해주세요'))\n",
    "        if x in stack:\n",
    "            print(f'{stack.count(x)}개가 저장되어 있고 맨 위의 위치는 {stack.find(x)}입니다')\n",
    "        else:\n",
    "            print('해당 값은 저장되어 있지 않습니다')\n",
    "    \n",
    "    elif menu == Menu.덤프:\n",
    "        stack.dump()\n",
    "    \n",
    "    else:\n",
    "        break\n",
    "    "
   ]
  },
  {
   "cell_type": "code",
   "execution_count": 47,
   "id": "745ea1ee-5061-4480-bce5-31ef9f02eb8c",
   "metadata": {},
   "outputs": [],
   "source": [
    "#고정된 길이의 큐 클래스 구현하기\n",
    "#\n",
    "class FixedQueue:\n",
    "    # 큐의 용량, 큐 본체, 데이터 보유수, 프론트 커서위치, 리어 커서 위치\n",
    "    def __init__(self,capacity):\n",
    "        self.capacity=capacity\n",
    "        self.que=[None]*capacity\n",
    "        self.no=0\n",
    "        self.front=0\n",
    "        self.rear=0\n",
    "    \n",
    "    def __len__(self):\n",
    "        return self.no\n",
    "    \n",
    "    def is_empty(self):\n",
    "        if self.no <=0:\n",
    "            print('현재 큐는 비어져 있습니다')\n",
    "            return True\n",
    "        return False\n",
    "    \n",
    "    def is_full(self):\n",
    "        if self.no == self.capacity:\n",
    "            print('현재 큐는 가득 찼습니다')\n",
    "            return True\n",
    "        return False\n",
    "    \n",
    "    #데이터 넣기 enque\n",
    "    #rear위치가 인덱스 마지막 번째라면 \n",
    "    #데이터를 담기 위해 맨 앞으로 인덱스를 옮긴다\n",
    "    def enque(self,x):\n",
    "        if self.is_full()== True:\n",
    "            return\n",
    "        self.que[self.rear]=x\n",
    "        self.rear = self.rear+1\n",
    "        self.no= self.no+1\n",
    "        if self.rear == self.capacity:\n",
    "            self.rear=0\n",
    "        \n",
    "    #데이터를 꺼내기 deque\n",
    "    def deque(self):\n",
    "        if self.is_empty():\n",
    "            return\n",
    "        x= self.que[self.front]\n",
    "        self.front = self.front +1\n",
    "        self.no= self.no -1\n",
    "        if self.front== self.capacity:\n",
    "            self.front=0\n",
    "        return x\n",
    "    \n",
    "    #맨 앞 데이터 들여다 보기 peek\n",
    "    def peek(self):\n",
    "        if self.is_empty():\n",
    "            print('현재 큐는 비어져 있습니다')\n",
    "            return\n",
    "        print(f'피크(맨 앞의 데이터)는 {self.que[self.front]}이고, 위치는 {self.front} 입니다')\n",
    "        return \n",
    "        \n",
    "    #데이터 있는지 검색하기 find\n",
    "    def find(self,value):\n",
    "        for i in range(self.no):\n",
    "            idx= (i+self.front) %self.capacity\n",
    "            if self.que[idx] == value:\n",
    "                return idx\n",
    "        return False\n",
    "    \n",
    "    #데이터 갯수세기 \n",
    "    def count(self,value):\n",
    "        c=0\n",
    "        for i in range(self.no):\n",
    "            idx=(i+self.front)%self.capacity\n",
    "            if self.que[idx] == value:\n",
    "                c= c+1\n",
    "        return c\n",
    "    \n",
    "    #큐에 value가 있는지 판단하기\n",
    "    def __contains__(self,value):\n",
    "        return self.count(value)\n",
    "        \n",
    "    #큐의 데이터 비우기\n",
    "    def clear(self):\n",
    "        self.no= self.front=self.rear=0\n",
    "        \n",
    "    #큐의 데이터 출력시키기\n",
    "    def dump(self):\n",
    "        if self.is_empty():\n",
    "            return\n",
    "        for i in range(self.no):\n",
    "            print(str(self.que[(i+self.front)%self.capacity])+',',end=' ')\n",
    "        print()\n",
    "        \n",
    "        "
   ]
  },
  {
   "cell_type": "code",
   "execution_count": 46,
   "id": "d870248f-0b54-453c-b783-076432c22c18",
   "metadata": {},
   "outputs": [
    {
     "name": "stdout",
     "output_type": "stream",
     "text": [
      " 현재 데이터 갯수:0/64\n",
      "(1)인큐 (2)디큐 (3)피크 (4)검색 (5)덤프 (6)종료"
     ]
    },
    {
     "name": "stdin",
     "output_type": "stream",
     "text": [
      " 1\n",
      "인큐할 데이터를 입력해주세요 7\n"
     ]
    },
    {
     "name": "stdout",
     "output_type": "stream",
     "text": [
      " 현재 데이터 갯수:1/64\n",
      "(1)인큐 (2)디큐 (3)피크 (4)검색 (5)덤프 (6)종료"
     ]
    },
    {
     "name": "stdin",
     "output_type": "stream",
     "text": [
      " 1\n",
      "인큐할 데이터를 입력해주세요 10\n"
     ]
    },
    {
     "name": "stdout",
     "output_type": "stream",
     "text": [
      " 현재 데이터 갯수:2/64\n",
      "(1)인큐 (2)디큐 (3)피크 (4)검색 (5)덤프 (6)종료"
     ]
    },
    {
     "name": "stdin",
     "output_type": "stream",
     "text": [
      " 1\n",
      "인큐할 데이터를 입력해주세요 -3\n"
     ]
    },
    {
     "name": "stdout",
     "output_type": "stream",
     "text": [
      " 현재 데이터 갯수:3/64\n",
      "(1)인큐 (2)디큐 (3)피크 (4)검색 (5)덤프 (6)종료"
     ]
    },
    {
     "name": "stdin",
     "output_type": "stream",
     "text": [
      " 1\n",
      "인큐할 데이터를 입력해주세요 5\n"
     ]
    },
    {
     "name": "stdout",
     "output_type": "stream",
     "text": [
      " 현재 데이터 갯수:4/64\n",
      "(1)인큐 (2)디큐 (3)피크 (4)검색 (5)덤프 (6)종료"
     ]
    },
    {
     "name": "stdin",
     "output_type": "stream",
     "text": [
      " 5\n"
     ]
    },
    {
     "name": "stdout",
     "output_type": "stream",
     "text": [
      "7, 10, -3, 5, \n",
      " 현재 데이터 갯수:4/64\n",
      "(1)인큐 (2)디큐 (3)피크 (4)검색 (5)덤프 (6)종료"
     ]
    },
    {
     "name": "stdin",
     "output_type": "stream",
     "text": [
      " 3\n"
     ]
    },
    {
     "name": "stdout",
     "output_type": "stream",
     "text": [
      "피크(맨 앞의 데이터)는 7입니다\n",
      " 현재 데이터 갯수:4/64\n",
      "(1)인큐 (2)디큐 (3)피크 (4)검색 (5)덤프 (6)종료"
     ]
    },
    {
     "ename": "KeyboardInterrupt",
     "evalue": "Interrupted by user",
     "output_type": "error",
     "traceback": [
      "\u001b[1;31m---------------------------------------------------------------------------\u001b[0m",
      "\u001b[1;31mKeyboardInterrupt\u001b[0m                         Traceback (most recent call last)",
      "\u001b[1;32m<ipython-input-46-3e7fc3fc36fc>\u001b[0m in \u001b[0;36m<module>\u001b[1;34m\u001b[0m\n\u001b[0;32m     15\u001b[0m \u001b[1;32mwhile\u001b[0m \u001b[1;32mTrue\u001b[0m\u001b[1;33m:\u001b[0m\u001b[1;33m\u001b[0m\u001b[1;33m\u001b[0m\u001b[0m\n\u001b[0;32m     16\u001b[0m     \u001b[0mprint\u001b[0m\u001b[1;33m(\u001b[0m\u001b[1;34mf' 현재 데이터 갯수:{len(q)}/{q.capacity}'\u001b[0m\u001b[1;33m)\u001b[0m\u001b[1;33m\u001b[0m\u001b[1;33m\u001b[0m\u001b[0m\n\u001b[1;32m---> 17\u001b[1;33m     \u001b[0mmenu\u001b[0m\u001b[1;33m=\u001b[0m\u001b[0mselect_menu\u001b[0m\u001b[1;33m(\u001b[0m\u001b[1;33m)\u001b[0m\u001b[1;33m\u001b[0m\u001b[1;33m\u001b[0m\u001b[0m\n\u001b[0m\u001b[0;32m     18\u001b[0m \u001b[1;33m\u001b[0m\u001b[0m\n\u001b[0;32m     19\u001b[0m     \u001b[1;32mif\u001b[0m \u001b[0mmenu\u001b[0m\u001b[1;33m==\u001b[0m \u001b[0mMenu\u001b[0m\u001b[1;33m.\u001b[0m\u001b[0m인큐\u001b[0m\u001b[1;33m:\u001b[0m\u001b[1;33m\u001b[0m\u001b[1;33m\u001b[0m\u001b[0m\n",
      "\u001b[1;32m<ipython-input-46-3e7fc3fc36fc>\u001b[0m in \u001b[0;36mselect_menu\u001b[1;34m()\u001b[0m\n\u001b[0;32m      7\u001b[0m     \u001b[1;32mwhile\u001b[0m \u001b[1;32mTrue\u001b[0m\u001b[1;33m:\u001b[0m\u001b[1;33m\u001b[0m\u001b[1;33m\u001b[0m\u001b[0m\n\u001b[0;32m      8\u001b[0m         \u001b[0mprint\u001b[0m\u001b[1;33m(\u001b[0m\u001b[1;33m*\u001b[0m\u001b[0ms\u001b[0m\u001b[1;33m,\u001b[0m \u001b[0msep\u001b[0m\u001b[1;33m=\u001b[0m\u001b[1;34m' '\u001b[0m\u001b[1;33m,\u001b[0m\u001b[0mend\u001b[0m\u001b[1;33m=\u001b[0m\u001b[1;34m''\u001b[0m \u001b[1;33m)\u001b[0m\u001b[1;33m\u001b[0m\u001b[1;33m\u001b[0m\u001b[0m\n\u001b[1;32m----> 9\u001b[1;33m         \u001b[0mn\u001b[0m\u001b[1;33m=\u001b[0m\u001b[0mint\u001b[0m\u001b[1;33m(\u001b[0m\u001b[0minput\u001b[0m\u001b[1;33m(\u001b[0m\u001b[1;34m''\u001b[0m\u001b[1;33m)\u001b[0m\u001b[1;33m)\u001b[0m\u001b[1;33m\u001b[0m\u001b[1;33m\u001b[0m\u001b[0m\n\u001b[0m\u001b[0;32m     10\u001b[0m         \u001b[1;32mif\u001b[0m \u001b[1;36m1\u001b[0m\u001b[1;33m<=\u001b[0m\u001b[0mn\u001b[0m\u001b[1;33m<=\u001b[0m\u001b[0mlen\u001b[0m\u001b[1;33m(\u001b[0m\u001b[0mMenu\u001b[0m\u001b[1;33m)\u001b[0m\u001b[1;33m:\u001b[0m\u001b[1;33m\u001b[0m\u001b[1;33m\u001b[0m\u001b[0m\n\u001b[0;32m     11\u001b[0m             \u001b[1;32mreturn\u001b[0m \u001b[0mMenu\u001b[0m\u001b[1;33m(\u001b[0m\u001b[0mn\u001b[0m\u001b[1;33m)\u001b[0m\u001b[1;33m\u001b[0m\u001b[1;33m\u001b[0m\u001b[0m\n",
      "\u001b[1;32m~\\anaconda3\\lib\\site-packages\\ipykernel\\kernelbase.py\u001b[0m in \u001b[0;36mraw_input\u001b[1;34m(self, prompt)\u001b[0m\n\u001b[0;32m    858\u001b[0m                 \u001b[1;34m\"raw_input was called, but this frontend does not support input requests.\"\u001b[0m\u001b[1;33m\u001b[0m\u001b[1;33m\u001b[0m\u001b[0m\n\u001b[0;32m    859\u001b[0m             )\n\u001b[1;32m--> 860\u001b[1;33m         return self._input_request(str(prompt),\n\u001b[0m\u001b[0;32m    861\u001b[0m             \u001b[0mself\u001b[0m\u001b[1;33m.\u001b[0m\u001b[0m_parent_ident\u001b[0m\u001b[1;33m,\u001b[0m\u001b[1;33m\u001b[0m\u001b[1;33m\u001b[0m\u001b[0m\n\u001b[0;32m    862\u001b[0m             \u001b[0mself\u001b[0m\u001b[1;33m.\u001b[0m\u001b[0m_parent_header\u001b[0m\u001b[1;33m,\u001b[0m\u001b[1;33m\u001b[0m\u001b[1;33m\u001b[0m\u001b[0m\n",
      "\u001b[1;32m~\\anaconda3\\lib\\site-packages\\ipykernel\\kernelbase.py\u001b[0m in \u001b[0;36m_input_request\u001b[1;34m(self, prompt, ident, parent, password)\u001b[0m\n\u001b[0;32m    902\u001b[0m             \u001b[1;32mexcept\u001b[0m \u001b[0mKeyboardInterrupt\u001b[0m\u001b[1;33m:\u001b[0m\u001b[1;33m\u001b[0m\u001b[1;33m\u001b[0m\u001b[0m\n\u001b[0;32m    903\u001b[0m                 \u001b[1;31m# re-raise KeyboardInterrupt, to truncate traceback\u001b[0m\u001b[1;33m\u001b[0m\u001b[1;33m\u001b[0m\u001b[1;33m\u001b[0m\u001b[0m\n\u001b[1;32m--> 904\u001b[1;33m                 \u001b[1;32mraise\u001b[0m \u001b[0mKeyboardInterrupt\u001b[0m\u001b[1;33m(\u001b[0m\u001b[1;34m\"Interrupted by user\"\u001b[0m\u001b[1;33m)\u001b[0m \u001b[1;32mfrom\u001b[0m \u001b[1;32mNone\u001b[0m\u001b[1;33m\u001b[0m\u001b[1;33m\u001b[0m\u001b[0m\n\u001b[0m\u001b[0;32m    905\u001b[0m             \u001b[1;32mexcept\u001b[0m \u001b[0mException\u001b[0m \u001b[1;32mas\u001b[0m \u001b[0me\u001b[0m\u001b[1;33m:\u001b[0m\u001b[1;33m\u001b[0m\u001b[1;33m\u001b[0m\u001b[0m\n\u001b[0;32m    906\u001b[0m                 \u001b[0mself\u001b[0m\u001b[1;33m.\u001b[0m\u001b[0mlog\u001b[0m\u001b[1;33m.\u001b[0m\u001b[0mwarning\u001b[0m\u001b[1;33m(\u001b[0m\u001b[1;34m\"Invalid Message:\"\u001b[0m\u001b[1;33m,\u001b[0m \u001b[0mexc_info\u001b[0m\u001b[1;33m=\u001b[0m\u001b[1;32mTrue\u001b[0m\u001b[1;33m)\u001b[0m\u001b[1;33m\u001b[0m\u001b[1;33m\u001b[0m\u001b[0m\n",
      "\u001b[1;31mKeyboardInterrupt\u001b[0m: Interrupted by user"
     ]
    }
   ],
   "source": [
    "from enum import Enum\n",
    "\n",
    "Menu= Enum('Menu',['인큐','디큐','피크','검색','덤프','종료'])\n",
    "\n",
    "def select_menu():\n",
    "    s=[f'({m.value}){m.name}' for m in Menu]\n",
    "    while True:\n",
    "        print(*s, sep=' ',end='' )\n",
    "        n=int(input(''))\n",
    "        if 1<=n<=len(Menu):\n",
    "            return Menu(n)\n",
    "        \n",
    "q=FixedQueue(64)\n",
    "\n",
    "while True:\n",
    "    print(f' 현재 데이터 갯수:{len(q)}/{q.capacity}')\n",
    "    menu=select_menu()\n",
    "    \n",
    "    if menu== Menu.인큐:\n",
    "        x= int(input('인큐할 데이터를 입력해주세요'))\n",
    "        q.enque(x)\n",
    "    \n",
    "    elif menu== Menu.디큐:\n",
    "        q.deque()\n",
    "        \n",
    "    elif menu== Menu.피크:\n",
    "        q.peek()\n",
    "        \n",
    "    elif menu==Menu.검색:\n",
    "        x= int(input('검색할 데이터를 입력해주세요'))\n",
    "        if x in q:\n",
    "            print(f'{q.count(x)}개가 존재하고, 맨 앞의 위치는 {q.find(x)}입니다')\n",
    "        else:\n",
    "            print('큐내에서 해당값을 찾지 못했습니다')\n",
    "    \n",
    "    elif menu==Menu.덤프:\n",
    "        q.dump()\n",
    "    \n",
    "    else:\n",
    "        break\n",
    "        "
   ]
  },
  {
   "cell_type": "code",
   "execution_count": null,
   "id": "837704c9-45c8-4a9d-92d0-18a204dac70a",
   "metadata": {},
   "outputs": [],
   "source": []
  }
 ],
 "metadata": {
  "kernelspec": {
   "display_name": "Python 3",
   "language": "python",
   "name": "python3"
  },
  "language_info": {
   "codemirror_mode": {
    "name": "ipython",
    "version": 3
   },
   "file_extension": ".py",
   "mimetype": "text/x-python",
   "name": "python",
   "nbconvert_exporter": "python",
   "pygments_lexer": "ipython3",
   "version": "3.8.8"
  }
 },
 "nbformat": 4,
 "nbformat_minor": 5
}
