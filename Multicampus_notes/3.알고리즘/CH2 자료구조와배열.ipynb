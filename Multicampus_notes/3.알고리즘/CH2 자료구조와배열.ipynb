{
 "cells": [
  {
   "cell_type": "code",
   "execution_count": null,
   "id": "abc210da-a93b-4825-ac8a-caec7a186d45",
   "metadata": {
    "pycharm": {
     "name": "#%%\n",
     "is_executing": true
    }
   },
   "outputs": [],
   "source": [
    "# n개의 변수를 자동으로 생성하는 프로그램\n",
    "\n",
    "n=int(input('생성하고 싶은 변수 갯수를 입력하세요'))\n",
    "for i in range(1,n+1):\n",
    "    globals()[f'var{i}']= 0\n",
    "\n",
    "#eval은 input으로 string을 받으며, string을 변수나 식으로 해석하여 실행해주는 함수이다\n",
    "for i in range(1,n+1):\n",
    "    print(eval(f'var{i}'))"
   ]
  },
  {
   "cell_type": "markdown",
   "id": "689d33ad-8b76-46da-8833-9a67a7e6dd8d",
   "metadata": {
    "pycharm": {
     "name": "#%% md\n"
    }
   },
   "source": [
    "몇명의 학생인지 입력받고,학생들의 시험 성적을 입력 받아 합계와 평균을 구하시오"
   ]
  },
  {
   "cell_type": "code",
   "execution_count": 11,
   "id": "f3b5344e-f1b1-4977-8e13-a6044ebca88d",
   "metadata": {
    "pycharm": {
     "name": "#%%\n"
    }
   },
   "outputs": [
    {
     "name": "stdin",
     "output_type": "stream",
     "text": [
      "학생의 인원을 입력하세요 3\n",
      "1번째 학생의 성적을 입력해주세요 90\n",
      "2번째 학생의 성적을 입력해주세요 85\n",
      "3번째 학생의 성적을 입력해주세요 95\n"
     ]
    },
    {
     "name": "stdout",
     "output_type": "stream",
     "text": [
      "합계는 270이고 평균은 90.0입니다.\n"
     ]
    }
   ],
   "source": [
    "n= int(input('학생의 인원을 입력하세요'))\n",
    "for i in range(1,n+1):\n",
    "    globals()[f'score{i}'] =0\n",
    "\n",
    "i=1\n",
    "sum=0\n",
    "\n",
    "while True:\n",
    "    \n",
    "    globals()[f'score{i}']= int(input(f'{i}번째 학생의 성적을 입력해주세요'))\n",
    "    sum=sum+globals()[f'score{i}']\n",
    "    i= i+1\n",
    "    \n",
    "    if i>n:\n",
    "        avg=sum/n\n",
    "        break\n",
    "    \n",
    "print(f'합계는 {sum}이고 평균은 {avg}입니다.')\n",
    "    \n",
    "    "
   ]
  },
  {
   "cell_type": "code",
   "execution_count": 18,
   "id": "5e99c772-44a0-4d58-8025-6b30716138d8",
   "metadata": {
    "pycharm": {
     "name": "#%%\n"
    }
   },
   "outputs": [
    {
     "name": "stdin",
     "output_type": "stream",
     "text": [
      "배열의 길이를 정해주세요 5\n",
      "배열의 원솟값을 지정해주세요 -2\n",
      "배열의 원솟값을 지정해주세요 3\n",
      "배열의 원솟값을 지정해주세요 4\n",
      "배열의 원솟값을 지정해주세요 -6.5\n",
      "배열의 원솟값을 지정해주세요 5\n"
     ]
    },
    {
     "name": "stdout",
     "output_type": "stream",
     "text": [
      "[-2.0, 3.0, 4.0, -6.5, 5.0] 의 최댓값은 5.0입니다\n"
     ]
    }
   ],
   "source": [
    "# 배열의 길이 받기, 배열의 원소값 받기\n",
    "n= int(input('배열의 길이를 정해주세요'))\n",
    "lst=[]\n",
    "for _ in range(0,n):\n",
    "    lst.append(float(input('배열의 원솟값을 지정해주세요')))\n",
    "    \n",
    "max_val= lst[0]\n",
    "for i in range(1,n):\n",
    "    if lst[i] > max_val : \n",
    "        max_val=lst[i]\n",
    "\n",
    "print(lst,end='')\n",
    "print(f' 의 최댓값은 {max_val}입니다')"
   ]
  },
  {
   "cell_type": "code",
   "execution_count": 36,
   "id": "428685b3-2d47-444f-b0ff-e2f3f6a4b9a9",
   "metadata": {
    "pycharm": {
     "name": "#%%\n"
    }
   },
   "outputs": [
    {
     "name": "stdin",
     "output_type": "stream",
     "text": [
      "배열의 원솟값을 입력해주세요. end를 입력하면 종료합니다. 5\n",
      "배열의 원솟값을 입력해주세요. end를 입력하면 종료합니다. 2\n",
      "배열의 원솟값을 입력해주세요. end를 입력하면 종료합니다. -7\n",
      "배열의 원솟값을 입력해주세요. end를 입력하면 종료합니다. 3.5\n",
      "배열의 원솟값을 입력해주세요. end를 입력하면 종료합니다. end\n"
     ]
    },
    {
     "name": "stdout",
     "output_type": "stream",
     "text": [
      "[5.0, 2.0, -7.0, 3.5] 의 최댓값은 5.0입니다\n"
     ]
    }
   ],
   "source": [
    "# 배열의 원소값을 계속 받되 end를 받으며 종료하기\n",
    "\n",
    "\n",
    "lst=[]\n",
    "while True:\n",
    "    response= input('배열의 원솟값을 입력해주세요. end를 입력하면 종료합니다.')\n",
    "    if response == 'end':\n",
    "        break\n",
    "    lst.append(float(response))\n",
    "\n",
    "n=len(lst)\n",
    "max_val= lst[0]\n",
    "for i in range(1,n):\n",
    "    if lst[i] > max_val : \n",
    "        max_val=lst[i]\n",
    "\n",
    "print(lst,end='')\n",
    "print(f' 의 최댓값은 {max_val}입니다')"
   ]
  },
  {
   "cell_type": "code",
   "execution_count": 38,
   "id": "34a4cd45-c2e0-4732-84c3-dc81632a17da",
   "metadata": {
    "pycharm": {
     "name": "#%%\n"
    }
   },
   "outputs": [
    {
     "data": {
      "text/plain": [
       "8.5"
      ]
     },
     "execution_count": 38,
     "metadata": {},
     "output_type": "execute_result"
    }
   ],
   "source": [
    "#배열의 최댓값을 구하는 모듈 만들기\n",
    "def max_of(lst):\n",
    "    max_val=lst[0]\n",
    "    for i in range(1,len(lst)):\n",
    "        if max_val < lst[i] :\n",
    "            max_val=lst[i]\n",
    "    return max_val\n",
    "\n",
    "max_of([5,3,-2,2.5,7,8.5])"
   ]
  },
  {
   "cell_type": "code",
   "execution_count": 41,
   "id": "b77cf466-09a5-470c-9e63-757ced00facd",
   "metadata": {
    "pycharm": {
     "name": "#%%\n"
    }
   },
   "outputs": [
    {
     "data": {
      "text/plain": [
       "-2"
      ]
     },
     "execution_count": 41,
     "metadata": {},
     "output_type": "execute_result"
    }
   ],
   "source": [
    "#배열의 최솟값을 구하는 모듈 만들기\n",
    "def min_of(lst):\n",
    "    min_val=lst[0]\n",
    "    for i in range(1,len(lst)):\n",
    "        if min_val > lst[i] :\n",
    "            min_val=lst[i]\n",
    "    return min_val\n",
    "\n",
    "min_of([5,3,-2,2.5,7,8.5])"
   ]
  },
  {
   "cell_type": "code",
   "execution_count": 44,
   "id": "da70b2da-edcd-4702-a521-48efa43baa51",
   "metadata": {
    "pycharm": {
     "name": "#%%\n"
    }
   },
   "outputs": [
    {
     "name": "stdout",
     "output_type": "stream",
     "text": [
      "난수의 최댓값을 구하는 프로그램입니다\n"
     ]
    },
    {
     "name": "stdin",
     "output_type": "stream",
     "text": [
      "난수의 갯수를 정하세요 5\n",
      "난수의 최댓값을 정하세요 99\n",
      "난수의 최솟값을 정하세요 2\n"
     ]
    },
    {
     "name": "stdout",
     "output_type": "stream",
     "text": [
      "[21, 24, 68, 59, 31] 중 최댓값은 68 입니다\n"
     ]
    }
   ],
   "source": [
    "import random\n",
    "from max_val import max_of\n",
    "\n",
    "print('난수의 최댓값을 구하는 프로그램입니다')\n",
    "n=int(input('난수의 갯수를 정하세요'))\n",
    "rM=int(input('난수의 최댓값을 정하세요'))\n",
    "rm=int(input('난수의 최솟값을 정하세요'))\n",
    "lst=[]\n",
    "for i in range(0,n):\n",
    "    lst.append(random.randint(rm,rM))\n",
    "\n",
    "print(lst, end='')\n",
    "print(f' 중 최댓값은 {max_of(lst)} 입니다')"
   ]
  },
  {
   "cell_type": "code",
   "execution_count": 45,
   "id": "ef1ac3c1-0c0e-4a72-8138-d0c54a4dc646",
   "metadata": {
    "pycharm": {
     "name": "#%%\n"
    }
   },
   "outputs": [
    {
     "name": "stdout",
     "output_type": "stream",
     "text": [
      "FLAC\n"
     ]
    }
   ],
   "source": [
    "print(max_of(['DTS','AAC','FLAC']))"
   ]
  },
  {
   "cell_type": "code",
   "execution_count": 46,
   "id": "11083cd9-2fd2-4bdc-b111-53bda3214a41",
   "metadata": {
    "pycharm": {
     "name": "#%%\n"
    }
   },
   "outputs": [
    {
     "data": {
      "text/plain": [
       "True"
      ]
     },
     "execution_count": 46,
     "metadata": {},
     "output_type": "execute_result"
    }
   ],
   "source": [
    "[1,2,3,4,5] == [1,2,3,4,5]"
   ]
  },
  {
   "cell_type": "code",
   "execution_count": 47,
   "id": "2ca03cb2-d684-43bb-ab03-475741dbd549",
   "metadata": {
    "pycharm": {
     "name": "#%%\n"
    }
   },
   "outputs": [
    {
     "data": {
      "text/plain": [
       "False"
      ]
     },
     "execution_count": 47,
     "metadata": {},
     "output_type": "execute_result"
    }
   ],
   "source": [
    "[1,2,3,4,5] is [1,2,3,4,5]"
   ]
  },
  {
   "cell_type": "code",
   "execution_count": 50,
   "id": "8ac682ee-64a0-4d33-9ad5-44ce06dc15be",
   "metadata": {
    "pycharm": {
     "name": "#%%\n"
    }
   },
   "outputs": [
    {
     "name": "stdout",
     "output_type": "stream",
     "text": [
      "2139771867392\n",
      "2139772051968\n"
     ]
    }
   ],
   "source": [
    "a=[1,2,3,4,5]\n",
    "b=[1,2,3,4,5]\n",
    "print(id(a))\n",
    "print(id(b))"
   ]
  },
  {
   "cell_type": "code",
   "execution_count": 51,
   "id": "401e8c4a-2ab3-425b-b9c1-cf2d3281b5ba",
   "metadata": {
    "pycharm": {
     "name": "#%%\n"
    }
   },
   "outputs": [
    {
     "name": "stdout",
     "output_type": "stream",
     "text": [
      "140712620009328\n",
      "140712620009328\n"
     ]
    }
   ],
   "source": [
    "c=3\n",
    "d=3\n",
    "print(id(c))\n",
    "print(id(d))"
   ]
  },
  {
   "cell_type": "code",
   "execution_count": 54,
   "id": "d754125c-99a1-4e33-bf33-fcc7f33aa9aa",
   "metadata": {
    "pycharm": {
     "name": "#%%\n"
    }
   },
   "outputs": [
    {
     "name": "stdout",
     "output_type": "stream",
     "text": [
      "2139772039360 2139772039360\n",
      "[1, 2, 9, 4, 5] [1, 2, 9, 4, 5]\n"
     ]
    }
   ],
   "source": [
    "lst1=[1,2,3,4,5]\n",
    "lst2=lst1\n",
    "print(id(lst1),id(lst2))\n",
    "\n",
    "lst1[2]=9\n",
    "print(lst1,lst2)"
   ]
  },
  {
   "cell_type": "code",
   "execution_count": 58,
   "id": "c9019517-f359-435f-b777-d38935e6529f",
   "metadata": {
    "pycharm": {
     "name": "#%%\n"
    }
   },
   "outputs": [
    {
     "name": "stdout",
     "output_type": "stream",
     "text": [
      "x[0]= John\n",
      "x[1]= George\n",
      "x[2]= Paul\n",
      "x[3]= Ringo\n",
      "\n",
      "\n",
      "x[0]=John\n",
      "x[1]=George\n",
      "x[2]=Paul\n",
      "x[3]=Ringo\n"
     ]
    }
   ],
   "source": [
    "#인덱스와 원소값을 살피는 두가지의 방식\n",
    "#방식 1\n",
    "x=['John','George','Paul','Ringo']\n",
    "for i in range(len(x)):\n",
    "    print(f'x[{i}]= {x[i]}')\n",
    "print('\\n')\n",
    "#방식2\n",
    "for i,name in enumerate(x):\n",
    "    print(f'x[{i}]={name}')"
   ]
  },
  {
   "cell_type": "code",
   "execution_count": 59,
   "id": "39234212-d9c8-44e2-bc44-3a3d06e0c9b7",
   "metadata": {
    "pycharm": {
     "name": "#%%\n"
    }
   },
   "outputs": [
    {
     "name": "stdout",
     "output_type": "stream",
     "text": [
      "x[1]=John\n",
      "x[2]=George\n",
      "x[3]=Paul\n",
      "x[4]=Ringo\n"
     ]
    }
   ],
   "source": [
    "#enumerate(x,a)를 하면 index0를 a로 지정하여 카운트한다\n",
    "for i,name in enumerate(x,1):\n",
    "    print(f'x[{i}]={name}')"
   ]
  },
  {
   "cell_type": "code",
   "execution_count": 70,
   "id": "9dddccc9-5ec5-4d47-8a3e-1f1fbb95a531",
   "metadata": {
    "pycharm": {
     "name": "#%%\n"
    }
   },
   "outputs": [
    {
     "name": "stdin",
     "output_type": "stream",
     "text": [
      "배열의 길이를 정해주세요 5\n",
      "0번째 원소값을 지정해주세요  3\n",
      "1번째 원소값을 지정해주세요  7\n",
      "2번째 원소값을 지정해주세요  8\n",
      "3번째 원소값을 지정해주세요  6\n",
      "4번째 원소값을 지정해주세요  9\n"
     ]
    },
    {
     "name": "stdout",
     "output_type": "stream",
     "text": [
      "현재 배열은 [3, 7, 8, 6, 9] 입니다\n",
      "역순의 배열은 [9, 6, 8, 7, 3] 입니다\n"
     ]
    }
   ],
   "source": [
    "#배열 원소를 역순으로 정렬시키기\n",
    "#step1. 리스트의 길이 정하고, 리스트의 원소값 받기\n",
    "n=int(input('배열의 길이를 정해주세요'))\n",
    "lst=[]\n",
    "for i in range(0,n):\n",
    "    lst.append(int(input(f'{i}번째 원소값을 지정해주세요 ')))\n",
    "print('현재 배열은 '+str(lst)+' 입니다')\n",
    "\n",
    "#step2.\n",
    "'''\n",
    "0번째 <-> n번째\n",
    "1번째 <-> n-1번째\n",
    "2번째 <-> n-2번째\n",
    "...\n",
    "\n",
    "몇번 바꿔야 될까?\n",
    "n//2번 => 홀수인 경우 가운데 위치는 안바꿔도 되기 때문\n",
    "'''\n",
    "for i in range(0,n//2):\n",
    "    lst[i] , lst[n-i-1] = lst[n-i-1], lst[i]\n",
    "\n",
    "print('역순의 배열은 '+str(lst)+' 입니다')"
   ]
  },
  {
   "cell_type": "code",
   "execution_count": 67,
   "id": "cd4662e0-ad84-4246-a49f-e58fcac59345",
   "metadata": {
    "pycharm": {
     "name": "#%%\n"
    }
   },
   "outputs": [
    {
     "name": "stdout",
     "output_type": "stream",
     "text": [
      "[5, 2, 3, 4, 1]\n"
     ]
    }
   ],
   "source": [
    "lst=[1,2,3,4,5]\n",
    "lst[0],lst[4]=lst[4],lst[0]\n",
    "print(lst)"
   ]
  },
  {
   "cell_type": "code",
   "execution_count": 84,
   "id": "21d4d029-4030-459c-8601-fa930a6e016c",
   "metadata": {
    "pycharm": {
     "name": "#%%\n"
    }
   },
   "outputs": [
    {
     "name": "stdin",
     "output_type": "stream",
     "text": [
      "정숫값을 입력해주세요 4900\n",
      "변환하고 싶은 진수 값을 입력해주세요 10\n"
     ]
    },
    {
     "name": "stdout",
     "output_type": "stream",
     "text": [
      "10진법으로 표현한 정숫값은\n",
      "4900"
     ]
    }
   ],
   "source": [
    "#n진수로 변환하는 프로그램 만들기 (내가 만든건 2~10진수 버전)\n",
    "# idea\n",
    "x= int(input('정숫값을 입력해주세요'))\n",
    "n= int(input('변환하고 싶은 진수 값을 입력해주세요'))\n",
    "rlst=[]\n",
    "while True:\n",
    "    x,r= x//n, x%n\n",
    "    rlst.append(r)\n",
    "    if x == 0:\n",
    "        break\n",
    "\n",
    "rlst.reverse()\n",
    "print(f'{n}진법으로 표현한 정숫값은')\n",
    "for i in range(len(rlst)):\n",
    "    print(rlst[i],end='')"
   ]
  },
  {
   "cell_type": "code",
   "execution_count": 79,
   "id": "c2d59700-b85e-4ef4-8deb-19951beb9430",
   "metadata": {
    "pycharm": {
     "name": "#%%\n"
    }
   },
   "outputs": [
    {
     "data": {
      "text/plain": [
       "51"
      ]
     },
     "execution_count": 79,
     "metadata": {},
     "output_type": "execute_result"
    }
   ],
   "source": [
    "27+2*9+2*3"
   ]
  },
  {
   "cell_type": "code",
   "execution_count": 87,
   "id": "eec1d954-c3f5-42a5-9beb-f2b51873d4a2",
   "metadata": {
    "pycharm": {
     "name": "#%%\n"
    }
   },
   "outputs": [
    {
     "name": "stdout",
     "output_type": "stream",
     "text": [
      "FA\n"
     ]
    }
   ],
   "source": [
    "#32진수까지 가능한 진수변환기\n",
    "def n_conv(x,n):\n",
    "    clst=''\n",
    "    char_lst='0123456789ABCDEFGHIJKLMNOPQRSTUVWXYZ'\n",
    "    while x>0:\n",
    "        clst= clst+ char_lst[x %n]\n",
    "        x = x //n\n",
    "    return clst[::-1]\n",
    "\n",
    "print(n_conv(250,16))"
   ]
  },
  {
   "cell_type": "code",
   "execution_count": 89,
   "id": "50ba1a62-4e61-4040-89a1-d6d00b263f77",
   "metadata": {
    "pycharm": {
     "name": "#%%\n"
    }
   },
   "outputs": [
    {
     "data": {
      "text/plain": [
       "250"
      ]
     },
     "execution_count": 89,
     "metadata": {},
     "output_type": "execute_result"
    }
   ],
   "source": [
    "15*16+10"
   ]
  },
  {
   "cell_type": "code",
   "execution_count": 90,
   "id": "1230190c-954c-4dc9-aa32-753846934155",
   "metadata": {
    "pycharm": {
     "name": "#%%\n"
    }
   },
   "outputs": [
    {
     "name": "stdout",
     "output_type": "stream",
     "text": [
      "15\n",
      "5\n"
     ]
    }
   ],
   "source": [
    "def sum_val(n):\n",
    "    s=0\n",
    "    while n>0:\n",
    "        s= s+n\n",
    "        n=n-1\n",
    "    return s\n",
    "\n",
    "x=5\n",
    "print(sum_val(x))\n",
    "print(x)"
   ]
  },
  {
   "cell_type": "code",
   "execution_count": 94,
   "id": "fa09be1e-ebd4-406e-849e-35576be6fc4a",
   "metadata": {
    "pycharm": {
     "name": "#%%\n"
    }
   },
   "outputs": [
    {
     "name": "stdout",
     "output_type": "stream",
     "text": [
      "x= [11, 22, 33, 44, 55]\n"
     ]
    },
    {
     "name": "stdin",
     "output_type": "stream",
     "text": [
      "업데이트 할 인덱스 값을 선택하세요 4\n",
      "선택한 인덱스에 업데이트할 값을 입력하세요 -30\n"
     ]
    },
    {
     "name": "stdout",
     "output_type": "stream",
     "text": [
      "x=[11, 22, 33, 44, -30]\n"
     ]
    }
   ],
   "source": [
    "def change_lst(lst,idx,val):\n",
    "    lst[idx]=val\n",
    "\n",
    "x=[11,22,33,44,55]\n",
    "print('x=',x)\n",
    "index=int(input('업데이트 할 인덱스 값을 선택하세요'))\n",
    "value=int(input('선택한 인덱스에 업데이트할 값을 입력하세요'))\n",
    "\n",
    "change_lst(x,index,value)\n",
    "print(f'x={x}')"
   ]
  },
  {
   "cell_type": "code",
   "execution_count": 100,
   "id": "416837f6-e976-4dca-82f4-b4925dd06cee",
   "metadata": {
    "pycharm": {
     "name": "#%%\n"
    }
   },
   "outputs": [
    {
     "name": "stdout",
     "output_type": "stream",
     "text": [
      "[2, 3, 5, 7, 11, 13, 17, 19, 23, 29, 31, 37, 41, 43, 47, 53, 59, 61, 67, 71, 73, 79, 83, 89, 97]\n"
     ]
    }
   ],
   "source": [
    "# 소수 찾는 알고리즘 만들기\n",
    "#숫자 n이 소수인가 판별하는 알고리즘 만들기\n",
    "prime_lst=[]\n",
    "for n in range(2,101):\n",
    "    m=n-1\n",
    "    while m >0:\n",
    "        if n%m ==0:\n",
    "            break\n",
    "        m=m-1\n",
    "    if m== 1:\n",
    "        prime_lst.append(n)\n",
    "print(prime_lst)"
   ]
  },
  {
   "cell_type": "code",
   "execution_count": 102,
   "id": "0add6c5b-38ab-4297-9706-2074780eb5ae",
   "metadata": {
    "pycharm": {
     "name": "#%%\n"
    }
   },
   "outputs": [
    {
     "name": "stdout",
     "output_type": "stream",
     "text": [
      "[2, 3, 5, 7, 11, 13, 17, 19, 23, 29, 31, 37, 41, 43, 47, 53, 59, 61, 67, 71, 73, 79, 83, 89, 97, 101]\n"
     ]
    }
   ],
   "source": [
    "def prime_list(x,y):\n",
    "    prime_lst=[]\n",
    "    for n in range(x,y+1):\n",
    "        m=n-1\n",
    "        \n",
    "        while m >0:\n",
    "            if n%m ==0:\n",
    "                break\n",
    "            m=m-1\n",
    "        \n",
    "        if m== 1:\n",
    "            prime_lst.append(n)\n",
    "    \n",
    "    return prime_lst\n",
    "\n",
    "print(prime_list(2,101))"
   ]
  },
  {
   "cell_type": "code",
   "execution_count": 113,
   "id": "e9ec49dd-6abe-4ecc-9c32-1fb9ae509122",
   "metadata": {
    "pycharm": {
     "name": "#%%\n"
    }
   },
   "outputs": [
    {
     "name": "stdout",
     "output_type": "stream",
     "text": [
      "2, 3, 5, 7, 11, 13, 17, 19, 23, 29, 31, 37, 41, 43, 47, 53, 59, 61, 67, 71, 73, 79, 83, 89, 97, 101, 103, 107, 109, 113, 127, 131, 137, 139, 149, 151, 157, 163, 167, 173, 179, 181, 191, 193, 197, 199, 211, 223, 227, 229, 233, 239, 241, 251, 257, 263, 269, 271, 277, 281, 283, 293, 307, 311, 313, 317, 331, 337, 347, 349, 353, 359, 367, 373, 379, 383, 389, 397, 401, 409, 419, 421, 431, 433, 439, 443, 449, 457, 461, 463, 467, 479, 487, 491, 499, 503, 509, 521, 523, 541, 547, 557, 563, 569, 571, 577, 587, 593, 599, 601, 607, 613, 617, 619, 631, 641, 643, 647, 653, 659, 661, 673, 677, 683, 691, 701, 709, 719, 727, 733, 739, 743, 751, 757, 761, 769, 773, 787, 797, 809, 811, 821, 823, 827, 829, 839, 853, 857, 859, 863, 877, 881, 883, 887, 907, 911, 919, 929, 937, 941, 947, 953, 967, 971, 977, 983, 991, 997, \n",
      "총 계산량은 78022 입니다\n"
     ]
    }
   ],
   "source": [
    "counter=0\n",
    "for n in range(2,1001):\n",
    "    for i in range(2,n):\n",
    "        counter= counter+1\n",
    "        if n % i ==0:\n",
    "            break\n",
    "    else:\n",
    "            print(str(n)+', ',end='')\n",
    "print('\\n'+'총 계산량은 '+str(counter)+' 입니다')"
   ]
  },
  {
   "cell_type": "code",
   "execution_count": 120,
   "id": "6fa635fc-60b8-4aca-99dc-65a215e628f4",
   "metadata": {
    "pycharm": {
     "name": "#%%\n"
    }
   },
   "outputs": [
    {
     "name": "stdout",
     "output_type": "stream",
     "text": [
      "[2, 3, 5, 7, 11, 13, 17, 19, 23, 29, 31, 37, 41, 43, 47, 53, 59, 61, 67, 71, 73, 79, 83, 89, 97, 101, 103, 107, 109, 113, 127, 131, 137, 139, 149, 151, 157, 163, 167, 173, 179, 181, 191, 193, 197, 199, 211, 223, 227, 229, 233, 239, 241, 251, 257, 263, 269, 271, 277, 281, 283, 293, 307, 311, 313, 317, 331, 337, 347, 349, 353, 359, 367, 373, 379, 383, 389, 397, 401, 409, 419, 421, 431, 433, 439, 443, 449, 457, 461, 463, 467, 479, 487, 491, 499, 503, 509, 521, 523, 541, 547, 557, 563, 569, 571, 577, 587, 593, 599, 601, 607, 613, 617, 619, 631, 641, 643, 647, 653, 659, 661, 673, 677, 683, 691, 701, 709, 719, 727, 733, 739, 743, 751, 757, 761, 769, 773, 787, 797, 809, 811, 821, 823, 827, 829, 839, 853, 857, 859, 863, 877, 881, 883, 887, 907, 911, 919, 929, 937, 941, 947, 953, 967, 971, 977, 983, 991, 997]\n",
      "계산한 횟수는 14622 입니다\n"
     ]
    }
   ],
   "source": [
    "counter=0\n",
    "i=1\n",
    "prime_lst=[2]\n",
    "counter=0\n",
    "\n",
    "for n in range(3,1001,2):\n",
    "    for j in range(1,i):\n",
    "        counter =counter+1\n",
    "        if n% prime_lst[j]==0:\n",
    "            break\n",
    "    else:\n",
    "        prime_lst.append(n)\n",
    "        i=i+1\n",
    "        \n",
    "print(prime_lst)\n",
    "print('계산한 횟수는 '+str(counter)+' 입니다')"
   ]
  },
  {
   "cell_type": "code",
   "execution_count": 121,
   "id": "be358d8f-0ad7-4915-9847-535be71ef86a",
   "metadata": {
    "pycharm": {
     "name": "#%%\n"
    }
   },
   "outputs": [
    {
     "name": "stdout",
     "output_type": "stream",
     "text": [
      "[1, 5, 3]\n",
      "[1, 2, 3]\n"
     ]
    }
   ],
   "source": [
    "x=[1,2,3]\n",
    "y=x.copy()\n",
    "x[1]=5\n",
    "print(x)\n",
    "print(y)"
   ]
  },
  {
   "cell_type": "code",
   "execution_count": null,
   "id": "1f6d71b9-1c11-4439-a8ce-7e3710b0c2ea",
   "metadata": {
    "pycharm": {
     "name": "#%%\n"
    }
   },
   "outputs": [],
   "source": []
  }
 ],
 "metadata": {
  "kernelspec": {
   "display_name": "Python 3",
   "language": "python",
   "name": "python3"
  },
  "language_info": {
   "codemirror_mode": {
    "name": "ipython",
    "version": 3
   },
   "file_extension": ".py",
   "mimetype": "text/x-python",
   "name": "python",
   "nbconvert_exporter": "python",
   "pygments_lexer": "ipython3",
   "version": "3.8.8"
  }
 },
 "nbformat": 4,
 "nbformat_minor": 5
}