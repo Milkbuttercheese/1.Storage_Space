{
 "cells": [
  {
   "cell_type": "code",
   "execution_count": 49,
   "id": "d0c33427",
   "metadata": {},
   "outputs": [],
   "source": [
    "f=open('새파일.txt','w')\n",
    "f.close()"
   ]
  },
  {
   "cell_type": "code",
   "execution_count": 51,
   "id": "8867eaee",
   "metadata": {},
   "outputs": [],
   "source": [
    "f=open('새파일.txt','w')\n",
    "for i in range(1,11):\n",
    "    data= f'{i}번째 줄입니다.\\n' \n",
    "    f.write(data)\n",
    "f.close()\n"
   ]
  },
  {
   "cell_type": "code",
   "execution_count": 12,
   "id": "d5f9a0b5",
   "metadata": {},
   "outputs": [
    {
     "name": "stdout",
     "output_type": "stream",
     "text": [
      "1번째 줄입니다.\n",
      "\n"
     ]
    }
   ],
   "source": [
    "f=open('새파일.txt','r')\n",
    "line= f.readline()\n",
    "print(line)\n",
    "f.close()\n"
   ]
  },
  {
   "cell_type": "code",
   "execution_count": 13,
   "id": "0c85af79",
   "metadata": {},
   "outputs": [
    {
     "name": "stdout",
     "output_type": "stream",
     "text": [
      "1번째 줄입니다.\n",
      "\n",
      "2번째 줄입니다.\n",
      "\n",
      "3번째 줄입니다.\n",
      "\n",
      "4번째 줄입니다.\n",
      "\n",
      "5번째 줄입니다.\n",
      "\n",
      "6번째 줄입니다.\n",
      "\n",
      "7번째 줄입니다.\n",
      "\n",
      "8번째 줄입니다.\n",
      "\n",
      "9번째 줄입니다.\n",
      "\n",
      "10번째 줄입니다.\n",
      "\n"
     ]
    }
   ],
   "source": [
    "f= open('새파일.txt','r')\n",
    "while True:\n",
    "    line= f.readline()\n",
    "    if not line : \n",
    "        break\n",
    "    else:\n",
    "        print(line)\n",
    "f.close()        "
   ]
  },
  {
   "cell_type": "code",
   "execution_count": 21,
   "id": "954e460b",
   "metadata": {},
   "outputs": [
    {
     "name": "stdout",
     "output_type": "stream",
     "text": [
      "1번째 줄입니다.\n",
      "\n",
      "2번째 줄입니다.\n",
      "\n",
      "3번째 줄입니다.\n",
      "\n",
      "4번째 줄입니다.\n",
      "\n",
      "5번째 줄입니다.\n",
      "\n",
      "6번째 줄입니다.\n",
      "\n",
      "7번째 줄입니다.\n",
      "\n",
      "8번째 줄입니다.\n",
      "\n",
      "9번째 줄입니다.\n",
      "\n",
      "10번째 줄입니다.\n",
      "\n",
      "4번째 줄입니다.\n",
      "\n"
     ]
    }
   ],
   "source": [
    "f= open('새파일.txt','r')\n",
    "lines= f.readlines()\n",
    "for i in lines:\n",
    "    print(i)\n",
    "f.close()\n",
    "print(lines[3])"
   ]
  },
  {
   "cell_type": "code",
   "execution_count": 22,
   "id": "fc00166a",
   "metadata": {},
   "outputs": [
    {
     "name": "stdout",
     "output_type": "stream",
     "text": [
      "1\n",
      "2\n",
      "3\n",
      "4\n",
      "5\n",
      "6\n",
      "7\n",
      "8\n",
      "9\n",
      "10\n",
      "10\n"
     ]
    }
   ],
   "source": [
    "for k in range(1,11):\n",
    "    print(k)\n",
    "print(k)"
   ]
  },
  {
   "cell_type": "code",
   "execution_count": 24,
   "id": "8bd5253e",
   "metadata": {},
   "outputs": [
    {
     "name": "stdout",
     "output_type": "stream",
     "text": [
      "1번째 줄입니다.\n",
      "2번째 줄입니다.\n",
      "3번째 줄입니다.\n",
      "4번째 줄입니다.\n",
      "5번째 줄입니다.\n",
      "6번째 줄입니다.\n",
      "7번째 줄입니다.\n",
      "8번째 줄입니다.\n",
      "9번째 줄입니다.\n",
      "10번째 줄입니다.\n",
      "\n",
      "<class 'str'>\n"
     ]
    }
   ],
   "source": [
    "f = open('새파일.txt','r')\n",
    "data= f.read()\n",
    "print(data)\n",
    "print(type(data))\n",
    "f.close()"
   ]
  },
  {
   "cell_type": "code",
   "execution_count": 26,
   "id": "a2a01277",
   "metadata": {},
   "outputs": [],
   "source": [
    "'''\n",
    "with문은 기존의 파일 입출력 명령어보다 간결하다\n",
    "'''\n",
    "f= open('foo.txt','w')\n",
    "f.write('Life is too short. you need python')\n",
    "f.close()"
   ]
  },
  {
   "cell_type": "code",
   "execution_count": 34,
   "id": "59dcd7f4",
   "metadata": {},
   "outputs": [
    {
     "name": "stdout",
     "output_type": "stream",
     "text": [
      "Life is too short you need python\n"
     ]
    }
   ],
   "source": [
    "with open('foo.txt','w') as f:\n",
    "    f.write('Life is too short you need python')\n",
    "with open('foo.txt','r') as f:   \n",
    "    detail= f.read()\n",
    "print(detail)"
   ]
  },
  {
   "cell_type": "code",
   "execution_count": 52,
   "id": "5af347b3",
   "metadata": {},
   "outputs": [
    {
     "name": "stdout",
     "output_type": "stream",
     "text": [
      "['1번째 줄입니다.\\n', '2번째 줄입니다.\\n', '3번째 줄입니다.\\n', '4번째 줄입니다.\\n', '5번째 줄입니다.\\n']\n"
     ]
    }
   ],
   "source": [
    "'''\n",
    "새파일 특정줄 지우기 6번째줄부터 마지막줄 까지\n",
    "'''\n",
    "with open('새파일.txt','r') as f:   \n",
    "    lines= f.readlines()\n",
    "lines[5:]=[]\n",
    "print(lines)\n",
    "\n",
    "with  open('새파일.txt','w') as f:\n",
    "    for i in lines:\n",
    "        f.write(i)\n",
    "    \n",
    "        \n",
    "\n"
   ]
  },
  {
   "cell_type": "code",
   "execution_count": null,
   "id": "5f133e8c",
   "metadata": {},
   "outputs": [],
   "source": []
  }
 ],
 "metadata": {
  "kernelspec": {
   "display_name": "Python 3",
   "language": "python",
   "name": "python3"
  },
  "language_info": {
   "codemirror_mode": {
    "name": "ipython",
    "version": 3
   },
   "file_extension": ".py",
   "mimetype": "text/x-python",
   "name": "python",
   "nbconvert_exporter": "python",
   "pygments_lexer": "ipython3",
   "version": "3.8.8"
  }
 },
 "nbformat": 4,
 "nbformat_minor": 5
}
