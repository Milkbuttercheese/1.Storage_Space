{
 "cells": [
  {
   "cell_type": "markdown",
   "id": "ffc084e1",
   "metadata": {},
   "source": [
    "시리즈\n",
    "- 데이터가 순차적으로 나열된 1차원 배열(열 벡터)\n",
    "- 인덱스는 데이터 값과 일대일 대응"
   ]
  },
  {
   "cell_type": "markdown",
   "id": "d24a0087",
   "metadata": {},
   "source": [
    "시리즈 생성\n",
    "- 판다스 내장 함수인 Series() 사용"
   ]
  },
  {
   "cell_type": "markdown",
   "id": "ee9f4139",
   "metadata": {},
   "source": [
    "딕셔너리 -> 시리즈<br>\n",
    "pandas 모듈 불러오기(pd로 줄여서 불러오기)<br>\n",
    "dict_data 딕셔너리 생성\n",
    "- a 키에는 1, b 키에는 2, c 키에는 3\n",
    "\n",
    "판다스의 Series() 함수를 사용하여 dict_data 딕셔너리를 sr 시리즈로 변환<br>\n",
    "sr 출력<br>\n",
    "sr 데이터 타입 출력"
   ]
  },
  {
   "cell_type": "code",
   "execution_count": 1,
   "id": "f9015e92",
   "metadata": {},
   "outputs": [
    {
     "name": "stdout",
     "output_type": "stream",
     "text": [
      "a    1\n",
      "b    2\n",
      "c    3\n",
      "dtype: int64\n",
      "<class 'pandas.core.series.Series'>\n"
     ]
    }
   ],
   "source": [
    "import pandas as pd\n",
    "dict_data = {'a' : 1, 'b' : 2, 'c' : 3}\n",
    "sr = pd.Series(dict_data)\n",
    "print(sr)\n",
    "print(type(sr))"
   ]
  },
  {
   "cell_type": "markdown",
   "id": "8412bc47",
   "metadata": {},
   "source": [
    "인덱스\n",
    "- 자신과 짝을 이루는 데이터 값의 순서와 주소를 저장"
   ]
  },
  {
   "cell_type": "markdown",
   "id": "84429071",
   "metadata": {},
   "source": [
    "리스트 -> 시리즈<br>\n",
    "pandas 모듈 불러오기(pd로 줄여서 불러오기)<br>\n",
    "list_data 리스트 생성\n",
    "- 값 : 2022-05-23, 3.14, '여러분들 이름', 100, True\n",
    "\n",
    "판다스의 Series() 함수를 사용하여 list_data 리스트를 sr 시리즈로 변환<br>\n",
    "sr 출력<br>\n",
    "sr 데이터 타입 출력"
   ]
  },
  {
   "cell_type": "code",
   "execution_count": 2,
   "id": "a71c56e4",
   "metadata": {},
   "outputs": [
    {
     "name": "stdout",
     "output_type": "stream",
     "text": [
      "0    2022-05-23\n",
      "1          3.14\n",
      "2           오규석\n",
      "3           100\n",
      "4          True\n",
      "dtype: object\n",
      "<class 'pandas.core.series.Series'>\n"
     ]
    }
   ],
   "source": [
    "import pandas as pd\n",
    "\n",
    "list_data = ['2022-05-23', 3.14, '오규석', 100, True]\n",
    "\n",
    "sr = pd.Series(list_data)\n",
    "print(sr)\n",
    "print(type(sr))"
   ]
  },
  {
   "cell_type": "markdown",
   "id": "9b85a3e8",
   "metadata": {},
   "source": [
    "- 0 ~ 4 : 정수형 위치 인덱스\n",
    "- 인덱스 종류\n",
    " - 정수형 위치 인덱스\n",
    " - 인덱스 이름"
   ]
  },
  {
   "cell_type": "markdown",
   "id": "bb7cc6e7",
   "metadata": {},
   "source": [
    "시리즈의 인덱스와 데이터를 따로 확인\n",
    "- 인덱스 확인할 때 시리즈명.index\n",
    "- 데이터 값 확인할 때 시리즈명.values"
   ]
  },
  {
   "cell_type": "markdown",
   "id": "21606e66",
   "metadata": {},
   "source": [
    "pandas 모듈 불러오기(pd로 줄여서 불러오기)<br>\n",
    "list_data 리스트 생성\n",
    "- 값 : 2022-05-23, 3.14, '여러분들 이름', 100, True\n",
    "\n",
    "판다스의 Series() 함수를 사용하여 list_data 리스트를 sr 시리즈로 변환<br>\n",
    "idx 변수 선언\n",
    "- sr 시리즈의 index\n",
    "\n",
    "val 변수 선언\n",
    "- sr 시리즈의 values\n",
    "\n",
    "idx 출력<br>\n",
    "val 출력"
   ]
  },
  {
   "cell_type": "code",
   "execution_count": 3,
   "id": "e335f14c",
   "metadata": {},
   "outputs": [
    {
     "name": "stdout",
     "output_type": "stream",
     "text": [
      "RangeIndex(start=0, stop=5, step=1)\n",
      "['2022-05-23' 3.14 '오규석' 100 True]\n"
     ]
    }
   ],
   "source": [
    "import pandas as pd\n",
    "\n",
    "list_data = ['2022-05-23', 3.14, '오규석', 100, True]\n",
    "\n",
    "sr = pd.Series(list_data)\n",
    "\n",
    "idx = sr.index\n",
    "val = sr.values\n",
    "\n",
    "print(idx)\n",
    "print(val)"
   ]
  },
  {
   "cell_type": "code",
   "execution_count": 4,
   "id": "0dc3eb90",
   "metadata": {},
   "outputs": [
    {
     "name": "stdout",
     "output_type": "stream",
     "text": [
      "<class 'numpy.ndarray'>\n"
     ]
    }
   ],
   "source": [
    "print(type(val))"
   ]
  },
  {
   "cell_type": "markdown",
   "id": "752d737e",
   "metadata": {},
   "source": [
    "튜플 -> 시리즈(인덱스 정의)\n",
    "pandas 모듈 불러오기(pd로 줄여서 불러오기)<br>\n",
    "tup_data 튜플 생성\n",
    "- 값 : '여러분들 이름', 2022-05-23, '여러분들 성별', True\n",
    "\n",
    "판다스의 Series() 함수를 사용하여 tup_data 튜플을 sr 시리즈로 변환\n",
    "- 두번째 인자 지정\n",
    " - index 인자(변수)에 리스트 형식으로 각각 이름, 오늘날짜, 성별, 학생여부\n",
    "\n",
    "sr 출력"
   ]
  },
  {
   "cell_type": "code",
   "execution_count": 5,
   "id": "1b8f9f75",
   "metadata": {},
   "outputs": [
    {
     "name": "stdout",
     "output_type": "stream",
     "text": [
      "이름              규석\n",
      "오늘날짜    2022-05-23\n",
      "성별               남\n",
      "학생여부          True\n",
      "dtype: object\n"
     ]
    }
   ],
   "source": [
    "import pandas as pd\n",
    "\n",
    "tup_data = ('규석', '2022-05-23', '남', True)\n",
    "\n",
    "sr = pd.Series(tup_data, index = ['이름', '오늘날짜', '성별', '학생여부'])\n",
    "\n",
    "print(sr)"
   ]
  },
  {
   "cell_type": "markdown",
   "id": "b5ff1d39",
   "metadata": {},
   "source": [
    "리스트 원소 선택1(정수형 위치 인덱스)\n",
    "- 시리즈명[위치]"
   ]
  },
  {
   "cell_type": "code",
   "execution_count": 6,
   "id": "44174843",
   "metadata": {},
   "outputs": [
    {
     "name": "stdout",
     "output_type": "stream",
     "text": [
      "규석\n"
     ]
    }
   ],
   "source": [
    "print(sr[0])"
   ]
  },
  {
   "cell_type": "markdown",
   "id": "1f0131a3",
   "metadata": {},
   "source": [
    "리스트 원소 선택1(인덱스 이름)\n",
    "- 시리즈명['인덱스명']"
   ]
  },
  {
   "cell_type": "code",
   "execution_count": 7,
   "id": "13f46094",
   "metadata": {},
   "outputs": [
    {
     "name": "stdout",
     "output_type": "stream",
     "text": [
      "규석\n"
     ]
    }
   ],
   "source": [
    "print(sr['이름'])"
   ]
  },
  {
   "cell_type": "markdown",
   "id": "14e8fbdb",
   "metadata": {},
   "source": [
    "리스트 원소 선택2(다중 선택, 정수형 위치 인덱스)\n",
    "- 시리즈명[[위치, 위치]]\n",
    " - 1번 위치, 2번 위치"
   ]
  },
  {
   "cell_type": "code",
   "execution_count": 8,
   "id": "25f98449",
   "metadata": {},
   "outputs": [
    {
     "name": "stdout",
     "output_type": "stream",
     "text": [
      "오늘날짜    2022-05-23\n",
      "성별               남\n",
      "dtype: object\n"
     ]
    }
   ],
   "source": [
    "print(sr[[1, 2]])"
   ]
  },
  {
   "cell_type": "markdown",
   "id": "6d20d7f6",
   "metadata": {},
   "source": [
    "리스트 원소 선택2(다중 선택, 인덱스 이름)\n",
    "- 시리즈명[[인덱스명, 인덱스명]]\n",
    " - 오늘날짜, 성별"
   ]
  },
  {
   "cell_type": "code",
   "execution_count": 9,
   "id": "84e1ff29",
   "metadata": {},
   "outputs": [
    {
     "name": "stdout",
     "output_type": "stream",
     "text": [
      "오늘날짜    2022-05-23\n",
      "성별               남\n",
      "dtype: object\n"
     ]
    }
   ],
   "source": [
    "print(sr[['오늘날짜', '성별']])"
   ]
  },
  {
   "cell_type": "markdown",
   "id": "455bac56",
   "metadata": {},
   "source": [
    "리스트 원소 선택3(다중 선택, 정수형 위치 인덱스)\n",
    "- 시리즈명[처음 위치:마지막 위치]\n",
    "- 1번자리부터 2번자리까지"
   ]
  },
  {
   "cell_type": "code",
   "execution_count": 11,
   "id": "6fe6cbc7",
   "metadata": {},
   "outputs": [
    {
     "name": "stdout",
     "output_type": "stream",
     "text": [
      "오늘날짜    2022-05-23\n",
      "성별               남\n",
      "dtype: object\n"
     ]
    }
   ],
   "source": [
    "print(sr[1:3])"
   ]
  },
  {
   "cell_type": "markdown",
   "id": "fd110047",
   "metadata": {},
   "source": [
    "리스트 원소 선택3(다중 선택, 인덱스 이름)\n",
    "- 시리즈명['인덱스명':'인덱스명']\n",
    "- 오늘날짜부터 성별까지"
   ]
  },
  {
   "cell_type": "code",
   "execution_count": 13,
   "id": "b4731c08",
   "metadata": {},
   "outputs": [
    {
     "name": "stdout",
     "output_type": "stream",
     "text": [
      "오늘날짜    2022-05-23\n",
      "성별               남\n",
      "dtype: object\n"
     ]
    }
   ],
   "source": [
    "print(sr['오늘날짜':'성별'])"
   ]
  },
  {
   "cell_type": "markdown",
   "id": "b3a21b30",
   "metadata": {},
   "source": [
    "데이터프레임\n",
    "- 2차원 배열\n",
    "- 같은 행 인덱스를 기준으로 결합된 2차원 벡터 또는 행렬\n",
    "- 행과 열을 나타내기 위해서는 행 인덱스와 열 이름 두 가지 사용"
   ]
  },
  {
   "cell_type": "markdown",
   "id": "5993aa92",
   "metadata": {},
   "source": [
    "데이터프레임 생성\n",
    "- 판다스 내장 함수인 DataFrame() 사용"
   ]
  },
  {
   "cell_type": "markdown",
   "id": "3e652f7d",
   "metadata": {},
   "source": [
    "딕셔너리(값 : 리스트) -> 데이터프레임<br>\n",
    "pandas 모듈 불러오기(pd로 줄여서 불러오기)<br>\n",
    "딕셔너리 생성\n",
    "- dict_data\n",
    "- 키 : c0, c1, c2, c3, c4\n",
    "- 값 : [1, 2, 3], [4, 5, 6], [7, 8, 9], [10, 11, 12], [13, 14, 15]\n",
    "\n",
    "판다스의 DataFrame() 함수를 사용하여 dict_data 딕셔너리를 df 데이터프레임으로 변환<br>\n",
    "df 출력<br>\n",
    "df 데이터 타입 출력"
   ]
  },
  {
   "cell_type": "code",
   "execution_count": 14,
   "id": "b6c3d9ac",
   "metadata": {},
   "outputs": [
    {
     "name": "stdout",
     "output_type": "stream",
     "text": [
      "   c0  c1  c2  c3  c4\n",
      "0   1   4   7  10  13\n",
      "1   2   5   8  11  14\n",
      "2   3   6   9  12  15\n",
      "<class 'pandas.core.frame.DataFrame'>\n"
     ]
    }
   ],
   "source": [
    "import pandas as pd\n",
    "\n",
    "dict_data = {'c0' : [1, 2 ,3], 'c1' : [4, 5, 6], 'c2' : [7, 8, 9], 'c3' : [10, 11, 12], 'c4' : [13, 14, 15]}\n",
    "\n",
    "df = pd.DataFrame(dict_data)\n",
    "\n",
    "print(df)\n",
    "print(type(df))"
   ]
  },
  {
   "cell_type": "markdown",
   "id": "c928215f",
   "metadata": {},
   "source": [
    "행 인덱스 / 열 이름 직접 지정(딕셔너리 사용 X, 리스트 사용)\n",
    "- pandas.DataFrame([리스트1, 리스트2, 리스트3..], index=리스트, columns=리스트)"
   ]
  },
  {
   "cell_type": "markdown",
   "id": "cd41c14a",
   "metadata": {},
   "source": [
    "pandas 모듈 불러오기(pd로 줄여서 불러오기)<br>\n",
    "df 객체 생성\n",
    "- pandas.DataFrame() 함수 사용\n",
    "- 리스트1 : [가상의 나이, 가상의 성별, 가상의 대학교]\n",
    "- 리스트2 : [가상의 나이, 가상의 성별, 가상의 대학교]\n",
    "- 리스트3 : [가상의 나이, 가상의 성별, 가상의 대학교]\n",
    "- index : [가상의 이름, 가상의 이름, 가상의 이름]\n",
    "- columns : ['나이' , '성별', '학교']\n",
    "\n",
    "df 출력<br>\n",
    "df 데이터 타입 출력"
   ]
  },
  {
   "cell_type": "code",
   "execution_count": 17,
   "id": "6a416e67",
   "metadata": {},
   "outputs": [
    {
     "name": "stdout",
     "output_type": "stream",
     "text": [
      "    나이 성별   학교\n",
      "규석  22  남  인천대\n",
      "은규  21  남  중앙대\n",
      "진이  20  여  연세대\n",
      "<class 'pandas.core.frame.DataFrame'>\n"
     ]
    }
   ],
   "source": [
    "import pandas as pd\n",
    "\n",
    "df = pd.DataFrame([[22, '남', '인천대'], [21, '남', '중앙대'], [20, '여', '연세대']],\n",
    "                  index = ['규석', '은규', '진이'],\n",
    "                  columns = ['나이', '성별', '학교'])\n",
    "\n",
    "print(df)\n",
    "print(type(df))"
   ]
  },
  {
   "cell_type": "markdown",
   "id": "15d18e10",
   "metadata": {},
   "source": [
    "인덱스 확인\n",
    "- 데이터프레임명.index"
   ]
  },
  {
   "cell_type": "code",
   "execution_count": 18,
   "id": "cef9cfca",
   "metadata": {},
   "outputs": [
    {
     "name": "stdout",
     "output_type": "stream",
     "text": [
      "Index(['규석', '은규', '진이'], dtype='object')\n"
     ]
    }
   ],
   "source": [
    "print(df.index)"
   ]
  },
  {
   "cell_type": "markdown",
   "id": "167f6fd0",
   "metadata": {},
   "source": [
    "열 이름 확인\n",
    "- 데이터프레임명.columns"
   ]
  },
  {
   "cell_type": "code",
   "execution_count": 19,
   "id": "da710841",
   "metadata": {},
   "outputs": [
    {
     "name": "stdout",
     "output_type": "stream",
     "text": [
      "Index(['나이', '성별', '학교'], dtype='object')\n"
     ]
    }
   ],
   "source": [
    "print(df.columns)"
   ]
  },
  {
   "cell_type": "markdown",
   "id": "42478cf6",
   "metadata": {},
   "source": [
    "행 인덱스 변경\n",
    "- 데이터프레임 객체.index = 새로운 행 인덱스 배열(리스트)\n",
    " - 성재, 재은, 효풍\n",
    "\n",
    "열 이름 변경\n",
    "- 데이터프레임 객체.columns = 새로운 행 인덱스 배열(리스트)\n",
    " - 연령, 남녀, 소속"
   ]
  },
  {
   "cell_type": "markdown",
   "id": "01011d53",
   "metadata": {},
   "source": [
    "df 출력"
   ]
  },
  {
   "cell_type": "code",
   "execution_count": 20,
   "id": "1e3e9f0b",
   "metadata": {},
   "outputs": [
    {
     "name": "stdout",
     "output_type": "stream",
     "text": [
      "    연령 남녀   소속\n",
      "성재  22  남  인천대\n",
      "재은  21  남  중앙대\n",
      "효풍  20  여  연세대\n"
     ]
    }
   ],
   "source": [
    "df.index = ['성재', '재은', '효풍']\n",
    "df.columns = ['연령', '남녀', '소속']\n",
    "\n",
    "print(df)"
   ]
  },
  {
   "cell_type": "markdown",
   "id": "f7cbdd1f",
   "metadata": {},
   "source": [
    "행 인덱스 변경(rename 함수 사용)\n",
    "- 데이터프레임 객체.rename(index = {기존 인덱스 : 새 인덱스, ...})\n",
    " - 성재 -> 영호, 재은 -> 유정, 효풍 -> 동건\n",
    "\n",
    "열 이름 변경(rename 함수 사용)\n",
    "- 데이터프레임 객체.rename(columns = {기존 열 이름 : 새 열 이름, ...})\n",
    " - 연령 -> 나이, 남녀 -> 성별, 소속 -> 학교"
   ]
  },
  {
   "cell_type": "markdown",
   "id": "216a31f8",
   "metadata": {},
   "source": [
    "df 출력"
   ]
  },
  {
   "cell_type": "code",
   "execution_count": 27,
   "id": "efef7809",
   "metadata": {
    "scrolled": false
   },
   "outputs": [
    {
     "data": {
      "text/html": [
       "<div>\n",
       "<style scoped>\n",
       "    .dataframe tbody tr th:only-of-type {\n",
       "        vertical-align: middle;\n",
       "    }\n",
       "\n",
       "    .dataframe tbody tr th {\n",
       "        vertical-align: top;\n",
       "    }\n",
       "\n",
       "    .dataframe thead th {\n",
       "        text-align: right;\n",
       "    }\n",
       "</style>\n",
       "<table border=\"1\" class=\"dataframe\">\n",
       "  <thead>\n",
       "    <tr style=\"text-align: right;\">\n",
       "      <th></th>\n",
       "      <th>나이</th>\n",
       "      <th>성별</th>\n",
       "      <th>학교</th>\n",
       "    </tr>\n",
       "  </thead>\n",
       "  <tbody>\n",
       "    <tr>\n",
       "      <th>성재</th>\n",
       "      <td>22</td>\n",
       "      <td>남</td>\n",
       "      <td>인천대</td>\n",
       "    </tr>\n",
       "    <tr>\n",
       "      <th>재은</th>\n",
       "      <td>21</td>\n",
       "      <td>남</td>\n",
       "      <td>중앙대</td>\n",
       "    </tr>\n",
       "    <tr>\n",
       "      <th>효풍</th>\n",
       "      <td>20</td>\n",
       "      <td>여</td>\n",
       "      <td>연세대</td>\n",
       "    </tr>\n",
       "  </tbody>\n",
       "</table>\n",
       "</div>"
      ],
      "text/plain": [
       "    나이 성별   학교\n",
       "성재  22  남  인천대\n",
       "재은  21  남  중앙대\n",
       "효풍  20  여  연세대"
      ]
     },
     "execution_count": 27,
     "metadata": {},
     "output_type": "execute_result"
    }
   ],
   "source": [
    "df.rename(index = {'성재' : '영호', '재은' : '유정', '효풍' : '동건'})\n",
    "df.rename(columns = {'연령' : '나이', '남녀' : '성별', '소속' : '학교'})"
   ]
  },
  {
   "cell_type": "markdown",
   "id": "18824896",
   "metadata": {},
   "source": [
    "- 변경 안 됨"
   ]
  },
  {
   "cell_type": "markdown",
   "id": "8afe89d0",
   "metadata": {},
   "source": [
    "변경 방법1(객체 새로 지정)"
   ]
  },
  {
   "cell_type": "code",
   "execution_count": 25,
   "id": "89923b6a",
   "metadata": {},
   "outputs": [
    {
     "name": "stdout",
     "output_type": "stream",
     "text": [
      "    나이 성별   학교\n",
      "영호  22  남  인천대\n",
      "유정  21  남  중앙대\n",
      "동건  20  여  연세대\n",
      "\n",
      "    연령 남녀   소속\n",
      "성재  22  남  인천대\n",
      "재은  21  남  중앙대\n",
      "효풍  20  여  연세대\n"
     ]
    }
   ],
   "source": [
    "df2 = df.rename(index = {'성재' : '영호', '재은' : '유정', '효풍' : '동건'})\n",
    "df2 = df2.rename(columns = {'연령' : '나이', '남녀' : '성별', '소속' : '학교'})\n",
    "\n",
    "print(df2)\n",
    "print(\"\")\n",
    "print(df)"
   ]
  },
  {
   "cell_type": "markdown",
   "id": "d64a42f6",
   "metadata": {},
   "source": [
    "변경 방법2(기존 객체 변경)"
   ]
  },
  {
   "cell_type": "code",
   "execution_count": 28,
   "id": "48ef7458",
   "metadata": {},
   "outputs": [
    {
     "name": "stdout",
     "output_type": "stream",
     "text": [
      "    나이 성별   학교\n",
      "영호  22  남  인천대\n",
      "유정  21  남  중앙대\n",
      "동건  20  여  연세대\n"
     ]
    }
   ],
   "source": [
    "df.rename(index = {'성재' : '영호', '재은' : '유정', '효풍' : '동건'}, inplace = True)\n",
    "df.rename(columns = {'연령' : '나이', '남녀' : '성별', '소속' : '학교'}, inplace = True)\n",
    "\n",
    "print(df)"
   ]
  },
  {
   "cell_type": "markdown",
   "id": "c8fb28f3",
   "metadata": {},
   "source": [
    "행 제거(drop 함수 사용)\n",
    "- 데이터프레임 객체.drop(행 인덱스 또는 배열, axis = 0)\n",
    "\n",
    "열 제거(drop 함수 사용)\n",
    "- 데이터프레임 객체.drop(열 또는 배열, axis = 1)"
   ]
  },
  {
   "cell_type": "markdown",
   "id": "e1c525b5",
   "metadata": {},
   "source": [
    "pandas 모듈 불러오기(pd로 줄여서 불러오기)<br>\n",
    "딕셔너리 생성\n",
    "- exam_data\n",
    "- 키 : '국어', '수학', '영어', '음악'\n",
    "- 값 : [70, 90, 80], [90, 85, 80], [100, 80, 90], [70, 90, 100]\n",
    "\n",
    "판다스의 DataFrame() 함수를 사용하여 exam_data 딕셔너리를 df 데이터프레임으로 변환\n",
    "- index : '우주', '서원', '성균'\n",
    "\n",
    "df2 객체 생성(df)<br>\n",
    "df3 객체 생성(df)"
   ]
  },
  {
   "cell_type": "code",
   "execution_count": 31,
   "id": "49f5eb94",
   "metadata": {},
   "outputs": [
    {
     "name": "stdout",
     "output_type": "stream",
     "text": [
      "    국어  수학   영어   음악\n",
      "우주  70  80  100   70\n",
      "서원  90  95   80   90\n",
      "성균  80  80   90  100\n"
     ]
    }
   ],
   "source": [
    "import pandas as pd\n",
    "\n",
    "exam_data = {'국어' : [70, 90, 80], '수학' : [80, 95, 80], '영어' : [100, 80, 90], '음악' : [70, 90, 100]}\n",
    "\n",
    "df = pd.DataFrame(exam_data, index = ['우주', '서원', '성균'])\n",
    "\n",
    "df2 = df\n",
    "df3 = df\n",
    "\n",
    "print(df)"
   ]
  },
  {
   "cell_type": "code",
   "execution_count": 32,
   "id": "6281388d",
   "metadata": {},
   "outputs": [
    {
     "name": "stdout",
     "output_type": "stream",
     "text": [
      "2273371071344\n",
      "2273371071344\n",
      "2273371071344\n"
     ]
    }
   ],
   "source": [
    "print(id(df))\n",
    "print(id(df2))\n",
    "print(id(df3))"
   ]
  },
  {
   "cell_type": "markdown",
   "id": "da9fa5ab",
   "metadata": {},
   "source": [
    "행 제거(drop 함수 사용)\n",
    "- 데이터프레임 객체.drop(행 인덱스 또는 배열, axis = 0)\n",
    " - df2\n",
    " - '우주' 행에 해당하는 데이터 제거"
   ]
  },
  {
   "cell_type": "code",
   "execution_count": 33,
   "id": "3c7dfc64",
   "metadata": {},
   "outputs": [
    {
     "data": {
      "text/html": [
       "<div>\n",
       "<style scoped>\n",
       "    .dataframe tbody tr th:only-of-type {\n",
       "        vertical-align: middle;\n",
       "    }\n",
       "\n",
       "    .dataframe tbody tr th {\n",
       "        vertical-align: top;\n",
       "    }\n",
       "\n",
       "    .dataframe thead th {\n",
       "        text-align: right;\n",
       "    }\n",
       "</style>\n",
       "<table border=\"1\" class=\"dataframe\">\n",
       "  <thead>\n",
       "    <tr style=\"text-align: right;\">\n",
       "      <th></th>\n",
       "      <th>국어</th>\n",
       "      <th>수학</th>\n",
       "      <th>영어</th>\n",
       "      <th>음악</th>\n",
       "    </tr>\n",
       "  </thead>\n",
       "  <tbody>\n",
       "    <tr>\n",
       "      <th>서원</th>\n",
       "      <td>90</td>\n",
       "      <td>95</td>\n",
       "      <td>80</td>\n",
       "      <td>90</td>\n",
       "    </tr>\n",
       "    <tr>\n",
       "      <th>성균</th>\n",
       "      <td>80</td>\n",
       "      <td>80</td>\n",
       "      <td>90</td>\n",
       "      <td>100</td>\n",
       "    </tr>\n",
       "  </tbody>\n",
       "</table>\n",
       "</div>"
      ],
      "text/plain": [
       "    국어  수학  영어   음악\n",
       "서원  90  95  80   90\n",
       "성균  80  80  90  100"
      ]
     },
     "execution_count": 33,
     "metadata": {},
     "output_type": "execute_result"
    }
   ],
   "source": [
    "df2.drop(['우주'], axis = 0)"
   ]
  },
  {
   "cell_type": "code",
   "execution_count": 34,
   "id": "2fb36f23",
   "metadata": {},
   "outputs": [
    {
     "name": "stdout",
     "output_type": "stream",
     "text": [
      "    국어  수학   영어   음악\n",
      "우주  70  80  100   70\n",
      "서원  90  95   80   90\n",
      "성균  80  80   90  100\n"
     ]
    }
   ],
   "source": [
    "print(df2)"
   ]
  },
  {
   "cell_type": "markdown",
   "id": "edecf332",
   "metadata": {},
   "source": [
    "행 제거(drop 함수 사용)\n",
    "- 데이터프레임 객체.drop(행 인덱스 또는 배열, axis = 0)\n",
    " - df3\n",
    " - '서원', '성균' 행에 해당하는 데이터 제거"
   ]
  },
  {
   "cell_type": "code",
   "execution_count": 35,
   "id": "0e7a3bb3",
   "metadata": {},
   "outputs": [
    {
     "data": {
      "text/html": [
       "<div>\n",
       "<style scoped>\n",
       "    .dataframe tbody tr th:only-of-type {\n",
       "        vertical-align: middle;\n",
       "    }\n",
       "\n",
       "    .dataframe tbody tr th {\n",
       "        vertical-align: top;\n",
       "    }\n",
       "\n",
       "    .dataframe thead th {\n",
       "        text-align: right;\n",
       "    }\n",
       "</style>\n",
       "<table border=\"1\" class=\"dataframe\">\n",
       "  <thead>\n",
       "    <tr style=\"text-align: right;\">\n",
       "      <th></th>\n",
       "      <th>국어</th>\n",
       "      <th>수학</th>\n",
       "      <th>영어</th>\n",
       "      <th>음악</th>\n",
       "    </tr>\n",
       "  </thead>\n",
       "  <tbody>\n",
       "    <tr>\n",
       "      <th>우주</th>\n",
       "      <td>70</td>\n",
       "      <td>80</td>\n",
       "      <td>100</td>\n",
       "      <td>70</td>\n",
       "    </tr>\n",
       "  </tbody>\n",
       "</table>\n",
       "</div>"
      ],
      "text/plain": [
       "    국어  수학   영어  음악\n",
       "우주  70  80  100  70"
      ]
     },
     "execution_count": 35,
     "metadata": {},
     "output_type": "execute_result"
    }
   ],
   "source": [
    "df3.drop(['서원', '성균'], axis = 0)"
   ]
  },
  {
   "cell_type": "markdown",
   "id": "47b451a8",
   "metadata": {},
   "source": [
    "pandas 모듈 불러오기(pd로 줄여서 불러오기)<br>\n",
    "딕셔너리 생성\n",
    "- exam_data\n",
    "- 키 : '국어', '수학', '영어', '음악'\n",
    "- 값 : [70, 90, 80], [90, 85, 80], [100, 80, 90], [70, 90, 100]\n",
    "\n",
    "판다스의 DataFrame() 함수를 사용하여 exam_data 딕셔너리를 df 데이터프레임으로 변환\n",
    "- index : '소연', '한나', '유경'\n",
    "\n",
    "df2 객체 생성(df)<br>\n",
    "df3 객체 생성(df)"
   ]
  },
  {
   "cell_type": "code",
   "execution_count": 36,
   "id": "426af1c9",
   "metadata": {},
   "outputs": [
    {
     "name": "stdout",
     "output_type": "stream",
     "text": [
      "    국어  수학   영어   음악\n",
      "소연  70  80  100   70\n",
      "한나  90  95   80   90\n",
      "유경  80  80   90  100\n"
     ]
    }
   ],
   "source": [
    "import pandas as pd\n",
    "\n",
    "exam_data = {'국어' : [70, 90, 80], '수학' : [80, 95, 80], '영어' : [100, 80, 90], '음악' : [70, 90, 100]}\n",
    "\n",
    "df = pd.DataFrame(exam_data, index = ['소연', '한나', '유경'])\n",
    "\n",
    "df2 = df\n",
    "df3 = df\n",
    "\n",
    "print(df)"
   ]
  },
  {
   "cell_type": "markdown",
   "id": "2b6ee028",
   "metadata": {},
   "source": [
    "열 제거(drop 함수 사용)\n",
    "- 데이터프레임 객체.drop(열 또는 배열, axis = 1)\n",
    " - df2\n",
    " - 국어"
   ]
  },
  {
   "cell_type": "code",
   "execution_count": 37,
   "id": "01ce230f",
   "metadata": {},
   "outputs": [
    {
     "data": {
      "text/html": [
       "<div>\n",
       "<style scoped>\n",
       "    .dataframe tbody tr th:only-of-type {\n",
       "        vertical-align: middle;\n",
       "    }\n",
       "\n",
       "    .dataframe tbody tr th {\n",
       "        vertical-align: top;\n",
       "    }\n",
       "\n",
       "    .dataframe thead th {\n",
       "        text-align: right;\n",
       "    }\n",
       "</style>\n",
       "<table border=\"1\" class=\"dataframe\">\n",
       "  <thead>\n",
       "    <tr style=\"text-align: right;\">\n",
       "      <th></th>\n",
       "      <th>수학</th>\n",
       "      <th>영어</th>\n",
       "      <th>음악</th>\n",
       "    </tr>\n",
       "  </thead>\n",
       "  <tbody>\n",
       "    <tr>\n",
       "      <th>소연</th>\n",
       "      <td>80</td>\n",
       "      <td>100</td>\n",
       "      <td>70</td>\n",
       "    </tr>\n",
       "    <tr>\n",
       "      <th>한나</th>\n",
       "      <td>95</td>\n",
       "      <td>80</td>\n",
       "      <td>90</td>\n",
       "    </tr>\n",
       "    <tr>\n",
       "      <th>유경</th>\n",
       "      <td>80</td>\n",
       "      <td>90</td>\n",
       "      <td>100</td>\n",
       "    </tr>\n",
       "  </tbody>\n",
       "</table>\n",
       "</div>"
      ],
      "text/plain": [
       "    수학   영어   음악\n",
       "소연  80  100   70\n",
       "한나  95   80   90\n",
       "유경  80   90  100"
      ]
     },
     "execution_count": 37,
     "metadata": {},
     "output_type": "execute_result"
    }
   ],
   "source": [
    "df2.drop(['국어'], axis = 1)"
   ]
  },
  {
   "cell_type": "markdown",
   "id": "bbadb1e1",
   "metadata": {},
   "source": [
    "열 제거(drop 함수 사용)\n",
    "- 데이터프레임 객체.drop(열 또는 배열, axis = 1)\n",
    " - df3\n",
    " - 영어, 음악"
   ]
  },
  {
   "cell_type": "code",
   "execution_count": 38,
   "id": "111c9172",
   "metadata": {},
   "outputs": [
    {
     "data": {
      "text/html": [
       "<div>\n",
       "<style scoped>\n",
       "    .dataframe tbody tr th:only-of-type {\n",
       "        vertical-align: middle;\n",
       "    }\n",
       "\n",
       "    .dataframe tbody tr th {\n",
       "        vertical-align: top;\n",
       "    }\n",
       "\n",
       "    .dataframe thead th {\n",
       "        text-align: right;\n",
       "    }\n",
       "</style>\n",
       "<table border=\"1\" class=\"dataframe\">\n",
       "  <thead>\n",
       "    <tr style=\"text-align: right;\">\n",
       "      <th></th>\n",
       "      <th>국어</th>\n",
       "      <th>수학</th>\n",
       "    </tr>\n",
       "  </thead>\n",
       "  <tbody>\n",
       "    <tr>\n",
       "      <th>소연</th>\n",
       "      <td>70</td>\n",
       "      <td>80</td>\n",
       "    </tr>\n",
       "    <tr>\n",
       "      <th>한나</th>\n",
       "      <td>90</td>\n",
       "      <td>95</td>\n",
       "    </tr>\n",
       "    <tr>\n",
       "      <th>유경</th>\n",
       "      <td>80</td>\n",
       "      <td>80</td>\n",
       "    </tr>\n",
       "  </tbody>\n",
       "</table>\n",
       "</div>"
      ],
      "text/plain": [
       "    국어  수학\n",
       "소연  70  80\n",
       "한나  90  95\n",
       "유경  80  80"
      ]
     },
     "execution_count": 38,
     "metadata": {},
     "output_type": "execute_result"
    }
   ],
   "source": [
    "df3.drop(['영어', '음악'], axis = 1)"
   ]
  },
  {
   "cell_type": "code",
   "execution_count": 39,
   "id": "43af5d6a",
   "metadata": {},
   "outputs": [],
   "source": [
    "import pandas as pd\n",
    "\n",
    "exam_data = {'국어' : [70, 90, 80], '수학' : [80, 95, 80], '영어' : [100, 80, 90], '음악' : [70, 90, 100]}\n",
    "\n",
    "df = pd.DataFrame(exam_data, index = ['원혁', '석호', '수란'])"
   ]
  },
  {
   "cell_type": "markdown",
   "id": "9e9f7729",
   "metadata": {},
   "source": [
    "행 선택(방법 2가지)\n",
    "- 인덱스 이름을 기준으로 행을 선택(loc) - location\n",
    " - 범위 끝이 포함\n",
    "- 정수형 위치 인덱스를 기준으로 행을 선택(iloc) - int location\n",
    " - 범위 끝이 포함되지 않음"
   ]
  },
  {
   "cell_type": "markdown",
   "id": "7fb8f06a",
   "metadata": {},
   "source": [
    "행 단일 선택\n",
    "- 인덱스 이름 기준\n",
    " - 데이터프레임 객체.loc[인덱스 이름]\n",
    "- 정수형 위치 인덱스 기준\n",
    " - 데이터프레임 객체.iloc[정수형 위치 인덱스]"
   ]
  },
  {
   "cell_type": "markdown",
   "id": "d49b4894",
   "metadata": {},
   "source": [
    "인덱스 이름을 기준으로 '원혁' 데이터를 label1 객체에 저장<br>\n",
    "정수형 위치 인덱스를 기준으로 '원혁' 데이터를 position1 객체에 저장<br>\n",
    "label1 출력<br>\n",
    "position1 출력<br>\n",
    "label1 데이터 타입 출력"
   ]
  },
  {
   "cell_type": "code",
   "execution_count": 42,
   "id": "21e552b6",
   "metadata": {},
   "outputs": [
    {
     "name": "stdout",
     "output_type": "stream",
     "text": [
      "국어     70\n",
      "수학     80\n",
      "영어    100\n",
      "음악     70\n",
      "Name: 원혁, dtype: int64\n",
      "국어     70\n",
      "수학     80\n",
      "영어    100\n",
      "음악     70\n",
      "Name: 원혁, dtype: int64\n",
      "<class 'pandas.core.series.Series'>\n"
     ]
    }
   ],
   "source": [
    "label1 = df.loc['원혁']\n",
    "position1 = df.iloc[0]\n",
    "\n",
    "print(label1)\n",
    "print(position1)\n",
    "print(type(label1))"
   ]
  },
  {
   "cell_type": "markdown",
   "id": "74bfa04b",
   "metadata": {},
   "source": [
    "인덱스 이름을 기준으로 '석호', '수란' 데이터를 label2 객체에 저장<br>\n",
    "정수형 위치 인덱스를 기준으로 '석호', '수란' 데이터를 position2 객체에 저장<br>\n",
    "label2 출력<br>\n",
    "position2 출력"
   ]
  },
  {
   "cell_type": "code",
   "execution_count": 46,
   "id": "a18c22ec",
   "metadata": {},
   "outputs": [
    {
     "name": "stdout",
     "output_type": "stream",
     "text": [
      "    수학  영어\n",
      "석호  95  80\n",
      "수란  80  90\n",
      "    국어  수학  영어   음악\n",
      "석호  90  95  80   90\n",
      "수란  80  80  90  100\n",
      "<class 'pandas.core.frame.DataFrame'>\n"
     ]
    }
   ],
   "source": [
    "label2 = df.loc[['석호', '수란']]\n",
    "position2 = df.iloc[[1, 2]]\n",
    "\n",
    "print(label2)\n",
    "print(position2)\n",
    "print(type(label2))"
   ]
  },
  {
   "cell_type": "markdown",
   "id": "b8e0113e",
   "metadata": {},
   "source": [
    "인덱스 이름을 기준으로 '원혁', '석호', '수란' 데이터를 슬라이싱 형태로 선택하여 label3 객체에 저장<br>\n",
    "정수형 위치 인덱스를 기준으로 '원혁', '석호', '수란' 데이터를 슬라이싱 형태로 선택하여 position3 객체에 저장<br>\n",
    "label3 출력<br>\n",
    "position3 출력"
   ]
  },
  {
   "cell_type": "code",
   "execution_count": 47,
   "id": "15b7c6e7",
   "metadata": {},
   "outputs": [
    {
     "name": "stdout",
     "output_type": "stream",
     "text": [
      "    국어  수학   영어   음악\n",
      "원혁  70  80  100   70\n",
      "석호  90  95   80   90\n",
      "수란  80  80   90  100\n",
      "    국어  수학   영어   음악\n",
      "원혁  70  80  100   70\n",
      "석호  90  95   80   90\n",
      "수란  80  80   90  100\n"
     ]
    }
   ],
   "source": [
    "label3 = df.loc['원혁':'수란']\n",
    "position3 = df.iloc[0:]\n",
    "\n",
    "print(label3)\n",
    "print(position3)"
   ]
  },
  {
   "cell_type": "code",
   "execution_count": 48,
   "id": "59183158",
   "metadata": {},
   "outputs": [],
   "source": [
    "import pandas as pd\n",
    "\n",
    "exam_data = {'국어' : [70, 90, 80], '수학' : [80, 95, 80], '영어' : [100, 80, 90], '음악' : [70, 90, 100]}\n",
    "\n",
    "df = pd.DataFrame(exam_data, index = ['인덕', '재선', '근주'])"
   ]
  },
  {
   "cell_type": "markdown",
   "id": "91232a03",
   "metadata": {},
   "source": [
    "열 선택\n",
    "- 열은 정수형 위치 인덱스라는 개념이 존재 X\n",
    "- df[열 이름]\n",
    "- 수학"
   ]
  },
  {
   "cell_type": "code",
   "execution_count": 54,
   "id": "d7bbf715",
   "metadata": {},
   "outputs": [
    {
     "name": "stdout",
     "output_type": "stream",
     "text": [
      "인덕    80\n",
      "재선    95\n",
      "근주    80\n",
      "Name: 수학, dtype: int64\n"
     ]
    }
   ],
   "source": [
    "math = df['수학']\n",
    "print(math)"
   ]
  },
  {
   "cell_type": "markdown",
   "id": "df394b59",
   "metadata": {},
   "source": [
    "열 선택\n",
    "- df.열 이름\n",
    "- 영어"
   ]
  },
  {
   "cell_type": "code",
   "execution_count": 50,
   "id": "0b17c4c1",
   "metadata": {},
   "outputs": [
    {
     "name": "stdout",
     "output_type": "stream",
     "text": [
      "인덕    100\n",
      "재선     80\n",
      "근주     90\n",
      "Name: 영어, dtype: int64\n"
     ]
    }
   ],
   "source": [
    "english = df.영어\n",
    "print(english)"
   ]
  },
  {
   "cell_type": "markdown",
   "id": "7967b717",
   "metadata": {},
   "source": [
    "열 두 개 선택\n",
    "- 국어, 음악"
   ]
  },
  {
   "cell_type": "code",
   "execution_count": 52,
   "id": "a843c905",
   "metadata": {},
   "outputs": [
    {
     "name": "stdout",
     "output_type": "stream",
     "text": [
      "    국어   음악\n",
      "인덕  70   70\n",
      "재선  90   90\n",
      "근주  80  100\n"
     ]
    }
   ],
   "source": [
    "kor_music = df[['국어', '음악']]\n",
    "print(kor_music)"
   ]
  },
  {
   "cell_type": "markdown",
   "id": "68d68898",
   "metadata": {},
   "source": [
    "원소 선택 방법 2가지\n",
    "- 인덱스 이름\n",
    " - 데이터프레임 객체.loc[행 인덱스 이름, 열 이름]\n",
    "- 정수 위치 인덱스\n",
    " - 데이터프레임 객체.iloc[행 번호, 열 번호]"
   ]
  },
  {
   "cell_type": "markdown",
   "id": "d052e7e7",
   "metadata": {},
   "source": [
    "pandas 모듈 불러오기(pd로 줄여서 불러오기)<br>\n",
    "딕셔너리 생성\n",
    "- exam_data\n",
    "- 키 : '이름', '국어', '수학', '영어', '음악'\n",
    "- 값 : [지선, 혁준, 지현], [70, 90, 80], [90, 85, 80], [100, 80, 90], [70, 90, 100]\n",
    "\n",
    "판다스의 DataFrame() 함수를 사용하여 exam_data 딕셔너리를 df 데이터프레임으로 변환"
   ]
  },
  {
   "cell_type": "code",
   "execution_count": 55,
   "id": "5e6383ed",
   "metadata": {},
   "outputs": [
    {
     "name": "stdout",
     "output_type": "stream",
     "text": [
      "   이름  국어  수학   영어   음악\n",
      "0  지선  70  80  100   70\n",
      "1  혁준  90  95   80   90\n",
      "2  지현  80  80   90  100\n"
     ]
    }
   ],
   "source": [
    "import pandas as pd\n",
    "\n",
    "exam_data = {'이름' : ['지선', '혁준', '지현'], '국어' : [70, 90, 80], \n",
    "             '수학' : [80, 95, 80], '영어' : [100, 80, 90], '음악' : [70, 90, 100]}\n",
    "\n",
    "df = pd.DataFrame(exam_data)\n",
    "print(df)"
   ]
  },
  {
   "cell_type": "markdown",
   "id": "93af8064",
   "metadata": {},
   "source": [
    "- 행 인덱스가 정수형 위치 인덱스\n",
    " - 행 인덱스 이름으로 찾을 수 없음"
   ]
  },
  {
   "cell_type": "markdown",
   "id": "a6e1ecc5",
   "metadata": {},
   "source": [
    "'이름' 열을 행 인덱스로 지정\n",
    "- 데이터프레임 객체.set_index(열 이름, inplace = True)\n",
    "\n",
    "df 출력<br>\n",
    "df 인덱스 출력<br>\n",
    "df 열 이름 출력"
   ]
  },
  {
   "cell_type": "code",
   "execution_count": 56,
   "id": "fe23211a",
   "metadata": {},
   "outputs": [
    {
     "name": "stdout",
     "output_type": "stream",
     "text": [
      "    국어  수학   영어   음악\n",
      "이름                  \n",
      "지선  70  80  100   70\n",
      "혁준  90  95   80   90\n",
      "지현  80  80   90  100\n",
      "Index(['지선', '혁준', '지현'], dtype='object', name='이름')\n",
      "Index(['국어', '수학', '영어', '음악'], dtype='object')\n"
     ]
    }
   ],
   "source": [
    "df.set_index('이름', inplace=True)\n",
    "print(df)\n",
    "print(df.index)\n",
    "print(df.columns)"
   ]
  },
  {
   "cell_type": "markdown",
   "id": "cf52df67",
   "metadata": {},
   "source": [
    "'지선'의 '영어' 점수 요소 출력(인덱스 이름)\n",
    "- 인덱스 이름\n",
    " - 데이터프레임 객체.loc[행 인덱스 이름, 열 이름]\n",
    " - 복수 : 데이터프레임 객체.loc[행 인덱스 이름, [열 이름, 열 이름]]\n",
    "- 정수 위치 인덱스\n",
    " - 데이터프레임 객체.iloc[행 번호, 열 번호]\n",
    " - 복수 : 데이터프레임 객체.iloc[행 번호, [열 번호, 열 번호]]"
   ]
  },
  {
   "cell_type": "code",
   "execution_count": 59,
   "id": "2c442ff1",
   "metadata": {},
   "outputs": [
    {
     "name": "stdout",
     "output_type": "stream",
     "text": [
      "100\n"
     ]
    }
   ],
   "source": [
    "a = df.loc['지선', '영어']\n",
    "print(a)"
   ]
  },
  {
   "cell_type": "markdown",
   "id": "3f9319f4",
   "metadata": {},
   "source": [
    "'지선'의 '영어' 점수 요소 출력(정수형 위치 인덱스)"
   ]
  },
  {
   "cell_type": "code",
   "execution_count": 60,
   "id": "d362cd27",
   "metadata": {},
   "outputs": [
    {
     "name": "stdout",
     "output_type": "stream",
     "text": [
      "100\n"
     ]
    }
   ],
   "source": [
    "b = df.iloc[0, 2]\n",
    "print(b)"
   ]
  },
  {
   "cell_type": "markdown",
   "id": "b88028e7",
   "metadata": {},
   "source": [
    "'혁준'의 '국어', '수학' 점수 출력(인덱스 이름)"
   ]
  },
  {
   "cell_type": "code",
   "execution_count": 62,
   "id": "be01f290",
   "metadata": {},
   "outputs": [
    {
     "name": "stdout",
     "output_type": "stream",
     "text": [
      "국어    90\n",
      "수학    95\n",
      "Name: 혁준, dtype: int64\n"
     ]
    }
   ],
   "source": [
    "c = df.loc['혁준', ['국어', '수학']]\n",
    "print(c)"
   ]
  },
  {
   "cell_type": "markdown",
   "id": "e79620a7",
   "metadata": {},
   "source": [
    "'혁준'의 '국어', '수학' 점수 출력(정수형 위치 인덱스)"
   ]
  },
  {
   "cell_type": "code",
   "execution_count": 64,
   "id": "81f31146",
   "metadata": {},
   "outputs": [
    {
     "name": "stdout",
     "output_type": "stream",
     "text": [
      "국어    90\n",
      "수학    95\n",
      "Name: 혁준, dtype: int64\n"
     ]
    }
   ],
   "source": [
    "d = df.iloc[1, [0, 1]]\n",
    "print(d)"
   ]
  },
  {
   "cell_type": "markdown",
   "id": "684c4051",
   "metadata": {},
   "source": [
    "'지현'의 '국어', '수학' 점수 출력(인덱스 이름, 슬라이싱)"
   ]
  },
  {
   "cell_type": "code",
   "execution_count": 65,
   "id": "8babf236",
   "metadata": {},
   "outputs": [
    {
     "name": "stdout",
     "output_type": "stream",
     "text": [
      "국어    80\n",
      "수학    80\n",
      "Name: 지현, dtype: int64\n"
     ]
    }
   ],
   "source": [
    "e = df.loc['지현', '국어':'수학']\n",
    "print(e)"
   ]
  },
  {
   "cell_type": "markdown",
   "id": "1302fa15",
   "metadata": {},
   "source": [
    "'지현'의 '국어', '수학' 점수 출력(정수형 위치 인덱스, 슬라이싱)"
   ]
  },
  {
   "cell_type": "code",
   "execution_count": 66,
   "id": "a12e15a0",
   "metadata": {},
   "outputs": [
    {
     "name": "stdout",
     "output_type": "stream",
     "text": [
      "국어    80\n",
      "수학    80\n",
      "Name: 지현, dtype: int64\n"
     ]
    }
   ],
   "source": [
    "f = df.iloc[2, 0:2]\n",
    "print(f)"
   ]
  },
  {
   "cell_type": "markdown",
   "id": "4a149a5c",
   "metadata": {},
   "source": [
    "다중 선택"
   ]
  },
  {
   "cell_type": "markdown",
   "id": "47abf304",
   "metadata": {},
   "source": [
    "'지선'과 '혁준'의 '수학', '음악' 점수 출력(인덱스 이름)"
   ]
  },
  {
   "cell_type": "code",
   "execution_count": 68,
   "id": "5d248442",
   "metadata": {},
   "outputs": [
    {
     "name": "stdout",
     "output_type": "stream",
     "text": [
      "    수학  음악\n",
      "이름        \n",
      "지선  80  70\n",
      "혁준  95  90\n"
     ]
    }
   ],
   "source": [
    "g = df.loc[['지선', '혁준'], ['수학', '음악']]\n",
    "print(g)"
   ]
  },
  {
   "cell_type": "markdown",
   "id": "d9eefdfc",
   "metadata": {},
   "source": [
    "'지선'과 '혁준'의 '수학', '음악' 점수 출력(정수형 위치 인덱스)"
   ]
  },
  {
   "cell_type": "code",
   "execution_count": 70,
   "id": "45f03ec6",
   "metadata": {},
   "outputs": [
    {
     "name": "stdout",
     "output_type": "stream",
     "text": [
      "    수학  음악\n",
      "이름        \n",
      "지선  80  70\n",
      "혁준  95  90\n"
     ]
    }
   ],
   "source": [
    "h = df.iloc[[0, 1], [1, 3]]\n",
    "print(h)"
   ]
  },
  {
   "cell_type": "markdown",
   "id": "2186fdb0",
   "metadata": {},
   "source": [
    "'혁준'과 '지현'의 '수학', '영어', '음악' 점수 출력(인덱스 이름, 슬라이싱)"
   ]
  },
  {
   "cell_type": "code",
   "execution_count": 74,
   "id": "f6b4d49e",
   "metadata": {},
   "outputs": [
    {
     "name": "stdout",
     "output_type": "stream",
     "text": [
      "    수학  영어   음악\n",
      "이름             \n",
      "혁준  95  80   90\n",
      "지현  80  90  100\n"
     ]
    }
   ],
   "source": [
    "i = df.loc['혁준':'지현', '수학':'음악']\n",
    "print(i)"
   ]
  },
  {
   "cell_type": "markdown",
   "id": "f2731cc4",
   "metadata": {},
   "source": [
    "'혁준'과 '지현'의 '수학', '영어', '음악' 점수 출력(정수형 위치 인덱스, 슬라이싱)"
   ]
  },
  {
   "cell_type": "code",
   "execution_count": 77,
   "id": "7966ad7b",
   "metadata": {},
   "outputs": [
    {
     "name": "stdout",
     "output_type": "stream",
     "text": [
      "    수학  영어   음악\n",
      "이름             \n",
      "혁준  95  80   90\n",
      "지현  80  90  100\n"
     ]
    }
   ],
   "source": [
    "j = df.iloc[1:, 1:]\n",
    "print(j)"
   ]
  },
  {
   "cell_type": "code",
   "execution_count": 78,
   "id": "42f663aa",
   "metadata": {},
   "outputs": [],
   "source": [
    "import pandas as pd\n",
    "\n",
    "exam_data = {'이름' : ['창화', '현희', '양훈'], '국어' : [70, 90, 80], \n",
    "             '수학' : [80, 95, 80], '영어' : [100, 80, 90], '음악' : [70, 90, 100]}\n",
    "\n",
    "df = pd.DataFrame(exam_data)"
   ]
  },
  {
   "cell_type": "markdown",
   "id": "d4e71167",
   "metadata": {},
   "source": [
    "열 추가\n",
    "- 데이터프레임 객체[열 이름] = 데이터 값\n",
    "- 체육 점수 추가\n",
    " - 80, 95, 70"
   ]
  },
  {
   "cell_type": "code",
   "execution_count": 79,
   "id": "8ccd7f07",
   "metadata": {},
   "outputs": [
    {
     "name": "stdout",
     "output_type": "stream",
     "text": [
      "   이름  국어  수학   영어   음악  체육\n",
      "0  창화  70  80  100   70  80\n",
      "1  현희  90  95   80   90  95\n",
      "2  양훈  80  80   90  100  70\n"
     ]
    }
   ],
   "source": [
    "df['체육'] = [80, 95, 70]\n",
    "print(df)"
   ]
  },
  {
   "cell_type": "markdown",
   "id": "119ba61b",
   "metadata": {},
   "source": [
    "열 중간에 추가하고 싶은 경우 insert() 함수 사용\n",
    "- 데이터프레임 객체.insert(위치, 열 이름, 데이터 값)\n",
    "- 4번 자리에 과학을 추가\n",
    " - 90, 100, 85"
   ]
  },
  {
   "cell_type": "code",
   "execution_count": 81,
   "id": "e1619a72",
   "metadata": {},
   "outputs": [],
   "source": [
    "df.insert(4, \"과학\", [90, 100, 85])"
   ]
  },
  {
   "cell_type": "code",
   "execution_count": 82,
   "id": "c54bebfe",
   "metadata": {},
   "outputs": [
    {
     "name": "stdout",
     "output_type": "stream",
     "text": [
      "   이름  국어  수학   영어   과학   음악  체육\n",
      "0  창화  70  80  100   90   70  80\n",
      "1  현희  90  95   80  100   90  95\n",
      "2  양훈  80  80   90   85  100  70\n"
     ]
    }
   ],
   "source": [
    "print(df)"
   ]
  },
  {
   "cell_type": "code",
   "execution_count": 84,
   "id": "c94a4f73",
   "metadata": {},
   "outputs": [
    {
     "name": "stdout",
     "output_type": "stream",
     "text": [
      "   이름  국어  수학   영어   음악\n",
      "0  남준  70  80  100   70\n",
      "1  영롱  90  95   80   90\n",
      "2  준영  80  80   90  100\n"
     ]
    }
   ],
   "source": [
    "import pandas as pd\n",
    "\n",
    "exam_data = {'이름' : ['남준', '영롱', '준영'], '국어' : [70, 90, 80], \n",
    "             '수학' : [80, 95, 80], '영어' : [100, 80, 90], '음악' : [70, 90, 100]}\n",
    "\n",
    "df = pd.DataFrame(exam_data)\n",
    "print(df)"
   ]
  },
  {
   "cell_type": "markdown",
   "id": "07c17b60",
   "metadata": {},
   "source": [
    "행 추가\n",
    "- 추가하려는 행 이름과 데이터값을 loc 사용하여 입력\n",
    " - 데이터프레임 객체.loc['새로운 행 이름'] = 데이터 값\n",
    " - 행 인덱스가 정수일 경우 loc[정수] 입력"
   ]
  },
  {
   "cell_type": "markdown",
   "id": "167df8e5",
   "metadata": {},
   "source": [
    "행 인덱스 이름이 3인 행 추가\n",
    "- 데이터 값은 0으로 지정\n",
    "\n",
    "df 출력"
   ]
  },
  {
   "cell_type": "code",
   "execution_count": 85,
   "id": "66884a7a",
   "metadata": {},
   "outputs": [
    {
     "name": "stdout",
     "output_type": "stream",
     "text": [
      "   이름  국어  수학   영어   음악\n",
      "0  남준  70  80  100   70\n",
      "1  영롱  90  95   80   90\n",
      "2  준영  80  80   90  100\n",
      "3   0   0   0    0    0\n"
     ]
    }
   ],
   "source": [
    "df.loc[3] = 0\n",
    "print(df)"
   ]
  },
  {
   "cell_type": "markdown",
   "id": "7769268e",
   "metadata": {},
   "source": [
    "행 인덱스 이름이 4인 행 추가\n",
    "- 데이터 값은 민철, 100, 75, 85 ,80"
   ]
  },
  {
   "cell_type": "code",
   "execution_count": 86,
   "id": "078f5e46",
   "metadata": {},
   "outputs": [
    {
     "name": "stdout",
     "output_type": "stream",
     "text": [
      "   이름   국어  수학   영어   음악\n",
      "0  남준   70  80  100   70\n",
      "1  영롱   90  95   80   90\n",
      "2  준영   80  80   90  100\n",
      "3   0    0   0    0    0\n",
      "4  민철  100  75   85   80\n"
     ]
    }
   ],
   "source": [
    "df.loc[4] = ['민철', 100, 75, 85, 80]\n",
    "print(df)"
   ]
  },
  {
   "cell_type": "markdown",
   "id": "5a7c1a84",
   "metadata": {},
   "source": [
    "기존 행 복사\n",
    "- 데이터프레임 객체.loc['새로운 행 이름'] = 데이터프레임 객체.loc[복사할 행 이름]\n",
    "- 행 인덱스 이름이 5인 행 추가\n",
    " - 행 인덱스 이름이 3인 행 복사"
   ]
  },
  {
   "cell_type": "code",
   "execution_count": 87,
   "id": "0686d659",
   "metadata": {},
   "outputs": [
    {
     "name": "stdout",
     "output_type": "stream",
     "text": [
      "   이름   국어  수학   영어   음악\n",
      "0  남준   70  80  100   70\n",
      "1  영롱   90  95   80   90\n",
      "2  준영   80  80   90  100\n",
      "3   0    0   0    0    0\n",
      "4  민철  100  75   85   80\n",
      "5   0    0   0    0    0\n"
     ]
    }
   ],
   "source": [
    "df.loc[5] = df.loc[3]\n",
    "print(df)"
   ]
  },
  {
   "cell_type": "markdown",
   "id": "9cbba6a1",
   "metadata": {},
   "source": [
    "행을 중간에 추가하고 싶을 경우 append() 함수 사용\n",
    "- 행은 순서가 있음\n",
    "- 중간에 행을 추가할 경우 기존 행 인덱스 + 새로운 행 인덱스 + 기존 행 인덱스"
   ]
  },
  {
   "cell_type": "code",
   "execution_count": 89,
   "id": "4b9c889e",
   "metadata": {},
   "outputs": [
    {
     "name": "stdout",
     "output_type": "stream",
     "text": [
      "   이름   국어  수학   영어   음악\n",
      "0  기은   70  80  100   70\n",
      "1  경덕   90  95   80   90\n",
      "2  유진   80  80   90  100\n",
      "4  성민  100  75   85   80\n"
     ]
    }
   ],
   "source": [
    "import pandas as pd\n",
    "\n",
    "exam_data = {'이름' : ['기은', '경덕', '유진'], '국어' : [70, 90, 80], \n",
    "             '수학' : [80, 95, 80], '영어' : [100, 80, 90], '음악' : [70, 90, 100]}\n",
    "\n",
    "df = pd.DataFrame(exam_data)\n",
    "df.loc[4] = ['성민', 100, 75, 85, 80]\n",
    "print(df)"
   ]
  },
  {
   "cell_type": "code",
   "execution_count": 91,
   "id": "6cac6dbc",
   "metadata": {},
   "outputs": [
    {
     "name": "stdout",
     "output_type": "stream",
     "text": [
      "   이름  국어  수학   영어   음악\n",
      "0  기은  70  80  100   70\n",
      "1  경덕  90  95   80   90\n",
      "2  유진  80  80   90  100\n",
      "이름     성민\n",
      "국어    100\n",
      "수학     75\n",
      "영어     85\n",
      "음악     80\n",
      "Name: 4, dtype: object\n"
     ]
    }
   ],
   "source": [
    "label = df.iloc[:3]\n",
    "label2 = df.iloc[3]\n",
    "\n",
    "print(label)\n",
    "print(label2)"
   ]
  },
  {
   "cell_type": "code",
   "execution_count": 92,
   "id": "b0361f46",
   "metadata": {},
   "outputs": [],
   "source": [
    "exam_data2 = {'이름' : '종현',\n",
    "              '국어' : 90,\n",
    "              '수학' : 100,\n",
    "              '영어' : 80,\n",
    "              '음악' : 85}"
   ]
  },
  {
   "cell_type": "code",
   "execution_count": 93,
   "id": "f8e4a2a8",
   "metadata": {},
   "outputs": [],
   "source": [
    "df = label.append(exam_data2, ignore_index=True).append(label2, ignore_index=True)"
   ]
  },
  {
   "cell_type": "markdown",
   "id": "0907da59",
   "metadata": {},
   "source": [
    "- ignore_index 인자를 사용하여 인덱스 재배열\n",
    " - 기존 행 인덱스 번호를 사용하지 않고 연속된 인덱스 번호를 사용"
   ]
  },
  {
   "cell_type": "code",
   "execution_count": 94,
   "id": "8034df5a",
   "metadata": {},
   "outputs": [
    {
     "name": "stdout",
     "output_type": "stream",
     "text": [
      "   이름   국어   수학   영어   음악\n",
      "0  기은   70   80  100   70\n",
      "1  경덕   90   95   80   90\n",
      "2  유진   80   80   90  100\n",
      "3  종현   90  100   80   85\n",
      "4  성민  100   75   85   80\n"
     ]
    }
   ],
   "source": [
    "print(df)"
   ]
  },
  {
   "cell_type": "markdown",
   "id": "2f655278",
   "metadata": {},
   "source": [
    "- 데이터프레임끼리 합치는 것도 가능"
   ]
  },
  {
   "cell_type": "code",
   "execution_count": 104,
   "id": "4b8fcf12",
   "metadata": {},
   "outputs": [],
   "source": [
    "import pandas as pd\n",
    "\n",
    "exam_data = {'이름' : ['은규', '남준', '재선'], '국어' : [70, 90, 80], \n",
    "             '수학' : [80, 95, 80], '영어' : [100, 80, 90], '음악' : [70, 90, 100]}\n",
    "\n",
    "df = pd.DataFrame(exam_data)"
   ]
  },
  {
   "cell_type": "markdown",
   "id": "883f1868",
   "metadata": {},
   "source": [
    "원소 값 변경\n",
    "- 인덱스 이름\n",
    " - 데이터프레임 객체.loc[행 인덱스 이름, 열 이름] = 데이터 값\n",
    " - 복수 : 데이터프레임 객체.loc[행 인덱스 이름, [열 이름, 열 이름]] = 데이터 값, 데이터 값\n",
    "- 정수 위치 인덱스\n",
    " - 데이터프레임 객체.iloc[행 번호, 열 번호] = 데이터 값\n",
    " - 복수 : 데이터프레임 객체.iloc[행 번호, [열 번호, 열 번호]] = 데이터 값, 데이터 값"
   ]
  },
  {
   "cell_type": "markdown",
   "id": "3c2f31d9",
   "metadata": {},
   "source": [
    "인덱스 이름을 사용하여 '은규'의 '국어' 점수를 95점으로 변경"
   ]
  },
  {
   "cell_type": "code",
   "execution_count": 105,
   "id": "c64ab6b5",
   "metadata": {},
   "outputs": [
    {
     "name": "stdout",
     "output_type": "stream",
     "text": [
      "    국어  수학   영어   음악\n",
      "이름                  \n",
      "은규  70  80  100   70\n",
      "남준  90  95   80   90\n",
      "재선  80  80   90  100\n"
     ]
    }
   ],
   "source": [
    "df.set_index('이름', inplace = True)\n",
    "print(df)"
   ]
  },
  {
   "cell_type": "code",
   "execution_count": 106,
   "id": "9e41610c",
   "metadata": {},
   "outputs": [
    {
     "name": "stdout",
     "output_type": "stream",
     "text": [
      "    국어  수학   영어   음악\n",
      "이름                  \n",
      "은규  95  80  100   70\n",
      "남준  90  95   80   90\n",
      "재선  80  80   90  100\n"
     ]
    }
   ],
   "source": [
    "df.loc['은규', '국어'] = 95\n",
    "print(df)"
   ]
  },
  {
   "cell_type": "markdown",
   "id": "560ae3f3",
   "metadata": {},
   "source": [
    "정수 위치 인덱스를 사용하여 '은규'의 '국어' 점수를 90점으로 변경"
   ]
  },
  {
   "cell_type": "code",
   "execution_count": 107,
   "id": "74deb1b1",
   "metadata": {},
   "outputs": [],
   "source": [
    "df.iloc[0, 0] = 90"
   ]
  },
  {
   "cell_type": "code",
   "execution_count": 108,
   "id": "61a47db7",
   "metadata": {},
   "outputs": [
    {
     "name": "stdout",
     "output_type": "stream",
     "text": [
      "    국어  수학   영어   음악\n",
      "이름                  \n",
      "은규  90  80  100   70\n",
      "남준  90  95   80   90\n",
      "재선  80  80   90  100\n"
     ]
    }
   ],
   "source": [
    "print(df)"
   ]
  },
  {
   "cell_type": "code",
   "execution_count": 109,
   "id": "77acc34a",
   "metadata": {},
   "outputs": [],
   "source": [
    "df.iloc[0][0] = 90"
   ]
  },
  {
   "cell_type": "markdown",
   "id": "5d33b315",
   "metadata": {},
   "source": [
    "- 원소 값을 바꾸는 다른 방법(정수 위치 인덱스)"
   ]
  },
  {
   "cell_type": "markdown",
   "id": "45ea08dc",
   "metadata": {},
   "source": [
    "인덱스 이름을 사용하여 '남준'의 '수학', '영어' 점수를 100점으로 변경"
   ]
  },
  {
   "cell_type": "code",
   "execution_count": 110,
   "id": "ce44f0d8",
   "metadata": {},
   "outputs": [
    {
     "name": "stdout",
     "output_type": "stream",
     "text": [
      "    국어   수학   영어   음악\n",
      "이름                   \n",
      "은규  90   80  100   70\n",
      "남준  90  100  100   90\n",
      "재선  80   80   90  100\n"
     ]
    }
   ],
   "source": [
    "df.loc['남준', ['수학', '영어']] = 100\n",
    "print(df)"
   ]
  },
  {
   "cell_type": "markdown",
   "id": "4053bc15",
   "metadata": {},
   "source": [
    "인덱스 이름을 사용하여 '재선'의 '국어', '수학' 점수를 95, 90점으로 변경"
   ]
  },
  {
   "cell_type": "code",
   "execution_count": 111,
   "id": "171bc575",
   "metadata": {},
   "outputs": [
    {
     "name": "stdout",
     "output_type": "stream",
     "text": [
      "    국어   수학   영어   음악\n",
      "이름                   \n",
      "은규  90   80  100   70\n",
      "남준  90  100  100   90\n",
      "재선  95   90   90  100\n"
     ]
    }
   ],
   "source": [
    "df.loc['재선', ['국어', '수학']] = 95, 90\n",
    "print(df)"
   ]
  },
  {
   "cell_type": "markdown",
   "id": "c0571b58",
   "metadata": {},
   "source": [
    "행, 열의 위치 바꾸기\n",
    "- 전치행렬\n",
    "\n",
    "방법 2가지\n",
    "- 데이터프레임 객체.transpose()\n",
    "- 데이터프레임 객체.T"
   ]
  },
  {
   "cell_type": "code",
   "execution_count": 113,
   "id": "748f6cf3",
   "metadata": {},
   "outputs": [],
   "source": [
    "import pandas as pd\n",
    "\n",
    "exam_data = {'이름' : ['유정', '동건', '영호'], '국어' : [70, 90, 80], \n",
    "             '수학' : [80, 95, 80], '영어' : [100, 80, 90], '음악' : [70, 90, 100]}\n",
    "\n",
    "df = pd.DataFrame(exam_data)"
   ]
  },
  {
   "cell_type": "markdown",
   "id": "39508382",
   "metadata": {},
   "source": [
    "데이터프레임의 '이름' 열을 인덱스로 지정<br>\n",
    "행, 열의 위치 바꾸어 df 객체에 저장"
   ]
  },
  {
   "cell_type": "code",
   "execution_count": 114,
   "id": "a2ce8f64",
   "metadata": {},
   "outputs": [],
   "source": [
    "df.set_index('이름', inplace = True)"
   ]
  },
  {
   "cell_type": "code",
   "execution_count": 115,
   "id": "6f65f81d",
   "metadata": {},
   "outputs": [
    {
     "name": "stdout",
     "output_type": "stream",
     "text": [
      "    국어  수학   영어   음악\n",
      "이름                  \n",
      "유정  70  80  100   70\n",
      "동건  90  95   80   90\n",
      "영호  80  80   90  100\n"
     ]
    }
   ],
   "source": [
    "print(df)"
   ]
  },
  {
   "cell_type": "code",
   "execution_count": 116,
   "id": "80c34451",
   "metadata": {},
   "outputs": [],
   "source": [
    "df = df.transpose()"
   ]
  },
  {
   "cell_type": "code",
   "execution_count": 118,
   "id": "ec58538f",
   "metadata": {},
   "outputs": [
    {
     "name": "stdout",
     "output_type": "stream",
     "text": [
      "이름   유정  동건   영호\n",
      "국어   70  90   80\n",
      "수학   80  95   80\n",
      "영어  100  80   90\n",
      "음악   70  90  100\n"
     ]
    }
   ],
   "source": [
    "print(df)"
   ]
  },
  {
   "cell_type": "markdown",
   "id": "61802e66",
   "metadata": {},
   "source": [
    "df의 인덱스 확인"
   ]
  },
  {
   "cell_type": "code",
   "execution_count": 119,
   "id": "697cc6dc",
   "metadata": {},
   "outputs": [
    {
     "name": "stdout",
     "output_type": "stream",
     "text": [
      "Index(['국어', '수학', '영어', '음악'], dtype='object')\n"
     ]
    }
   ],
   "source": [
    "print(df.index)"
   ]
  },
  {
   "cell_type": "markdown",
   "id": "3ea7e4dd",
   "metadata": {},
   "source": [
    "인덱스 활용"
   ]
  },
  {
   "cell_type": "code",
   "execution_count": 120,
   "id": "7f40e84d",
   "metadata": {},
   "outputs": [],
   "source": [
    "import pandas as pd\n",
    "\n",
    "exam_data = {'이름' : ['석호', '성민', '영롱'], '국어' : [70, 90, 80], \n",
    "             '수학' : [80, 95, 80], '영어' : [100, 80, 90], '음악' : [70, 90, 100]}\n",
    "\n",
    "df = pd.DataFrame(exam_data)"
   ]
  },
  {
   "cell_type": "markdown",
   "id": "f6f240ec",
   "metadata": {},
   "source": [
    "특정 열을 행 인덱스로 설정\n",
    "- set_index(열 이름)"
   ]
  },
  {
   "cell_type": "markdown",
   "id": "7dc605e3",
   "metadata": {},
   "source": [
    "이름 열을 행 인덱스로 지정\n",
    "- ndf"
   ]
  },
  {
   "cell_type": "code",
   "execution_count": 122,
   "id": "1415911e",
   "metadata": {},
   "outputs": [
    {
     "name": "stdout",
     "output_type": "stream",
     "text": [
      "    국어  수학   영어   음악\n",
      "이름                  \n",
      "석호  70  80  100   70\n",
      "성민  90  95   80   90\n",
      "영롱  80  80   90  100\n"
     ]
    }
   ],
   "source": [
    "ndf = df.set_index('이름')\n",
    "print(ndf)"
   ]
  },
  {
   "cell_type": "markdown",
   "id": "3a4210cd",
   "metadata": {},
   "source": [
    "ndf에서 음악 열을 행 인덱스로 지정\n",
    "- ndf2"
   ]
  },
  {
   "cell_type": "code",
   "execution_count": 123,
   "id": "ca3ac884",
   "metadata": {},
   "outputs": [
    {
     "name": "stdout",
     "output_type": "stream",
     "text": [
      "     국어  수학   영어\n",
      "음악              \n",
      "70   70  80  100\n",
      "90   90  95   80\n",
      "100  80  80   90\n"
     ]
    }
   ],
   "source": [
    "ndf2 = ndf.set_index('음악')\n",
    "print(ndf2)"
   ]
  },
  {
   "cell_type": "markdown",
   "id": "03c226e0",
   "metadata": {},
   "source": [
    "- 행 인덱스가 지정된 상태에서 다른 행 인덱스를 지정하면 기존 행 인덱스는 제거됨\n",
    " - 인덱스는 실제 데이터가 아니라 이름표 역할이기 때문에 그냥 사라진다고 생각하면 됨"
   ]
  },
  {
   "cell_type": "code",
   "execution_count": 124,
   "id": "a35d59c5",
   "metadata": {},
   "outputs": [
    {
     "name": "stdout",
     "output_type": "stream",
     "text": [
      "    음악  국어  수학   영어\n",
      "0   70  70  80  100\n",
      "1   90  90  95   80\n",
      "2  100  80  80   90\n"
     ]
    }
   ],
   "source": [
    "ndf3 = ndf2.reset_index('음악')\n",
    "print(ndf3)"
   ]
  },
  {
   "cell_type": "markdown",
   "id": "bc549b91",
   "metadata": {},
   "source": [
    "행 인덱스 지정은 두 개 이상도 가능(열 이름을 대괄호로 묶어줌)\n",
    "- ndf로 ndf4 만들기\n",
    "- 수학, 영어를 행 인덱스로 지정"
   ]
  },
  {
   "cell_type": "code",
   "execution_count": 125,
   "id": "2569ab81",
   "metadata": {},
   "outputs": [
    {
     "name": "stdout",
     "output_type": "stream",
     "text": [
      "        국어   음악\n",
      "수학 영어          \n",
      "80 100  70   70\n",
      "95 80   90   90\n",
      "80 90   80  100\n"
     ]
    }
   ],
   "source": [
    "ndf4 = ndf.set_index(['수학', '영어'])\n",
    "print(ndf4)"
   ]
  },
  {
   "cell_type": "code",
   "execution_count": null,
   "id": "fe4938b3",
   "metadata": {},
   "outputs": [],
   "source": []
  }
 ],
 "metadata": {
  "kernelspec": {
   "display_name": "Python 3 (ipykernel)",
   "language": "python",
   "name": "python3"
  },
  "language_info": {
   "codemirror_mode": {
    "name": "ipython",
    "version": 3
   },
   "file_extension": ".py",
   "mimetype": "text/x-python",
   "name": "python",
   "nbconvert_exporter": "python",
   "pygments_lexer": "ipython3",
   "version": "3.9.7"
  }
 },
 "nbformat": 4,
 "nbformat_minor": 5
}
