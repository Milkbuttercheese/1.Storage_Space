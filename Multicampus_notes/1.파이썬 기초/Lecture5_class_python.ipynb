{
 "cells": [
  {
   "cell_type": "code",
   "execution_count": 9,
   "id": "ea3beb12",
   "metadata": {},
   "outputs": [
    {
     "name": "stdout",
     "output_type": "stream",
     "text": [
      "3\n"
     ]
    }
   ],
   "source": [
    "result=0\n",
    "def add(num):\n",
    "    global result\n",
    "    result= result+num\n",
    "    return result\n",
    "\n",
    "print(add(3))"
   ]
  },
  {
   "cell_type": "code",
   "execution_count": 10,
   "id": "885e259c",
   "metadata": {},
   "outputs": [
    {
     "name": "stdout",
     "output_type": "stream",
     "text": [
      "7\n"
     ]
    }
   ],
   "source": [
    "print(add(4))"
   ]
  },
  {
   "cell_type": "code",
   "execution_count": 11,
   "id": "053b6ef2",
   "metadata": {},
   "outputs": [],
   "source": [
    "class Calculator:\n",
    "    def __init__(self):\n",
    "        self.result=0\n",
    "        \n",
    "    def add(self,num):\n",
    "        self.result = num+self.result\n",
    "        return self.result\n"
   ]
  },
  {
   "cell_type": "code",
   "execution_count": 12,
   "id": "db388c43",
   "metadata": {},
   "outputs": [],
   "source": [
    "cal1= Calculator()\n"
   ]
  },
  {
   "cell_type": "code",
   "execution_count": 13,
   "id": "8c30cdac",
   "metadata": {},
   "outputs": [
    {
     "name": "stdout",
     "output_type": "stream",
     "text": [
      "3\n"
     ]
    }
   ],
   "source": [
    "print(cal1.add(3))"
   ]
  },
  {
   "cell_type": "code",
   "execution_count": 14,
   "id": "2e4bb000",
   "metadata": {},
   "outputs": [
    {
     "name": "stdout",
     "output_type": "stream",
     "text": [
      "7\n"
     ]
    }
   ],
   "source": [
    "print(cal1.add(4))"
   ]
  },
  {
   "cell_type": "code",
   "execution_count": 16,
   "id": "67a4f22e",
   "metadata": {},
   "outputs": [],
   "source": [
    "cal2=Calculator()"
   ]
  },
  {
   "cell_type": "code",
   "execution_count": 17,
   "id": "e4407acc",
   "metadata": {},
   "outputs": [
    {
     "name": "stdout",
     "output_type": "stream",
     "text": [
      "5\n"
     ]
    }
   ],
   "source": [
    "print(cal2.add(5))"
   ]
  },
  {
   "cell_type": "code",
   "execution_count": 18,
   "id": "ab103927",
   "metadata": {},
   "outputs": [
    {
     "name": "stdout",
     "output_type": "stream",
     "text": [
      "15\n"
     ]
    }
   ],
   "source": [
    "print(cal2.add(10))"
   ]
  },
  {
   "cell_type": "code",
   "execution_count": 19,
   "id": "a484fb65",
   "metadata": {},
   "outputs": [],
   "source": [
    "class Coockie:\n",
    "    pass\n"
   ]
  },
  {
   "cell_type": "code",
   "execution_count": 23,
   "id": "eb9ebe15",
   "metadata": {},
   "outputs": [
    {
     "name": "stdout",
     "output_type": "stream",
     "text": [
      "<class '__main__.Coockie'>\n"
     ]
    }
   ],
   "source": [
    "a=Coockie()\n",
    "print(type(a))"
   ]
  },
  {
   "cell_type": "code",
   "execution_count": 44,
   "id": "48881818",
   "metadata": {},
   "outputs": [
    {
     "name": "stdout",
     "output_type": "stream",
     "text": [
      "10\n",
      "2\n",
      "24\n",
      "1.5\n"
     ]
    }
   ],
   "source": [
    "'''\n",
    "사칙연산 calss 만들기\n",
    "a 객체에 setdata 함수 호출해보기\n",
    "first=4,second=2\n",
    "'''\n",
    "class FourCal:\n",
    "    def setdata(self,first,second):\n",
    "        self.first= first\n",
    "        self.second= second\n",
    "    \n",
    "    #set 데이터로 이미 값을 받아서 \n",
    "    def add(self):\n",
    "        return self.first +self.second\n",
    "    \n",
    "    def sub(self):\n",
    "        return self.first - self.second\n",
    "    \n",
    "    def mul(self):\n",
    "        return self.first * self.second\n",
    "    \n",
    "    def div(self):\n",
    "        return self.first / self.second\n",
    "        \n",
    "        \n",
    "a= FourCal()\n",
    "a.setdata(6,4)\n",
    "print(a.add())\n",
    "print(a.sub())\n",
    "print(a.mul())\n",
    "print(a.div())"
   ]
  },
  {
   "cell_type": "code",
   "execution_count": 35,
   "id": "7e5ea0ec",
   "metadata": {},
   "outputs": [],
   "source": [
    "b=FourCal()\n",
    "FourCal.setdata(b,4,2)"
   ]
  },
  {
   "cell_type": "code",
   "execution_count": 45,
   "id": "593c4212",
   "metadata": {},
   "outputs": [
    {
     "name": "stdout",
     "output_type": "stream",
     "text": [
      "6\n",
      "2\n",
      "8\n",
      "2.0\n"
     ]
    }
   ],
   "source": [
    "class FourCal:\n",
    "    def __init__(self,first,second):\n",
    "        self.first= first\n",
    "        self.second= second\n",
    "    \n",
    "    #set 데이터로 이미 값을 받아서 \n",
    "    def add(self):\n",
    "        return self.first +self.second\n",
    "    \n",
    "    def sub(self):\n",
    "        return self.first - self.second\n",
    "    \n",
    "    def mul(self):\n",
    "        return self.first * self.second\n",
    "    \n",
    "    def div(self):\n",
    "        return self.first / self.second\n",
    "        \n",
    "        \n",
    "a= FourCal(4,2)\n",
    "print(a.add())\n",
    "print(a.sub())\n",
    "print(a.mul())\n",
    "print(a.div())"
   ]
  },
  {
   "cell_type": "code",
   "execution_count": 50,
   "id": "394067bf",
   "metadata": {},
   "outputs": [
    {
     "ename": "ZeroDivisionError",
     "evalue": "division by zero",
     "output_type": "error",
     "traceback": [
      "\u001b[1;31m---------------------------------------------------------------------------\u001b[0m",
      "\u001b[1;31mZeroDivisionError\u001b[0m                         Traceback (most recent call last)",
      "\u001b[1;32m<ipython-input-50-34e27e62f5c8>\u001b[0m in \u001b[0;36m<module>\u001b[1;34m\u001b[0m\n\u001b[0;32m      5\u001b[0m \u001b[1;33m\u001b[0m\u001b[0m\n\u001b[0;32m      6\u001b[0m \u001b[0mb\u001b[0m\u001b[1;33m=\u001b[0m \u001b[0mMoreFourCal\u001b[0m\u001b[1;33m(\u001b[0m\u001b[1;36m5\u001b[0m\u001b[1;33m,\u001b[0m\u001b[1;36m0\u001b[0m\u001b[1;33m)\u001b[0m\u001b[1;33m\u001b[0m\u001b[1;33m\u001b[0m\u001b[0m\n\u001b[1;32m----> 7\u001b[1;33m \u001b[0mprint\u001b[0m\u001b[1;33m(\u001b[0m\u001b[0mb\u001b[0m\u001b[1;33m.\u001b[0m\u001b[0mdiv\u001b[0m\u001b[1;33m(\u001b[0m\u001b[1;33m)\u001b[0m\u001b[1;33m)\u001b[0m\u001b[1;33m\u001b[0m\u001b[1;33m\u001b[0m\u001b[0m\n\u001b[0m",
      "\u001b[1;32m<ipython-input-45-6acd64373b8b>\u001b[0m in \u001b[0;36mdiv\u001b[1;34m(self)\u001b[0m\n\u001b[0;32m     15\u001b[0m \u001b[1;33m\u001b[0m\u001b[0m\n\u001b[0;32m     16\u001b[0m     \u001b[1;32mdef\u001b[0m \u001b[0mdiv\u001b[0m\u001b[1;33m(\u001b[0m\u001b[0mself\u001b[0m\u001b[1;33m)\u001b[0m\u001b[1;33m:\u001b[0m\u001b[1;33m\u001b[0m\u001b[1;33m\u001b[0m\u001b[0m\n\u001b[1;32m---> 17\u001b[1;33m         \u001b[1;32mreturn\u001b[0m \u001b[0mself\u001b[0m\u001b[1;33m.\u001b[0m\u001b[0mfirst\u001b[0m \u001b[1;33m/\u001b[0m \u001b[0mself\u001b[0m\u001b[1;33m.\u001b[0m\u001b[0msecond\u001b[0m\u001b[1;33m\u001b[0m\u001b[1;33m\u001b[0m\u001b[0m\n\u001b[0m\u001b[0;32m     18\u001b[0m \u001b[1;33m\u001b[0m\u001b[0m\n\u001b[0;32m     19\u001b[0m \u001b[1;33m\u001b[0m\u001b[0m\n",
      "\u001b[1;31mZeroDivisionError\u001b[0m: division by zero"
     ]
    }
   ],
   "source": [
    "class MoreFourCal(FourCal):\n",
    "    \n",
    "    def pow(self):\n",
    "        return self.first ** self.second\n",
    "\n",
    "b= MoreFourCal(5,0)\n",
    "print(b.div())\n"
   ]
  },
  {
   "cell_type": "code",
   "execution_count": 53,
   "id": "2bfcf69f",
   "metadata": {},
   "outputs": [
    {
     "name": "stdout",
     "output_type": "stream",
     "text": [
      "0\n",
      "2.0\n"
     ]
    }
   ],
   "source": [
    "class SafeFourCal(FourCal):\n",
    "    \n",
    "    def div(self):\n",
    "        if self.second == 0 :\n",
    "            return 0\n",
    "        else :\n",
    "            return self.first /self.second\n",
    "\n",
    "a=SafeFourCal(4,0)\n",
    "print(a.div())\n",
    "a=SafeFourCal(4,2)\n",
    "print(a.div())"
   ]
  },
  {
   "cell_type": "code",
   "execution_count": null,
   "id": "d776e186",
   "metadata": {},
   "outputs": [],
   "source": []
  }
 ],
 "metadata": {
  "kernelspec": {
   "display_name": "Python 3",
   "language": "python",
   "name": "python3"
  },
  "language_info": {
   "codemirror_mode": {
    "name": "ipython",
    "version": 3
   },
   "file_extension": ".py",
   "mimetype": "text/x-python",
   "name": "python",
   "nbconvert_exporter": "python",
   "pygments_lexer": "ipython3",
   "version": "3.8.8"
  }
 },
 "nbformat": 4,
 "nbformat_minor": 5
}
