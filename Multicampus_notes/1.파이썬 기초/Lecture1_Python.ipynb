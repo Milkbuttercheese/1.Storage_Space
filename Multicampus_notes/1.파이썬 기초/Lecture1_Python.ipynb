{
 "cells": [
  {
   "cell_type": "markdown",
   "id": "536d24f4",
   "metadata": {},
   "source": [
    "마크다운 명령어 예시들"
   ]
  },
  {
   "cell_type": "markdown",
   "id": "3b13d867",
   "metadata": {},
   "source": [
    "# 제목1\n",
    "## 제목2\n",
    "### 제목3\n",
    "#### 제목4\n",
    "###### 제목5\n",
    "\n",
    "- 부연 설명 1\n",
    " - 부연 설명2\n",
    " \n",
    " **강조**\n",
    "\n",
    "\n",
    "선긋기\n",
    "---\n",
    "\n"
   ]
  },
  {
   "cell_type": "markdown",
   "id": "17f3693c",
   "metadata": {},
   "source": [
    "간단한 변수 사용 \n",
    "- 변수= 값\n",
    " - 변수는 수치를 담는 그릇"
   ]
  },
  {
   "cell_type": "code",
   "execution_count": 3,
   "id": "9f442113",
   "metadata": {},
   "outputs": [],
   "source": [
    "apple=10"
   ]
  },
  {
   "cell_type": "code",
   "execution_count": 4,
   "id": "087109f7",
   "metadata": {},
   "outputs": [],
   "source": [
    "banana=20"
   ]
  },
  {
   "cell_type": "markdown",
   "id": "15f2a923",
   "metadata": {},
   "source": [
    "- 실제 프로그래밍에서 print() 함수를 사용하지 않으면 에러가 발생한다 \n",
    "- print() 함수를 꼭 써줘야 한다"
   ]
  },
  {
   "cell_type": "code",
   "execution_count": 5,
   "id": "3f808d8d",
   "metadata": {},
   "outputs": [
    {
     "name": "stdout",
     "output_type": "stream",
     "text": [
      "30\n"
     ]
    }
   ],
   "source": [
    "print(apple+banana)"
   ]
  },
  {
   "cell_type": "code",
   "execution_count": 6,
   "id": "1ee504f2",
   "metadata": {},
   "outputs": [
    {
     "data": {
      "text/plain": [
       "30"
      ]
     },
     "execution_count": 6,
     "metadata": {},
     "output_type": "execute_result"
    }
   ],
   "source": [
    "apple+banana"
   ]
  },
  {
   "cell_type": "markdown",
   "id": "8cf5a728",
   "metadata": {},
   "source": [
    "변수명 만들기\n",
    "- 변수명의 첫 문자는 영문자 또는 '_' 언더바로 시작할 것\n",
    " - 첫 문자로 숫자 사용 X\n",
    " - 첫 문자로 특수 문자 사용 X"
   ]
  },
  {
   "cell_type": "code",
   "execution_count": 9,
   "id": "4e3b1194",
   "metadata": {},
   "outputs": [],
   "source": [
    "_unit=1"
   ]
  },
  {
   "cell_type": "markdown",
   "id": "25d5e064",
   "metadata": {},
   "source": [
    "예약어(컴퓨터가 이미 정의해둔 단어들) 는 변수지정 불가능하다 "
   ]
  },
  {
   "cell_type": "code",
   "execution_count": 11,
   "id": "8838d0ee",
   "metadata": {},
   "outputs": [
    {
     "ename": "SyntaxError",
     "evalue": "invalid syntax (<ipython-input-11-1d82dc2ad2a5>, line 1)",
     "output_type": "error",
     "traceback": [
      "\u001b[1;36m  File \u001b[1;32m\"<ipython-input-11-1d82dc2ad2a5>\"\u001b[1;36m, line \u001b[1;32m1\u001b[0m\n\u001b[1;33m    and=1\u001b[0m\n\u001b[1;37m    ^\u001b[0m\n\u001b[1;31mSyntaxError\u001b[0m\u001b[1;31m:\u001b[0m invalid syntax\n"
     ]
    }
   ],
   "source": [
    "and=1"
   ]
  },
  {
   "cell_type": "markdown",
   "id": "859ec3d8",
   "metadata": {},
   "source": [
    "-Python는 변수 선언시 자료형을 명시할 필요가 없다"
   ]
  },
  {
   "cell_type": "code",
   "execution_count": 12,
   "id": "1918c370",
   "metadata": {},
   "outputs": [],
   "source": [
    "number =1\n",
    "pi= 3.14\n",
    "flag= True\n",
    "char = 'x'\n",
    "chars= 'hello'\n"
   ]
  },
  {
   "cell_type": "code",
   "execution_count": 13,
   "id": "fe9c787a",
   "metadata": {},
   "outputs": [
    {
     "name": "stdout",
     "output_type": "stream",
     "text": [
      "<class 'int'>\n",
      "<class 'float'>\n",
      "<class 'bool'>\n",
      "<class 'str'>\n",
      "<class 'str'>\n"
     ]
    }
   ],
   "source": [
    "print(type(number))\n",
    "print(type(pi))\n",
    "print(type(flag))\n",
    "print(type(char))\n",
    "print(type(chars))"
   ]
  },
  {
   "cell_type": "markdown",
   "id": "57c1a98e",
   "metadata": {},
   "source": [
    "변수 생성하기 \n",
    "- identity라는 변수에 지구인 이라는 값을 선언"
   ]
  },
  {
   "cell_type": "code",
   "execution_count": 15,
   "id": "5dd67a4b",
   "metadata": {},
   "outputs": [],
   "source": [
    "identity='지구인'"
   ]
  },
  {
   "cell_type": "markdown",
   "id": "36c715ad",
   "metadata": {},
   "source": [
    "- identity라는 변수에 외계인 이라는 값을 선언\n",
    "- 똑같은 변수에 새로운 값을 넣어주는 경우 변수의 값이 변경되는 것이 아니라 새로운 변수가 선언되는 것\n",
    "- 기존 변수는 없어지고 값은 불러올 수도 없어진다\n"
   ]
  },
  {
   "cell_type": "code",
   "execution_count": 16,
   "id": "23799cb9",
   "metadata": {},
   "outputs": [],
   "source": [
    "identity= '외계인' "
   ]
  },
  {
   "cell_type": "code",
   "execution_count": 17,
   "id": "65fd3952",
   "metadata": {},
   "outputs": [
    {
     "name": "stdout",
     "output_type": "stream",
     "text": [
      "외계인\n"
     ]
    }
   ],
   "source": [
    "print(identity)"
   ]
  },
  {
   "cell_type": "markdown",
   "id": "ae8b47f8",
   "metadata": {},
   "source": [
    "print()\n",
    "- 함수 안에 있는 내용을 출력\n",
    "- 파이썬에서는 파일화를 시킬 때 반드시 print()함수를 써줘야 한다"
   ]
  },
  {
   "cell_type": "code",
   "execution_count": 18,
   "id": "69a49d43",
   "metadata": {},
   "outputs": [
    {
     "name": "stdout",
     "output_type": "stream",
     "text": [
      "lifeisshort\n"
     ]
    }
   ],
   "source": [
    "print('life' 'is' 'short')"
   ]
  },
  {
   "cell_type": "code",
   "execution_count": 19,
   "id": "7d10d4b1",
   "metadata": {},
   "outputs": [
    {
     "name": "stdout",
     "output_type": "stream",
     "text": [
      "life is short\n"
     ]
    }
   ],
   "source": [
    "print('life','is','short')"
   ]
  },
  {
   "cell_type": "code",
   "execution_count": 20,
   "id": "220110d1",
   "metadata": {},
   "outputs": [
    {
     "name": "stdout",
     "output_type": "stream",
     "text": [
      "life is short\n"
     ]
    }
   ],
   "source": [
    "print('life is short')"
   ]
  },
  {
   "cell_type": "markdown",
   "id": "872ec31b",
   "metadata": {},
   "source": [
    "input()\n",
    "- () 괄호가 존재하니 함수라고 간단하게 생각하기\n",
    "- 입력값을 받는 함수\n",
    "- 입력값은 문자형으로 저장한다"
   ]
  },
  {
   "cell_type": "code",
   "execution_count": 24,
   "id": "70e80b55",
   "metadata": {},
   "outputs": [
    {
     "name": "stdout",
     "output_type": "stream",
     "text": [
      "a 값을 입력하시오3\n",
      "b 값을 입력하시오5\n",
      "둘의 합은 8 입니다\n"
     ]
    }
   ],
   "source": [
    "a= int(input('a 값을 입력해주세요'))\n",
    "b= int(input('b 값을 입력해주세요'))\n",
    "print('둘의 합은',a+b,'입니다')"
   ]
  },
  {
   "cell_type": "code",
   "execution_count": 29,
   "id": "0335a10d",
   "metadata": {},
   "outputs": [
    {
     "name": "stdout",
     "output_type": "stream",
     "text": [
      "a의 값을 입력해 주세요20\n",
      "2030\n"
     ]
    }
   ],
   "source": [
    "a= input('a의 값을 입력해 주세요')\n",
    "b= input(a)"
   ]
  },
  {
   "cell_type": "code",
   "execution_count": 30,
   "id": "f62d7358",
   "metadata": {},
   "outputs": [
    {
     "name": "stdout",
     "output_type": "stream",
     "text": [
      "20\n",
      "30\n"
     ]
    }
   ],
   "source": [
    "print(a)\n",
    "print(b)"
   ]
  },
  {
   "cell_type": "markdown",
   "id": "b54320cb",
   "metadata": {},
   "source": [
    "주석 처리하기\n",
    "- 한줄 주석: #\n",
    "- 여러줄 주석:"
   ]
  },
  {
   "cell_type": "code",
   "execution_count": 31,
   "id": "6dabc6cc",
   "metadata": {},
   "outputs": [
    {
     "name": "stdout",
     "output_type": "stream",
     "text": [
      "20\n"
     ]
    }
   ],
   "source": [
    "print(a)\n",
    "#print(b)"
   ]
  },
  {
   "cell_type": "code",
   "execution_count": 34,
   "id": "1ead286c",
   "metadata": {},
   "outputs": [
    {
     "name": "stdout",
     "output_type": "stream",
     "text": [
      "hello\n"
     ]
    }
   ],
   "source": [
    "\n",
    "print('hello')"
   ]
  },
  {
   "cell_type": "markdown",
   "id": "e9a9531a",
   "metadata": {},
   "source": [
    "변수 a에는 pyt 값을 선언 <br>\n",
    "변수 A에는 hon 값을 선언 <br>\n",
    "변수 a 와 A값 출력"
   ]
  },
  {
   "cell_type": "code",
   "execution_count": 35,
   "id": "eef90db9",
   "metadata": {},
   "outputs": [
    {
     "name": "stdout",
     "output_type": "stream",
     "text": [
      "python\n"
     ]
    }
   ],
   "source": [
    "a= 'pyt'\n",
    "A='hon'\n",
    "print(a+A)"
   ]
  },
  {
   "cell_type": "markdown",
   "id": "24bc62bd",
   "metadata": {},
   "source": [
    "a의 값을 print()함수로 출력하라"
   ]
  },
  {
   "cell_type": "code",
   "execution_count": 37,
   "id": "a5ed9fb0",
   "metadata": {},
   "outputs": [
    {
     "name": "stdout",
     "output_type": "stream",
     "text": [
      "pyt\n"
     ]
    }
   ],
   "source": [
    "print(a)"
   ]
  },
  {
   "cell_type": "markdown",
   "id": "09efb3b1",
   "metadata": {},
   "source": [
    "- 기본적으로 시스템 내장 함수는 소문자로 정의되어 있다"
   ]
  },
  {
   "cell_type": "markdown",
   "id": "724dbd16",
   "metadata": {},
   "source": []
  },
  {
   "cell_type": "code",
   "execution_count": null,
   "id": "ab6f4ecb",
   "metadata": {},
   "outputs": [],
   "source": []
  }
 ],
 "metadata": {
  "kernelspec": {
   "display_name": "Python 3",
   "language": "python",
   "name": "python3"
  },
  "language_info": {
   "codemirror_mode": {
    "name": "ipython",
    "version": 3
   },
   "file_extension": ".py",
   "mimetype": "text/x-python",
   "name": "python",
   "nbconvert_exporter": "python",
   "pygments_lexer": "ipython3",
   "version": "3.8.8"
  }
 },
 "nbformat": 4,
 "nbformat_minor": 5
}
