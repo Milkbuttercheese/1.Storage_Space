{
 "cells": [
  {
   "cell_type": "code",
   "execution_count": 1,
   "id": "e8ee465c",
   "metadata": {},
   "outputs": [
    {
     "name": "stdout",
     "output_type": "stream",
     "text": [
      "3201430463360\n"
     ]
    }
   ],
   "source": [
    "#리스트 a를 만들고 메모리 저장 위치가 어딘지 확인해보기\n",
    "#각 컴퓨터마다 다르게 생성된다\n",
    "a=[1,2,3]\n",
    "print(id(a))"
   ]
  },
  {
   "cell_type": "code",
   "execution_count": 55,
   "id": "77afd915",
   "metadata": {},
   "outputs": [
    {
     "name": "stdout",
     "output_type": "stream",
     "text": [
      "1983634176000\n",
      "1983634176000\n"
     ]
    }
   ],
   "source": [
    "b= a\n",
    "print(id(a))\n",
    "print(id(b))\n",
    "#b와 a와 같은 위치에 존재한다\n"
   ]
  },
  {
   "cell_type": "code",
   "execution_count": 56,
   "id": "00780798",
   "metadata": {},
   "outputs": [
    {
     "name": "stdout",
     "output_type": "stream",
     "text": [
      "1983634540096\n"
     ]
    }
   ],
   "source": [
    "c=[1,2,3]\n",
    "print(id(c))"
   ]
  },
  {
   "cell_type": "code",
   "execution_count": 57,
   "id": "47b5a70b",
   "metadata": {},
   "outputs": [
    {
     "name": "stdout",
     "output_type": "stream",
     "text": [
      "[1, 4, 3]\n",
      "[1, 4, 3]\n"
     ]
    }
   ],
   "source": [
    "a[1]=4\n",
    "print(a)\n",
    "print(b)"
   ]
  },
  {
   "cell_type": "code",
   "execution_count": 58,
   "id": "04567ad2",
   "metadata": {},
   "outputs": [
    {
     "name": "stdout",
     "output_type": "stream",
     "text": [
      "[1, 4, 3]\n",
      "[1, 4, 3]\n",
      "[1, 2, 3]\n",
      "[1, 4, 3]\n"
     ]
    }
   ],
   "source": [
    "#변수 b가 a와 다른 곳을 가르키도록 만들기\n",
    "b= a[:]\n",
    "print(a)\n",
    "print(b)\n",
    "a[1]=2\n",
    "print(a)\n",
    "print(b)"
   ]
  },
  {
   "cell_type": "code",
   "execution_count": 59,
   "id": "3bc78748",
   "metadata": {},
   "outputs": [
    {
     "name": "stdout",
     "output_type": "stream",
     "text": [
      "[1, 4, 3]\n",
      "[1, 2, 3]\n",
      "1983633883456\n",
      "1983634737024\n"
     ]
    }
   ],
   "source": [
    "a=[1,2,3]\n",
    "b=a.copy()\n",
    "a[1]=4\n",
    "print(a)\n",
    "print(b)\n",
    "print(id(a))\n",
    "print(id(b))"
   ]
  },
  {
   "cell_type": "code",
   "execution_count": 62,
   "id": "2a68075f",
   "metadata": {},
   "outputs": [
    {
     "name": "stdout",
     "output_type": "stream",
     "text": [
      "python\n",
      "is\n",
      "C-language\n"
     ]
    }
   ],
   "source": [
    "#다중 변수 지정 (튜플)\n",
    "a,b =('python','is')\n",
    "print(a)\n",
    "print(b)\n",
    "a='C-language'\n",
    "print(a)"
   ]
  },
  {
   "cell_type": "code",
   "execution_count": 14,
   "id": "62176f14",
   "metadata": {},
   "outputs": [
    {
     "name": "stdout",
     "output_type": "stream",
     "text": [
      "python\n",
      "is\n"
     ]
    }
   ],
   "source": [
    "(a,b)= 'python', 'is'\n",
    "print(a)\n",
    "print(b)"
   ]
  },
  {
   "cell_type": "code",
   "execution_count": 16,
   "id": "885ab808",
   "metadata": {},
   "outputs": [
    {
     "name": "stdout",
     "output_type": "stream",
     "text": [
      "python\n",
      "is\n"
     ]
    }
   ],
   "source": [
    "a,b=['python','is']\n",
    "print(a)\n",
    "print(b)"
   ]
  },
  {
   "cell_type": "code",
   "execution_count": 18,
   "id": "5d563816",
   "metadata": {},
   "outputs": [
    {
     "name": "stdout",
     "output_type": "stream",
     "text": [
      "python\n",
      "python\n",
      "1983601986928\n",
      "1983601986928\n"
     ]
    }
   ],
   "source": [
    "a=b='python'\n",
    "print(a)\n",
    "print(b)\n",
    "print(id(a))\n",
    "print(id(b))"
   ]
  },
  {
   "cell_type": "code",
   "execution_count": 20,
   "id": "fdca5eed",
   "metadata": {},
   "outputs": [
    {
     "name": "stdout",
     "output_type": "stream",
     "text": [
      "short\n",
      "Life\n"
     ]
    }
   ],
   "source": [
    "a,b = ['Life','short']\n",
    "a,b=b,a\n",
    "print(a)\n",
    "print(b)"
   ]
  },
  {
   "cell_type": "code",
   "execution_count": 21,
   "id": "3c1947e9",
   "metadata": {},
   "outputs": [],
   "source": [
    "[a,b]='life','short'"
   ]
  },
  {
   "cell_type": "markdown",
   "id": "46f3d7b7",
   "metadata": {},
   "source": [
    "조건문\n",
    "- 참과 거짓을 판단하는 문장"
   ]
  },
  {
   "cell_type": "code",
   "execution_count": 30,
   "id": "2184f542",
   "metadata": {},
   "outputs": [
    {
     "name": "stdout",
     "output_type": "stream",
     "text": [
      "걸어가라\n"
     ]
    }
   ],
   "source": [
    "\n",
    "money= False\n",
    "if money == True:\n",
    "    print('택시 타고 가라')\n",
    "else:\n",
    "    print('걸어가라')"
   ]
  },
  {
   "cell_type": "markdown",
   "id": "cff66159",
   "metadata": {},
   "source": [
    "- 참일 경우에는 if 조건문에 해당하는 문장들이 수행\n",
    "- 거짓일 경우 else에 해당하는 문장들이 수행"
   ]
  },
  {
   "cell_type": "code",
   "execution_count": 31,
   "id": "2121e8b4",
   "metadata": {},
   "outputs": [
    {
     "name": "stdout",
     "output_type": "stream",
     "text": [
      "걸어가라\n"
     ]
    }
   ],
   "source": [
    "money=2000\n",
    "if money >= 3000:\n",
    "    print('택시를 타고 가라')\n",
    "else:\n",
    "    print('걸어가라')"
   ]
  },
  {
   "cell_type": "markdown",
   "id": "46833142",
   "metadata": {},
   "source": [
    "- 수중에 돈 2000원이 있다\n",
    "- 카드가 있다\n",
    "- 3000원 이상의 돈이 있거나 카드가 있으면 택시를 타고 가라\n",
    "- 그렇지 않으면 걸어가라 출력"
   ]
  },
  {
   "cell_type": "code",
   "execution_count": 33,
   "id": "82db601f",
   "metadata": {},
   "outputs": [
    {
     "name": "stdout",
     "output_type": "stream",
     "text": [
      "택시를 타고 가라\n"
     ]
    }
   ],
   "source": [
    "money=2000\n",
    "card= True\n",
    "if (money >=3000) or (card==True):\n",
    "    print('택시를 타고 가라')\n",
    "else:\n",
    "    print('걸어가라')\n",
    "    "
   ]
  },
  {
   "cell_type": "markdown",
   "id": "83b5b5d6",
   "metadata": {},
   "source": [
    "- 주머니에 paper,cellphone,money가 있다하자\n",
    "- 주머니에 money가 있으면 택시를 타고 없으면 걸어가야하는 예제"
   ]
  },
  {
   "cell_type": "code",
   "execution_count": 34,
   "id": "68fa6120",
   "metadata": {},
   "outputs": [
    {
     "name": "stdout",
     "output_type": "stream",
     "text": [
      "택시를 타라\n"
     ]
    }
   ],
   "source": [
    "pocket=['paper','cellphone','money']\n",
    "if 'money' in pocket :\n",
    "    print('택시를 타라')\n",
    "else:\n",
    "    print('걸어가라')"
   ]
  },
  {
   "cell_type": "code",
   "execution_count": 38,
   "id": "54803e64",
   "metadata": {},
   "outputs": [
    {
     "name": "stdout",
     "output_type": "stream",
     "text": [
      "택시를 타라\n"
     ]
    }
   ],
   "source": [
    "#다양한 조건을 판단하는 elif 구문\n",
    "#paper,cellphone,card를 소지하고 있는 경우\n",
    "#주머니에 돈이 있으면 택시를 타고가라\n",
    "#주머니에 돈이 없어도 카드가 있다면 택시를 타고가라\n",
    "pocket=['paper','cellphone']\n",
    "card=True\n",
    "if 'money' in pocket :\n",
    "    print('택시를 타라')\n",
    "elif card == True:\n",
    "    print('택시를 타라')\n",
    "else:\n",
    "    print('걸어가라')"
   ]
  },
  {
   "cell_type": "code",
   "execution_count": 40,
   "id": "0ff513f6",
   "metadata": {},
   "outputs": [
    {
     "ename": "IndentationError",
     "evalue": "expected an indented block (<ipython-input-40-ffc2afe9d780>, line 4)",
     "output_type": "error",
     "traceback": [
      "\u001b[1;36m  File \u001b[1;32m\"<ipython-input-40-ffc2afe9d780>\"\u001b[1;36m, line \u001b[1;32m4\u001b[0m\n\u001b[1;33m    else:\u001b[0m\n\u001b[1;37m    ^\u001b[0m\n\u001b[1;31mIndentationError\u001b[0m\u001b[1;31m:\u001b[0m expected an indented block\n"
     ]
    }
   ],
   "source": [
    "#수행 문장이 없기 때문에 발생하는 오류\n",
    "pockey=['paper','money','cellphone']\n",
    "if 'money' in pocket:\n",
    "    \n",
    "else:\n",
    "    print('카드를 꺼내라')"
   ]
  },
  {
   "cell_type": "code",
   "execution_count": 41,
   "id": "2f4de40e",
   "metadata": {},
   "outputs": [
    {
     "name": "stdout",
     "output_type": "stream",
     "text": [
      "카드를 꺼내라\n"
     ]
    }
   ],
   "source": [
    "#수행 문장이 없기 때문에 발생하는 오류\n",
    "pockey=['paper','money','cellphone']\n",
    "if 'money' in pocket:\n",
    "    pass\n",
    "else:\n",
    "    print('카드를 꺼내라')"
   ]
  },
  {
   "cell_type": "code",
   "execution_count": 45,
   "id": "363d22b8",
   "metadata": {},
   "outputs": [
    {
     "name": "stdout",
     "output_type": "stream",
     "text": [
      "현금을 꺼내라\n",
      "종이를 꺼내라\n"
     ]
    }
   ],
   "source": [
    "#다음 문장은 어떻게 실행될까?\n",
    "pocket=['paper','money','cellphone']\n",
    "if 'money' in pocket:\n",
    "    print('현금을 꺼내라')\n",
    "    pass\n",
    "    print('종이를 꺼내라')\n",
    "else:\n",
    "    print('카드를 꺼내라')"
   ]
  },
  {
   "cell_type": "code",
   "execution_count": 46,
   "id": "b1b2cb05",
   "metadata": {},
   "outputs": [
    {
     "name": "stdout",
     "output_type": "stream",
     "text": [
      "현금을 꺼내라\n",
      "종이를 꺼내라\n"
     ]
    }
   ],
   "source": [
    "#다음 문장은 어떻게 실행될까?\n",
    "pocket=['paper','money','cellphone']\n",
    "if 'money' in pocket:\n",
    "    pass\n",
    "    print('현금을 꺼내라')\n",
    "    print('종이를 꺼내라')\n",
    "else:\n",
    "    print('카드를 꺼내라')"
   ]
  },
  {
   "cell_type": "code",
   "execution_count": 50,
   "id": "95548c0c",
   "metadata": {},
   "outputs": [],
   "source": [
    "pocket=['paper','money','cellphone']\n",
    "if 'money' in pocket: pass\n",
    "else: print('카드를 꺼내라')"
   ]
  },
  {
   "cell_type": "code",
   "execution_count": 51,
   "id": "605d8379",
   "metadata": {},
   "outputs": [],
   "source": [
    "pocket=['paper','money','cellphone']\n",
    "if 'money' in pocket: pass\n",
    "else: print('카드를 꺼내라')"
   ]
  },
  {
   "cell_type": "code",
   "execution_count": null,
   "id": "cff24a90",
   "metadata": {},
   "outputs": [],
   "source": []
  }
 ],
 "metadata": {
  "kernelspec": {
   "display_name": "Python 3",
   "language": "python",
   "name": "python3"
  },
  "language_info": {
   "codemirror_mode": {
    "name": "ipython",
    "version": 3
   },
   "file_extension": ".py",
   "mimetype": "text/x-python",
   "name": "python",
   "nbconvert_exporter": "python",
   "pygments_lexer": "ipython3",
   "version": "3.8.8"
  }
 },
 "nbformat": 4,
 "nbformat_minor": 5
}
