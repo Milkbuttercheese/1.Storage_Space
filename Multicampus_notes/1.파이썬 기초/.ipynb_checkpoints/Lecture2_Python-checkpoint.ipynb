{
 "cells": [
  {
   "cell_type": "markdown",
   "id": "322ceaf4",
   "metadata": {},
   "source": [
    "자료형\n",
    "- 자료형/데이터 타입: 숫자,문자와 같이 여러 종류의 데이터를 구분하기 위한 분류\n",
    "\n",
    "분류 - 자료형 종류 7 가지\n",
    "- 수치형 자료형 \n",
    " - 정수\n",
    " - 실수\n",
    "- 문자열 자료형\n",
    "- 부울 자료형\n",
    "- 묶음형 자료형\n",
    " - 리스트 자료형\n",
    " - 튜플 자료형\n",
    " - 사전 자료형\n",
    " - 집합 자료형"
   ]
  },
  {
   "cell_type": "code",
   "execution_count": 11,
   "id": "11f466e9",
   "metadata": {},
   "outputs": [],
   "source": [
    "a=123"
   ]
  },
  {
   "cell_type": "code",
   "execution_count": 12,
   "id": "762261f6",
   "metadata": {},
   "outputs": [
    {
     "name": "stdout",
     "output_type": "stream",
     "text": [
      "<class 'int'>\n"
     ]
    }
   ],
   "source": [
    "print(type(a))"
   ]
  },
  {
   "cell_type": "markdown",
   "id": "b97d4fe8",
   "metadata": {},
   "source": [
    "정수의 바이트 수를 확인해 보기\n",
    "- (정수).bit_length()"
   ]
  },
  {
   "cell_type": "code",
   "execution_count": 18,
   "id": "fa535f92",
   "metadata": {},
   "outputs": [
    {
     "name": "stdout",
     "output_type": "stream",
     "text": [
      "4\n"
     ]
    }
   ],
   "source": [
    "print((9).bit_length())"
   ]
  },
  {
   "cell_type": "markdown",
   "id": "fc88576e",
   "metadata": {},
   "source": [
    "실수 자료형 float\n"
   ]
  },
  {
   "cell_type": "code",
   "execution_count": 19,
   "id": "7092d22a",
   "metadata": {},
   "outputs": [],
   "source": [
    "b=-118.625"
   ]
  },
  {
   "cell_type": "code",
   "execution_count": 24,
   "id": "65ff8723",
   "metadata": {},
   "outputs": [
    {
     "name": "stdout",
     "output_type": "stream",
     "text": [
      "<class 'float'>\n",
      "-118.625\n"
     ]
    }
   ],
   "source": [
    "print(type(b))\n",
    "print(b)"
   ]
  },
  {
   "cell_type": "markdown",
   "id": "98d8e493",
   "metadata": {},
   "source": [
    "2진수 binary\n",
    "- bin()함수 사용"
   ]
  },
  {
   "cell_type": "code",
   "execution_count": 25,
   "id": "00ad6799",
   "metadata": {},
   "outputs": [
    {
     "name": "stdout",
     "output_type": "stream",
     "text": [
      "0b11111111\n"
     ]
    }
   ],
   "source": [
    "print(bin(255))"
   ]
  },
  {
   "cell_type": "markdown",
   "id": "7cf0c57e",
   "metadata": {},
   "source": [
    "8진수(octal)\n",
    "- oct()함수 사용"
   ]
  },
  {
   "cell_type": "code",
   "execution_count": 26,
   "id": "4e8f3919",
   "metadata": {},
   "outputs": [
    {
     "name": "stdout",
     "output_type": "stream",
     "text": [
      "0o377\n"
     ]
    }
   ],
   "source": [
    "print(oct(255))"
   ]
  },
  {
   "cell_type": "code",
   "execution_count": 27,
   "id": "fff94c9b",
   "metadata": {},
   "outputs": [
    {
     "name": "stdout",
     "output_type": "stream",
     "text": [
      "0xff\n"
     ]
    }
   ],
   "source": [
    "print(hex(255))"
   ]
  },
  {
   "cell_type": "code",
   "execution_count": 30,
   "id": "fd5a0d1a",
   "metadata": {},
   "outputs": [
    {
     "name": "stdout",
     "output_type": "stream",
     "text": [
      "10\n",
      "4\n",
      "21\n",
      "2.3333333333333335\n",
      "343\n",
      "1\n",
      "2\n"
     ]
    }
   ],
   "source": [
    "a=7\n",
    "b=3\n",
    "print(a+b) #a와 b를 더한 값\n",
    "print(a-b)   #a와 b를 뺀 값\n",
    "print(a*b)    #a와 b를 곱한 값\n",
    "print(a/b)    #a에서 b를 나눈 값\n",
    "print(a **b)  # a의 b제곱\n",
    "print(a%b) #a에서 b를 나눈 나머지\n",
    "print(a//b) #a에서 b를 나눈 몫"
   ]
  },
  {
   "cell_type": "code",
   "execution_count": 33,
   "id": "cf022844",
   "metadata": {},
   "outputs": [
    {
     "name": "stdout",
     "output_type": "stream",
     "text": [
      "Hello World\n",
      "<class 'str'>\n"
     ]
    }
   ],
   "source": [
    "a= 'Hello World'\n",
    "print(a)\n",
    "print(type(a))"
   ]
  },
  {
   "cell_type": "code",
   "execution_count": 34,
   "id": "fbd37c2f",
   "metadata": {},
   "outputs": [
    {
     "name": "stdout",
     "output_type": "stream",
     "text": [
      "2\n",
      "<class 'str'>\n"
     ]
    }
   ],
   "source": [
    "b= '2' #이렇게 따음표로 넣으면 문자 class로 들어감\n",
    "print(b)\n",
    "print(type(b))"
   ]
  },
  {
   "cell_type": "code",
   "execution_count": 36,
   "id": "8e1c5f62",
   "metadata": {},
   "outputs": [
    {
     "name": "stdout",
     "output_type": "stream",
     "text": [
      "\"python is very easy\"he says\n",
      "'python is very easy'he says\n"
     ]
    }
   ],
   "source": [
    "say= '\"python is very easy\"he says'\n",
    "print(say)\n",
    "say2= '\\'python is very easy\\'he says'\n",
    "print(say2)"
   ]
  },
  {
   "cell_type": "code",
   "execution_count": 37,
   "id": "ab01c273",
   "metadata": {},
   "outputs": [
    {
     "name": "stdout",
     "output_type": "stream",
     "text": [
      "10000\\\n"
     ]
    }
   ],
   "source": [
    "money= '10000\\\\'\n",
    "print(money)"
   ]
  },
  {
   "cell_type": "markdown",
   "id": "7e307c49",
   "metadata": {},
   "source": [
    "이스케이프 문자 사용하기\n",
    "줄바꿈"
   ]
  },
  {
   "cell_type": "code",
   "execution_count": 42,
   "id": "f204440e",
   "metadata": {},
   "outputs": [],
   "source": [
    "multiline='Life is short \\n You need Python'"
   ]
  },
  {
   "cell_type": "code",
   "execution_count": 43,
   "id": "2ea8fc37",
   "metadata": {},
   "outputs": [
    {
     "name": "stdout",
     "output_type": "stream",
     "text": [
      "Life is short \n",
      " You need Python\n",
      "\n",
      "Life is short\n",
      "You need python\n",
      "\n"
     ]
    }
   ],
   "source": [
    "print(multiline)\n",
    "multiline2= '''\n",
    "Life is short\n",
    "You need python\n",
    "'''\n",
    "print(multiline2)"
   ]
  },
  {
   "cell_type": "code",
   "execution_count": 44,
   "id": "2b967650",
   "metadata": {},
   "outputs": [
    {
     "name": "stdout",
     "output_type": "stream",
     "text": [
      "Life is short \t You need Python\n"
     ]
    }
   ],
   "source": [
    "multiline3='Life is short \\t You need Python'\n",
    "print(multiline3)"
   ]
  },
  {
   "cell_type": "code",
   "execution_count": 46,
   "id": "5d6a1324",
   "metadata": {},
   "outputs": [
    {
     "name": "stdout",
     "output_type": "stream",
     "text": [
      " python is fun!\n"
     ]
    }
   ],
   "source": [
    "head=' python '\n",
    "tail= 'is fun!'\n",
    "print(head+tail)"
   ]
  },
  {
   "cell_type": "code",
   "execution_count": 48,
   "id": "1b2b7d0d",
   "metadata": {},
   "outputs": [
    {
     "name": "stdout",
     "output_type": "stream",
     "text": [
      "python python \n"
     ]
    }
   ],
   "source": [
    "a='python '\n",
    "print(2*a)"
   ]
  },
  {
   "cell_type": "markdown",
   "id": "042170a7",
   "metadata": {},
   "source": [
    "print('\\='*20 +'My Program')"
   ]
  },
  {
   "cell_type": "code",
   "execution_count": 53,
   "id": "38048bb4",
   "metadata": {},
   "outputs": [
    {
     "name": "stdout",
     "output_type": "stream",
     "text": [
      "====================\n",
      "My Program\n",
      "====================\n"
     ]
    }
   ],
   "source": [
    "print('='*20 +'\\n''My Program'+'\\n'+'='*20)"
   ]
  },
  {
   "cell_type": "code",
   "execution_count": 54,
   "id": "3253443a",
   "metadata": {},
   "outputs": [
    {
     "name": "stdout",
     "output_type": "stream",
     "text": [
      "17\n"
     ]
    }
   ],
   "source": [
    "a= 'Life is too short'\n",
    "print(len(a))"
   ]
  },
  {
   "cell_type": "code",
   "execution_count": 60,
   "id": "802a9cce",
   "metadata": {},
   "outputs": [
    {
     "name": "stdout",
     "output_type": "stream",
     "text": [
      "y\n"
     ]
    }
   ],
   "source": [
    "a='Life is too short. you need python'\n",
    "print(a[-15])"
   ]
  },
  {
   "cell_type": "code",
   "execution_count": 68,
   "id": "6981f147",
   "metadata": {},
   "outputs": [
    {
     "name": "stdout",
     "output_type": "stream",
     "text": [
      "Life\n",
      "Life is too short\n",
      "you need python\n",
      "Life is too short. you need python\n",
      "you need\n"
     ]
    }
   ],
   "source": [
    "#인덱싱하면 오른쪽 끝은 포함되지 않음\n",
    "print(a[:4])\n",
    "#시작번호를 생략해도 됨\n",
    "print(a[:17])\n",
    "print(a[19:])\n",
    "print(a[:])\n",
    "#you need 시작은 양수 끝지점은 음수로 표현해보기\n",
    "print(a[19:-7])"
   ]
  },
  {
   "cell_type": "markdown",
   "id": "2d71954d",
   "metadata": {},
   "source": [
    "a 변수에 Pithon 이란 문자열을 저장하고 Python으로 변경해보기\n",
    "- 새로운 변수 생성은 X"
   ]
  },
  {
   "cell_type": "code",
   "execution_count": 73,
   "id": "0a662f85",
   "metadata": {},
   "outputs": [
    {
     "name": "stdout",
     "output_type": "stream",
     "text": [
      "python\n"
     ]
    }
   ],
   "source": [
    "#슬라이싱으로 쪼개서 내용을 변경해주는 방법\n",
    "a= 'Pithon'\n",
    "a= a[0]+'y'+a[2:]\n",
    "print(a)\n",
    "#인덱싱으로 글자를 바꾸는것은 불가능하다\n",
    "#a[j]= value_j로 형식으로 재할당 불가"
   ]
  },
  {
   "cell_type": "code",
   "execution_count": 74,
   "id": "13b45133",
   "metadata": {},
   "outputs": [
    {
     "name": "stdout",
     "output_type": "stream",
     "text": [
      "i eat 3 apples\n"
     ]
    }
   ],
   "source": [
    "print('i eat %d apples' %3)"
   ]
  },
  {
   "cell_type": "code",
   "execution_count": 75,
   "id": "d0a00478",
   "metadata": {},
   "outputs": [
    {
     "name": "stdout",
     "output_type": "stream",
     "text": [
      "i eat five apples\n"
     ]
    }
   ],
   "source": [
    "number= 'five'\n",
    "print('i eat %s apples' %number)"
   ]
  },
  {
   "cell_type": "code",
   "execution_count": 82,
   "id": "b8f2085f",
   "metadata": {},
   "outputs": [
    {
     "name": "stdout",
     "output_type": "stream",
     "text": [
      "I ate 3 apples. so i was sick for three days\n"
     ]
    }
   ],
   "source": [
    "number=3\n",
    "day='three'\n",
    "print('I ate %d apples. so i was sick for %s days' %(number,day))"
   ]
  },
  {
   "cell_type": "code",
   "execution_count": 86,
   "id": "fbed80b8",
   "metadata": {},
   "outputs": [
    {
     "name": "stdout",
     "output_type": "stream",
     "text": [
      "Error is 98%\n"
     ]
    }
   ],
   "source": [
    "print('Error is %d%%' %98)"
   ]
  },
  {
   "cell_type": "code",
   "execution_count": 89,
   "id": "1fa7a520",
   "metadata": {},
   "outputs": [
    {
     "name": "stdout",
     "output_type": "stream",
     "text": [
      "hi        \n"
     ]
    }
   ],
   "source": [
    "print('%-10s'%'hi')"
   ]
  },
  {
   "cell_type": "code",
   "execution_count": 90,
   "id": "77ae73fe",
   "metadata": {},
   "outputs": [
    {
     "name": "stdout",
     "output_type": "stream",
     "text": [
      "3.421342\n"
     ]
    }
   ],
   "source": [
    "print('%f'%3.42134234)"
   ]
  },
  {
   "cell_type": "code",
   "execution_count": 96,
   "id": "6a5f5d15",
   "metadata": {},
   "outputs": [
    {
     "name": "stdout",
     "output_type": "stream",
     "text": [
      "    3.4213\n"
     ]
    }
   ],
   "source": [
    "print('%10.4f'%3.42134234)"
   ]
  },
  {
   "cell_type": "markdown",
   "id": "c514f9cf",
   "metadata": {},
   "source": [
    "format()함수를 사용한 포매팅"
   ]
  },
  {
   "cell_type": "code",
   "execution_count": 97,
   "id": "8bf9ae38",
   "metadata": {},
   "outputs": [
    {
     "name": "stdout",
     "output_type": "stream",
     "text": [
      "112233\n"
     ]
    }
   ],
   "source": [
    "print('{}{}{}'.format(11,22,33))"
   ]
  },
  {
   "cell_type": "code",
   "execution_count": 99,
   "id": "0a7d1171",
   "metadata": {},
   "outputs": [
    {
     "name": "stdout",
     "output_type": "stream",
     "text": [
      "I ate three apples, so i was sick for 3 days\n"
     ]
    }
   ],
   "source": [
    "number=3\n",
    "day='three'\n",
    "print('I ate {1} apples, so i was sick for {0} days'.format(number,day))"
   ]
  },
  {
   "cell_type": "markdown",
   "id": "b3cf3097",
   "metadata": {},
   "source": [
    "- 변수명을 지정해서 포매팅하는 방식은 format함수 안에서 변수를 만들어줘야 한다"
   ]
  },
  {
   "cell_type": "markdown",
   "id": "fcb1a2bd",
   "metadata": {},
   "source": [
    "format() 함수 정렬"
   ]
  },
  {
   "cell_type": "code",
   "execution_count": 105,
   "id": "87261fb7",
   "metadata": {},
   "outputs": [
    {
     "name": "stdout",
     "output_type": "stream",
     "text": [
      "        hi\n"
     ]
    }
   ],
   "source": [
    "#왼쪽 정렬을 하고 싶은 경우 {0:<10}\n",
    "#오른쪽 정렬을 하고 싶은 경우 {0:>10}\n",
    "print('{0:>10}'.format('hi')) "
   ]
  },
  {
   "cell_type": "code",
   "execution_count": 106,
   "id": "7fa25f97",
   "metadata": {},
   "outputs": [
    {
     "name": "stdout",
     "output_type": "stream",
     "text": [
      "    hi    \n"
     ]
    }
   ],
   "source": [
    "#가운데 정렬\n",
    "print('{0:^10}'.format('hi')) "
   ]
  },
  {
   "cell_type": "markdown",
   "id": "674d6769",
   "metadata": {},
   "source": [
    "실수 표현하기"
   ]
  },
  {
   "cell_type": "code",
   "execution_count": 109,
   "id": "a24baaa9",
   "metadata": {},
   "outputs": [
    {
     "name": "stdout",
     "output_type": "stream",
     "text": [
      "3.42134234\n",
      "3.4213\n",
      "3.4213\n",
      "    3.4213\n"
     ]
    }
   ],
   "source": [
    "print('{}'.format(3.42134234))\n",
    "#소숫점 x자리로 제한하기- 0:0.xf => 반올림으로 계산한다\n",
    "print('{0:0.4f}'.format(3.42134234))\n",
    "print('{0:0.4f}'.format(3.42134234))\n",
    "#이 상태에서 y칸 띄워쓰기까지 하고 싶다면 0:y.xf\n",
    "print('{0:10.4f}'.format(3.42134234))"
   ]
  },
  {
   "cell_type": "markdown",
   "id": "e8d0ecab",
   "metadata": {},
   "source": [
    "f 문자열 포매팅"
   ]
  },
  {
   "cell_type": "code",
   "execution_count": 111,
   "id": "d9616ff5",
   "metadata": {},
   "outputs": [
    {
     "name": "stdout",
     "output_type": "stream",
     "text": [
      "나의 이름은 홍길동입니다. 나이는 19입니다.\n",
      "나의 이름은 홍길동입니다. 나이는 20입니다.\n"
     ]
    }
   ],
   "source": [
    "name= '홍길동'\n",
    "age= 19\n",
    "print(f'나의 이름은 {name}입니다. 나이는 {age}입니다.')\n",
    "print(f'나의 이름은 {name}입니다. 나이는 {age+1}입니다.')"
   ]
  },
  {
   "cell_type": "code",
   "execution_count": 114,
   "id": "e922d3d9",
   "metadata": {},
   "outputs": [
    {
     "name": "stdout",
     "output_type": "stream",
     "text": [
      "hi\n"
     ]
    }
   ],
   "source": [
    "print(f\"{'hi'}\")"
   ]
  },
  {
   "cell_type": "code",
   "execution_count": 118,
   "id": "a6db8cb4",
   "metadata": {},
   "outputs": [
    {
     "name": "stdout",
     "output_type": "stream",
     "text": [
      "hi        \n",
      "    hi    \n",
      "        hi\n"
     ]
    }
   ],
   "source": [
    "#왼쪽 정렬\n",
    "print(f'{\"hi\":<10}')\n",
    "#가운데정렬\n",
    "print(f'{\"hi\":^10}')\n",
    "#오른쪽 정렬\n",
    "print(f'{\"hi\":>10}')"
   ]
  },
  {
   "cell_type": "code",
   "execution_count": 121,
   "id": "5cfc3543",
   "metadata": {},
   "outputs": [
    {
     "name": "stdout",
     "output_type": "stream",
     "text": [
      "3.1416\n"
     ]
    }
   ],
   "source": [
    "y=3.141592\n",
    "print(f'{y:0.4f}')"
   ]
  },
  {
   "cell_type": "code",
   "execution_count": 123,
   "id": "7b5c510b",
   "metadata": {},
   "outputs": [
    {
     "name": "stdout",
     "output_type": "stream",
     "text": [
      "    3.1416\n"
     ]
    }
   ],
   "source": [
    "#열칸 띄우고 소숫점 4자리\n",
    "print(f'{y:10.4f}')"
   ]
  },
  {
   "cell_type": "code",
   "execution_count": 125,
   "id": "2d5ab5fb",
   "metadata": {},
   "outputs": [
    {
     "name": "stdout",
     "output_type": "stream",
     "text": [
      "2\n"
     ]
    }
   ],
   "source": [
    "#문자 갯수 세기 count\n",
    "a= 'hobby'\n",
    "print(a.count('b'))\n"
   ]
  },
  {
   "cell_type": "code",
   "execution_count": 134,
   "id": "dbd0f8bb",
   "metadata": {},
   "outputs": [
    {
     "name": "stdout",
     "output_type": "stream",
     "text": [
      "8\n",
      "14\n",
      "-1\n"
     ]
    },
    {
     "ename": "ValueError",
     "evalue": "substring not found",
     "output_type": "error",
     "traceback": [
      "\u001b[1;31m---------------------------------------------------------------------------\u001b[0m",
      "\u001b[1;31mValueError\u001b[0m                                Traceback (most recent call last)",
      "\u001b[1;32m<ipython-input-134-000c5a08838b>\u001b[0m in \u001b[0;36m<module>\u001b[1;34m\u001b[0m\n\u001b[0;32m      5\u001b[0m \u001b[1;31m#find() 함수를 이용하여 k문자 찾기\u001b[0m\u001b[1;33m\u001b[0m\u001b[1;33m\u001b[0m\u001b[1;33m\u001b[0m\u001b[0m\n\u001b[0;32m      6\u001b[0m \u001b[0mprint\u001b[0m\u001b[1;33m(\u001b[0m\u001b[0ma\u001b[0m\u001b[1;33m.\u001b[0m\u001b[0mfind\u001b[0m\u001b[1;33m(\u001b[0m\u001b[1;34m'k'\u001b[0m\u001b[1;33m)\u001b[0m\u001b[1;33m)\u001b[0m \u001b[1;31m# 없는 부분을 찾으면 -1이 나온다\u001b[0m\u001b[1;33m\u001b[0m\u001b[1;33m\u001b[0m\u001b[0m\n\u001b[1;32m----> 7\u001b[1;33m \u001b[0mprint\u001b[0m\u001b[1;33m(\u001b[0m\u001b[0ma\u001b[0m\u001b[1;33m.\u001b[0m\u001b[0mindex\u001b[0m\u001b[1;33m(\u001b[0m\u001b[1;34m'k'\u001b[0m\u001b[1;33m)\u001b[0m\u001b[1;33m)\u001b[0m\u001b[1;33m\u001b[0m\u001b[1;33m\u001b[0m\u001b[0m\n\u001b[0m",
      "\u001b[1;31mValueError\u001b[0m: substring not found"
     ]
    }
   ],
   "source": [
    "#문자 위치 알려주기 find\n",
    "a= 'python is the best choice'\n",
    "print(a.find('s'))\n",
    "print(a.index('b'))\n",
    "#find() 함수를 이용하여 k문자 찾기\n",
    "print(a.find('k')) # 없는 부분을 찾으면 -1이 나온다\n",
    "#print(a.index('k')) #오류라고 뜬다"
   ]
  },
  {
   "cell_type": "markdown",
   "id": "fc805c88",
   "metadata": {},
   "source": [
    "- a 변수에 ',' 저장\n",
    "- a 변수에 join()함수를 사용하여 'abcd'문자열에 적용"
   ]
  },
  {
   "cell_type": "code",
   "execution_count": 139,
   "id": "b2cff8e8",
   "metadata": {},
   "outputs": [
    {
     "name": "stdout",
     "output_type": "stream",
     "text": [
      "aybycyd\n"
     ]
    }
   ],
   "source": [
    "a=','\n",
    "print('y'.join('abcd'))"
   ]
  },
  {
   "cell_type": "code",
   "execution_count": 142,
   "id": "abc5cbde",
   "metadata": {},
   "outputs": [
    {
     "name": "stdout",
     "output_type": "stream",
     "text": [
      "HI\n"
     ]
    }
   ],
   "source": [
    "a='hi'\n",
    "print(a.upper())"
   ]
  },
  {
   "cell_type": "code",
   "execution_count": 143,
   "id": "02b603f1",
   "metadata": {},
   "outputs": [
    {
     "name": "stdout",
     "output_type": "stream",
     "text": [
      "hi\n"
     ]
    }
   ],
   "source": [
    "a='HI'\n",
    "print(a.lower())"
   ]
  },
  {
   "cell_type": "code",
   "execution_count": 145,
   "id": "3453c211",
   "metadata": {},
   "outputs": [
    {
     "name": "stdout",
     "output_type": "stream",
     "text": [
      "hi \n",
      " hi\n",
      "hi\n"
     ]
    }
   ],
   "source": [
    "a= ' hi '\n",
    "#l이 왼쪽 공백 제거 r이 오른쪽 공백 제거\n",
    "print(a.lstrip())\n",
    "print(a.rstrip())\n",
    "#strip은 양쪽 공백 제거\n",
    "print(a.strip())"
   ]
  },
  {
   "cell_type": "markdown",
   "id": "a07016ba",
   "metadata": {},
   "source": [
    "문자열 변경 함수 replace\n",
    "- replace( 변경 전 문자열, 변경 후 문자열)\n"
   ]
  },
  {
   "cell_type": "code",
   "execution_count": 147,
   "id": "6cc93367",
   "metadata": {},
   "outputs": [
    {
     "name": "stdout",
     "output_type": "stream",
     "text": [
      "This pencil is too short\n"
     ]
    }
   ],
   "source": [
    "a='Life is too short'\n",
    "#Life를 This pencil로 변경\n",
    "print(a.replace('Life','This pencil'))"
   ]
  },
  {
   "cell_type": "code",
   "execution_count": 148,
   "id": "a72b0b5e",
   "metadata": {},
   "outputs": [
    {
     "name": "stdout",
     "output_type": "stream",
     "text": [
      "['Life', 'is', 'too', 'short']\n"
     ]
    }
   ],
   "source": [
    "#공백을 기준으로 나누기\n",
    "a='Life is too short'\n",
    "print(a.split())"
   ]
  },
  {
   "cell_type": "code",
   "execution_count": 149,
   "id": "c80b1a0d",
   "metadata": {},
   "outputs": [
    {
     "name": "stdout",
     "output_type": "stream",
     "text": [
      "['a', 'b', 'c', 'd']\n"
     ]
    }
   ],
   "source": [
    "b='a:b:c:d'\n",
    "print(b.split(':'))"
   ]
  },
  {
   "cell_type": "markdown",
   "id": "c10b3a8f",
   "metadata": {},
   "source": [
    "리스트 생성"
   ]
  },
  {
   "cell_type": "code",
   "execution_count": 154,
   "id": "6e759147",
   "metadata": {},
   "outputs": [],
   "source": [
    "a= []\n",
    "b= [1,2,3]\n",
    "c= ['Life','is','too','short']\n",
    "d=['1','Life',2,'is']\n",
    "\n",
    "#예약해놓고 나중에 사용할 때 a의 형태로 씀"
   ]
  },
  {
   "cell_type": "code",
   "execution_count": 155,
   "id": "bfe35997",
   "metadata": {},
   "outputs": [
    {
     "name": "stdout",
     "output_type": "stream",
     "text": [
      "<class 'list'> <class 'list'> <class 'list'> <class 'list'>\n",
      "[]\n",
      "[1, 2, 3]\n",
      "['Life', 'is', 'too', 'short']\n",
      "['1', 'Life', 2, 'is']\n"
     ]
    }
   ],
   "source": [
    "print(type(a),type(b),type(c),type(d))\n",
    "print(a)\n",
    "print(b)\n",
    "print(c)\n",
    "print(d)"
   ]
  },
  {
   "cell_type": "code",
   "execution_count": 156,
   "id": "8da3dee1",
   "metadata": {},
   "outputs": [
    {
     "name": "stdout",
     "output_type": "stream",
     "text": [
      "[1, 2, 3, 4, 5, 6]\n"
     ]
    }
   ],
   "source": [
    "a=[1,2,3]\n",
    "b=[4,5,6]\n",
    "print(a+b)"
   ]
  },
  {
   "cell_type": "code",
   "execution_count": 157,
   "id": "5229e7ec",
   "metadata": {},
   "outputs": [
    {
     "name": "stdout",
     "output_type": "stream",
     "text": [
      "[1, 2, 3, 1, 2, 3]\n"
     ]
    }
   ],
   "source": [
    "print(a*2)"
   ]
  },
  {
   "cell_type": "markdown",
   "id": "f58cd0c7",
   "metadata": {},
   "source": [
    "- a 변수에 1,2,3 데이터를 리스트 형태로 저장\n",
    "- b 변수에 'life' 'is' 'too' 'short' 데이터를 리스트 형태로 저장한다"
   ]
  },
  {
   "cell_type": "code",
   "execution_count": 158,
   "id": "8e506bc8",
   "metadata": {},
   "outputs": [
    {
     "name": "stdout",
     "output_type": "stream",
     "text": [
      "1\n",
      "3\n"
     ]
    }
   ],
   "source": [
    "a=[1,2,3]\n",
    "b=['Life','is','too','short']\n",
    "print(a[0])\n",
    "print(a[-1])"
   ]
  },
  {
   "cell_type": "code",
   "execution_count": 160,
   "id": "5a3b894a",
   "metadata": {},
   "outputs": [
    {
     "name": "stdout",
     "output_type": "stream",
     "text": [
      "[1, 2, 3, ['a', 'b', 'c']]\n",
      "a\n"
     ]
    }
   ],
   "source": [
    "a=[1,2,3,['a','b','c']]\n",
    "print(a)\n",
    "print(a[3][0])"
   ]
  },
  {
   "cell_type": "code",
   "execution_count": 161,
   "id": "deacb5fd",
   "metadata": {},
   "outputs": [
    {
     "name": "stdout",
     "output_type": "stream",
     "text": [
      "life\n"
     ]
    }
   ],
   "source": [
    "#삼중 인덱싱/ life 출력하기\n",
    "a=[1,2,['a','b',['life','is']]]\n",
    "print(a[2][2][0])"
   ]
  },
  {
   "cell_type": "markdown",
   "id": "2a092548",
   "metadata": {},
   "source": [
    "리스트 슬라이싱\n",
    "- 리스트 a 에 1,2,3,4,5 저장\n",
    "- 0번 자리부터 1번 자리까지 슬라이싱"
   ]
  },
  {
   "cell_type": "code",
   "execution_count": 162,
   "id": "d2b2a361",
   "metadata": {},
   "outputs": [
    {
     "name": "stdout",
     "output_type": "stream",
     "text": [
      "[1, 2]\n"
     ]
    }
   ],
   "source": [
    "a=[1,2,3,4,5]\n",
    "print(a[0:2])"
   ]
  },
  {
   "cell_type": "markdown",
   "id": "da895793",
   "metadata": {},
   "source": [
    "이중 리스트 슬라이싱\n",
    "- 리스트 a에 1,2,3['a','b','c'],4,5]로 저장"
   ]
  },
  {
   "cell_type": "code",
   "execution_count": 180,
   "id": "d9c8ad48",
   "metadata": {},
   "outputs": [
    {
     "name": "stdout",
     "output_type": "stream",
     "text": [
      "[1, 2, 3, ['a', 'b', 'c'], 4]\n",
      "['b', 'c']\n"
     ]
    }
   ],
   "source": [
    "a=[1,2,3,['a','b','c'],4,5]\n",
    "print(a[0:5])\n",
    "#리스트 a에서 'b'와 'c'를 출력하기\n",
    "print(a[3][1:3])"
   ]
  },
  {
   "cell_type": "code",
   "execution_count": 182,
   "id": "c1c837b6",
   "metadata": {},
   "outputs": [
    {
     "name": "stdout",
     "output_type": "stream",
     "text": [
      "[1, 2, 4]\n"
     ]
    }
   ],
   "source": [
    "#리스트의 수정과 삭제\n",
    "a=[1,2,3]\n",
    "a[2]=4\n",
    "print(a)"
   ]
  },
  {
   "cell_type": "code",
   "execution_count": 183,
   "id": "de07bbd6",
   "metadata": {},
   "outputs": [
    {
     "name": "stdout",
     "output_type": "stream",
     "text": [
      "[1, 'a', 'b', 'c', 4]\n"
     ]
    }
   ],
   "source": [
    "#인덱싱을 사용하여 내용을 수정할 경우 \n",
    "a[1:2]= ['a','b','c']\n",
    "print(a)"
   ]
  },
  {
   "cell_type": "code",
   "execution_count": 184,
   "id": "b737df93",
   "metadata": {},
   "outputs": [
    {
     "name": "stdout",
     "output_type": "stream",
     "text": [
      "[['a1', 'b1', 'c1'], 'a', 'b', 'c', 4]\n"
     ]
    }
   ],
   "source": [
    "\n",
    "#슬라이싱을 사용하여 내용을 수정할 경우\n",
    "a[0]= ['a1','b1','c1']\n",
    "print(a)"
   ]
  },
  {
   "cell_type": "code",
   "execution_count": 185,
   "id": "9c338e7b",
   "metadata": {},
   "outputs": [
    {
     "name": "stdout",
     "output_type": "stream",
     "text": [
      "[['a1', 'b1', 'c1'], 'c', 4]\n"
     ]
    }
   ],
   "source": [
    "a[1:3]=[]\n",
    "print(a)"
   ]
  },
  {
   "cell_type": "code",
   "execution_count": 186,
   "id": "88b78f54",
   "metadata": {},
   "outputs": [
    {
     "name": "stdout",
     "output_type": "stream",
     "text": [
      "['c', 4]\n"
     ]
    }
   ],
   "source": [
    "del a[0]\n",
    "print(a)"
   ]
  },
  {
   "cell_type": "code",
   "execution_count": 191,
   "id": "d10fb569",
   "metadata": {},
   "outputs": [
    {
     "name": "stdout",
     "output_type": "stream",
     "text": [
      "[1, 2, 3, 4]\n",
      "[1, 2, 3, 4, [5, 6]]\n"
     ]
    }
   ],
   "source": [
    "a=[1,2,3]\n",
    "a.append(4)\n",
    "print(a)\n",
    "a.append([5,6])\n",
    "print(a)"
   ]
  },
  {
   "cell_type": "code",
   "execution_count": null,
   "id": "9b45962c",
   "metadata": {},
   "outputs": [],
   "source": []
  }
 ],
 "metadata": {
  "kernelspec": {
   "display_name": "Python 3",
   "language": "python",
   "name": "python3"
  },
  "language_info": {
   "codemirror_mode": {
    "name": "ipython",
    "version": 3
   },
   "file_extension": ".py",
   "mimetype": "text/x-python",
   "name": "python",
   "nbconvert_exporter": "python",
   "pygments_lexer": "ipython3",
   "version": "3.8.8"
  }
 },
 "nbformat": 4,
 "nbformat_minor": 5
}
