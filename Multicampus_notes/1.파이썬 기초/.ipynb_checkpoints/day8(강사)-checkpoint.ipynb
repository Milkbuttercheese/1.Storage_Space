{
 "cells": [
  {
   "cell_type": "markdown",
   "id": "6095975e",
   "metadata": {},
   "source": [
    "크롬 브라우저를 띄우고 원하는 url 주소 찾아가기"
   ]
  },
  {
   "cell_type": "code",
   "execution_count": 4,
   "id": "44ef8bf3",
   "metadata": {},
   "outputs": [
    {
     "name": "stderr",
     "output_type": "stream",
     "text": [
      "C:\\Users\\student\\AppData\\Local\\Temp/ipykernel_12884/2563260146.py:1: DeprecationWarning: executable_path has been deprecated, please pass in a Service object\n",
      "  driver = webdriver.Chrome(executable_path=\"chromedriver.exe\")\n"
     ]
    }
   ],
   "source": [
    "driver = webdriver.Chrome(executable_path=\"chromedriver.exe\")"
   ]
  },
  {
   "cell_type": "code",
   "execution_count": 3,
   "id": "443eec9c",
   "metadata": {},
   "outputs": [],
   "source": [
    "driver.get(\"https://www.naver.com\")"
   ]
  },
  {
   "cell_type": "markdown",
   "id": "042ab1c8",
   "metadata": {},
   "source": [
    "모듈 파일(insta_bot_capture.py)"
   ]
  },
  {
   "cell_type": "code",
   "execution_count": 1,
   "id": "90351788",
   "metadata": {},
   "outputs": [],
   "source": [
    "from selenium import webdriver\n",
    "from selenium.webdriver.chrome.options import Options\n",
    "from selenium.webdriver.common.keys import Keys\n",
    "import time\n",
    "\n",
    "# 클래스 정의\n",
    "class CaptureBot:\n",
    "    # 기본 사항\n",
    "    def __init__(self):\n",
    "        self.querry = \"https://www.instagram.com/explore/tags/\"\n",
    "        \n",
    "        self.options = Options()\n",
    "        \n",
    "        self.options.add_argument(\"--window-size=1920, 1080\")\n",
    "        \n",
    "        self.driver = webdriver.Chrome(executable_path=\"chromedriver.exe\",\n",
    "                                       chrome_options=self.options)\n",
    "    \n",
    "    # 종료 메서드\n",
    "    def kill(self):\n",
    "        self.driver.quit()\n",
    "        \n",
    "    # 스크린샷 메서드\n",
    "    def save_screenshot(self, filename):\n",
    "        self.driver.save_screenshot(filename)\n",
    "    \n",
    "    # 로그인 메서드\n",
    "    def login(self, id, ps):\n",
    "        self.driver.get(\"https://www.instagram.com/accounts/login/\")\n",
    "        \n",
    "        time.sleep(5)\n",
    "        \n",
    "        input_field = self.driver.find_elements_by_tag_name(\"input\")\n",
    "        \n",
    "        input_field[0].send_keys(id)\n",
    "        \n",
    "        input_field[1].send_keys(ps)\n",
    "\n",
    "        input_field[1].send_keys(ps)\n",
    "        \n",
    "        # 프로그램 처리 속도가 웹 브라우저 처리 속도보다 빠름\n",
    "        time.sleep(5)\n",
    "        \n",
    "    # 태그 검색 메서드\n",
    "    def search_tag(self, tag):\n",
    "        self.driver.get(self.querry + tag)\n",
    "        \n",
    "        time.sleep(5)\n",
    "    \n",
    "    # 최근 게시물 클릭 메서드\n",
    "    def select_picture(self):\n",
    "        recent_picture_xpath = \"/html/body/div[1]/section/main/article/div[2]/div/div[1]/div[1]/a/div[1]\"\n",
    "        \n",
    "        recent_picture = self.driver.find_element_by_xpath(recent_picture_xpath)\n",
    "        \n",
    "        recent_picture.click()\n",
    "        \n",
    "        time.sleep(5)\n",
    "        \n",
    "    # 반복문 메서드\n",
    "    def capture_pictures(self, directory, num):\n",
    "        count = num\n",
    "        \n",
    "        while count != 0:\n",
    "            count = count - 1\n",
    "            \n",
    "            article_xpath = \"/html/body/div[6]/div[3]/div/article/div/div[1]/div/div[1]/div[2]/div/div/div/ul/li[2]/div/div/div/div[2]\"\n",
    "            \n",
    "            article_element = self.driver.find_element_by_xpath(article_xpath)\n",
    "            \n",
    "            article_element.screenshot(directory + \"/\" + str(time.time()) + \".png\")\n",
    "            \n",
    "            time.sleep(5)\n",
    "\n",
    "            next_butten = \"/html/body/div[6]/div[2]/div/div[2]/button\"\n",
    "            \n",
    "            next_butten_element = self.driver.find_element_by_xpath(next_butten)\n",
    "            \n",
    "            next_butten_element.click()\n",
    "            \n",
    "            time.sleep(5)\n",
    "    \n",
    "    # 매크로 메서드\n",
    "    def insta_capture_macro(self, tag, directory, num):\n",
    "        self.search_tag(tag)\n",
    "        \n",
    "        self.select_picture()\n",
    "        \n",
    "        self.capture_pictures(directory, num)"
   ]
  },
  {
   "cell_type": "markdown",
   "id": "20ca7a1c",
   "metadata": {},
   "source": [
    "sys.argv\n",
    "- 인자를 받아서 프로그램에 전달해주는 역할"
   ]
  },
  {
   "cell_type": "markdown",
   "id": "5fc6daa6",
   "metadata": {},
   "source": [
    "python test_argv.py oh gyu seok\n",
    "- 각각 순서를 가짐\n",
    "- python : 실행 명령어\n",
    "- test_argv.py : 0번 자리\n",
    "- oh : 1번 자리\n",
    "- gyu : 2번 자리\n",
    "- seok : 3번 자리"
   ]
  },
  {
   "cell_type": "code",
   "execution_count": 68,
   "id": "a71b8874",
   "metadata": {},
   "outputs": [
    {
     "ename": "IndexError",
     "evalue": "list index out of range",
     "output_type": "error",
     "traceback": [
      "\u001b[1;31m---------------------------------------------------------------------------\u001b[0m",
      "\u001b[1;31mIndexError\u001b[0m                                Traceback (most recent call last)",
      "\u001b[1;32m~\\AppData\\Local\\Temp/ipykernel_12884/1120454594.py\u001b[0m in \u001b[0;36m<module>\u001b[1;34m\u001b[0m\n\u001b[0;32m      5\u001b[0m \u001b[0mb\u001b[0m \u001b[1;33m=\u001b[0m \u001b[0msys\u001b[0m\u001b[1;33m.\u001b[0m\u001b[0margv\u001b[0m\u001b[1;33m[\u001b[0m\u001b[1;36m1\u001b[0m\u001b[1;33m]\u001b[0m\u001b[1;33m\u001b[0m\u001b[1;33m\u001b[0m\u001b[0m\n\u001b[0;32m      6\u001b[0m \u001b[0mc\u001b[0m \u001b[1;33m=\u001b[0m \u001b[0msys\u001b[0m\u001b[1;33m.\u001b[0m\u001b[0margv\u001b[0m\u001b[1;33m[\u001b[0m\u001b[1;36m2\u001b[0m\u001b[1;33m]\u001b[0m\u001b[1;33m\u001b[0m\u001b[1;33m\u001b[0m\u001b[0m\n\u001b[1;32m----> 7\u001b[1;33m \u001b[0md\u001b[0m \u001b[1;33m=\u001b[0m \u001b[0msys\u001b[0m\u001b[1;33m.\u001b[0m\u001b[0margv\u001b[0m\u001b[1;33m[\u001b[0m\u001b[1;36m3\u001b[0m\u001b[1;33m]\u001b[0m\u001b[1;33m\u001b[0m\u001b[1;33m\u001b[0m\u001b[0m\n\u001b[0m\u001b[0;32m      8\u001b[0m \u001b[1;33m\u001b[0m\u001b[0m\n\u001b[0;32m      9\u001b[0m \u001b[0mprint\u001b[0m\u001b[1;33m(\u001b[0m\u001b[0ma\u001b[0m\u001b[1;33m)\u001b[0m\u001b[1;33m\u001b[0m\u001b[1;33m\u001b[0m\u001b[0m\n",
      "\u001b[1;31mIndexError\u001b[0m: list index out of range"
     ]
    }
   ],
   "source": [
    "# test_argv.py\n",
    "import sys\n",
    "\n",
    "a = sys.argv[0]\n",
    "b = sys.argv[1]\n",
    "c = sys.argv[2]\n",
    "d = sys.argv[3]\n",
    "\n",
    "print(a)\n",
    "print(b)\n",
    "print(c)\n",
    "print(d)"
   ]
  },
  {
   "cell_type": "markdown",
   "id": "8354bb8c",
   "metadata": {},
   "source": [
    "- 시스템에서 자리에 해당하는 인자를 문자열 형태로 기억을 하고 있음\n",
    "- 프로그램에서 필요에 의해 호출하게 되면 저장하고 있던 문자열을 프로그램에 전달"
   ]
  },
  {
   "cell_type": "markdown",
   "id": "b701c38f",
   "metadata": {},
   "source": [
    "실행 파일(insta_bot_capture_main.py)"
   ]
  },
  {
   "cell_type": "code",
   "execution_count": 67,
   "id": "e49229b0",
   "metadata": {
    "scrolled": true
   },
   "outputs": [
    {
     "name": "stdout",
     "output_type": "stream",
     "text": [
      "1652927128.5978546\n"
     ]
    }
   ],
   "source": [
    "import sys\n",
    "import os\n",
    "import insta_bot_capture as ib\n",
    "\n",
    "# 프로그램 실행할 때 1번 자리의 인자를 id에 저장\n",
    "\n",
    "\n",
    "# 프로그램 실행할 때 2번 자리의 인자를 ps에 저장\n",
    "\n",
    "\n",
    "# 프로그램 실행할 때 3번 자리의 인자를 tag에 저장\n",
    "\n",
    "\n",
    "# 프로그램 실행할 때 4번 자리의 인자를 directory에 저장\n",
    "\n",
    "\n",
    "# 프로그램 실행할 때 5번 자리의 인자를 num에 저장\n"
   ]
  }
 ],
 "metadata": {
  "kernelspec": {
   "display_name": "Python 3 (ipykernel)",
   "language": "python",
   "name": "python3"
  },
  "language_info": {
   "codemirror_mode": {
    "name": "ipython",
    "version": 3
   },
   "file_extension": ".py",
   "mimetype": "text/x-python",
   "name": "python",
   "nbconvert_exporter": "python",
   "pygments_lexer": "ipython3",
   "version": "3.9.7"
  }
 },
 "nbformat": 4,
 "nbformat_minor": 5
}
