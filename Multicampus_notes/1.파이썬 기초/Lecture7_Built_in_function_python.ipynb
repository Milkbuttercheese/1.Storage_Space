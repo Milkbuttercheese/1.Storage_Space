{
 "cells": [
  {
   "cell_type": "code",
   "execution_count": 4,
   "id": "d38a23ee",
   "metadata": {
    "pycharm": {
     "name": "#%%\n"
    }
   },
   "outputs": [
    {
     "name": "stdout",
     "output_type": "stream",
     "text": [
      "97\n",
      "79\n",
      "a\n",
      "O\n"
     ]
    }
   ],
   "source": [
    "'''\n",
    "소문자 a를 아스키 코드로 출력\n",
    "'''\n",
    "print(ord('a'))\n",
    "print(ord('O'))\n",
    "print(chr(97))\n",
    "print(chr(79))"
   ]
  },
  {
   "cell_type": "code",
   "execution_count": 7,
   "id": "c5d22823",
   "metadata": {
    "pycharm": {
     "name": "#%%\n"
    }
   },
   "outputs": [
    {
     "name": "stdout",
     "output_type": "stream",
     "text": [
      "32\n",
      "81\n",
      "81\n"
     ]
    }
   ],
   "source": [
    "print(pow(2,5))\n",
    "print(pow(3,4))\n",
    "print(3**4)"
   ]
  },
  {
   "cell_type": "code",
   "execution_count": 14,
   "id": "a7efd115",
   "metadata": {
    "pycharm": {
     "name": "#%%\n"
    }
   },
   "outputs": [
    {
     "name": "stdout",
     "output_type": "stream",
     "text": [
      "[0, 1, 2, 3]\n",
      "[5, 6, 7, 8]\n",
      "[1, 3, 5, 7]\n",
      "[]\n",
      "[0, -1, -2, -3, -4, -5, -6, -7, -8]\n"
     ]
    }
   ],
   "source": [
    "'''\n",
    "range 함수\n",
    "'''\n",
    "print(list(range(4)))\n",
    "print(list(range(5,9)))\n",
    "print(list(range(1,9,2)))\n",
    "print(list(range(0,-9,1)))\n",
    "print(list(range(0,-9,-1)))"
   ]
  },
  {
   "cell_type": "code",
   "execution_count": 15,
   "id": "979083f8",
   "metadata": {
    "pycharm": {
     "name": "#%%\n"
    }
   },
   "outputs": [
    {
     "name": "stdout",
     "output_type": "stream",
     "text": [
      "5\n",
      "4\n",
      "5.68\n"
     ]
    }
   ],
   "source": [
    "print(round(4.6))\n",
    "print(round(4.2))\n",
    "print(round(5.678,2))"
   ]
  },
  {
   "cell_type": "code",
   "execution_count": 19,
   "id": "7fb6c820",
   "metadata": {
    "pycharm": {
     "name": "#%%\n"
    }
   },
   "outputs": [
    {
     "name": "stdout",
     "output_type": "stream",
     "text": [
      "[1, 2, 3]\n",
      "['a', 'b', 'c']\n",
      "['e', 'o', 'r', 'z']\n",
      "[1, 2, 3]\n"
     ]
    }
   ],
   "source": [
    "a=[3,1,2]\n",
    "print(sorted(a))\n",
    "b=['a','c','b']\n",
    "print(sorted(b))\n",
    "c='zero'\n",
    "print(sorted(c))\n",
    "d=(3,2,1)\n",
    "print(sorted(d))"
   ]
  },
  {
   "cell_type": "code",
   "execution_count": 24,
   "id": "6f35df04",
   "metadata": {
    "pycharm": {
     "name": "#%%\n"
    }
   },
   "outputs": [
    {
     "name": "stdout",
     "output_type": "stream",
     "text": [
      "3\n",
      "[1, 2, 3]\n",
      "(4, 5, 6)\n",
      "<class 'str'>\n",
      "<class 'str'>\n",
      "<class 'str'>\n"
     ]
    }
   ],
   "source": [
    "\n",
    "print(str(3))\n",
    "print(str([1,2,3]))\n",
    "print(str((4,5,6)))\n",
    "\n",
    "\n",
    "a=str(3)\n",
    "b=str([1,2,3])\n",
    "c=str((4,5,6))\n",
    "print(type(a))\n",
    "print(type(b))\n",
    "print(type(c))"
   ]
  },
  {
   "cell_type": "code",
   "execution_count": 28,
   "id": "52e3b7aa",
   "metadata": {
    "pycharm": {
     "name": "#%%\n"
    }
   },
   "outputs": [
    {
     "name": "stdout",
     "output_type": "stream",
     "text": [
      "6\n",
      "15\n"
     ]
    }
   ],
   "source": [
    "print(sum([1,2,3]))\n",
    "print(sum((4,5,6)))"
   ]
  },
  {
   "cell_type": "code",
   "execution_count": 36,
   "id": "d5c1f3f2",
   "metadata": {
    "pycharm": {
     "name": "#%%\n"
    }
   },
   "outputs": [
    {
     "name": "stdout",
     "output_type": "stream",
     "text": [
      "[(1, 4), (2, 5), (3, 6)]\n",
      "[(1, 4, 7), (2, 5, 8), (3, 6, 9)]\n",
      "[('a', 'd'), ('b', 'e'), ('c', 'f')]\n"
     ]
    }
   ],
   "source": [
    "print(list(zip([1,2,3],[4,5,6])))\n",
    "print(list(zip([1,2,3],[4,5,6],[7,8,9])))\n",
    "print(list(zip('abc','def')))"
   ]
  },
  {
   "cell_type": "code",
   "execution_count": 60,
   "id": "20a73bf5",
   "metadata": {
    "pycharm": {
     "name": "#%%\n"
    }
   },
   "outputs": [],
   "source": [
    "'''\n",
    "외장함수\n",
    "sys 모듈\n",
    "'''\n",
    "import sys\n",
    "import pickle\n",
    "import os"
   ]
  },
  {
   "cell_type": "code",
   "execution_count": 39,
   "id": "14b16d05",
   "metadata": {
    "pycharm": {
     "name": "#%%\n"
    }
   },
   "outputs": [
    {
     "name": "stdout",
     "output_type": "stream",
     "text": [
      "[(1, 4), (2, 5), (3, 6)]\n",
      "[(1, 4, 7), (2, 5, 8), (3, 6, 9)]\n"
     ]
    },
    {
     "ename": "SystemExit",
     "evalue": "",
     "output_type": "error",
     "traceback": [
      "An exception has occurred, use %tb to see the full traceback.\n",
      "\u001B[1;31mSystemExit\u001B[0m\n"
     ]
    }
   ],
   "source": [
    "print(list(zip([1,2,3],[4,5,6])))\n",
    "print(list(zip([1,2,3],[4,5,6],[7,8,9])))\n",
    "sys.exit()\n",
    "print(list(zip('abc','def')))"
   ]
  },
  {
   "cell_type": "code",
   "execution_count": 43,
   "id": "a9bda5a4",
   "metadata": {
    "pycharm": {
     "name": "#%%\n"
    }
   },
   "outputs": [
    {
     "data": {
      "text/plain": [
       "['C:\\\\Users\\\\rhama\\\\Datascience',\n",
       " 'C:\\\\Users\\\\rhama\\\\anaconda3\\\\python38.zip',\n",
       " 'C:\\\\Users\\\\rhama\\\\anaconda3\\\\DLLs',\n",
       " 'C:\\\\Users\\\\rhama\\\\anaconda3\\\\lib',\n",
       " 'C:\\\\Users\\\\rhama\\\\anaconda3',\n",
       " '',\n",
       " 'C:\\\\Users\\\\rhama\\\\anaconda3\\\\lib\\\\site-packages',\n",
       " 'C:\\\\Users\\\\rhama\\\\anaconda3\\\\lib\\\\site-packages\\\\locket-0.2.1-py3.8.egg',\n",
       " 'C:\\\\Users\\\\rhama\\\\anaconda3\\\\lib\\\\site-packages\\\\win32',\n",
       " 'C:\\\\Users\\\\rhama\\\\anaconda3\\\\lib\\\\site-packages\\\\win32\\\\lib',\n",
       " 'C:\\\\Users\\\\rhama\\\\anaconda3\\\\lib\\\\site-packages\\\\Pythonwin',\n",
       " 'C:\\\\Users\\\\rhama\\\\anaconda3\\\\lib\\\\site-packages\\\\IPython\\\\extensions',\n",
       " 'C:\\\\Users\\\\rhama\\\\.ipython']"
      ]
     },
     "execution_count": 43,
     "metadata": {},
     "output_type": "execute_result"
    }
   ],
   "source": [
    "sys.path"
   ]
  },
  {
   "cell_type": "code",
   "execution_count": 44,
   "id": "7175236b",
   "metadata": {
    "pycharm": {
     "name": "#%%\n"
    }
   },
   "outputs": [],
   "source": [
    "f= open('hello.txt','w')\n",
    "f.write('hello')\n",
    "f.close()"
   ]
  },
  {
   "cell_type": "code",
   "execution_count": 55,
   "id": "dfba94de",
   "metadata": {
    "scrolled": false,
    "pycharm": {
     "name": "#%%\n"
    }
   },
   "outputs": [],
   "source": [
    "# list를 파일에 입력하기 위해 pickle.dump를 사용한다\n",
    "#이때 open_mode='wb' 로 할것\n",
    "g= open('list.txt','wb')\n",
    "list_1=['a','b','c']\n",
    "pickle.dump(list_1,g)\n",
    "g.close()"
   ]
  },
  {
   "cell_type": "code",
   "execution_count": 76,
   "id": "3ea8fcb6",
   "metadata": {
    "pycharm": {
     "name": "#%%\n"
    }
   },
   "outputs": [
    {
     "name": "stdout",
     "output_type": "stream",
     "text": [
      "['a', 'b', 'c']\n"
     ]
    }
   ],
   "source": [
    "'''\n",
    "with 문으로 파일 열기 (모드에 rb와야 함)\n",
    "pickle 모듈의 load 함수 사용\n",
    "'''\n",
    "g= open('list.txt','rb')\n",
    "data=pickle.load(g)\n",
    "print(data)\n",
    "g.close()"
   ]
  },
  {
   "cell_type": "code",
   "execution_count": 62,
   "id": "00a7c19a",
   "metadata": {
    "pycharm": {
     "name": "#%%\n"
    }
   },
   "outputs": [
    {
     "data": {
      "text/plain": [
       "'C:\\\\Users\\\\rhama\\\\Datascience'"
      ]
     },
     "execution_count": 62,
     "metadata": {},
     "output_type": "execute_result"
    }
   ],
   "source": [
    "os.getcwd()"
   ]
  },
  {
   "cell_type": "code",
   "execution_count": 65,
   "id": "ebd650d4",
   "metadata": {
    "pycharm": {
     "name": "#%%\n"
    }
   },
   "outputs": [],
   "source": [
    "os.chdir('C:\\\\Users\\\\rhama')"
   ]
  },
  {
   "cell_type": "code",
   "execution_count": 66,
   "id": "29fc060c",
   "metadata": {
    "pycharm": {
     "name": "#%%\n"
    }
   },
   "outputs": [
    {
     "data": {
      "text/plain": [
       "'C:\\\\Users\\\\rhama'"
      ]
     },
     "execution_count": 66,
     "metadata": {},
     "output_type": "execute_result"
    }
   ],
   "source": [
    "os.getcwd()"
   ]
  },
  {
   "cell_type": "code",
   "execution_count": 68,
   "id": "3d11c6e8",
   "metadata": {
    "pycharm": {
     "name": "#%%\n"
    }
   },
   "outputs": [],
   "source": [
    "os.chdir('C:\\\\Users\\\\rhama\\\\Datascience')"
   ]
  },
  {
   "cell_type": "code",
   "execution_count": 71,
   "id": "f79f93c5",
   "metadata": {
    "pycharm": {
     "name": "#%%\n"
    }
   },
   "outputs": [
    {
     "name": "stdout",
     "output_type": "stream",
     "text": [
      " C 드라이브의 볼륨에는 이름이 없습니다.\n",
      " 볼륨 일련 번호: A8D1-4E7B\n",
      "\n",
      " C:\\Users\\rhama\\Datascience 디렉터리\n",
      "\n",
      "2022-05-18  오전 11:32    <DIR>          .\n",
      "2022-05-18  오전 11:32    <DIR>          ..\n",
      "2022-05-18  오전 09:23    <DIR>          .ipynb_checkpoints\n",
      "2022-05-16  오후 01:43                33 foo.txt\n",
      "2022-05-18  오전 10:33                 5 hello.txt\n",
      "2022-05-10  오후 04:50            10,157 Lecture1_Python.ipynb\n",
      "2022-05-11  오후 04:47            28,046 Lecture2_Python.ipynb\n",
      "2022-05-12  오후 04:42            30,688 Lecture3_Class_Python.ipynb\n",
      "2022-05-12  오후 04:38            11,244 Lecture3_variable_and_if_Python.ipynb\n",
      "2022-05-13  오후 02:46            15,582 Lecture4_for_Python.ipynb\n",
      "2022-05-13  오후 04:31             4,739 Lecture4_function_Python.ipynb\n",
      "2022-05-16  오후 04:36             8,646 Lecture5_class_python.ipynb\n",
      "2022-05-16  오후 01:55             5,943 Lecture5_file_python.ipynb\n",
      "2022-05-16  오전 11:15             9,957 Lecture5_function_python.ipynb\n",
      "2022-05-17  오후 04:30            95,315 Lecture6_moduel_python.ipynb\n",
      "2022-05-18  오전 11:32             8,934 Lecture7_Built_in_function_python.ipynb\n",
      "2022-05-18  오전 11:16                28 list.txt\n",
      "2022-05-17  오전 09:24                99 mod1.py\n",
      "2022-05-17  오전 09:47               118 test.py\n",
      "2022-05-17  오전 10:20               295 test2.py\n",
      "2022-05-17  오전 10:23    <DIR>          __pycache__\n",
      "2022-05-17  오전 09:24                99 새 텍스트 문서.txt\n",
      "2022-05-16  오후 01:53                85 새파일.txt\n",
      "              19개 파일             230,013 바이트\n",
      "               4개 디렉터리  26,285,023,232 바이트 남음\n"
     ]
    }
   ],
   "source": [
    "# 시스템 명령어 호출\n",
    "!dir"
   ]
  },
  {
   "cell_type": "code",
   "execution_count": 80,
   "id": "6ef384d9",
   "metadata": {
    "pycharm": {
     "name": "#%%\n"
    }
   },
   "outputs": [
    {
     "ename": "FileNotFoundError",
     "evalue": "[WinError 2] 지정된 파일을 찾을 수 없습니다: '새파일.txt'",
     "output_type": "error",
     "traceback": [
      "\u001B[1;31m---------------------------------------------------------------------------\u001B[0m",
      "\u001B[1;31mFileNotFoundError\u001B[0m                         Traceback (most recent call last)",
      "\u001B[1;32m<ipython-input-80-cef840ca4c64>\u001B[0m in \u001B[0;36m<module>\u001B[1;34m\u001B[0m\n\u001B[1;32m----> 1\u001B[1;33m \u001B[0mos\u001B[0m\u001B[1;33m.\u001B[0m\u001B[0munlink\u001B[0m\u001B[1;33m(\u001B[0m\u001B[1;34m'새파일.txt'\u001B[0m\u001B[1;33m)\u001B[0m\u001B[1;33m\u001B[0m\u001B[1;33m\u001B[0m\u001B[0m\n\u001B[0m",
      "\u001B[1;31mFileNotFoundError\u001B[0m: [WinError 2] 지정된 파일을 찾을 수 없습니다: '새파일.txt'"
     ]
    }
   ],
   "source": [
    "os.unlink('새파일.txt')"
   ]
  },
  {
   "cell_type": "code",
   "execution_count": 84,
   "id": "0935c996",
   "metadata": {
    "pycharm": {
     "name": "#%%\n"
    }
   },
   "outputs": [],
   "source": [
    "os.rename('test3.txt','test4.txt')"
   ]
  },
  {
   "cell_type": "code",
   "execution_count": 85,
   "id": "7d1ab62d",
   "metadata": {
    "pycharm": {
     "name": "#%%\n"
    }
   },
   "outputs": [],
   "source": [
    "import shutil"
   ]
  },
  {
   "cell_type": "code",
   "execution_count": 87,
   "id": "b669eed9",
   "metadata": {
    "pycharm": {
     "name": "#%%\n"
    }
   },
   "outputs": [
    {
     "data": {
      "text/plain": [
       "'test5.txt'"
      ]
     },
     "execution_count": 87,
     "metadata": {},
     "output_type": "execute_result"
    }
   ],
   "source": [
    "shutil.copy('test4.txt','test5.txt')"
   ]
  },
  {
   "cell_type": "code",
   "execution_count": null,
   "id": "46df8f7c",
   "metadata": {
    "pycharm": {
     "name": "#%%\n"
    }
   },
   "outputs": [],
   "source": []
  }
 ],
 "metadata": {
  "kernelspec": {
   "display_name": "Python 3",
   "language": "python",
   "name": "python3"
  },
  "language_info": {
   "codemirror_mode": {
    "name": "ipython",
    "version": 3
   },
   "file_extension": ".py",
   "mimetype": "text/x-python",
   "name": "python",
   "nbconvert_exporter": "python",
   "pygments_lexer": "ipython3",
   "version": "3.8.8"
  }
 },
 "nbformat": 4,
 "nbformat_minor": 5
}