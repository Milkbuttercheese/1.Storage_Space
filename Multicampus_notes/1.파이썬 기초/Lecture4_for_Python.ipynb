{
 "cells": [
  {
   "cell_type": "markdown",
   "id": "d0fd1450",
   "metadata": {},
   "source": [
    "for 문\n",
    "- 리스트나 튜플, 문자열과 같이 인덱싱이 가능한 자료형에서 첫번째 원소부터 마지막 원소까지 차례로 변수에 대입하여 반복하여 사용하는 구문"
   ]
  },
  {
   "cell_type": "code",
   "execution_count": 2,
   "id": "13d709b4",
   "metadata": {},
   "outputs": [
    {
     "name": "stdout",
     "output_type": "stream",
     "text": [
      "one\n",
      "two\n",
      "three\n"
     ]
    }
   ],
   "source": [
    "#반복문에서 변수는 i로 지정\n",
    "#수행할 문장: i 변수의 값을 출력하는 코드\n",
    "test_list= ['one','two','three']\n",
    "for i in test_list:\n",
    "    print(i)"
   ]
  },
  {
   "cell_type": "code",
   "execution_count": 8,
   "id": "9332d8e7",
   "metadata": {},
   "outputs": [
    {
     "name": "stdout",
     "output_type": "stream",
     "text": [
      "three\n",
      "one\n",
      "two\n"
     ]
    }
   ],
   "source": [
    "test_list = {'one','two','three'}\n",
    "for i in test_list:\n",
    "    print(i)\n",
    "\n"
   ]
  },
  {
   "cell_type": "code",
   "execution_count": 10,
   "id": "fe5a3b7b",
   "metadata": {},
   "outputs": [
    {
     "name": "stdout",
     "output_type": "stream",
     "text": [
      "say\n",
      "hello\n",
      "say\n",
      "hello\n",
      "say\n",
      "hello\n"
     ]
    }
   ],
   "source": [
    "#수행할 문장 1에는 say라는 문자열을 출력하는 코드를 사용\n",
    "#수행할 문장 2에는 hello라는 문자열을 출력하는 코드를 사용하기\n",
    "test_list=['one','two','three']\n",
    "for i in test_list:\n",
    "    print('say')\n",
    "    print('hello')"
   ]
  },
  {
   "cell_type": "code",
   "execution_count": 11,
   "id": "db9e53e7",
   "metadata": {},
   "outputs": [
    {
     "name": "stdout",
     "output_type": "stream",
     "text": [
      "3\n",
      "7\n",
      "11\n"
     ]
    }
   ],
   "source": [
    "a=[(1,2),(3,4),(5,6)]\n",
    "for (first,second) in a:\n",
    "    print(first+second)"
   ]
  },
  {
   "cell_type": "code",
   "execution_count": 21,
   "id": "aec40477",
   "metadata": {},
   "outputs": [
    {
     "name": "stdout",
     "output_type": "stream",
     "text": [
      "1번째 학생은 90점 으로 합격했습니다\n",
      "2번째 학생은 25점 으로 불합격했습니다\n",
      "3번째 학생은 67점 으로 합격했습니다\n",
      "4번째 학생은 45점 으로 불합격했습니다\n",
      "5번째 학생은 80점 으로 합격했습니다\n"
     ]
    }
   ],
   "source": [
    "#5명의 학생이 있다 하자. 시험 점수가 60점이 넘으면 합격이고\n",
    "#60점 미만이면 불합격이라 하자\n",
    "marks=[90,25,67,45,80]\n",
    "number=0\n",
    "for i in marks:\n",
    "    number= number+1\n",
    "    if i>=60:\n",
    "        print('{}번째 학생은 {}점 으로 합격했습니다'.format(number,i))\n",
    "    else:\n",
    "        print('{}번째 학생은 {}점 으로 불합격했습니다'.format(number,i))"
   ]
  },
  {
   "cell_type": "code",
   "execution_count": 24,
   "id": "3ce6876d",
   "metadata": {},
   "outputs": [
    {
     "name": "stdout",
     "output_type": "stream",
     "text": [
      "축하합니다 1번째 학생은 90점으로 합격하셨습니다\n",
      "축하합니다 3번째 학생은 67점으로 합격하셨습니다\n",
      "축하합니다 5번째 학생은 80점으로 합격하셨습니다\n"
     ]
    }
   ],
   "source": [
    "#for- continue 문 사용하기\n",
    "marks=[90,25,67,45,80]\n",
    "number=0\n",
    "for i in marks:\n",
    "    number= number+1\n",
    "    if i<60:\n",
    "        continue\n",
    "    #print('축하합니다 {}번째 학생은 {}점으로 합격하셨습니다'.format(number,i))\n",
    "    print(f'축하합니다 {number}번째 학생은 {i}점으로 합격하셨습니다'.format(number,i))"
   ]
  },
  {
   "cell_type": "code",
   "execution_count": 34,
   "id": "ab9d6964",
   "metadata": {},
   "outputs": [
    {
     "name": "stdout",
     "output_type": "stream",
     "text": [
      "0\n",
      "1\n",
      "2\n",
      "3\n",
      "4\n",
      "5\n",
      "6\n",
      "7\n",
      "8\n",
      "range(0, 9)\n",
      "[0, 1, 2, 3, 4, 5, 6, 7, 8]\n"
     ]
    }
   ],
   "source": [
    "a=range(9)\n",
    "for i in a:\n",
    "    print(i)\n",
    "print(a)\n",
    "print(list(a))"
   ]
  },
  {
   "cell_type": "code",
   "execution_count": 36,
   "id": "eec2d3ab",
   "metadata": {},
   "outputs": [
    {
     "name": "stdout",
     "output_type": "stream",
     "text": [
      "1\n",
      "2\n",
      "3\n",
      "4\n",
      "5\n",
      "6\n",
      "7\n",
      "8\n",
      "9\n",
      "10\n",
      "[1, 2, 3, 4, 5, 6, 7, 8, 9, 10]\n"
     ]
    }
   ],
   "source": [
    "for i in range(1,11):\n",
    "    print(i)\n",
    "a= list(range(1,11))\n",
    "print(a)"
   ]
  },
  {
   "cell_type": "code",
   "execution_count": 38,
   "id": "8d6a1333",
   "metadata": {},
   "outputs": [
    {
     "name": "stdout",
     "output_type": "stream",
     "text": [
      "1번째 학생은 90점으로 합격입니다\n",
      "3번째 학생은 67점으로 합격입니다\n",
      "5번째 학생은 80점으로 합격입니다\n"
     ]
    }
   ],
   "source": [
    "#60 점 이상인 사람에겐 X번째 학생 Y점 이상으로 학생입니다\n",
    "#나머지에겐 아무 메세지도 전하지 않는 프로그램\n",
    "marks=[90,25,67,45,80]\n",
    "for i in range(0,len(marks)):\n",
    "    if marks[i]< 60:\n",
    "        continue\n",
    "    print(f'{i+1}번째 학생은 {marks[i]}점으로 합격입니다'  )\n"
   ]
  },
  {
   "cell_type": "code",
   "execution_count": 42,
   "id": "eaa58e1a",
   "metadata": {},
   "outputs": [
    {
     "name": "stdout",
     "output_type": "stream",
     "text": [
      "[3, 6, 9, 12]\n"
     ]
    }
   ],
   "source": [
    "a=[1,2,3,4]\n",
    "a_tri=[]\n",
    "for i in range(len(a)):\n",
    "    a_tri.append(3*a[i])\n",
    "print(a_tri)    "
   ]
  },
  {
   "cell_type": "code",
   "execution_count": 45,
   "id": "eca04fef",
   "metadata": {},
   "outputs": [
    {
     "name": "stdout",
     "output_type": "stream",
     "text": [
      "[3, 6, 9, 12]\n"
     ]
    }
   ],
   "source": [
    "#리스트 내포\n",
    "a=[1,2,3,4]\n",
    "a_tri=[num*3 for num in a]\n",
    "print(a_tri)"
   ]
  },
  {
   "cell_type": "code",
   "execution_count": 47,
   "id": "169e295f",
   "metadata": {},
   "outputs": [
    {
     "name": "stdout",
     "output_type": "stream",
     "text": [
      "[6, 12]\n"
     ]
    }
   ],
   "source": [
    "#리스트 a에서 짝수만 *3한 결과 출력\n",
    "a=[1,2,3,4]\n",
    "result= [num*3 for num in a if num%2 ==0]\n",
    "print(result)"
   ]
  },
  {
   "cell_type": "code",
   "execution_count": 49,
   "id": "331c4959",
   "metadata": {},
   "outputs": [
    {
     "name": "stdout",
     "output_type": "stream",
     "text": [
      "[0, 6, 9, 12]\n"
     ]
    }
   ],
   "source": [
    "#리스트 내포를 활용한 if~else 구문\n",
    "#if-else 구문을 사용하면 for문 앞에 위치한다\n",
    "#리스트에서 원소값이 1보다 크면 *3하고 아니면 0을 대입하는 프로그램\n",
    "a=[1,2,3,4]\n",
    "result= [num *3 if num>1 else 0 for num in a ]\n",
    "print(result)"
   ]
  },
  {
   "cell_type": "code",
   "execution_count": 63,
   "id": "63e61e18",
   "metadata": {},
   "outputs": [
    {
     "name": "stdout",
     "output_type": "stream",
     "text": [
      "\n",
      "2*1=2  2*2=4  2*3=6  2*4=8  2*5=10  2*6=12  2*7=14  2*8=16  2*9=18  \n",
      "3*1=3  3*2=6  3*3=9  3*4=12  3*5=15  3*6=18  3*7=21  3*8=24  3*9=27  \n",
      "4*1=4  4*2=8  4*3=12  4*4=16  4*5=20  4*6=24  4*7=28  4*8=32  4*9=36  \n",
      "5*1=5  5*2=10  5*3=15  5*4=20  5*5=25  5*6=30  5*7=35  5*8=40  5*9=45  \n",
      "6*1=6  6*2=12  6*3=18  6*4=24  6*5=30  6*6=36  6*7=42  6*8=48  6*9=54  \n",
      "7*1=7  7*2=14  7*3=21  7*4=28  7*5=35  7*6=42  7*7=49  7*8=56  7*9=63  \n",
      "8*1=8  8*2=16  8*3=24  8*4=32  8*5=40  8*6=48  8*7=56  8*8=64  8*9=72  \n",
      "9*1=9  9*2=18  9*3=27  9*4=36  9*5=45  9*6=54  9*7=63  9*8=72  9*9=81  "
     ]
    }
   ],
   "source": [
    "#이중 for문\n",
    "#구구단 코드 만들기 (2*1) 부터 (9*9)\n",
    "for i in range(2,10):\n",
    "    print('')\n",
    "    for j in range(1,10):\n",
    "        print(f'{i}*{j}={i * j}  ', end='')\n",
    "# end='' 줄바꿈을 안하겠다\n",
    "#end='wt' :줄을 바꾸지 않은 상태로 결과를 계속 출력하겠다"
   ]
  },
  {
   "cell_type": "code",
   "execution_count": 64,
   "id": "9eca8790",
   "metadata": {},
   "outputs": [
    {
     "name": "stdout",
     "output_type": "stream",
     "text": [
      "푹! 나무를 1 찍었다 \n",
      "푹! 나무를 2 찍었다 \n",
      "푹! 나무를 3 찍었다 \n",
      "푹! 나무를 4 찍었다 \n",
      "푹! 나무를 5 찍었다 \n",
      "푹! 나무를 6 찍었다 \n",
      "푹! 나무를 7 찍었다 \n",
      "푹! 나무를 8 찍었다 \n",
      "푹! 나무를 9 찍었다 \n",
      "푹! 나무를 10 찍었다 \n",
      "나무 넘어가유~\n"
     ]
    }
   ],
   "source": [
    "#열 번 찍어 안 넘어가는 나무 없다\n",
    "treeHit=0\n",
    "while treeHit < 10:\n",
    "    treeHit= treeHit+1\n",
    "    print(f'푹! 나무를 {treeHit} 찍었다 ')\n",
    "    if treeHit== 10:\n",
    "        print('나무 넘어가유~')\n",
    "    "
   ]
  },
  {
   "cell_type": "code",
   "execution_count": 70,
   "id": "0b1c21cf",
   "metadata": {},
   "outputs": [
    {
     "name": "stdout",
     "output_type": "stream",
     "text": [
      "푹! 나무를 1번 찍었다 \n",
      "푹! 나무를 2번 찍었다 \n",
      "푹! 나무를 3번 찍었다 \n",
      "푹! 나무를 4번 찍었다 \n",
      "푹! 나무를 5번 찍었다 \n",
      "푹! 나무를 6번 찍었다 \n",
      "푹! 나무를 7번 찍었다 \n",
      "푹! 나무를 8번 찍었다 \n",
      "푹! 나무를 9번 찍었다 \n",
      "나무 넘어가요~\n"
     ]
    }
   ],
   "source": [
    "#열 번 찍어 안 넘어가는 나무 없다\n",
    "#while문의 마지막에 출력하는것이 목적이라면 이렇게 해도?\n",
    "treeHit=0\n",
    "while treeHit < 9:\n",
    "    treeHit= treeHit+1\n",
    "    print(f'푹! 나무를 {treeHit}번 찍었다 ')\n",
    "print('나무 넘어가요~')"
   ]
  },
  {
   "cell_type": "code",
   "execution_count": 79,
   "id": "eaedf62d",
   "metadata": {},
   "outputs": [
    {
     "name": "stdout",
     "output_type": "stream",
     "text": [
      " \n",
      "1. Add\n",
      "2. Del\n",
      "3. List\n",
      "4. Quit\n",
      "\n",
      "Enter number:\n",
      "\n",
      "1\n",
      " \n",
      "1. Add\n",
      "2. Del\n",
      "3. List\n",
      "4. Quit\n",
      "\n",
      "Enter number:\n",
      "\n",
      "2\n",
      " \n",
      "1. Add\n",
      "2. Del\n",
      "3. List\n",
      "4. Quit\n",
      "\n",
      "Enter number:\n",
      "\n",
      "3\n",
      " \n",
      "1. Add\n",
      "2. Del\n",
      "3. List\n",
      "4. Quit\n",
      "\n",
      "Enter number:\n",
      "\n",
      "4\n"
     ]
    }
   ],
   "source": [
    "'''\n",
    "여러 선택지중에서 해당 선택지가 나오기 전까지 구동하는 무한 루프 프로그램\n",
    "1. Add\n",
    "2. Del\n",
    "3. List\n",
    "4. Quit\n",
    "\n",
    "'''\n",
    "prompt= ''' \n",
    "1. Add\n",
    "2. Del\n",
    "3. List\n",
    "4. Quit\n",
    "\n",
    "Enter number:\n",
    "'''\n",
    "\n",
    "\n",
    "number=0\n",
    "while number !=4 :\n",
    "    print(prompt)\n",
    "    number= int(input())\n",
    "    "
   ]
  },
  {
   "cell_type": "code",
   "execution_count": 86,
   "id": "f4c23c79",
   "metadata": {},
   "outputs": [
    {
     "name": "stdout",
     "output_type": "stream",
     "text": [
      "주문하신 1번째 커피 나왔습니다\n",
      "현재 카드에 남으신 잔액은 290원 입니다\n",
      "\n",
      "주문하신 2번째 커피 나왔습니다\n",
      "현재 카드에 남으신 잔액은 280원 입니다\n",
      "\n",
      "주문하신 3번째 커피 나왔습니다\n",
      "현재 카드에 남으신 잔액은 270원 입니다\n",
      "\n",
      "주문하신 4번째 커피 나왔습니다\n",
      "현재 카드에 남으신 잔액은 260원 입니다\n",
      "\n",
      "주문하신 5번째 커피 나왔습니다\n",
      "현재 카드에 남으신 잔액은 250원 입니다\n",
      "\n",
      "주문하신 6번째 커피 나왔습니다\n",
      "현재 카드에 남으신 잔액은 240원 입니다\n",
      "\n",
      "주문하신 7번째 커피 나왔습니다\n",
      "현재 카드에 남으신 잔액은 230원 입니다\n",
      "\n",
      "주문하신 8번째 커피 나왔습니다\n",
      "현재 카드에 남으신 잔액은 220원 입니다\n",
      "\n",
      "주문하신 9번째 커피 나왔습니다\n",
      "현재 카드에 남으신 잔액은 210원 입니다\n",
      "\n",
      "주문하신 10번째 커피 나왔습니다\n",
      "현재 카드에 남으신 잔액은 200원 입니다\n",
      "\n",
      "준비한 커피가 모두 소진되었습니다. 판매를 중지합니다\n"
     ]
    }
   ],
   "source": [
    "'''\n",
    "커피 10잔 있고 돈 300원 있음\n",
    "커피가 10원\n",
    "남은돈 290원\n",
    "돈을 받았으니 커피를 주기 \n",
    "돈을 다 쓰기전에 커피가 먼저 소진됨\n",
    "커피가 모두 소진되면 커피가 다 떨어졌습니다. 판매를 중지합니다. 출력하기\n",
    "'''\n",
    "money=300\n",
    "n_ordered=0\n",
    "\n",
    "while money > 0:\n",
    "    money= money -10\n",
    "    n_ordered= n_ordered+1\n",
    "    print(f'주문하신 {n_ordered}번째 커피 나왔습니다')\n",
    "    print(f'현재 카드에 남으신 잔액은 {money}원 입니다')\n",
    "    print('')\n",
    "    if n_ordered == 10:\n",
    "        print('준비한 커피가 모두 소진되었습니다. 판매를 중지합니다')\n",
    "        break"
   ]
  },
  {
   "cell_type": "code",
   "execution_count": 87,
   "id": "f443deec",
   "metadata": {},
   "outputs": [
    {
     "name": "stdout",
     "output_type": "stream",
     "text": [
      "1\n",
      "3\n",
      "5\n",
      "7\n",
      "9\n"
     ]
    }
   ],
   "source": [
    "'''\n",
    "1~10 까지의 숫자중 홀수만 출력하는 프로그램 만들기\n",
    "'''\n",
    "a=0\n",
    "while a<10:\n",
    "    a= a+1\n",
    "    if a%2 ==0:\n",
    "        continue\n",
    "    print(a)"
   ]
  },
  {
   "cell_type": "code",
   "execution_count": null,
   "id": "759804ce",
   "metadata": {},
   "outputs": [],
   "source": [
    "'''\n",
    "\n",
    "'''"
   ]
  }
 ],
 "metadata": {
  "kernelspec": {
   "display_name": "Python 3",
   "language": "python",
   "name": "python3"
  },
  "language_info": {
   "codemirror_mode": {
    "name": "ipython",
    "version": 3
   },
   "file_extension": ".py",
   "mimetype": "text/x-python",
   "name": "python",
   "nbconvert_exporter": "python",
   "pygments_lexer": "ipython3",
   "version": "3.8.8"
  }
 },
 "nbformat": 4,
 "nbformat_minor": 5
}
