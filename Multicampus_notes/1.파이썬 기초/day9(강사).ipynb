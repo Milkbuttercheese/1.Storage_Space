{
 "cells": [
  {
   "cell_type": "code",
   "execution_count": 13,
   "id": "88b4142f",
   "metadata": {},
   "outputs": [
    {
     "name": "stderr",
     "output_type": "stream",
     "text": [
      "C:\\Users\\student\\AppData\\Local\\Temp/ipykernel_14508/346391370.py:2: DeprecationWarning: executable_path has been deprecated, please pass in a Service object\n",
      "  driver = webdriver.Chrome(executable_path=\"chromedriver.exe\")\n"
     ]
    }
   ],
   "source": [
    "from selenium import webdriver\n",
    "driver = webdriver.Chrome(executable_path=\"chromedriver.exe\")"
   ]
  },
  {
   "cell_type": "markdown",
   "id": "3ada3e80",
   "metadata": {},
   "source": [
    "첫번째 게시물 클릭 xpath<br>\n",
    "/html/body/div[1]/section/main/article/div[2]/div/div[1]/div[1]/a/div<br><br>\n",
    "\n",
    "좋아요 버튼 xpath<br>\n",
    "/html/body/div[6]/div[3]/div/article/div/div[2]/div/div/div[2]/section[1]/span[1]/button<br><br>\n",
    "다음 버튼 xpath<br>\n",
    "/html/body/div[6]/div[2]/div/div[2]/button/div"
   ]
  },
  {
   "cell_type": "markdown",
   "id": "152378fe",
   "metadata": {},
   "source": [
    "게시물에 좋아요 누르기"
   ]
  },
  {
   "cell_type": "markdown",
   "id": "95dbe9e3",
   "metadata": {},
   "source": [
    "모듈 파일 작성(insta_bot_like.py)"
   ]
  },
  {
   "cell_type": "code",
   "execution_count": null,
   "id": "b839da0a",
   "metadata": {},
   "outputs": [],
   "source": [
    "from selenium import webdriver\n",
    "from selenium.webdriver.chrome.options import Options\n",
    "from selenium.webdriver.common.keys import Keys\n",
    "import time\n",
    "\n",
    "class LikeBot:\n",
    "    def __init__(self):\n",
    "        self.querry = \"https://www.instagram.com/explore/tags/\"\n",
    "        \n",
    "        self.options = Options()\n",
    "        \n",
    "        self.options.add_argument(\"--window-size=1920, 1080\")\n",
    "\n",
    "        self.driver = webdriver.Chrome(executable_path=\"chromedriver.exe\",\n",
    "                                       chrome_options=self.options)\n",
    "\n",
    "    def kill(self):\n",
    "        self.driver.quit()\n",
    "    \n",
    "    def login(self, id, ps):\n",
    "        self.driver.get(\"https://www.instagram.com/accounts/login/\")\n",
    "        \n",
    "        time.sleep(5)\n",
    "        \n",
    "        input_field = self.driver.find_elements_by_tag_name(\"input\")\n",
    "        \n",
    "        input_field[0].send_keys(id)\n",
    "        \n",
    "        input_field[1].send_keys(ps)\n",
    "\n",
    "        input_field[1].send_keys(Keys.RETURN)\n",
    "        \n",
    "        time.sleep(5)\n",
    "        \n",
    "    def search_tag(self, tag):\n",
    "        self.driver.get(self.querry + tag)\n",
    "        \n",
    "        time.sleep(5)\n",
    "\n",
    "    # 최근 게시물 클릭 메서드\n",
    "    def select_picture(self):\n",
    "        recent_picture_xpath = \"/html/body/div[1]/section/main/article/div[2]/div/div[1]/div[1]/a/div\"\n",
    "        \n",
    "        recent_picture = self.driver.find_element_by_xpath(recent_picture_xpath)\n",
    "        \n",
    "        recent_picture.click()\n",
    "        \n",
    "        time.sleep(5)\n",
    "        \n",
    "    def Like_pictures(self, num):\n",
    "        count = num\n",
    "        \n",
    "        while count != 0:\n",
    "            # count = count - 1\n",
    "            count -= 1\n",
    "            \n",
    "            article_xpath = \"/html/body/div[6]/div[3]/div/article/div/div[2]/div/div/div[2]/section[1]/span[1]/button\"\n",
    "            \n",
    "            article_element = self.driver.find_element_by_xpath(article_xpath)\n",
    "            \n",
    "            article_element.click()\n",
    "            \n",
    "            time.sleep(5)\n",
    "            \n",
    "            next_butten = \"/html/body/div[6]/div[2]/div/div[2]/button/div\"\n",
    "            \n",
    "            next_butten_element = self.driver.find_element_by_xpath(next_butten)\n",
    "            \n",
    "            next_butten_element.click()\n",
    "            \n",
    "            time.sleep(5)\n",
    "\n",
    "    def insta_like_auto(self, tag, num):\n",
    "        self.search_tag(tag)\n",
    "        \n",
    "        self.select_picture()\n",
    "        \n",
    "        self.Like_pictures(num)"
   ]
  },
  {
   "cell_type": "markdown",
   "id": "94441b6a",
   "metadata": {},
   "source": [
    "메인 파일 작성(insta_bot_like_main.py)"
   ]
  },
  {
   "cell_type": "code",
   "execution_count": null,
   "id": "aef930d3",
   "metadata": {},
   "outputs": [],
   "source": [
    "import sys\n",
    "import insta_bot_like as ib\n",
    "\n",
    "id = sys.argv[1]\n",
    "\n",
    "ps = sys.argv[2]\n",
    "\n",
    "tag = sys.argv[3]\n",
    "\n",
    "num = int(sys.argv[4].strip())\n",
    "\n",
    "Bot = ib.LikeBot()\n",
    "\n",
    "Bot.login(id, ps)\n",
    "\n",
    "# Bot.search_tag(tag)\n",
    "\n",
    "# Bot.select_picture()\n",
    "\n",
    "# Bot.Like_pictures(num)\n",
    "\n",
    "Bot.insta_like_auto(tag, num)\n",
    "\n",
    "Bot.kill()"
   ]
  },
  {
   "cell_type": "markdown",
   "id": "9a2d5e31",
   "metadata": {},
   "source": [
    "!python insta_bot_like_main.py [아이디] [비밀번호] [태그] [횟수]"
   ]
  },
  {
   "cell_type": "markdown",
   "id": "5d161dd0",
   "metadata": {},
   "source": [
    "게시물에 좋아요 누르기2"
   ]
  },
  {
   "cell_type": "markdown",
   "id": "19cf8a4d",
   "metadata": {},
   "source": [
    "모듈 파일 작성(insta_bot_like_2.py)"
   ]
  },
  {
   "cell_type": "code",
   "execution_count": null,
   "id": "b002613b",
   "metadata": {},
   "outputs": [],
   "source": [
    "from selenium import webdriver\n",
    "from selenium.webdriver.chrome.options import Options\n",
    "from selenium.webdriver.common.keys import Keys\n",
    "import time\n",
    "\n",
    "class LikeBot:\n",
    "    def __init__(self):\n",
    "        self.querry = \"https://www.instagram.com/explore/tags/\"\n",
    "        \n",
    "        self.options = Options()\n",
    "        \n",
    "        self.options.add_argument(\"--window-size=1920, 1080\")\n",
    "\n",
    "        self.driver = webdriver.Chrome(executable_path=\"chromedriver.exe\",\n",
    "                                       chrome_options=self.options)\n",
    "\n",
    "    def kill(self):\n",
    "        self.driver.quit()\n",
    "    \n",
    "    def login(self, id, ps):\n",
    "        self.driver.get(\"https://www.instagram.com/accounts/login/\")\n",
    "        \n",
    "        time.sleep(5)\n",
    "        \n",
    "        input_field = self.driver.find_elements_by_tag_name(\"input\")\n",
    "        \n",
    "        input_field[0].send_keys(id)\n",
    "        \n",
    "        input_field[1].send_keys(ps)\n",
    "\n",
    "        input_field[1].send_keys(Keys.RETURN)\n",
    "        \n",
    "        time.sleep(5)\n",
    "        \n",
    "    def search_tag(self, tag):\n",
    "        self.driver.get(self.querry + tag)\n",
    "        \n",
    "        time.sleep(5)\n",
    "\n",
    "    # 최근 게시물 클릭 메서드\n",
    "    def select_picture(self):\n",
    "        recent_picture_xpath = \"/html/body/div[1]/section/main/article/div[2]/div/div[1]/div[1]/a/div\"\n",
    "        \n",
    "        recent_picture = self.driver.find_element_by_xpath(recent_picture_xpath)\n",
    "        \n",
    "        recent_picture.click()\n",
    "        \n",
    "        time.sleep(5)\n",
    "        \n",
    "    def Like_pictures(self, num):\n",
    "        count = num\n",
    "        \n",
    "        while count != 0:\n",
    "            # count = count - 1\n",
    "            count -= 1\n",
    "            \n",
    "            article = self.driver.find_elements_by_tag_name(\"svg\")\n",
    "            \n",
    "            list_like = []\n",
    "            \n",
    "            for like_button in article:\n",
    "                if like_button.get_attribute(\"aria-label\") == \"좋아요\":\n",
    "                    list_like.append(like_button)\n",
    "            \n",
    "            list_like[1].click()\n",
    "            \n",
    "            time.sleep(5)\n",
    "            \n",
    "            next_butten = \"/html/body/div[6]/div[2]/div/div[2]/button/div\"\n",
    "            \n",
    "            next_butten_element = self.driver.find_element_by_xpath(next_butten)\n",
    "            \n",
    "            next_butten_element.click()\n",
    "            \n",
    "            time.sleep(5)\n",
    "\n",
    "    def insta_like_auto(self, tag, num):\n",
    "        self.search_tag(tag)\n",
    "        \n",
    "        self.select_picture()\n",
    "        \n",
    "        self.Like_pictures(num)"
   ]
  },
  {
   "cell_type": "markdown",
   "id": "e9efe767",
   "metadata": {},
   "source": [
    "메인 파일 작성(insta_bot_like_2_main.py)"
   ]
  },
  {
   "cell_type": "code",
   "execution_count": null,
   "id": "c63e5bf2",
   "metadata": {},
   "outputs": [],
   "source": [
    "import sys\n",
    "import insta_bot_like_2 as ib2\n",
    "\n",
    "id = sys.argv[1]\n",
    "\n",
    "ps = sys.argv[2]\n",
    "\n",
    "tag = sys.argv[3]\n",
    "\n",
    "num = int(sys.argv[4].strip())\n",
    "\n",
    "Bot = ib2.LikeBot()\n",
    "\n",
    "Bot.login(id, ps)\n",
    "\n",
    "# Bot.search_tag(tag)\n",
    "\n",
    "# Bot.select_picture()\n",
    "\n",
    "# Bot.Like_pictures(num)\n",
    "\n",
    "Bot.insta_like_auto(tag, num)\n",
    "\n",
    "Bot.kill()"
   ]
  },
  {
   "cell_type": "markdown",
   "id": "b27fe6ce",
   "metadata": {},
   "source": [
    "좋아요 버튼이 눌러져있다면 좋아요 버튼 누르지 않고 넘어가기"
   ]
  },
  {
   "cell_type": "markdown",
   "id": "2d6f9702",
   "metadata": {},
   "source": [
    "모듈 파일 작성(insta_bot_like.py)"
   ]
  },
  {
   "cell_type": "code",
   "execution_count": null,
   "id": "86201f3e",
   "metadata": {},
   "outputs": [],
   "source": [
    "# 현진이 작품\n",
    "\n",
    "from selenium import webdriver\n",
    "from selenium.webdriver.chrome.options import Options\n",
    "from selenium.webdriver.common.keys import Keys #엔터키\n",
    "import time #코드 쉬는시간 주기 위함\n",
    "\n",
    "\n",
    "# 기본적으로 사용할 부분을 다 넣을 클래스\n",
    "class LikeBot:\n",
    "    # 기본 사항\n",
    "    def __init__(self):\n",
    "        self.query = \"https://www.instagram.com/explore/tags/\"\n",
    "        self.options = Options()\n",
    "        self.options.add_argument(\"--window-size=1920, 1080\")\n",
    "        self.driver=webdriver.Chrome(executable_path=\"chromedriver.exe\", \n",
    "                                    chrome_options=self.options)\n",
    "    \n",
    "    # 종료 메서드 : 명령어만 실행\n",
    "    def kill(self):\n",
    "        self.driver.quit()\n",
    "    \n",
    "    # 로그인 메서드\n",
    "    def login(self, id, pw):\n",
    "        self.driver.get(\"https://www.instagram.com/accounts/login/\")\n",
    "        \n",
    "        time.sleep(5) # 5초 쉬는시간\n",
    "        \n",
    "        input_field = self.driver.find_elements_by_tag_name(\"input\")\n",
    "        input_field[0].send_keys(id)\n",
    "        input_field[1].send_keys(pw)\n",
    "        input_field[1].send_keys(Keys.RETURN) #PW 입력한 자리에서 엔터키\n",
    "        # 프로그램 처리 속도가 웹브라우저 처리 속도보다 빠름\n",
    "        time.sleep(5)\n",
    "    \n",
    "    # 태그 검색 메서드\n",
    "    def search_tag(self,tag):\n",
    "        self.driver.get(self.query+tag)\n",
    "        \n",
    "        time.sleep(5)\n",
    "\n",
    "    # 최근 게시물 클릭 메서드\n",
    "    def select_pic(self):\n",
    "        recent_pic_xpath = '/html/body/div[1]/section/main/article/div[2]/div/div[1]/div[1]/a/div[1]'\n",
    "        recent_pic = self.driver.find_element_by_xpath(recent_pic_xpath)\n",
    "        recent_pic.click()\n",
    "        \n",
    "        time.sleep(5)\n",
    "    \n",
    "    # 반복해서 좋아요 클릭+다음 넘어가는 하는 메서드\n",
    "    def like_click(self, num):\n",
    "        count = num\n",
    "        \n",
    "        while count != 0:\n",
    "            #like svg aria-label=\"좋아요\"             \n",
    "            like_xpath = \"/html/body/div[6]/div[3]/div/article/div/div[2]/div/div/div[2]/section[1]/span[1]/button\"\n",
    "            like = self.driver.find_element_by_xpath(like_xpath)\n",
    "            btn_svg = like.find_element_by_tag_name('svg')\n",
    "            svg = btn_svg.get_attribute('aria-label')\n",
    "            if svg==\"좋아요 취소\":\n",
    "                pass\n",
    "            else:\n",
    "                count = count - 1\n",
    "                like.click()\n",
    "\n",
    "                time.sleep(5)\n",
    "\n",
    "            next_butten = \"/html/body/div[6]/div[2]/div/div[2]/button\"\n",
    "            \n",
    "            next_butten_element = self.driver.find_element_by_xpath(next_butten)\n",
    "            \n",
    "            next_butten_element.click()\n",
    "            \n",
    "            time.sleep(5)\n",
    "            \n",
    "    #매크로 메서드 (태그검색~반복)\n",
    "    def insta_capture_macro(self, tag, num):\n",
    "        self.search_tag(tag)\n",
    "        self.select_pic()\n",
    "        self.like_click(num)"
   ]
  },
  {
   "cell_type": "markdown",
   "id": "53d4ae11",
   "metadata": {},
   "source": [
    "모듈 파일 작성(insta_push_like_bot.py)"
   ]
  },
  {
   "cell_type": "code",
   "execution_count": null,
   "id": "54b13d55",
   "metadata": {},
   "outputs": [],
   "source": [
    "#류재선 작품\n",
    "\n",
    "#전체적인 흐름과 형식이 insta_capture_bot과 매우 유사하여 많이 가져다 쓸 예정\n",
    "from selenium import webdriver\n",
    "from selenium.webdriver.chrome.options import Options\n",
    "from selenium.webdriver.common.keys import Keys\n",
    "import time\n",
    "\n",
    "class Pushlikebot:\n",
    "    # 기본 사항\n",
    "    def __init__(self):\n",
    "        self.querry = \"https://www.instagram.com/explore/tags/\" #실질적 tag입력전 주소, 태그ex) /고양이\n",
    "        self.options = Options() #Options의 클래스의 인스턴스로 설정\n",
    "        self.options.add_argument(\"--window-size=1920, 1080\") #해상도 인자 추가\n",
    "        self.driver = webdriver.Chrome(executable_path=\"chromedriver.exe\", chrome_options=self.options) #드라이버로 크롬창 열기 실행\n",
    "    \n",
    "    # 종료 메서드\n",
    "    def kill(self):\n",
    "        self.driver.quit()\n",
    "    \n",
    "    # 로그인 메서드(2)\n",
    "    def login(self, id, pw):\n",
    "        self.driver.get(\"https://www.instagram.com/accounts/login/\") #홈페이지 접속(1)\n",
    "        time.sleep(5)\n",
    "        input_field = self.driver.find_elements_by_tag_name(\"input\") #로그인창에서 \"입력\"과 관련된 tag검색\n",
    "        input_field[0].send_keys(id)#아이디\n",
    "        input_field[1].send_keys(pw)#패스워드\n",
    "        input_field[1].send_keys(Keys.RETURN) #Enter 누르기\n",
    "        time.sleep(5)\n",
    "    \n",
    "    # 태그 검색 메서드(3)\n",
    "    def search_tag(self, tag):\n",
    "        self.driver.get(self.querry + tag) #입력받은 tag와 주소 합체해서 거기로 이동\n",
    "        time.sleep(5)\n",
    "        \n",
    "    # 최근 게시물 클릭 메서드(4)\n",
    "    def select_post(self):\n",
    "        recent_post_xpath = \"/html/body/div[1]/section/main/article/div[2]/div/div[1]/div[1]/a/div[1]\" #최근 게시물 태그\n",
    "\n",
    "        recent_post = self.driver.find_element_by_xpath(recent_post_xpath)\n",
    "\n",
    "        recent_post.click()\n",
    "        \n",
    "        time.sleep(5)\n",
    "    \n",
    "    # 반복문 메서드 (5)(6)\n",
    "    def push_like(self, count):\n",
    "        while count:\n",
    "            like_button_xpath = \"/html/body/div[6]/div[3]/div/article/div/div[2]/div/div/div[2]/section[1]/span[1]/button\"#좋아요 버튼 경로\n",
    "            like_button_element = self.driver.find_element_by_xpath(like_button_xpath)#버튼에 xpath경로로 접근\n",
    "            svg_tag = like_button_element.find_element_by_tag_name(\"svg\")#버튼 요소 안에있는 svg태그 찾기(1개밖에 없어서 elements ㄴㄴ)\n",
    "            aria_label_text = svg_tag.get_attribute(\"aria-label\")#svg태그 안에있는 aria-label값 꺼내기,\"좋아요\" or \"좋아요 취소\"\n",
    "            \n",
    "            if  aria_label_text == \"좋아요 취소\": #이미 눌려있는 경우\n",
    "                   pass\n",
    "            else:\n",
    "                like_button_element.click()\n",
    "                count -= 1 #좋아요 누르고, count down\n",
    "            \n",
    "            #다음으로 넘기는 process, 공통적으로 실행\n",
    "            time.sleep(5)\n",
    "            next_button_xpath = \"/html/body/div[6]/div[2]/div/div[2]/button\"\n",
    "            next_button = self.driver.find_element_by_xpath(next_button_xpath)\n",
    "            next_button.click()\n",
    "            time.sleep(8)\n",
    "    \n",
    "    \n",
    "    # 전체 동작 메서드\n",
    "    def all_process(self, id, pw, tag, count):\n",
    "        self.login(id, pw) #홈페이지 접속, 로그인(1)(2)\n",
    "        self.search_tag(tag) #태그를 통해 게시물 검색(3)\n",
    "        self.select_post() #최근 게시물 클릭(4)\n",
    "        self.push_like(count) #좋아요 클릭 및 다음 게시물로 이동 (5)(6)"
   ]
  },
  {
   "cell_type": "markdown",
   "id": "89ec34e5",
   "metadata": {},
   "source": [
    "모듈 파일 작성(insta_like_edit.py)"
   ]
  },
  {
   "cell_type": "code",
   "execution_count": null,
   "id": "c670e61b",
   "metadata": {},
   "outputs": [],
   "source": [
    "# 김세진 작품\n",
    "\n",
    "from selenium import webdriver\n",
    "from selenium.webdriver.chrome.options import Options\n",
    "from selenium.webdriver.common.keys import Keys\n",
    "import time\n",
    "\n",
    "# 클래스 정의\n",
    "class LikeBot:\n",
    "    #기본사항\n",
    "    def __init__(self):\n",
    "        self.querry = 'https://www.instagram.com/explore/tags/'\n",
    "        self.options = Options()\n",
    "        self.options.add_argument('--window-size = 1920,1080')\n",
    "        self.driver = webdriver.Chrome(executable_path='chromedriver.exe', chrome_options=self.options)\n",
    "        \n",
    "    #종료 메서드\n",
    "    def kill(self):\n",
    "        self.driver.quit()\n",
    "        \n",
    "    #로그인 메서드\n",
    "    def login(self, id, ps):\n",
    "        self.driver.get('https://www.instagram.com/accounts/login/')\n",
    "        time.sleep(5)\n",
    "        input_field = self.driver.find_elements_by_tag_name('input')\n",
    "        input_field[0].send_keys(id)\n",
    "        input_field[1].send_keys(ps)\n",
    "        input_field[1].send_keys(Keys.RETURN) #엔터키 눌러줌\n",
    "        time.sleep(5)\n",
    "        \n",
    "    #태그검색 메서드\n",
    "    def search_tag(self, tag):\n",
    "        self.driver.get(self.querry + tag)\n",
    "        time.sleep(8)\n",
    "        \n",
    "    #최근 게시물 클릭 메서드\n",
    "    def select_picture(self):\n",
    "        recent_picture_xpath = '/html/body/div[1]/section/main/article/div[2]/div/div[1]/div[1]/a/div[1]'\n",
    "        recent_picture = self.driver.find_element_by_xpath(recent_picture_xpath)\n",
    "        recent_picture.click()\n",
    "        time.sleep(8)\n",
    "\n",
    "    #반복문 메서드\n",
    "    def like_pictures(self, num):\n",
    "        count = num\n",
    "        \n",
    "        while count != 0:\n",
    "            count = count - 1\n",
    "            like_xpath =  '/html/body/div[6]/div[3]/div/article/div/div[2]/div/div/div[2]/section[1]/span[1]/button'\n",
    "            like_element = self.driver.find_element_by_xpath(like_xpath)\n",
    "            next_button = '/html/body/div[6]/div[2]/div/div[2]/button'\n",
    "            next_button_element = self.driver.find_element_by_xpath(next_button)\n",
    "            \n",
    "            class_count0 = self.driver.find_elements_by_class_name(\"B58H7\") #좋아요 누르면 1줄어듬\n",
    "\n",
    "            like_element.click()\n",
    "            time.sleep(5)\n",
    "\n",
    "            class_count1 = self.driver.find_elements_by_class_name(\"B58H7\")\n",
    "            \n",
    "            if len(class_count0) > len(class_count1): #좋아요 활성화\n",
    "                next_button_element.click()\n",
    "                time.sleep(5)                \n",
    "\n",
    "            else: #좋아요 비활성화\n",
    "                like_element.click() #다시 활성화해준다\n",
    "                time.sleep(5)\n",
    "                next_button_element.click()\n",
    "                time.sleep(5)"
   ]
  },
  {
   "cell_type": "markdown",
   "id": "7d5decd5",
   "metadata": {},
   "source": [
    "데이터 분석"
   ]
  },
  {
   "cell_type": "markdown",
   "id": "24243aba",
   "metadata": {},
   "source": [
    "Numpy, Pandas, Matplotlib\n",
    "- Numpy : 배열\n",
    " - 사진\n",
    "- Pandas : 데이터를 수집하고 정리하는데 최적화된 도구\n",
    " - 간단한 시각화 제공\n",
    "- Matplotlib : 시각화 도구\n",
    " - 다양한 시각화 제공"
   ]
  },
  {
   "cell_type": "markdown",
   "id": "2ba16c53",
   "metadata": {},
   "source": [
    "판다스를 배워야 하는 이유\n",
    "- 현대에 들어서 방대한 데이터들이 실시간으로 빠른 속도로 쌓여가고 있음\n",
    " - 해당 데이터를 저장, 분석할 수 있는 컴퓨터 과학이 등장(data science)라는 새로운 영역 등장\n",
    " - 데이터를 연구하는 분야, 데이터 과학자가 해야하는 가장 중요한 목적은 데이터를 수집하고 가공하여 분석이 가능한 형태로 저장하는 것\n",
    "- 판다스 라이브러리는 데이터를 수집하고 정리하는데 최적화된 도구"
   ]
  },
  {
   "cell_type": "markdown",
   "id": "7ec5f238",
   "metadata": {},
   "source": [
    "판다스를 학습하면 데이터 과학의 80 ~ 90 퍼센트 업무 처리 가능"
   ]
  },
  {
   "cell_type": "markdown",
   "id": "51417d3f",
   "metadata": {},
   "source": [
    "판다스의 특징\n",
    "- 무료 오픈 소스\n",
    "- 파이썬 기반"
   ]
  },
  {
   "cell_type": "markdown",
   "id": "76e578bf",
   "metadata": {},
   "source": [
    "Numpy\n",
    "- Numerical Python의 약자\n",
    "- 파이썬 기반 수치 해석 라이브러리\n",
    "- 선형대수 연산에 필요한 다차원 배열과 배열 연산을 수행하는 다양한 함수 제공"
   ]
  },
  {
   "cell_type": "code",
   "execution_count": 6,
   "id": "5f93377c",
   "metadata": {
    "scrolled": true
   },
   "outputs": [
    {
     "name": "stdout",
     "output_type": "stream",
     "text": [
      "Requirement already satisfied: pandas in c:\\users\\student\\anaconda3\\lib\\site-packages (1.3.4)\n",
      "Requirement already satisfied: numpy>=1.17.3 in c:\\users\\student\\anaconda3\\lib\\site-packages (from pandas) (1.20.3)\n",
      "Requirement already satisfied: pytz>=2017.3 in c:\\users\\student\\anaconda3\\lib\\site-packages (from pandas) (2021.3)\n",
      "Requirement already satisfied: python-dateutil>=2.7.3 in c:\\users\\student\\anaconda3\\lib\\site-packages (from pandas) (2.8.2)\n",
      "Requirement already satisfied: six>=1.5 in c:\\users\\student\\anaconda3\\lib\\site-packages (from python-dateutil>=2.7.3->pandas) (1.16.0)\n"
     ]
    }
   ],
   "source": [
    "!pip install pandas"
   ]
  },
  {
   "cell_type": "code",
   "execution_count": 7,
   "id": "2e72ae59",
   "metadata": {},
   "outputs": [
    {
     "name": "stdout",
     "output_type": "stream",
     "text": [
      "Requirement already satisfied: numpy in c:\\users\\student\\anaconda3\\lib\\site-packages (1.20.3)\n"
     ]
    }
   ],
   "source": [
    "!pip install numpy"
   ]
  },
  {
   "cell_type": "markdown",
   "id": "56c75f16",
   "metadata": {},
   "source": [
    "판다스 자료구조\n",
    "- 서로 다른 형식을 갖는 여러 종류의 데이터를 컴퓨터가 이해할 수 있도록 동일한 형식을 갖는 구조로 통합할 필요가 있음\n",
    "\n",
    "판다스는 시리즈(Series)와 데이터프레임(DataFrame)이라는 데이터 형식을 제공"
   ]
  },
  {
   "cell_type": "markdown",
   "id": "c36e8bc2",
   "metadata": {},
   "source": [
    "시리즈\n",
    "- 데이터가 순차적으로 나열된 1차원 배열\n",
    "- 인덱스(index)와 데이터 값(value)이 일대일 대응\n",
    "- ex) 4 * 1 행렬은 시리즈\n",
    "- ex) 4 * 2~ 행렬은 데이터프레임\n",
    "- ex) 1 * 2 행렬은 데이터프레임"
   ]
  },
  {
   "cell_type": "markdown",
   "id": "fbba5b49",
   "metadata": {},
   "source": [
    "정리\n",
    "- 시리즈의 인덱스는 데이터 값의 위치를 나타내는 이름표 역할\n",
    "- index 2의 주소를 알고 있다면 data 2 원소 데이터에 접근 가능"
   ]
  },
  {
   "cell_type": "markdown",
   "id": "e5c45404",
   "metadata": {},
   "source": [
    "질문)<br>\n",
    "강사님 시리즈는 무조건 딕셔너리로 만들어지는 건가요?"
   ]
  },
  {
   "cell_type": "markdown",
   "id": "b5e6f0b9",
   "metadata": {},
   "source": [
    "답변)<br>\n",
    "리스트, 튜플로도 만들 수 있음"
   ]
  },
  {
   "cell_type": "markdown",
   "id": "ac30d051",
   "metadata": {},
   "source": [
    "딕셔너리 -> 시리즈"
   ]
  },
  {
   "cell_type": "code",
   "execution_count": 8,
   "id": "cc7c69f7",
   "metadata": {},
   "outputs": [],
   "source": [
    "import pandas as pd\n",
    "\n",
    "dict_data = {'a' : 1, 'b' : 2, 'c' : 3}\n",
    "\n",
    "sr = pd.Series(dict_data)"
   ]
  },
  {
   "cell_type": "code",
   "execution_count": 9,
   "id": "bf51da4a",
   "metadata": {},
   "outputs": [
    {
     "name": "stdout",
     "output_type": "stream",
     "text": [
      "a    1\n",
      "b    2\n",
      "c    3\n",
      "dtype: int64\n"
     ]
    }
   ],
   "source": [
    "print(sr)"
   ]
  },
  {
   "cell_type": "code",
   "execution_count": 10,
   "id": "14529d54",
   "metadata": {},
   "outputs": [],
   "source": [
    "import pandas as pd\n",
    "\n",
    "list_data = [1, 2, 3]\n",
    "\n",
    "sr = pd.Series(list_data)"
   ]
  },
  {
   "cell_type": "code",
   "execution_count": 11,
   "id": "f3afd822",
   "metadata": {},
   "outputs": [
    {
     "name": "stdout",
     "output_type": "stream",
     "text": [
      "0    1\n",
      "1    2\n",
      "2    3\n",
      "dtype: int64\n"
     ]
    }
   ],
   "source": [
    "print(sr)"
   ]
  },
  {
   "cell_type": "markdown",
   "id": "bccb2cd3",
   "metadata": {},
   "source": [
    "댓글 달기"
   ]
  },
  {
   "cell_type": "markdown",
   "id": "71190c09",
   "metadata": {},
   "source": [
    "모듈 파일 작성(insta_bot_reply.py)"
   ]
  },
  {
   "cell_type": "code",
   "execution_count": null,
   "id": "3f3c3a89",
   "metadata": {},
   "outputs": [],
   "source": [
    "from selenium import webdriver\n",
    "from selenium.webdriver.chrome.options import Options\n",
    "from selenium.webdriver.common.keys import Keys\n",
    "import time\n",
    "\n",
    "class ReplyBot:\n",
    "    def __init__(self):\n",
    "        self.querry = \"https://www.instagram.com/explore/tags/\"\n",
    "        \n",
    "        self.options = Options()\n",
    "        \n",
    "        self.options.add_argument(\"--window-size=1920, 1080\")\n",
    "\n",
    "        self.driver = webdriver.Chrome(executable_path=\"chromedriver.exe\",\n",
    "                                       chrome_options=self.options)\n",
    "\n",
    "    def kill(self):\n",
    "        self.driver.quit()\n",
    "    \n",
    "    def login(self, id, ps):\n",
    "        self.driver.get('https://www.instagram.com/accounts/login/')\n",
    "        \n",
    "        time.sleep(5)\n",
    "        \n",
    "        input_field = self.driver.find_elements_by_tag_name('input')\n",
    "        \n",
    "        input_field[0].send_keys(id)\n",
    "        \n",
    "        input_field[1].send_keys(ps)\n",
    "        \n",
    "        input_field[1].send_keys(Keys.RETURN)\n",
    "        \n",
    "        time.sleep(5)\n",
    "\n",
    "    def search_tag(self, tag):\n",
    "        self.driver.get(self.querry + tag)\n",
    "        \n",
    "        time.sleep(5)\n",
    "\n",
    "    # 최근 게시물 클릭 메서드\n",
    "    def select_picture(self):\n",
    "        recent_picture_xpath = \"/html/body/div[1]/section/main/article/div[2]/div/div[1]/div[1]/a/div\"\n",
    "        \n",
    "        recent_picture = self.driver.find_element_by_xpath(recent_picture_xpath)\n",
    "        \n",
    "        recent_picture.click()\n",
    "        \n",
    "        time.sleep(5)\n",
    "\n",
    "    def send_reply(self, text):\n",
    "        textarea = self.driver.find_element_by_tag_name(\"textarea\")\n",
    "\n",
    "        textarea.send_keys(text)\n",
    "        \n",
    "        time.sleep(5)\n",
    "        \n",
    "        textarea.send_keys(Keys.RETURN)\n",
    "\n",
    "    def reply_auto(self, text_input, num):\n",
    "        count = num\n",
    "        \n",
    "        while count != 0:\n",
    "            count -= 1\n",
    "            try:\n",
    "                self.send_reply(text_input)\n",
    "        \n",
    "            except:\n",
    "                time.sleep(5)\n",
    "                try:\n",
    "                    self.send_reply(text_input)\n",
    "                except:\n",
    "                    time.sleep(5)\n",
    "                    self.send_reply(text_input)\n",
    "\n",
    "            next_butten = \"/html/body/div[6]/div[2]/div/div[2]/button/div\"\n",
    "            \n",
    "            next_butten_element = self.driver.find_element_by_xpath(next_butten)\n",
    "            \n",
    "            next_butten_element.click()\n",
    "            \n",
    "            time.sleep(5)"
   ]
  },
  {
   "cell_type": "markdown",
   "id": "c4f74e7f",
   "metadata": {},
   "source": [
    "메인 파일 작성(insta_bot_reply_main.py)"
   ]
  },
  {
   "cell_type": "code",
   "execution_count": null,
   "id": "65861762",
   "metadata": {},
   "outputs": [],
   "source": [
    "import sys\n",
    "import insta_bot_reply as ibr\n",
    "\n",
    "id = sys.argv[1]\n",
    "\n",
    "ps = sys.argv[2]\n",
    "\n",
    "tag = sys.argv[3]\n",
    "\n",
    "msg = sys.argv[4]\n",
    "\n",
    "num = int(sys.argv[5].strip())\n",
    "\n",
    "Bot = ibr.ReplyBot()\n",
    "\n",
    "Bot.login(id, ps)\n",
    "\n",
    "Bot.search_tag(tag)\n",
    "\n",
    "Bot.select_picture()\n",
    "\n",
    "Bot.reply_auto(msg, num)\n",
    "\n",
    "Bot.kill()"
   ]
  },
  {
   "cell_type": "markdown",
   "id": "39ea3505",
   "metadata": {},
   "source": [
    "!python insta_bot_reply_main.py [아이디] [비밀번호] [태그] [메시지] [횟수]"
   ]
  },
  {
   "cell_type": "code",
   "execution_count": null,
   "id": "94732e89",
   "metadata": {},
   "outputs": [],
   "source": []
  }
 ],
 "metadata": {
  "kernelspec": {
   "display_name": "Python 3 (ipykernel)",
   "language": "python",
   "name": "python3"
  },
  "language_info": {
   "codemirror_mode": {
    "name": "ipython",
    "version": 3
   },
   "file_extension": ".py",
   "mimetype": "text/x-python",
   "name": "python",
   "nbconvert_exporter": "python",
   "pygments_lexer": "ipython3",
   "version": "3.9.7"
  }
 },
 "nbformat": 4,
 "nbformat_minor": 5
}
