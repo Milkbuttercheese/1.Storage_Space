{
 "cells": [
  {
   "cell_type": "markdown",
   "source": "## CH1  머신러닝의 개념\n- 일반적 정의\n\t- 어플리케이션을 수정하지 않고도 데이터를 기반으로 패턴을 학습하고, 결과를 예측하는 알고리즘 기법\n\t- 데이터를 기반으로 숨겨진 패턴을 인지하여 문제를 해결한다\n- 데이터 분석 영역은 재빠르게 머신러닝 기반의 예측 분석 predictive anlaysis로 재편되고 있다\n\n- 머신러닝의 분류\n\t- 지도학습 supervised learning\n\t\t- 분류\n\t\t- 회귀\n\t\t- 추천 시스템\n\t\t- 시각/음성 감지 및 인지\n\t\t- 텍스트 분석 및 자연어 처리\n\t- 비지도학습 unsupervised learning\n\t\t- 클러스터링\n\t\t- 차원축소\n\t\t- 강화학습\n- 데이터 전쟁\n\t- 머신러닝에서 머신러닝 알고리즘과 데이터중 더 중요한 요소는 무엇일까?\n\t- 머신러닝은 데이터에 매우 의존적이다. Garbage In Garbage out. 즉 좋은 품질의 데이터를 갖추지 못한다면 머신러닝의 수행 결과도 좋을 수 없다\n\t- 머신러닝 모델을 개선을 하는것은 알고리즘과 모델 파라미터를 구축하는 것과 데이터를 이해하고 효율적으로 가공/처리/추출하는 단계로 나눌 수 있을텐데, 후자의 능력이 더 필요할 때가 있을 수 있다\n\n\n## 2. 파이썬 머신러닝 생태계를 구성하는 주요 패키지\n\n- 데이터 핸들링\n\t- 넘파이 : 행렬 기반의 데이터를 처리하는 데 특화되어 있다\n\t- 판다스 : 2차원 데이터 처리에 특화되어 있다\n-  수학 패키지\n\t- 넘파이 : 행렬과 선형대수, 기초 통계를 다루는 패키지가 존재한다\n\t- 사이파이 : 자연과학과 통계를 위한 다양한 패키지가 존재한다\n- 머신러닝 패키지\n\t- 사이킷 런 : 데이터 마이닝 기반의 머신러닝에서 강점을 보인다\n\t- 텐서플로,케라스 : 영상,음성,언어 등의 비정형 데이터 분야에서 강점을 보인다\n- 시각화\n\t- 맷플롯립\n\t- 시본 : 맷플롯립 기반이지만 판다스보다 연동이 쉽고, 함축적인 API, 다양한 그래프와 차트를 제공한다\n\n### 2-1. 넘파이numpy\n- ndarray\n\t- ndarray의 생성\n\t\t- 다차원 배열 multi-dimentional array 생성이 가능하다\n\t\t- array() 함수는 파이썬 리스트와 같은 인자를 입력받아 ndarray로 변환할 수 있다\n\t\t- 배열 내에 오는 원소들은 모두 같은 데이터타입이여야 한다(리스트는 서로 다른 데이터타입을 가질 수 있는 것과 대조된다)\n\t- ndarray의 데이터 성질\n\t\t- ndarray는 tuple과 row_vector,column_vector를 구분한다. 전자는 1차원 배열로, 후자는 2차원 배열로 인식한다. 이러한 인식 차이에 의해 오류가 발생할 수도 있다\n\t\t- axis=0은 row 방향의 축을, axis=1는  컬럼방향의 축을 의미한다\n\t- ndarray의 불린인덱싱 boolean indexing\n\t\t-  배열에다 조건식을 걸면 똑같은 길이의 배열에 각 원소들이 조건식을 만족시키면 True, 조건식을 만족시키지 못하면 False인 원소가 담겨져서 반환된다\n\t\t\t- 예) arr1=np.array([1,2,3,4,5,6,7,8,9])\n\t\t\t- arr1>5  $\\rightarrow$ array([False,False,False,False,False,True,True,True,True]) \n\t\t\t- `array(array_cond_statement)` 형태로 사용하게 된다\n\t- ndarray의 정렬\n\t\t- 정렬하기\n\t\t\t- np.sort : sorted_lst= np.sort(orginal_lst)을 실행하면 정렬된 값을 좌변 sorted_lst에 저장한다. 원본 orlginal_lst은 유지된다\n\t\t\t- .sort : original_lst.sort()을 실행하면 정렬된값에 원본 orignial_lst에 저장한다\n\t\t- np.sort()[::-1]을 하면 내림차순으로 정렬할 수 있다\n\t\t- 정렬된 순서 인덱스 반환하기\n\t\t\t- np.argsort : np.argsort(lst)는 lst내 원소들의 정렬 순서 인덱스를 반환하여 준다\n\t\t\t- 사용 예) 성적 순으로 학생 호출하기\n``` python\nname_arr=np.array(['John','Mike','Sarah','Kate','Samuel'])  \nscore_arr=np.array([78,95,84,98,88])  \nsorted_idx=np.argsort(score_arr)  \nprint('성적 오름차순으로 이름을 출력합니다:',name_arr[sorted_idx])\n\nresult)\n성적 오름차순으로 이름을 출력합니다: ['John' 'Sarah' 'Samuel' 'Mike' 'Kate']\n``` \n- \n\t-  선형대수 연산\n\t\t- 행렬 내적 \n\t\t\t- np.dot(mtr1,mtr2)\n\t\t- 전치 행렬\n\t\t\t- np.transpose(mtr1)\n\n\n### 2-2 판다스 pandas\n- DataFrame\n\t- 여러 개의 행과 열로 이루어져 2차원 데이터를 담는 데이터 구조체\n\t- 데이터프레임의 열을 컬럼명으로 선택하고, 데이터프레임의 행을 인덱스로 선택할 수 있다\n\t- 이때 인덱스는 고유성이 존재한다면 순차값뿐만이 아니라 의미있는 데이터값의 할당도 가능하다\n\t- 파이썬의 리스트, 딕셔너리, 넘파이의 배열등으로 부터 생성될 수 있다\n\t\t- 이때 파이썬의 리스트나 넘파이의 딕셔너리의 경우 컬럼명이 존재하지 않아 따로 지정해줘야 한다\n\t\t- 딕셔너리의 경우 키key가 컬럼명이, 값value가 컬럼 데이터가 된다\n\t- 반대로 데이터프레임을 파이썬의 리스트,딕셔너리, 넘파이의 배열로 변환할 수 있다\n\t\t-  `df_name.values` 함수를 통해 데이터프레임의 값을 넘파이 배열로 변환할 수 있다\n\t\t-  `df_name.tolist()`함수를 통해 데이터프레임 값을 파이썬 리스트로 변환할 수 있다\n\t\t- `df_name.to_dict(list')` 함수를 통해 데이터프레임을 딕셔너리로 변환할 수 있다\n\t",
   "metadata": {
    "cell_id": "fbf95570142743eb82f4627b5f3da40d",
    "tags": [],
    "owner_user_id": "6620e961-4734-4451-b6f0-024902f1a0c6",
    "deepnote_cell_type": "markdown",
    "deepnote_cell_height": 2623
   }
  },
  {
   "cell_type": "markdown",
   "source": "",
   "metadata": {
    "cell_id": "e5a5b865c6a6457e8955e7fba300a14b",
    "tags": [],
    "deepnote_cell_type": "markdown",
    "deepnote_cell_height": 46
   }
  },
  {
   "cell_type": "markdown",
   "source": "<a style='text-decoration:none;line-height:16px;display:flex;color:#5B5B62;padding:10px;justify-content:end;' href='https://deepnote.com?utm_source=created-in-deepnote-cell&projectId=5a548db0-9bec-4ed6-b090-9c062f32efdb' target=\"_blank\">\n<img alt='Created in deepnote.com' style='display:inline;max-height:16px;margin:0px;margin-right:7.5px;' src='data:image/svg+xml;base64,PD94bWwgdmVyc2lvbj0iMS4wIiBlbmNvZGluZz0iVVRGLTgiPz4KPHN2ZyB3aWR0aD0iODBweCIgaGVpZ2h0PSI4MHB4IiB2aWV3Qm94PSIwIDAgODAgODAiIHZlcnNpb249IjEuMSIgeG1sbnM9Imh0dHA6Ly93d3cudzMub3JnLzIwMDAvc3ZnIiB4bWxuczp4bGluaz0iaHR0cDovL3d3dy53My5vcmcvMTk5OS94bGluayI+CiAgICA8IS0tIEdlbmVyYXRvcjogU2tldGNoIDU0LjEgKDc2NDkwKSAtIGh0dHBzOi8vc2tldGNoYXBwLmNvbSAtLT4KICAgIDx0aXRsZT5Hcm91cCAzPC90aXRsZT4KICAgIDxkZXNjPkNyZWF0ZWQgd2l0aCBTa2V0Y2guPC9kZXNjPgogICAgPGcgaWQ9IkxhbmRpbmciIHN0cm9rZT0ibm9uZSIgc3Ryb2tlLXdpZHRoPSIxIiBmaWxsPSJub25lIiBmaWxsLXJ1bGU9ImV2ZW5vZGQiPgogICAgICAgIDxnIGlkPSJBcnRib2FyZCIgdHJhbnNmb3JtPSJ0cmFuc2xhdGUoLTEyMzUuMDAwMDAwLCAtNzkuMDAwMDAwKSI+CiAgICAgICAgICAgIDxnIGlkPSJHcm91cC0zIiB0cmFuc2Zvcm09InRyYW5zbGF0ZSgxMjM1LjAwMDAwMCwgNzkuMDAwMDAwKSI+CiAgICAgICAgICAgICAgICA8cG9seWdvbiBpZD0iUGF0aC0yMCIgZmlsbD0iIzAyNjVCNCIgcG9pbnRzPSIyLjM3NjIzNzYyIDgwIDM4LjA0NzY2NjcgODAgNTcuODIxNzgyMiA3My44MDU3NTkyIDU3LjgyMTc4MjIgMzIuNzU5MjczOSAzOS4xNDAyMjc4IDMxLjY4MzE2ODMiPjwvcG9seWdvbj4KICAgICAgICAgICAgICAgIDxwYXRoIGQ9Ik0zNS4wMDc3MTgsODAgQzQyLjkwNjIwMDcsNzYuNDU0OTM1OCA0Ny41NjQ5MTY3LDcxLjU0MjI2NzEgNDguOTgzODY2LDY1LjI2MTk5MzkgQzUxLjExMjI4OTksNTUuODQxNTg0MiA0MS42NzcxNzk1LDQ5LjIxMjIyODQgMjUuNjIzOTg0Niw0OS4yMTIyMjg0IEMyNS40ODQ5Mjg5LDQ5LjEyNjg0NDggMjkuODI2MTI5Niw0My4yODM4MjQ4IDM4LjY0NzU4NjksMzEuNjgzMTY4MyBMNzIuODcxMjg3MSwzMi41NTQ0MjUgTDY1LjI4MDk3Myw2Ny42NzYzNDIxIEw1MS4xMTIyODk5LDc3LjM3NjE0NCBMMzUuMDA3NzE4LDgwIFoiIGlkPSJQYXRoLTIyIiBmaWxsPSIjMDAyODY4Ij48L3BhdGg+CiAgICAgICAgICAgICAgICA8cGF0aCBkPSJNMCwzNy43MzA0NDA1IEwyNy4xMTQ1MzcsMC4yNTcxMTE0MzYgQzYyLjM3MTUxMjMsLTEuOTkwNzE3MDEgODAsMTAuNTAwMzkyNyA4MCwzNy43MzA0NDA1IEM4MCw2NC45NjA0ODgyIDY0Ljc3NjUwMzgsNzkuMDUwMzQxNCAzNC4zMjk1MTEzLDgwIEM0Ny4wNTUzNDg5LDc3LjU2NzA4MDggNTMuNDE4MjY3Nyw3MC4zMTM2MTAzIDUzLjQxODI2NzcsNTguMjM5NTg4NSBDNTMuNDE4MjY3Nyw0MC4xMjg1NTU3IDM2LjMwMzk1NDQsMzcuNzMwNDQwNSAyNS4yMjc0MTcsMzcuNzMwNDQwNSBDMTcuODQzMDU4NiwzNy43MzA0NDA1IDkuNDMzOTE5NjYsMzcuNzMwNDQwNSAwLDM3LjczMDQ0MDUgWiIgaWQ9IlBhdGgtMTkiIGZpbGw9IiMzNzkzRUYiPjwvcGF0aD4KICAgICAgICAgICAgPC9nPgogICAgICAgIDwvZz4KICAgIDwvZz4KPC9zdmc+' > </img>\nCreated in <span style='font-weight:600;margin-left:4px;'>Deepnote</span></a>",
   "metadata": {
    "tags": [],
    "created_in_deepnote_cell": true,
    "deepnote_cell_type": "markdown"
   }
  }
 ],
 "nbformat": 4,
 "nbformat_minor": 2,
 "metadata": {
  "orig_nbformat": 2,
  "deepnote": {},
  "deepnote_notebook_id": "19d05bf6-6e82-4cbc-96d1-db7fa8163fe3",
  "deepnote_execution_queue": []
 }
}