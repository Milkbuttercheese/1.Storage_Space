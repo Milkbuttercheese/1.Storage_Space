{
 "cells": [
  {
   "cell_type": "markdown",
   "source": "# 6-2. 정렬: 단순 선택 / 삽입 정렬\n\n## 1. 단순선택정렬$straight\\,\\,selection\\,\\,sort$ 이란?\n\n- 가장 작은 원소부터 시작해 알맞은 위치로 옮기는 작업을 반복하며 정렬하는 방법이다\n- 이 알고리즘은 서로 이웃하지 않는 원소들을 교환하므로 불안정한 알고리즘이다\n- 선택정렬의 시간복잡도는 $O(n^2)$이다\n\n> 알고리즘 분석하기\n> \n> - 배열 $arr=[x_1,x_2,....,x_{n-1},x_n]$이 있다하자\n> - 가장 작은 원소$x_{s1}$이 맨 앞의 $x_1$과 위치를 교환한다\n> - 두번째로 작은 원소 $x_{s2}$가 두번째 앞 원소 $x_2$ 위치와 교환한다\n> - … 아직 정렬하지 않은 부분중 가장 작은 원소를 택하여 아직 정렬하지 않은 부분중 맨앞 원소와 교환하는 것을 반복한다\n- 기본 단순 선택 알고리즘\n    - $idx\\_smallest$는 가장 작은 수의 $index$를 뜻하는 것으로, $for-j$ 문을 통해 정렬되지 않은 배열 부분에서 찾아내어 값을 할당시킨다\n    - 그 다음 $i$번째 앞 원소와 교환한다. 이것을 $for-i$문을 통해 반복한다\n\n```python\ndef selection_sort(arr):\n    n= len(arr)\n    for i in range(n-1):\n        idx_smallest =i\n        for j in range(i+1,n):\n            if arr[j] < arr[idx_smallest]:\n                idx_smallest= j\n            arr[i],arr[idx_smallest]= arr[idx_smallest],arr[i]\n```\n\n## 2. 단순삽입정렬$straight\\,\\,insertion\\,\\,sort$ 이란?\n\n- 아직 정렬되지 않은 맨 앞 원소를 정렬된 부분의 알맞은 위치에 삽입하는 방법이다\n- 단순삽입정렬은 최선의 경우 $O(n)$ 최악의 경우 $O(n^2)$의 시간복잡도를 갖는다\n\n> 알고리즘 분석하기\n> \n> - 배열 $arr=[x_1,x_2,....,x_{n-1},x_n]$이 있다하자\n> - 두번째 원소 $x_2$가 앞 $x_1$과 비교하여 작으면 자리를 바꾸고 크면 그대로 있는다.\n> - 세번째 원소 $x_3$ 가 정렬된 배열( $\\{x_1,x_2\\}$로 구성된 배열)사이 적절한 위치에 삽입된다\n> - 네번째 원소 $x_4$가 정렬된 배열 ( $\\{x_1,x_2,x_3\\}$로 구성된 배열) 사이 적절한 위치에 삽입된다\n> - …\n> - 마지막 원소 $x_n$이 정렬된 배열  정렬된 배열 ( $\\{x_1,x_2,x_3,...,x_n\\}$로 구성된 배열) 사이 적절한 위치에 삽입된다\n- 기본 단순삽입정렬\n    - 비정렬된 배열의 맨 앞 원소 $head$ 가 맞닿은 왼쪽 원소와 비교를 한다. 만약 왼쪽원소가 $head$보다 크다면, 왼쪽 원소를 오른쪽 한칸 이동시킨다.\n    - 그리고 계속 반복하면서 만약 $head$가 왼쪽 원소보다 크다면  $while$문을 취소시키고 해당 위치에 삽입한다\n\n```python\ndef insertion_sort(arr):\n    n=len(arr)\n    for i in range(1,n):\n        head= arr[i]\n        j=i\n        while j>0 and arr[j-1]> head:\n            arr[j]= arr[j-1]\n            j= j-1\n        arr[j] = head\n```\n\n- 이진 삽입 정렬 $binary\\,\\,insert\\,\\,sort$\n    - $head$ 원소가 정렬된 배열안에서 어디에 위치에 있는지 이진 검색법을 활용하여 연산량을 줄이는 방법이다\n    - 기존버전\n        - 정렬된 배열안에서 이진검색법을 통해 $head$값이 있는지 찾아보았을 때 찾을수 없다면,  $head$를 삽입하고자하는 위치에서 $arr_{left},arr_{right},arr_{center}$가 모인다. 이때 $while$ $roop$가 한번 더 시행되면 $arr_{left}$제자리, $arr_{right}$는 한칸 왼쪽으로 이동한다\n        - 정렬된 배열안에서 이진검색법을 통해 $head$값이 있는지 찾아보았을 때 찾았다면, 그 위치 바로 옆에 $head$를 삽입한다\n    - 곰곰히 생각해본 결과 $if-else$문 필요없음 아 내 한시간\n\n```python\ndef binary_insertion(arr):\n    n= len(arr)\n    for i in range(1,n):\n        head= arr[i]\n        pl=0\n        pr=i-1\n\n        while True:\n            pc= (pl+pr) //2\n            if arr[pc] == head:\n                break\n            elif arr[pc] < head:\n                pl= pc +1\n            else:\n                pr= pc -1\n            if pl> pr  :\n                break\n\n        # if pl <= pr  :\n        #     arr_head= pc+1\n        # else:\n        #     arr_head= pr +1\n        arr_head= pr+1\n\n        for j in range(i,arr_head,-1):\n            arr[j] =arr[j-1]\n        arr[arr_head] = head\n```",
   "metadata": {
    "cell_id": "16d5926d39d840b49cf8abe3c568c1ef",
    "tags": [],
    "owner_user_id": "6620e961-4734-4451-b6f0-024902f1a0c6",
    "deepnote_cell_type": "markdown",
    "deepnote_cell_height": 2360.609375
   }
  },
  {
   "cell_type": "markdown",
   "source": "<a style='text-decoration:none;line-height:16px;display:flex;color:#5B5B62;padding:10px;justify-content:end;' href='https://deepnote.com?utm_source=created-in-deepnote-cell&projectId=5a548db0-9bec-4ed6-b090-9c062f32efdb' target=\"_blank\">\n<img alt='Created in deepnote.com' style='display:inline;max-height:16px;margin:0px;margin-right:7.5px;' src='data:image/svg+xml;base64,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' > </img>\nCreated in <span style='font-weight:600;margin-left:4px;'>Deepnote</span></a>",
   "metadata": {
    "tags": [],
    "created_in_deepnote_cell": true,
    "deepnote_cell_type": "markdown"
   }
  }
 ],
 "nbformat": 4,
 "nbformat_minor": 2,
 "metadata": {
  "orig_nbformat": 2,
  "deepnote": {},
  "deepnote_notebook_id": "10b4c553-bc63-4fa6-9f14-233e7c90c8ab",
  "deepnote_execution_queue": []
 }
}