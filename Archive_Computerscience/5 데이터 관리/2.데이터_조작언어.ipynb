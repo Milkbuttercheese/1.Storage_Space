{
 "cells": [
  {
   "cell_type": "markdown",
   "source": "# 2. 데이터 조작 언어 DML\n\n상태: SQL\n\n### 1.데이터 조작언어 $Data\\,\\,Manipulation\\,\\,Language$\n\n- 데이터를 테이블에 삽입,조회,수정,삭제를 할 수 있는 언어\n\n### 2.$DML$ 함수\n\n- 데이터 삽입하기\n    - $insert\\,\\,into\\,\\,table\\_name(field\\_name_1,field\\_name_2,...,field\\_name_n)$$values(val_1,val_2,...,val_n);$\n- 데이터 조회하기\n    - $select\\,\\,field\\_name_1,field\\_name_2,...,field\\_name_n\\,\\,from$$table\\_name\\,\\,[options]$\n    - $options$ \n        - 특정 조건 부여하기\n            - $where \\,\\,condition$\n            - $aggregate\\,\\,function$을 조건문에 사용하는경우 $where$ 대신 $having$을 사용해야 한다\n        - 출력 데이터 갯수$n$개로 제한하기\n            - $limit\\,\\,n$\n        - 테이블의 모든 필드 데이터 보기\n            - $select\\,\\,*$\n        - 원소 갯수 세기\n            - $select\\,\\,count(field\\_name)$\n        - 특정 필드기준으로 정렬하여 출력하기\n            - $order\\,\\,by\\,\\,field\\_name$ $[desc]$\n            - $default$는 오름차순, $desc$를 추가하면 내림차순이다\n            - $field\\_name$ 대신 숫자$n$를 입력할 수 있으며 이때 숫자$n$은 $select$ 명령어의 $n$번째 파라미터 필드로 해석한다\n        - 특정 필드의 카테고리별 갯수 세기\n            - $select\\,\\,field\\_name,count(field\\_name)\\,\\,from\\,\\,table\\_name$\n            \n            $\\,\\,\\,\\,\\,group\\,\\,by\\,\\,field\\,\\,name$ \n            \n            - $count$외에 그룹별로 평균,최댓값등의 연산$aggregate\\,\\,function$을 하는 데에 활용할 수 있다\n        - 중첩된 $select$문 :$query$문 내부에 사용되는 $select$ 문\n        \n- 데이터 수정하기\n    - $update\\,\\,table\\_name\\,\\,set\\,\\,field\\_name_1=val_1,field\\_name_2=val2,...field\\_name_n=val_n\\,\\,where[cond]$\n    - $where\\,\\, condition$에 변경하고자 하는 대상의 조건을 입력한다\n- 데이터 삭제하기: DELETE\n    - $delete\\,\\,from\\,\\,table\\_name\\,\\,  where[cond]$\n    - $where\\,\\, condition$에 변경하고자 하는 대상의 조건을 입력한다\n\n> 조건-비교(첨가하여 씀): $where$\n> \n> - $a= b$  :  $a$와 $b$가 같을 경우\n> - $a > b:$ $a$ 가 $b$보다 크다\n> - $a ≥ b :$ $a$가 $b$보다 크거나 같다",
   "metadata": {
    "cell_id": "f0fee61a3e3a4a56a0a90e5825174ee5",
    "tags": [],
    "owner_user_id": "6620e961-4734-4451-b6f0-024902f1a0c6",
    "deepnote_cell_type": "markdown",
    "deepnote_cell_height": 1444.1875
   }
  },
  {
   "cell_type": "markdown",
   "source": "<a style='text-decoration:none;line-height:16px;display:flex;color:#5B5B62;padding:10px;justify-content:end;' href='https://deepnote.com?utm_source=created-in-deepnote-cell&projectId=5a548db0-9bec-4ed6-b090-9c062f32efdb' target=\"_blank\">\n<img alt='Created in deepnote.com' style='display:inline;max-height:16px;margin:0px;margin-right:7.5px;' src='data:image/svg+xml;base64,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' > </img>\nCreated in <span style='font-weight:600;margin-left:4px;'>Deepnote</span></a>",
   "metadata": {
    "tags": [],
    "created_in_deepnote_cell": true,
    "deepnote_cell_type": "markdown"
   }
  }
 ],
 "nbformat": 4,
 "nbformat_minor": 2,
 "metadata": {
  "orig_nbformat": 2,
  "deepnote": {},
  "deepnote_notebook_id": "db0636ad-6b80-4cc0-80cd-4690f5efed34",
  "deepnote_execution_queue": []
 }
}