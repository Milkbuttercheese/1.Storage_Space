{
 "cells": [
  {
   "cell_type": "markdown",
   "source": "# 4.  $join$ 함수\n\n상태: SQL\n\n## 1. $join$이란 무엇인가?\n\n- 두 개 이상의 테이블이나 데이터베이스를 연결하여 마치 하나의 테이블 및 데이터베이스인 것 처럼 검색을 할 수 있게 해주는 명령어이다.\n- 이때 테이블로 연결되기 위해선 적어도 하나의 칼럼은 서로 공유되고 있어야 한다\n\n## 2. $join$의 종류\n\n- 교집합 $inner\\,\\,join$\n    - 두 테이블의 공통열과, 그 열원소를 포함하는 데이터를 각각의 테이블에서 가져와 출력하는 함수\n    - $select\\,\\,field\\_name_1,field\\_name_2,...,field\\_name_n$\n    - $from\\,\\,table\\_A\\,\\,inner\\,\\,join\\,\\,table\\_B\\,\\,on\\,\\,table\\_A.key_A=table\\_B.key_B$\n    \n    - $inner\\,\\,join$ 대신 $natural\\,\\,join$을 사용할 수 있다. $natural\\,\\,join$은 공통된 열을 자동으로 찾아준다.\n    - 같은 이름, 같은 값을 가진 열이 존재한다면 $table\\_A.key_A=table\\_B.key_B$ 을$using(col\\_name)$으로 대체하여 사용할 수 있다. 이경우 $key$ 열이 하나만 출력된다\n    \n- 외집합 $outer\\,\\,join$\n    - $left-join$\n        - 두 테이블의 공통열과, 그 열원소를 포함하는 데이터를 오른쪽 테이블에서, 왼쪽 테이블에선 전체 데이터를 가져와 출력하는 함수\n        - $select\\,\\,field\\_name_1,field\\_name_2,...,field\\_name_n$\n        - $from\\,\\,table\\_A\\,\\,left\\,\\,join\\,\\,table\\_B\\,\\,on\\,\\,table\\_A.key_A=table\\_B.key_B$\n    - $right-join$\n        - 두 테이블의 공통열과, 그 열원소를 포함하는 데이터를 왼쪽 테이블에서, 오른쪽 테이블에선 전체 데이터를 가져와 출력하는 함수\n        - $select\\,\\,field\\_name_1,field\\_name_2,...,field\\_name_n$\n        - $from\\,\\,table\\_A\\,\\,right\\,\\,join\\,\\,table\\_B\\,\\,on\\,\\,table\\_A.key_A=table\\_B.key_B$\n    - $full-join$\n        - 두 테이블 각각의 전체 데이터를 가져와 출력하는 함수\n        - $select\\,\\,field\\_name_1,field\\_name_2,...,field\\_name_n$\n        - $from\\,\\,table\\_A\\,\\,full\\,\\,join\\,\\,table\\_B\\,\\,on\\,\\,table\\_A.key_A=table\\_B.key_B$\n\n## 2.$subquery$.\n\n- 쿼리문 안에 또 하나의 쿼리문이 포함되어 있는 구조\n- $from$ 에서의 $subquery$\n    - $inner\\,\\,query$에서 조회된 값을 테이블처럼 활용할 수 있다\n    - $select\\,\\,field\\_name_1,field\\_name_2,...,field\\_name_n$$from\\,\\,(select\\sim \\,\\,from)$\n- $where$ 에서의 $subquery$\n    - $select\\,\\,field\\_name_1,field\\_name_2,...,field\\_name_n$$from\\,\\,table\\_name\\,\\,where\\,\\,field\\_name_1\\,\\,in\\,$\n        \n         $(select\\,\\,\\sim\\,\\,from)$",
   "metadata": {
    "cell_id": "12acb651ae3146ffb10e0641e8fe7d51",
    "tags": [],
    "deepnote_cell_type": "markdown",
    "deepnote_cell_height": 1358.734375
   }
  },
  {
   "cell_type": "markdown",
   "source": "",
   "metadata": {
    "cell_id": "a65166f6a980443bb07fe11f75f40933",
    "tags": [],
    "owner_user_id": "6620e961-4734-4451-b6f0-024902f1a0c6",
    "deepnote_cell_type": "markdown",
    "deepnote_cell_height": 46
   }
  },
  {
   "cell_type": "markdown",
   "source": "<a style='text-decoration:none;line-height:16px;display:flex;color:#5B5B62;padding:10px;justify-content:end;' href='https://deepnote.com?utm_source=created-in-deepnote-cell&projectId=5a548db0-9bec-4ed6-b090-9c062f32efdb' target=\"_blank\">\n<img alt='Created in deepnote.com' style='display:inline;max-height:16px;margin:0px;margin-right:7.5px;' src='data:image/svg+xml;base64,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' > </img>\nCreated in <span style='font-weight:600;margin-left:4px;'>Deepnote</span></a>",
   "metadata": {
    "tags": [],
    "created_in_deepnote_cell": true,
    "deepnote_cell_type": "markdown"
   }
  }
 ],
 "nbformat": 4,
 "nbformat_minor": 2,
 "metadata": {
  "orig_nbformat": 2,
  "deepnote": {},
  "deepnote_notebook_id": "9522b995-74fc-46c3-b1ed-7e208eddf8a6",
  "deepnote_execution_queue": []
 }
}