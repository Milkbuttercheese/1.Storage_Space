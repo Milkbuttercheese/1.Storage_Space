{
 "cells": [
  {
   "cell_type": "markdown",
   "source": "# 2.브랜치와 협업\n\n상태: 깃허브\n\n## 1. 브랜치 $branch$ 활용하기\n\n- 마스터$master$란 전체 작업공간의 부분공간\n- 브랜치$branch$는 다른 브랜치와 마스터에 영향을 주지 않기 때문에, 대형 프로젝트라면 각 기능별로 브랜치를 분리하여 작업한다.\n- 브랜치는 생성된 순간부터 마스터에 영향을 받지 않는다\n- 예)\n    - 카카오톡 개발\n        - 로그인 기능\n        - 회원가입 기능\n        - 채팅 기능\n        - 프로필 기능\n        - 쇼핑하기 기능\n        - 선물하기 기능 \n        \n        이 있다 하자. 만약 하나의 마스터 브랜치 $master\\,\\,branch$만 있다면, 하나의 기능에서 오류가 발생되면 전체 기능에서 오류가 발생된다\n        \n        아이디어: 각각의 기능들을 다루는 브랜치 $branch$로 분할하여 다뤄서 오류가 안나면, 마스터 브랜치 $master\\,\\,branch$로 합치자\n        \n\n## 2.브랜치 함수\n\n- 브랜치 목록 확인하기\n    - $git \\,\\,branch$\n- 브랜치 생성\n    - $git\\,\\,branch\\,\\,branch\\_name$\n- 브랜치 이동\n    - $git\\,\\,switch\\,\\,branch\\_name$\n- 브랜치 삭제\n    - $git\\,\\,branch\\,\\,-d\\,\\,branch\\_name$: $master$에 병합된 $branch$ 삭제\n    - $git\\,\\,branch\\,\\,-D\\,\\,branch\\_name$: 병합되지 않은 $branch$ 삭제\n- 모든 브랜치의 커밋 보기\n    - $git\\,\\,log\\,\\,--oneline\\,\\,--all\\,\\,--graph$\n- 브랜치 병합하기\n    - $git\\,\\,merge\\,\\,branch\\_name$\n\n## 3.다른 사람과 협업하기\n\n- $Feature\\,\\,Branch\\,\\,Workflow$ 저장소의 소유가 있는 경우\n    - $settings>collaborator>Who\\,\\,has\\,\\,access$를 통해 권한 부여\n    - 다른 과정은 다 똑같으나 $fork$대신 $clone$생성에 원본 $url$ 사용한다\n- $Forking\\,\\,Workflow$ 저장소의 소유권이 없는 경우\n    - 소유권이 없는 원격 저장소를 $fork$를 통해 내 원격 저장소로 복제\n    - 클론 생성\n        - $git\\,\\,clone\\,\\,url\\_of\\_fork$\n    - 원본 원격 저장소와 동기화\n        - $get\\,\\,remote\\,\\,add\\,\\,upstream\\,\\,url\\_of\\_original$\n    - 작업할 기능의 브랜치 생성\n        - $git \\,\\,branch\\,\\,branch\\_name$\n        - 계획된 기능 구현\n    - 해당 브랜치에 업로드\n        - $git\\,\\,push\\,\\,origin\\,\\,branch\\_name$\n    - $Pull\\,\\,Request$ 하기\n        - $github$ $fork$ 저장소로 들어가기 $>Pull\\,\\,Request$ 클릭\n        - $master$는 $base$로 , $campare$는 본인이 만든 $branch\\_name$으로 설정후 $Create\\,\\,Pull\\,\\,Request$ 클릭\n    - 병합된 내용 다운로드  및 기존 로컬 브랜치 삭제\n        - $git\\,\\,pull\\,\\,upstream\\,\\,master$\n        - $git\\,\\,branch\\,\\,-d\\,\\,branch\\_name$",
   "metadata": {
    "cell_id": "5fc08824564f4de2918541cf61e5a944",
    "tags": [],
    "owner_user_id": "6620e961-4734-4451-b6f0-024902f1a0c6",
    "deepnote_cell_type": "markdown",
    "deepnote_cell_height": 1811.046875
   }
  },
  {
   "cell_type": "markdown",
   "source": "<a style='text-decoration:none;line-height:16px;display:flex;color:#5B5B62;padding:10px;justify-content:end;' href='https://deepnote.com?utm_source=created-in-deepnote-cell&projectId=5a548db0-9bec-4ed6-b090-9c062f32efdb' target=\"_blank\">\n<img alt='Created in deepnote.com' style='display:inline;max-height:16px;margin:0px;margin-right:7.5px;' src='data:image/svg+xml;base64,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' > </img>\nCreated in <span style='font-weight:600;margin-left:4px;'>Deepnote</span></a>",
   "metadata": {
    "tags": [],
    "created_in_deepnote_cell": true,
    "deepnote_cell_type": "markdown"
   }
  }
 ],
 "nbformat": 4,
 "nbformat_minor": 2,
 "metadata": {
  "orig_nbformat": 2,
  "deepnote": {},
  "deepnote_notebook_id": "a1dab1f3-4e9e-4f74-85ca-ff5258c253b6",
  "deepnote_execution_queue": []
 }
}