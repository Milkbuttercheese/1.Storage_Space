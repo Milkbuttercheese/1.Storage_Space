{
 "cells": [
  {
   "cell_type": "markdown",
   "source": "상태: 연산 / 자료형\n\n## 1. 변수\n\n- 객체 $object$를 가르키는 것\n- 파이썬이 객체지향 언어라 불리는 것은 무슨 의미인가 [객체지향 프로그램이란?](https://www.youtube.com/watch?v=cg1xvFy1JQQ)\n\n### 1-1. 변수 정의하기\n\n- 자료형 지정하기\n    - 파이썬의 경우 직접 자료형을 지정할 필요가 없다 컴퓨터가 자동으로 정함\n- 변수 이름 짓기\n    - 변수명의 첫 문자는 영문자 또는 ‘_’ 언더바로 시작\n    - 첫 문자로 숫자와 특수문자 사용 X\n    - 대소문자 구분한다\n- 변수 중복 정의하기\n    - 똑같은 변수에 새로운 값이 덮어씌워지는 것이 아니라 새로운 변수가 선언되는 것이다( 전자와 후자의 주소가 다름!)\n    - 기존 변수는 없어지고 값은 불러올 수 없어진다\n- 두 변수 $a,b$가 같은 주소를 갖게하기\n    - $b=a$ 라고 하면  $id(a)=id(b)$로\n        - 즉시 두 값이 같을 뿐만 아니라 $a$의 값이 변경될 때 $b$값도 변경된다\n    - $b=a.copy()$ $or\\,\\,b=a[:]$ 라고 하면 $b$에 $a$의 원소값을 대입한 것으로\n        - 즉시 두 값이 같지만 $a$의 값이 변경된다고 해서 $b$값이 변경되지 않는다\n        - 그러나 $a,b$가 $list$형이고 원소로 또 $list$를 포함하는 경우 $list$속 $list$원소는 $id$가 같아서 동기화되는 의도치 않은 상황히 발생될 수 있다\n        - 이 경우 $b=copy.deepcopy(x)$를 사용하면 된다\n- 다중 변수 지정\n    - 튜플\n\t    - $a,b=(x_1,x_2)$ $or\\,\\,(a,b)=x_1,x_2$\n    - 리스트\n\t    - $a,b=[x_1,x_2] \\,\\,or\\,\\, [a,b]=x_1,x_2$",
   "metadata": {
    "cell_id": "6d722f71dfd34fb7b52aa54b80170526",
    "tags": [],
    "deepnote_cell_type": "markdown",
    "deepnote_cell_height": 906
   }
  },
  {
   "cell_type": "markdown",
   "source": "## 2.산술연산자\n\n상태: 연산 / 자료형\n\n### 산술연산자 $Arithmetic\\,\\,Operator$\n\n- 더하기 $addition$\n    - $x+y$\n- 빼기 $subtraction$\n    - $x-y$\n- 곱하기 $multiplication$\n    - $x *y$\n- 나누기 $division$\n    - $x/y$\n- 몫 구하기 $floor\\,\\,division$\n    - $x//y$\n- 나머지 구하기 $modulus$\n    - $x \\%y$\n- 제곱하기 $exponentiation$\n    - $x**y$\n\n- $ref.$ 몫과 나머지\n    - 정수 $a,b$이 있고, 다른 정수 $q,r$이 다음과 같은 관계라 하자\n    - $a=bq+r$\n    - $q$를 몫(정수부) $quotient$,  $r$을 나머지$remainder$라고 한다\n    \n- $ref.$\n\n[[Python Basic] 05. 파이썬 기본 연산자(Basic Operators)](https://gostart.tistory.com/206)",
   "metadata": {
    "cell_id": "5eb0f1cfbef145159bbb93338ee3b985",
    "tags": [],
    "deepnote_cell_type": "markdown",
    "deepnote_cell_height": 900.34375
   }
  },
  {
   "cell_type": "markdown",
   "source": "",
   "metadata": {
    "cell_id": "ae7cba7f19e9418a89f05040c2715461",
    "tags": [],
    "owner_user_id": "6620e961-4734-4451-b6f0-024902f1a0c6",
    "deepnote_cell_type": "markdown",
    "deepnote_cell_height": 46
   }
  },
  {
   "cell_type": "markdown",
   "source": "<a style='text-decoration:none;line-height:16px;display:flex;color:#5B5B62;padding:10px;justify-content:end;' href='https://deepnote.com?utm_source=created-in-deepnote-cell&projectId=5a548db0-9bec-4ed6-b090-9c062f32efdb' target=\"_blank\">\n<img alt='Created in deepnote.com' style='display:inline;max-height:16px;margin:0px;margin-right:7.5px;' src='data:image/svg+xml;base64,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' > </img>\nCreated in <span style='font-weight:600;margin-left:4px;'>Deepnote</span></a>",
   "metadata": {
    "tags": [],
    "created_in_deepnote_cell": true,
    "deepnote_cell_type": "markdown"
   }
  }
 ],
 "nbformat": 4,
 "nbformat_minor": 2,
 "metadata": {
  "orig_nbformat": 2,
  "deepnote": {},
  "deepnote_notebook_id": "0c53e877-8cf7-479a-b043-8d8d4b55f85a",
  "deepnote_execution_queue": []
 }
}