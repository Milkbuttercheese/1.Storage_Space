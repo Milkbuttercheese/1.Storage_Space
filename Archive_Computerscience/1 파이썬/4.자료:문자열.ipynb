{
 "cells": [
  {
   "cell_type": "markdown",
   "source": "# 4. 자료형: 사전형 / 집합형\n\n상태: 연산 / 자료형\n\n### 1.사전 자료형 $dictionary$\n\n- 순서를 가지고 있지 않다 ⇒ 인덱싱과 슬라이싱이 안된다\n- 키-값을 매핑시키는 자료형으로 순서-값으로 매칭되는 리스트나 튜플과 대비된다\n- $dict=\\{key_1:val_1, key_2:val_2,...,key_n,val_n\\}$ 꼴로 이루어짐\n- 키$key$로써 리스트나 튜플이 사용될 수 없다\n- 값$value$로써 리스트나 튜플, **함수**가 올 수 있다\n\n### 1-1. 사전 자료형 생성법\n\n- $a=\\{key_1:val_1, key_2:val_2,...,key_n,val_n\\}$ 꼴로 지정\n- $a= \\{key_1=val_1,key_2=val_2,...,key_n=val_n\\}$ 꼴로 지정\n    - 이 경우 $key_1,key_2,...,key_n$은 ‘’(따음표)를 안써도 자동으로 문자로 인식한다\n- $a=$ $dict([[key_1,val_1],[key_2,val_2],...,[key_n,val_n]])$\n- $keys=[key_1,key_2,...,key_n] ,\\,\\,vals=[val_1,val_2,...,val_n]$ 지정 후\n    - $a=dict(zip(keys,vals))$\n\n### 1-2 사전 함수\n\n- 사전 $a=\\{key_1:val_1, key_2:val_2,...,key_n,val_n\\}$ 가 있다하자\n- 사전에 원소 추가\n    - $a[key_{new}]=val_{new}$ 하면 새로운 원소쌍이 생긴다\n- 원소 제거\n    - $del \\,\\,a[key]$\n- 원소 모두 제거\n    - $a.clear()$\n- 키 리스트 보기\n    - $a.keys()$\n    - $dict\\_keys$  라는 자료형임\n- 값 리스트 보기\n    - $a.values()$\n    - $dict\\_values$ 라는 자료형임\n- 키와 값 쌍으로 얻기\n    - $a.items()$\n- 키로 값 얻기\n    - $a.get(key)$\n    - 존재하지 않는 $key$을 입력할 시 $none$을 출력한다\n- 해당 키가 사전 안에 있는지 확인하기\n    - $print(key \\,\\,in\\,\\,a)$\n        - 해당 키가 존재하면 $True$ 없으면 $False$ 가 뜬다\n\n### 2. 집합 자료형 $set$\n\n- 수학적 집합과 유사한 정의. 데이터를 원소로 하는 집합\n    - 중복을 허용하지 않는다\n    - 순서가 존재하지 않는다\n    - 집합을 생성할 떄 중괄호{} 를 사용하진 않지만 표기는 중괄호로 된다\n    \n\n### 2-1 집합 자료형 생성법\n\n- $a=set([x_1,x_2,...,x_n])$ $or \\,\\,set((x_1,x_2,...,x_n))$로 만든다\n- $a=set(['str'])$이 들어가는 경우 $str$의 글자단위로 쪼개지어 저장된다. 이때 중복이 삭제되고 순서는 고려되지 않는다\n- $a=frozenset([x_1,x_2,...,x_n]) \\,\\,or\\,\\,frozenset((x_1,x_2,...,x_n))$ 으로 생성하면 변경불가능한 집합을 생성할 수 있다\n\n### 2-2.집합의 함수\n\n- $a=set((x_1,x_2,...,x_n))$ 이고 $b=set((y_1,y_2,...,y_m))$이라 하자\n- 교집합\n    - $a \\,\\& b$\n    - $a.intersection(b)$\n- 합집합\n    - $a |b$\n    - $a.union(b)$\n- 차집합\n    - $a-b$\n    - $a.difference(b)$\n- 원소 한개 추가\n    - $a.add(x)$\n- 원소 여러개 추가\n    - $a.update((x_1,x_2,..,x_n))\\,\\,or\\,\\,a.update([x_1,x_2,...,x_n])$\n- 원소 제거 (값에 따른)\n    - $a.remove(x)$",
   "metadata": {
    "cell_id": "3ee334493d2244f89510a5433c85ef44",
    "tags": [],
    "deepnote_cell_type": "markdown",
    "deepnote_cell_height": 2162.6875
   }
  },
  {
   "cell_type": "markdown",
   "source": "",
   "metadata": {
    "cell_id": "1df4ac0b5e504e6c9a4543aad8bf8be8",
    "tags": [],
    "owner_user_id": "6620e961-4734-4451-b6f0-024902f1a0c6",
    "deepnote_cell_type": "markdown",
    "deepnote_cell_height": 46
   }
  },
  {
   "cell_type": "markdown",
   "source": "<a style='text-decoration:none;line-height:16px;display:flex;color:#5B5B62;padding:10px;justify-content:end;' href='https://deepnote.com?utm_source=created-in-deepnote-cell&projectId=5a548db0-9bec-4ed6-b090-9c062f32efdb' target=\"_blank\">\n<img alt='Created in deepnote.com' style='display:inline;max-height:16px;margin:0px;margin-right:7.5px;' src='data:image/svg+xml;base64,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' > </img>\nCreated in <span style='font-weight:600;margin-left:4px;'>Deepnote</span></a>",
   "metadata": {
    "tags": [],
    "created_in_deepnote_cell": true,
    "deepnote_cell_type": "markdown"
   }
  }
 ],
 "nbformat": 4,
 "nbformat_minor": 2,
 "metadata": {
  "orig_nbformat": 2,
  "deepnote": {},
  "deepnote_notebook_id": "e6f3f54a-b723-498c-9dc0-cafde7a97bf0",
  "deepnote_execution_queue": []
 }
}