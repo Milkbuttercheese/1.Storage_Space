{
 "cells": [
  {
   "cell_type": "markdown",
   "source": "# 1. 모듈\n\n상태: 함수 / 클래스 / 모듈\n\n## 1. 모듈이란 무엇인가?\n\n- 여러개의 클래스,함수,변수를 저장하는 상위개념 .\n- **모듈을 $import$하는 순간부터 그 모듈은 메모리를 할당받은 객체$object$가 된다**\n- $pip,easy\\_install$과 같은 명령어를 통해 설치를 할 수 있다\n- $import \\,\\,sys$ ⇒ $sys.path$를 했을 때 출력되는 파일 위치내에 파일이 존재해야 모듈로 기능할 수 있다\n\n### 1-1. 모듈의 장점\n- 코드 재사용성 높아진다\n- 메모리를 절약한다\n- 필요에 따라 모듈을 만들고 파일로 저장하여 배포할 수 있다\n\n### 1-2. 모듈 문법구조\n\n```python\n#모듈 불러오기\nimport module_name\n#모듈에서 특정 함수만 불러오기 \nfrom module_name import func_name\n#모듈내 함수 사용하기\nmodule_name.func_name(var)\n```\n\n### 1-3. __$name$__ 이란 무엇인가?\n\n- 파일을 직접 실행시키는 위치인 경우: __$main$__ 이 출력된다\n    - $ref.$ 모듈이 있는 파일위치에서 주소창에 $cmd$를 입력할 것\n- 파일을 간접 실행시키는 위치인 경우: 모듈의 이름이 출력된다\n- 파일 실행 위치에 따라 명령어를 다르게 시행하도록 조건문을 달 수 있다",
   "metadata": {
    "cell_id": "c99e2204072d4e9fada74b24813b5982",
    "tags": [],
    "deepnote_cell_type": "markdown",
    "deepnote_cell_height": 871.34375
   }
  },
  {
   "cell_type": "markdown",
   "source": "# 2. 클래스\n\n상태: 함수 / 클래스 / 모듈\n\n## 1. 클래스란?\n\n- 객체를 표현하는 문법/ 객체를 만들어내는 활판$letter\\,\\,press$\n- 객체란 또 무엇인가?\n    - 파이썬에선 객체라는 단위로 메모리 위에서 정보를 관리한다\n    - 객체는 각자의 데이터 자료형을 가지고 있다\n    - 객체는 다른객체와 구별될 수 있는 고유의 식별번호 $identity$를 가지고 있다\n    - 변수$variable$는 객체의 주소를 담는 이름표로, 변수를 부르면 변수가 담고있는 객체를 호출해주는 역할을 한다.\n- 메소드: 클래스 내부의 함수\n\n### 1-1. 클래스 문법 형식\n\n```python\n# 클래스 생성 \nclass class_name:\n\tdef f_1(self,x_1,x_2,...,x_n):\n\t\t실행할 명령문 1\n\n\tdef f_2(self,y_1,y_2,...,y_m)\n\t\t실행할 명령문 2\n\t\t...\n\tdef f_n(self,y_1,y_2,...,y_m)\n\t\t실행할 명령문 n\n\n#객체 생성\n#이 경우 obj_1는 class_name()의 인스턴스다 라고 표현한다\n\nobj= class_name()\nprint(obj.f_j(var)) 또는\nprint(class_name.f_j(var))로 호출\n\n#모듈 module_name에 있는 클래스를 사용할 경우\nprint(module_name.class_name.f_j(var)) 가능\n```\n\n### 1-2. $class$ 에서 $self$의 의미는 무엇인가?\n\n- $self$: $class$ 호출을 통해 만들어진 객체 스스로를 지칭함/\n- 원래는 $class$에게  객체가 누군지도 알려줘야 한다. 그러나 보통 객체.메소드() 형식으로 이미 객체에 대한 정보를 제공하기 때문에 이러한 경우 $self$란 디폴트가 객체가 누군지를 표현하는 걸 생략가능하게 해주는 것이다\n\n### 1-2. 인스턴스 변수와 클래스 변수\n\n- 클래스 변수 : 같은 클래스의 인스턴스들 끼리 공유하는 공통된 변수\n- 인스턴스 변수:각 인스턴스마다 개별적으로 갖는다.\n    - 생성자 $init$: 객체가 생성하는 순간 동작하는 메소드로, 인스턴스 변수를 선언하는데 실과 바늘처럼 함께 쓰인다\n\n```python\n# 클래스 생성 (__init__(self) 사용시)\n#x_1,x_2,...,x_n을 받아와 self.x_1,self.x_2,...,self.x_n에 저장한다\nclass class_name:\n\tdef __init__(self,x_1,x_2,...,x_n):\n\t\tself.x_1 = x_1\n\t\tself.x_2 = x_2\n\t\t...\n\t\tself.x_m = x_m\n\n#\t아래의 함수의 매개변수는 self.x_1,sefl.x_2,...,self.x_n을 써야한다\n\tdef f_1(self):\n\t\t실행할 문장 1\n\t\n\tdef f_2(self):\n\t\t실행할 문장 2\n\t\t\t...\n\tdef f_n(self):\n\t\t실행할 문장 n\n_______________________________________________\n이 경우 f_1,f_2,...,f_n의 arguement엔 별도의  parameter의 입력없이 \nself.x_1,self.x_2,...,self.x_m이 들어간다. \n\n```\n\n### 1-3. 클래스 상속\n\n- 자식 클래스가 부모 클래스에게서 상속(메서드,속성)을 이어 받는다는 것\n- 클래스 상속 문법 형식\n    - $class\\,\\,child\\_class(parent\\_class):$\n- 메소드 덮어쓰기(메소드 오버라이딩)\n    - 자식 메소드명과 부모 메소드명이 동일할 경우 자식 메소드가 실행된다",
   "metadata": {
    "cell_id": "efe6282c41e14381a0e9762943280d4a",
    "tags": [],
    "deepnote_cell_type": "markdown",
    "deepnote_cell_height": 2007.34375
   }
  },
  {
   "cell_type": "markdown",
   "source": "",
   "metadata": {
    "cell_id": "1a815e8927904b2c995cfe94948220a7",
    "tags": [],
    "owner_user_id": "6620e961-4734-4451-b6f0-024902f1a0c6",
    "deepnote_cell_type": "markdown",
    "deepnote_cell_height": 46
   }
  },
  {
   "cell_type": "markdown",
   "source": "<a style='text-decoration:none;line-height:16px;display:flex;color:#5B5B62;padding:10px;justify-content:end;' href='https://deepnote.com?utm_source=created-in-deepnote-cell&projectId=5a548db0-9bec-4ed6-b090-9c062f32efdb' target=\"_blank\">\n<img alt='Created in deepnote.com' style='display:inline;max-height:16px;margin:0px;margin-right:7.5px;' src='data:image/svg+xml;base64,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' > </img>\nCreated in <span style='font-weight:600;margin-left:4px;'>Deepnote</span></a>",
   "metadata": {
    "tags": [],
    "created_in_deepnote_cell": true,
    "deepnote_cell_type": "markdown"
   }
  }
 ],
 "nbformat": 4,
 "nbformat_minor": 2,
 "metadata": {
  "orig_nbformat": 2,
  "deepnote": {},
  "deepnote_notebook_id": "7af649f4-0d95-4b08-bec4-7283ae373f7c",
  "deepnote_execution_queue": []
 }
}