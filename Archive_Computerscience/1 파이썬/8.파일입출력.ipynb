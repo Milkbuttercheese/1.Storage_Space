{
 "cells": [
  {
   "cell_type": "markdown",
   "source": "# 파일 입출력(with 판다스)\n\n상태: 함수 / 클래스 / 모듈\n\n## 1. 파일 입출력 명령어는 무엇이 있을까?\n\n- 파일 생성\n- 파일 수정\n- 파일 저장\n\n### 1-1. 파일 읽기/쓰기\n\n- $file\\_var =\\,\\,open('file\\_name','mode')$\n- 모드 종류\n    - $'r'$ : 읽기 모드\n    - $**'w'$ : 쓰기 모드**\n        - **기존의 파일이 있을 경우 $w$로 열면 기존 파일 내용이 전부 삭제**\n        - 기존 파일이 없을 경우 $w$로 열게 되면 새 파일이 만들어진다\n    - $'x'$ : 쓰기 모드( 파일이 있으면 오류 발생)\n    - $'a'$: 쓰기 모드 (파일이 있으면 뒤에 내용을 추가)\n    - $'+'$: 읽기, 쓰기 모드\n    - $'t'$ : 텍스트 모드\n    - $'b'$ : 바이너리 모드( 시스템만 해석가능. 사용자는 못읽음)\n- $pickle.dump(detail,file\\_name)$\n- 파일 읽을 때 경로: 둘중 하나로 입력하여야 한다\n    - 상대경로\n        - 작성중인 스크립트의 저장 위치에서 파일 위치까지 내려가는 경로\n        - 예:data/대한민국_주요_도시_인구수.csv\n    - 절대경로\n        - 최상위 위치부터 시작하여 파일의 위치까지 내려가는 경로\n        - 예:c:/jupyter/pandas/data/대한민국_주요_도시_인구수.csv\n- 파일 닫기\n    - $file\\_var.close()$\n    \n\n### 1-2. 내용 추가/ 읽기\n\n- 내용추가\n    - $file\\_var.write(detail)$\n        - 변수 $detail$의 내용이 파일에 저장된다\n- 파일 내용 한줄씩 순서대로 읽기\n    - $file\\_var.readline()$\n        - 그렇기에 $while$문과의 조합이 잘 활용된다\n        - 한줄을 읽으면 포인터(커서)가 다음줄로 이동한다\n- 파일 내용 한줄 한줄을 요소로 리스트에 저장하기\n    - $file\\_var.readlines()$\n        - $j+1$ 번째 줄 읽기\n            - $lines=file\\_var.readlines()$\n            - $print(lines[j])$\n\n### 1-2-1. 전체내용 읽기\n\n```python\n\n# 1. read() 활용법\n# 파일 내용 전체를 문자열로 저장한다\nprint(file_var.read())\n\n# 2. readlines() 활용법\n# 파일 내용 한줄 한줄을 리스트의 각 요소로 저장한다\nfile_var =open('file_name','r')\nlines=f.readlines()\nfor line in lines:\n\tprint(line)\nf.close()\n\n# 3. readline() & while 활용법\nfile_var(file, 'r')\nwhile True:\n\tline=f.readline()\n\tif not line:\n\t\tbreak\n\telse:\n\t\tprint(line)\n```\n\n### 1.3 $with$문 문장구조\n\n```python\nwith open('file_name','mode') as file_var:\nfile_var.write(x)\n```\n\n## 2.$csv$파일 정보 데이터프레임에 담기\n\n- $df=pd.read\\_csv('./file\\_name.csv')$\n- $df=pd.read\\_excel('./file\\_name.xlsx')$\n    - 맨 처음 행이 열 이름으로 지정된다\n    - 맨 처음 행이 열이름이 되지 않길 원하는 경우 $header=None$ 인자 입력\n    - 인덱스를 사용하지 않길 원하는 경우 $index\\_col=0\\,\\,or\\,\\,None$ 입력\n    - 특정 열을 인덱스로 사용하고 싶은 경우 $index\\_col=$ $col\\_name$ 입력",
   "metadata": {
    "cell_id": "cca8aa235d86467eb0f417d2bbc0b684",
    "tags": [],
    "owner_user_id": "6620e961-4734-4451-b6f0-024902f1a0c6",
    "deepnote_cell_type": "markdown",
    "deepnote_cell_height": 2344.390625
   }
  },
  {
   "cell_type": "markdown",
   "source": "",
   "metadata": {
    "cell_id": "c6e010a9213e45a482c589f865b82a6d",
    "tags": [],
    "deepnote_cell_type": "markdown",
    "deepnote_cell_height": 46
   }
  },
  {
   "cell_type": "markdown",
   "source": "<a style='text-decoration:none;line-height:16px;display:flex;color:#5B5B62;padding:10px;justify-content:end;' href='https://deepnote.com?utm_source=created-in-deepnote-cell&projectId=5a548db0-9bec-4ed6-b090-9c062f32efdb' target=\"_blank\">\n<img alt='Created in deepnote.com' style='display:inline;max-height:16px;margin:0px;margin-right:7.5px;' src='data:image/svg+xml;base64,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' > </img>\nCreated in <span style='font-weight:600;margin-left:4px;'>Deepnote</span></a>",
   "metadata": {
    "tags": [],
    "created_in_deepnote_cell": true,
    "deepnote_cell_type": "markdown"
   }
  }
 ],
 "nbformat": 4,
 "nbformat_minor": 2,
 "metadata": {
  "orig_nbformat": 2,
  "deepnote": {},
  "deepnote_notebook_id": "d284dfa0-65df-4cb7-804e-017382045538",
  "deepnote_execution_queue": []
 }
}