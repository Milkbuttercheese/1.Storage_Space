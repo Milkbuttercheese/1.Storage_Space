{
 "cells": [
  {
   "cell_type": "markdown",
   "source": "# 1. 함수\n\n상태: 함수 / 클래스 / 모듈\n\n## 1. 함수를 왜 만드는가?\n\n- 반복적인 사용을 하는 명령어를 간단하게 쓰기 위해\n- 코드를 분리하여 관리함으로서 오류를 줄이기에  좋으므로\n\n### 1-1. 함수 문장구조\n\n```python\ndef f(x_1,x_2,...,x_n):\n\t실행문장1 g_1(x_1,x_2,...,x_n)\n\t실행문장2 g_2(x_1,x_2,...,x_n)\n\t...\n\t실행문장n g_m(x_1,x_2,...,x_n)\n\treturn h(x_1,x_2,...,x_n) \n```\n\n- 매개변수 $parameter$\n    - $x_1,x_2,...,x_n$\n    - 함수를 정의하는 데 쓰는 변수\n- 인자 $argument$\n    - 함수를 호출할 때 전달하는 값\n- $return$\n    - 함수를 호출한 측에 값 $h$를 전달하는 기능을 하는 명령어\n- 변수의 종류(유효 범위)\n    - 변수가 함수 밖에서 정의되면 전역 변수 ⇒ 모든 곳에서 정의됨\n    - 변수가 함수 내에서 정의되면 지역 변수⇒ 함수 내에서만 정의됨\n    - 함수 안에서 함수 밖의 변수의 값 변경하기 $global$\n        - 함수 밖 변수를 함수 안 $parameter$로 활용하겠다고 선언하는 함수\n    - 제어문에서 쓰는 더미변수도 지역변수 같아 보이지만 $for\\,\\,x\\,\\,in\\,\\,list\\,\\,a$ 나 $while\\,\\, f(x)$ 조건문의 경우 $x$의 마지막값이 $x$에 저장된다\n    \n\n### 1-2. 함수의 종류\n\n- 입력값- 결과값 유무에 따른 분류\n    - 입력값 $O$ , 결과값 $O$ 함수\n        - 일반적인 함수 형태\n    - 입력값 $O$ , 결과값 $X$ 함수\n        - $return$이 없는 함수로 결과로 $none$을 받게 된다\n        - 함수 내부의 실행문은 실행된다\n    - 입력값 $X$ , 결과값 $O$ 함수\n    - 입력값 $X$, 결과값 $X$ 함수\n\n### 1-3. 함수의 인수(인자)$\\,\\,argument\\,\\,of\\,\\,function$\n\n- 매개변수: 함수를 정의할 때 사용되는 변수\n- 인자: 함수를 호출할 때 전달하는 값\n- 인수의 기본값 $default$\n    - 함수를 호출할 때 인자를 넘겨주지 않으면 자동으로 특정 값을 대입하는 기능\n    - $default$를 설정하고 싶다면 변수 뒷부분부터 지정해야 한다.(안그러면 컴퓨터가 헷갈려하므로)\n- 키워드 인자\n    - $argument$의 순서를 고려할 필요 없게 $parameter$를 직접 표현하는 방법\n    - $f(par_1=val_1,par_2=val_2,...,par_n=val_n)$\n        - $parameter$의 순서는 상관없다.\n- 키워드 인자로 함수 호출 문법 형식 ($parameter$와 $argument$가 같아야만 사용가능)\n    - $dict_1=\\{key_1:val_1,key_2:val_2,...,key_n:val_n\\}$\n    - $def\\,\\,f(val_1,val_2,...,val_n):$\n        - $return\\,\\,g(val_1,val_2,...,val_n)$\n    - 입력: $f(**dict_1)$ ⇒ 출력 $g(val_1,val_2,val_n)$\n    \n\n### 1-4.함수의 인자$arugment$와 매개변수$parameter$의 관계\n\n- 파이썬의 매개변수$parameter$엔 실제로 인자$argument$가 들어간다.\n- 함수안에서 매개변수$parameter$값이 변할때 인자값$argument$값이 업데이트 되는 것은 매개인자의 $dtype$에 달려 있다\n    - 인자의 $dtype$가 $mutable$이면: 값이 업데이트 된다\n    - 인자의 $dtype$이 $immutable$이면: 값이 업데이트 되지 않는다\n- 이는 매개변수에 인수값을 복사하는 방식$call\\,\\,by\\,\\,value$나 매개변수와 인수가 같아지는 $call\\,\\,by \\,\\,reference$도 아닌 파이썬 고유의 방식이다\n\n### 1-5. 다양한 함수의 정의법\n\n- 가변 인자 함수  $variable\\,\\,argument\\,\\,function$\n- 함수의 형태\n    - $*args$에 입력되는 값은 $tuple$의 형태로 전달된다\n    - 함수의 형태\n        - $def\\,\\,f(x,*args):$\n            - 실행할 문장 1\n            - 실행할 문장 2\n            - ...\n            - 실행할 문장 n\n            - 결과값 반환\n    - 입력 $f(x_1,x_2,...,x_n)\\,\\,or\\,\\,f(*list)$\n- 람다 함수\n    - 간단한 함수를 쉽게 선언하는 방법\n    - $f=\\,\\,lambda\\,\\,par_1,par_2,...,par_n:return\\_value$\n    - 리스트 안에 함수를 정의하는 것도 가능하다\n        - $list=[lambda:par_1,par_2,...,par_n:return\\_val_1,\\,\\,\\,\\,\\,\\,\\,\\,\\,\\,lambda:par_1,par_2,...,par_n:return\\_val_2,...,\\,\\,\\,\\,\\,\\,\\,\\,\\,\\,lambda:par_1,par_2,...,par_n:return\\_val_m]$",
   "metadata": {
    "cell_id": "8a56c6a235204e71b95b780f7aa30cfe",
    "tags": [],
    "deepnote_cell_type": "markdown",
    "deepnote_cell_height": 2448.1875
   }
  },
  {
   "cell_type": "markdown",
   "source": "# 2. 내장 함수\n\n상태: 함수 / 클래스 / 모듈\n\n## 1. 내장함수와 외장함수란?\n\n- 내장함수: 파이썬 내에 기본적으로 탑재 되어있는 함수\n- 외장함수: 외부 모듈을 $import$ 하여 사용하는 함수\n\n### 1-1. 내장함수의 예\n\n- $all$\n    - 자료형 $list,tuple$ 을 입력받는다\n    - 자료형 내부 요소가 모두 참이면 $True$ 하나라도 거짓이면 $False$를 받는다\n- $any$\n    - 자료형 $list,tuple$을 받는다\n    - 자료형 요소가 하나라도 참이면 $True$, 모두 거짓이면 $False$를 받는다\n- $chr$\n    - 아스키코드 받아 해당 문자로 변환해주는 함수\n    - 반대로 $ord$ 는 문자열을 아스키코드 숫자로 변환해준다\n    \n    [ASCII Table - 아스키 코드표](https://shaeod.tistory.com/228)\n    \n- $dir$\n    - 해당 객체가 자체적으로 가지고 있는 함수와 변수를 보여줌\n- $divmod$\n    - 두 개의 $argument$를 $input$으로 받는다\n    - 앞의 $argument$가 뒤의 $argument$를 나눈 몫과 나머지를 $tuple$ 형태로 반환\n- $enumerate$\n    - 순서가 있는 자료형($list,tuple,str)$을 $input$ 으로 받는다\n    \n    ```python\n    for i, name in enumerate(list):\n    \tprint(i,name)\n    \n    => 0, name_0\n       1, name_1\n       2, name_2\n    , ....\n    꼴로 출력된다\n    ```\n    \n- $eval$\n    - 문자열이 실행가능한 명령어 표현이라면 실행된다\n- $int$\n    - 문자열이나 실수를 정수형 자료형으로 반환한다\n    - 실수는 내림처리 한다\n    - 인자가 2개 $int('a',b)$ 가 올 경우\n        - $b$ 진법의 $'a'$ 값임을 의미하며\n        - 해당 값을 10진수로 표현하게 된다\n- $isinstance$ 함수\n    - 객체가 해당 클래스의 인스턴스인지 확인하는 용도로 사용하는 함수\n    - 인자가 2개 필요(객체,클래스)\n- $filter$\n    - 조건이 들어간 함수를 먼저 생성 후 값을 넣어서 걸러주는 역할\n    - 인자 2개 필요( 필터 역할 함수, 필터에 걸러질 자료형)\n    - $lambda$ 함수 표현법으로 잘 활용한다\n- $map$ 함수\n    - $map(function\\_name,lst\\_name)$\n    - 리스트 원소 각각에 함수가 적용된다\n- $max$  함수\n    - 자료형이 같을 때 비교하여 제일 큰 값을 반환한다\n    - 문자의 경우 아스키코드값으로 비교한다\n- $min$ 함수\n    - 자료형이 같을 때 비교하여 제일 작은 값을 반환한다\n- $pow$ 함수\n    - 인자가 2개 필요( 제곱할 숫자, 지수)\n- $range$ 함수\n    - 인자가 1,2,3개 가능 ($a,b ,$ $d)$\n    - $[a,b)$ 범위 내에서 $a$ 으로 시작하여 공차 $d$이고 $b$미만 까지의 원소를 갖는 수열을 $output$으로 한다\n    - 공차 $d$ 는 음수가 올 수 있다. 그럴경우 내림차순 수열이 생성된다\n        - 인자가 1개이면 $a=0 ,\\,\\,d=1$\n        - 인자가 2개이면 $d=1$\n- $round$ 함수\n    - 인자를 2개 가지고 있다 $(a,b)$\n    - 반올림해주는 역할을 한다\n        - 인자 1개이면 숫자$a$ 의 끝자리를 반올림 한다\n        - 인자 2개이면 숫자 $a$를 소숫점 $b$자리 까지 반올림한다\n- $sorted$ 함수\n    - 입력값을 받아서 정렬 후 리스트로 결과를 반환한다\n- $str$ 함수\n    - 입력값을 받아서 문자열 형태로 결과를 반환한다\n- $sum$ 함수\n    - 리스트나 튜플을 받아서 원소들을 합하여 출력\n- $zip$ 함수\n    - 리스트나 튜플, 문자열등의 여러개의 인자를 받을 수 있다\n    - 인자로 들어오는 자료형의 원소 갯수는 동일해야 한다\n    - $list(zip([x_1,x_2,...,x_n],[y_1,y_2,...,y_n]))=[(x_1,y_1),(x_2,y_2),...,(x_n,y_n)]$",
   "metadata": {
    "cell_id": "acc37e86feea4e999621363495eafedf",
    "tags": [],
    "deepnote_cell_type": "markdown",
    "deepnote_cell_height": 2661.5
   }
  },
  {
   "cell_type": "markdown",
   "source": "# 3. 외장함수\n\n상태: 함수 / 클래스 / 모듈\n\n## 2. 외장함수\n\n- 시스템에서 기본 제공하는 외장함수\n    - $sys$ 모듈\n        - 시스템과 관련된 함수와 변수를 담고 있는 모듈\n            - $sys.exit()$ : 프로그램을 강제로 중단하는 함수\n            - $sys.path$: 모듈로 사용할 수 있는 경로가 표기\n    - $pickle$ 모듈\n        - 객체의 형태를 그대로 유지하면서 파일에 저장하고 불러올 수 있게 해주는 모듈 ( 기존의 $write()$ 함수는 $str$ 만 사용가능하므로)\n        - $open\\_mode$를 우선 $'wb'$로 설정 ($wb$는 $binary$ 파일로 시스템만 해석가능한 파일/ 인간이 보는건 ASCII Text 파일)\n        - $pickle.dump(detail,file\\_var)$\n            - 변수 $detail$의 내용을 파일에  저장한다\n        - $open\\_mode$를 우선 $'rb'$로 설정 ($wb$는 $binary$ 파일로 시스템만 해석가능한 파일/ 인간이 보는건 ASCII Text 파일)\n        - $var=pickle.load(file\\_var)$\n            - 변수 $var$에 파일의 내용을 저장함\n    - $os$ 모듈\n        - 운영체제를 제어할 때 사용하는 모듈\n        - $os.getcwd()$\n            - 현재 작업중인 폴더의 경로가 출력된다\n        - $os.chdir()$\n            - 입력값으로 경로를 이동하기\n        - 시스템 명령어 호출 $(cmd$  창에서 활용$)$\n        - $os.system('dir')$\n            - 작업하는 폴더 내 파일들이 출력된다\n        - $os.system('cls')$\n            - 명령어 창을 깨끗이 비움\n        - $os.mkdir('directory\\_name')$\n            - 폴더를 생성함\n        - $os.rmdir('directory\\_name')$\n            - 폴더를 제거함\n        - $cmd$ 아니여도 사용가능\n        - $os.unlink('file\\_name')$\n            - 파일을 제거함\n        - $os.rename('file\\_name',' after\\_file\\_name')$\n            - 기존 파일명을 $after\\_file\\_name$ 으로 변경함\n    - $shutil$  모듈\n        - $shuti.copy('original_\\_file,result\\_file)$\n            - 결과 파일과 이름이 같은 파일이 있을 경우 덮어 씌워진다\n    - $glob$ 모듈\n        - $shuti.glob($경로\\\\파일$)$\n            - 폴더 경로와 파일 이름을 입력하면 해당 조건에 맞는 파일의 전체 이름을 검색할 수 있다\n            - $str\\_$* 라 입력하면 $str\\_$ 로 시작하는 모든 파일이 검색된다\n    - $random$ 모듈\n        - 규칙이 없는 숫자를 발생시키는 명령어\n        - $random.random()$\n            - 0과 1사이 실수를 발생시키는 함수\n        - $random.randint(a,b)$\n            - $[a,b]$ 사이 정수를 무작위를 발생시키는 함수\n        - $random.uniform(a,b)$\n            - $[a,b]$ 사이 실수를 무작위로 발생시키는 함수\n        - $random.choice(data\\_name)$\n            - 리스트나 튜플, 문자열등의 자료형이 $input$ 들어와 그중 무작위로 하나를 $output$으로 내논다\n        - $random.shuffle($ $data\\_name)$\n            - 리스트나 튜플의 자료형의 원소 숫자가 무작위로 뒤바뀐다",
   "metadata": {
    "cell_id": "189e6f659695437eb98f605ccb27ceff",
    "tags": [],
    "deepnote_cell_type": "markdown",
    "deepnote_cell_height": 1818.5
   }
  },
  {
   "cell_type": "markdown",
   "source": "",
   "metadata": {
    "cell_id": "cec646d1bcf644ebb9e2d21c51cb4265",
    "tags": [],
    "owner_user_id": "6620e961-4734-4451-b6f0-024902f1a0c6",
    "deepnote_cell_type": "markdown",
    "deepnote_cell_height": 46
   }
  },
  {
   "cell_type": "markdown",
   "source": "<a style='text-decoration:none;line-height:16px;display:flex;color:#5B5B62;padding:10px;justify-content:end;' href='https://deepnote.com?utm_source=created-in-deepnote-cell&projectId=5a548db0-9bec-4ed6-b090-9c062f32efdb' target=\"_blank\">\n<img alt='Created in deepnote.com' style='display:inline;max-height:16px;margin:0px;margin-right:7.5px;' src='data:image/svg+xml;base64,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' > </img>\nCreated in <span style='font-weight:600;margin-left:4px;'>Deepnote</span></a>",
   "metadata": {
    "tags": [],
    "created_in_deepnote_cell": true,
    "deepnote_cell_type": "markdown"
   }
  }
 ],
 "nbformat": 4,
 "nbformat_minor": 2,
 "metadata": {
  "orig_nbformat": 2,
  "deepnote": {},
  "deepnote_notebook_id": "d46cda8a-563d-4311-9bd1-5ba3e4a6bf92",
  "deepnote_execution_queue": []
 }
}