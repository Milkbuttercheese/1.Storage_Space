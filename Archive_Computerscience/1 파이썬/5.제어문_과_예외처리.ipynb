{
 "cells": [
  {
   "cell_type": "markdown",
   "source": "# 1. 제어문 : if 문\n\n상태: 연산 / 자료형\n\n## 1. if문\n\n- 참과 거짓을 판단하는 문장\n- 비교 연산자를 활용한다\n    - 크기 비교가 가능한 변수 또는 상수 $x,y$가 있다고 하자\n    - $x <y$     $x$가 $y$ 보다 작다\n    - $x>y$    $x$가 $y$ 보다 크다\n    - $x == y$  $x$가 $y$와 같다\n    - $x \\,!=y$   $x$가 $y$와 같지 않다\n    - $x >=y$  $x$가 $y$보다 크거나 같지 않다\n\n### 1-1. if-else 문장구조\n\n```python\nif 조건문:\n\t수행할 문장 1\nelse :\n\t수행할 문장 2\n```\n\n- 수행\n    - 참일 경우 수행할 문장 1이 실행되고\n    - 거짓일 경우 수행할 문장 2가 실행된다\n\n### 1-2. if-elif-else 문장구조\n\n```python\n\nif 조건문1 :\n\t수행할 문장 1\n\nelif 조건문 2:\n\t수행할 문장 2\nelif 조건문 3:\n\t수행할 문장3\n...\nelif 조건문 n:\n\t수행할 문장 n+1\n\nelse:\n\t수행할 문장n+2\n\n```\n\n- 수행\n    - 처음 조건에 참일 경우 수행할 문장 1이 실행되고\n    - 다음 조건($elif$ 조건문)에 참일 경우 수행할 문장 2가 실행되고\n    - 다다음 조건($elif$  조건문2)에 참일 경우 수행할 문장 3이 실행되고.\n    - ....\n    - 모든 조건에 참이 아닐경우 수행할 문장 $n+2$가 실행된다\n\n### 1-3. $pass$ 문장구조\n\n```python\nif 조건문:\n\tpass \n```\n\n- 조건문 하단엔 반드시 실행문이 존재해야 한다. 그렇기 때문에 공백대신 작성하는 문장\n- 수행문장들이 $pass$ 구문들과 함께 있으면 수행 문장들을 정상 수행한다\n\n### 1-4. $if$ 문 한줄 구조\n\n- $if-else$문 한줄구조\n\n```python\n결과 = 실행문1 if 조건문 else 실행문2\n# 조건문을 충족시키면 실행문1을, 조건문을 충족시키지 못하면\n#실행문 2를 실행시키라는 명령어이다\n```\n\n### 2. 다양한 조건들\n\n- 조건 $x$와 $y$ 가 있다 하자\n- $and$\n    - $x\\,\\,and\\,\\,y$ : $x,y$ 모두 참이여야 참이다\n- $or$\n    - $x\\,\\,or\\,\\,y$ :   $x,y$ 둘중 하나가 참이여도 참이다\n- $not$\n    - $not \\,\\,x$ : $x$가 거짓이면 참, 참이면 거짓이다.\n- $in$\n    - $x \\,\\,in\\,\\,(list\\,\\,or\\,\\,tuple)\\,\\,a$ : 리스트/튜플 $a$에 원소 $x$가 있으면 참\n    - $x \\,\\,not\\,\\,in\\,\\,(list\\,\\,or\\,\\,tuple)\\,\\,a$: 리스트/튜플 $a$에 원소 $x$가 있으면 거짓",
   "metadata": {
    "cell_id": "c3f86824a88849aeb032633a83c84e75",
    "tags": [],
    "owner_user_id": "6620e961-4734-4451-b6f0-024902f1a0c6",
    "deepnote_cell_type": "markdown",
    "deepnote_cell_height": 2028.6875
   }
  },
  {
   "cell_type": "markdown",
   "source": "# 2. 제어문 : for / while 문\n\n상태: 연산 / 자료형\n\n## 1.$for$문이란 무엇인가?\n\n- $sequence$ 순서형 ($list,tuple,range$,$str$처럼 인덱싱이 가능하고, 순서가 있는 자료형)의 첫 번째 원소부터 마지막 원소까지 차례대로 변수에 대입하여 반복하여 문장을 실행시키게하는  명령문\n- 이터러블의 원솟값이 입력되는 변수를 카운터 변수 $counter\\,\\,variable$이라 부른다\n- 집합을 사용하는 경우는 순서가 없기에 무작위로 출력되므로 거의 사용안한다\n\n### 1-1. $for$ 문 문장구조\n\n- $for$문에서\n\n```python\nfor x in list(or tuple or range):\n\t수행할 문장 1\n\t수행할 문장 2\n\t...\n\t수행할 문장 n\n```\n\n### 1.2 리스트 내포 표현\n\n- $for$ 내포문 기초 표현\n    - $b= [f(x) \\,\\,for\\,\\, x\\,\\,in\\,a]$\n    - $b=[f(x_1),f(x_2),...,f(x_n)]$이 생성됨\n- $for-if$ 내포문\n    - $b= [f(x) \\,\\,for\\,\\,x\\,\\,in\\,\\,a\\,\\,if$ 조건 $]$\n    - 조건에 부합하는 $x$가 $f(x)$의 $input$ 인 리스트가 만들어짐\n- $for-if-else$ 내포문\n    - $b= [f(x)\\,\\,if$ 조건 $\\,\\,else$ $g(x)$ $for \\,\\,x\\,\\,in\\,\\,a]$\n    - 조건에 부합하는 $x$는 $f(x)$의 $input$으로 그 밖의 경우는 $g(x)$의 $input$으로 하는 리스트가 만들어짐\n    \n\n### 1-3. for문의 응용\n\n- 변수에  $tuple$ 오기\n    - $for$ $(x_1,x_2,...,x_n)$ $in$ $[(y_{11},y_{12},...,y_{1n}),(y_{21},y_{22},...,y_{2n}),...,(y_{m1},y_{m2},....,y_{mn})]$\n- $for \\,\\,-continue$ 문\n    - $for$ 문 아래 실행문 중에 $continue$를 만나면 $for$문 처음으로 돌아간다\n- $for \\,\\,-\\,\\,range$ 문\n    - $for$  변수 $in\\,\\,range(x)$ : 숫자 0부터 $x$ 미만 연속된 숫자\n    - $for$  변수 $in\\,\\,range(x,y)$ : 숫자 $x$부터 $y$ 미만 연속된 숫자\n    - $range(x,y)$로 생성된 객체를 $list$ 함수를 사용하면 리스트로 변환가능\n- $for-else$ 문\n    - $for$ 문이 정상적으로 작동하면($break$나 $continue$가 작동되지 않고 실행이 종료됨) $else$구문이 작동한다.\n    \n    ```python\n    for 조건문:\n    \t실행문 1\n    else:\n    \t실행문 2\n    \n    실행문 1이 정상 작동하면 실행문 2가 정상작동함\n    실행문 1이 break나 continue에 의해 도중 중단하여 완료시 실행문 2는 실행되지 않음\n    ```\n    \n\n### 1-4. 이중 for문 문장구조\n\n```python\na= [x_1,x_2,...,x_n]\nb= [y_1,y_2,...,y_m]\n\nfor x in a:\n\t실행문 1 f(x)\n\tfor y in b:\n\t\t실행문 2 g(x,y)\n```\n\n- 실행순서\n    - $f(x_1)$ 이 출력된다\n        - $g(x_1,y_1)$이 출력된다\n        - $g(x_1,y_2)$이 출력된다\n        - ....\n        - $g(x_1,y_m)$이 출력된다\n    - $f(x_2)$가 출력된다\n        - $g(x_2,y_1)$이 출력된다\n        - $g(x_2,y_2)$가 출력된다\n        - ...\n        - $g(x_2,y_m)$이 출력된다\n    - ...\n    - $f(x_n)$이 출력된다\n        - $g(x_n,y_1)$이 출력된다\n        - $g(x_n,y_2)$가 출력된다\n        - ....\n        - $g(x_n,y_m)$이 출력된다\n\n### 1-5. 파이썬 동적 변수 생성: $for$문으로 자동 변수 생성하기\n\n```python\nn=int(input('생성하고 싶은 변수 갯수를 입력하세요'))\nfor i in range(1,n+1):\n    globals()[f'var{i}']= 0\n\n#eval은 input으로 string을 받으며, \n#string을 변수나 식으로 해석하여 실행해주는 함수이다\nfor i in range(1,n+1):\n    print(eval(f'var{i}'))\n\n```\n\n## 2.$While$문\n\n- 조건문과 함께 쓰이며, 조건문이 참일 경우 실행문은 계속 수행된다\n- $for$ 문과 $While$ 문의 차이\n    - $for$ 문은 리스트나 튜플,  래인지,문자열 등과 함께 사용된다\n        - 데이터 크롤링과 같이 자료를 리스트화하고, 리스트안에 값이 있는 지를 비교하는데에 사용한다\n        - 무한 루프 불가능(언젠간 구성 요소가 떨어지기 마련이다)\n    - $While$문은 조건만 걸어주면 알아서 반복하다\n        - 무한 루프 가능\n\n### 2-1. $While$문 문장구조\n\n```python\nwhile 조건문:\n\t수행할 문장 1\n\t수행할 문장 2\n\t...\n\t수행할 문장 n\n```\n\n### 2-2 $While$문 응용\n\n```python\n# 1. while- break 문\nwhile 조건문:\n\t수행할 문장 1\n\t수행할 문장 2\n\t...\n\tbreak\n\n# 2. while- continue 문\nwhile 조건문:\n 수행할 문장 1\n 수행할 문장 2\n ...\n continue\n\n# 3. 무한반복 While문 예시\nwhile True:\n\t실행할 문장1\n\t조건문:\n\t\t\t실행할 문장2\n\t\t\tbreak\n--------------------------------\n조건문이 충족되어 break로 빠져나오지 않는 한\n계속 반복되는 무한 츠쿠요미\n```\n\n- $while-break$ 문\n    - 강제로 빠져나오고 싶을 경우 $break$를 사용한다\n    - 주로 조건문 $if$와 같이 활용된다\n- $while-continue$ 문\n    - 실행문을 실행시키고 싶지 않으나 $while$문을 빠져나가고 싶지 않은 경우 사용한다\n    \n- 예시\n\n```python\n'''\n여러 선택지중에서 해당 선택지가 나오기 전까지 구동하는 무한 루프 프로그램\n1. Add\n2. Del\n3. List\n4. Quit\n\n'''\nprompt= ''' \n1. Add\n2. Del\n3. List\n4. Quit\n\nEnter number:\n'''\n\nnumber=0\nwhile number !=4 :\n    print(prompt)\n    number= int(input())\n```",
   "metadata": {
    "cell_id": "13f5e9ffa4ca4e2b993c7cde27ab547b",
    "tags": [],
    "deepnote_cell_type": "markdown",
    "deepnote_cell_height": 4336.484375
   }
  },
  {
   "cell_type": "markdown",
   "source": "# 3. 예외처리: try / except 문\n\n상태: 연산 / 자료형\n\n## 1. 다양한 오류들\n\n### 1-1. 존재하지 않는것을 입력\n\n- FileNotFoundError:No such file or directory\n    - 없는 파일을 열거나 실행시키려 했을 때 발생\n- ImportError\n    - 없는 모듈을 호출하는 경우 발생\n- NameError: name ‘something’ is not defined\n    - 없는 변수/함수를 호출하는 경우 발생\n- KeyError\n    - 딕셔너리에 없는 key값을 입력하는 경우 발생\n- AttributeError: ‘list’ object has no attribute ‘value’\n    - 리스트에 없는 속성을 호출\n\n### 1-2.문법 오류\n\n- IndentationError\n    - expected an indentated block: 들여쓰기를 해야되는데 모자라다\n    - unexpected indent: 들여쓰기가 과도하게 되었다\n    - unindent does not match any oter indentation level: 공백space와 탭tab을 혼용했을 때 발생하는 에러\n- SyntaxError 문법오류\n    - EOL while scanning string literal: ‘’ ,”” 따옴표 짝이 맞지 않는다\n    - invalid syntax: in 뒤에는 리스트나 묶음자료형이 나와야 한다\n    - can’t assign to literal: 변수 명칭이 맨처음 숫자로 지정하는 경우\n- TypeError\n    - 데이터 타입이 맞지 않은 인자가 들어가는 경우\n- ValueError :\n    - 함수 안에  의도하지 않은 실행인자가 들어오는 경우\n- IndexError: list index out of range\n    - 리스트 범위를 넘어선 인덱싱을 하면 발생하는 오류\n- ZeroDivisionError\n    - 0으로 나누려 할 경우 생기는 에러\n- RecursionError: maxumum recursion depth exceeded\n    - 재귀 함수 선언 후 종료 조건이 설정되지 않아서 과도하게 호출하게 되어 에러\n\n## 2. 예외처리\n\n- 오류를 무시하고 프로그램을 정상적으로 실행하기 위해 사용하는 명령어\n\n```python\n#이때 발생오류명은 생략가능함\n# except 발생오류명1,발생오류명2,... 등을 적으면 or 조건으로 해당 오류중\n# 하나만 발생해도 오류 발생시 실행될 명령문들이 작동함\n#finally 하단엔 오류 발생 유무와 상관없이 무조건 실행시킬 명령문을 작성함\ntry:\n\t실행할 명령문 1\n\t실행할 명령문 2\n\t...\nexcept 발생오류명:\n\t오류 발생시 실행할 명령문 1\n\t오류 발생시 실행할 명령문 2\n\t....\nfinally:\n\t무조건 실행시킬 명령문 1\n\t무조건 실행시킬 명령문 2\n\t...\n```\n\n### 2-1. $except$  발생오류 $as \\,\\,x:$\n\n```python\ntry:\n\tspan()\nexcept NameError as x:\n\tprint(x)\n=> name 'spam' is not defined\n# x는 except 구문 내에서만 사용가능하다\n```",
   "metadata": {
    "cell_id": "3a74209b16424bbd9bec32248bccc4a1",
    "tags": [],
    "deepnote_cell_type": "markdown",
    "deepnote_cell_height": 1928.34375
   }
  },
  {
   "cell_type": "markdown",
   "source": "",
   "metadata": {
    "cell_id": "17fd8c0b19f84c2bbfaabb44af93c1aa",
    "tags": [],
    "deepnote_cell_type": "markdown",
    "deepnote_cell_height": 46
   }
  },
  {
   "cell_type": "markdown",
   "source": "<a style='text-decoration:none;line-height:16px;display:flex;color:#5B5B62;padding:10px;justify-content:end;' href='https://deepnote.com?utm_source=created-in-deepnote-cell&projectId=5a548db0-9bec-4ed6-b090-9c062f32efdb' target=\"_blank\">\n<img alt='Created in deepnote.com' style='display:inline;max-height:16px;margin:0px;margin-right:7.5px;' src='data:image/svg+xml;base64,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' > </img>\nCreated in <span style='font-weight:600;margin-left:4px;'>Deepnote</span></a>",
   "metadata": {
    "tags": [],
    "created_in_deepnote_cell": true,
    "deepnote_cell_type": "markdown"
   }
  }
 ],
 "nbformat": 4,
 "nbformat_minor": 2,
 "metadata": {
  "orig_nbformat": 2,
  "deepnote": {},
  "deepnote_notebook_id": "3a9519cb-02e5-4fcb-9912-81457eab8115",
  "deepnote_execution_queue": []
 }
}