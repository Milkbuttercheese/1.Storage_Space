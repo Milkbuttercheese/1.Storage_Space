{
 "cells": [
  {
   "cell_type": "markdown",
   "source": "# 데이터프레임: 제거,정렬, 결측치 처리 \n\n### 2-6. 데이터 프레임 행,열 추가/제거, 전치\n- **데이터프레임 끝에 열 추가**\n    - $df['col\\_name']=val\\_lst$\n- **데이터프레임 임의의 위치에 열 추가**\n    - $df.insert(position,col\\_name,val\\_lst)$\n- **데이터 프레임 끝에 행 추가**\n    - $df.loc['new\\_col']=val\\_lst$\n- **데이터프레임 임의의 위치에 행 추가**\n    - $before\\_df.append(val\\_lst,ignore\\_index=True).append(after\\_df,ignore\\_index)$\n    - $df$에 $k$번째 행 위치에 $val\\_list$를 삽입하고 싶다면 $0$행부터$k-1$행까지를 갖는 데이터프레임 $before\\_df$, $k+1$행 부터 오른쪽 끝행까지를 갖는 데이터프레임 $after\\_df$를 만든다\n    - $append()$함수는 끝에 데이터프레임을 추가하는 함수로 다음과 같은 조합으로 임의의 위치에 행을 넣을 수 있다\n    - $ignore\\_index$ 인자를 사용: index를 행의 순서대로 다시 붙여준다.\n- **데이터 프레임 기존 행 복사**\n    - $df.loc['new\\_col']=df.loc['original\\_col']$\n- **데이터프레임 행,열 제거**\n    - 행 제거\n        - $df.drop([row_{idx}]\\,\\,or\\,\\,arr,axis=0)$\n        - $df.drop([row_{name}]\\,\\,or\\,\\,arr,axis=0)$행 제거\n    - 열 제거\n        - $df\\_name.drop([col\\_idx]\\,\\,or\\,\\,arr,axis=1)$\n        - $df\\_name.drop([col_{name}]\\,\\,or\\,\\,arr,axis=1)$\n- **데이터프레임 전치$transpose$하기**\n    - $df.transpose()$\n    - $df.T$\n    - $df=df.transpose()$를 해야 $df\\_name$ 객체에 변경된 사항이 저장된다\n\n\n### 2-7. 데이터프레임 정렬하기\n- **행 인덱스 기준 데이터프레임 정렬**\n    - $df.sort\\_index(ascending=True\\,\\,or\\,\\,False)$\n    - $True$시 오름차순, $False$시 내림차순 정렬한다\n- **특정 열 기준 데이터프레임 정렬**\n    - $df.sort\\_values(by=col\\_name,ascending=True\\,\\,or\\,\\,False)$\n    - $True$시 오름차순, $False$시 내림차순\n\n### 2-8. 데이터프레임 $NaN$ 값 처리\n- 결손 데이터 확인하기\n\t- $df.isna()$ : 결손 데이터가 아니면 해당 위치에 False, 결손 데이터면 해당 위치에 True를 반환한다\n\t-  $df.isna().sum()$ 로 각 열에 대한 결손 데이터의 개수를 확인할 수 있다\n\n- $method\\_name(fill\\_value=x)$ : $NaN$값을 $x$로 체운후 연산 하기\n- $df.fillna('x',inplace=True)$: $Nan$값을 $x$로 변경함,\n- $df.fillna(method='ffill')$ : 위에 있는 내용하여 빈공간을 체움 (엑셀처럼)\n- $df.fillna(method='bfill')$: 아래 있는 내용을 이용하여 빈공간을 체움",
   "metadata": {
    "cell_id": "d9f5d0ff8e874ff3b9dc560788f5173a",
    "tags": [],
    "owner_user_id": "6620e961-4734-4451-b6f0-024902f1a0c6",
    "deepnote_cell_type": "markdown",
    "deepnote_cell_height": 1425.84375
   }
  },
  {
   "cell_type": "markdown",
   "source": "",
   "metadata": {
    "cell_id": "8a7d68bc210f41aaa37218895b790234",
    "tags": [],
    "deepnote_cell_type": "markdown",
    "deepnote_cell_height": 46
   }
  },
  {
   "cell_type": "markdown",
   "source": "<a style='text-decoration:none;line-height:16px;display:flex;color:#5B5B62;padding:10px;justify-content:end;' href='https://deepnote.com?utm_source=created-in-deepnote-cell&projectId=5a548db0-9bec-4ed6-b090-9c062f32efdb' target=\"_blank\">\n<img alt='Created in deepnote.com' style='display:inline;max-height:16px;margin:0px;margin-right:7.5px;' src='data:image/svg+xml;base64,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' > </img>\nCreated in <span style='font-weight:600;margin-left:4px;'>Deepnote</span></a>",
   "metadata": {
    "tags": [],
    "created_in_deepnote_cell": true,
    "deepnote_cell_type": "markdown"
   }
  }
 ],
 "nbformat": 4,
 "nbformat_minor": 2,
 "metadata": {
  "orig_nbformat": 2,
  "deepnote": {},
  "deepnote_notebook_id": "0387c115-d596-4d31-820a-f6fa561eb338",
  "deepnote_execution_queue": []
 }
}