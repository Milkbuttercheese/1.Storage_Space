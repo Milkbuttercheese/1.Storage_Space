{
 "cells": [
  {
   "cell_type": "markdown",
   "source": "# 데이터프레임 정보/ 통계량\n### 2-9. 데이터프레임 정보/ 통계량 \n- 데이터프레임 크기 출력한다\n    - $df.shape$\n- 데이터프레임 기본정보\n    - $df.info()$\n    - 데이터프레임 크기,변수명,변수 데이터타입,인덱스명,메모리사용량 출력한다\n    - 각 열의 자료형만 출력한다\n        - $df.dtypes$\n    - 특정 열의 자료형만 출력한다\n        - $df.col\\_name.dtypes$\n- 데이터프레임 기술 통계 정보 요약\n    - $df.describe()$\n    - 수치형 데이터열의 통계정보(데이터수,평균,표준편차,최대,최소,25%,50%,75% 값 등)을 요약 후 출력한다\n    - 이때 사분위수는 데이터를 크기순으로 나열하였을 때 오는 순서로 계산된 것이다\n    - 사분위수 위치가  두 데이터 사이에 있다면 두 데이터의 평균값으로 계산한다\n    - $include=\\,\\,'all'$ 을 입력하면 $unique$: 중복되지 않은 원소의 갯수는 몇개인, $freq$: 가장 빈도가 높은 단어는 몇개인지 추가 정보를 제공함\n- 평균값 계산\n    - $df.mean()$\n- 표준편차 계산\n    - $df.std()$\n- 중간값 계산\n    - $df.median()$\n- 최댓값 계산\n    - $df.max()$\n- 최솟값 계산\n    - $df.mean()$\n- 상관계수 계산\n    - $df.corr()$: 상관계수 매트릭스를 출력\n    - $df.corr(col\\_name_1,col\\_name_2)$\n- 한 컬럼의 카테고리별 원소갯수 측정\n\t- $df['col\\_name'].value\\_counts()$\n- **특정 컬럼의 카테고리별로 묶어 통계량을 측정하기**\n\t-  $.groupby(by='col\\_name')$\n\n### 2-10. 람다식\n- $var\\_name= lambda \\,\\,x: f(x)$ 로 함수를 정의할 수 있고 이러한 표기법을 람다식이라 한다\n- 람다식에서 조건문을 사용할 경우 반환값이 조건문 보다 앞에 써있어야 한다\n- $df['col\\_name'].apply(lambda\\,\\,x:f(x))$ 는 기존의 컬럼 $col\\_name$의 각 원소 $x$ 를 사용하여 함수$f(x)$를 구하고, 함숫값이 들어간 컬럼을 반환받을 수 있다 \n- ",
   "metadata": {
    "cell_id": "df48927986124f3a9d8465cac2ff2818",
    "tags": [],
    "deepnote_cell_type": "markdown",
    "deepnote_cell_height": 1363.5
   }
  },
  {
   "cell_type": "markdown",
   "source": "",
   "metadata": {
    "cell_id": "631e979d9b4d4c25ada691090316fd6e",
    "tags": [],
    "owner_user_id": "6620e961-4734-4451-b6f0-024902f1a0c6",
    "deepnote_cell_type": "markdown",
    "deepnote_cell_height": 46
   }
  },
  {
   "cell_type": "markdown",
   "source": "<a style='text-decoration:none;line-height:16px;display:flex;color:#5B5B62;padding:10px;justify-content:end;' href='https://deepnote.com?utm_source=created-in-deepnote-cell&projectId=5a548db0-9bec-4ed6-b090-9c062f32efdb' target=\"_blank\">\n<img alt='Created in deepnote.com' style='display:inline;max-height:16px;margin:0px;margin-right:7.5px;' src='data:image/svg+xml;base64,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' > </img>\nCreated in <span style='font-weight:600;margin-left:4px;'>Deepnote</span></a>",
   "metadata": {
    "tags": [],
    "created_in_deepnote_cell": true,
    "deepnote_cell_type": "markdown"
   }
  }
 ],
 "nbformat": 4,
 "nbformat_minor": 2,
 "metadata": {
  "orig_nbformat": 2,
  "deepnote": {},
  "deepnote_notebook_id": "c6dd3463-6a3f-4d97-a0b3-9fd4cdcce297",
  "deepnote_execution_queue": []
 }
}