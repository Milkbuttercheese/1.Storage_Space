{
 "cells": [
  {
   "cell_type": "markdown",
   "source": "# 시각화 : 씨본\n\n상태: 시각화\n\n### 1.씨본$seaborn$이란 무엇인가?\n\n- $matplotlib$의 기능과 스타일을 확장시킨 라이브러리\n\n### 1-1. 설정\n\n- 스타일 테마 설정\n    - $sns.set\\_style(option)$\n    - $option:$ $dark,darkgrid,white,whitegrid,tick$\n\n### 1-2.그래프 그리기\n- 그래프의 조건들\n\t- $kind$: $scatter, kde, hist, reg$  : 데이터를 표현하는 방식 결정하기\n\t-  $scatter=F$  기본 $kind:scatter$인 그래프를 산점도 대신 신뢰구간의 영역을 색칠하여 표현하게 하기\n\t- $fit\\_reg=T\\,\\,or\\,\\,F$  선형회귀된 일차함수식을 표시 여부 \n    - $ci=None$ 을하면 신뢰구간 $confidentail \\,\\, interval$ 의 표시하지 않는다\n    - $hue=df['col\\_name']$은 특정 열의 카테고리별로 그래프를 나누어 각각 다른 색으로 그리라는 설정\n    - $linewidth= val\\_name$는 연속형 그래프의 선 굵기를 지정\n    - $annote=T\\,\\,or\\,\\,F$ : 데이터 값 표시 여부\n    - $grid$ : 격자 표시\n    - $label='label\\_name':$ 라벨(그래프의 이름)을 정하는 데 사용되는 그래프\n      \n\n- 히스토그램 그래프\n\t- $sns.distplot(data\\_name)$\n- 산점도-회귀선 그래프\n    - $sns.regplot(x='x\\_name',y='y\\_name',data=data\\_name,ax=ax\\_j)$\n- 띠 산점도\n    - $sns.stripplot(x='x\\_name',y='y\\_name',data=data\\_name,ax=ax\\_j)$\n- 스웜 산점도\n    - $sns.swarmplot(x='x\\_name',y='y\\_name',data=data\\_name,ax=ax\\_j)$\n- 히트맵\n    - $xy$평면을 격자로 쪼개어 놓고 각 국소영역에 수치를 대응시켜놓은 그래프\n    - 피봇 테이블: 데이터 열중 두 열을 뽑아 각각 행 인덱스, 열 인덱스로 삼은 테이블\n    - $table=df.pivot\\_table(index='col\\_name_1',columns='col\\_name_2'$\n    - $,aggfunc=size\\,\\,or\\,\\,np.mean\\,\\,or\\,\\,np.sum)$\n    - $aggregation$: the process of combining several numerical values into a single representative value\n    - $sns.heatmap(table,annot=T\\,\\,or\\,\\,F,fmt=\\,format\\_name$ \n\t    - $,cmap=color\\_expression\\_name,linewidth=width\\_val,cbar=T\\,\\,or\\,\\,F)$\n\t    -  $fmt$: 데이터 형식\n\t    -  $cmap$ : 색 표현 방식\n- 페어플롯\n\t- 데이터 프레임의 모든 변수간의 그래프를 그리는 함수\n\t- $len(columns\\_of\\_DataFrmae)*len(columns\\_of\\_DataFrmae)$ 개의 그래프가 생성된다\n\t- $sns.pairplot(data\\_name)$",
   "metadata": {
    "cell_id": "16e18ebb5db5409c8494aea23074e552",
    "tags": [],
    "deepnote_cell_type": "markdown",
    "deepnote_cell_height": 1444.84375
   }
  },
  {
   "cell_type": "markdown",
   "source": "",
   "metadata": {
    "cell_id": "c73aaddc775340f58b03dc434057b619",
    "tags": [],
    "owner_user_id": "6620e961-4734-4451-b6f0-024902f1a0c6",
    "deepnote_cell_type": "markdown",
    "deepnote_cell_height": 46
   }
  },
  {
   "cell_type": "markdown",
   "source": "<a style='text-decoration:none;line-height:16px;display:flex;color:#5B5B62;padding:10px;justify-content:end;' href='https://deepnote.com?utm_source=created-in-deepnote-cell&projectId=5a548db0-9bec-4ed6-b090-9c062f32efdb' target=\"_blank\">\n<img alt='Created in deepnote.com' style='display:inline;max-height:16px;margin:0px;margin-right:7.5px;' src='data:image/svg+xml;base64,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' > </img>\nCreated in <span style='font-weight:600;margin-left:4px;'>Deepnote</span></a>",
   "metadata": {
    "tags": [],
    "created_in_deepnote_cell": true,
    "deepnote_cell_type": "markdown"
   }
  }
 ],
 "nbformat": 4,
 "nbformat_minor": 2,
 "metadata": {
  "orig_nbformat": 2,
  "deepnote": {},
  "deepnote_notebook_id": "3c6d4732-ca1e-461b-a404-d5a6c9baed41",
  "deepnote_execution_queue": []
 }
}