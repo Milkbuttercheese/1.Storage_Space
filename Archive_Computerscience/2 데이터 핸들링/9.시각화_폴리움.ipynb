{
 "cells": [
  {
   "cell_type": "markdown",
   "source": "# 시각화 : 폴리움\n\n상태: 시각화\n\n### 1. 폴리움이란?\n\n- 지도 위에 시각화를 할 때 사용한다\n- 아래 맵을 활용하여 출력한다\n\n[OpenStreetMap](https://www.openstreetmap.org/about)\n\n### 1.1\n\n- 특정 위치 이미지 받아오기\n    - $map\\_name=folium.Map(location=[latitude,longitude],zoom\\_start=x)$\n    - $map\\_name.save('file\\_name.html')$\n- 스타일\n    - 산악이 강조\n        - $tiles='Stamen\\,\\,Terrain'$\n    - 흑백/ 도로가 강조\n        - $tiles='Stamen\\,\\,Toner'$\n- 지도에 마커 표시\n    - 해당위치를 담은 $excel$ 파일 데이터프레임으로 받기\n    - 마커모양을 원으로 하고 싶으면 함수 $CircleMarker$를 쓴다. 이떄 인자는 순서대로 반지름,원 둘레색상, 원 체울건지 여부,원 색상, 투명도이다\n    \n    ```python\n    import pandas as pd\n    import folium\n    df=pd.read_excel('서울지역 대학교 위치.xlsx',index_col=0)\n    name=list(df.index)\n    lat=[]\n    long=[]\n    for i in range(len(df)):\n        lat.append(df.iloc[i,0])\n        long.append(df.iloc[i,1])\n        folium.Marker([lat[i],long[i]],popup= name[i]).add_to(seoul_map)\n    \n    seoul_map.save('서울.html')\n    ```\n    \n    ```python\n    import pandas as pd\n    import folium\n    seoul_map=folium.Map(location=[37.55,126.98],zoom_start=12)\n    seoul_map.save('서울.html')\n    lat=[]\n    long=[]\n    for i in range(len(df)):\n        lat.append(df.iloc[i,0])\n        long.append(df.iloc[i,1])\n        folium.CircleMarker([lat[i],long[i]],popup= name[i],\n                           radius=10,color='brown',fill=True,\n                            fill_color='coral',fill_opacity=0.7).add_to(seoul_map)\n    \n    seoul_map.save('인서울대학교들.html')\n    ```\n    \n- 단계 구분도\n    \n    ```python\n    import pandas as pd\n    import numpy as np\n    import matplotlib.pyplot as plt\n    import folium\n    import json\n    #경기도 인구 데이터 받아오기\n    df = pd.read_excel('./경기도인구데이터.xlsx',index_col='구분')\n    df.columns=df.columns.map(str)\n    geo_data= json.load(open('./경기도행정구역경계.json',encoding= 'utf-8'))\n    gyeonggi_map=folium.Map(location=[37.55,126.98],zoom_start=9,\n                        tiles='Stamen Terrain')\n    #folium 모듈의 choropleth 함수 사용\n    #인자(geo_data,데이터,columns,채울 색, 투명도, 구분선 투명도, 범위지정,\n    #     key_on=feature.properties.name).add_to(지도객체)\n    \n    folium.Choropleth(geo_data,df['2007'],columns=[df.index,df['2007']],\n                      fill_color='YlOrRd',fill_opacity=0.7,\n                      line_opacity=0.3,\n                      threshhold_scale=[10000,100000,300000,500000,700000],\n                     key_on='feature.properties.name').add_to(gyeonggi_map)\n    gyeonggi_map.save('경기도.html')\n    ```",
   "metadata": {
    "cell_id": "ed1ace18d65841a781c7281729f70b17",
    "tags": [],
    "deepnote_cell_type": "markdown",
    "deepnote_cell_height": 3510
   }
  },
  {
   "cell_type": "markdown",
   "source": "",
   "metadata": {
    "cell_id": "e4cdd725f120486bba4345ad642e6a5d",
    "tags": [],
    "owner_user_id": "6620e961-4734-4451-b6f0-024902f1a0c6",
    "deepnote_cell_type": "markdown"
   }
  },
  {
   "cell_type": "markdown",
   "source": "<a style='text-decoration:none;line-height:16px;display:flex;color:#5B5B62;padding:10px;justify-content:end;' href='https://deepnote.com?utm_source=created-in-deepnote-cell&projectId=5a548db0-9bec-4ed6-b090-9c062f32efdb' target=\"_blank\">\n<img alt='Created in deepnote.com' style='display:inline;max-height:16px;margin:0px;margin-right:7.5px;' src='data:image/svg+xml;base64,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' > </img>\nCreated in <span style='font-weight:600;margin-left:4px;'>Deepnote</span></a>",
   "metadata": {
    "tags": [],
    "created_in_deepnote_cell": true,
    "deepnote_cell_type": "markdown"
   }
  }
 ],
 "nbformat": 4,
 "nbformat_minor": 2,
 "metadata": {
  "orig_nbformat": 2,
  "deepnote": {},
  "deepnote_notebook_id": "c1b008bc-adf7-4323-a3f3-872931bae8aa",
  "deepnote_execution_queue": []
 }
}