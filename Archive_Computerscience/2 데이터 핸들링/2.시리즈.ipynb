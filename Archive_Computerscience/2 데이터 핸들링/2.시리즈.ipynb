{
 "cells": [
  {
   "cell_type": "markdown",
   "source": "# 시리즈\n\n상태: 넘파이 / 판다스\n\n## 1.시리즈란 무엇인가?\n\n- **시리즈**\n    - 각 행 데이터의 의미를 설명하는 $index$와 수치인 $values$로 구성된다\n    - 데이터 열이 1개인 $vector$이기에 1차원 배열이라고 부른다\n    - $\\begin{pmatrix} idx_0&val_0\\\\idx_1&val_1\\\\...\\\\idx_n&val_n  \\end{pmatrix}$\n- **인덱스**\n    - 정수형 위치 인덱스: 시리즈를 생성할 때 리스트,튜플,넘파이-배열이 인자 하나로 온다면, $0,1,2,...$ 순으로 정수를 붙여 $indexing$한다\n    - 인덱스 이름: 시리즈를 생성할 때 딕셔너리가 $input$으로 들어오면 딕셔너리의 $key$가,  $Series(list,index\\_name)$로 $input$이 들어오면 $index\\_name$이 인덱스가 된다\n\n## 2. 시리즈 함수\n\n### 2-1. 시리즈 생성\n\n- **시리즈 생성 함수**\n    - $Series(dict/list/tuple/array)$\n    - $Series(list,index\\_name)$\n\n### 2-2.시리즈 인덱스/값 추출\n\n- **시리즈 인덱스만 추출**\n    - $series\\_name.index$\n- **시리즈 값만 추출**\n    - $series\\_name.values$\n\n### 2-3. 시리즈 원소 선택법\n\n- **단일 원소 선택**\n    - $series\\_name['index\\_name']$\n        - 인덱스 명으로 호출\n    - $series\\_name[index\\_int]$\n        - 정수형 위치 인덱스로 호출\n- **다중 원소 선택 1: 직접 지정**\n    - $series\\_name[[i,j]]$\n        - $i$ 위치 원소와 $j$ 위치 원소 뽑아오기\n    - $series\\_name[['index\\_name_1','index\\_name_2']]$\n        - $index\\_name_1$ 원소와, $index\\_name_2$ 원소 뽑아오기\n- **다중 원소 선택 2: 슬라이싱**\n    - $series\\_name[i:j]$\n        - $i$ 위치 원소에서 $j-1$ 위치까지의 원소 뽑아오기\n    - $series\\_name['index\\_name_1':'index\\_name_2']$\n        - $index\\_name_1$ 원소에서 $index\\_name_2$ 원소까지의 원소 뽑아오기\n        - **기존 정수형 슬라이싱과 다르게 오른쪽 끝도 포함한다**",
   "metadata": {
    "cell_id": "ce3d876cd9644fcc8362f24cea298e6f",
    "tags": [],
    "deepnote_cell_type": "markdown",
    "deepnote_cell_height": 1454.3125
   }
  },
  {
   "cell_type": "markdown",
   "source": "",
   "metadata": {
    "cell_id": "f2b4935f1da54bc58a02eb5d5da065d3",
    "tags": [],
    "owner_user_id": "6620e961-4734-4451-b6f0-024902f1a0c6",
    "deepnote_cell_type": "markdown",
    "deepnote_cell_height": 46
   }
  },
  {
   "cell_type": "markdown",
   "source": "<a style='text-decoration:none;line-height:16px;display:flex;color:#5B5B62;padding:10px;justify-content:end;' href='https://deepnote.com?utm_source=created-in-deepnote-cell&projectId=5a548db0-9bec-4ed6-b090-9c062f32efdb' target=\"_blank\">\n<img alt='Created in deepnote.com' style='display:inline;max-height:16px;margin:0px;margin-right:7.5px;' src='data:image/svg+xml;base64,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' > </img>\nCreated in <span style='font-weight:600;margin-left:4px;'>Deepnote</span></a>",
   "metadata": {
    "tags": [],
    "created_in_deepnote_cell": true,
    "deepnote_cell_type": "markdown"
   }
  }
 ],
 "nbformat": 4,
 "nbformat_minor": 2,
 "metadata": {
  "orig_nbformat": 2,
  "deepnote": {},
  "deepnote_notebook_id": "10ebbdbe-f00c-48c3-81ff-285f2401f4d4",
  "deepnote_execution_queue": []
 }
}