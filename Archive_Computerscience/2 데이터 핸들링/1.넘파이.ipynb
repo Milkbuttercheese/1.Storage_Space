{
 "cells": [
  {
   "cell_type": "markdown",
   "source": "# 넘파이\n\n상태: 넘파이 / 판다스\n\n## 1.넘파이란 무엇인가?\n\n- $Numuerical\\,\\,Python$의 약자\n- 산술 계산을 위한 패키지\n- 다차원 배열인 $ndarray$를 지원한다\n- 반복문 작성할 필요 없이 전체 데이터 배열을 빠르게 계산할 수 있다\n- 산술 처리에 필요한 여러 함수들을 제공한다\n- 연산 처리 후 통계나 분석데이터 처리를 위해 $Pandas$를 사용\n\n## 2.넘파이 배열\n\n### 2-1. 배열 생성\n\n- **1차원 배열 생성**\n    - $np.arange(x)$\n        - $0$부터 $x-1$ 까지의 수가 담긴 $array$가 생성됨\n    - $np.array([x_1,x_2,...,x_n])$\n    - $np.array(list)$\n    - $np.zeros(x)$ 를 쓰면 길이가 $x$ 인 영 벡터를 만들 수 있다\n    -  $np.ones(x)$ 를 쓰면 길이가 $x$ 이고, 원소가 모두 $x$인 벡터를 만들 수 있다\n- **$\\textbf{n}$($\\textbf{n}\\ge2$) 차원 배열 생성**\n    - $n$차원 배열은 $n-1$차원 배열을 원소로 갖는 1차원 배열로 표현하여 생성한다\n\n### 2-2.배열 크기 확인\n\n- **배열 크기 확인**\n    - 1차원 인 경우\n        - $len(arr)$\n    - 2차원 인 경우\n        - $len(arr)$ :행 크기 출력\n        - $len(arr[0])$: 열 크기 출력($arr[0]$은 0번째 행벡터를 의미\n    - 3차원 인 경우\n        - $len(arr)$: 깊이$depth$(새로운축)가 출력\n        - $len(arr[0])$: 행 크기 출력( $arr[0]$은 0번째 깊이의 면을 의미)\n        - $len(arr[0][0])$: 열 크기 출력 ($arr[0][0]$는 0번째 깊이면의  0번째 행을 의미)\n\n\n### 2-3.배열 인덱싱 방법\n- **기본적인 인덱싱**\n    - 깊이-행-열 순으로 인덱싱한다\n    - 0부터 시작하는 표기법외엔 행렬표기법과 똑같다.\n- **팬시 인덱싱**\n    - 배열안에 정수,부울값을 갖는 다른 배열형으로도 인덱싱이 가능하게 만든 기능\n    - $arr[[int\\_1,int\\_2,...,int\\_n]]=[arr[int\\_1],arr[int\\_2],..,arr[int\\_n]]$\n    - $arr_2=np.array([True,False,True,False,...])$일때 $arr[arr_2]=[arr[0],arr[2],...]$\n    - $arr[:row_1,[col_1,col_2]])$:  $col_1$열, $col_2$열 벡터 기준, 0행부터 $row_1 -1$행까지 짤린 형태의 벡터가 출력된다\n- **불린 인덱싱**\n    - $arr(arr\\_cond_\\_state)$\n    - 해당 조건을 만족시키는 원소를 리스트에 담아 출력한다\n\n### 2-4.배열 정렬/배열 변형\n\n- **배열 정렬**\n    - $np.sort(arr)\\,\\,or\\,\\,arr.sort()$\n    - $axis=0$ : 열 안을 오름차순으로 정렬\n    - $axis=1$: 행 안을 오름차순으로 정렬\n    - $np.argsort(arr)$\n    - 재정렬 했을 때의 위치 인덱스를 출력한다\n- **1차원 배열 ⇒ 2차원 배열**\n    - $arr.reshape(n_\\_row,m\\_col)$\n    - 이때 행 또는 열의 크기를 정해줬다면 나머지 하나의 $argument$에 -1를 넣어줘도 자동으로 원 데이터의 맞는 2차원 배열을 생성해준다\n    - $arr.reshape(1,-1)$을 해준다면 원 데이터를  $row\\_vector$로 만들어준다\n- **배열 $transpose$하기**\n    - $arr.transpose()$ $or$ $arr.T$\n\n### 2-5. 배열 연산\n- 행렬곱\n\t- 행렬 `mtr_1, mtr_2` 가 있다 하자. 그 둘의 행렬곱읁\n\t- `np.dot(mtr_1,mtr_2)`\n- **다차원 배열 객체 연산 : 브로드캐스팅**\n    - $[x_1,x_2,...,x_n]+y=[x_1+y,x_2+y,...,x_n+y]$\n    - $\\begin{bmatrix} x_{11} & x_{12} &... & x_{1n}\\\\ x_{21}&x_{22}&...&x_{2n}\\\\...\\\\x_{m1}&x_{m2}&...&x_{mn} \\end{bmatrix}+[y_1,y_2,...,y_n]=\\begin{bmatrix} x_{11}+y_{1} & x_{12}+y_2 &... & x_{1n}+y_n\\\\ x_{21}+y_1&x_{22}+y_2&...&x_{2n}+y_n\\\\...\\\\x_{m1}+y_1&x_{m2}+y_2&...&x_{mn}+y_n \\end{bmatrix}$\n    - $\\begin{bmatrix} y_1\\\\y_2\\\\...\\\\y_n \\end{bmatrix}+[x_1,x_2,...,x_m]=\\begin{bmatrix} x_1+y_1& x_2+y_1 &...&x_m+y_1 \\\\x_1+y_2 &x_2+y_2&...&x_m+y_2\\\\...\\\\x_1+y_n&x_2+y_2&...&x_m+y_n \\end{bmatrix}$\n",
   "metadata": {
    "cell_id": "8243c43b5ebb4b1683ef4b22d60b4d43",
    "tags": [],
    "owner_user_id": "6620e961-4734-4451-b6f0-024902f1a0c6",
    "deepnote_cell_type": "markdown",
    "deepnote_cell_height": 2315.6875
   }
  },
  {
   "cell_type": "markdown",
   "source": "<a style='text-decoration:none;line-height:16px;display:flex;color:#5B5B62;padding:10px;justify-content:end;' href='https://deepnote.com?utm_source=created-in-deepnote-cell&projectId=5a548db0-9bec-4ed6-b090-9c062f32efdb' target=\"_blank\">\n<img alt='Created in deepnote.com' style='display:inline;max-height:16px;margin:0px;margin-right:7.5px;' src='data:image/svg+xml;base64,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' > </img>\nCreated in <span style='font-weight:600;margin-left:4px;'>Deepnote</span></a>",
   "metadata": {
    "tags": [],
    "created_in_deepnote_cell": true,
    "deepnote_cell_type": "markdown"
   }
  }
 ],
 "nbformat": 4,
 "nbformat_minor": 2,
 "metadata": {
  "orig_nbformat": 2,
  "deepnote": {},
  "deepnote_notebook_id": "e97d6a26-d0f1-4c12-86eb-f131c1ac6209",
  "deepnote_execution_queue": []
 }
}