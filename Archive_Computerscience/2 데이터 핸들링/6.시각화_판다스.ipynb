{
 "cells": [
  {
   "cell_type": "markdown",
   "source": "# 시각화 및 통계량 : 판다스 \n\n## 판다스 그래프\n\n### 1. 그래프\n- 선 그래프 그리기\n    - $df.plot()$\n- 막대 그래프 그리기\n    - $df.plot(kind='bar')$\n    - 빈도와 관련되어 있다\n- 히스토그램\n    - $df.plot(kind='hist',bins=n)$\n    - $x$축은 열 원소의 $values$, $y$축은 그 $values$들이 중복 등장한 횟수이다.\n- 산점도\n    - $df.plot(x=['col\\_name_1'],y=['col\\_name_2'],kind='scatter',s='point_\\_size,)$\n    - 다른 속성을 상대크기로 계산하고 다음과 같이 설정하면 그래프 상에 3차원의 정보를 담을 수 있다\n        - $feature\\_size=df.col\\_j/df.col\\_j.max() * n$\n        - $s=feature\\_size$ : 상대 크기에 따라 마커 크기를 달리함\n        - $c=feature\\_size,cmap='viridis'$ : 상대 크기에 따라 색을 달리함\n- 박스플롯\n    - $df.plot(kind='box')$\n    - 위에서부터 동그라미는 이상치,막대는 각각 $max,75\\%,50\\%,25\\%,min$ 이다\n    - 이상치 계산법:\n        - $IQR \\equiv (Q3-Q1)$\n        - $Min\\_Outlier=Q_1-1.5\\cdot IQR$\n        - $Max\\_Outlier=Q3+1.5\\cdot IQR$\n    \n    ![Untitled](컴퓨터과학/1%20파이썬/레퍼런스_시각화%20판다스/Untitled.png)\n    \n- 누적 그래프\n    - $df.plot(kind='area',stacked=T\\,\\,or\\,\\,F,alpha= )$\n    - $stacked$ : $T$이면 그래프간 축척, $F$면 축척 없음\n    \n    ![Untitled](컴퓨터과학/1%20파이썬/레퍼런스_시각화%20판다스/Untitled%201.png)\n    \n- 세로형 막대그래프\n    - $df.plot(kind='bar',width=width\\_len)$\n- 가로형 막대그래프\n    - $df.plot(kind='barh',width=width\\_len)$\n    - 합계를 비교할 때 많이 사용한다\n- 파이 차트\n    - 그룹별로 크기 구하기\n        - $df.groupby('col\\_name).size()$\n    - 파이차트 그리기\n        - $df.plot(kind='pie',autopct='',startangle='angle\\_val)$\n        - $autopct$는 퍼센트 소숫점 단위 예: $\\%0.1f\\%\\%$\n        - $plt.axis('equal')$ : 타원이 아닌 원으로 그리기\n        - 색깔은 그룹수에 맞게끔 리스트로 입력한다\n\n### 2. 판다스 그래프 옵션\n- 그래프의 크기\n    - $figsize=(a,b)$\n- 색깔 지정\n    - $color='color\\_name'$\n- 마커변경(산점도)\n    - $marker='marker\\_name)$\n- 그래프 투명도 조절\n    - $alpha=val\\,\\,,0\\le val\\,\\, \\le 1$\n- 사용가능한 색상 확인\n    - $import \\,\\,matplotlib$\n    - $colors=\\{\\}$\n    - $for\\,\\,name,hex\\,\\,in\\,\\,matplotlib.colors.cnames.item():$\n        - $colors[name]=hex$\n    - $print(colors)$\n- 저장하기\n    - $plt.savefig('file\\_name')$",
   "metadata": {
    "cell_id": "37691063818e4384b0d7f4ea02b27ddb",
    "tags": [],
    "owner_user_id": "6620e961-4734-4451-b6f0-024902f1a0c6",
    "deepnote_cell_type": "markdown",
    "deepnote_cell_height": 2074
   }
  },
  {
   "cell_type": "markdown",
   "source": "<a style='text-decoration:none;line-height:16px;display:flex;color:#5B5B62;padding:10px;justify-content:end;' href='https://deepnote.com?utm_source=created-in-deepnote-cell&projectId=5a548db0-9bec-4ed6-b090-9c062f32efdb' target=\"_blank\">\n<img alt='Created in deepnote.com' style='display:inline;max-height:16px;margin:0px;margin-right:7.5px;' src='data:image/svg+xml;base64,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' > </img>\nCreated in <span style='font-weight:600;margin-left:4px;'>Deepnote</span></a>",
   "metadata": {
    "tags": [],
    "created_in_deepnote_cell": true,
    "deepnote_cell_type": "markdown"
   }
  }
 ],
 "nbformat": 4,
 "nbformat_minor": 2,
 "metadata": {
  "orig_nbformat": 2,
  "deepnote": {},
  "deepnote_notebook_id": "35c7cd0e-0f2b-4e10-8e1d-fc80fb40ba41",
  "deepnote_execution_queue": []
 }
}