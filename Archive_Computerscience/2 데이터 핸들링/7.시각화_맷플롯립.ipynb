{
 "cells": [
  {
   "cell_type": "markdown",
   "source": "fi# 시각화 : 맷플롯립\n\n상태: 시각화\n\n## 1. $matplotlib$ 함수\n\n- 모듈 불러오기\n    - $matplotlib.pyplot\\,\\,as\\,\\,plt$\n- 폰트 적용( 폰트 깨지는 경우)\n    \n    ```python\n    #폰트 깨질 때 폰트를 변경해주는 명령어\n    from matplotlib import font_manager, rc\n    font_path='./malgun.ttf'\n    #폰트명 변수은 font_name으로 \n    font_name= font_manager.FontProperties(fname=font_path).get_name()\n    rc('font',family=font_name)\n    ```\n    \n- 데이터 포인터마다 점 찍기\n    - $plt.plot(x\\_data,y\\_data,marker='o',markersize=n)$\n\n### 1-1. 주석처리\n\n- $matplotlib$ 에서 사용가능한 색상 확인\n    - $import \\,\\,matplotlib$\n    - $colors=\\{\\}$\n    - $for\\,\\,name,hex\\,\\,in\\,\\,matplotlib.colors.cnames.item():$\n        - $colors[name]=hex$\n    - $print(colors)$\n- 제목\n    - $plt.title('title\\_name',size=n)$\n- $x$축 이름 붙이기\n    - $plt.xlabel('x\\_name',size=n)$\n- $y$축 이름 붙이기\n    - $plt.ylabel('y\\_name',size=n)$\n- 범례( 그래프 설명)\n    - $plt.legend(labels=['legend\\_name'],loc='best',font\\_size=n)$\n- 그래프 내 화살표 그리기\n    - $plt.annotate('',xy=(x_1,y_1),xytext=(x_2,y_2),xycoords='data',arrowprops=dict(arrowstyle='->',color='color\\_name',lw=arrow\\_size))$\n    - 머리부분 $xy$ ,꼬리부분$xytest$: ($x$,$y$)좌표를 제공할 때 $x$는 숫자 눈금라벨 순서로 인덱싱하여 적어야 한다\n- 그래프 내 텍스트 표기\n    - $plt.annotate(text,xy=(x_1,y_1),rotation=rot\\_angle,va=center,fontsize=font\\_size)$\n    - 상하정렬은 $va=center$, 좌우정렬은 $ha=center$\n\n### 1-2. 눈금라벨 변경/ 배경 변경\n\n- $figure$의 가로 사이즈 키우기\n    - $plt.figure(figsize=(x\\_lenghth,y\\_length))$\n- 눈금라벨을 90도 회전시키기\n    - $plt.xticks(rotation=90\\,\\,or\\,\\,'vertical')$\n- 배경색깔 바꾸기\n    - $plt.style.use('style\\_option')$\n    - $classic,bmh,dark\\_background,fast,grayscale,ggplot,...$\n    - **스타일 설정은 $matplotlib$에 설정하는 것이기에 한번 설정하면 다음 차트에서도 적용된다**\n- 배경 수치 범위 키우기\n    - $plt.xlim(x\\_min,x\\_max)$\n    - $plt.ylim(y\\_min,y\\_max)$\n    \n\n### 1-3. 화면 분할\n\n- 큰 그림판 생성하기\n    - $fig=plt.figure(figsize=(x\\_len,y\\_len))$\n- 분할된 그림판을 할당받는 객체 생성\n    - $ax\\_j=fig.add\\_subplot(m,n,j)$: $m\\times n$ 행렬 배치의 $j$번째 위치 그림판\n- $axe$객체에 그래프 그리기\n    - $ax\\_j.plot(data,option)$\n    - 옵션 종류\n    - 마커안 색깔: $markerfacecolor='color'$\n    - 마커 사이즈: $markersize=size$\n    - 색깔: $color='color'$\n    - 선굵기:  $linewidth='width'$\n    - 라벨: $label='txt'$\n- 그래프 영역 지정하기\n    - $ax\\_j.set\\_xlim(x\\_min,x\\_max)$\n    - $ax\\_j.set\\_ylim(y\\_min,y\\_max)$\n- 눈금 라벨 회전\n    - $ax\\_j.set\\_xticklabels(data.index,rotation=rot\\_angle)$\n- 눈금 라벨 크기 변경\n    - $ax.j\\_tick\\_params(axis='x'\\,\\, or\\,\\,'y' \\,\\,,labelsize=size)$\n- 제목추가\n    - $ax\\_j.set\\_title('name',size=x)$\n- $x,y$축 이름 추가\n    - $ax\\_j.set\\_xlabel('name',size=x)$\n    - $ax\\_j.set\\_ylabel('name',size=x)$\n- 범례\n    - $ax\\_j.legend(labels=['legend\\_name'],loc='best',font\\_size=n)$\n- 그래프 내 간격 자동조절\n    - $plt.tight\\_layout()$\n- 그래프 내 간격 수동 조절\n    - $plt.subplots\\_adjust(option=val)$\n    - $top,bottom,left,right$, $hspace$ 상하, $wspace$ 좌우 존재\n- 박스플롯\n    - $ax\\_j.boxplot(x=df[df['col\\_name_1]== n_1]['col\\_name_2],$\n        - $\\,\\,\\,\\,\\,\\,\\,\\,\\,\\,\\,\\,\\,\\,\\,\\,\\,\\,\\,\\,\\,\\,\\,\\,\\,\\,\\,\\,\\,\\,\\,\\,\\,\\,\\,\\,\\,\\,\\,\\,df[df['col\\_name_1]== n_2]['col\\_name_2],$\n        - $\\,\\,\\,\\,\\,\\,\\,\\,\\,\\,\\,\\,\\,\\,\\,\\,\\,\\,\\,\\,\\,\\,\\,\\,\\,\\,\\,\\,\\,\\,\\,\\,\\,\\,\\,\\,\\,\\,\\,\\,.....$\n        - $\\,\\,\\,\\,\\,\\,\\,\\,\\,\\,\\,\\,\\,\\,\\,\\,\\,\\,\\,\\,\\,\\,\\,\\,\\,\\,\\,\\,\\,\\,\\,\\,\\,\\,\\,\\,\\,\\,\\,\\,df[df['col\\_name_1]== n_k]['col\\_name_2]],$\n        - $\\,\\,\\,\\,\\,\\,\\,\\,\\,\\,\\,\\,\\,\\,\\,\\,\\,\\,\\,\\,\\,\\,\\,\\,\\,\\,\\,\\,\\,\\,\\,\\,\\,\\,\\,\\,\\,\\,\\,\\,labels=['name_1','name_2',...,'name_k']$\n        - $\\,\\,\\,\\,\\,\\,\\,\\,\\,\\,\\,\\,\\,\\,\\,\\,\\,\\,\\,\\,\\,\\,\\,\\,\\,\\,\\,\\,\\,\\,\\,\\,\\,\\,\\,\\,\\,\\,\\,\\, vert\\,\\,=\\,\\,True\\,\\,or\\,\\,False)$",
   "metadata": {
    "cell_id": "d41e4522f2b84eb19af93d4a7cda15dd",
    "tags": [],
    "owner_user_id": "6620e961-4734-4451-b6f0-024902f1a0c6",
    "deepnote_cell_type": "markdown",
    "deepnote_cell_height": 2811.046875
   }
  },
  {
   "cell_type": "markdown",
   "source": "",
   "metadata": {
    "cell_id": "24c9b2c5dd234c98bdd1c85732f0187e",
    "tags": [],
    "deepnote_cell_type": "markdown",
    "deepnote_cell_height": 46
   }
  },
  {
   "cell_type": "markdown",
   "source": "<a style='text-decoration:none;line-height:16px;display:flex;color:#5B5B62;padding:10px;justify-content:end;' href='https://deepnote.com?utm_source=created-in-deepnote-cell&projectId=5a548db0-9bec-4ed6-b090-9c062f32efdb' target=\"_blank\">\n<img alt='Created in deepnote.com' style='display:inline;max-height:16px;margin:0px;margin-right:7.5px;' src='data:image/svg+xml;base64,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' > </img>\nCreated in <span style='font-weight:600;margin-left:4px;'>Deepnote</span></a>",
   "metadata": {
    "tags": [],
    "created_in_deepnote_cell": true,
    "deepnote_cell_type": "markdown"
   }
  }
 ],
 "nbformat": 4,
 "nbformat_minor": 2,
 "metadata": {
  "orig_nbformat": 2,
  "deepnote": {},
  "deepnote_notebook_id": "3c2993b7-098d-415e-a0c0-0dc83e466730",
  "deepnote_execution_queue": []
 }
}